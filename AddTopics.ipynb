{
 "cells": [
  {
   "cell_type": "code",
   "execution_count": 29,
   "id": "07443f6d-86d7-4246-b16e-a693f9e5aa1d",
   "metadata": {},
   "outputs": [],
   "source": [
    "from sklearn.feature_extraction.text import CountVectorizer\n",
    "from sklearn.feature_extraction.text import TfidfTransformer\n",
    "from sklearn.decomposition import LatentDirichletAllocation as LDA\n",
    "from nltk.corpus import stopwords\n",
    "import numpy as np\n",
    "import pandas as pd\n",
    "import csv\n",
    "import re"
   ]
  },
  {
   "cell_type": "code",
   "execution_count": 30,
   "id": "a38638e7-5b70-497e-927d-d7a87c1f770b",
   "metadata": {},
   "outputs": [],
   "source": [
    "msg = 'NAV ILS RWY 27 LOC/GP OUT OF SERVICE'"
   ]
  },
  {
   "cell_type": "code",
   "execution_count": 31,
   "id": "0b456dba-9c2d-4c12-927a-d05ea4bc20d0",
   "metadata": {},
   "outputs": [],
   "source": [
    "abbrev_dict = {}\n",
    "\n",
    "with open('data/Contractions (Clean).csv', mode='r') as infile:\n",
    "    reader = csv.reader(infile)\n",
    "    next(reader)\n",
    "    abbrev_dict = {rows[0]:rows[1] for rows in reader}\n",
    "    \n",
    "def expandNotam(msg):\n",
    "    new_string = re.sub(r\"[^a-zA-Z]\",\" \",str(msg))\n",
    "    new_msg = ''\n",
    "    for wrd in new_string.split():        \n",
    "        try:\n",
    "            new_msg = new_msg + ' ' + abbrev_dict[wrd]\n",
    "        except:\n",
    "            new_msg = new_msg + ' ' + wrd\n",
    "    return new_msg.lower().strip()"
   ]
  },
  {
   "cell_type": "code",
   "execution_count": 32,
   "id": "e59bccb1-7911-45d5-b1ef-f20f81c66b5d",
   "metadata": {},
   "outputs": [
    {
     "data": {
      "text/plain": [
       "'navigation instrument landing system runway locally glide path out of service'"
      ]
     },
     "execution_count": 32,
     "metadata": {},
     "output_type": "execute_result"
    }
   ],
   "source": [
    "expandNotam(msg)"
   ]
  },
  {
   "cell_type": "code",
   "execution_count": 33,
   "id": "57d29838-4507-441e-a729-a372b5865494",
   "metadata": {},
   "outputs": [
    {
     "name": "stderr",
     "output_type": "stream",
     "text": [
      "/var/folders/cj/0ysqssvs12l97gk55z1vr2mdk43v6z/T/ipykernel_39603/11989557.py:1: DtypeWarning: Columns (22,23) have mixed types. Specify dtype option on import or set low_memory=False.\n",
      "  df4 = pd.read_csv('data/notams.csv',\n"
     ]
    }
   ],
   "source": [
    "df4 = pd.read_csv('data/notams.csv', \n",
    "                  on_bad_lines='skip', \n",
    "                  encoding='utf-16', \n",
    "                  parse_dates=['POSSIBLE_START_DATE', 'POSSIBLE_END_DATE', 'ISSUE_DATE', 'CANCELED_DATE'])\n",
    "\n",
    "df4['MIN_ALT'] = df4['MIN_ALT'].replace('MSL', 0)\n",
    "df4['MAX_ALT'] = df4['MAX_ALT'].replace('MSL', 0)\n",
    "df4['MIN_ALT'] = pd.to_numeric(df4['MIN_ALT'], errors='coerce')\n",
    "df4['MAX_ALT'] = pd.to_numeric(df4['MAX_ALT'], errors='coerce')"
   ]
  },
  {
   "cell_type": "code",
   "execution_count": 34,
   "id": "499a8f98-d256-49d8-921d-a4689982b9fe",
   "metadata": {},
   "outputs": [
    {
     "name": "stdout",
     "output_type": "stream",
     "text": [
      "AIRSPACE VOLK SOUTH MOA ACT 500FT UP TO BUT NOT INCLUDING FL180\n",
      "AIRSPACE VOLK EAST MOA ACT 8000FT UP TO BUT NOT INCLUDING FL180\n",
      "AIRSPACE FALLS 1 MOA ACT 500FT UP TO BUT NOT INCLUDING FL180\n",
      "AIRSPACE FALLS 2 MOA ACT 500FT UP TO BUT NOT INCLUDING FL180\n",
      "AIRSPACE VOLK WEST MOA ACT 100FT UP TO BUT NOT INCLUDING FL180\n",
      "ILS SV 109.5 MHZ RWY 03 U/S\n",
      "CYQY ILS 07 U/S\n",
      "RWY 17/35 CLSD EXC XNG\n",
      "AIRSPACE JACKAL MOA ACT 11000FT UP TO BUT NOT INCLUDING FL180\n",
      "AIRSPACE JACKAL LOW MOA ACT 100FT-10999FT\n",
      "AIRSPACE COLUMBUS 3 MOA ACT 8000FT UP TO BUT NOT INCLUDING FL180\n",
      "AIRSPACE COLUMBUS 4 MOA ACT 10000FT UP TO BUT NOT INCLUDING FL180\n",
      "AIRSPACE AR112L(E) ACT FL190-FL230\n",
      "AIRSPACE AR112L(E) ACT FL190-FL230\n",
      "AIRSPACE AR101(S) ACT FL260-FL290\n",
      "AIRSPACE AR101(S) ACT FL260-FL290\n",
      "AIRSPACE ABEL EAST MOA ACT 5000FT-12999FT\n",
      "AIRSPACE AR20(SW) ACT FL240-FL280\n",
      "OBST - CRANE IN AREA RADIUS 20M PSN 494110N0180622E.  HGT 30M AGL/283M AMSL. DAY MARKING\n",
      "CYSB CRANE 1000 FT BEYOND THR 04 AND 1200 FT RIGHT RCL. 150 FT AGL 1293 MSL. NOT LGTD PAINTED\n"
     ]
    }
   ],
   "source": [
    "for x in df4['TEXT'].head(20):\n",
    "    print(x)"
   ]
  },
  {
   "cell_type": "code",
   "execution_count": 35,
   "id": "0bae1197-8b23-455e-8f88-8caaeef4e66a",
   "metadata": {},
   "outputs": [],
   "source": [
    "df4['TEXT'] = df4['TEXT'].apply(expandNotam)"
   ]
  },
  {
   "cell_type": "code",
   "execution_count": 36,
   "id": "b0423e44-2b70-4af1-83fa-c4b59a4629d1",
   "metadata": {},
   "outputs": [
    {
     "name": "stdout",
     "output_type": "stream",
     "text": [
      "airspace volk south military operations area active foot up to but not including flight level\n",
      "airspace volk east military operations area active foot up to but not including flight level\n",
      "airspace falls military operations area active foot up to but not including flight level\n",
      "airspace falls military operations area active foot up to but not including flight level\n",
      "airspace volk west military operations area active foot up to but not including flight level\n",
      "instrument landing system sv mhz runway intensity unknown (weather reports only) south or southern latitude\n",
      "cyqy instrument landing system intensity unknown (weather reports only) south or southern latitude\n",
      "runway closed except crossing\n",
      "airspace jackal military operations area active foot up to but not including flight level\n",
      "airspace jackal low military operations area active foot foot\n",
      "airspace columbus military operations area active foot up to but not including flight level\n",
      "airspace columbus military operations area active foot up to but not including flight level\n",
      "airspace atlantic route locator east or eastern longitude active flight level flight level\n",
      "airspace atlantic route locator east or eastern longitude active flight level flight level\n",
      "airspace atlantic route south or southern latitude active flight level flight level\n",
      "airspace atlantic route south or southern latitude active flight level flight level\n",
      "airspace abel east military operations area active foot foot\n",
      "airspace atlantic route southwest active flight level flight level\n",
      "obstruct crane inch area radius mountain standard time (time groups only) position north or northern latitude east or eastern longitude height mountain standard time (time groups only) agl mountain standard time (time groups only) above mean sea level day marking\n",
      "cysb crane foot beyond threshold and foot right runway center line foot agl mean sea level not lighted painted\n"
     ]
    }
   ],
   "source": [
    "for x in df4['TEXT'].head(20):\n",
    "    print(x)"
   ]
  },
  {
   "cell_type": "code",
   "execution_count": 37,
   "id": "dd68c8ad-ca34-4399-a6b9-99d0c87f28d5",
   "metadata": {},
   "outputs": [
    {
     "data": {
      "text/plain": [
       "matrix([[0, 0, 0, ..., 0, 0, 0],\n",
       "        [0, 0, 0, ..., 0, 0, 0],\n",
       "        [0, 0, 0, ..., 0, 0, 0],\n",
       "        ...,\n",
       "        [0, 0, 0, ..., 0, 0, 0],\n",
       "        [0, 0, 0, ..., 0, 0, 0],\n",
       "        [0, 0, 0, ..., 0, 0, 0]])"
      ]
     },
     "execution_count": 37,
     "metadata": {},
     "output_type": "execute_result"
    }
   ],
   "source": [
    "corpus = df4['TEXT'].values\n",
    "\n",
    "count_vect = CountVectorizer(stop_words=stopwords.words('english'), lowercase=True)\n",
    "x_counts = count_vect.fit_transform(corpus)\n",
    "x_counts.todense()"
   ]
  },
  {
   "cell_type": "code",
   "execution_count": 38,
   "id": "93065dd5-9078-42ee-8ef9-319b86c45248",
   "metadata": {},
   "outputs": [],
   "source": [
    "tfidf_transformer = TfidfTransformer()\n",
    "x_tfidf = tfidf_transformer.fit_transform(x_counts)"
   ]
  },
  {
   "cell_type": "code",
   "execution_count": 39,
   "id": "d24a3fa5-f170-4a08-aa91-28e4996dbe08",
   "metadata": {},
   "outputs": [],
   "source": [
    "dimension = 7\n",
    "sample_size = 50000\n",
    "\n",
    "sample = x_tfidf[np.random.choice(x_tfidf.shape[0], sample_size, replace=False, ), :]\n",
    "\n",
    "lda = LDA(n_components = dimension)\n",
    "lda_array = lda.fit_transform(sample)"
   ]
  },
  {
   "cell_type": "code",
   "execution_count": 40,
   "id": "2e2c738a-3cac-44b6-86a1-8bc9743a1035",
   "metadata": {},
   "outputs": [],
   "source": [
    "topic_vec = lda.transform(x_tfidf)\n",
    "\n",
    "df4['TOPIC'] = np.argmax(topic_vec, axis = 1)"
   ]
  },
  {
   "cell_type": "code",
   "execution_count": 41,
   "id": "cb838e5d-b528-4f78-800a-73f10200eafd",
   "metadata": {},
   "outputs": [],
   "source": [
    "import pickle\n",
    "\n",
    "df4.to_pickle(\"data/allData.pkl\")"
   ]
  },
  {
   "cell_type": "code",
   "execution_count": 42,
   "id": "32c5275e-203d-41ea-9fbf-6ea67cd0eaac",
   "metadata": {},
   "outputs": [
    {
     "data": {
      "text/plain": [
       "{0: ['active',\n",
       "  'time',\n",
       "  'airspace',\n",
       "  'area',\n",
       "  'level',\n",
       "  'foot',\n",
       "  'restricted',\n",
       "  'flight'],\n",
       " 1: ['foot', 'data', 'center', 'west', 'mile', 'nautical', 'agl', 'obstruct'],\n",
       " 2: ['taxiway',\n",
       "  'temperature',\n",
       "  'absolute',\n",
       "  'blue',\n",
       "  'east',\n",
       "  'eastern',\n",
       "  'monitoring',\n",
       "  'receiver'],\n",
       " 3: ['runway',\n",
       "  'system',\n",
       "  'navigation',\n",
       "  'service',\n",
       "  'landing',\n",
       "  'instrument',\n",
       "  'intensity',\n",
       "  'unknown'],\n",
       " 4: ['range',\n",
       "  'omnidirectional',\n",
       "  'vhf',\n",
       "  'radio',\n",
       "  'measuring',\n",
       "  'distance',\n",
       "  'equipment',\n",
       "  'navigation'],\n",
       " 5: ['aerodrome',\n",
       "  'information',\n",
       "  'aeronautical',\n",
       "  'area',\n",
       "  'available',\n",
       "  'publication',\n",
       "  'control',\n",
       "  'aircraft'],\n",
       " 6: ['longitude',\n",
       "  'eastern',\n",
       "  'east',\n",
       "  'northern',\n",
       "  'north',\n",
       "  'latitude',\n",
       "  'western',\n",
       "  'west']}"
      ]
     },
     "execution_count": 42,
     "metadata": {},
     "output_type": "execute_result"
    }
   ],
   "source": [
    "def ntopwlst(model, features, ntopwords):\n",
    "    '''create a list of the top topc words'''\n",
    "    output = {}\n",
    "    for topic_idx, topic in enumerate(model.components_):\n",
    "        tmp = []\n",
    "        tmp += [features[i] for i in topic.argsort()[:-ntopwords - 1:-1]] \n",
    "        output[topic_idx] = tmp\n",
    "    return output\n",
    "\n",
    "ntopwords = 8\n",
    "features = count_vect.get_feature_names_out()\n",
    "topwds = ntopwlst(lda, features, ntopwords)\n",
    "topwds"
   ]
  },
  {
   "cell_type": "code",
   "execution_count": 15,
   "id": "b8352f4c-458d-4862-87f4-17cd8b469ea0",
   "metadata": {},
   "outputs": [
    {
     "name": "stdout",
     "output_type": "stream",
     "text": [
      "Number of Topics 1 : 153899.6478158038\n",
      "Number of Topics 2 : 247577.16023022588\n",
      "Number of Topics 3 : 329083.8305234153\n",
      "Number of Topics 4 : 458125.7639955059\n",
      "Number of Topics 5 : 602297.4883216338\n",
      "Number of Topics 6 : 720805.2679703971\n",
      "Number of Topics 7 : 802917.9499750045\n",
      "Number of Topics 8 : 821049.810728881\n",
      "Number of Topics 9 : 1323281.7831801735\n",
      "Number of Topics 10 : 1681283.08297869\n",
      "Number of Topics 11 : 1769210.0481887187\n",
      "Number of Topics 12 : 2305851.448527696\n",
      "Number of Topics 13 : 2641919.3607822857\n",
      "Number of Topics 14 : 2423484.94348105\n",
      "Number of Topics 15 : 3051007.8765897225\n",
      "Number of Topics 16 : 3616690.8947409424\n",
      "Number of Topics 17 : 4054752.7126122285\n",
      "Number of Topics 18 : 4875565.078997995\n",
      "Number of Topics 19 : 5077153.110289168\n",
      "Number of Topics 20 : 4191133.9823292303\n",
      "Number of Topics 21 : 6905168.172083181\n",
      "Number of Topics 22 : 7161821.9239946855\n",
      "Number of Topics 23 : 9284455.495756088\n",
      "Number of Topics 24 : 8359949.458433262\n"
     ]
    }
   ],
   "source": [
    "sample_size = 60000\n",
    "test_size = 5000\n",
    "sample = x_tfidf[np.random.choice(x_tfidf.shape[0], sample_size, replace=False), :]\n",
    "test = x_tfidf[np.random.choice(x_tfidf.shape[0], test_size, replace=False), :]\n",
    "\n",
    "for dimension in range(1,25):\n",
    "\n",
    "    lda = LDA(n_components = dimension)\n",
    "    lda_array = lda.fit_transform(sample)\n",
    "\n",
    "    print(\"Number of Topics\", dimension, \":\", lda.perplexity(test))"
   ]
  }
 ],
 "metadata": {
  "kernelspec": {
   "display_name": "Python 3 (ipykernel)",
   "language": "python",
   "name": "python3"
  },
  "language_info": {
   "codemirror_mode": {
    "name": "ipython",
    "version": 3
   },
   "file_extension": ".py",
   "mimetype": "text/x-python",
   "name": "python",
   "nbconvert_exporter": "python",
   "pygments_lexer": "ipython3",
   "version": "3.8.2"
  }
 },
 "nbformat": 4,
 "nbformat_minor": 5
}
