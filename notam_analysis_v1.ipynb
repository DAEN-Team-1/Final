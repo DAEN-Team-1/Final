{
 "cells": [
  {
   "cell_type": "markdown",
   "id": "ad38d077-549f-43c4-881f-c5eb882cfe2c",
   "metadata": {},
   "source": [
    "# NOTAM Analysis\n",
    "\n",
    "Please note that the data for this analysis is saved locally in a `data` folder that is one level above (a parent folder) to where the [GitHub](https://github.com/DAEN-Team-1/Final \"GitHub\") files have been saved. This was done because a lot of the data files are too large to be included in the GitHub repoo."
   ]
  },
  {
   "cell_type": "code",
   "execution_count": 1,
   "id": "c7378ccc-3a46-42e7-be8c-22488c1ad313",
   "metadata": {},
   "outputs": [],
   "source": [
    "# imports\n",
    "import pandas as pd\n",
    "# import bamboolib as bam"
   ]
  },
  {
   "cell_type": "code",
   "execution_count": 2,
   "id": "328a05f0-85e2-4eb9-846b-a1bdc8faf586",
   "metadata": {},
   "outputs": [
    {
     "name": "stderr",
     "output_type": "stream",
     "text": [
      "/var/folders/wk/_x7mg1g17x70jm9czv01yk_r0000gp/T/ipykernel_86593/232320566.py:3: DtypeWarning: Columns (22,23) have mixed types. Specify dtype option on import or set low_memory=False.\n",
      "  df = pd.read_csv('../data/notams.csv', on_bad_lines='skip', encoding='utf-16', parse_dates=date_cols)\n"
     ]
    }
   ],
   "source": [
    "# read data\n",
    "#            not                     parsed               not           not\n",
    "date_cols = ['POSSIBLE_START_DATE', 'POSSIBLE_END_DATE', 'ISSUE_DATE', 'CANCELED_DATE']\n",
    "df = pd.read_csv('../data/notams.csv', on_bad_lines='skip', encoding='utf-16', parse_dates=date_cols)"
   ]
  },
  {
   "cell_type": "markdown",
   "id": "3b1fad21-f798-46bd-9869-44a2fe6d1d43",
   "metadata": {},
   "source": [
    "Look at first few rows of data"
   ]
  },
  {
   "cell_type": "code",
   "execution_count": 3,
   "id": "dc5259c2-e0f4-42b6-84a8-3939c4d101c5",
   "metadata": {},
   "outputs": [
    {
     "data": {
      "text/html": [
       "<div>\n",
       "<style scoped>\n",
       "    .dataframe tbody tr th:only-of-type {\n",
       "        vertical-align: middle;\n",
       "    }\n",
       "\n",
       "    .dataframe tbody tr th {\n",
       "        vertical-align: top;\n",
       "    }\n",
       "\n",
       "    .dataframe thead th {\n",
       "        text-align: right;\n",
       "    }\n",
       "</style>\n",
       "<table border=\"1\" class=\"dataframe\">\n",
       "  <thead>\n",
       "    <tr style=\"text-align: right;\">\n",
       "      <th></th>\n",
       "      <th>NOTAM_REC_ID</th>\n",
       "      <th>FNS_ID</th>\n",
       "      <th>FILENAME</th>\n",
       "      <th>NOTAM_ID</th>\n",
       "      <th>NOTAM_TYPE</th>\n",
       "      <th>RELATED_NOTAM_ID</th>\n",
       "      <th>SIMPLE_TEXT</th>\n",
       "      <th>LOC_ID_ACCOUNTABLE_ORG</th>\n",
       "      <th>NOTAM_NUMBER</th>\n",
       "      <th>RELATED_NOTAM_NUMBER</th>\n",
       "      <th>...</th>\n",
       "      <th>POSSIBLE_END_DATE</th>\n",
       "      <th>ISSUE_DATE</th>\n",
       "      <th>CANCELED_DATE</th>\n",
       "      <th>AFFECTED_FIR</th>\n",
       "      <th>DESIGNATOR</th>\n",
       "      <th>DESIGNATOR_NAME</th>\n",
       "      <th>LOCATION_NAME</th>\n",
       "      <th>ACCOUNT_ID</th>\n",
       "      <th>LOCATION_CODE</th>\n",
       "      <th>LAUNCHES_REC_ID</th>\n",
       "    </tr>\n",
       "  </thead>\n",
       "  <tbody>\n",
       "    <tr>\n",
       "      <th>0</th>\n",
       "      <td>1</td>\n",
       "      <td>FNS_ID_43130705</td>\n",
       "      <td>E:\\Working\\Sherlock_NOTAM_Data\\Temporary\\notam...</td>\n",
       "      <td>0604/16</td>\n",
       "      <td>NaN</td>\n",
       "      <td>NaN</td>\n",
       "      <td>!SUAC 05/604 ZAU AIRSPACE VOLK SOUTH MOA ACT 5...</td>\n",
       "      <td>SUAC</td>\n",
       "      <td>05/604</td>\n",
       "      <td>NaN</td>\n",
       "      <td>...</td>\n",
       "      <td>2016-05-24 19:45:00</td>\n",
       "      <td>2016-05-24 04:35:00</td>\n",
       "      <td>2016-05-24 12:10:00</td>\n",
       "      <td>NaN</td>\n",
       "      <td>NaN</td>\n",
       "      <td>NaN</td>\n",
       "      <td>ZAU ARTCC</td>\n",
       "      <td>SUAC</td>\n",
       "      <td>ZAU</td>\n",
       "      <td>NaN</td>\n",
       "    </tr>\n",
       "    <tr>\n",
       "      <th>1</th>\n",
       "      <td>2</td>\n",
       "      <td>FNS_ID_43130704</td>\n",
       "      <td>E:\\Working\\Sherlock_NOTAM_Data\\Temporary\\notam...</td>\n",
       "      <td>0603/16</td>\n",
       "      <td>NaN</td>\n",
       "      <td>NaN</td>\n",
       "      <td>!SUAC 05/603 ZAU AIRSPACE VOLK EAST MOA ACT 80...</td>\n",
       "      <td>SUAC</td>\n",
       "      <td>05/603</td>\n",
       "      <td>NaN</td>\n",
       "      <td>...</td>\n",
       "      <td>2016-05-24 19:45:00</td>\n",
       "      <td>2016-05-24 04:35:00</td>\n",
       "      <td>2016-05-24 12:10:00</td>\n",
       "      <td>NaN</td>\n",
       "      <td>NaN</td>\n",
       "      <td>NaN</td>\n",
       "      <td>ZAU ARTCC</td>\n",
       "      <td>SUAC</td>\n",
       "      <td>ZAU</td>\n",
       "      <td>NaN</td>\n",
       "    </tr>\n",
       "    <tr>\n",
       "      <th>2</th>\n",
       "      <td>3</td>\n",
       "      <td>FNS_ID_43130706</td>\n",
       "      <td>E:\\Working\\Sherlock_NOTAM_Data\\Temporary\\notam...</td>\n",
       "      <td>0605/16</td>\n",
       "      <td>NaN</td>\n",
       "      <td>NaN</td>\n",
       "      <td>!SUAC 05/605 ZMP AIRSPACE FALLS 1 MOA ACT 500F...</td>\n",
       "      <td>SUAC</td>\n",
       "      <td>05/605</td>\n",
       "      <td>NaN</td>\n",
       "      <td>...</td>\n",
       "      <td>2016-05-24 19:45:00</td>\n",
       "      <td>2016-05-24 04:35:00</td>\n",
       "      <td>2016-05-24 12:10:00</td>\n",
       "      <td>NaN</td>\n",
       "      <td>NaN</td>\n",
       "      <td>NaN</td>\n",
       "      <td>ZMP ARTCC</td>\n",
       "      <td>SUAC</td>\n",
       "      <td>ZMP</td>\n",
       "      <td>NaN</td>\n",
       "    </tr>\n",
       "    <tr>\n",
       "      <th>3</th>\n",
       "      <td>4</td>\n",
       "      <td>FNS_ID_43130708</td>\n",
       "      <td>E:\\Working\\Sherlock_NOTAM_Data\\Temporary\\notam...</td>\n",
       "      <td>0607/16</td>\n",
       "      <td>NaN</td>\n",
       "      <td>NaN</td>\n",
       "      <td>!SUAC 05/607 ZMP AIRSPACE FALLS 2 MOA ACT 500F...</td>\n",
       "      <td>SUAC</td>\n",
       "      <td>05/607</td>\n",
       "      <td>NaN</td>\n",
       "      <td>...</td>\n",
       "      <td>2016-05-24 19:45:00</td>\n",
       "      <td>2016-05-24 04:35:00</td>\n",
       "      <td>2016-05-24 12:10:00</td>\n",
       "      <td>NaN</td>\n",
       "      <td>NaN</td>\n",
       "      <td>NaN</td>\n",
       "      <td>ZMP ARTCC</td>\n",
       "      <td>SUAC</td>\n",
       "      <td>ZMP</td>\n",
       "      <td>NaN</td>\n",
       "    </tr>\n",
       "    <tr>\n",
       "      <th>4</th>\n",
       "      <td>5</td>\n",
       "      <td>FNS_ID_43130703</td>\n",
       "      <td>E:\\Working\\Sherlock_NOTAM_Data\\Temporary\\notam...</td>\n",
       "      <td>0602/16</td>\n",
       "      <td>NaN</td>\n",
       "      <td>NaN</td>\n",
       "      <td>!SUAC 05/602 ZMP AIRSPACE VOLK WEST MOA ACT 10...</td>\n",
       "      <td>SUAC</td>\n",
       "      <td>05/602</td>\n",
       "      <td>NaN</td>\n",
       "      <td>...</td>\n",
       "      <td>2016-05-24 19:45:00</td>\n",
       "      <td>2016-05-24 04:35:00</td>\n",
       "      <td>2016-05-24 12:10:00</td>\n",
       "      <td>NaN</td>\n",
       "      <td>NaN</td>\n",
       "      <td>NaN</td>\n",
       "      <td>ZMP ARTCC</td>\n",
       "      <td>SUAC</td>\n",
       "      <td>ZMP</td>\n",
       "      <td>NaN</td>\n",
       "    </tr>\n",
       "  </tbody>\n",
       "</table>\n",
       "<p>5 rows × 37 columns</p>\n",
       "</div>"
      ],
      "text/plain": [
       "   NOTAM_REC_ID           FNS_ID  \\\n",
       "0             1  FNS_ID_43130705   \n",
       "1             2  FNS_ID_43130704   \n",
       "2             3  FNS_ID_43130706   \n",
       "3             4  FNS_ID_43130708   \n",
       "4             5  FNS_ID_43130703   \n",
       "\n",
       "                                            FILENAME NOTAM_ID NOTAM_TYPE  \\\n",
       "0  E:\\Working\\Sherlock_NOTAM_Data\\Temporary\\notam...  0604/16        NaN   \n",
       "1  E:\\Working\\Sherlock_NOTAM_Data\\Temporary\\notam...  0603/16        NaN   \n",
       "2  E:\\Working\\Sherlock_NOTAM_Data\\Temporary\\notam...  0605/16        NaN   \n",
       "3  E:\\Working\\Sherlock_NOTAM_Data\\Temporary\\notam...  0607/16        NaN   \n",
       "4  E:\\Working\\Sherlock_NOTAM_Data\\Temporary\\notam...  0602/16        NaN   \n",
       "\n",
       "  RELATED_NOTAM_ID                                        SIMPLE_TEXT  \\\n",
       "0              NaN  !SUAC 05/604 ZAU AIRSPACE VOLK SOUTH MOA ACT 5...   \n",
       "1              NaN  !SUAC 05/603 ZAU AIRSPACE VOLK EAST MOA ACT 80...   \n",
       "2              NaN  !SUAC 05/605 ZMP AIRSPACE FALLS 1 MOA ACT 500F...   \n",
       "3              NaN  !SUAC 05/607 ZMP AIRSPACE FALLS 2 MOA ACT 500F...   \n",
       "4              NaN  !SUAC 05/602 ZMP AIRSPACE VOLK WEST MOA ACT 10...   \n",
       "\n",
       "  LOC_ID_ACCOUNTABLE_ORG NOTAM_NUMBER RELATED_NOTAM_NUMBER  ...  \\\n",
       "0                   SUAC       05/604                  NaN  ...   \n",
       "1                   SUAC       05/603                  NaN  ...   \n",
       "2                   SUAC       05/605                  NaN  ...   \n",
       "3                   SUAC       05/607                  NaN  ...   \n",
       "4                   SUAC       05/602                  NaN  ...   \n",
       "\n",
       "    POSSIBLE_END_DATE           ISSUE_DATE        CANCELED_DATE AFFECTED_FIR  \\\n",
       "0 2016-05-24 19:45:00  2016-05-24 04:35:00  2016-05-24 12:10:00          NaN   \n",
       "1 2016-05-24 19:45:00  2016-05-24 04:35:00  2016-05-24 12:10:00          NaN   \n",
       "2 2016-05-24 19:45:00  2016-05-24 04:35:00  2016-05-24 12:10:00          NaN   \n",
       "3 2016-05-24 19:45:00  2016-05-24 04:35:00  2016-05-24 12:10:00          NaN   \n",
       "4 2016-05-24 19:45:00  2016-05-24 04:35:00  2016-05-24 12:10:00          NaN   \n",
       "\n",
       "  DESIGNATOR DESIGNATOR_NAME LOCATION_NAME ACCOUNT_ID LOCATION_CODE  \\\n",
       "0        NaN             NaN     ZAU ARTCC       SUAC           ZAU   \n",
       "1        NaN             NaN     ZAU ARTCC       SUAC           ZAU   \n",
       "2        NaN             NaN     ZMP ARTCC       SUAC           ZMP   \n",
       "3        NaN             NaN     ZMP ARTCC       SUAC           ZMP   \n",
       "4        NaN             NaN     ZMP ARTCC       SUAC           ZMP   \n",
       "\n",
       "  LAUNCHES_REC_ID  \n",
       "0             NaN  \n",
       "1             NaN  \n",
       "2             NaN  \n",
       "3             NaN  \n",
       "4             NaN  \n",
       "\n",
       "[5 rows x 37 columns]"
      ]
     },
     "execution_count": 3,
     "metadata": {},
     "output_type": "execute_result"
    }
   ],
   "source": [
    "df.head()"
   ]
  },
  {
   "cell_type": "markdown",
   "id": "1eeee592-33f4-4d8a-ae16-75da751c89cb",
   "metadata": {},
   "source": [
    "Get information on the dataframe\n",
    "* 1,062,863 rows\n",
    "* 37 columns\n",
    "* With the exception of `NOTAM_REC_ID` and `LAUNCHES_REC_ID`, all fields appear to be strings. \n",
    "    * This may require updating in order to \n",
    "* Aside from `LAUNCHES_REC_ID`, most columns have only a few hundred non-null entries, suggesting that the data is very sparse"
   ]
  },
  {
   "cell_type": "code",
   "execution_count": 4,
   "id": "18ca3d97-8afa-49a8-baad-d194f65a191d",
   "metadata": {},
   "outputs": [
    {
     "name": "stdout",
     "output_type": "stream",
     "text": [
      "<class 'pandas.core.frame.DataFrame'>\n",
      "RangeIndex: 1062038 entries, 0 to 1062037\n",
      "Data columns (total 37 columns):\n",
      " #   Column                  Non-Null Count    Dtype         \n",
      "---  ------                  --------------    -----         \n",
      " 0   NOTAM_REC_ID            1062038 non-null  int64         \n",
      " 1   FNS_ID                  1062038 non-null  object        \n",
      " 2   FILENAME                1062038 non-null  object        \n",
      " 3   NOTAM_ID                1062023 non-null  object        \n",
      " 4   NOTAM_TYPE              923865 non-null   object        \n",
      " 5   RELATED_NOTAM_ID        242320 non-null   object        \n",
      " 6   SIMPLE_TEXT             544152 non-null   object        \n",
      " 7   LOC_ID_ACCOUNTABLE_ORG  518500 non-null   object        \n",
      " 8   NOTAM_NUMBER            516560 non-null   object        \n",
      " 9   RELATED_NOTAM_NUMBER    92813 non-null    object        \n",
      " 10  TEXT                    1055996 non-null  object        \n",
      " 11  Q_CODE                  645876 non-null   object        \n",
      " 12  Q_CODE_INTERPRETATION   464529 non-null   object        \n",
      " 13  A_CODE                  740071 non-null   object        \n",
      " 14  B_CODE                  629954 non-null   object        \n",
      " 15  C_CODE                  536847 non-null   object        \n",
      " 16  D_CODE                  107856 non-null   object        \n",
      " 17  E_CODE                  1061799 non-null  object        \n",
      " 18  F_CODE                  649479 non-null   object        \n",
      " 19  G_CODE                  649538 non-null   object        \n",
      " 20  CLASSIFICATION          1062019 non-null  object        \n",
      " 21  POSSIBLE_NOTAM_ID       1062022 non-null  object        \n",
      " 22  MIN_ALT                 756978 non-null   object        \n",
      " 23  MAX_ALT                 724423 non-null   object        \n",
      " 24  MIN_ALT_REF_TYPE        669489 non-null   object        \n",
      " 25  MAX_ALT_REF_TYPE        626849 non-null   object        \n",
      " 26  POSSIBLE_START_DATE     1062036 non-null  object        \n",
      " 27  POSSIBLE_END_DATE       1047838 non-null  datetime64[ns]\n",
      " 28  ISSUE_DATE              1062022 non-null  object        \n",
      " 29  CANCELED_DATE           198252 non-null   object        \n",
      " 30  AFFECTED_FIR            641896 non-null   object        \n",
      " 31  DESIGNATOR              262809 non-null   object        \n",
      " 32  DESIGNATOR_NAME         238874 non-null   object        \n",
      " 33  LOCATION_NAME           1048799 non-null  object        \n",
      " 34  ACCOUNT_ID              1061864 non-null  object        \n",
      " 35  LOCATION_CODE           1061805 non-null  object        \n",
      " 36  LAUNCHES_REC_ID         0 non-null        float64       \n",
      "dtypes: datetime64[ns](1), float64(1), int64(1), object(34)\n",
      "memory usage: 299.8+ MB\n"
     ]
    }
   ],
   "source": [
    "df.info()"
   ]
  },
  {
   "cell_type": "markdown",
   "id": "7ba57044-215c-4c74-a97f-453450a00ada",
   "metadata": {},
   "source": [
    "Get summary stats"
   ]
  },
  {
   "cell_type": "code",
   "execution_count": 5,
   "id": "6172b1b2-2fb4-4723-8d27-8d3904623461",
   "metadata": {},
   "outputs": [
    {
     "data": {
      "text/html": [
       "<div>\n",
       "<style scoped>\n",
       "    .dataframe tbody tr th:only-of-type {\n",
       "        vertical-align: middle;\n",
       "    }\n",
       "\n",
       "    .dataframe tbody tr th {\n",
       "        vertical-align: top;\n",
       "    }\n",
       "\n",
       "    .dataframe thead th {\n",
       "        text-align: right;\n",
       "    }\n",
       "</style>\n",
       "<table border=\"1\" class=\"dataframe\">\n",
       "  <thead>\n",
       "    <tr style=\"text-align: right;\">\n",
       "      <th></th>\n",
       "      <th>NOTAM_REC_ID</th>\n",
       "      <th>LAUNCHES_REC_ID</th>\n",
       "    </tr>\n",
       "  </thead>\n",
       "  <tbody>\n",
       "    <tr>\n",
       "      <th>count</th>\n",
       "      <td>1.062038e+06</td>\n",
       "      <td>0.0</td>\n",
       "    </tr>\n",
       "    <tr>\n",
       "      <th>mean</th>\n",
       "      <td>5.314754e+05</td>\n",
       "      <td>NaN</td>\n",
       "    </tr>\n",
       "    <tr>\n",
       "      <th>std</th>\n",
       "      <td>3.068384e+05</td>\n",
       "      <td>NaN</td>\n",
       "    </tr>\n",
       "    <tr>\n",
       "      <th>min</th>\n",
       "      <td>1.000000e+00</td>\n",
       "      <td>NaN</td>\n",
       "    </tr>\n",
       "    <tr>\n",
       "      <th>25%</th>\n",
       "      <td>2.657342e+05</td>\n",
       "      <td>NaN</td>\n",
       "    </tr>\n",
       "    <tr>\n",
       "      <th>50%</th>\n",
       "      <td>5.315025e+05</td>\n",
       "      <td>NaN</td>\n",
       "    </tr>\n",
       "    <tr>\n",
       "      <th>75%</th>\n",
       "      <td>7.972258e+05</td>\n",
       "      <td>NaN</td>\n",
       "    </tr>\n",
       "    <tr>\n",
       "      <th>max</th>\n",
       "      <td>1.062868e+06</td>\n",
       "      <td>NaN</td>\n",
       "    </tr>\n",
       "  </tbody>\n",
       "</table>\n",
       "</div>"
      ],
      "text/plain": [
       "       NOTAM_REC_ID  LAUNCHES_REC_ID\n",
       "count  1.062038e+06              0.0\n",
       "mean   5.314754e+05              NaN\n",
       "std    3.068384e+05              NaN\n",
       "min    1.000000e+00              NaN\n",
       "25%    2.657342e+05              NaN\n",
       "50%    5.315025e+05              NaN\n",
       "75%    7.972258e+05              NaN\n",
       "max    1.062868e+06              NaN"
      ]
     },
     "execution_count": 5,
     "metadata": {},
     "output_type": "execute_result"
    }
   ],
   "source": [
    "df.describe()"
   ]
  },
  {
   "cell_type": "markdown",
   "id": "39bf3228-ba87-4c53-9490-52bfcc2ae08f",
   "metadata": {},
   "source": [
    "## Examine column by column"
   ]
  },
  {
   "cell_type": "markdown",
   "id": "62695a17-84e4-4ce8-8a14-9c034c668f71",
   "metadata": {},
   "source": [
    "#### NOTAM_REC_ID\n",
    "* Seems to be a zero-indexed, sequence of indexes."
   ]
  },
  {
   "cell_type": "code",
   "execution_count": 6,
   "id": "575fbef4-d52b-4cd3-b95a-18307e85e5e9",
   "metadata": {},
   "outputs": [
    {
     "data": {
      "text/plain": [
       "0                1\n",
       "1                2\n",
       "2                3\n",
       "3                4\n",
       "4                5\n",
       "            ...   \n",
       "1062033    1062864\n",
       "1062034    1062865\n",
       "1062035    1062866\n",
       "1062036    1062867\n",
       "1062037    1062868\n",
       "Name: NOTAM_REC_ID, Length: 1062038, dtype: int64"
      ]
     },
     "execution_count": 6,
     "metadata": {},
     "output_type": "execute_result"
    }
   ],
   "source": [
    "df['NOTAM_REC_ID']"
   ]
  },
  {
   "cell_type": "markdown",
   "id": "376a4224-ac7d-41b6-8875-9ab6e2a62631",
   "metadata": {},
   "source": [
    "#### FNS_ID\n",
    "* "
   ]
  },
  {
   "cell_type": "code",
   "execution_count": 7,
   "id": "0736873d-e432-4a46-a478-d83e4f5a6d0b",
   "metadata": {},
   "outputs": [
    {
     "data": {
      "text/plain": [
       "0          FNS_ID_43130705\n",
       "1          FNS_ID_43130704\n",
       "2          FNS_ID_43130706\n",
       "3          FNS_ID_43130708\n",
       "4          FNS_ID_43130703\n",
       "                ...       \n",
       "1062033    FNS_ID_57055569\n",
       "1062034    FNS_ID_57055570\n",
       "1062035    FNS_ID_57055571\n",
       "1062036    FNS_ID_57055572\n",
       "1062037    FNS_ID_57055573\n",
       "Name: FNS_ID, Length: 1062038, dtype: object"
      ]
     },
     "execution_count": 7,
     "metadata": {},
     "output_type": "execute_result"
    }
   ],
   "source": [
    "df['FNS_ID']"
   ]
  },
  {
   "cell_type": "markdown",
   "id": "188a2117-fde1-48c5-8ebc-540f09b1b546",
   "metadata": {},
   "source": [
    "#### FILENAME\n",
    "* Do we have access to these files?"
   ]
  },
  {
   "cell_type": "code",
   "execution_count": 8,
   "id": "88012146-95cb-4f82-94de-931f4ca1c8a6",
   "metadata": {},
   "outputs": [
    {
     "data": {
      "text/plain": [
       "0          E:\\Working\\Sherlock_NOTAM_Data\\Temporary\\notam...\n",
       "1          E:\\Working\\Sherlock_NOTAM_Data\\Temporary\\notam...\n",
       "2          E:\\Working\\Sherlock_NOTAM_Data\\Temporary\\notam...\n",
       "3          E:\\Working\\Sherlock_NOTAM_Data\\Temporary\\notam...\n",
       "4          E:\\Working\\Sherlock_NOTAM_Data\\Temporary\\notam...\n",
       "                                 ...                        \n",
       "1062033    E:\\Working\\Sherlock_NOTAM_Data\\Temporary\\notam...\n",
       "1062034    E:\\Working\\Sherlock_NOTAM_Data\\Temporary\\notam...\n",
       "1062035    E:\\Working\\Sherlock_NOTAM_Data\\Temporary\\notam...\n",
       "1062036    E:\\Working\\Sherlock_NOTAM_Data\\Temporary\\notam...\n",
       "1062037    E:\\Working\\Sherlock_NOTAM_Data\\Temporary\\notam...\n",
       "Name: FILENAME, Length: 1062038, dtype: object"
      ]
     },
     "execution_count": 8,
     "metadata": {},
     "output_type": "execute_result"
    }
   ],
   "source": [
    "df['FILENAME']"
   ]
  },
  {
   "cell_type": "markdown",
   "id": "a4a5ccc9-43c9-4b76-81a7-731c7f71365e",
   "metadata": {},
   "source": [
    "#### NOTAM_ID\n",
    "* "
   ]
  },
  {
   "cell_type": "code",
   "execution_count": 9,
   "id": "620ec01d-c011-49de-9bea-4b8d6200ffa8",
   "metadata": {},
   "outputs": [
    {
     "data": {
      "text/plain": [
       "0           0604/16\n",
       "1           0603/16\n",
       "2           0605/16\n",
       "3           0607/16\n",
       "4           0602/16\n",
       "             ...   \n",
       "1062033     0635/20\n",
       "1062034     0385/20\n",
       "1062035     0018/20\n",
       "1062036     0137/20\n",
       "1062037    A1093/20\n",
       "Name: NOTAM_ID, Length: 1062038, dtype: object"
      ]
     },
     "execution_count": 9,
     "metadata": {},
     "output_type": "execute_result"
    }
   ],
   "source": [
    "df['NOTAM_ID']"
   ]
  },
  {
   "cell_type": "markdown",
   "id": "e8cd95b5-7573-46a1-8dc5-e068f03a3366",
   "metadata": {},
   "source": [
    "#### NOTAM_TYPE\n",
    "* "
   ]
  },
  {
   "cell_type": "code",
   "execution_count": 11,
   "id": "d362f2c6-9eb8-42c9-b9c6-d1b3d3eacbbd",
   "metadata": {},
   "outputs": [
    {
     "data": {
      "text/plain": [
       "0             NaN\n",
       "1             NaN\n",
       "2             NaN\n",
       "3             NaN\n",
       "4             NaN\n",
       "            ...  \n",
       "1062033    NOTAMN\n",
       "1062034    NOTAMN\n",
       "1062035       NaN\n",
       "1062036       NaN\n",
       "1062037    NOTAMN\n",
       "Name: NOTAM_TYPE, Length: 1062038, dtype: object"
      ]
     },
     "execution_count": 11,
     "metadata": {},
     "output_type": "execute_result"
    }
   ],
   "source": [
    "df['NOTAM_TYPE']"
   ]
  },
  {
   "cell_type": "code",
   "execution_count": 15,
   "id": "7890da05-4e53-45d8-a1d9-c2a133e6e0e9",
   "metadata": {},
   "outputs": [
    {
     "data": {
      "text/plain": [
       "NOTAMN    652544\n",
       "NOTAMC    185243\n",
       "NaN       138173\n",
       "NOTAMR     86078\n",
       "Name: NOTAM_TYPE, dtype: int64"
      ]
     },
     "execution_count": 15,
     "metadata": {},
     "output_type": "execute_result"
    }
   ],
   "source": [
    "df['NOTAM_TYPE'].value_counts(dropna=False)"
   ]
  }
 ],
 "metadata": {
  "kernelspec": {
   "display_name": "Python 3 (ipykernel)",
   "language": "python",
   "name": "python3"
  },
  "language_info": {
   "codemirror_mode": {
    "name": "ipython",
    "version": 3
   },
   "file_extension": ".py",
   "mimetype": "text/x-python",
   "name": "python",
   "nbconvert_exporter": "python",
   "pygments_lexer": "ipython3",
   "version": "3.9.12"
  }
 },
 "nbformat": 4,
 "nbformat_minor": 5
}
