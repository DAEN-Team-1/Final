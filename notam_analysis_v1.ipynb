{
 "cells": [
  {
   "cell_type": "markdown",
   "id": "ad38d077-549f-43c4-881f-c5eb882cfe2c",
   "metadata": {},
   "source": [
    "# NOTAM Analysis\n",
    "\n",
    "Please note that the data for this analysis is saved locally in a `data` folder that is one level above (a parent folder) to where the [GitHub](https://github.com/DAEN-Team-1/Final \"GitHub\") files have been saved. This was done because a lot of the data files are too large to be included in the GitHub repoo."
   ]
  },
  {
   "cell_type": "code",
   "execution_count": 1,
   "id": "c7378ccc-3a46-42e7-be8c-22488c1ad313",
   "metadata": {},
   "outputs": [],
   "source": [
    "# imports\n",
    "import pandas as pd\n",
    "# import bamboolib as bam"
   ]
  },
  {
   "cell_type": "code",
   "execution_count": 141,
   "id": "328a05f0-85e2-4eb9-846b-a1bdc8faf586",
   "metadata": {},
   "outputs": [
    {
     "name": "stderr",
     "output_type": "stream",
     "text": [
      "/var/folders/wk/_x7mg1g17x70jm9czv01yk_r0000gp/T/ipykernel_86593/115128146.py:4: DtypeWarning: Columns (22,23) have mixed types. Specify dtype option on import or set low_memory=False.\n",
      "  df = pd.read_csv('../data/notams.csv', on_bad_lines='skip', encoding='utf-16', parse_dates=date_cols)\n"
     ]
    }
   ],
   "source": [
    "# read data\n",
    "#            not                     parsed               not           not\n",
    "date_cols = ['POSSIBLE_START_DATE', 'POSSIBLE_END_DATE', 'ISSUE_DATE', 'CANCELED_DATE']\n",
    "df = pd.read_csv('../data/notams.csv', on_bad_lines='skip', encoding='utf-16', parse_dates=date_cols)"
   ]
  },
  {
   "cell_type": "markdown",
   "id": "3b1fad21-f798-46bd-9869-44a2fe6d1d43",
   "metadata": {},
   "source": [
    "Look at first few rows of data"
   ]
  },
  {
   "cell_type": "code",
   "execution_count": 3,
   "id": "dc5259c2-e0f4-42b6-84a8-3939c4d101c5",
   "metadata": {},
   "outputs": [
    {
     "data": {
      "text/html": [
       "<div>\n",
       "<style scoped>\n",
       "    .dataframe tbody tr th:only-of-type {\n",
       "        vertical-align: middle;\n",
       "    }\n",
       "\n",
       "    .dataframe tbody tr th {\n",
       "        vertical-align: top;\n",
       "    }\n",
       "\n",
       "    .dataframe thead th {\n",
       "        text-align: right;\n",
       "    }\n",
       "</style>\n",
       "<table border=\"1\" class=\"dataframe\">\n",
       "  <thead>\n",
       "    <tr style=\"text-align: right;\">\n",
       "      <th></th>\n",
       "      <th>NOTAM_REC_ID</th>\n",
       "      <th>FNS_ID</th>\n",
       "      <th>FILENAME</th>\n",
       "      <th>NOTAM_ID</th>\n",
       "      <th>NOTAM_TYPE</th>\n",
       "      <th>RELATED_NOTAM_ID</th>\n",
       "      <th>SIMPLE_TEXT</th>\n",
       "      <th>LOC_ID_ACCOUNTABLE_ORG</th>\n",
       "      <th>NOTAM_NUMBER</th>\n",
       "      <th>RELATED_NOTAM_NUMBER</th>\n",
       "      <th>...</th>\n",
       "      <th>POSSIBLE_END_DATE</th>\n",
       "      <th>ISSUE_DATE</th>\n",
       "      <th>CANCELED_DATE</th>\n",
       "      <th>AFFECTED_FIR</th>\n",
       "      <th>DESIGNATOR</th>\n",
       "      <th>DESIGNATOR_NAME</th>\n",
       "      <th>LOCATION_NAME</th>\n",
       "      <th>ACCOUNT_ID</th>\n",
       "      <th>LOCATION_CODE</th>\n",
       "      <th>LAUNCHES_REC_ID</th>\n",
       "    </tr>\n",
       "  </thead>\n",
       "  <tbody>\n",
       "    <tr>\n",
       "      <th>0</th>\n",
       "      <td>1</td>\n",
       "      <td>FNS_ID_43130705</td>\n",
       "      <td>E:\\Working\\Sherlock_NOTAM_Data\\Temporary\\notam...</td>\n",
       "      <td>0604/16</td>\n",
       "      <td>NaN</td>\n",
       "      <td>NaN</td>\n",
       "      <td>!SUAC 05/604 ZAU AIRSPACE VOLK SOUTH MOA ACT 5...</td>\n",
       "      <td>SUAC</td>\n",
       "      <td>05/604</td>\n",
       "      <td>NaN</td>\n",
       "      <td>...</td>\n",
       "      <td>2016-05-24 19:45:00</td>\n",
       "      <td>2016-05-24 04:35:00</td>\n",
       "      <td>2016-05-24 12:10:00</td>\n",
       "      <td>NaN</td>\n",
       "      <td>NaN</td>\n",
       "      <td>NaN</td>\n",
       "      <td>ZAU ARTCC</td>\n",
       "      <td>SUAC</td>\n",
       "      <td>ZAU</td>\n",
       "      <td>NaN</td>\n",
       "    </tr>\n",
       "    <tr>\n",
       "      <th>1</th>\n",
       "      <td>2</td>\n",
       "      <td>FNS_ID_43130704</td>\n",
       "      <td>E:\\Working\\Sherlock_NOTAM_Data\\Temporary\\notam...</td>\n",
       "      <td>0603/16</td>\n",
       "      <td>NaN</td>\n",
       "      <td>NaN</td>\n",
       "      <td>!SUAC 05/603 ZAU AIRSPACE VOLK EAST MOA ACT 80...</td>\n",
       "      <td>SUAC</td>\n",
       "      <td>05/603</td>\n",
       "      <td>NaN</td>\n",
       "      <td>...</td>\n",
       "      <td>2016-05-24 19:45:00</td>\n",
       "      <td>2016-05-24 04:35:00</td>\n",
       "      <td>2016-05-24 12:10:00</td>\n",
       "      <td>NaN</td>\n",
       "      <td>NaN</td>\n",
       "      <td>NaN</td>\n",
       "      <td>ZAU ARTCC</td>\n",
       "      <td>SUAC</td>\n",
       "      <td>ZAU</td>\n",
       "      <td>NaN</td>\n",
       "    </tr>\n",
       "    <tr>\n",
       "      <th>2</th>\n",
       "      <td>3</td>\n",
       "      <td>FNS_ID_43130706</td>\n",
       "      <td>E:\\Working\\Sherlock_NOTAM_Data\\Temporary\\notam...</td>\n",
       "      <td>0605/16</td>\n",
       "      <td>NaN</td>\n",
       "      <td>NaN</td>\n",
       "      <td>!SUAC 05/605 ZMP AIRSPACE FALLS 1 MOA ACT 500F...</td>\n",
       "      <td>SUAC</td>\n",
       "      <td>05/605</td>\n",
       "      <td>NaN</td>\n",
       "      <td>...</td>\n",
       "      <td>2016-05-24 19:45:00</td>\n",
       "      <td>2016-05-24 04:35:00</td>\n",
       "      <td>2016-05-24 12:10:00</td>\n",
       "      <td>NaN</td>\n",
       "      <td>NaN</td>\n",
       "      <td>NaN</td>\n",
       "      <td>ZMP ARTCC</td>\n",
       "      <td>SUAC</td>\n",
       "      <td>ZMP</td>\n",
       "      <td>NaN</td>\n",
       "    </tr>\n",
       "    <tr>\n",
       "      <th>3</th>\n",
       "      <td>4</td>\n",
       "      <td>FNS_ID_43130708</td>\n",
       "      <td>E:\\Working\\Sherlock_NOTAM_Data\\Temporary\\notam...</td>\n",
       "      <td>0607/16</td>\n",
       "      <td>NaN</td>\n",
       "      <td>NaN</td>\n",
       "      <td>!SUAC 05/607 ZMP AIRSPACE FALLS 2 MOA ACT 500F...</td>\n",
       "      <td>SUAC</td>\n",
       "      <td>05/607</td>\n",
       "      <td>NaN</td>\n",
       "      <td>...</td>\n",
       "      <td>2016-05-24 19:45:00</td>\n",
       "      <td>2016-05-24 04:35:00</td>\n",
       "      <td>2016-05-24 12:10:00</td>\n",
       "      <td>NaN</td>\n",
       "      <td>NaN</td>\n",
       "      <td>NaN</td>\n",
       "      <td>ZMP ARTCC</td>\n",
       "      <td>SUAC</td>\n",
       "      <td>ZMP</td>\n",
       "      <td>NaN</td>\n",
       "    </tr>\n",
       "    <tr>\n",
       "      <th>4</th>\n",
       "      <td>5</td>\n",
       "      <td>FNS_ID_43130703</td>\n",
       "      <td>E:\\Working\\Sherlock_NOTAM_Data\\Temporary\\notam...</td>\n",
       "      <td>0602/16</td>\n",
       "      <td>NaN</td>\n",
       "      <td>NaN</td>\n",
       "      <td>!SUAC 05/602 ZMP AIRSPACE VOLK WEST MOA ACT 10...</td>\n",
       "      <td>SUAC</td>\n",
       "      <td>05/602</td>\n",
       "      <td>NaN</td>\n",
       "      <td>...</td>\n",
       "      <td>2016-05-24 19:45:00</td>\n",
       "      <td>2016-05-24 04:35:00</td>\n",
       "      <td>2016-05-24 12:10:00</td>\n",
       "      <td>NaN</td>\n",
       "      <td>NaN</td>\n",
       "      <td>NaN</td>\n",
       "      <td>ZMP ARTCC</td>\n",
       "      <td>SUAC</td>\n",
       "      <td>ZMP</td>\n",
       "      <td>NaN</td>\n",
       "    </tr>\n",
       "  </tbody>\n",
       "</table>\n",
       "<p>5 rows × 37 columns</p>\n",
       "</div>"
      ],
      "text/plain": [
       "   NOTAM_REC_ID           FNS_ID  \\\n",
       "0             1  FNS_ID_43130705   \n",
       "1             2  FNS_ID_43130704   \n",
       "2             3  FNS_ID_43130706   \n",
       "3             4  FNS_ID_43130708   \n",
       "4             5  FNS_ID_43130703   \n",
       "\n",
       "                                            FILENAME NOTAM_ID NOTAM_TYPE  \\\n",
       "0  E:\\Working\\Sherlock_NOTAM_Data\\Temporary\\notam...  0604/16        NaN   \n",
       "1  E:\\Working\\Sherlock_NOTAM_Data\\Temporary\\notam...  0603/16        NaN   \n",
       "2  E:\\Working\\Sherlock_NOTAM_Data\\Temporary\\notam...  0605/16        NaN   \n",
       "3  E:\\Working\\Sherlock_NOTAM_Data\\Temporary\\notam...  0607/16        NaN   \n",
       "4  E:\\Working\\Sherlock_NOTAM_Data\\Temporary\\notam...  0602/16        NaN   \n",
       "\n",
       "  RELATED_NOTAM_ID                                        SIMPLE_TEXT  \\\n",
       "0              NaN  !SUAC 05/604 ZAU AIRSPACE VOLK SOUTH MOA ACT 5...   \n",
       "1              NaN  !SUAC 05/603 ZAU AIRSPACE VOLK EAST MOA ACT 80...   \n",
       "2              NaN  !SUAC 05/605 ZMP AIRSPACE FALLS 1 MOA ACT 500F...   \n",
       "3              NaN  !SUAC 05/607 ZMP AIRSPACE FALLS 2 MOA ACT 500F...   \n",
       "4              NaN  !SUAC 05/602 ZMP AIRSPACE VOLK WEST MOA ACT 10...   \n",
       "\n",
       "  LOC_ID_ACCOUNTABLE_ORG NOTAM_NUMBER RELATED_NOTAM_NUMBER  ...  \\\n",
       "0                   SUAC       05/604                  NaN  ...   \n",
       "1                   SUAC       05/603                  NaN  ...   \n",
       "2                   SUAC       05/605                  NaN  ...   \n",
       "3                   SUAC       05/607                  NaN  ...   \n",
       "4                   SUAC       05/602                  NaN  ...   \n",
       "\n",
       "    POSSIBLE_END_DATE           ISSUE_DATE        CANCELED_DATE AFFECTED_FIR  \\\n",
       "0 2016-05-24 19:45:00  2016-05-24 04:35:00  2016-05-24 12:10:00          NaN   \n",
       "1 2016-05-24 19:45:00  2016-05-24 04:35:00  2016-05-24 12:10:00          NaN   \n",
       "2 2016-05-24 19:45:00  2016-05-24 04:35:00  2016-05-24 12:10:00          NaN   \n",
       "3 2016-05-24 19:45:00  2016-05-24 04:35:00  2016-05-24 12:10:00          NaN   \n",
       "4 2016-05-24 19:45:00  2016-05-24 04:35:00  2016-05-24 12:10:00          NaN   \n",
       "\n",
       "  DESIGNATOR DESIGNATOR_NAME LOCATION_NAME ACCOUNT_ID LOCATION_CODE  \\\n",
       "0        NaN             NaN     ZAU ARTCC       SUAC           ZAU   \n",
       "1        NaN             NaN     ZAU ARTCC       SUAC           ZAU   \n",
       "2        NaN             NaN     ZMP ARTCC       SUAC           ZMP   \n",
       "3        NaN             NaN     ZMP ARTCC       SUAC           ZMP   \n",
       "4        NaN             NaN     ZMP ARTCC       SUAC           ZMP   \n",
       "\n",
       "  LAUNCHES_REC_ID  \n",
       "0             NaN  \n",
       "1             NaN  \n",
       "2             NaN  \n",
       "3             NaN  \n",
       "4             NaN  \n",
       "\n",
       "[5 rows x 37 columns]"
      ]
     },
     "execution_count": 3,
     "metadata": {},
     "output_type": "execute_result"
    }
   ],
   "source": [
    "df.head()"
   ]
  },
  {
   "cell_type": "markdown",
   "id": "1eeee592-33f4-4d8a-ae16-75da751c89cb",
   "metadata": {},
   "source": [
    "Get information on the dataframe\n",
    "* 1,062,863 rows\n",
    "* 37 columns\n",
    "* With the exception of `NOTAM_REC_ID` and `LAUNCHES_REC_ID`, all fields appear to be strings. \n",
    "    * This may require updating in order to \n",
    "* Aside from `LAUNCHES_REC_ID`, most columns have only a few hundred non-null entries, suggesting that the data is very sparse"
   ]
  },
  {
   "cell_type": "code",
   "execution_count": 4,
   "id": "18ca3d97-8afa-49a8-baad-d194f65a191d",
   "metadata": {},
   "outputs": [
    {
     "name": "stdout",
     "output_type": "stream",
     "text": [
      "<class 'pandas.core.frame.DataFrame'>\n",
      "RangeIndex: 1062038 entries, 0 to 1062037\n",
      "Data columns (total 37 columns):\n",
      " #   Column                  Non-Null Count    Dtype         \n",
      "---  ------                  --------------    -----         \n",
      " 0   NOTAM_REC_ID            1062038 non-null  int64         \n",
      " 1   FNS_ID                  1062038 non-null  object        \n",
      " 2   FILENAME                1062038 non-null  object        \n",
      " 3   NOTAM_ID                1062023 non-null  object        \n",
      " 4   NOTAM_TYPE              923865 non-null   object        \n",
      " 5   RELATED_NOTAM_ID        242320 non-null   object        \n",
      " 6   SIMPLE_TEXT             544152 non-null   object        \n",
      " 7   LOC_ID_ACCOUNTABLE_ORG  518500 non-null   object        \n",
      " 8   NOTAM_NUMBER            516560 non-null   object        \n",
      " 9   RELATED_NOTAM_NUMBER    92813 non-null    object        \n",
      " 10  TEXT                    1055996 non-null  object        \n",
      " 11  Q_CODE                  645876 non-null   object        \n",
      " 12  Q_CODE_INTERPRETATION   464529 non-null   object        \n",
      " 13  A_CODE                  740071 non-null   object        \n",
      " 14  B_CODE                  629954 non-null   object        \n",
      " 15  C_CODE                  536847 non-null   object        \n",
      " 16  D_CODE                  107856 non-null   object        \n",
      " 17  E_CODE                  1061799 non-null  object        \n",
      " 18  F_CODE                  649479 non-null   object        \n",
      " 19  G_CODE                  649538 non-null   object        \n",
      " 20  CLASSIFICATION          1062019 non-null  object        \n",
      " 21  POSSIBLE_NOTAM_ID       1062022 non-null  object        \n",
      " 22  MIN_ALT                 756978 non-null   object        \n",
      " 23  MAX_ALT                 724423 non-null   object        \n",
      " 24  MIN_ALT_REF_TYPE        669489 non-null   object        \n",
      " 25  MAX_ALT_REF_TYPE        626849 non-null   object        \n",
      " 26  POSSIBLE_START_DATE     1062036 non-null  object        \n",
      " 27  POSSIBLE_END_DATE       1047838 non-null  datetime64[ns]\n",
      " 28  ISSUE_DATE              1062022 non-null  object        \n",
      " 29  CANCELED_DATE           198252 non-null   object        \n",
      " 30  AFFECTED_FIR            641896 non-null   object        \n",
      " 31  DESIGNATOR              262809 non-null   object        \n",
      " 32  DESIGNATOR_NAME         238874 non-null   object        \n",
      " 33  LOCATION_NAME           1048799 non-null  object        \n",
      " 34  ACCOUNT_ID              1061864 non-null  object        \n",
      " 35  LOCATION_CODE           1061805 non-null  object        \n",
      " 36  LAUNCHES_REC_ID         0 non-null        float64       \n",
      "dtypes: datetime64[ns](1), float64(1), int64(1), object(34)\n",
      "memory usage: 299.8+ MB\n"
     ]
    }
   ],
   "source": [
    "df.info()"
   ]
  },
  {
   "cell_type": "markdown",
   "id": "7ba57044-215c-4c74-a97f-453450a00ada",
   "metadata": {},
   "source": [
    "Get summary stats"
   ]
  },
  {
   "cell_type": "code",
   "execution_count": 5,
   "id": "6172b1b2-2fb4-4723-8d27-8d3904623461",
   "metadata": {},
   "outputs": [
    {
     "data": {
      "text/html": [
       "<div>\n",
       "<style scoped>\n",
       "    .dataframe tbody tr th:only-of-type {\n",
       "        vertical-align: middle;\n",
       "    }\n",
       "\n",
       "    .dataframe tbody tr th {\n",
       "        vertical-align: top;\n",
       "    }\n",
       "\n",
       "    .dataframe thead th {\n",
       "        text-align: right;\n",
       "    }\n",
       "</style>\n",
       "<table border=\"1\" class=\"dataframe\">\n",
       "  <thead>\n",
       "    <tr style=\"text-align: right;\">\n",
       "      <th></th>\n",
       "      <th>NOTAM_REC_ID</th>\n",
       "      <th>LAUNCHES_REC_ID</th>\n",
       "    </tr>\n",
       "  </thead>\n",
       "  <tbody>\n",
       "    <tr>\n",
       "      <th>count</th>\n",
       "      <td>1.062038e+06</td>\n",
       "      <td>0.0</td>\n",
       "    </tr>\n",
       "    <tr>\n",
       "      <th>mean</th>\n",
       "      <td>5.314754e+05</td>\n",
       "      <td>NaN</td>\n",
       "    </tr>\n",
       "    <tr>\n",
       "      <th>std</th>\n",
       "      <td>3.068384e+05</td>\n",
       "      <td>NaN</td>\n",
       "    </tr>\n",
       "    <tr>\n",
       "      <th>min</th>\n",
       "      <td>1.000000e+00</td>\n",
       "      <td>NaN</td>\n",
       "    </tr>\n",
       "    <tr>\n",
       "      <th>25%</th>\n",
       "      <td>2.657342e+05</td>\n",
       "      <td>NaN</td>\n",
       "    </tr>\n",
       "    <tr>\n",
       "      <th>50%</th>\n",
       "      <td>5.315025e+05</td>\n",
       "      <td>NaN</td>\n",
       "    </tr>\n",
       "    <tr>\n",
       "      <th>75%</th>\n",
       "      <td>7.972258e+05</td>\n",
       "      <td>NaN</td>\n",
       "    </tr>\n",
       "    <tr>\n",
       "      <th>max</th>\n",
       "      <td>1.062868e+06</td>\n",
       "      <td>NaN</td>\n",
       "    </tr>\n",
       "  </tbody>\n",
       "</table>\n",
       "</div>"
      ],
      "text/plain": [
       "       NOTAM_REC_ID  LAUNCHES_REC_ID\n",
       "count  1.062038e+06              0.0\n",
       "mean   5.314754e+05              NaN\n",
       "std    3.068384e+05              NaN\n",
       "min    1.000000e+00              NaN\n",
       "25%    2.657342e+05              NaN\n",
       "50%    5.315025e+05              NaN\n",
       "75%    7.972258e+05              NaN\n",
       "max    1.062868e+06              NaN"
      ]
     },
     "execution_count": 5,
     "metadata": {},
     "output_type": "execute_result"
    }
   ],
   "source": [
    "df.describe()"
   ]
  },
  {
   "cell_type": "markdown",
   "id": "39bf3228-ba87-4c53-9490-52bfcc2ae08f",
   "metadata": {},
   "source": [
    "## Examine column by column"
   ]
  },
  {
   "cell_type": "markdown",
   "id": "62695a17-84e4-4ce8-8a14-9c034c668f71",
   "metadata": {
    "jp-MarkdownHeadingCollapsed": true,
    "tags": []
   },
   "source": [
    "#### NOTAM_REC_ID\n",
    "* Seems to be a zero-indexed, sequence of indexes."
   ]
  },
  {
   "cell_type": "code",
   "execution_count": 6,
   "id": "575fbef4-d52b-4cd3-b95a-18307e85e5e9",
   "metadata": {},
   "outputs": [
    {
     "data": {
      "text/plain": [
       "0                1\n",
       "1                2\n",
       "2                3\n",
       "3                4\n",
       "4                5\n",
       "            ...   \n",
       "1062033    1062864\n",
       "1062034    1062865\n",
       "1062035    1062866\n",
       "1062036    1062867\n",
       "1062037    1062868\n",
       "Name: NOTAM_REC_ID, Length: 1062038, dtype: int64"
      ]
     },
     "execution_count": 6,
     "metadata": {},
     "output_type": "execute_result"
    }
   ],
   "source": [
    "df['NOTAM_REC_ID']"
   ]
  },
  {
   "cell_type": "code",
   "execution_count": 63,
   "id": "bb3fb44b-6f0f-4503-a8c3-d1767c93515c",
   "metadata": {},
   "outputs": [
    {
     "data": {
      "text/plain": [
       "1          False\n",
       "708713     False\n",
       "708683     False\n",
       "708684     False\n",
       "708685     False\n",
       "           ...  \n",
       "354307     False\n",
       "354308     False\n",
       "354309     False\n",
       "354310     False\n",
       "1062868    False\n",
       "Name: NOTAM_REC_ID, Length: 1062038, dtype: bool"
      ]
     },
     "execution_count": 63,
     "metadata": {},
     "output_type": "execute_result"
    }
   ],
   "source": [
    "df['NOTAM_REC_ID'].value_counts() > 1"
   ]
  },
  {
   "cell_type": "markdown",
   "id": "376a4224-ac7d-41b6-8875-9ab6e2a62631",
   "metadata": {
    "jp-MarkdownHeadingCollapsed": true,
    "tags": []
   },
   "source": [
    "#### FNS_ID\n",
    "* All unique"
   ]
  },
  {
   "cell_type": "code",
   "execution_count": 7,
   "id": "0736873d-e432-4a46-a478-d83e4f5a6d0b",
   "metadata": {},
   "outputs": [
    {
     "data": {
      "text/plain": [
       "0          FNS_ID_43130705\n",
       "1          FNS_ID_43130704\n",
       "2          FNS_ID_43130706\n",
       "3          FNS_ID_43130708\n",
       "4          FNS_ID_43130703\n",
       "                ...       \n",
       "1062033    FNS_ID_57055569\n",
       "1062034    FNS_ID_57055570\n",
       "1062035    FNS_ID_57055571\n",
       "1062036    FNS_ID_57055572\n",
       "1062037    FNS_ID_57055573\n",
       "Name: FNS_ID, Length: 1062038, dtype: object"
      ]
     },
     "execution_count": 7,
     "metadata": {},
     "output_type": "execute_result"
    }
   ],
   "source": [
    "df['FNS_ID']"
   ]
  },
  {
   "cell_type": "code",
   "execution_count": 64,
   "id": "d4829232-37da-47d7-947d-9f6f25db3b45",
   "metadata": {},
   "outputs": [
    {
     "data": {
      "text/plain": [
       "FNS_ID_43130705    False\n",
       "FNS_ID_51108106    False\n",
       "FNS_ID_51108060    False\n",
       "FNS_ID_51108082    False\n",
       "FNS_ID_51108064    False\n",
       "                   ...  \n",
       "FNS_ID_47241553    False\n",
       "FNS_ID_47241572    False\n",
       "FNS_ID_47241577    False\n",
       "FNS_ID_47241555    False\n",
       "FNS_ID_57055573    False\n",
       "Name: FNS_ID, Length: 1062038, dtype: bool"
      ]
     },
     "execution_count": 64,
     "metadata": {},
     "output_type": "execute_result"
    }
   ],
   "source": [
    "# All are unique\n",
    "df['FNS_ID'].value_counts() > 1"
   ]
  },
  {
   "cell_type": "markdown",
   "id": "188a2117-fde1-48c5-8ebc-540f09b1b546",
   "metadata": {
    "jp-MarkdownHeadingCollapsed": true,
    "tags": []
   },
   "source": [
    "#### FILENAME\n",
    "* Do we have access to these files?\n",
    "* Repeats, but cover an tiny proportion of the data. "
   ]
  },
  {
   "cell_type": "code",
   "execution_count": 8,
   "id": "88012146-95cb-4f82-94de-931f4ca1c8a6",
   "metadata": {},
   "outputs": [
    {
     "data": {
      "text/plain": [
       "0          E:\\Working\\Sherlock_NOTAM_Data\\Temporary\\notam...\n",
       "1          E:\\Working\\Sherlock_NOTAM_Data\\Temporary\\notam...\n",
       "2          E:\\Working\\Sherlock_NOTAM_Data\\Temporary\\notam...\n",
       "3          E:\\Working\\Sherlock_NOTAM_Data\\Temporary\\notam...\n",
       "4          E:\\Working\\Sherlock_NOTAM_Data\\Temporary\\notam...\n",
       "                                 ...                        \n",
       "1062033    E:\\Working\\Sherlock_NOTAM_Data\\Temporary\\notam...\n",
       "1062034    E:\\Working\\Sherlock_NOTAM_Data\\Temporary\\notam...\n",
       "1062035    E:\\Working\\Sherlock_NOTAM_Data\\Temporary\\notam...\n",
       "1062036    E:\\Working\\Sherlock_NOTAM_Data\\Temporary\\notam...\n",
       "1062037    E:\\Working\\Sherlock_NOTAM_Data\\Temporary\\notam...\n",
       "Name: FILENAME, Length: 1062038, dtype: object"
      ]
     },
     "execution_count": 8,
     "metadata": {},
     "output_type": "execute_result"
    }
   ],
   "source": [
    "df['FILENAME']"
   ]
  },
  {
   "cell_type": "code",
   "execution_count": 65,
   "id": "de030a92-e1d7-4822-9e96-75b73d09a9c4",
   "metadata": {},
   "outputs": [
    {
     "data": {
      "text/plain": [
       "E:\\Working\\Sherlock_NOTAM_Data\\Temporary\\notam.20191001T1507Z_tmp.xml      10492\n",
       "E:\\Working\\Sherlock_NOTAM_Data\\Temporary\\notam.20190503T1519Z_tmp.xml       4901\n",
       "E:\\Working\\Sherlock_NOTAM_Data\\Temporary\\notam.20170622T202144Z_tmp.xml     1637\n",
       "E:\\Working\\Sherlock_NOTAM_Data\\Temporary\\notam.20160831T173246Z_tmp.xml     1453\n",
       "E:\\Working\\Sherlock_NOTAM_Data\\Temporary\\notam.20160831T171728Z_tmp.xml     1451\n",
       "                                                                           ...  \n",
       "E:\\Working\\Sherlock_NOTAM_Data\\Temporary\\notam.20180604T010732Z_tmp.xml        1\n",
       "E:\\Working\\Sherlock_NOTAM_Data\\Temporary\\notam.20180405T051356Z_tmp.xml        1\n",
       "E:\\Working\\Sherlock_NOTAM_Data\\Temporary\\notam.20171029T214122Z_tmp.xml        1\n",
       "E:\\Working\\Sherlock_NOTAM_Data\\Temporary\\notam.20180604T010030Z_tmp.xml        1\n",
       "E:\\Working\\Sherlock_NOTAM_Data\\Temporary\\notam.20180113T110000Z_tmp.xml        1\n",
       "Name: FILENAME, Length: 67086, dtype: int64"
      ]
     },
     "execution_count": 65,
     "metadata": {},
     "output_type": "execute_result"
    }
   ],
   "source": [
    "df['FILENAME'].value_counts(dropna=False)"
   ]
  },
  {
   "cell_type": "code",
   "execution_count": 66,
   "id": "3cf022ef-7e74-4d15-93d7-03db92e5f121",
   "metadata": {},
   "outputs": [
    {
     "data": {
      "text/plain": [
       "E:\\Working\\Sherlock_NOTAM_Data\\Temporary\\notam.20191001T1507Z_tmp.xml      0.00988\n",
       "E:\\Working\\Sherlock_NOTAM_Data\\Temporary\\notam.20190503T1519Z_tmp.xml      0.00461\n",
       "E:\\Working\\Sherlock_NOTAM_Data\\Temporary\\notam.20170622T202144Z_tmp.xml    0.00154\n",
       "E:\\Working\\Sherlock_NOTAM_Data\\Temporary\\notam.20160831T173246Z_tmp.xml    0.00137\n",
       "E:\\Working\\Sherlock_NOTAM_Data\\Temporary\\notam.20160831T171728Z_tmp.xml    0.00137\n",
       "                                                                            ...   \n",
       "E:\\Working\\Sherlock_NOTAM_Data\\Temporary\\notam.20180604T010732Z_tmp.xml    0.00000\n",
       "E:\\Working\\Sherlock_NOTAM_Data\\Temporary\\notam.20180405T051356Z_tmp.xml    0.00000\n",
       "E:\\Working\\Sherlock_NOTAM_Data\\Temporary\\notam.20171029T214122Z_tmp.xml    0.00000\n",
       "E:\\Working\\Sherlock_NOTAM_Data\\Temporary\\notam.20180604T010030Z_tmp.xml    0.00000\n",
       "E:\\Working\\Sherlock_NOTAM_Data\\Temporary\\notam.20180113T110000Z_tmp.xml    0.00000\n",
       "Name: FILENAME, Length: 67086, dtype: object"
      ]
     },
     "execution_count": 66,
     "metadata": {},
     "output_type": "execute_result"
    }
   ],
   "source": [
    "df['FILENAME'].value_counts(dropna=False, normalize=True).apply(lambda x: '%.5f' % x)"
   ]
  },
  {
   "cell_type": "markdown",
   "id": "a4a5ccc9-43c9-4b76-81a7-731c7f71365e",
   "metadata": {
    "jp-MarkdownHeadingCollapsed": true,
    "tags": []
   },
   "source": [
    "#### NOTAM_ID\n",
    "* Repeats, but cover an tiny proportion of the data."
   ]
  },
  {
   "cell_type": "code",
   "execution_count": null,
   "id": "620ec01d-c011-49de-9bea-4b8d6200ffa8",
   "metadata": {},
   "outputs": [
    {
     "data": {
      "text/plain": [
       "0           0604/16\n",
       "1           0603/16\n",
       "2           0605/16\n",
       "3           0607/16\n",
       "4           0602/16\n",
       "             ...   \n",
       "1062033     0635/20\n",
       "1062034     0385/20\n",
       "1062035     0018/20\n",
       "1062036     0137/20\n",
       "1062037    A1093/20\n",
       "Name: NOTAM_ID, Length: 1062038, dtype: object"
      ]
     },
     "execution_count": 9,
     "metadata": {},
     "output_type": "execute_result"
    }
   ],
   "source": [
    "df['NOTAM_ID']"
   ]
  },
  {
   "cell_type": "code",
   "execution_count": 67,
   "id": "76a0320e-f3ed-4edb-926a-e7c52a2e5e18",
   "metadata": {},
   "outputs": [
    {
     "data": {
      "text/plain": [
       "0001/17        3076\n",
       "0002/17        2559\n",
       "0003/17        2309\n",
       "0004/17        2036\n",
       "0001/18        2024\n",
       "               ... \n",
       "Y2905/17          1\n",
       "B5888/17          1\n",
       "SWES0500/17       1\n",
       "SWEV0318/17       1\n",
       "B0833/20          1\n",
       "Name: NOTAM_ID, Length: 307733, dtype: int64"
      ]
     },
     "execution_count": 67,
     "metadata": {},
     "output_type": "execute_result"
    }
   ],
   "source": [
    "df['NOTAM_ID'].value_counts(dropna=False)"
   ]
  },
  {
   "cell_type": "code",
   "execution_count": 68,
   "id": "4f2573a5-3741-46be-95bf-f39ee37e56a6",
   "metadata": {},
   "outputs": [
    {
     "data": {
      "text/plain": [
       "0001/17        0.00290\n",
       "0002/17        0.00241\n",
       "0003/17        0.00217\n",
       "0004/17        0.00192\n",
       "0001/18        0.00191\n",
       "                ...   \n",
       "Y2905/17       0.00000\n",
       "B5888/17       0.00000\n",
       "SWES0500/17    0.00000\n",
       "SWEV0318/17    0.00000\n",
       "B0833/20       0.00000\n",
       "Name: NOTAM_ID, Length: 307733, dtype: object"
      ]
     },
     "execution_count": 68,
     "metadata": {},
     "output_type": "execute_result"
    }
   ],
   "source": [
    "df['NOTAM_ID'].value_counts(dropna=False, normalize=True).apply(lambda x: '%.5f' % x)"
   ]
  },
  {
   "cell_type": "markdown",
   "id": "e8de887f-443d-4568-b121-e73c04a766c1",
   "metadata": {
    "jp-MarkdownHeadingCollapsed": true,
    "tags": []
   },
   "source": [
    "#### NOTAM_TYPE\n",
    "* Majority are NOTAMN, at 61% of the data. \n",
    "* Other categories have significat proportions.\n",
    "* Chart included"
   ]
  },
  {
   "cell_type": "code",
   "execution_count": 11,
   "id": "5cf9f6fc-fcff-44bc-9a55-741a5d9d4bc5",
   "metadata": {},
   "outputs": [
    {
     "data": {
      "text/plain": [
       "0             NaN\n",
       "1             NaN\n",
       "2             NaN\n",
       "3             NaN\n",
       "4             NaN\n",
       "            ...  \n",
       "1062033    NOTAMN\n",
       "1062034    NOTAMN\n",
       "1062035       NaN\n",
       "1062036       NaN\n",
       "1062037    NOTAMN\n",
       "Name: NOTAM_TYPE, Length: 1062038, dtype: object"
      ]
     },
     "execution_count": 11,
     "metadata": {},
     "output_type": "execute_result"
    }
   ],
   "source": [
    "df['NOTAM_TYPE']"
   ]
  },
  {
   "cell_type": "code",
   "execution_count": 15,
   "id": "f1d8df0b-d4fc-41c6-ba24-49604808cb9f",
   "metadata": {},
   "outputs": [
    {
     "data": {
      "text/plain": [
       "NOTAMN    652544\n",
       "NOTAMC    185243\n",
       "NaN       138173\n",
       "NOTAMR     86078\n",
       "Name: NOTAM_TYPE, dtype: int64"
      ]
     },
     "execution_count": 15,
     "metadata": {},
     "output_type": "execute_result"
    }
   ],
   "source": [
    "df['NOTAM_TYPE'].value_counts(dropna=False)"
   ]
  },
  {
   "cell_type": "code",
   "execution_count": 56,
   "id": "bd593c9c-b180-4d64-b8ae-7607f5db57d6",
   "metadata": {},
   "outputs": [
    {
     "data": {
      "text/plain": [
       "NOTAMN    0.61443\n",
       "NOTAMC    0.17442\n",
       "NaN       0.13010\n",
       "NOTAMR    0.08105\n",
       "Name: NOTAM_TYPE, dtype: object"
      ]
     },
     "execution_count": 56,
     "metadata": {},
     "output_type": "execute_result"
    }
   ],
   "source": [
    "df['NOTAM_TYPE'].value_counts(dropna=False, normalize=True).apply(lambda x: '%.5f' % x)"
   ]
  },
  {
   "cell_type": "code",
   "execution_count": 74,
   "id": "cd554ff2-5cc9-449e-b002-240e01eb1b11",
   "metadata": {},
   "outputs": [
    {
     "data": {
      "image/png": "[encoded data removed]",
      "text/plain": [
       "<Figure size 720x360 with 1 Axes>"
      ]
     },
     "metadata": {
      "needs_background": "light"
     },
     "output_type": "display_data"
    }
   ],
   "source": [
    "df['NOTAM_TYPE'].value_counts(dropna=False, normalize=True).plot(kind='bar', \n",
    "                                                                 title='NOTAM Types Proportion of Data',\n",
    "                                                                 figsize=(10, 5));"
   ]
  },
  {
   "cell_type": "markdown",
   "id": "9a582813-a0fa-43a2-b8fd-94eed87c8a16",
   "metadata": {
    "jp-MarkdownHeadingCollapsed": true,
    "tags": []
   },
   "source": [
    "#### RELATED_NOTAM_ID\n",
    "* Majority are NaNs, at 77% of the data.\n",
    "* No other entry has a material proportion of the data.\n",
    "* Repeats"
   ]
  },
  {
   "cell_type": "code",
   "execution_count": 19,
   "id": "35356f18-ff2d-4c4b-8541-e3782cfc042d",
   "metadata": {},
   "outputs": [
    {
     "data": {
      "text/plain": [
       "0          NaN\n",
       "1          NaN\n",
       "2          NaN\n",
       "3          NaN\n",
       "4          NaN\n",
       "          ... \n",
       "1062033    NaN\n",
       "1062034    NaN\n",
       "1062035    NaN\n",
       "1062036    NaN\n",
       "1062037    NaN\n",
       "Name: RELATED_NOTAM_ID, Length: 1062038, dtype: object"
      ]
     },
     "execution_count": 19,
     "metadata": {},
     "output_type": "execute_result"
    }
   ],
   "source": [
    "df['RELATED_NOTAM_ID']"
   ]
  },
  {
   "cell_type": "code",
   "execution_count": 20,
   "id": "8a4b0146-9851-4c84-94dc-de27805ff35b",
   "metadata": {},
   "outputs": [
    {
     "data": {
      "text/plain": [
       "NaN         819718\n",
       "A0001/17        94\n",
       "A0001/18        91\n",
       "A0001/19        70\n",
       "B0001/18        49\n",
       "             ...  \n",
       "J2533/18         1\n",
       "L4626/16         1\n",
       "J1665/18         1\n",
       "J1687/18         1\n",
       "A3935/20         1\n",
       "Name: RELATED_NOTAM_ID, Length: 130206, dtype: int64"
      ]
     },
     "execution_count": 20,
     "metadata": {},
     "output_type": "execute_result"
    }
   ],
   "source": [
    "df['RELATED_NOTAM_ID'].value_counts(dropna=False)"
   ]
  },
  {
   "cell_type": "code",
   "execution_count": 55,
   "id": "e85d8dd0-760e-4662-bc86-3cec230cc8a2",
   "metadata": {},
   "outputs": [
    {
     "data": {
      "text/plain": [
       "NaN         0.77183\n",
       "A0001/17    0.00009\n",
       "A0001/18    0.00009\n",
       "A0001/19    0.00007\n",
       "B0001/18    0.00005\n",
       "             ...   \n",
       "J2533/18    0.00000\n",
       "L4626/16    0.00000\n",
       "J1665/18    0.00000\n",
       "J1687/18    0.00000\n",
       "A3935/20    0.00000\n",
       "Name: RELATED_NOTAM_ID, Length: 130206, dtype: object"
      ]
     },
     "execution_count": 55,
     "metadata": {},
     "output_type": "execute_result"
    }
   ],
   "source": [
    "df['RELATED_NOTAM_ID'].value_counts(dropna=False, normalize=True).apply(lambda x: '%.5f' % x)"
   ]
  },
  {
   "cell_type": "markdown",
   "id": "e685c079-079b-4ab7-a45a-c8d445be3084",
   "metadata": {
    "jp-MarkdownHeadingCollapsed": true,
    "tags": []
   },
   "source": [
    "#### SIMPLE_TEXT\n",
    "* Close to majority are NaNs, covering 49% of the data. \n",
    "* No other entry has a material proportion of the data.\n",
    "* A few repeats"
   ]
  },
  {
   "cell_type": "code",
   "execution_count": 21,
   "id": "659ffd7c-d574-4cfc-a8ba-35100e795623",
   "metadata": {},
   "outputs": [
    {
     "data": {
      "text/plain": [
       "0          !SUAC 05/604 ZAU AIRSPACE VOLK SOUTH MOA ACT 5...\n",
       "1          !SUAC 05/603 ZAU AIRSPACE VOLK EAST MOA ACT 80...\n",
       "2          !SUAC 05/605 ZMP AIRSPACE FALLS 1 MOA ACT 500F...\n",
       "3          !SUAC 05/607 ZMP AIRSPACE FALLS 2 MOA ACT 500F...\n",
       "4          !SUAC 05/602 ZMP AIRSPACE VOLK WEST MOA ACT 10...\n",
       "                                 ...                        \n",
       "1062033    !MCN 05/635 JYL OBST TOWER LGT (ASR 1310313) 3...\n",
       "1062034    !JBR 05/385 CXW AD AP SELF SERVE FUEL NOT AVBL...\n",
       "1062035    !BLM 05/018 BLM AIRSPACE SEE MIV 05/137 UAS 20...\n",
       "1062036    !MIV 05/137 COL AIRSPACE UAS WI AN AREA DEFINE...\n",
       "1062037                                                  NaN\n",
       "Name: SIMPLE_TEXT, Length: 1062038, dtype: object"
      ]
     },
     "execution_count": 21,
     "metadata": {},
     "output_type": "execute_result"
    }
   ],
   "source": [
    "df['SIMPLE_TEXT']"
   ]
  },
  {
   "cell_type": "code",
   "execution_count": 22,
   "id": "f2b2d2cf-1d3a-4f46-9478-74d275dd2f61",
   "metadata": {},
   "outputs": [
    {
     "data": {
      "text/plain": [
       "NaN                                                                                                                                         517886\n",
       "!YXX 06/018 RF2  CRF2 OBST LGT U/S TOWER 490011N 1223152W (APRX 6 NM E AD) 150 FT AGL 330 MSL  1706130730-1706131500EST                         14\n",
       "M0011/18 NOTAMC M0010/18                                                                                                                        11\n",
       "M0017/18 NOTAMC M0016/18                                                                                                                        11\n",
       "L0002/18 NOTAMC L0001/18                                                                                                                        11\n",
       "                                                                                                                                             ...  \n",
       "!FDC 7/3056 FDC CANCEL 7/2937 YIP                                                                                                                1\n",
       "!FDC 7/3050 FDC CANCEL 7/2930 YIP                                                                                                                1\n",
       "!FDC 7/3047 FDC CANCEL 7/2927 DET                                                                                                                1\n",
       "!FDC 7/3053 FDC CANCEL 7/2933 ARB                                                                                                                1\n",
       "!MIV 05/137 COL AIRSPACE UAS WI AN AREA DEFINED AS 1NM RADIUS OF  401043.90N0740046.90W (5.2NM ESE BLM) SFC-400FT  2005302200-2005302230         1\n",
       "Name: SIMPLE_TEXT, Length: 538249, dtype: int64"
      ]
     },
     "execution_count": 22,
     "metadata": {},
     "output_type": "execute_result"
    }
   ],
   "source": [
    "df['SIMPLE_TEXT'].value_counts(dropna=False)"
   ]
  },
  {
   "cell_type": "code",
   "execution_count": 54,
   "id": "fb623fe0-aef8-4ea8-b8f8-06aa1ecd59ef",
   "metadata": {},
   "outputs": [
    {
     "data": {
      "text/plain": [
       "NaN                                                                                                                                         0.48763\n",
       "!YXX 06/018 RF2  CRF2 OBST LGT U/S TOWER 490011N 1223152W (APRX 6 NM E AD) 150 FT AGL 330 MSL  1706130730-1706131500EST                     0.00001\n",
       "M0011/18 NOTAMC M0010/18                                                                                                                    0.00001\n",
       "M0017/18 NOTAMC M0016/18                                                                                                                    0.00001\n",
       "L0002/18 NOTAMC L0001/18                                                                                                                    0.00001\n",
       "                                                                                                                                             ...   \n",
       "!FDC 7/3056 FDC CANCEL 7/2937 YIP                                                                                                           0.00000\n",
       "!FDC 7/3050 FDC CANCEL 7/2930 YIP                                                                                                           0.00000\n",
       "!FDC 7/3047 FDC CANCEL 7/2927 DET                                                                                                           0.00000\n",
       "!FDC 7/3053 FDC CANCEL 7/2933 ARB                                                                                                           0.00000\n",
       "!MIV 05/137 COL AIRSPACE UAS WI AN AREA DEFINED AS 1NM RADIUS OF  401043.90N0740046.90W (5.2NM ESE BLM) SFC-400FT  2005302200-2005302230    0.00000\n",
       "Name: SIMPLE_TEXT, Length: 538249, dtype: object"
      ]
     },
     "execution_count": 54,
     "metadata": {},
     "output_type": "execute_result"
    }
   ],
   "source": [
    "df['SIMPLE_TEXT'].value_counts(dropna=False, normalize=True).apply(lambda x: '%.5f' % x)"
   ]
  },
  {
   "cell_type": "markdown",
   "id": "37a6d67a-cdf5-4b21-8503-950ec82a27f6",
   "metadata": {
    "jp-MarkdownHeadingCollapsed": true,
    "tags": []
   },
   "source": [
    "#### LOC_ID_ACCOUNTABLE_ORG\n",
    "* Majority are NaNs, at 51% of the data.\n",
    "* FDC represents 10% of data, and a few others represent >1% of data.\n",
    "* Repeats\n",
    "* Includes chart"
   ]
  },
  {
   "cell_type": "code",
   "execution_count": 23,
   "id": "58da59cb-ed46-49d5-9c50-387754bd4e63",
   "metadata": {},
   "outputs": [
    {
     "data": {
      "text/plain": [
       "0          SUAC\n",
       "1          SUAC\n",
       "2          SUAC\n",
       "3          SUAC\n",
       "4          SUAC\n",
       "           ... \n",
       "1062033     MCN\n",
       "1062034     JBR\n",
       "1062035     BLM\n",
       "1062036     MIV\n",
       "1062037     NaN\n",
       "Name: LOC_ID_ACCOUNTABLE_ORG, Length: 1062038, dtype: object"
      ]
     },
     "execution_count": 23,
     "metadata": {},
     "output_type": "execute_result"
    }
   ],
   "source": [
    "df['LOC_ID_ACCOUNTABLE_ORG']"
   ]
  },
  {
   "cell_type": "code",
   "execution_count": 24,
   "id": "04468017-8a2f-4ea7-95c0-3a85290f704b",
   "metadata": {},
   "outputs": [
    {
     "data": {
      "text/plain": [
       "NaN     543538\n",
       "FDC     109679\n",
       "SUAW     39548\n",
       "SUAC     26722\n",
       "SUAE     19503\n",
       "         ...  \n",
       "OEHL         1\n",
       "EPMM         1\n",
       "PAIM         1\n",
       "XPY          1\n",
       "NUW          1\n",
       "Name: LOC_ID_ACCOUNTABLE_ORG, Length: 2226, dtype: int64"
      ]
     },
     "execution_count": 24,
     "metadata": {},
     "output_type": "execute_result"
    }
   ],
   "source": [
    "df['LOC_ID_ACCOUNTABLE_ORG'].value_counts(dropna=False)"
   ]
  },
  {
   "cell_type": "code",
   "execution_count": 53,
   "id": "c6bd0edf-838f-4fcf-aaf3-87388ffcbbe6",
   "metadata": {},
   "outputs": [
    {
     "data": {
      "text/plain": [
       "NaN     0.51179\n",
       "FDC     0.10327\n",
       "SUAW    0.03724\n",
       "SUAC    0.02516\n",
       "SUAE    0.01836\n",
       "         ...   \n",
       "OEHL    0.00000\n",
       "EPMM    0.00000\n",
       "PAIM    0.00000\n",
       "XPY     0.00000\n",
       "NUW     0.00000\n",
       "Name: LOC_ID_ACCOUNTABLE_ORG, Length: 2226, dtype: object"
      ]
     },
     "execution_count": 53,
     "metadata": {},
     "output_type": "execute_result"
    }
   ],
   "source": [
    "df['LOC_ID_ACCOUNTABLE_ORG'].value_counts(dropna=False, normalize=True).apply(lambda x: '%.5f' % x)"
   ]
  },
  {
   "cell_type": "code",
   "execution_count": 77,
   "id": "d56243cf-c10e-4100-9590-590061d5e61d",
   "metadata": {},
   "outputs": [
    {
     "data": {
      "image/png": "[encoded data removed]",
      "text/plain": [
       "<Figure size 720x360 with 1 Axes>"
      ]
     },
     "metadata": {
      "needs_background": "light"
     },
     "output_type": "display_data"
    }
   ],
   "source": [
    "df['LOC_ID_ACCOUNTABLE_ORG'].value_counts(dropna=False, normalize=True).nlargest(5).plot(kind='bar', \n",
    "                                                                                         title='LOC_ID_ACCOUNTABLE_ORG Top 5 Types Proportion of Data',\n",
    "                                                                                         figsize=(10, 5));"
   ]
  },
  {
   "cell_type": "markdown",
   "id": "d50d7bcb-7e9c-49b5-bd0d-76938175e265",
   "metadata": {
    "jp-MarkdownHeadingCollapsed": true,
    "tags": []
   },
   "source": [
    "#### NOTAM_NUMBER\n",
    "* Majority are NaNs, at 51% of the data.\n",
    "* No other entry has a material proportion of the data.\n",
    "* Lots of repeats > what does this mean?"
   ]
  },
  {
   "cell_type": "code",
   "execution_count": 25,
   "id": "f7103606-03c0-4fe8-8491-f5b80d63785e",
   "metadata": {},
   "outputs": [
    {
     "data": {
      "text/plain": [
       "0          05/604\n",
       "1          05/603\n",
       "2          05/605\n",
       "3          05/607\n",
       "4          05/602\n",
       "            ...  \n",
       "1062033    05/635\n",
       "1062034    05/385\n",
       "1062035    05/018\n",
       "1062036    05/137\n",
       "1062037       NaN\n",
       "Name: NOTAM_NUMBER, Length: 1062038, dtype: object"
      ]
     },
     "execution_count": 25,
     "metadata": {},
     "output_type": "execute_result"
    }
   ],
   "source": [
    "df['NOTAM_NUMBER']"
   ]
  },
  {
   "cell_type": "code",
   "execution_count": 26,
   "id": "431e5752-2208-4ba9-ba41-b2e13df9a5c2",
   "metadata": {},
   "outputs": [
    {
     "data": {
      "text/plain": [
       "NaN       545478\n",
       "10/001      1292\n",
       "05/001      1280\n",
       "03/001      1219\n",
       "12/001      1133\n",
       "           ...  \n",
       "9/9303         1\n",
       "6/1658         1\n",
       "9/9036         1\n",
       "6/1659         1\n",
       "0/4686         1\n",
       "Name: NOTAM_NUMBER, Length: 49843, dtype: int64"
      ]
     },
     "execution_count": 26,
     "metadata": {},
     "output_type": "execute_result"
    }
   ],
   "source": [
    "df['NOTAM_NUMBER'].value_counts(dropna=False)"
   ]
  },
  {
   "cell_type": "code",
   "execution_count": 52,
   "id": "6e765783-28a5-4017-907b-cb7ab01641a7",
   "metadata": {},
   "outputs": [
    {
     "data": {
      "text/plain": [
       "NaN       0.51361\n",
       "10/001    0.00122\n",
       "05/001    0.00121\n",
       "03/001    0.00115\n",
       "12/001    0.00107\n",
       "           ...   \n",
       "9/9303    0.00000\n",
       "6/1658    0.00000\n",
       "9/9036    0.00000\n",
       "6/1659    0.00000\n",
       "0/4686    0.00000\n",
       "Name: NOTAM_NUMBER, Length: 49843, dtype: object"
      ]
     },
     "execution_count": 52,
     "metadata": {},
     "output_type": "execute_result"
    }
   ],
   "source": [
    "df['NOTAM_NUMBER'].value_counts(dropna=False, normalize=True).apply(lambda x: '%.5f' % x)"
   ]
  },
  {
   "cell_type": "markdown",
   "id": "27ba247a-047c-419e-8df3-1ffef164ac5a",
   "metadata": {
    "jp-MarkdownHeadingCollapsed": true,
    "tags": []
   },
   "source": [
    "#### RELATED_NOTAM_NUMBER\n",
    "* Majority are NaNs, covering over 91% of the data.\n",
    "* No other entry has a material proportion of the data.\n",
    "* What does this field mean?"
   ]
  },
  {
   "cell_type": "code",
   "execution_count": 27,
   "id": "2910e260-4593-44ad-b056-1ab6d6a97dea",
   "metadata": {},
   "outputs": [
    {
     "data": {
      "text/plain": [
       "0             NaN\n",
       "1             NaN\n",
       "2             NaN\n",
       "3             NaN\n",
       "4             NaN\n",
       "            ...  \n",
       "1062033       NaN\n",
       "1062034       NaN\n",
       "1062035    05/137\n",
       "1062036       NaN\n",
       "1062037       NaN\n",
       "Name: RELATED_NOTAM_NUMBER, Length: 1062038, dtype: object"
      ]
     },
     "execution_count": 27,
     "metadata": {},
     "output_type": "execute_result"
    }
   ],
   "source": [
    "df['RELATED_NOTAM_NUMBER']"
   ]
  },
  {
   "cell_type": "code",
   "execution_count": 28,
   "id": "65ad855b-c3a0-4590-bdb7-c123cd73381a",
   "metadata": {},
   "outputs": [
    {
     "data": {
      "text/plain": [
       "NaN       969225\n",
       "8/3465        87\n",
       "7/3678        87\n",
       "7/1888        85\n",
       "7/1870        84\n",
       "           ...  \n",
       "8/4081         1\n",
       "8/4079         1\n",
       "8/4076         1\n",
       "8/0108         1\n",
       "05/774         1\n",
       "Name: RELATED_NOTAM_NUMBER, Length: 36592, dtype: int64"
      ]
     },
     "execution_count": 28,
     "metadata": {},
     "output_type": "execute_result"
    }
   ],
   "source": [
    "df['RELATED_NOTAM_NUMBER'].value_counts(dropna=False)"
   ]
  },
  {
   "cell_type": "code",
   "execution_count": 51,
   "id": "99d0041b-148a-4b80-9a64-ebee03ff8632",
   "metadata": {},
   "outputs": [
    {
     "data": {
      "text/plain": [
       "NaN       0.91261\n",
       "8/3465    0.00008\n",
       "7/3678    0.00008\n",
       "7/1888    0.00008\n",
       "7/1870    0.00008\n",
       "           ...   \n",
       "8/4081    0.00000\n",
       "8/4079    0.00000\n",
       "8/4076    0.00000\n",
       "8/0108    0.00000\n",
       "05/774    0.00000\n",
       "Name: RELATED_NOTAM_NUMBER, Length: 36592, dtype: object"
      ]
     },
     "execution_count": 51,
     "metadata": {},
     "output_type": "execute_result"
    }
   ],
   "source": [
    "df['RELATED_NOTAM_NUMBER'].value_counts(dropna=False, normalize=True).apply(lambda x: '%.5f' % x)"
   ]
  },
  {
   "cell_type": "markdown",
   "id": "4560dcf3-85c3-4b02-9aab-dba843ac548e",
   "metadata": {
    "jp-MarkdownHeadingCollapsed": true,
    "tags": []
   },
   "source": [
    "#### TEXT\n",
    "* There are NaNs, and its the biggest cateogry, but only covers 0.006% of data.\n",
    "* Repeats"
   ]
  },
  {
   "cell_type": "code",
   "execution_count": 29,
   "id": "ffb403f6-9db3-4f17-9b43-51cf08711b88",
   "metadata": {},
   "outputs": [
    {
     "data": {
      "text/plain": [
       "0          AIRSPACE VOLK SOUTH MOA ACT 500FT UP TO BUT NO...\n",
       "1          AIRSPACE VOLK EAST MOA ACT 8000FT UP TO BUT NO...\n",
       "2          AIRSPACE FALLS 1 MOA ACT 500FT UP TO BUT NOT I...\n",
       "3          AIRSPACE FALLS 2 MOA ACT 500FT UP TO BUT NOT I...\n",
       "4          AIRSPACE VOLK WEST MOA ACT 100FT UP TO BUT NOT...\n",
       "                                 ...                        \n",
       "1062033    OBST TOWER LGT (ASR 1310313) 324053.20N0813415...\n",
       "1062034                       AD AP SELF SERVE FUEL NOT AVBL\n",
       "1062035                          AIRSPACE SEE MIV 05/137 UAS\n",
       "1062036    AIRSPACE UAS WI AN AREA DEFINED AS 1NM RADIUS ...\n",
       "1062037                                       RWY 22 ILS U/S\n",
       "Name: TEXT, Length: 1062038, dtype: object"
      ]
     },
     "execution_count": 29,
     "metadata": {},
     "output_type": "execute_result"
    }
   ],
   "source": [
    "df['TEXT']"
   ]
  },
  {
   "cell_type": "code",
   "execution_count": 30,
   "id": "3795188f-57b1-45c9-bd1d-408f68416011",
   "metadata": {},
   "outputs": [
    {
     "data": {
      "text/plain": [
       "NaN                                                                                                                                                                                                                 6042\n",
       "NAV VORTAC NOT MNT                                                                                                                                                                                                  4268\n",
       "GPS RAIM PREDICTION FOR: TSO-C129 FAULT DETECTION NO GPS RAIM OUTAGES TSO-C146A FAULT DETECTION ONLY NO GPS RAIM OUTAGES TSO-C146A FAULT DETECTION WITH EXCLUSION NO GPS RAIM OUTAGES.                              4055\n",
       "GPS RAIM PREDICTION FOR: TSO-C129 FAULT DETECTION NO GPS RAIM OUTAGES TSO-C146A FAULT DETECTION ONLY NO GPS RAIM OUTAGES TSO-C146A FAULT DETECTION WITH EXCLUSION NO GPS RAIM OUTAGES                               3978\n",
       "NAV VOR/DME NOT MNT                                                                                                                                                                                                 3216\n",
       "                                                                                                                                                                                                                    ... \n",
       "OBST TOWER LGT (ASR 1049315) 320013.00N0954307.00W (11.1NM SSE F44) 945.9FT (498.7FT AGL) OUT OF SERVICE                                                                                                               1\n",
       "IAP CATTARAUGUS COUNTY-OLEAN, Olean, NY. LOC RWY 22, AMDT 6... PROCEDURE NA EXCEPT FOR AIRCRAFT EQUIPPED WITH SUITABLE RNAV SYSTEM WITH GPS, ELZ VOR OUT OF SERVICE. 1708241400-1708311400EST                          1\n",
       "IAP WELLSVILLE MUNI ARPT,TARANTINE FLD, Wellsville, NY. LOC/DME RWY 28, AMDT 4... PROCEDURE NA EXCEPT FOR AIRCRAFT EQUIPPED WITH SUITABLE RNAV SYSTEM WITH GPS, ELZ VOR OUT OF SERVICE. 1708241400-1708311400EST       1\n",
       "FDC 7/9162 NOTAMC 7/5543 A) SNA                                                                                                                                                                                        1\n",
       "AIRSPACE SEE MIV 05/137 UAS                                                                                                                                                                                            1\n",
       "Name: TEXT, Length: 569272, dtype: int64"
      ]
     },
     "execution_count": 30,
     "metadata": {},
     "output_type": "execute_result"
    }
   ],
   "source": [
    "df['TEXT'].value_counts(dropna=False)"
   ]
  },
  {
   "cell_type": "code",
   "execution_count": 50,
   "id": "e00b7080-6647-4194-b3ab-17f4005b05f4",
   "metadata": {},
   "outputs": [
    {
     "data": {
      "text/plain": [
       "NaN                                                                                                                                                                                                                 0.00569\n",
       "NAV VORTAC NOT MNT                                                                                                                                                                                                  0.00402\n",
       "GPS RAIM PREDICTION FOR: TSO-C129 FAULT DETECTION NO GPS RAIM OUTAGES TSO-C146A FAULT DETECTION ONLY NO GPS RAIM OUTAGES TSO-C146A FAULT DETECTION WITH EXCLUSION NO GPS RAIM OUTAGES.                              0.00382\n",
       "GPS RAIM PREDICTION FOR: TSO-C129 FAULT DETECTION NO GPS RAIM OUTAGES TSO-C146A FAULT DETECTION ONLY NO GPS RAIM OUTAGES TSO-C146A FAULT DETECTION WITH EXCLUSION NO GPS RAIM OUTAGES                               0.00375\n",
       "NAV VOR/DME NOT MNT                                                                                                                                                                                                 0.00303\n",
       "                                                                                                                                                                                                                     ...   \n",
       "OBST TOWER LGT (ASR 1049315) 320013.00N0954307.00W (11.1NM SSE F44) 945.9FT (498.7FT AGL) OUT OF SERVICE                                                                                                            0.00000\n",
       "IAP CATTARAUGUS COUNTY-OLEAN, Olean, NY. LOC RWY 22, AMDT 6... PROCEDURE NA EXCEPT FOR AIRCRAFT EQUIPPED WITH SUITABLE RNAV SYSTEM WITH GPS, ELZ VOR OUT OF SERVICE. 1708241400-1708311400EST                       0.00000\n",
       "IAP WELLSVILLE MUNI ARPT,TARANTINE FLD, Wellsville, NY. LOC/DME RWY 28, AMDT 4... PROCEDURE NA EXCEPT FOR AIRCRAFT EQUIPPED WITH SUITABLE RNAV SYSTEM WITH GPS, ELZ VOR OUT OF SERVICE. 1708241400-1708311400EST    0.00000\n",
       "FDC 7/9162 NOTAMC 7/5543 A) SNA                                                                                                                                                                                     0.00000\n",
       "AIRSPACE SEE MIV 05/137 UAS                                                                                                                                                                                         0.00000\n",
       "Name: TEXT, Length: 569272, dtype: object"
      ]
     },
     "execution_count": 50,
     "metadata": {},
     "output_type": "execute_result"
    }
   ],
   "source": [
    "df['TEXT'].value_counts(dropna=False, normalize=True).apply(lambda x: '%.5f' % x)"
   ]
  },
  {
   "cell_type": "markdown",
   "id": "3276a5f2-2b07-4530-8b49-39d037a64eea",
   "metadata": {
    "jp-MarkdownHeadingCollapsed": true,
    "tags": []
   },
   "source": [
    "#### Q_CODE\n",
    "* Close to majority are NaNs, covering 39% of the data.\n",
    "* A few other categories represent >1% of data.\n",
    "* Lots of repeats\n",
    "* Includes chart"
   ]
  },
  {
   "cell_type": "code",
   "execution_count": 31,
   "id": "d503867f-9d37-4d17-bb61-0b9a7c75ed9d",
   "metadata": {},
   "outputs": [
    {
     "data": {
      "text/plain": [
       "0                                           NaN\n",
       "1                                           NaN\n",
       "2                                           NaN\n",
       "3                                           NaN\n",
       "4                                           NaN\n",
       "                           ...                 \n",
       "1062033                                     NaN\n",
       "1062034                                     NaN\n",
       "1062035                                     NaN\n",
       "1062036                                     NaN\n",
       "1062037    KZNY/QXXXX////000/999/4047N07352W005\n",
       "Name: Q_CODE, Length: 1062038, dtype: object"
      ]
     },
     "execution_count": 31,
     "metadata": {},
     "output_type": "execute_result"
    }
   ],
   "source": [
    "df['Q_CODE']"
   ]
  },
  {
   "cell_type": "code",
   "execution_count": 32,
   "id": "81100fea-2da9-44dc-a580-bb929eac0d01",
   "metadata": {},
   "outputs": [
    {
     "data": {
      "text/plain": [
       "NaN                                            416162\n",
       "/QRRCA/                                         31445\n",
       "/QXXXX/                                         15359\n",
       "LRBB/QRRCA/IV/BO                                 7677\n",
       "YUXX/QARCA/I/NBO/E/000/999/2537S13421E999        6389\n",
       "                                                ...  \n",
       "UUWV/QRTCA/IV/BO/W/000/999/5511N03528E001           1\n",
       "UWWW/QRTCA/IV/BO/W/010/030/5502N05216E011           1\n",
       "UMKK/QRTCA/IV/BO/W/000/999/5426N02013E004           1\n",
       "LFMM/QACAH/IV/NBO/AE/000/050/4234N00848E008         1\n",
       "CZYZ/QMRAR/IV/NBO/A/000/999/4552N07715W005          1\n",
       "Name: Q_CODE, Length: 88562, dtype: int64"
      ]
     },
     "execution_count": 32,
     "metadata": {},
     "output_type": "execute_result"
    }
   ],
   "source": [
    "df['Q_CODE'].value_counts(dropna=False)"
   ]
  },
  {
   "cell_type": "code",
   "execution_count": 49,
   "id": "9016ca5c-27e9-496f-9c67-eb2c52473f5c",
   "metadata": {},
   "outputs": [
    {
     "data": {
      "text/plain": [
       "NaN                                            0.39185\n",
       "/QRRCA/                                        0.02961\n",
       "/QXXXX/                                        0.01446\n",
       "LRBB/QRRCA/IV/BO                               0.00723\n",
       "YUXX/QARCA/I/NBO/E/000/999/2537S13421E999      0.00602\n",
       "                                                ...   \n",
       "UUWV/QRTCA/IV/BO/W/000/999/5511N03528E001      0.00000\n",
       "UWWW/QRTCA/IV/BO/W/010/030/5502N05216E011      0.00000\n",
       "UMKK/QRTCA/IV/BO/W/000/999/5426N02013E004      0.00000\n",
       "LFMM/QACAH/IV/NBO/AE/000/050/4234N00848E008    0.00000\n",
       "CZYZ/QMRAR/IV/NBO/A/000/999/4552N07715W005     0.00000\n",
       "Name: Q_CODE, Length: 88562, dtype: object"
      ]
     },
     "execution_count": 49,
     "metadata": {},
     "output_type": "execute_result"
    }
   ],
   "source": [
    "df['Q_CODE'].value_counts(dropna=False, normalize=True).apply(lambda x: '%.5f' % x)"
   ]
  },
  {
   "cell_type": "code",
   "execution_count": 79,
   "id": "3e0f64fc-68a5-46bd-a114-6798b3b888ba",
   "metadata": {},
   "outputs": [
    {
     "data": {
      "image/png": "[encoded data removed]",
      "text/plain": [
       "<Figure size 720x360 with 1 Axes>"
      ]
     },
     "metadata": {
      "needs_background": "light"
     },
     "output_type": "display_data"
    }
   ],
   "source": [
    "df['Q_CODE'].value_counts(dropna=False, normalize=True).nlargest(5).plot(kind='bar', \n",
    "                                                                         title='Q_CODE Top 5 Types Proportion of Data',\n",
    "                                                                         figsize=(10, 5));"
   ]
  },
  {
   "cell_type": "markdown",
   "id": "f57e1d38-b201-4843-adda-40373a9b0e19",
   "metadata": {
    "jp-MarkdownHeadingCollapsed": true,
    "tags": []
   },
   "source": [
    "#### Q_CODE_INTERPRETATION\n",
    "* Majority are NaNs, covering 56% of the data.\n",
    "* A few other categories represent >1% of data.\n",
    "* Lots of repeats\n",
    "* Includes chart\n",
    "* Counts do not match Q_CODE > what could this mean?"
   ]
  },
  {
   "cell_type": "code",
   "execution_count": 33,
   "id": "309a96cb-064b-48ee-9d60-c2c657f644ea",
   "metadata": {},
   "outputs": [
    {
     "data": {
      "text/plain": [
       "0          NaN\n",
       "1          NaN\n",
       "2          NaN\n",
       "3          NaN\n",
       "4          NaN\n",
       "          ... \n",
       "1062033    NaN\n",
       "1062034    NaN\n",
       "1062035    NaN\n",
       "1062036    NaN\n",
       "1062037    NaN\n",
       "Name: Q_CODE_INTERPRETATION, Length: 1062038, dtype: object"
      ]
     },
     "execution_count": 33,
     "metadata": {},
     "output_type": "execute_result"
    }
   ],
   "source": [
    "df['Q_CODE_INTERPRETATION']"
   ]
  },
  {
   "cell_type": "code",
   "execution_count": 34,
   "id": "5d4c5dfd-2c17-42e1-9f76-0859c8d72e23",
   "metadata": {},
   "outputs": [
    {
     "data": {
      "text/plain": [
       "NaN                                                   597509\n",
       "RESTRICTED AREA ACTIVATED                              82311\n",
       "TEMPORARY RESTRICTED AREA ACTIVATED                    41880\n",
       "AERODROME                                              35304\n",
       "DANGER AREA ACTIVATED                                  22638\n",
       "                                                       ...  \n",
       "AIRCRAFT STANDS REALIGNED                                  1\n",
       "LOCALIZER ILS HAZARD                                       1\n",
       "LOCALIZER HAZARD                                           1\n",
       "RUNWAY AIRCRAFT RESTRICTED TO RUNWAYS AND TAXIWAYS         1\n",
       "FUEL AVAILABILITY ACTIVATED                                1\n",
       "Name: Q_CODE_INTERPRETATION, Length: 1425, dtype: int64"
      ]
     },
     "execution_count": 34,
     "metadata": {},
     "output_type": "execute_result"
    }
   ],
   "source": [
    "df['Q_CODE_INTERPRETATION'].value_counts(dropna=False)"
   ]
  },
  {
   "cell_type": "code",
   "execution_count": 48,
   "id": "45049cbf-da78-4ffe-82b1-5aa0e1424056",
   "metadata": {},
   "outputs": [
    {
     "data": {
      "text/plain": [
       "NaN                                                   0.56261\n",
       "RESTRICTED AREA ACTIVATED                             0.07750\n",
       "TEMPORARY RESTRICTED AREA ACTIVATED                   0.03943\n",
       "AERODROME                                             0.03324\n",
       "DANGER AREA ACTIVATED                                 0.02132\n",
       "                                                       ...   \n",
       "AIRCRAFT STANDS REALIGNED                             0.00000\n",
       "LOCALIZER ILS HAZARD                                  0.00000\n",
       "LOCALIZER HAZARD                                      0.00000\n",
       "RUNWAY AIRCRAFT RESTRICTED TO RUNWAYS AND TAXIWAYS    0.00000\n",
       "FUEL AVAILABILITY ACTIVATED                           0.00000\n",
       "Name: Q_CODE_INTERPRETATION, Length: 1425, dtype: object"
      ]
     },
     "execution_count": 48,
     "metadata": {},
     "output_type": "execute_result"
    }
   ],
   "source": [
    "df['Q_CODE_INTERPRETATION'].value_counts(dropna=False, normalize=True).apply(lambda x: '%.5f' % x)"
   ]
  },
  {
   "cell_type": "code",
   "execution_count": 80,
   "id": "65e978c1-52fd-4595-99eb-a5f6e5182a63",
   "metadata": {},
   "outputs": [
    {
     "data": {
      "image/png": "[encoded data removed]",
      "text/plain": [
       "<Figure size 720x360 with 1 Axes>"
      ]
     },
     "metadata": {
      "needs_background": "light"
     },
     "output_type": "display_data"
    }
   ],
   "source": [
    "df['Q_CODE_INTERPRETATION'].value_counts(dropna=False, normalize=True).nlargest(5).plot(kind='bar', \n",
    "                                                                                        title='Q_CODE_INTERPRETATION Top 5 Types Proportion of Data',\n",
    "                                                                                        figsize=(10, 5));"
   ]
  },
  {
   "cell_type": "markdown",
   "id": "278c848a-94f7-4d06-9408-90105a55cc07",
   "metadata": {
    "jp-MarkdownHeadingCollapsed": true,
    "tags": []
   },
   "source": [
    "#### A_CODE\n",
    "* Majority are NaNs, covering 56% of the data.\n",
    "* A few other categories represent >1% of data.\n",
    "* Lots of repeats\n",
    "* Includes chart"
   ]
  },
  {
   "cell_type": "code",
   "execution_count": 35,
   "id": "6306028d-b659-43fb-99ed-dae2534aeb2e",
   "metadata": {},
   "outputs": [
    {
     "data": {
      "text/plain": [
       "0           NaN\n",
       "1           NaN\n",
       "2           NaN\n",
       "3           NaN\n",
       "4           NaN\n",
       "           ... \n",
       "1062033     NaN\n",
       "1062034     NaN\n",
       "1062035     NaN\n",
       "1062036     NaN\n",
       "1062037    KLGA\n",
       "Name: A_CODE, Length: 1062038, dtype: object"
      ]
     },
     "execution_count": 35,
     "metadata": {},
     "output_type": "execute_result"
    }
   ],
   "source": [
    "df['A_CODE']"
   ]
  },
  {
   "cell_type": "code",
   "execution_count": 36,
   "id": "9d2545fc-c5a1-4394-af9e-ed145d22906e",
   "metadata": {},
   "outputs": [
    {
     "data": {
      "text/plain": [
       "NaN          321967\n",
       "UUWV          18316\n",
       "LRBB          18152\n",
       "YMMM/YBBB     11050\n",
       "EGTT           9778\n",
       "              ...  \n",
       "FQVL              1\n",
       "FQMP              1\n",
       "LFBX              1\n",
       "EHTL              1\n",
       "1422FT            1\n",
       "Name: A_CODE, Length: 11800, dtype: int64"
      ]
     },
     "execution_count": 36,
     "metadata": {},
     "output_type": "execute_result"
    }
   ],
   "source": [
    "df['A_CODE'].value_counts(dropna=False)"
   ]
  },
  {
   "cell_type": "code",
   "execution_count": 47,
   "id": "e2dee939-9d05-4aa6-8794-80509a958143",
   "metadata": {},
   "outputs": [
    {
     "data": {
      "text/plain": [
       "NaN          0.30316\n",
       "UUWV         0.01725\n",
       "LRBB         0.01709\n",
       "YMMM/YBBB    0.01040\n",
       "EGTT         0.00921\n",
       "              ...   \n",
       "FQVL         0.00000\n",
       "FQMP         0.00000\n",
       "LFBX         0.00000\n",
       "EHTL         0.00000\n",
       "1422FT       0.00000\n",
       "Name: A_CODE, Length: 11800, dtype: object"
      ]
     },
     "execution_count": 47,
     "metadata": {},
     "output_type": "execute_result"
    }
   ],
   "source": [
    "df['A_CODE'].value_counts(dropna=False, normalize=True).apply(lambda x: '%.5f' % x)"
   ]
  },
  {
   "cell_type": "code",
   "execution_count": 81,
   "id": "21731312-7893-4a01-af20-618e2b36bc3b",
   "metadata": {},
   "outputs": [
    {
     "data": {
      "image/png": "[encoded data removed]",
      "text/plain": [
       "<Figure size 720x360 with 1 Axes>"
      ]
     },
     "metadata": {
      "needs_background": "light"
     },
     "output_type": "display_data"
    }
   ],
   "source": [
    "df['A_CODE'].value_counts(dropna=False, normalize=True).nlargest(5).plot(kind='bar', \n",
    "                                                                         title='A_CODE Top 5 Types Proportion of Data',\n",
    "                                                                         figsize=(10, 5));"
   ]
  },
  {
   "cell_type": "markdown",
   "id": "04c27e07-718a-4ff1-804b-78a7128e3479",
   "metadata": {
    "jp-MarkdownHeadingCollapsed": true,
    "tags": []
   },
   "source": [
    "#### B_CODE\n",
    "* Close to majority are NaNs, covering 41% of the data. \n",
    "* No other entry has a material proportion of the data.\n",
    "* A few repeats"
   ]
  },
  {
   "cell_type": "code",
   "execution_count": 37,
   "id": "0b63bd7a-b810-470b-9327-b446b612faf2",
   "metadata": {},
   "outputs": [
    {
     "data": {
      "text/plain": [
       "0                              NaN\n",
       "1                              NaN\n",
       "2                              NaN\n",
       "3                              NaN\n",
       "4                              NaN\n",
       "                    ...           \n",
       "1062033                        NaN\n",
       "1062034                        NaN\n",
       "1062035                        NaN\n",
       "1062036                        NaN\n",
       "1062037    2020-05-30 21:48:00.000\n",
       "Name: B_CODE, Length: 1062038, dtype: object"
      ]
     },
     "execution_count": 37,
     "metadata": {},
     "output_type": "execute_result"
    }
   ],
   "source": [
    "df['B_CODE']"
   ]
  },
  {
   "cell_type": "code",
   "execution_count": 38,
   "id": "98453fb4-b30b-4202-b0fb-eecd4ffdafa6",
   "metadata": {},
   "outputs": [
    {
     "data": {
      "text/plain": [
       "NaN                        432084\n",
       "2019-10-10 09:01:00.000       365\n",
       "2018-09-19 04:00:00.000       304\n",
       "2019-12-05 00:00:00.000       257\n",
       "2019-05-23 00:00:00.000       249\n",
       "                            ...  \n",
       "2016-09-01 00:45:00.000         1\n",
       "2017-12-16 17:26:00.000         1\n",
       "2018-01-13 13:34:00.000         1\n",
       "2018-01-12 15:19:00.000         1\n",
       "2020-05-30 21:49:00.000         1\n",
       "Name: B_CODE, Length: 241079, dtype: int64"
      ]
     },
     "execution_count": 38,
     "metadata": {},
     "output_type": "execute_result"
    }
   ],
   "source": [
    "df['B_CODE'].value_counts(dropna=False)"
   ]
  },
  {
   "cell_type": "code",
   "execution_count": 46,
   "id": "41fa9c4e-58cf-4cef-ab1a-be4a3193b31b",
   "metadata": {},
   "outputs": [
    {
     "data": {
      "text/plain": [
       "NaN                        0.40684\n",
       "2019-10-10 09:01:00.000    0.00034\n",
       "2018-09-19 04:00:00.000    0.00029\n",
       "2019-12-05 00:00:00.000    0.00024\n",
       "2019-05-23 00:00:00.000    0.00023\n",
       "                            ...   \n",
       "2016-09-01 00:45:00.000    0.00000\n",
       "2017-12-16 17:26:00.000    0.00000\n",
       "2018-01-13 13:34:00.000    0.00000\n",
       "2018-01-12 15:19:00.000    0.00000\n",
       "2020-05-30 21:49:00.000    0.00000\n",
       "Name: B_CODE, Length: 241079, dtype: object"
      ]
     },
     "execution_count": 46,
     "metadata": {},
     "output_type": "execute_result"
    }
   ],
   "source": [
    "df['B_CODE'].value_counts(dropna=False, normalize=True).apply(lambda x: '%.5f' % x)"
   ]
  },
  {
   "cell_type": "markdown",
   "id": "8e4f6025-5f5c-4a62-8f8e-5f935ac8b7f6",
   "metadata": {
    "jp-MarkdownHeadingCollapsed": true,
    "tags": []
   },
   "source": [
    "#### C_CODE\n",
    "* Close to majority are NaNs, covering 49% of the data. \n",
    "* No other entry has a material proportion of the data.\n",
    "* A few repeats"
   ]
  },
  {
   "cell_type": "code",
   "execution_count": 82,
   "id": "6c22f665-7b21-47ef-b894-88db31746905",
   "metadata": {},
   "outputs": [
    {
     "data": {
      "text/plain": [
       "0                              NaN\n",
       "1                              NaN\n",
       "2                              NaN\n",
       "3                              NaN\n",
       "4                              NaN\n",
       "                    ...           \n",
       "1062033                        NaN\n",
       "1062034                        NaN\n",
       "1062035                        NaN\n",
       "1062036                        NaN\n",
       "1062037    2020-05-31 01:00:00.000\n",
       "Name: C_CODE, Length: 1062038, dtype: object"
      ]
     },
     "execution_count": 82,
     "metadata": {},
     "output_type": "execute_result"
    }
   ],
   "source": [
    "df['C_CODE']"
   ]
  },
  {
   "cell_type": "code",
   "execution_count": 83,
   "id": "cdd6f72c-bb91-405b-bf18-dba49db98c6e",
   "metadata": {},
   "outputs": [
    {
     "data": {
      "text/plain": [
       "NaN                        525191\n",
       "2018-01-31 23:59:00.000       480\n",
       "2017-02-28 23:59:00.000       393\n",
       "2019-02-28 23:59:00.000       362\n",
       "2018-02-28 23:59:00.000       354\n",
       "                            ...  \n",
       "2018-04-15 23:49:00.000         1\n",
       "2018-08-17 20:17:00.000         1\n",
       "2018-05-02 19:02:00.000         1\n",
       "2018-05-22 18:17:00.000         1\n",
       "2020-05-31 22:30:00.000         1\n",
       "Name: C_CODE, Length: 93943, dtype: int64"
      ]
     },
     "execution_count": 83,
     "metadata": {},
     "output_type": "execute_result"
    }
   ],
   "source": [
    "df['C_CODE'].value_counts(dropna=False)"
   ]
  },
  {
   "cell_type": "code",
   "execution_count": 86,
   "id": "980904f3-1d26-4b45-9224-d41319376445",
   "metadata": {},
   "outputs": [
    {
     "data": {
      "text/plain": [
       "NaN                        0.49451\n",
       "2018-01-31 23:59:00.000    0.00045\n",
       "2017-02-28 23:59:00.000    0.00037\n",
       "2019-02-28 23:59:00.000    0.00034\n",
       "2018-02-28 23:59:00.000    0.00033\n",
       "                            ...   \n",
       "2018-04-15 23:49:00.000    0.00000\n",
       "2018-08-17 20:17:00.000    0.00000\n",
       "2018-05-02 19:02:00.000    0.00000\n",
       "2018-05-22 18:17:00.000    0.00000\n",
       "2020-05-31 22:30:00.000    0.00000\n",
       "Name: C_CODE, Length: 93943, dtype: object"
      ]
     },
     "execution_count": 86,
     "metadata": {},
     "output_type": "execute_result"
    }
   ],
   "source": [
    "df['C_CODE'].value_counts(dropna=False, normalize=True).apply(lambda x: '%.5f' % x)"
   ]
  },
  {
   "cell_type": "markdown",
   "id": "30282860-0225-4614-af95-2330be3ee84c",
   "metadata": {
    "jp-MarkdownHeadingCollapsed": true,
    "tags": []
   },
   "source": [
    "#### D_CODE\n",
    "* Majority are NaNs, covering 90% of the data. \n",
    "* No other entry has a material proportion of the data.\n",
    "* A few repeats"
   ]
  },
  {
   "cell_type": "code",
   "execution_count": 87,
   "id": "ed816591-91cc-4d11-ae07-66a93aa6bb67",
   "metadata": {},
   "outputs": [
    {
     "data": {
      "text/plain": [
       "0          NaN\n",
       "1          NaN\n",
       "2          NaN\n",
       "3          NaN\n",
       "4          NaN\n",
       "          ... \n",
       "1062033    NaN\n",
       "1062034    NaN\n",
       "1062035    NaN\n",
       "1062036    NaN\n",
       "1062037    NaN\n",
       "Name: D_CODE, Length: 1062038, dtype: object"
      ]
     },
     "execution_count": 87,
     "metadata": {},
     "output_type": "execute_result"
    }
   ],
   "source": [
    "df['D_CODE']"
   ]
  },
  {
   "cell_type": "code",
   "execution_count": 88,
   "id": "515e9a46-3e4a-4e57-aae0-3667c3decb0f",
   "metadata": {},
   "outputs": [
    {
     "data": {
      "text/plain": [
       "NaN                                                                             954182\n",
       "DAILY 0600-1800                                                                    872\n",
       "H24                                                                                835\n",
       "DAILY 0500-1700                                                                    746\n",
       "SR-SS                                                                              729\n",
       "                                                                                 ...  \n",
       "05 1100-2100, 06-08 0700-2100, 09 0700-1100                                          1\n",
       "1315.9FT (255.9FT AGL) OUT OF SERVICE 1612261427-1701261427                          1\n",
       "5214.6FT (234.9FT AGL) OUT OF SERVICE 1803051042-1804041200                          1\n",
       "04 2300-2359, 05 06 0000-0300 0500-1000 2300-2359, 07 0000-   0300 0500-1000         1\n",
       "1807252300 TO 1807261200    1807262300 TO 1807270300                                 1\n",
       "Name: D_CODE, Length: 45932, dtype: int64"
      ]
     },
     "execution_count": 88,
     "metadata": {},
     "output_type": "execute_result"
    }
   ],
   "source": [
    "df['D_CODE'].value_counts(dropna=False)"
   ]
  },
  {
   "cell_type": "code",
   "execution_count": 89,
   "id": "a1d55af4-b095-4adb-88d5-ea032ee287a8",
   "metadata": {},
   "outputs": [
    {
     "data": {
      "text/plain": [
       "NaN                                                                             0.89844\n",
       "DAILY 0600-1800                                                                 0.00082\n",
       "H24                                                                             0.00079\n",
       "DAILY 0500-1700                                                                 0.00070\n",
       "SR-SS                                                                           0.00069\n",
       "                                                                                 ...   \n",
       "05 1100-2100, 06-08 0700-2100, 09 0700-1100                                     0.00000\n",
       "1315.9FT (255.9FT AGL) OUT OF SERVICE 1612261427-1701261427                     0.00000\n",
       "5214.6FT (234.9FT AGL) OUT OF SERVICE 1803051042-1804041200                     0.00000\n",
       "04 2300-2359, 05 06 0000-0300 0500-1000 2300-2359, 07 0000-   0300 0500-1000    0.00000\n",
       "1807252300 TO 1807261200    1807262300 TO 1807270300                            0.00000\n",
       "Name: D_CODE, Length: 45932, dtype: object"
      ]
     },
     "execution_count": 89,
     "metadata": {},
     "output_type": "execute_result"
    }
   ],
   "source": [
    "df['D_CODE'].value_counts(dropna=False, normalize=True).apply(lambda x: '%.5f' % x)"
   ]
  },
  {
   "cell_type": "markdown",
   "id": "d0d2710b-f0e1-4cb9-ad32-03ea269e2584",
   "metadata": {
    "jp-MarkdownHeadingCollapsed": true,
    "tags": []
   },
   "source": [
    "#### E_CODE\n",
    "* No entry has a material proportion of the data.\n",
    "* A few repeats"
   ]
  },
  {
   "cell_type": "code",
   "execution_count": 90,
   "id": "8763d6ec-8e96-4656-a97e-e9400b5f3d73",
   "metadata": {},
   "outputs": [
    {
     "data": {
      "text/plain": [
       "0          AIRSPACE VOLK SOUTH MOA ACT 500FT UP TO BUT NO...\n",
       "1          AIRSPACE VOLK EAST MOA ACT 8000FT UP TO BUT NO...\n",
       "2          AIRSPACE FALLS 1 MOA ACT 500FT UP TO BUT NOT I...\n",
       "3          AIRSPACE FALLS 2 MOA ACT 500FT UP TO BUT NOT I...\n",
       "4          AIRSPACE VOLK WEST MOA ACT 100FT UP TO BUT NOT...\n",
       "                                 ...                        \n",
       "1062033    OBST TOWER LGT (ASR 1310313) 324053.20N0813415...\n",
       "1062034                       AD AP SELF SERVE FUEL NOT AVBL\n",
       "1062035                          AIRSPACE SEE MIV 05/137 UAS\n",
       "1062036    AIRSPACE UAS WI AN AREA DEFINED AS 1NM RADIUS ...\n",
       "1062037                                      RWY 22 ILS U/S \n",
       "Name: E_CODE, Length: 1062038, dtype: object"
      ]
     },
     "execution_count": 90,
     "metadata": {},
     "output_type": "execute_result"
    }
   ],
   "source": [
    "df['E_CODE']"
   ]
  },
  {
   "cell_type": "code",
   "execution_count": 91,
   "id": "512043df-1ad7-4ac6-9246-ed2c0a9d7aea",
   "metadata": {},
   "outputs": [
    {
     "data": {
      "text/plain": [
       "CNL.                                                                                                                                                                                                                                                                                                                                                                                                                                                                                                                                                                                                                                                                                                                                                                                                                                                                                                                                                  8238\n",
       "CNL. NEW NOTAM TO FLW.                                                                                                                                                                                                                                                                                                                                                                                                                                                                                                                                                                                                                                                                                                                                                                                                                                                                                                                                4757\n",
       "NAV VORTAC NOT MNT                                                                                                                                                                                                                                                                                                                                                                                                                                                                                                                                                                                                                                                                                                                                                                                                                                                                                                                                    4277\n",
       "GPS RAIM PREDICTION FOR: TSO-C129 FAULT DETECTION NO GPS RAIM OUTAGES TSO-C146A FAULT DETECTION ONLY NO GPS RAIM OUTAGES TSO-C146A FAULT DETECTION WITH EXCLUSION NO GPS RAIM OUTAGES.                                                                                                                                                                                                                                                                                                                                                                                                                                                                                                                                                                                                                                                                                                                                                                4055\n",
       "GPS RAIM PREDICTION FOR: TSO-C129 FAULT DETECTION NO GPS RAIM OUTAGES TSO-C146A FAULT DETECTION ONLY NO GPS RAIM OUTAGES TSO-C146A FAULT DETECTION WITH EXCLUSION NO GPS RAIM OUTAGES                                                                                                                                                                                                                                                                                                                                                                                                                                                                                                                                                                                                                                                                                                                                                                 3997\n",
       "                                                                                                                                                                                                                                                                                                                                                                                                                                                                                                                                                                                                                                                                                                                                                                                                                                                                                                                                                      ... \n",
       "AERODROME PHHI CAUTION ADVISED UNMANNED AIRCRAFT AERIAL RECONNAISSANCE TRAINING CONDUCTED FROM PHHI TO RESTRICTED AIRSPACE R3109 A/B/C AND R3110 A/B/C 24 HOURS OF OPERATION WEEKDAYS ONLY 3000 FT UP TO15000 FT 2 RQ7B                                                                                                                                                                                                                                                                                                                                                                                                                                                                                                                                                                                                                                                                                                                                  1\n",
       "!FDC 7/1388 FDC CANCEL 7/1296 ZLC                                                                                                                                                                                                                                                                                                                                                                                                                                                                                                                                                                                                                                                                                                                                                                                                                                                                                                                        1\n",
       "CYVO RVR 18 U/S                                                                                                                                                                                                                                                                                                                                                                                                                                                                                                                                                                                                                                                                                                                                                                                                                                                                                                                                          1\n",
       "MT..AIRSPACE 3 NM SW OF LOLO, MT..TEMPORARY FLIGHT RESTRICTIONS WI AN AREA BOUNDED BY 464529N/1140517W (MISSOULA VOR/DME MSO164009.0) TO 463926N/1140459W (MISSOULA VOR/DME MSO163015.1) TO 463441N/1140541W (MISSOULA VOR/DME MSO164019.8) TO 463230N/1140643W (MISSOULA VOR/DME MSO166022.0) TO 463237N/1142744W (MISSOULA VOR/DME MSO199026.9) TO 463522N/1142712W (MISSOULA VOR/DME MSO202024.5) TO 464408N/1142508W (MISSOULA VOR/DME MSO216017.3) TO 464912N/1142205W (MISSOULA VOR/DME MSO229012.8) BACK TO THE ORIGINAL POINT. SFC-12000FT .  TO PROVIDE A SAFE ENVIRONMENT FOR FIRE FIGHTING. PURSUANT TO 14 CFR SECTION 91.137(A)(2) TEMPORARY FLIGHT RESTRICTIONS ARE IN EFFECT. LOLO NATIONAL FOREST, MISSOULA INTERAGENCY DISPATCH CENTER TELEPHONE 406-829-7070 OR FREQ 128.650/LOLO PEAK FIRE IS IN CHARGE OF THE OPERATION. SALT LAKE CITY /ZLC/ ARTCC TELEPHONE 801-320-2560 IS THE FAA COORDINATION FACILITY. DLY 1430-0300 UTC.       1\n",
       "AIRSPACE SEE MIV 05/137 UAS                                                                                                                                                                                                                                                                                                                                                                                                                                                                                                                                                                                                                                                                                                                                                                                                                                                                                                                              1\n",
       "Name: E_CODE, Length: 521610, dtype: int64"
      ]
     },
     "execution_count": 91,
     "metadata": {},
     "output_type": "execute_result"
    }
   ],
   "source": [
    "df['E_CODE'].value_counts(dropna=False)"
   ]
  },
  {
   "cell_type": "code",
   "execution_count": 92,
   "id": "63b9c3bb-bc75-416d-855d-fc3b6bff4742",
   "metadata": {},
   "outputs": [
    {
     "data": {
      "text/plain": [
       "CNL.                                                                                                                                                                                                                                                                                                                                                                                                                                                                                                                                                                                                                                                                                                                                                                                                                                                                                                                                                  0.00776\n",
       "CNL. NEW NOTAM TO FLW.                                                                                                                                                                                                                                                                                                                                                                                                                                                                                                                                                                                                                                                                                                                                                                                                                                                                                                                                0.00448\n",
       "NAV VORTAC NOT MNT                                                                                                                                                                                                                                                                                                                                                                                                                                                                                                                                                                                                                                                                                                                                                                                                                                                                                                                                    0.00403\n",
       "GPS RAIM PREDICTION FOR: TSO-C129 FAULT DETECTION NO GPS RAIM OUTAGES TSO-C146A FAULT DETECTION ONLY NO GPS RAIM OUTAGES TSO-C146A FAULT DETECTION WITH EXCLUSION NO GPS RAIM OUTAGES.                                                                                                                                                                                                                                                                                                                                                                                                                                                                                                                                                                                                                                                                                                                                                                0.00382\n",
       "GPS RAIM PREDICTION FOR: TSO-C129 FAULT DETECTION NO GPS RAIM OUTAGES TSO-C146A FAULT DETECTION ONLY NO GPS RAIM OUTAGES TSO-C146A FAULT DETECTION WITH EXCLUSION NO GPS RAIM OUTAGES                                                                                                                                                                                                                                                                                                                                                                                                                                                                                                                                                                                                                                                                                                                                                                 0.00376\n",
       "                                                                                                                                                                                                                                                                                                                                                                                                                                                                                                                                                                                                                                                                                                                                                                                                                                                                                                                                                       ...   \n",
       "AERODROME PHHI CAUTION ADVISED UNMANNED AIRCRAFT AERIAL RECONNAISSANCE TRAINING CONDUCTED FROM PHHI TO RESTRICTED AIRSPACE R3109 A/B/C AND R3110 A/B/C 24 HOURS OF OPERATION WEEKDAYS ONLY 3000 FT UP TO15000 FT 2 RQ7B                                                                                                                                                                                                                                                                                                                                                                                                                                                                                                                                                                                                                                                                                                                               0.00000\n",
       "!FDC 7/1388 FDC CANCEL 7/1296 ZLC                                                                                                                                                                                                                                                                                                                                                                                                                                                                                                                                                                                                                                                                                                                                                                                                                                                                                                                     0.00000\n",
       "CYVO RVR 18 U/S                                                                                                                                                                                                                                                                                                                                                                                                                                                                                                                                                                                                                                                                                                                                                                                                                                                                                                                                       0.00000\n",
       "MT..AIRSPACE 3 NM SW OF LOLO, MT..TEMPORARY FLIGHT RESTRICTIONS WI AN AREA BOUNDED BY 464529N/1140517W (MISSOULA VOR/DME MSO164009.0) TO 463926N/1140459W (MISSOULA VOR/DME MSO163015.1) TO 463441N/1140541W (MISSOULA VOR/DME MSO164019.8) TO 463230N/1140643W (MISSOULA VOR/DME MSO166022.0) TO 463237N/1142744W (MISSOULA VOR/DME MSO199026.9) TO 463522N/1142712W (MISSOULA VOR/DME MSO202024.5) TO 464408N/1142508W (MISSOULA VOR/DME MSO216017.3) TO 464912N/1142205W (MISSOULA VOR/DME MSO229012.8) BACK TO THE ORIGINAL POINT. SFC-12000FT .  TO PROVIDE A SAFE ENVIRONMENT FOR FIRE FIGHTING. PURSUANT TO 14 CFR SECTION 91.137(A)(2) TEMPORARY FLIGHT RESTRICTIONS ARE IN EFFECT. LOLO NATIONAL FOREST, MISSOULA INTERAGENCY DISPATCH CENTER TELEPHONE 406-829-7070 OR FREQ 128.650/LOLO PEAK FIRE IS IN CHARGE OF THE OPERATION. SALT LAKE CITY /ZLC/ ARTCC TELEPHONE 801-320-2560 IS THE FAA COORDINATION FACILITY. DLY 1430-0300 UTC.    0.00000\n",
       "AIRSPACE SEE MIV 05/137 UAS                                                                                                                                                                                                                                                                                                                                                                                                                                                                                                                                                                                                                                                                                                                                                                                                                                                                                                                           0.00000\n",
       "Name: E_CODE, Length: 521610, dtype: object"
      ]
     },
     "execution_count": 92,
     "metadata": {},
     "output_type": "execute_result"
    }
   ],
   "source": [
    "df['E_CODE'].value_counts(dropna=False, normalize=True).apply(lambda x: '%.5f' % x)"
   ]
  },
  {
   "cell_type": "markdown",
   "id": "d587f7a9-7308-4ca8-8064-6ac0e5b9b3ee",
   "metadata": {
    "jp-MarkdownHeadingCollapsed": true,
    "tags": []
   },
   "source": [
    "#### F_CODE\n",
    "* Close to a majority are NaNs or 000, covering 39% and 39% of the data, repectively. \n",
    "* A few other categories represent >1% of data.\n",
    "* A few repeats\n",
    "* Includes chart"
   ]
  },
  {
   "cell_type": "code",
   "execution_count": 93,
   "id": "c10e990a-af22-4aab-9de2-1225db3d7889",
   "metadata": {},
   "outputs": [
    {
     "data": {
      "text/plain": [
       "0          NaN\n",
       "1          NaN\n",
       "2          NaN\n",
       "3          NaN\n",
       "4          NaN\n",
       "          ... \n",
       "1062033    NaN\n",
       "1062034    NaN\n",
       "1062035    NaN\n",
       "1062036    NaN\n",
       "1062037    000\n",
       "Name: F_CODE, Length: 1062038, dtype: object"
      ]
     },
     "execution_count": 93,
     "metadata": {},
     "output_type": "execute_result"
    }
   ],
   "source": [
    "df['F_CODE']"
   ]
  },
  {
   "cell_type": "code",
   "execution_count": 94,
   "id": "45914d9a-3225-490e-928f-0bfc5ea9e05c",
   "metadata": {},
   "outputs": [
    {
     "data": {
      "text/plain": [
       "NaN         412559\n",
       "000         405623\n",
       "SFC         103570\n",
       "GND          53302\n",
       "SEE           2396\n",
       "             ...  \n",
       "4/47/47          1\n",
       "135.5            1\n",
       "690.0FT          1\n",
       "4/48/48          1\n",
       "2182.1FT         1\n",
       "Name: F_CODE, Length: 2068, dtype: int64"
      ]
     },
     "execution_count": 94,
     "metadata": {},
     "output_type": "execute_result"
    }
   ],
   "source": [
    "df['F_CODE'].value_counts(dropna=False)"
   ]
  },
  {
   "cell_type": "code",
   "execution_count": 95,
   "id": "57e127a0-698a-4ece-bd61-b276a3e16683",
   "metadata": {},
   "outputs": [
    {
     "data": {
      "text/plain": [
       "NaN         0.38846\n",
       "000         0.38193\n",
       "SFC         0.09752\n",
       "GND         0.05019\n",
       "SEE         0.00226\n",
       "             ...   \n",
       "4/47/47     0.00000\n",
       "135.5       0.00000\n",
       "690.0FT     0.00000\n",
       "4/48/48     0.00000\n",
       "2182.1FT    0.00000\n",
       "Name: F_CODE, Length: 2068, dtype: object"
      ]
     },
     "execution_count": 95,
     "metadata": {},
     "output_type": "execute_result"
    }
   ],
   "source": [
    "df['F_CODE'].value_counts(dropna=False, normalize=True).apply(lambda x: '%.5f' % x)"
   ]
  },
  {
   "cell_type": "code",
   "execution_count": 107,
   "id": "14b5b415-5cd2-421c-b4fb-43995de578f4",
   "metadata": {},
   "outputs": [
    {
     "data": {
      "image/png": "[encoded data removed]",
      "text/plain": [
       "<Figure size 720x360 with 1 Axes>"
      ]
     },
     "metadata": {
      "needs_background": "light"
     },
     "output_type": "display_data"
    }
   ],
   "source": [
    "df['F_CODE'].value_counts(dropna=False, normalize=True).nlargest(5).plot(kind='bar', \n",
    "                                                                         title='F_CODE Top 5 Types Proportion of Data',\n",
    "                                                                         figsize=(10, 5));"
   ]
  },
  {
   "cell_type": "markdown",
   "id": "64412fa9-b1ad-439b-aa92-de40679e7b1d",
   "metadata": {
    "jp-MarkdownHeadingCollapsed": true,
    "tags": []
   },
   "source": [
    "#### G_CODE\n",
    "* Close to a majority are NaNs or 999, covering 39% and 35% of the data, repectively. \n",
    "* No other entry has a material proportion of the data.\n",
    "* A few repeats\n",
    "* Includes chart"
   ]
  },
  {
   "cell_type": "code",
   "execution_count": 97,
   "id": "5dc0311c-fc92-4198-b764-f607789aa995",
   "metadata": {},
   "outputs": [
    {
     "data": {
      "text/plain": [
       "0          NaN\n",
       "1          NaN\n",
       "2          NaN\n",
       "3          NaN\n",
       "4          NaN\n",
       "          ... \n",
       "1062033    NaN\n",
       "1062034    NaN\n",
       "1062035    NaN\n",
       "1062036    NaN\n",
       "1062037    999\n",
       "Name: G_CODE, Length: 1062038, dtype: object"
      ]
     },
     "execution_count": 97,
     "metadata": {},
     "output_type": "execute_result"
    }
   ],
   "source": [
    "df['G_CODE']"
   ]
  },
  {
   "cell_type": "code",
   "execution_count": 98,
   "id": "c2744c77-accc-4af8-9017-1f7b30ff8510",
   "metadata": {},
   "outputs": [
    {
     "data": {
      "text/plain": [
       "NaN        412500\n",
       "999        371563\n",
       "UNL          9253\n",
       "5000FT       6222\n",
       "FL230        5040\n",
       "            ...  \n",
       "254.6FT         1\n",
       "360.9FT         1\n",
       "283.1FT         1\n",
       "269.0FT         1\n",
       "1626FT          1\n",
       "Name: G_CODE, Length: 4693, dtype: int64"
      ]
     },
     "execution_count": 98,
     "metadata": {},
     "output_type": "execute_result"
    }
   ],
   "source": [
    "df['G_CODE'].value_counts(dropna=False)"
   ]
  },
  {
   "cell_type": "code",
   "execution_count": 99,
   "id": "1d848905-2b67-488c-a2f1-57b02a17939d",
   "metadata": {},
   "outputs": [
    {
     "data": {
      "text/plain": [
       "NaN        0.38840\n",
       "999        0.34986\n",
       "UNL        0.00871\n",
       "5000FT     0.00586\n",
       "FL230      0.00475\n",
       "            ...   \n",
       "254.6FT    0.00000\n",
       "360.9FT    0.00000\n",
       "283.1FT    0.00000\n",
       "269.0FT    0.00000\n",
       "1626FT     0.00000\n",
       "Name: G_CODE, Length: 4693, dtype: object"
      ]
     },
     "execution_count": 99,
     "metadata": {},
     "output_type": "execute_result"
    }
   ],
   "source": [
    "df['G_CODE'].value_counts(dropna=False, normalize=True).apply(lambda x: '%.5f' % x)"
   ]
  },
  {
   "cell_type": "code",
   "execution_count": 106,
   "id": "691fcccd-2791-4220-92a3-d359dc3e625f",
   "metadata": {},
   "outputs": [
    {
     "data": {
      "image/png": "[encoded data removed]",
      "text/plain": [
       "<Figure size 720x360 with 1 Axes>"
      ]
     },
     "metadata": {
      "needs_background": "light"
     },
     "output_type": "display_data"
    }
   ],
   "source": [
    "df['G_CODE'].value_counts(dropna=False, normalize=True).nlargest(5).plot(kind='bar', \n",
    "                                                                         title='G_CODE Top 5 Types Proportion of Data',\n",
    "                                                                         figsize=(10, 5));"
   ]
  },
  {
   "cell_type": "markdown",
   "id": "879a9324-0242-4568-8766-52f691a69ba3",
   "metadata": {
    "jp-MarkdownHeadingCollapsed": true,
    "tags": []
   },
   "source": [
    "#### CLASSIFICATION\n",
    "* Close to a majority are INTL or DOM, covering 40% and 38% of the data, repectively. \n",
    "* Next two biggest categories, MIL and FDC, both cover more than 10% of the data each. \n",
    "* No other entry has a material proportion of the data.\n",
    "* A few repeats\n",
    "* Includes chart"
   ]
  },
  {
   "cell_type": "code",
   "execution_count": 101,
   "id": "d17e1d2a-6f71-4160-b156-af12b10b6933",
   "metadata": {},
   "outputs": [
    {
     "data": {
      "text/plain": [
       "0           DOM\n",
       "1           DOM\n",
       "2           DOM\n",
       "3           DOM\n",
       "4           DOM\n",
       "           ... \n",
       "1062033     DOM\n",
       "1062034     DOM\n",
       "1062035     DOM\n",
       "1062036     DOM\n",
       "1062037    INTL\n",
       "Name: CLASSIFICATION, Length: 1062038, dtype: object"
      ]
     },
     "execution_count": 101,
     "metadata": {},
     "output_type": "execute_result"
    }
   ],
   "source": [
    "df['CLASSIFICATION']"
   ]
  },
  {
   "cell_type": "code",
   "execution_count": 102,
   "id": "d40cb07a-6524-4834-84b2-75bf3eef9d2b",
   "metadata": {},
   "outputs": [
    {
     "data": {
      "text/plain": [
       "INTL               427893\n",
       "DOM                406881\n",
       "MIL                116128\n",
       "FDC                109681\n",
       "LMIL                 1219\n",
       "                    ...  \n",
       "M0044/18 NOTAMN         1\n",
       "M0042/18 NOTAMN         1\n",
       "M0043/18 NOTAMN         1\n",
       "M0159/18 NOTAMN         1\n",
       "M0101/20 NOTAMN         1\n",
       "Name: CLASSIFICATION, Length: 69, dtype: int64"
      ]
     },
     "execution_count": 102,
     "metadata": {},
     "output_type": "execute_result"
    }
   ],
   "source": [
    "df['CLASSIFICATION'].value_counts(dropna=False)"
   ]
  },
  {
   "cell_type": "code",
   "execution_count": 103,
   "id": "244425fb-15c8-42f2-8652-d2aebd0720f5",
   "metadata": {},
   "outputs": [
    {
     "data": {
      "text/plain": [
       "INTL               0.40290\n",
       "DOM                0.38311\n",
       "MIL                0.10934\n",
       "FDC                0.10327\n",
       "LMIL               0.00115\n",
       "                    ...   \n",
       "M0044/18 NOTAMN    0.00000\n",
       "M0042/18 NOTAMN    0.00000\n",
       "M0043/18 NOTAMN    0.00000\n",
       "M0159/18 NOTAMN    0.00000\n",
       "M0101/20 NOTAMN    0.00000\n",
       "Name: CLASSIFICATION, Length: 69, dtype: object"
      ]
     },
     "execution_count": 103,
     "metadata": {},
     "output_type": "execute_result"
    }
   ],
   "source": [
    "df['CLASSIFICATION'].value_counts(dropna=False, normalize=True).apply(lambda x: '%.5f' % x)"
   ]
  },
  {
   "cell_type": "code",
   "execution_count": 105,
   "id": "48e6559e-409a-4abf-ab50-f9118cb8a4a3",
   "metadata": {},
   "outputs": [
    {
     "data": {
      "image/png": "[encoded data removed]",
      "text/plain": [
       "<Figure size 720x360 with 1 Axes>"
      ]
     },
     "metadata": {
      "needs_background": "light"
     },
     "output_type": "display_data"
    }
   ],
   "source": [
    "df['CLASSIFICATION'].value_counts(dropna=False, normalize=True).nlargest(5).plot(kind='bar', \n",
    "                                                                         title='CLASSIFICATION Top 5 Types Proportion of Data',\n",
    "                                                                         figsize=(10, 5));"
   ]
  },
  {
   "cell_type": "markdown",
   "id": "6df9e117-4537-4214-add8-9d4addff09a5",
   "metadata": {
    "jp-MarkdownHeadingCollapsed": true,
    "tags": []
   },
   "source": [
    "#### CLASSIFICATION\n",
    "* Close to a majority are INTL or DOM, covering 40% and 38% of the data, repectively. \n",
    "* Next two biggest categories, MIL and FDC, both cover more than 10% of the data each. \n",
    "* No other entry has a material proportion of the data.\n",
    "* A few repeats\n",
    "* Includes chart"
   ]
  },
  {
   "cell_type": "code",
   "execution_count": 101,
   "id": "d55fbed5-d0fc-45ca-a8db-a0526e75437c",
   "metadata": {},
   "outputs": [
    {
     "data": {
      "text/plain": [
       "0           DOM\n",
       "1           DOM\n",
       "2           DOM\n",
       "3           DOM\n",
       "4           DOM\n",
       "           ... \n",
       "1062033     DOM\n",
       "1062034     DOM\n",
       "1062035     DOM\n",
       "1062036     DOM\n",
       "1062037    INTL\n",
       "Name: CLASSIFICATION, Length: 1062038, dtype: object"
      ]
     },
     "execution_count": 101,
     "metadata": {},
     "output_type": "execute_result"
    }
   ],
   "source": [
    "df['CLASSIFICATION']"
   ]
  },
  {
   "cell_type": "code",
   "execution_count": 102,
   "id": "43ddee2e-8c45-43c0-870e-9447908cb772",
   "metadata": {},
   "outputs": [
    {
     "data": {
      "text/plain": [
       "INTL               427893\n",
       "DOM                406881\n",
       "MIL                116128\n",
       "FDC                109681\n",
       "LMIL                 1219\n",
       "                    ...  \n",
       "M0044/18 NOTAMN         1\n",
       "M0042/18 NOTAMN         1\n",
       "M0043/18 NOTAMN         1\n",
       "M0159/18 NOTAMN         1\n",
       "M0101/20 NOTAMN         1\n",
       "Name: CLASSIFICATION, Length: 69, dtype: int64"
      ]
     },
     "execution_count": 102,
     "metadata": {},
     "output_type": "execute_result"
    }
   ],
   "source": [
    "df['CLASSIFICATION'].value_counts(dropna=False)"
   ]
  },
  {
   "cell_type": "code",
   "execution_count": 103,
   "id": "d58a4bdc-088c-45f9-9a96-bdc55f846830",
   "metadata": {},
   "outputs": [
    {
     "data": {
      "text/plain": [
       "INTL               0.40290\n",
       "DOM                0.38311\n",
       "MIL                0.10934\n",
       "FDC                0.10327\n",
       "LMIL               0.00115\n",
       "                    ...   \n",
       "M0044/18 NOTAMN    0.00000\n",
       "M0042/18 NOTAMN    0.00000\n",
       "M0043/18 NOTAMN    0.00000\n",
       "M0159/18 NOTAMN    0.00000\n",
       "M0101/20 NOTAMN    0.00000\n",
       "Name: CLASSIFICATION, Length: 69, dtype: object"
      ]
     },
     "execution_count": 103,
     "metadata": {},
     "output_type": "execute_result"
    }
   ],
   "source": [
    "df['CLASSIFICATION'].value_counts(dropna=False, normalize=True).apply(lambda x: '%.5f' % x)"
   ]
  },
  {
   "cell_type": "code",
   "execution_count": 105,
   "id": "683c0fbd-9bd1-4366-be43-1f95ffbf00d4",
   "metadata": {},
   "outputs": [
    {
     "data": {
      "image/png": "[encoded data removed]",
      "text/plain": [
       "<Figure size 720x360 with 1 Axes>"
      ]
     },
     "metadata": {
      "needs_background": "light"
     },
     "output_type": "display_data"
    }
   ],
   "source": [
    "df['CLASSIFICATION'].value_counts(dropna=False, normalize=True).nlargest(5).plot(kind='bar', \n",
    "                                                                         title='CLASSIFICATION Top 5 Types Proportion of Data',\n",
    "                                                                         figsize=(10, 5));"
   ]
  },
  {
   "cell_type": "markdown",
   "id": "38cb5d3d-cdfc-404f-8b7f-89f6275550d8",
   "metadata": {
    "jp-MarkdownHeadingCollapsed": true,
    "tags": []
   },
   "source": [
    "#### POSSIBLE_NOTAM_ID\n",
    "* How does this relate to NOTAM_ID? Proportions do not match. \n",
    "* Repeats, but cover an tiny proportion of the data."
   ]
  },
  {
   "cell_type": "code",
   "execution_count": 108,
   "id": "8506330c-fcb7-4e1a-826f-ff5c8ef3fea1",
   "metadata": {},
   "outputs": [
    {
     "data": {
      "text/plain": [
       "0                  0604/16\n",
       "1                  0603/16\n",
       "2                  0605/16\n",
       "3                  0607/16\n",
       "4                  0602/16\n",
       "                ...       \n",
       "1062033     0635/20 NOTAMN\n",
       "1062034     0385/20 NOTAMN\n",
       "1062035            0018/20\n",
       "1062036            0137/20\n",
       "1062037    A1093/20 NOTAMN\n",
       "Name: POSSIBLE_NOTAM_ID, Length: 1062038, dtype: object"
      ]
     },
     "execution_count": 108,
     "metadata": {},
     "output_type": "execute_result"
    }
   ],
   "source": [
    "df['POSSIBLE_NOTAM_ID']"
   ]
  },
  {
   "cell_type": "code",
   "execution_count": 109,
   "id": "bb7c41db-6adc-4b13-9b47-577c2b12e0e9",
   "metadata": {},
   "outputs": [
    {
     "data": {
      "text/plain": [
       "0001/17 NOTAMN     3666\n",
       "0002/17 NOTAMN     2954\n",
       "0003/17 NOTAMN     2639\n",
       "0004/17 NOTAMN     2405\n",
       "0001/18 NOTAMN     2377\n",
       "                   ... \n",
       "B1053/17 NOTAMN       1\n",
       "1091/17               1\n",
       "H6844/17 NOTAMC       1\n",
       "5474/17 NOTAMC        1\n",
       "B0833/20 NOTAMN       1\n",
       "Name: POSSIBLE_NOTAM_ID, Length: 367394, dtype: int64"
      ]
     },
     "execution_count": 109,
     "metadata": {},
     "output_type": "execute_result"
    }
   ],
   "source": [
    "df['POSSIBLE_NOTAM_ID'].value_counts(dropna=False)"
   ]
  },
  {
   "cell_type": "code",
   "execution_count": 110,
   "id": "fdc980b7-b14f-44ba-8681-29ce5b8c4aa4",
   "metadata": {},
   "outputs": [
    {
     "data": {
      "text/plain": [
       "0001/17 NOTAMN     0.00345\n",
       "0002/17 NOTAMN     0.00278\n",
       "0003/17 NOTAMN     0.00248\n",
       "0004/17 NOTAMN     0.00226\n",
       "0001/18 NOTAMN     0.00224\n",
       "                    ...   \n",
       "B1053/17 NOTAMN    0.00000\n",
       "1091/17            0.00000\n",
       "H6844/17 NOTAMC    0.00000\n",
       "5474/17 NOTAMC     0.00000\n",
       "B0833/20 NOTAMN    0.00000\n",
       "Name: POSSIBLE_NOTAM_ID, Length: 367394, dtype: object"
      ]
     },
     "execution_count": 110,
     "metadata": {},
     "output_type": "execute_result"
    }
   ],
   "source": [
    "df['POSSIBLE_NOTAM_ID'].value_counts(dropna=False, normalize=True).apply(lambda x: '%.5f' % x)"
   ]
  },
  {
   "cell_type": "markdown",
   "id": "8f2958e0-1de3-483d-8490-59490422299c",
   "metadata": {
    "tags": []
   },
   "source": [
    "#### MIN_ALT\n",
    "* 0 as a string and 0 as numeric both included. \n",
    "    * need to parse manually...\n",
    "    * Convert to float to aggregate better. __Assuming both all are numeric.__\n",
    "* \n",
    "* Top three categories (\n",
    "* Next two biggest categories, MIL and FDC, both cover more than 10% of the data each. \n",
    "* No other entry has a material proportion of the data.\n",
    "* A few repeats\n",
    "* Includes chart"
   ]
  },
  {
   "cell_type": "code",
   "execution_count": 144,
   "id": "bd8855e6-d342-430f-888e-cb9fadd18142",
   "metadata": {},
   "outputs": [],
   "source": [
    "# Helper function\n",
    "def convert_to_float(row):\n",
    "    try:\n",
    "        return float(row)\n",
    "    except:\n",
    "        return row"
   ]
  },
  {
   "cell_type": "code",
   "execution_count": 145,
   "id": "f339d716-a643-4232-a411-4facab93d921",
   "metadata": {},
   "outputs": [
    {
     "data": {
      "text/plain": [
       "0           5.0\n",
       "1          80.0\n",
       "2           5.0\n",
       "3           5.0\n",
       "4           1.0\n",
       "           ... \n",
       "1062033     NaN\n",
       "1062034     NaN\n",
       "1062035     NaN\n",
       "1062036     0.0\n",
       "1062037     0.0\n",
       "Name: MIN_ALT, Length: 1062038, dtype: object"
      ]
     },
     "execution_count": 145,
     "metadata": {},
     "output_type": "execute_result"
    }
   ],
   "source": [
    "df['MIN_ALT'].apply(convert_to_float)"
   ]
  },
  {
   "cell_type": "code",
   "execution_count": 129,
   "id": "6c3d438b-e7fe-4d8c-85cd-8ee9be7d2d74",
   "metadata": {},
   "outputs": [
    {
     "name": "stderr",
     "output_type": "stream",
     "text": [
      "/var/folders/wk/_x7mg1g17x70jm9czv01yk_r0000gp/T/ipykernel_86593/767993983.py:1: SettingWithCopyWarning: \n",
      "A value is trying to be set on a copy of a slice from a DataFrame\n",
      "\n",
      "See the caveats in the documentation: https://pandas.pydata.org/pandas-docs/stable/user_guide/indexing.html#returning-a-view-versus-a-copy\n",
      "  df['MIN_ALT'][df['MIN_ALT']=='0'] = 0.0\n"
     ]
    }
   ],
   "source": [
    "df['MIN_ALT'][df['MIN_ALT']=='0'] = 0.0"
   ]
  },
  {
   "cell_type": "code",
   "execution_count": 130,
   "id": "5bf4b18f-bd82-469d-a0e9-4993882a22a0",
   "metadata": {},
   "outputs": [],
   "source": [
    "df['MIN_ALT'] = pd.to_numeric(df['MIN_ALT'], errors='ignore', downcast='float')"
   ]
  },
  {
   "cell_type": "code",
   "execution_count": 148,
   "id": "2b2c7d48-ac90-46b6-bbb5-efd8a1494d7b",
   "metadata": {},
   "outputs": [
    {
     "data": {
      "text/plain": [
       "0           5.0\n",
       "1          80.0\n",
       "2           5.0\n",
       "3           5.0\n",
       "4           1.0\n",
       "           ... \n",
       "1062033     NaN\n",
       "1062034     NaN\n",
       "1062035     NaN\n",
       "1062036     0.0\n",
       "1062037     0.0\n",
       "Name: MIN_ALT, Length: 1062038, dtype: object"
      ]
     },
     "execution_count": 148,
     "metadata": {},
     "output_type": "execute_result"
    }
   ],
   "source": [
    "df['MIN_ALT']"
   ]
  },
  {
   "cell_type": "code",
   "execution_count": 147,
   "id": "0b7af684-86bd-4e98-857a-2ff1ddffa165",
   "metadata": {},
   "outputs": [
    {
     "data": {
      "text/plain": [
       "0         364696\n",
       "NaN       305060\n",
       "0.0       264381\n",
       "110         5676\n",
       "5           3970\n",
       "           ...  \n",
       "3.484          1\n",
       "2.116          1\n",
       "0.55           1\n",
       "8.947          1\n",
       "21.821         1\n",
       "Name: MIN_ALT, Length: 1834, dtype: int64"
      ]
     },
     "execution_count": 147,
     "metadata": {},
     "output_type": "execute_result"
    }
   ],
   "source": [
    "df['MIN_ALT'].value_counts(dropna=False)"
   ]
  },
  {
   "cell_type": "code",
   "execution_count": 135,
   "id": "fc9eff16-219c-487c-a09e-21effe830f32",
   "metadata": {},
   "outputs": [
    {
     "data": {
      "text/plain": [
       "82001      5\n",
       "82604      5\n",
       "83118      5\n",
       "83122      5\n",
       "83123      5\n",
       "          ..\n",
       "1031778    5\n",
       "1031780    5\n",
       "1032095    5\n",
       "1032096    5\n",
       "1032097    5\n",
       "Name: MIN_ALT, Length: 3970, dtype: object"
      ]
     },
     "execution_count": 135,
     "metadata": {},
     "output_type": "execute_result"
    }
   ],
   "source": [
    "df['MIN_ALT'][df['MIN_ALT']=='5']"
   ]
  },
  {
   "cell_type": "code",
   "execution_count": 136,
   "id": "225b64d0-852c-491f-a510-219e35a712e9",
   "metadata": {},
   "outputs": [
    {
     "data": {
      "text/plain": [
       "82001      5\n",
       "82604      5\n",
       "83118      5\n",
       "83122      5\n",
       "83123      5\n",
       "          ..\n",
       "1031778    5\n",
       "1031780    5\n",
       "1032095    5\n",
       "1032096    5\n",
       "1032097    5\n",
       "Name: MIN_ALT, Length: 3970, dtype: object"
      ]
     },
     "execution_count": 136,
     "metadata": {},
     "output_type": "execute_result"
    }
   ],
   "source": [
    "df['MIN_ALT'][df['MIN_ALT']=='5']"
   ]
  },
  {
   "cell_type": "code",
   "execution_count": 143,
   "id": "8b3f1b25-09a0-4ce8-a823-5980171950f5",
   "metadata": {},
   "outputs": [
    {
     "ename": "SyntaxError",
     "evalue": "invalid syntax (2103517684.py, line 1)",
     "output_type": "error",
     "traceback": [
      "\u001b[0;36m  Input \u001b[0;32mIn [143]\u001b[0;36m\u001b[0m\n\u001b[0;31m    df['MIN_ALT'].apply(lambda x: try float(x) except x)\u001b[0m\n\u001b[0m                                  ^\u001b[0m\n\u001b[0;31mSyntaxError\u001b[0m\u001b[0;31m:\u001b[0m invalid syntax\n"
     ]
    }
   ],
   "source": [
    "df['MIN_ALT'].apply(lambda x: try float(x) except x)"
   ]
  },
  {
   "cell_type": "code",
   "execution_count": 142,
   "id": "a729469a-71d9-4cc8-a8b4-d7c1b2fb5b35",
   "metadata": {},
   "outputs": [
    {
     "data": {
      "text/plain": [
       "str"
      ]
     },
     "execution_count": 142,
     "metadata": {},
     "output_type": "execute_result"
    }
   ],
   "source": [
    "type(df['MIN_ALT'].iloc[82001])"
   ]
  },
  {
   "cell_type": "code",
   "execution_count": 146,
   "id": "f82e6f50-13fb-44c8-8d51-fa59189beb10",
   "metadata": {},
   "outputs": [
    {
     "data": {
      "text/plain": [
       "0         0.34339\n",
       "NaN       0.28724\n",
       "0.0       0.24894\n",
       "110       0.00534\n",
       "5         0.00374\n",
       "           ...   \n",
       "3.484     0.00000\n",
       "2.116     0.00000\n",
       "0.55      0.00000\n",
       "8.947     0.00000\n",
       "21.821    0.00000\n",
       "Name: MIN_ALT, Length: 1834, dtype: object"
      ]
     },
     "execution_count": 146,
     "metadata": {},
     "output_type": "execute_result"
    }
   ],
   "source": [
    "df['MIN_ALT'].value_counts(dropna=False, normalize=True).apply(lambda x: '%.5f' % x)"
   ]
  },
  {
   "cell_type": "code",
   "execution_count": 105,
   "id": "f1a0718d-dfb5-4159-bb19-4d9cfee95996",
   "metadata": {},
   "outputs": [
    {
     "data": {
      "image/png": "[encoded data removed]",
      "text/plain": [
       "<Figure size 720x360 with 1 Axes>"
      ]
     },
     "metadata": {
      "needs_background": "light"
     },
     "output_type": "display_data"
    }
   ],
   "source": [
    "df['CLASSIFICATION'].value_counts(dropna=False, normalize=True).nlargest(5).plot(kind='bar', \n",
    "                                                                         title='CLASSIFICATION Top 5 Types Proportion of Data',\n",
    "                                                                         figsize=(10, 5));"
   ]
  }
 ],
 "metadata": {
  "kernelspec": {
   "display_name": "Python 3 (ipykernel)",
   "language": "python",
   "name": "python3"
  },
  "language_info": {
   "codemirror_mode": {
    "name": "ipython",
    "version": 3
   },
   "file_extension": ".py",
   "mimetype": "text/x-python",
   "name": "python",
   "nbconvert_exporter": "python",
   "pygments_lexer": "ipython3",
   "version": "3.9.12"
  }
 },
 "nbformat": 4,
 "nbformat_minor": 5
}
