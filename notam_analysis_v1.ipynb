{
 "cells": [
  {
   "cell_type": "markdown",
   "id": "ad38d077-549f-43c4-881f-c5eb882cfe2c",
   "metadata": {},
   "source": [
    "# NOTAM Analysis\n",
    "\n",
    "Please note that the data for this analysis is saved locally in a `data` folder that is one level above (a parent folder) to where the [GitHub](https://github.com/DAEN-Team-1/Final \"GitHub\") files have been saved. This was done because a lot of the data files are too large to be included in the GitHub repoo."
   ]
  },
  {
   "cell_type": "code",
   "execution_count": 1,
   "id": "c7378ccc-3a46-42e7-be8c-22488c1ad313",
   "metadata": {},
   "outputs": [],
   "source": [
    "# imports\n",
    "import pandas as pd\n",
    "# import bamboolib as bam"
   ]
  },
  {
   "cell_type": "code",
   "execution_count": 2,
   "id": "328a05f0-85e2-4eb9-846b-a1bdc8faf586",
   "metadata": {},
   "outputs": [
    {
     "name": "stderr",
     "output_type": "stream",
     "text": [
      "/var/folders/wk/_x7mg1g17x70jm9czv01yk_r0000gp/T/ipykernel_86593/232320566.py:3: DtypeWarning: Columns (22,23) have mixed types. Specify dtype option on import or set low_memory=False.\n",
      "  df = pd.read_csv('../data/notams.csv', on_bad_lines='skip', encoding='utf-16', parse_dates=date_cols)\n"
     ]
    }
   ],
   "source": [
    "# read data\n",
    "#            not                     parsed               not           not\n",
    "date_cols = ['POSSIBLE_START_DATE', 'POSSIBLE_END_DATE', 'ISSUE_DATE', 'CANCELED_DATE']\n",
    "df = pd.read_csv('../data/notams.csv', on_bad_lines='skip', encoding='utf-16', parse_dates=date_cols)"
   ]
  },
  {
   "cell_type": "markdown",
   "id": "3b1fad21-f798-46bd-9869-44a2fe6d1d43",
   "metadata": {},
   "source": [
    "Look at first few rows of data"
   ]
  },
  {
   "cell_type": "code",
   "execution_count": 3,
   "id": "dc5259c2-e0f4-42b6-84a8-3939c4d101c5",
   "metadata": {},
   "outputs": [
    {
     "data": {
      "text/html": [
       "<div>\n",
       "<style scoped>\n",
       "    .dataframe tbody tr th:only-of-type {\n",
       "        vertical-align: middle;\n",
       "    }\n",
       "\n",
       "    .dataframe tbody tr th {\n",
       "        vertical-align: top;\n",
       "    }\n",
       "\n",
       "    .dataframe thead th {\n",
       "        text-align: right;\n",
       "    }\n",
       "</style>\n",
       "<table border=\"1\" class=\"dataframe\">\n",
       "  <thead>\n",
       "    <tr style=\"text-align: right;\">\n",
       "      <th></th>\n",
       "      <th>NOTAM_REC_ID</th>\n",
       "      <th>FNS_ID</th>\n",
       "      <th>FILENAME</th>\n",
       "      <th>NOTAM_ID</th>\n",
       "      <th>NOTAM_TYPE</th>\n",
       "      <th>RELATED_NOTAM_ID</th>\n",
       "      <th>SIMPLE_TEXT</th>\n",
       "      <th>LOC_ID_ACCOUNTABLE_ORG</th>\n",
       "      <th>NOTAM_NUMBER</th>\n",
       "      <th>RELATED_NOTAM_NUMBER</th>\n",
       "      <th>...</th>\n",
       "      <th>POSSIBLE_END_DATE</th>\n",
       "      <th>ISSUE_DATE</th>\n",
       "      <th>CANCELED_DATE</th>\n",
       "      <th>AFFECTED_FIR</th>\n",
       "      <th>DESIGNATOR</th>\n",
       "      <th>DESIGNATOR_NAME</th>\n",
       "      <th>LOCATION_NAME</th>\n",
       "      <th>ACCOUNT_ID</th>\n",
       "      <th>LOCATION_CODE</th>\n",
       "      <th>LAUNCHES_REC_ID</th>\n",
       "    </tr>\n",
       "  </thead>\n",
       "  <tbody>\n",
       "    <tr>\n",
       "      <th>0</th>\n",
       "      <td>1</td>\n",
       "      <td>FNS_ID_43130705</td>\n",
       "      <td>E:\\Working\\Sherlock_NOTAM_Data\\Temporary\\notam...</td>\n",
       "      <td>0604/16</td>\n",
       "      <td>NaN</td>\n",
       "      <td>NaN</td>\n",
       "      <td>!SUAC 05/604 ZAU AIRSPACE VOLK SOUTH MOA ACT 5...</td>\n",
       "      <td>SUAC</td>\n",
       "      <td>05/604</td>\n",
       "      <td>NaN</td>\n",
       "      <td>...</td>\n",
       "      <td>2016-05-24 19:45:00</td>\n",
       "      <td>2016-05-24 04:35:00</td>\n",
       "      <td>2016-05-24 12:10:00</td>\n",
       "      <td>NaN</td>\n",
       "      <td>NaN</td>\n",
       "      <td>NaN</td>\n",
       "      <td>ZAU ARTCC</td>\n",
       "      <td>SUAC</td>\n",
       "      <td>ZAU</td>\n",
       "      <td>NaN</td>\n",
       "    </tr>\n",
       "    <tr>\n",
       "      <th>1</th>\n",
       "      <td>2</td>\n",
       "      <td>FNS_ID_43130704</td>\n",
       "      <td>E:\\Working\\Sherlock_NOTAM_Data\\Temporary\\notam...</td>\n",
       "      <td>0603/16</td>\n",
       "      <td>NaN</td>\n",
       "      <td>NaN</td>\n",
       "      <td>!SUAC 05/603 ZAU AIRSPACE VOLK EAST MOA ACT 80...</td>\n",
       "      <td>SUAC</td>\n",
       "      <td>05/603</td>\n",
       "      <td>NaN</td>\n",
       "      <td>...</td>\n",
       "      <td>2016-05-24 19:45:00</td>\n",
       "      <td>2016-05-24 04:35:00</td>\n",
       "      <td>2016-05-24 12:10:00</td>\n",
       "      <td>NaN</td>\n",
       "      <td>NaN</td>\n",
       "      <td>NaN</td>\n",
       "      <td>ZAU ARTCC</td>\n",
       "      <td>SUAC</td>\n",
       "      <td>ZAU</td>\n",
       "      <td>NaN</td>\n",
       "    </tr>\n",
       "    <tr>\n",
       "      <th>2</th>\n",
       "      <td>3</td>\n",
       "      <td>FNS_ID_43130706</td>\n",
       "      <td>E:\\Working\\Sherlock_NOTAM_Data\\Temporary\\notam...</td>\n",
       "      <td>0605/16</td>\n",
       "      <td>NaN</td>\n",
       "      <td>NaN</td>\n",
       "      <td>!SUAC 05/605 ZMP AIRSPACE FALLS 1 MOA ACT 500F...</td>\n",
       "      <td>SUAC</td>\n",
       "      <td>05/605</td>\n",
       "      <td>NaN</td>\n",
       "      <td>...</td>\n",
       "      <td>2016-05-24 19:45:00</td>\n",
       "      <td>2016-05-24 04:35:00</td>\n",
       "      <td>2016-05-24 12:10:00</td>\n",
       "      <td>NaN</td>\n",
       "      <td>NaN</td>\n",
       "      <td>NaN</td>\n",
       "      <td>ZMP ARTCC</td>\n",
       "      <td>SUAC</td>\n",
       "      <td>ZMP</td>\n",
       "      <td>NaN</td>\n",
       "    </tr>\n",
       "    <tr>\n",
       "      <th>3</th>\n",
       "      <td>4</td>\n",
       "      <td>FNS_ID_43130708</td>\n",
       "      <td>E:\\Working\\Sherlock_NOTAM_Data\\Temporary\\notam...</td>\n",
       "      <td>0607/16</td>\n",
       "      <td>NaN</td>\n",
       "      <td>NaN</td>\n",
       "      <td>!SUAC 05/607 ZMP AIRSPACE FALLS 2 MOA ACT 500F...</td>\n",
       "      <td>SUAC</td>\n",
       "      <td>05/607</td>\n",
       "      <td>NaN</td>\n",
       "      <td>...</td>\n",
       "      <td>2016-05-24 19:45:00</td>\n",
       "      <td>2016-05-24 04:35:00</td>\n",
       "      <td>2016-05-24 12:10:00</td>\n",
       "      <td>NaN</td>\n",
       "      <td>NaN</td>\n",
       "      <td>NaN</td>\n",
       "      <td>ZMP ARTCC</td>\n",
       "      <td>SUAC</td>\n",
       "      <td>ZMP</td>\n",
       "      <td>NaN</td>\n",
       "    </tr>\n",
       "    <tr>\n",
       "      <th>4</th>\n",
       "      <td>5</td>\n",
       "      <td>FNS_ID_43130703</td>\n",
       "      <td>E:\\Working\\Sherlock_NOTAM_Data\\Temporary\\notam...</td>\n",
       "      <td>0602/16</td>\n",
       "      <td>NaN</td>\n",
       "      <td>NaN</td>\n",
       "      <td>!SUAC 05/602 ZMP AIRSPACE VOLK WEST MOA ACT 10...</td>\n",
       "      <td>SUAC</td>\n",
       "      <td>05/602</td>\n",
       "      <td>NaN</td>\n",
       "      <td>...</td>\n",
       "      <td>2016-05-24 19:45:00</td>\n",
       "      <td>2016-05-24 04:35:00</td>\n",
       "      <td>2016-05-24 12:10:00</td>\n",
       "      <td>NaN</td>\n",
       "      <td>NaN</td>\n",
       "      <td>NaN</td>\n",
       "      <td>ZMP ARTCC</td>\n",
       "      <td>SUAC</td>\n",
       "      <td>ZMP</td>\n",
       "      <td>NaN</td>\n",
       "    </tr>\n",
       "  </tbody>\n",
       "</table>\n",
       "<p>5 rows × 37 columns</p>\n",
       "</div>"
      ],
      "text/plain": [
       "   NOTAM_REC_ID           FNS_ID  \\\n",
       "0             1  FNS_ID_43130705   \n",
       "1             2  FNS_ID_43130704   \n",
       "2             3  FNS_ID_43130706   \n",
       "3             4  FNS_ID_43130708   \n",
       "4             5  FNS_ID_43130703   \n",
       "\n",
       "                                            FILENAME NOTAM_ID NOTAM_TYPE  \\\n",
       "0  E:\\Working\\Sherlock_NOTAM_Data\\Temporary\\notam...  0604/16        NaN   \n",
       "1  E:\\Working\\Sherlock_NOTAM_Data\\Temporary\\notam...  0603/16        NaN   \n",
       "2  E:\\Working\\Sherlock_NOTAM_Data\\Temporary\\notam...  0605/16        NaN   \n",
       "3  E:\\Working\\Sherlock_NOTAM_Data\\Temporary\\notam...  0607/16        NaN   \n",
       "4  E:\\Working\\Sherlock_NOTAM_Data\\Temporary\\notam...  0602/16        NaN   \n",
       "\n",
       "  RELATED_NOTAM_ID                                        SIMPLE_TEXT  \\\n",
       "0              NaN  !SUAC 05/604 ZAU AIRSPACE VOLK SOUTH MOA ACT 5...   \n",
       "1              NaN  !SUAC 05/603 ZAU AIRSPACE VOLK EAST MOA ACT 80...   \n",
       "2              NaN  !SUAC 05/605 ZMP AIRSPACE FALLS 1 MOA ACT 500F...   \n",
       "3              NaN  !SUAC 05/607 ZMP AIRSPACE FALLS 2 MOA ACT 500F...   \n",
       "4              NaN  !SUAC 05/602 ZMP AIRSPACE VOLK WEST MOA ACT 10...   \n",
       "\n",
       "  LOC_ID_ACCOUNTABLE_ORG NOTAM_NUMBER RELATED_NOTAM_NUMBER  ...  \\\n",
       "0                   SUAC       05/604                  NaN  ...   \n",
       "1                   SUAC       05/603                  NaN  ...   \n",
       "2                   SUAC       05/605                  NaN  ...   \n",
       "3                   SUAC       05/607                  NaN  ...   \n",
       "4                   SUAC       05/602                  NaN  ...   \n",
       "\n",
       "    POSSIBLE_END_DATE           ISSUE_DATE        CANCELED_DATE AFFECTED_FIR  \\\n",
       "0 2016-05-24 19:45:00  2016-05-24 04:35:00  2016-05-24 12:10:00          NaN   \n",
       "1 2016-05-24 19:45:00  2016-05-24 04:35:00  2016-05-24 12:10:00          NaN   \n",
       "2 2016-05-24 19:45:00  2016-05-24 04:35:00  2016-05-24 12:10:00          NaN   \n",
       "3 2016-05-24 19:45:00  2016-05-24 04:35:00  2016-05-24 12:10:00          NaN   \n",
       "4 2016-05-24 19:45:00  2016-05-24 04:35:00  2016-05-24 12:10:00          NaN   \n",
       "\n",
       "  DESIGNATOR DESIGNATOR_NAME LOCATION_NAME ACCOUNT_ID LOCATION_CODE  \\\n",
       "0        NaN             NaN     ZAU ARTCC       SUAC           ZAU   \n",
       "1        NaN             NaN     ZAU ARTCC       SUAC           ZAU   \n",
       "2        NaN             NaN     ZMP ARTCC       SUAC           ZMP   \n",
       "3        NaN             NaN     ZMP ARTCC       SUAC           ZMP   \n",
       "4        NaN             NaN     ZMP ARTCC       SUAC           ZMP   \n",
       "\n",
       "  LAUNCHES_REC_ID  \n",
       "0             NaN  \n",
       "1             NaN  \n",
       "2             NaN  \n",
       "3             NaN  \n",
       "4             NaN  \n",
       "\n",
       "[5 rows x 37 columns]"
      ]
     },
     "execution_count": 3,
     "metadata": {},
     "output_type": "execute_result"
    }
   ],
   "source": [
    "df.head()"
   ]
  },
  {
   "cell_type": "markdown",
   "id": "1eeee592-33f4-4d8a-ae16-75da751c89cb",
   "metadata": {},
   "source": [
    "Get information on the dataframe\n",
    "* 1,062,863 rows\n",
    "* 37 columns\n",
    "* With the exception of `NOTAM_REC_ID` and `LAUNCHES_REC_ID`, all fields appear to be strings. \n",
    "    * This may require updating in order to \n",
    "* Aside from `LAUNCHES_REC_ID`, most columns have only a few hundred non-null entries, suggesting that the data is very sparse"
   ]
  },
  {
   "cell_type": "code",
   "execution_count": 4,
   "id": "18ca3d97-8afa-49a8-baad-d194f65a191d",
   "metadata": {},
   "outputs": [
    {
     "name": "stdout",
     "output_type": "stream",
     "text": [
      "<class 'pandas.core.frame.DataFrame'>\n",
      "RangeIndex: 1062038 entries, 0 to 1062037\n",
      "Data columns (total 37 columns):\n",
      " #   Column                  Non-Null Count    Dtype         \n",
      "---  ------                  --------------    -----         \n",
      " 0   NOTAM_REC_ID            1062038 non-null  int64         \n",
      " 1   FNS_ID                  1062038 non-null  object        \n",
      " 2   FILENAME                1062038 non-null  object        \n",
      " 3   NOTAM_ID                1062023 non-null  object        \n",
      " 4   NOTAM_TYPE              923865 non-null   object        \n",
      " 5   RELATED_NOTAM_ID        242320 non-null   object        \n",
      " 6   SIMPLE_TEXT             544152 non-null   object        \n",
      " 7   LOC_ID_ACCOUNTABLE_ORG  518500 non-null   object        \n",
      " 8   NOTAM_NUMBER            516560 non-null   object        \n",
      " 9   RELATED_NOTAM_NUMBER    92813 non-null    object        \n",
      " 10  TEXT                    1055996 non-null  object        \n",
      " 11  Q_CODE                  645876 non-null   object        \n",
      " 12  Q_CODE_INTERPRETATION   464529 non-null   object        \n",
      " 13  A_CODE                  740071 non-null   object        \n",
      " 14  B_CODE                  629954 non-null   object        \n",
      " 15  C_CODE                  536847 non-null   object        \n",
      " 16  D_CODE                  107856 non-null   object        \n",
      " 17  E_CODE                  1061799 non-null  object        \n",
      " 18  F_CODE                  649479 non-null   object        \n",
      " 19  G_CODE                  649538 non-null   object        \n",
      " 20  CLASSIFICATION          1062019 non-null  object        \n",
      " 21  POSSIBLE_NOTAM_ID       1062022 non-null  object        \n",
      " 22  MIN_ALT                 756978 non-null   object        \n",
      " 23  MAX_ALT                 724423 non-null   object        \n",
      " 24  MIN_ALT_REF_TYPE        669489 non-null   object        \n",
      " 25  MAX_ALT_REF_TYPE        626849 non-null   object        \n",
      " 26  POSSIBLE_START_DATE     1062036 non-null  object        \n",
      " 27  POSSIBLE_END_DATE       1047838 non-null  datetime64[ns]\n",
      " 28  ISSUE_DATE              1062022 non-null  object        \n",
      " 29  CANCELED_DATE           198252 non-null   object        \n",
      " 30  AFFECTED_FIR            641896 non-null   object        \n",
      " 31  DESIGNATOR              262809 non-null   object        \n",
      " 32  DESIGNATOR_NAME         238874 non-null   object        \n",
      " 33  LOCATION_NAME           1048799 non-null  object        \n",
      " 34  ACCOUNT_ID              1061864 non-null  object        \n",
      " 35  LOCATION_CODE           1061805 non-null  object        \n",
      " 36  LAUNCHES_REC_ID         0 non-null        float64       \n",
      "dtypes: datetime64[ns](1), float64(1), int64(1), object(34)\n",
      "memory usage: 299.8+ MB\n"
     ]
    }
   ],
   "source": [
    "df.info()"
   ]
  },
  {
   "cell_type": "markdown",
   "id": "7ba57044-215c-4c74-a97f-453450a00ada",
   "metadata": {},
   "source": [
    "Get summary stats"
   ]
  },
  {
   "cell_type": "code",
   "execution_count": 5,
   "id": "6172b1b2-2fb4-4723-8d27-8d3904623461",
   "metadata": {},
   "outputs": [
    {
     "data": {
      "text/html": [
       "<div>\n",
       "<style scoped>\n",
       "    .dataframe tbody tr th:only-of-type {\n",
       "        vertical-align: middle;\n",
       "    }\n",
       "\n",
       "    .dataframe tbody tr th {\n",
       "        vertical-align: top;\n",
       "    }\n",
       "\n",
       "    .dataframe thead th {\n",
       "        text-align: right;\n",
       "    }\n",
       "</style>\n",
       "<table border=\"1\" class=\"dataframe\">\n",
       "  <thead>\n",
       "    <tr style=\"text-align: right;\">\n",
       "      <th></th>\n",
       "      <th>NOTAM_REC_ID</th>\n",
       "      <th>LAUNCHES_REC_ID</th>\n",
       "    </tr>\n",
       "  </thead>\n",
       "  <tbody>\n",
       "    <tr>\n",
       "      <th>count</th>\n",
       "      <td>1.062038e+06</td>\n",
       "      <td>0.0</td>\n",
       "    </tr>\n",
       "    <tr>\n",
       "      <th>mean</th>\n",
       "      <td>5.314754e+05</td>\n",
       "      <td>NaN</td>\n",
       "    </tr>\n",
       "    <tr>\n",
       "      <th>std</th>\n",
       "      <td>3.068384e+05</td>\n",
       "      <td>NaN</td>\n",
       "    </tr>\n",
       "    <tr>\n",
       "      <th>min</th>\n",
       "      <td>1.000000e+00</td>\n",
       "      <td>NaN</td>\n",
       "    </tr>\n",
       "    <tr>\n",
       "      <th>25%</th>\n",
       "      <td>2.657342e+05</td>\n",
       "      <td>NaN</td>\n",
       "    </tr>\n",
       "    <tr>\n",
       "      <th>50%</th>\n",
       "      <td>5.315025e+05</td>\n",
       "      <td>NaN</td>\n",
       "    </tr>\n",
       "    <tr>\n",
       "      <th>75%</th>\n",
       "      <td>7.972258e+05</td>\n",
       "      <td>NaN</td>\n",
       "    </tr>\n",
       "    <tr>\n",
       "      <th>max</th>\n",
       "      <td>1.062868e+06</td>\n",
       "      <td>NaN</td>\n",
       "    </tr>\n",
       "  </tbody>\n",
       "</table>\n",
       "</div>"
      ],
      "text/plain": [
       "       NOTAM_REC_ID  LAUNCHES_REC_ID\n",
       "count  1.062038e+06              0.0\n",
       "mean   5.314754e+05              NaN\n",
       "std    3.068384e+05              NaN\n",
       "min    1.000000e+00              NaN\n",
       "25%    2.657342e+05              NaN\n",
       "50%    5.315025e+05              NaN\n",
       "75%    7.972258e+05              NaN\n",
       "max    1.062868e+06              NaN"
      ]
     },
     "execution_count": 5,
     "metadata": {},
     "output_type": "execute_result"
    }
   ],
   "source": [
    "df.describe()"
   ]
  },
  {
   "cell_type": "markdown",
   "id": "39bf3228-ba87-4c53-9490-52bfcc2ae08f",
   "metadata": {},
   "source": [
    "## Examine column by column"
   ]
  },
  {
   "cell_type": "markdown",
   "id": "62695a17-84e4-4ce8-8a14-9c034c668f71",
   "metadata": {
    "jp-MarkdownHeadingCollapsed": true,
    "tags": []
   },
   "source": [
    "#### NOTAM_REC_ID\n",
    "* Seems to be a zero-indexed, sequence of indexes."
   ]
  },
  {
   "cell_type": "code",
   "execution_count": 6,
   "id": "575fbef4-d52b-4cd3-b95a-18307e85e5e9",
   "metadata": {},
   "outputs": [
    {
     "data": {
      "text/plain": [
       "0                1\n",
       "1                2\n",
       "2                3\n",
       "3                4\n",
       "4                5\n",
       "            ...   \n",
       "1062033    1062864\n",
       "1062034    1062865\n",
       "1062035    1062866\n",
       "1062036    1062867\n",
       "1062037    1062868\n",
       "Name: NOTAM_REC_ID, Length: 1062038, dtype: int64"
      ]
     },
     "execution_count": 6,
     "metadata": {},
     "output_type": "execute_result"
    }
   ],
   "source": [
    "df['NOTAM_REC_ID']"
   ]
  },
  {
   "cell_type": "markdown",
   "id": "376a4224-ac7d-41b6-8875-9ab6e2a62631",
   "metadata": {
    "jp-MarkdownHeadingCollapsed": true,
    "tags": []
   },
   "source": [
    "#### FNS_ID\n",
    "* All unique"
   ]
  },
  {
   "cell_type": "code",
   "execution_count": 7,
   "id": "0736873d-e432-4a46-a478-d83e4f5a6d0b",
   "metadata": {},
   "outputs": [
    {
     "data": {
      "text/plain": [
       "0          FNS_ID_43130705\n",
       "1          FNS_ID_43130704\n",
       "2          FNS_ID_43130706\n",
       "3          FNS_ID_43130708\n",
       "4          FNS_ID_43130703\n",
       "                ...       \n",
       "1062033    FNS_ID_57055569\n",
       "1062034    FNS_ID_57055570\n",
       "1062035    FNS_ID_57055571\n",
       "1062036    FNS_ID_57055572\n",
       "1062037    FNS_ID_57055573\n",
       "Name: FNS_ID, Length: 1062038, dtype: object"
      ]
     },
     "execution_count": 7,
     "metadata": {},
     "output_type": "execute_result"
    }
   ],
   "source": [
    "df['FNS_ID']"
   ]
  },
  {
   "cell_type": "code",
   "execution_count": 16,
   "id": "d4829232-37da-47d7-947d-9f6f25db3b45",
   "metadata": {},
   "outputs": [
    {
     "data": {
      "text/plain": [
       "FNS_ID_43130705    1\n",
       "FNS_ID_51108106    1\n",
       "FNS_ID_51108060    1\n",
       "FNS_ID_51108082    1\n",
       "FNS_ID_51108064    1\n",
       "                  ..\n",
       "FNS_ID_47241553    1\n",
       "FNS_ID_47241572    1\n",
       "FNS_ID_47241577    1\n",
       "FNS_ID_47241555    1\n",
       "FNS_ID_57055573    1\n",
       "Name: FNS_ID, Length: 1062038, dtype: int64"
      ]
     },
     "execution_count": 16,
     "metadata": {},
     "output_type": "execute_result"
    }
   ],
   "source": [
    "# All are unique\n",
    "df['FNS_ID'].value_counts()"
   ]
  },
  {
   "cell_type": "markdown",
   "id": "188a2117-fde1-48c5-8ebc-540f09b1b546",
   "metadata": {
    "jp-MarkdownHeadingCollapsed": true,
    "tags": []
   },
   "source": [
    "#### FILENAME\n",
    "* Do we have access to these files?\n",
    "* Lots of repeats"
   ]
  },
  {
   "cell_type": "code",
   "execution_count": 8,
   "id": "88012146-95cb-4f82-94de-931f4ca1c8a6",
   "metadata": {},
   "outputs": [
    {
     "data": {
      "text/plain": [
       "0          E:\\Working\\Sherlock_NOTAM_Data\\Temporary\\notam...\n",
       "1          E:\\Working\\Sherlock_NOTAM_Data\\Temporary\\notam...\n",
       "2          E:\\Working\\Sherlock_NOTAM_Data\\Temporary\\notam...\n",
       "3          E:\\Working\\Sherlock_NOTAM_Data\\Temporary\\notam...\n",
       "4          E:\\Working\\Sherlock_NOTAM_Data\\Temporary\\notam...\n",
       "                                 ...                        \n",
       "1062033    E:\\Working\\Sherlock_NOTAM_Data\\Temporary\\notam...\n",
       "1062034    E:\\Working\\Sherlock_NOTAM_Data\\Temporary\\notam...\n",
       "1062035    E:\\Working\\Sherlock_NOTAM_Data\\Temporary\\notam...\n",
       "1062036    E:\\Working\\Sherlock_NOTAM_Data\\Temporary\\notam...\n",
       "1062037    E:\\Working\\Sherlock_NOTAM_Data\\Temporary\\notam...\n",
       "Name: FILENAME, Length: 1062038, dtype: object"
      ]
     },
     "execution_count": 8,
     "metadata": {},
     "output_type": "execute_result"
    }
   ],
   "source": [
    "df['FILENAME']"
   ]
  },
  {
   "cell_type": "code",
   "execution_count": 18,
   "id": "de030a92-e1d7-4822-9e96-75b73d09a9c4",
   "metadata": {},
   "outputs": [
    {
     "data": {
      "text/plain": [
       "E:\\Working\\Sherlock_NOTAM_Data\\Temporary\\notam.20191001T1507Z_tmp.xml      10492\n",
       "E:\\Working\\Sherlock_NOTAM_Data\\Temporary\\notam.20190503T1519Z_tmp.xml       4901\n",
       "E:\\Working\\Sherlock_NOTAM_Data\\Temporary\\notam.20170622T202144Z_tmp.xml     1637\n",
       "E:\\Working\\Sherlock_NOTAM_Data\\Temporary\\notam.20160831T173246Z_tmp.xml     1453\n",
       "E:\\Working\\Sherlock_NOTAM_Data\\Temporary\\notam.20160831T171728Z_tmp.xml     1451\n",
       "                                                                           ...  \n",
       "E:\\Working\\Sherlock_NOTAM_Data\\Temporary\\notam.20180604T010732Z_tmp.xml        1\n",
       "E:\\Working\\Sherlock_NOTAM_Data\\Temporary\\notam.20180405T051356Z_tmp.xml        1\n",
       "E:\\Working\\Sherlock_NOTAM_Data\\Temporary\\notam.20171029T214122Z_tmp.xml        1\n",
       "E:\\Working\\Sherlock_NOTAM_Data\\Temporary\\notam.20180604T010030Z_tmp.xml        1\n",
       "E:\\Working\\Sherlock_NOTAM_Data\\Temporary\\notam.20180113T110000Z_tmp.xml        1\n",
       "Name: FILENAME, Length: 67086, dtype: int64"
      ]
     },
     "execution_count": 18,
     "metadata": {},
     "output_type": "execute_result"
    }
   ],
   "source": [
    "df['FILENAME'].value_counts()"
   ]
  },
  {
   "cell_type": "markdown",
   "id": "a4a5ccc9-43c9-4b76-81a7-731c7f71365e",
   "metadata": {
    "jp-MarkdownHeadingCollapsed": true,
    "tags": []
   },
   "source": [
    "#### NOTAM_ID\n",
    "* Lots of repeats!"
   ]
  },
  {
   "cell_type": "code",
   "execution_count": 9,
   "id": "620ec01d-c011-49de-9bea-4b8d6200ffa8",
   "metadata": {},
   "outputs": [
    {
     "data": {
      "text/plain": [
       "0           0604/16\n",
       "1           0603/16\n",
       "2           0605/16\n",
       "3           0607/16\n",
       "4           0602/16\n",
       "             ...   \n",
       "1062033     0635/20\n",
       "1062034     0385/20\n",
       "1062035     0018/20\n",
       "1062036     0137/20\n",
       "1062037    A1093/20\n",
       "Name: NOTAM_ID, Length: 1062038, dtype: object"
      ]
     },
     "execution_count": 9,
     "metadata": {},
     "output_type": "execute_result"
    }
   ],
   "source": [
    "df['NOTAM_ID']"
   ]
  },
  {
   "cell_type": "code",
   "execution_count": 17,
   "id": "76a0320e-f3ed-4edb-926a-e7c52a2e5e18",
   "metadata": {},
   "outputs": [
    {
     "data": {
      "text/plain": [
       "0001/17     3076\n",
       "0002/17     2559\n",
       "0003/17     2309\n",
       "0004/17     2036\n",
       "0001/18     2024\n",
       "            ... \n",
       "J5366/16       1\n",
       "C4395/16       1\n",
       "K6133/16       1\n",
       "D2320/16       1\n",
       "B0833/20       1\n",
       "Name: NOTAM_ID, Length: 307732, dtype: int64"
      ]
     },
     "execution_count": 17,
     "metadata": {},
     "output_type": "execute_result"
    }
   ],
   "source": [
    "df['NOTAM_ID'].value_counts()"
   ]
  },
  {
   "cell_type": "markdown",
   "id": "e8cd95b5-7573-46a1-8dc5-e068f03a3366",
   "metadata": {
    "jp-MarkdownHeadingCollapsed": true,
    "tags": []
   },
   "source": [
    "#### NOTAM_TYPE\n",
    "* Lots of repeats\n",
    "* Lots of NaNs"
   ]
  },
  {
   "cell_type": "code",
   "execution_count": 11,
   "id": "d362f2c6-9eb8-42c9-b9c6-d1b3d3eacbbd",
   "metadata": {},
   "outputs": [
    {
     "data": {
      "text/plain": [
       "0             NaN\n",
       "1             NaN\n",
       "2             NaN\n",
       "3             NaN\n",
       "4             NaN\n",
       "            ...  \n",
       "1062033    NOTAMN\n",
       "1062034    NOTAMN\n",
       "1062035       NaN\n",
       "1062036       NaN\n",
       "1062037    NOTAMN\n",
       "Name: NOTAM_TYPE, Length: 1062038, dtype: object"
      ]
     },
     "execution_count": 11,
     "metadata": {},
     "output_type": "execute_result"
    }
   ],
   "source": [
    "df['NOTAM_TYPE']"
   ]
  },
  {
   "cell_type": "code",
   "execution_count": 15,
   "id": "7890da05-4e53-45d8-a1d9-c2a133e6e0e9",
   "metadata": {},
   "outputs": [
    {
     "data": {
      "text/plain": [
       "NOTAMN    652544\n",
       "NOTAMC    185243\n",
       "NaN       138173\n",
       "NOTAMR     86078\n",
       "Name: NOTAM_TYPE, dtype: int64"
      ]
     },
     "execution_count": 15,
     "metadata": {},
     "output_type": "execute_result"
    }
   ],
   "source": [
    "df['NOTAM_TYPE'].value_counts(dropna=False)"
   ]
  },
  {
   "cell_type": "markdown",
   "id": "e8de887f-443d-4568-b121-e73c04a766c1",
   "metadata": {
    "jp-MarkdownHeadingCollapsed": true,
    "tags": []
   },
   "source": [
    "#### NOTAM_TYPE\n",
    "* Lots of repeats\n",
    "* Lots of NaNs"
   ]
  },
  {
   "cell_type": "code",
   "execution_count": 11,
   "id": "5cf9f6fc-fcff-44bc-9a55-741a5d9d4bc5",
   "metadata": {},
   "outputs": [
    {
     "data": {
      "text/plain": [
       "0             NaN\n",
       "1             NaN\n",
       "2             NaN\n",
       "3             NaN\n",
       "4             NaN\n",
       "            ...  \n",
       "1062033    NOTAMN\n",
       "1062034    NOTAMN\n",
       "1062035       NaN\n",
       "1062036       NaN\n",
       "1062037    NOTAMN\n",
       "Name: NOTAM_TYPE, Length: 1062038, dtype: object"
      ]
     },
     "execution_count": 11,
     "metadata": {},
     "output_type": "execute_result"
    }
   ],
   "source": [
    "df['NOTAM_TYPE']"
   ]
  },
  {
   "cell_type": "code",
   "execution_count": 15,
   "id": "f1d8df0b-d4fc-41c6-ba24-49604808cb9f",
   "metadata": {},
   "outputs": [
    {
     "data": {
      "text/plain": [
       "NOTAMN    652544\n",
       "NOTAMC    185243\n",
       "NaN       138173\n",
       "NOTAMR     86078\n",
       "Name: NOTAM_TYPE, dtype: int64"
      ]
     },
     "execution_count": 15,
     "metadata": {},
     "output_type": "execute_result"
    }
   ],
   "source": [
    "df['NOTAM_TYPE'].value_counts(dropna=False)"
   ]
  },
  {
   "cell_type": "markdown",
   "id": "9a582813-a0fa-43a2-b8fd-94eed87c8a16",
   "metadata": {
    "jp-MarkdownHeadingCollapsed": true,
    "tags": []
   },
   "source": [
    "#### RELATED_NOTAM_ID\n",
    "* Mostly NaNs\n",
    "* Repeats"
   ]
  },
  {
   "cell_type": "code",
   "execution_count": 19,
   "id": "35356f18-ff2d-4c4b-8541-e3782cfc042d",
   "metadata": {},
   "outputs": [
    {
     "data": {
      "text/plain": [
       "0          NaN\n",
       "1          NaN\n",
       "2          NaN\n",
       "3          NaN\n",
       "4          NaN\n",
       "          ... \n",
       "1062033    NaN\n",
       "1062034    NaN\n",
       "1062035    NaN\n",
       "1062036    NaN\n",
       "1062037    NaN\n",
       "Name: RELATED_NOTAM_ID, Length: 1062038, dtype: object"
      ]
     },
     "execution_count": 19,
     "metadata": {},
     "output_type": "execute_result"
    }
   ],
   "source": [
    "df['RELATED_NOTAM_ID']"
   ]
  },
  {
   "cell_type": "code",
   "execution_count": 20,
   "id": "8a4b0146-9851-4c84-94dc-de27805ff35b",
   "metadata": {},
   "outputs": [
    {
     "data": {
      "text/plain": [
       "NaN         819718\n",
       "A0001/17        94\n",
       "A0001/18        91\n",
       "A0001/19        70\n",
       "B0001/18        49\n",
       "             ...  \n",
       "J2533/18         1\n",
       "L4626/16         1\n",
       "J1665/18         1\n",
       "J1687/18         1\n",
       "A3935/20         1\n",
       "Name: RELATED_NOTAM_ID, Length: 130206, dtype: int64"
      ]
     },
     "execution_count": 20,
     "metadata": {},
     "output_type": "execute_result"
    }
   ],
   "source": [
    "df['RELATED_NOTAM_ID'].value_counts(dropna=False)"
   ]
  },
  {
   "cell_type": "markdown",
   "id": "e685c079-079b-4ab7-a45a-c8d445be3084",
   "metadata": {
    "jp-MarkdownHeadingCollapsed": true,
    "tags": []
   },
   "source": [
    "#### SIMPLE_TEXT\n",
    "* At least one NaN\n",
    "* A few repeats"
   ]
  },
  {
   "cell_type": "code",
   "execution_count": 21,
   "id": "659ffd7c-d574-4cfc-a8ba-35100e795623",
   "metadata": {},
   "outputs": [
    {
     "data": {
      "text/plain": [
       "0          !SUAC 05/604 ZAU AIRSPACE VOLK SOUTH MOA ACT 5...\n",
       "1          !SUAC 05/603 ZAU AIRSPACE VOLK EAST MOA ACT 80...\n",
       "2          !SUAC 05/605 ZMP AIRSPACE FALLS 1 MOA ACT 500F...\n",
       "3          !SUAC 05/607 ZMP AIRSPACE FALLS 2 MOA ACT 500F...\n",
       "4          !SUAC 05/602 ZMP AIRSPACE VOLK WEST MOA ACT 10...\n",
       "                                 ...                        \n",
       "1062033    !MCN 05/635 JYL OBST TOWER LGT (ASR 1310313) 3...\n",
       "1062034    !JBR 05/385 CXW AD AP SELF SERVE FUEL NOT AVBL...\n",
       "1062035    !BLM 05/018 BLM AIRSPACE SEE MIV 05/137 UAS 20...\n",
       "1062036    !MIV 05/137 COL AIRSPACE UAS WI AN AREA DEFINE...\n",
       "1062037                                                  NaN\n",
       "Name: SIMPLE_TEXT, Length: 1062038, dtype: object"
      ]
     },
     "execution_count": 21,
     "metadata": {},
     "output_type": "execute_result"
    }
   ],
   "source": [
    "df['SIMPLE_TEXT']"
   ]
  },
  {
   "cell_type": "code",
   "execution_count": 22,
   "id": "f2b2d2cf-1d3a-4f46-9478-74d275dd2f61",
   "metadata": {},
   "outputs": [
    {
     "data": {
      "text/plain": [
       "NaN                                                                                                                                         517886\n",
       "!YXX 06/018 RF2  CRF2 OBST LGT U/S TOWER 490011N 1223152W (APRX 6 NM E AD) 150 FT AGL 330 MSL  1706130730-1706131500EST                         14\n",
       "M0011/18 NOTAMC M0010/18                                                                                                                        11\n",
       "M0017/18 NOTAMC M0016/18                                                                                                                        11\n",
       "L0002/18 NOTAMC L0001/18                                                                                                                        11\n",
       "                                                                                                                                             ...  \n",
       "!FDC 7/3056 FDC CANCEL 7/2937 YIP                                                                                                                1\n",
       "!FDC 7/3050 FDC CANCEL 7/2930 YIP                                                                                                                1\n",
       "!FDC 7/3047 FDC CANCEL 7/2927 DET                                                                                                                1\n",
       "!FDC 7/3053 FDC CANCEL 7/2933 ARB                                                                                                                1\n",
       "!MIV 05/137 COL AIRSPACE UAS WI AN AREA DEFINED AS 1NM RADIUS OF  401043.90N0740046.90W (5.2NM ESE BLM) SFC-400FT  2005302200-2005302230         1\n",
       "Name: SIMPLE_TEXT, Length: 538249, dtype: int64"
      ]
     },
     "execution_count": 22,
     "metadata": {},
     "output_type": "execute_result"
    }
   ],
   "source": [
    "df['SIMPLE_TEXT'].value_counts(dropna=False)"
   ]
  },
  {
   "cell_type": "markdown",
   "id": "37a6d67a-cdf5-4b21-8503-950ec82a27f6",
   "metadata": {
    "jp-MarkdownHeadingCollapsed": true,
    "tags": []
   },
   "source": [
    "#### LOC_ID_ACCOUNTABLE_ORG\n",
    "* Lots of NaNs\n",
    "* Repeats"
   ]
  },
  {
   "cell_type": "code",
   "execution_count": 23,
   "id": "58da59cb-ed46-49d5-9c50-387754bd4e63",
   "metadata": {},
   "outputs": [
    {
     "data": {
      "text/plain": [
       "0          SUAC\n",
       "1          SUAC\n",
       "2          SUAC\n",
       "3          SUAC\n",
       "4          SUAC\n",
       "           ... \n",
       "1062033     MCN\n",
       "1062034     JBR\n",
       "1062035     BLM\n",
       "1062036     MIV\n",
       "1062037     NaN\n",
       "Name: LOC_ID_ACCOUNTABLE_ORG, Length: 1062038, dtype: object"
      ]
     },
     "execution_count": 23,
     "metadata": {},
     "output_type": "execute_result"
    }
   ],
   "source": [
    "df['LOC_ID_ACCOUNTABLE_ORG']"
   ]
  },
  {
   "cell_type": "code",
   "execution_count": 24,
   "id": "04468017-8a2f-4ea7-95c0-3a85290f704b",
   "metadata": {},
   "outputs": [
    {
     "data": {
      "text/plain": [
       "NaN     543538\n",
       "FDC     109679\n",
       "SUAW     39548\n",
       "SUAC     26722\n",
       "SUAE     19503\n",
       "         ...  \n",
       "OEHL         1\n",
       "EPMM         1\n",
       "PAIM         1\n",
       "XPY          1\n",
       "NUW          1\n",
       "Name: LOC_ID_ACCOUNTABLE_ORG, Length: 2226, dtype: int64"
      ]
     },
     "execution_count": 24,
     "metadata": {},
     "output_type": "execute_result"
    }
   ],
   "source": [
    "df['LOC_ID_ACCOUNTABLE_ORG'].value_counts(dropna=False)"
   ]
  },
  {
   "cell_type": "markdown",
   "id": "d50d7bcb-7e9c-49b5-bd0d-76938175e265",
   "metadata": {
    "jp-MarkdownHeadingCollapsed": true,
    "tags": []
   },
   "source": [
    "#### NOTAM_NUMBER\n",
    "* Plurality are NaNs\n",
    "* Lots of repeats > what does this mean?"
   ]
  },
  {
   "cell_type": "code",
   "execution_count": 25,
   "id": "f7103606-03c0-4fe8-8491-f5b80d63785e",
   "metadata": {},
   "outputs": [
    {
     "data": {
      "text/plain": [
       "0          05/604\n",
       "1          05/603\n",
       "2          05/605\n",
       "3          05/607\n",
       "4          05/602\n",
       "            ...  \n",
       "1062033    05/635\n",
       "1062034    05/385\n",
       "1062035    05/018\n",
       "1062036    05/137\n",
       "1062037       NaN\n",
       "Name: NOTAM_NUMBER, Length: 1062038, dtype: object"
      ]
     },
     "execution_count": 25,
     "metadata": {},
     "output_type": "execute_result"
    }
   ],
   "source": [
    "df['NOTAM_NUMBER']"
   ]
  },
  {
   "cell_type": "code",
   "execution_count": 26,
   "id": "431e5752-2208-4ba9-ba41-b2e13df9a5c2",
   "metadata": {},
   "outputs": [
    {
     "data": {
      "text/plain": [
       "NaN       545478\n",
       "10/001      1292\n",
       "05/001      1280\n",
       "03/001      1219\n",
       "12/001      1133\n",
       "           ...  \n",
       "9/9303         1\n",
       "6/1658         1\n",
       "9/9036         1\n",
       "6/1659         1\n",
       "0/4686         1\n",
       "Name: NOTAM_NUMBER, Length: 49843, dtype: int64"
      ]
     },
     "execution_count": 26,
     "metadata": {},
     "output_type": "execute_result"
    }
   ],
   "source": [
    "df['NOTAM_NUMBER'].value_counts(dropna=False)"
   ]
  },
  {
   "cell_type": "markdown",
   "id": "27ba247a-047c-419e-8df3-1ffef164ac5a",
   "metadata": {
    "jp-MarkdownHeadingCollapsed": true,
    "tags": []
   },
   "source": [
    "#### RELATED_NOTAM_NUMBER\n",
    "* Vast majority are NaNs\n",
    "* What does this field mean?"
   ]
  },
  {
   "cell_type": "code",
   "execution_count": 27,
   "id": "2910e260-4593-44ad-b056-1ab6d6a97dea",
   "metadata": {},
   "outputs": [
    {
     "data": {
      "text/plain": [
       "0             NaN\n",
       "1             NaN\n",
       "2             NaN\n",
       "3             NaN\n",
       "4             NaN\n",
       "            ...  \n",
       "1062033       NaN\n",
       "1062034       NaN\n",
       "1062035    05/137\n",
       "1062036       NaN\n",
       "1062037       NaN\n",
       "Name: RELATED_NOTAM_NUMBER, Length: 1062038, dtype: object"
      ]
     },
     "execution_count": 27,
     "metadata": {},
     "output_type": "execute_result"
    }
   ],
   "source": [
    "df['RELATED_NOTAM_NUMBER']"
   ]
  },
  {
   "cell_type": "code",
   "execution_count": 28,
   "id": "65ad855b-c3a0-4590-bdb7-c123cd73381a",
   "metadata": {},
   "outputs": [
    {
     "data": {
      "text/plain": [
       "NaN       969225\n",
       "8/3465        87\n",
       "7/3678        87\n",
       "7/1888        85\n",
       "7/1870        84\n",
       "           ...  \n",
       "8/4081         1\n",
       "8/4079         1\n",
       "8/4076         1\n",
       "8/0108         1\n",
       "05/774         1\n",
       "Name: RELATED_NOTAM_NUMBER, Length: 36592, dtype: int64"
      ]
     },
     "execution_count": 28,
     "metadata": {},
     "output_type": "execute_result"
    }
   ],
   "source": [
    "df['RELATED_NOTAM_NUMBER'].value_counts(dropna=False)"
   ]
  },
  {
   "cell_type": "markdown",
   "id": "4560dcf3-85c3-4b02-9aab-dba843ac548e",
   "metadata": {
    "jp-MarkdownHeadingCollapsed": true,
    "tags": []
   },
   "source": [
    "#### TEXT\n",
    "* There are NaNs\n",
    "* Repeats"
   ]
  },
  {
   "cell_type": "code",
   "execution_count": 29,
   "id": "ffb403f6-9db3-4f17-9b43-51cf08711b88",
   "metadata": {},
   "outputs": [
    {
     "data": {
      "text/plain": [
       "0          AIRSPACE VOLK SOUTH MOA ACT 500FT UP TO BUT NO...\n",
       "1          AIRSPACE VOLK EAST MOA ACT 8000FT UP TO BUT NO...\n",
       "2          AIRSPACE FALLS 1 MOA ACT 500FT UP TO BUT NOT I...\n",
       "3          AIRSPACE FALLS 2 MOA ACT 500FT UP TO BUT NOT I...\n",
       "4          AIRSPACE VOLK WEST MOA ACT 100FT UP TO BUT NOT...\n",
       "                                 ...                        \n",
       "1062033    OBST TOWER LGT (ASR 1310313) 324053.20N0813415...\n",
       "1062034                       AD AP SELF SERVE FUEL NOT AVBL\n",
       "1062035                          AIRSPACE SEE MIV 05/137 UAS\n",
       "1062036    AIRSPACE UAS WI AN AREA DEFINED AS 1NM RADIUS ...\n",
       "1062037                                       RWY 22 ILS U/S\n",
       "Name: TEXT, Length: 1062038, dtype: object"
      ]
     },
     "execution_count": 29,
     "metadata": {},
     "output_type": "execute_result"
    }
   ],
   "source": [
    "df['TEXT']"
   ]
  },
  {
   "cell_type": "code",
   "execution_count": 30,
   "id": "3795188f-57b1-45c9-bd1d-408f68416011",
   "metadata": {},
   "outputs": [
    {
     "data": {
      "text/plain": [
       "NaN                                                                                                                                                                                                                 6042\n",
       "NAV VORTAC NOT MNT                                                                                                                                                                                                  4268\n",
       "GPS RAIM PREDICTION FOR: TSO-C129 FAULT DETECTION NO GPS RAIM OUTAGES TSO-C146A FAULT DETECTION ONLY NO GPS RAIM OUTAGES TSO-C146A FAULT DETECTION WITH EXCLUSION NO GPS RAIM OUTAGES.                              4055\n",
       "GPS RAIM PREDICTION FOR: TSO-C129 FAULT DETECTION NO GPS RAIM OUTAGES TSO-C146A FAULT DETECTION ONLY NO GPS RAIM OUTAGES TSO-C146A FAULT DETECTION WITH EXCLUSION NO GPS RAIM OUTAGES                               3978\n",
       "NAV VOR/DME NOT MNT                                                                                                                                                                                                 3216\n",
       "                                                                                                                                                                                                                    ... \n",
       "OBST TOWER LGT (ASR 1049315) 320013.00N0954307.00W (11.1NM SSE F44) 945.9FT (498.7FT AGL) OUT OF SERVICE                                                                                                               1\n",
       "IAP CATTARAUGUS COUNTY-OLEAN, Olean, NY. LOC RWY 22, AMDT 6... PROCEDURE NA EXCEPT FOR AIRCRAFT EQUIPPED WITH SUITABLE RNAV SYSTEM WITH GPS, ELZ VOR OUT OF SERVICE. 1708241400-1708311400EST                          1\n",
       "IAP WELLSVILLE MUNI ARPT,TARANTINE FLD, Wellsville, NY. LOC/DME RWY 28, AMDT 4... PROCEDURE NA EXCEPT FOR AIRCRAFT EQUIPPED WITH SUITABLE RNAV SYSTEM WITH GPS, ELZ VOR OUT OF SERVICE. 1708241400-1708311400EST       1\n",
       "FDC 7/9162 NOTAMC 7/5543 A) SNA                                                                                                                                                                                        1\n",
       "AIRSPACE SEE MIV 05/137 UAS                                                                                                                                                                                            1\n",
       "Name: TEXT, Length: 569272, dtype: int64"
      ]
     },
     "execution_count": 30,
     "metadata": {},
     "output_type": "execute_result"
    }
   ],
   "source": [
    "df['TEXT'].value_counts(dropna=False)"
   ]
  }
 ],
 "metadata": {
  "kernelspec": {
   "display_name": "Python 3 (ipykernel)",
   "language": "python",
   "name": "python3"
  },
  "language_info": {
   "codemirror_mode": {
    "name": "ipython",
    "version": 3
   },
   "file_extension": ".py",
   "mimetype": "text/x-python",
   "name": "python",
   "nbconvert_exporter": "python",
   "pygments_lexer": "ipython3",
   "version": "3.9.12"
  }
 },
 "nbformat": 4,
 "nbformat_minor": 5
}
