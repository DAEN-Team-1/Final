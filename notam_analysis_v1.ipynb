{
 "cells": [
  {
   "cell_type": "markdown",
   "id": "ad38d077-549f-43c4-881f-c5eb882cfe2c",
   "metadata": {
    "tags": []
   },
   "source": [
    "# NOTAM Analysis\n",
    "\n",
    "Please note that the data for this analysis is saved locally in a `data` folder that is one level above (a parent folder) to where the [GitHub](https://github.com/DAEN-Team-1/Final \"GitHub\") files have been saved. This was done because a lot of the data files are too large to be included in the GitHub repoo."
   ]
  },
  {
   "cell_type": "code",
   "execution_count": 176,
   "id": "c7378ccc-3a46-42e7-be8c-22488c1ad313",
   "metadata": {},
   "outputs": [],
   "source": [
    "# imports\n",
    "import pandas as pd\n",
    "import numpy  as np\n",
    "# import bamboolib as bam"
   ]
  },
  {
   "cell_type": "code",
   "execution_count": 2,
   "id": "328a05f0-85e2-4eb9-846b-a1bdc8faf586",
   "metadata": {},
   "outputs": [
    {
     "name": "stderr",
     "output_type": "stream",
     "text": [
      "/var/folders/wk/_x7mg1g17x70jm9czv01yk_r0000gp/T/ipykernel_61504/115128146.py:4: DtypeWarning: Columns (22,23) have mixed types. Specify dtype option on import or set low_memory=False.\n",
      "  df = pd.read_csv('../data/notams.csv', on_bad_lines='skip', encoding='utf-16', parse_dates=date_cols)\n"
     ]
    }
   ],
   "source": [
    "# read data\n",
    "#            not                     parsed               not           not\n",
    "date_cols = ['POSSIBLE_START_DATE', 'POSSIBLE_END_DATE', 'ISSUE_DATE', 'CANCELED_DATE']\n",
    "df = pd.read_csv('../data/notams.csv', on_bad_lines='skip', encoding='utf-16', parse_dates=date_cols)"
   ]
  },
  {
   "cell_type": "markdown",
   "id": "3b1fad21-f798-46bd-9869-44a2fe6d1d43",
   "metadata": {},
   "source": [
    "Look at first few rows of data"
   ]
  },
  {
   "cell_type": "code",
   "execution_count": 3,
   "id": "dc5259c2-e0f4-42b6-84a8-3939c4d101c5",
   "metadata": {},
   "outputs": [
    {
     "data": {
      "text/html": [
       "<div>\n",
       "<style scoped>\n",
       "    .dataframe tbody tr th:only-of-type {\n",
       "        vertical-align: middle;\n",
       "    }\n",
       "\n",
       "    .dataframe tbody tr th {\n",
       "        vertical-align: top;\n",
       "    }\n",
       "\n",
       "    .dataframe thead th {\n",
       "        text-align: right;\n",
       "    }\n",
       "</style>\n",
       "<table border=\"1\" class=\"dataframe\">\n",
       "  <thead>\n",
       "    <tr style=\"text-align: right;\">\n",
       "      <th></th>\n",
       "      <th>NOTAM_REC_ID</th>\n",
       "      <th>FNS_ID</th>\n",
       "      <th>FILENAME</th>\n",
       "      <th>NOTAM_ID</th>\n",
       "      <th>NOTAM_TYPE</th>\n",
       "      <th>RELATED_NOTAM_ID</th>\n",
       "      <th>SIMPLE_TEXT</th>\n",
       "      <th>LOC_ID_ACCOUNTABLE_ORG</th>\n",
       "      <th>NOTAM_NUMBER</th>\n",
       "      <th>RELATED_NOTAM_NUMBER</th>\n",
       "      <th>...</th>\n",
       "      <th>POSSIBLE_END_DATE</th>\n",
       "      <th>ISSUE_DATE</th>\n",
       "      <th>CANCELED_DATE</th>\n",
       "      <th>AFFECTED_FIR</th>\n",
       "      <th>DESIGNATOR</th>\n",
       "      <th>DESIGNATOR_NAME</th>\n",
       "      <th>LOCATION_NAME</th>\n",
       "      <th>ACCOUNT_ID</th>\n",
       "      <th>LOCATION_CODE</th>\n",
       "      <th>LAUNCHES_REC_ID</th>\n",
       "    </tr>\n",
       "  </thead>\n",
       "  <tbody>\n",
       "    <tr>\n",
       "      <th>0</th>\n",
       "      <td>1</td>\n",
       "      <td>FNS_ID_43130705</td>\n",
       "      <td>E:\\Working\\Sherlock_NOTAM_Data\\Temporary\\notam...</td>\n",
       "      <td>0604/16</td>\n",
       "      <td>NaN</td>\n",
       "      <td>NaN</td>\n",
       "      <td>!SUAC 05/604 ZAU AIRSPACE VOLK SOUTH MOA ACT 5...</td>\n",
       "      <td>SUAC</td>\n",
       "      <td>05/604</td>\n",
       "      <td>NaN</td>\n",
       "      <td>...</td>\n",
       "      <td>2016-05-24 19:45:00</td>\n",
       "      <td>2016-05-24 04:35:00</td>\n",
       "      <td>2016-05-24 12:10:00</td>\n",
       "      <td>NaN</td>\n",
       "      <td>NaN</td>\n",
       "      <td>NaN</td>\n",
       "      <td>ZAU ARTCC</td>\n",
       "      <td>SUAC</td>\n",
       "      <td>ZAU</td>\n",
       "      <td>NaN</td>\n",
       "    </tr>\n",
       "    <tr>\n",
       "      <th>1</th>\n",
       "      <td>2</td>\n",
       "      <td>FNS_ID_43130704</td>\n",
       "      <td>E:\\Working\\Sherlock_NOTAM_Data\\Temporary\\notam...</td>\n",
       "      <td>0603/16</td>\n",
       "      <td>NaN</td>\n",
       "      <td>NaN</td>\n",
       "      <td>!SUAC 05/603 ZAU AIRSPACE VOLK EAST MOA ACT 80...</td>\n",
       "      <td>SUAC</td>\n",
       "      <td>05/603</td>\n",
       "      <td>NaN</td>\n",
       "      <td>...</td>\n",
       "      <td>2016-05-24 19:45:00</td>\n",
       "      <td>2016-05-24 04:35:00</td>\n",
       "      <td>2016-05-24 12:10:00</td>\n",
       "      <td>NaN</td>\n",
       "      <td>NaN</td>\n",
       "      <td>NaN</td>\n",
       "      <td>ZAU ARTCC</td>\n",
       "      <td>SUAC</td>\n",
       "      <td>ZAU</td>\n",
       "      <td>NaN</td>\n",
       "    </tr>\n",
       "    <tr>\n",
       "      <th>2</th>\n",
       "      <td>3</td>\n",
       "      <td>FNS_ID_43130706</td>\n",
       "      <td>E:\\Working\\Sherlock_NOTAM_Data\\Temporary\\notam...</td>\n",
       "      <td>0605/16</td>\n",
       "      <td>NaN</td>\n",
       "      <td>NaN</td>\n",
       "      <td>!SUAC 05/605 ZMP AIRSPACE FALLS 1 MOA ACT 500F...</td>\n",
       "      <td>SUAC</td>\n",
       "      <td>05/605</td>\n",
       "      <td>NaN</td>\n",
       "      <td>...</td>\n",
       "      <td>2016-05-24 19:45:00</td>\n",
       "      <td>2016-05-24 04:35:00</td>\n",
       "      <td>2016-05-24 12:10:00</td>\n",
       "      <td>NaN</td>\n",
       "      <td>NaN</td>\n",
       "      <td>NaN</td>\n",
       "      <td>ZMP ARTCC</td>\n",
       "      <td>SUAC</td>\n",
       "      <td>ZMP</td>\n",
       "      <td>NaN</td>\n",
       "    </tr>\n",
       "    <tr>\n",
       "      <th>3</th>\n",
       "      <td>4</td>\n",
       "      <td>FNS_ID_43130708</td>\n",
       "      <td>E:\\Working\\Sherlock_NOTAM_Data\\Temporary\\notam...</td>\n",
       "      <td>0607/16</td>\n",
       "      <td>NaN</td>\n",
       "      <td>NaN</td>\n",
       "      <td>!SUAC 05/607 ZMP AIRSPACE FALLS 2 MOA ACT 500F...</td>\n",
       "      <td>SUAC</td>\n",
       "      <td>05/607</td>\n",
       "      <td>NaN</td>\n",
       "      <td>...</td>\n",
       "      <td>2016-05-24 19:45:00</td>\n",
       "      <td>2016-05-24 04:35:00</td>\n",
       "      <td>2016-05-24 12:10:00</td>\n",
       "      <td>NaN</td>\n",
       "      <td>NaN</td>\n",
       "      <td>NaN</td>\n",
       "      <td>ZMP ARTCC</td>\n",
       "      <td>SUAC</td>\n",
       "      <td>ZMP</td>\n",
       "      <td>NaN</td>\n",
       "    </tr>\n",
       "    <tr>\n",
       "      <th>4</th>\n",
       "      <td>5</td>\n",
       "      <td>FNS_ID_43130703</td>\n",
       "      <td>E:\\Working\\Sherlock_NOTAM_Data\\Temporary\\notam...</td>\n",
       "      <td>0602/16</td>\n",
       "      <td>NaN</td>\n",
       "      <td>NaN</td>\n",
       "      <td>!SUAC 05/602 ZMP AIRSPACE VOLK WEST MOA ACT 10...</td>\n",
       "      <td>SUAC</td>\n",
       "      <td>05/602</td>\n",
       "      <td>NaN</td>\n",
       "      <td>...</td>\n",
       "      <td>2016-05-24 19:45:00</td>\n",
       "      <td>2016-05-24 04:35:00</td>\n",
       "      <td>2016-05-24 12:10:00</td>\n",
       "      <td>NaN</td>\n",
       "      <td>NaN</td>\n",
       "      <td>NaN</td>\n",
       "      <td>ZMP ARTCC</td>\n",
       "      <td>SUAC</td>\n",
       "      <td>ZMP</td>\n",
       "      <td>NaN</td>\n",
       "    </tr>\n",
       "  </tbody>\n",
       "</table>\n",
       "<p>5 rows × 37 columns</p>\n",
       "</div>"
      ],
      "text/plain": [
       "   NOTAM_REC_ID           FNS_ID  \\\n",
       "0             1  FNS_ID_43130705   \n",
       "1             2  FNS_ID_43130704   \n",
       "2             3  FNS_ID_43130706   \n",
       "3             4  FNS_ID_43130708   \n",
       "4             5  FNS_ID_43130703   \n",
       "\n",
       "                                            FILENAME NOTAM_ID NOTAM_TYPE  \\\n",
       "0  E:\\Working\\Sherlock_NOTAM_Data\\Temporary\\notam...  0604/16        NaN   \n",
       "1  E:\\Working\\Sherlock_NOTAM_Data\\Temporary\\notam...  0603/16        NaN   \n",
       "2  E:\\Working\\Sherlock_NOTAM_Data\\Temporary\\notam...  0605/16        NaN   \n",
       "3  E:\\Working\\Sherlock_NOTAM_Data\\Temporary\\notam...  0607/16        NaN   \n",
       "4  E:\\Working\\Sherlock_NOTAM_Data\\Temporary\\notam...  0602/16        NaN   \n",
       "\n",
       "  RELATED_NOTAM_ID                                        SIMPLE_TEXT  \\\n",
       "0              NaN  !SUAC 05/604 ZAU AIRSPACE VOLK SOUTH MOA ACT 5...   \n",
       "1              NaN  !SUAC 05/603 ZAU AIRSPACE VOLK EAST MOA ACT 80...   \n",
       "2              NaN  !SUAC 05/605 ZMP AIRSPACE FALLS 1 MOA ACT 500F...   \n",
       "3              NaN  !SUAC 05/607 ZMP AIRSPACE FALLS 2 MOA ACT 500F...   \n",
       "4              NaN  !SUAC 05/602 ZMP AIRSPACE VOLK WEST MOA ACT 10...   \n",
       "\n",
       "  LOC_ID_ACCOUNTABLE_ORG NOTAM_NUMBER RELATED_NOTAM_NUMBER  ...  \\\n",
       "0                   SUAC       05/604                  NaN  ...   \n",
       "1                   SUAC       05/603                  NaN  ...   \n",
       "2                   SUAC       05/605                  NaN  ...   \n",
       "3                   SUAC       05/607                  NaN  ...   \n",
       "4                   SUAC       05/602                  NaN  ...   \n",
       "\n",
       "    POSSIBLE_END_DATE           ISSUE_DATE        CANCELED_DATE AFFECTED_FIR  \\\n",
       "0 2016-05-24 19:45:00  2016-05-24 04:35:00  2016-05-24 12:10:00          NaN   \n",
       "1 2016-05-24 19:45:00  2016-05-24 04:35:00  2016-05-24 12:10:00          NaN   \n",
       "2 2016-05-24 19:45:00  2016-05-24 04:35:00  2016-05-24 12:10:00          NaN   \n",
       "3 2016-05-24 19:45:00  2016-05-24 04:35:00  2016-05-24 12:10:00          NaN   \n",
       "4 2016-05-24 19:45:00  2016-05-24 04:35:00  2016-05-24 12:10:00          NaN   \n",
       "\n",
       "  DESIGNATOR DESIGNATOR_NAME LOCATION_NAME ACCOUNT_ID LOCATION_CODE  \\\n",
       "0        NaN             NaN     ZAU ARTCC       SUAC           ZAU   \n",
       "1        NaN             NaN     ZAU ARTCC       SUAC           ZAU   \n",
       "2        NaN             NaN     ZMP ARTCC       SUAC           ZMP   \n",
       "3        NaN             NaN     ZMP ARTCC       SUAC           ZMP   \n",
       "4        NaN             NaN     ZMP ARTCC       SUAC           ZMP   \n",
       "\n",
       "  LAUNCHES_REC_ID  \n",
       "0             NaN  \n",
       "1             NaN  \n",
       "2             NaN  \n",
       "3             NaN  \n",
       "4             NaN  \n",
       "\n",
       "[5 rows x 37 columns]"
      ]
     },
     "execution_count": 3,
     "metadata": {},
     "output_type": "execute_result"
    }
   ],
   "source": [
    "df.head()"
   ]
  },
  {
   "cell_type": "markdown",
   "id": "1eeee592-33f4-4d8a-ae16-75da751c89cb",
   "metadata": {},
   "source": [
    "Get information on the dataframe\n",
    "* 1,062,863 rows\n",
    "* 37 columns\n",
    "* With the exception of `NOTAM_REC_ID` and `LAUNCHES_REC_ID`, all fields appear to be strings. \n",
    "    * This may require updating in order to \n",
    "* Aside from `LAUNCHES_REC_ID`, most columns have only a few hundred non-null entries, suggesting that the data is very sparse"
   ]
  },
  {
   "cell_type": "code",
   "execution_count": 4,
   "id": "18ca3d97-8afa-49a8-baad-d194f65a191d",
   "metadata": {},
   "outputs": [
    {
     "name": "stdout",
     "output_type": "stream",
     "text": [
      "<class 'pandas.core.frame.DataFrame'>\n",
      "RangeIndex: 1062038 entries, 0 to 1062037\n",
      "Data columns (total 37 columns):\n",
      " #   Column                  Non-Null Count    Dtype         \n",
      "---  ------                  --------------    -----         \n",
      " 0   NOTAM_REC_ID            1062038 non-null  int64         \n",
      " 1   FNS_ID                  1062038 non-null  object        \n",
      " 2   FILENAME                1062038 non-null  object        \n",
      " 3   NOTAM_ID                1062023 non-null  object        \n",
      " 4   NOTAM_TYPE              923865 non-null   object        \n",
      " 5   RELATED_NOTAM_ID        242320 non-null   object        \n",
      " 6   SIMPLE_TEXT             544152 non-null   object        \n",
      " 7   LOC_ID_ACCOUNTABLE_ORG  518500 non-null   object        \n",
      " 8   NOTAM_NUMBER            516560 non-null   object        \n",
      " 9   RELATED_NOTAM_NUMBER    92813 non-null    object        \n",
      " 10  TEXT                    1055996 non-null  object        \n",
      " 11  Q_CODE                  645876 non-null   object        \n",
      " 12  Q_CODE_INTERPRETATION   464529 non-null   object        \n",
      " 13  A_CODE                  740071 non-null   object        \n",
      " 14  B_CODE                  629954 non-null   object        \n",
      " 15  C_CODE                  536847 non-null   object        \n",
      " 16  D_CODE                  107856 non-null   object        \n",
      " 17  E_CODE                  1061799 non-null  object        \n",
      " 18  F_CODE                  649479 non-null   object        \n",
      " 19  G_CODE                  649538 non-null   object        \n",
      " 20  CLASSIFICATION          1062019 non-null  object        \n",
      " 21  POSSIBLE_NOTAM_ID       1062022 non-null  object        \n",
      " 22  MIN_ALT                 756978 non-null   object        \n",
      " 23  MAX_ALT                 724423 non-null   object        \n",
      " 24  MIN_ALT_REF_TYPE        669489 non-null   object        \n",
      " 25  MAX_ALT_REF_TYPE        626849 non-null   object        \n",
      " 26  POSSIBLE_START_DATE     1062036 non-null  object        \n",
      " 27  POSSIBLE_END_DATE       1047838 non-null  datetime64[ns]\n",
      " 28  ISSUE_DATE              1062022 non-null  object        \n",
      " 29  CANCELED_DATE           198252 non-null   object        \n",
      " 30  AFFECTED_FIR            641896 non-null   object        \n",
      " 31  DESIGNATOR              262809 non-null   object        \n",
      " 32  DESIGNATOR_NAME         238874 non-null   object        \n",
      " 33  LOCATION_NAME           1048799 non-null  object        \n",
      " 34  ACCOUNT_ID              1061864 non-null  object        \n",
      " 35  LOCATION_CODE           1061805 non-null  object        \n",
      " 36  LAUNCHES_REC_ID         0 non-null        float64       \n",
      "dtypes: datetime64[ns](1), float64(1), int64(1), object(34)\n",
      "memory usage: 299.8+ MB\n"
     ]
    }
   ],
   "source": [
    "df.info()"
   ]
  },
  {
   "cell_type": "markdown",
   "id": "7ba57044-215c-4c74-a97f-453450a00ada",
   "metadata": {},
   "source": [
    "Get summary stats"
   ]
  },
  {
   "cell_type": "code",
   "execution_count": 5,
   "id": "6172b1b2-2fb4-4723-8d27-8d3904623461",
   "metadata": {},
   "outputs": [
    {
     "data": {
      "text/html": [
       "<div>\n",
       "<style scoped>\n",
       "    .dataframe tbody tr th:only-of-type {\n",
       "        vertical-align: middle;\n",
       "    }\n",
       "\n",
       "    .dataframe tbody tr th {\n",
       "        vertical-align: top;\n",
       "    }\n",
       "\n",
       "    .dataframe thead th {\n",
       "        text-align: right;\n",
       "    }\n",
       "</style>\n",
       "<table border=\"1\" class=\"dataframe\">\n",
       "  <thead>\n",
       "    <tr style=\"text-align: right;\">\n",
       "      <th></th>\n",
       "      <th>NOTAM_REC_ID</th>\n",
       "      <th>LAUNCHES_REC_ID</th>\n",
       "    </tr>\n",
       "  </thead>\n",
       "  <tbody>\n",
       "    <tr>\n",
       "      <th>count</th>\n",
       "      <td>1.062038e+06</td>\n",
       "      <td>0.0</td>\n",
       "    </tr>\n",
       "    <tr>\n",
       "      <th>mean</th>\n",
       "      <td>5.314754e+05</td>\n",
       "      <td>NaN</td>\n",
       "    </tr>\n",
       "    <tr>\n",
       "      <th>std</th>\n",
       "      <td>3.068384e+05</td>\n",
       "      <td>NaN</td>\n",
       "    </tr>\n",
       "    <tr>\n",
       "      <th>min</th>\n",
       "      <td>1.000000e+00</td>\n",
       "      <td>NaN</td>\n",
       "    </tr>\n",
       "    <tr>\n",
       "      <th>25%</th>\n",
       "      <td>2.657342e+05</td>\n",
       "      <td>NaN</td>\n",
       "    </tr>\n",
       "    <tr>\n",
       "      <th>50%</th>\n",
       "      <td>5.315025e+05</td>\n",
       "      <td>NaN</td>\n",
       "    </tr>\n",
       "    <tr>\n",
       "      <th>75%</th>\n",
       "      <td>7.972258e+05</td>\n",
       "      <td>NaN</td>\n",
       "    </tr>\n",
       "    <tr>\n",
       "      <th>max</th>\n",
       "      <td>1.062868e+06</td>\n",
       "      <td>NaN</td>\n",
       "    </tr>\n",
       "  </tbody>\n",
       "</table>\n",
       "</div>"
      ],
      "text/plain": [
       "       NOTAM_REC_ID  LAUNCHES_REC_ID\n",
       "count  1.062038e+06              0.0\n",
       "mean   5.314754e+05              NaN\n",
       "std    3.068384e+05              NaN\n",
       "min    1.000000e+00              NaN\n",
       "25%    2.657342e+05              NaN\n",
       "50%    5.315025e+05              NaN\n",
       "75%    7.972258e+05              NaN\n",
       "max    1.062868e+06              NaN"
      ]
     },
     "execution_count": 5,
     "metadata": {},
     "output_type": "execute_result"
    }
   ],
   "source": [
    "df.describe()"
   ]
  },
  {
   "cell_type": "markdown",
   "id": "39bf3228-ba87-4c53-9490-52bfcc2ae08f",
   "metadata": {},
   "source": [
    "## Examine column by column"
   ]
  },
  {
   "cell_type": "markdown",
   "id": "62695a17-84e4-4ce8-8a14-9c034c668f71",
   "metadata": {
    "jp-MarkdownHeadingCollapsed": true,
    "tags": []
   },
   "source": [
    "#### NOTAM_REC_ID\n",
    "* Seems to be a zero-indexed, sequence of indexes."
   ]
  },
  {
   "cell_type": "code",
   "execution_count": 6,
   "id": "575fbef4-d52b-4cd3-b95a-18307e85e5e9",
   "metadata": {},
   "outputs": [
    {
     "data": {
      "text/plain": [
       "0                1\n",
       "1                2\n",
       "2                3\n",
       "3                4\n",
       "4                5\n",
       "            ...   \n",
       "1062033    1062864\n",
       "1062034    1062865\n",
       "1062035    1062866\n",
       "1062036    1062867\n",
       "1062037    1062868\n",
       "Name: NOTAM_REC_ID, Length: 1062038, dtype: int64"
      ]
     },
     "execution_count": 6,
     "metadata": {},
     "output_type": "execute_result"
    }
   ],
   "source": [
    "df['NOTAM_REC_ID']"
   ]
  },
  {
   "cell_type": "code",
   "execution_count": 156,
   "id": "bb3fb44b-6f0f-4503-a8c3-d1767c93515c",
   "metadata": {},
   "outputs": [
    {
     "data": {
      "text/plain": [
       "1          False\n",
       "708713     False\n",
       "708683     False\n",
       "708684     False\n",
       "708685     False\n",
       "           ...  \n",
       "354307     False\n",
       "354308     False\n",
       "354309     False\n",
       "354310     False\n",
       "1062868    False\n",
       "Name: NOTAM_REC_ID, Length: 1062038, dtype: bool"
      ]
     },
     "execution_count": 156,
     "metadata": {},
     "output_type": "execute_result"
    }
   ],
   "source": [
    "df['NOTAM_REC_ID'].value_counts(dropna=False)> 1"
   ]
  },
  {
   "cell_type": "markdown",
   "id": "376a4224-ac7d-41b6-8875-9ab6e2a62631",
   "metadata": {
    "jp-MarkdownHeadingCollapsed": true,
    "tags": []
   },
   "source": [
    "#### FNS_ID\n",
    "* All unique"
   ]
  },
  {
   "cell_type": "code",
   "execution_count": 8,
   "id": "0736873d-e432-4a46-a478-d83e4f5a6d0b",
   "metadata": {},
   "outputs": [
    {
     "data": {
      "text/plain": [
       "0          FNS_ID_43130705\n",
       "1          FNS_ID_43130704\n",
       "2          FNS_ID_43130706\n",
       "3          FNS_ID_43130708\n",
       "4          FNS_ID_43130703\n",
       "                ...       \n",
       "1062033    FNS_ID_57055569\n",
       "1062034    FNS_ID_57055570\n",
       "1062035    FNS_ID_57055571\n",
       "1062036    FNS_ID_57055572\n",
       "1062037    FNS_ID_57055573\n",
       "Name: FNS_ID, Length: 1062038, dtype: object"
      ]
     },
     "execution_count": 8,
     "metadata": {},
     "output_type": "execute_result"
    }
   ],
   "source": [
    "df['FNS_ID']"
   ]
  },
  {
   "cell_type": "code",
   "execution_count": 9,
   "id": "d4829232-37da-47d7-947d-9f6f25db3b45",
   "metadata": {},
   "outputs": [
    {
     "data": {
      "text/plain": [
       "FNS_ID_43130705    False\n",
       "FNS_ID_51108106    False\n",
       "FNS_ID_51108060    False\n",
       "FNS_ID_51108082    False\n",
       "FNS_ID_51108064    False\n",
       "                   ...  \n",
       "FNS_ID_47241553    False\n",
       "FNS_ID_47241572    False\n",
       "FNS_ID_47241577    False\n",
       "FNS_ID_47241555    False\n",
       "FNS_ID_57055573    False\n",
       "Name: FNS_ID, Length: 1062038, dtype: bool"
      ]
     },
     "execution_count": 9,
     "metadata": {},
     "output_type": "execute_result"
    }
   ],
   "source": [
    "# All are unique\n",
    "df['FNS_ID'].value_counts() > 1"
   ]
  },
  {
   "cell_type": "markdown",
   "id": "188a2117-fde1-48c5-8ebc-540f09b1b546",
   "metadata": {
    "jp-MarkdownHeadingCollapsed": true,
    "tags": []
   },
   "source": [
    "#### FILENAME\n",
    "* Do we have access to these files?\n",
    "* Repeats, but cover an tiny proportion of the data. "
   ]
  },
  {
   "cell_type": "code",
   "execution_count": 10,
   "id": "88012146-95cb-4f82-94de-931f4ca1c8a6",
   "metadata": {},
   "outputs": [
    {
     "data": {
      "text/plain": [
       "0          E:\\Working\\Sherlock_NOTAM_Data\\Temporary\\notam...\n",
       "1          E:\\Working\\Sherlock_NOTAM_Data\\Temporary\\notam...\n",
       "2          E:\\Working\\Sherlock_NOTAM_Data\\Temporary\\notam...\n",
       "3          E:\\Working\\Sherlock_NOTAM_Data\\Temporary\\notam...\n",
       "4          E:\\Working\\Sherlock_NOTAM_Data\\Temporary\\notam...\n",
       "                                 ...                        \n",
       "1062033    E:\\Working\\Sherlock_NOTAM_Data\\Temporary\\notam...\n",
       "1062034    E:\\Working\\Sherlock_NOTAM_Data\\Temporary\\notam...\n",
       "1062035    E:\\Working\\Sherlock_NOTAM_Data\\Temporary\\notam...\n",
       "1062036    E:\\Working\\Sherlock_NOTAM_Data\\Temporary\\notam...\n",
       "1062037    E:\\Working\\Sherlock_NOTAM_Data\\Temporary\\notam...\n",
       "Name: FILENAME, Length: 1062038, dtype: object"
      ]
     },
     "execution_count": 10,
     "metadata": {},
     "output_type": "execute_result"
    }
   ],
   "source": [
    "df['FILENAME']"
   ]
  },
  {
   "cell_type": "code",
   "execution_count": 11,
   "id": "de030a92-e1d7-4822-9e96-75b73d09a9c4",
   "metadata": {},
   "outputs": [
    {
     "data": {
      "text/plain": [
       "E:\\Working\\Sherlock_NOTAM_Data\\Temporary\\notam.20191001T1507Z_tmp.xml      10492\n",
       "E:\\Working\\Sherlock_NOTAM_Data\\Temporary\\notam.20190503T1519Z_tmp.xml       4901\n",
       "E:\\Working\\Sherlock_NOTAM_Data\\Temporary\\notam.20170622T202144Z_tmp.xml     1637\n",
       "E:\\Working\\Sherlock_NOTAM_Data\\Temporary\\notam.20160831T173246Z_tmp.xml     1453\n",
       "E:\\Working\\Sherlock_NOTAM_Data\\Temporary\\notam.20160831T171728Z_tmp.xml     1451\n",
       "                                                                           ...  \n",
       "E:\\Working\\Sherlock_NOTAM_Data\\Temporary\\notam.20180604T010732Z_tmp.xml        1\n",
       "E:\\Working\\Sherlock_NOTAM_Data\\Temporary\\notam.20180405T051356Z_tmp.xml        1\n",
       "E:\\Working\\Sherlock_NOTAM_Data\\Temporary\\notam.20171029T214122Z_tmp.xml        1\n",
       "E:\\Working\\Sherlock_NOTAM_Data\\Temporary\\notam.20180604T010030Z_tmp.xml        1\n",
       "E:\\Working\\Sherlock_NOTAM_Data\\Temporary\\notam.20180113T110000Z_tmp.xml        1\n",
       "Name: FILENAME, Length: 67086, dtype: int64"
      ]
     },
     "execution_count": 11,
     "metadata": {},
     "output_type": "execute_result"
    }
   ],
   "source": [
    "df['FILENAME'].value_counts(dropna=False)"
   ]
  },
  {
   "cell_type": "code",
   "execution_count": 12,
   "id": "3cf022ef-7e74-4d15-93d7-03db92e5f121",
   "metadata": {},
   "outputs": [
    {
     "data": {
      "text/plain": [
       "E:\\Working\\Sherlock_NOTAM_Data\\Temporary\\notam.20191001T1507Z_tmp.xml      0.00988\n",
       "E:\\Working\\Sherlock_NOTAM_Data\\Temporary\\notam.20190503T1519Z_tmp.xml      0.00461\n",
       "E:\\Working\\Sherlock_NOTAM_Data\\Temporary\\notam.20170622T202144Z_tmp.xml    0.00154\n",
       "E:\\Working\\Sherlock_NOTAM_Data\\Temporary\\notam.20160831T173246Z_tmp.xml    0.00137\n",
       "E:\\Working\\Sherlock_NOTAM_Data\\Temporary\\notam.20160831T171728Z_tmp.xml    0.00137\n",
       "                                                                            ...   \n",
       "E:\\Working\\Sherlock_NOTAM_Data\\Temporary\\notam.20180604T010732Z_tmp.xml    0.00000\n",
       "E:\\Working\\Sherlock_NOTAM_Data\\Temporary\\notam.20180405T051356Z_tmp.xml    0.00000\n",
       "E:\\Working\\Sherlock_NOTAM_Data\\Temporary\\notam.20171029T214122Z_tmp.xml    0.00000\n",
       "E:\\Working\\Sherlock_NOTAM_Data\\Temporary\\notam.20180604T010030Z_tmp.xml    0.00000\n",
       "E:\\Working\\Sherlock_NOTAM_Data\\Temporary\\notam.20180113T110000Z_tmp.xml    0.00000\n",
       "Name: FILENAME, Length: 67086, dtype: object"
      ]
     },
     "execution_count": 12,
     "metadata": {},
     "output_type": "execute_result"
    }
   ],
   "source": [
    "df['FILENAME'].value_counts(dropna=False, normalize=True).apply(lambda x: '%.5f' % x)"
   ]
  },
  {
   "cell_type": "markdown",
   "id": "a4a5ccc9-43c9-4b76-81a7-731c7f71365e",
   "metadata": {
    "jp-MarkdownHeadingCollapsed": true,
    "tags": []
   },
   "source": [
    "#### NOTAM_ID\n",
    "* Repeats, but cover an tiny proportion of the data."
   ]
  },
  {
   "cell_type": "code",
   "execution_count": 13,
   "id": "620ec01d-c011-49de-9bea-4b8d6200ffa8",
   "metadata": {},
   "outputs": [
    {
     "data": {
      "text/plain": [
       "0           0604/16\n",
       "1           0603/16\n",
       "2           0605/16\n",
       "3           0607/16\n",
       "4           0602/16\n",
       "             ...   \n",
       "1062033     0635/20\n",
       "1062034     0385/20\n",
       "1062035     0018/20\n",
       "1062036     0137/20\n",
       "1062037    A1093/20\n",
       "Name: NOTAM_ID, Length: 1062038, dtype: object"
      ]
     },
     "execution_count": 13,
     "metadata": {},
     "output_type": "execute_result"
    }
   ],
   "source": [
    "df['NOTAM_ID']"
   ]
  },
  {
   "cell_type": "code",
   "execution_count": 14,
   "id": "76a0320e-f3ed-4edb-926a-e7c52a2e5e18",
   "metadata": {},
   "outputs": [
    {
     "data": {
      "text/plain": [
       "0001/17        3076\n",
       "0002/17        2559\n",
       "0003/17        2309\n",
       "0004/17        2036\n",
       "0001/18        2024\n",
       "               ... \n",
       "Y2905/17          1\n",
       "B5888/17          1\n",
       "SWES0500/17       1\n",
       "SWEV0318/17       1\n",
       "B0833/20          1\n",
       "Name: NOTAM_ID, Length: 307733, dtype: int64"
      ]
     },
     "execution_count": 14,
     "metadata": {},
     "output_type": "execute_result"
    }
   ],
   "source": [
    "df['NOTAM_ID'].value_counts(dropna=False)"
   ]
  },
  {
   "cell_type": "code",
   "execution_count": 15,
   "id": "4f2573a5-3741-46be-95bf-f39ee37e56a6",
   "metadata": {},
   "outputs": [
    {
     "data": {
      "text/plain": [
       "0001/17        0.00290\n",
       "0002/17        0.00241\n",
       "0003/17        0.00217\n",
       "0004/17        0.00192\n",
       "0001/18        0.00191\n",
       "                ...   \n",
       "Y2905/17       0.00000\n",
       "B5888/17       0.00000\n",
       "SWES0500/17    0.00000\n",
       "SWEV0318/17    0.00000\n",
       "B0833/20       0.00000\n",
       "Name: NOTAM_ID, Length: 307733, dtype: object"
      ]
     },
     "execution_count": 15,
     "metadata": {},
     "output_type": "execute_result"
    }
   ],
   "source": [
    "df['NOTAM_ID'].value_counts(dropna=False, normalize=True).apply(lambda x: '%.5f' % x)"
   ]
  },
  {
   "cell_type": "markdown",
   "id": "e8de887f-443d-4568-b121-e73c04a766c1",
   "metadata": {
    "jp-MarkdownHeadingCollapsed": true,
    "tags": []
   },
   "source": [
    "#### NOTAM_TYPE\n",
    "* Majority are NOTAMN, at 61% of the data. \n",
    "* Other categories have significat proportions.\n",
    "* Chart included"
   ]
  },
  {
   "cell_type": "code",
   "execution_count": 16,
   "id": "5cf9f6fc-fcff-44bc-9a55-741a5d9d4bc5",
   "metadata": {},
   "outputs": [
    {
     "data": {
      "text/plain": [
       "0             NaN\n",
       "1             NaN\n",
       "2             NaN\n",
       "3             NaN\n",
       "4             NaN\n",
       "            ...  \n",
       "1062033    NOTAMN\n",
       "1062034    NOTAMN\n",
       "1062035       NaN\n",
       "1062036       NaN\n",
       "1062037    NOTAMN\n",
       "Name: NOTAM_TYPE, Length: 1062038, dtype: object"
      ]
     },
     "execution_count": 16,
     "metadata": {},
     "output_type": "execute_result"
    }
   ],
   "source": [
    "df['NOTAM_TYPE']"
   ]
  },
  {
   "cell_type": "code",
   "execution_count": 17,
   "id": "f1d8df0b-d4fc-41c6-ba24-49604808cb9f",
   "metadata": {},
   "outputs": [
    {
     "data": {
      "text/plain": [
       "NOTAMN    652544\n",
       "NOTAMC    185243\n",
       "NaN       138173\n",
       "NOTAMR     86078\n",
       "Name: NOTAM_TYPE, dtype: int64"
      ]
     },
     "execution_count": 17,
     "metadata": {},
     "output_type": "execute_result"
    }
   ],
   "source": [
    "df['NOTAM_TYPE'].value_counts(dropna=False)"
   ]
  },
  {
   "cell_type": "code",
   "execution_count": 18,
   "id": "bd593c9c-b180-4d64-b8ae-7607f5db57d6",
   "metadata": {},
   "outputs": [
    {
     "data": {
      "text/plain": [
       "NOTAMN    0.61443\n",
       "NOTAMC    0.17442\n",
       "NaN       0.13010\n",
       "NOTAMR    0.08105\n",
       "Name: NOTAM_TYPE, dtype: object"
      ]
     },
     "execution_count": 18,
     "metadata": {},
     "output_type": "execute_result"
    }
   ],
   "source": [
    "df['NOTAM_TYPE'].value_counts(dropna=False, normalize=True).apply(lambda x: '%.5f' % x)"
   ]
  },
  {
   "cell_type": "code",
   "execution_count": 19,
   "id": "cd554ff2-5cc9-449e-b002-240e01eb1b11",
   "metadata": {},
   "outputs": [
    {
     "data": {
      "image/png": "[encoded data removed]",
      "text/plain": [
       "<Figure size 720x360 with 1 Axes>"
      ]
     },
     "metadata": {
      "needs_background": "light"
     },
     "output_type": "display_data"
    }
   ],
   "source": [
    "df['NOTAM_TYPE'].value_counts(dropna=False, normalize=True).plot(kind='bar', \n",
    "                                                                 title='NOTAM Types Proportion of Data',\n",
    "                                                                 figsize=(10, 5));"
   ]
  },
  {
   "cell_type": "markdown",
   "id": "9a582813-a0fa-43a2-b8fd-94eed87c8a16",
   "metadata": {
    "jp-MarkdownHeadingCollapsed": true,
    "tags": []
   },
   "source": [
    "#### RELATED_NOTAM_ID\n",
    "* Majority are NaNs, at 77% of the data.\n",
    "* No other entry has a material proportion of the data.\n",
    "* Repeats"
   ]
  },
  {
   "cell_type": "code",
   "execution_count": 20,
   "id": "35356f18-ff2d-4c4b-8541-e3782cfc042d",
   "metadata": {},
   "outputs": [
    {
     "data": {
      "text/plain": [
       "0          NaN\n",
       "1          NaN\n",
       "2          NaN\n",
       "3          NaN\n",
       "4          NaN\n",
       "          ... \n",
       "1062033    NaN\n",
       "1062034    NaN\n",
       "1062035    NaN\n",
       "1062036    NaN\n",
       "1062037    NaN\n",
       "Name: RELATED_NOTAM_ID, Length: 1062038, dtype: object"
      ]
     },
     "execution_count": 20,
     "metadata": {},
     "output_type": "execute_result"
    }
   ],
   "source": [
    "df['RELATED_NOTAM_ID']"
   ]
  },
  {
   "cell_type": "code",
   "execution_count": 21,
   "id": "8a4b0146-9851-4c84-94dc-de27805ff35b",
   "metadata": {},
   "outputs": [
    {
     "data": {
      "text/plain": [
       "NaN         819718\n",
       "A0001/17        94\n",
       "A0001/18        91\n",
       "A0001/19        70\n",
       "B0001/18        49\n",
       "             ...  \n",
       "J2533/18         1\n",
       "L4626/16         1\n",
       "J1665/18         1\n",
       "J1687/18         1\n",
       "A3935/20         1\n",
       "Name: RELATED_NOTAM_ID, Length: 130206, dtype: int64"
      ]
     },
     "execution_count": 21,
     "metadata": {},
     "output_type": "execute_result"
    }
   ],
   "source": [
    "df['RELATED_NOTAM_ID'].value_counts(dropna=False)"
   ]
  },
  {
   "cell_type": "code",
   "execution_count": 22,
   "id": "e85d8dd0-760e-4662-bc86-3cec230cc8a2",
   "metadata": {},
   "outputs": [
    {
     "data": {
      "text/plain": [
       "NaN         0.77183\n",
       "A0001/17    0.00009\n",
       "A0001/18    0.00009\n",
       "A0001/19    0.00007\n",
       "B0001/18    0.00005\n",
       "             ...   \n",
       "J2533/18    0.00000\n",
       "L4626/16    0.00000\n",
       "J1665/18    0.00000\n",
       "J1687/18    0.00000\n",
       "A3935/20    0.00000\n",
       "Name: RELATED_NOTAM_ID, Length: 130206, dtype: object"
      ]
     },
     "execution_count": 22,
     "metadata": {},
     "output_type": "execute_result"
    }
   ],
   "source": [
    "df['RELATED_NOTAM_ID'].value_counts(dropna=False, normalize=True).apply(lambda x: '%.5f' % x)"
   ]
  },
  {
   "cell_type": "markdown",
   "id": "e685c079-079b-4ab7-a45a-c8d445be3084",
   "metadata": {
    "jp-MarkdownHeadingCollapsed": true,
    "tags": []
   },
   "source": [
    "#### SIMPLE_TEXT\n",
    "* Close to majority are NaNs, covering 49% of the data. \n",
    "* No other entry has a material proportion of the data.\n",
    "* A few repeats"
   ]
  },
  {
   "cell_type": "code",
   "execution_count": 23,
   "id": "659ffd7c-d574-4cfc-a8ba-35100e795623",
   "metadata": {},
   "outputs": [
    {
     "data": {
      "text/plain": [
       "0          !SUAC 05/604 ZAU AIRSPACE VOLK SOUTH MOA ACT 5...\n",
       "1          !SUAC 05/603 ZAU AIRSPACE VOLK EAST MOA ACT 80...\n",
       "2          !SUAC 05/605 ZMP AIRSPACE FALLS 1 MOA ACT 500F...\n",
       "3          !SUAC 05/607 ZMP AIRSPACE FALLS 2 MOA ACT 500F...\n",
       "4          !SUAC 05/602 ZMP AIRSPACE VOLK WEST MOA ACT 10...\n",
       "                                 ...                        \n",
       "1062033    !MCN 05/635 JYL OBST TOWER LGT (ASR 1310313) 3...\n",
       "1062034    !JBR 05/385 CXW AD AP SELF SERVE FUEL NOT AVBL...\n",
       "1062035    !BLM 05/018 BLM AIRSPACE SEE MIV 05/137 UAS 20...\n",
       "1062036    !MIV 05/137 COL AIRSPACE UAS WI AN AREA DEFINE...\n",
       "1062037                                                  NaN\n",
       "Name: SIMPLE_TEXT, Length: 1062038, dtype: object"
      ]
     },
     "execution_count": 23,
     "metadata": {},
     "output_type": "execute_result"
    }
   ],
   "source": [
    "df['SIMPLE_TEXT']"
   ]
  },
  {
   "cell_type": "code",
   "execution_count": 24,
   "id": "f2b2d2cf-1d3a-4f46-9478-74d275dd2f61",
   "metadata": {},
   "outputs": [
    {
     "data": {
      "text/plain": [
       "NaN                                                                                                                                         517886\n",
       "!YXX 06/018 RF2  CRF2 OBST LGT U/S TOWER 490011N 1223152W (APRX 6 NM E AD) 150 FT AGL 330 MSL  1706130730-1706131500EST                         14\n",
       "M0011/18 NOTAMC M0010/18                                                                                                                        11\n",
       "M0017/18 NOTAMC M0016/18                                                                                                                        11\n",
       "L0002/18 NOTAMC L0001/18                                                                                                                        11\n",
       "                                                                                                                                             ...  \n",
       "!FDC 7/3056 FDC CANCEL 7/2937 YIP                                                                                                                1\n",
       "!FDC 7/3050 FDC CANCEL 7/2930 YIP                                                                                                                1\n",
       "!FDC 7/3047 FDC CANCEL 7/2927 DET                                                                                                                1\n",
       "!FDC 7/3053 FDC CANCEL 7/2933 ARB                                                                                                                1\n",
       "!MIV 05/137 COL AIRSPACE UAS WI AN AREA DEFINED AS 1NM RADIUS OF  401043.90N0740046.90W (5.2NM ESE BLM) SFC-400FT  2005302200-2005302230         1\n",
       "Name: SIMPLE_TEXT, Length: 538249, dtype: int64"
      ]
     },
     "execution_count": 24,
     "metadata": {},
     "output_type": "execute_result"
    }
   ],
   "source": [
    "df['SIMPLE_TEXT'].value_counts(dropna=False)"
   ]
  },
  {
   "cell_type": "code",
   "execution_count": 25,
   "id": "fb623fe0-aef8-4ea8-b8f8-06aa1ecd59ef",
   "metadata": {},
   "outputs": [
    {
     "data": {
      "text/plain": [
       "NaN                                                                                                                                         0.48763\n",
       "!YXX 06/018 RF2  CRF2 OBST LGT U/S TOWER 490011N 1223152W (APRX 6 NM E AD) 150 FT AGL 330 MSL  1706130730-1706131500EST                     0.00001\n",
       "M0011/18 NOTAMC M0010/18                                                                                                                    0.00001\n",
       "M0017/18 NOTAMC M0016/18                                                                                                                    0.00001\n",
       "L0002/18 NOTAMC L0001/18                                                                                                                    0.00001\n",
       "                                                                                                                                             ...   \n",
       "!FDC 7/3056 FDC CANCEL 7/2937 YIP                                                                                                           0.00000\n",
       "!FDC 7/3050 FDC CANCEL 7/2930 YIP                                                                                                           0.00000\n",
       "!FDC 7/3047 FDC CANCEL 7/2927 DET                                                                                                           0.00000\n",
       "!FDC 7/3053 FDC CANCEL 7/2933 ARB                                                                                                           0.00000\n",
       "!MIV 05/137 COL AIRSPACE UAS WI AN AREA DEFINED AS 1NM RADIUS OF  401043.90N0740046.90W (5.2NM ESE BLM) SFC-400FT  2005302200-2005302230    0.00000\n",
       "Name: SIMPLE_TEXT, Length: 538249, dtype: object"
      ]
     },
     "execution_count": 25,
     "metadata": {},
     "output_type": "execute_result"
    }
   ],
   "source": [
    "df['SIMPLE_TEXT'].value_counts(dropna=False, normalize=True).apply(lambda x: '%.5f' % x)"
   ]
  },
  {
   "cell_type": "markdown",
   "id": "37a6d67a-cdf5-4b21-8503-950ec82a27f6",
   "metadata": {
    "jp-MarkdownHeadingCollapsed": true,
    "tags": []
   },
   "source": [
    "#### LOC_ID_ACCOUNTABLE_ORG\n",
    "* Majority are NaNs, at 51% of the data.\n",
    "* FDC represents 10% of data, and a few others represent >1% of data.\n",
    "* Repeats\n",
    "* Includes chart"
   ]
  },
  {
   "cell_type": "code",
   "execution_count": 26,
   "id": "58da59cb-ed46-49d5-9c50-387754bd4e63",
   "metadata": {},
   "outputs": [
    {
     "data": {
      "text/plain": [
       "0          SUAC\n",
       "1          SUAC\n",
       "2          SUAC\n",
       "3          SUAC\n",
       "4          SUAC\n",
       "           ... \n",
       "1062033     MCN\n",
       "1062034     JBR\n",
       "1062035     BLM\n",
       "1062036     MIV\n",
       "1062037     NaN\n",
       "Name: LOC_ID_ACCOUNTABLE_ORG, Length: 1062038, dtype: object"
      ]
     },
     "execution_count": 26,
     "metadata": {},
     "output_type": "execute_result"
    }
   ],
   "source": [
    "df['LOC_ID_ACCOUNTABLE_ORG']"
   ]
  },
  {
   "cell_type": "code",
   "execution_count": 27,
   "id": "04468017-8a2f-4ea7-95c0-3a85290f704b",
   "metadata": {},
   "outputs": [
    {
     "data": {
      "text/plain": [
       "NaN     543538\n",
       "FDC     109679\n",
       "SUAW     39548\n",
       "SUAC     26722\n",
       "SUAE     19503\n",
       "         ...  \n",
       "OEHL         1\n",
       "EPMM         1\n",
       "PAIM         1\n",
       "XPY          1\n",
       "NUW          1\n",
       "Name: LOC_ID_ACCOUNTABLE_ORG, Length: 2226, dtype: int64"
      ]
     },
     "execution_count": 27,
     "metadata": {},
     "output_type": "execute_result"
    }
   ],
   "source": [
    "df['LOC_ID_ACCOUNTABLE_ORG'].value_counts(dropna=False)"
   ]
  },
  {
   "cell_type": "code",
   "execution_count": 28,
   "id": "c6bd0edf-838f-4fcf-aaf3-87388ffcbbe6",
   "metadata": {},
   "outputs": [
    {
     "data": {
      "text/plain": [
       "NaN     0.51179\n",
       "FDC     0.10327\n",
       "SUAW    0.03724\n",
       "SUAC    0.02516\n",
       "SUAE    0.01836\n",
       "         ...   \n",
       "OEHL    0.00000\n",
       "EPMM    0.00000\n",
       "PAIM    0.00000\n",
       "XPY     0.00000\n",
       "NUW     0.00000\n",
       "Name: LOC_ID_ACCOUNTABLE_ORG, Length: 2226, dtype: object"
      ]
     },
     "execution_count": 28,
     "metadata": {},
     "output_type": "execute_result"
    }
   ],
   "source": [
    "df['LOC_ID_ACCOUNTABLE_ORG'].value_counts(dropna=False, normalize=True).apply(lambda x: '%.5f' % x)"
   ]
  },
  {
   "cell_type": "code",
   "execution_count": 29,
   "id": "d56243cf-c10e-4100-9590-590061d5e61d",
   "metadata": {},
   "outputs": [
    {
     "data": {
      "image/png": "[encoded data removed]",
      "text/plain": [
       "<Figure size 720x360 with 1 Axes>"
      ]
     },
     "metadata": {
      "needs_background": "light"
     },
     "output_type": "display_data"
    }
   ],
   "source": [
    "df['LOC_ID_ACCOUNTABLE_ORG'].value_counts(dropna=False, normalize=True).nlargest(5).plot(kind='bar', \n",
    "                                                                                         title='LOC_ID_ACCOUNTABLE_ORG Top 5 Types Proportion of Data',\n",
    "                                                                                         figsize=(10, 5));"
   ]
  },
  {
   "cell_type": "markdown",
   "id": "d50d7bcb-7e9c-49b5-bd0d-76938175e265",
   "metadata": {
    "jp-MarkdownHeadingCollapsed": true,
    "tags": []
   },
   "source": [
    "#### NOTAM_NUMBER\n",
    "* Majority are NaNs, at 51% of the data.\n",
    "* No other entry has a material proportion of the data.\n",
    "* Lots of repeats > what does this mean?"
   ]
  },
  {
   "cell_type": "code",
   "execution_count": 30,
   "id": "f7103606-03c0-4fe8-8491-f5b80d63785e",
   "metadata": {},
   "outputs": [
    {
     "data": {
      "text/plain": [
       "0          05/604\n",
       "1          05/603\n",
       "2          05/605\n",
       "3          05/607\n",
       "4          05/602\n",
       "            ...  \n",
       "1062033    05/635\n",
       "1062034    05/385\n",
       "1062035    05/018\n",
       "1062036    05/137\n",
       "1062037       NaN\n",
       "Name: NOTAM_NUMBER, Length: 1062038, dtype: object"
      ]
     },
     "execution_count": 30,
     "metadata": {},
     "output_type": "execute_result"
    }
   ],
   "source": [
    "df['NOTAM_NUMBER']"
   ]
  },
  {
   "cell_type": "code",
   "execution_count": 31,
   "id": "431e5752-2208-4ba9-ba41-b2e13df9a5c2",
   "metadata": {},
   "outputs": [
    {
     "data": {
      "text/plain": [
       "NaN       545478\n",
       "10/001      1292\n",
       "05/001      1280\n",
       "03/001      1219\n",
       "12/001      1133\n",
       "           ...  \n",
       "9/9303         1\n",
       "6/1658         1\n",
       "9/9036         1\n",
       "6/1659         1\n",
       "0/4686         1\n",
       "Name: NOTAM_NUMBER, Length: 49843, dtype: int64"
      ]
     },
     "execution_count": 31,
     "metadata": {},
     "output_type": "execute_result"
    }
   ],
   "source": [
    "df['NOTAM_NUMBER'].value_counts(dropna=False)"
   ]
  },
  {
   "cell_type": "code",
   "execution_count": 32,
   "id": "6e765783-28a5-4017-907b-cb7ab01641a7",
   "metadata": {},
   "outputs": [
    {
     "data": {
      "text/plain": [
       "NaN       0.51361\n",
       "10/001    0.00122\n",
       "05/001    0.00121\n",
       "03/001    0.00115\n",
       "12/001    0.00107\n",
       "           ...   \n",
       "9/9303    0.00000\n",
       "6/1658    0.00000\n",
       "9/9036    0.00000\n",
       "6/1659    0.00000\n",
       "0/4686    0.00000\n",
       "Name: NOTAM_NUMBER, Length: 49843, dtype: object"
      ]
     },
     "execution_count": 32,
     "metadata": {},
     "output_type": "execute_result"
    }
   ],
   "source": [
    "df['NOTAM_NUMBER'].value_counts(dropna=False, normalize=True).apply(lambda x: '%.5f' % x)"
   ]
  },
  {
   "cell_type": "markdown",
   "id": "27ba247a-047c-419e-8df3-1ffef164ac5a",
   "metadata": {
    "jp-MarkdownHeadingCollapsed": true,
    "tags": []
   },
   "source": [
    "#### RELATED_NOTAM_NUMBER\n",
    "* Majority are NaNs, covering over 91% of the data.\n",
    "* No other entry has a material proportion of the data.\n",
    "* What does this field mean?"
   ]
  },
  {
   "cell_type": "code",
   "execution_count": 33,
   "id": "2910e260-4593-44ad-b056-1ab6d6a97dea",
   "metadata": {},
   "outputs": [
    {
     "data": {
      "text/plain": [
       "0             NaN\n",
       "1             NaN\n",
       "2             NaN\n",
       "3             NaN\n",
       "4             NaN\n",
       "            ...  \n",
       "1062033       NaN\n",
       "1062034       NaN\n",
       "1062035    05/137\n",
       "1062036       NaN\n",
       "1062037       NaN\n",
       "Name: RELATED_NOTAM_NUMBER, Length: 1062038, dtype: object"
      ]
     },
     "execution_count": 33,
     "metadata": {},
     "output_type": "execute_result"
    }
   ],
   "source": [
    "df['RELATED_NOTAM_NUMBER']"
   ]
  },
  {
   "cell_type": "code",
   "execution_count": 34,
   "id": "65ad855b-c3a0-4590-bdb7-c123cd73381a",
   "metadata": {},
   "outputs": [
    {
     "data": {
      "text/plain": [
       "NaN       969225\n",
       "8/3465        87\n",
       "7/3678        87\n",
       "7/1888        85\n",
       "7/1870        84\n",
       "           ...  \n",
       "8/4081         1\n",
       "8/4079         1\n",
       "8/4076         1\n",
       "8/0108         1\n",
       "05/774         1\n",
       "Name: RELATED_NOTAM_NUMBER, Length: 36592, dtype: int64"
      ]
     },
     "execution_count": 34,
     "metadata": {},
     "output_type": "execute_result"
    }
   ],
   "source": [
    "df['RELATED_NOTAM_NUMBER'].value_counts(dropna=False)"
   ]
  },
  {
   "cell_type": "code",
   "execution_count": 35,
   "id": "99d0041b-148a-4b80-9a64-ebee03ff8632",
   "metadata": {},
   "outputs": [
    {
     "data": {
      "text/plain": [
       "NaN       0.91261\n",
       "8/3465    0.00008\n",
       "7/3678    0.00008\n",
       "7/1888    0.00008\n",
       "7/1870    0.00008\n",
       "           ...   \n",
       "8/4081    0.00000\n",
       "8/4079    0.00000\n",
       "8/4076    0.00000\n",
       "8/0108    0.00000\n",
       "05/774    0.00000\n",
       "Name: RELATED_NOTAM_NUMBER, Length: 36592, dtype: object"
      ]
     },
     "execution_count": 35,
     "metadata": {},
     "output_type": "execute_result"
    }
   ],
   "source": [
    "df['RELATED_NOTAM_NUMBER'].value_counts(dropna=False, normalize=True).apply(lambda x: '%.5f' % x)"
   ]
  },
  {
   "cell_type": "markdown",
   "id": "4560dcf3-85c3-4b02-9aab-dba843ac548e",
   "metadata": {
    "jp-MarkdownHeadingCollapsed": true,
    "tags": []
   },
   "source": [
    "#### TEXT\n",
    "* There are NaNs, and its the biggest cateogry, but only covers 0.006% of data.\n",
    "* Repeats"
   ]
  },
  {
   "cell_type": "code",
   "execution_count": 36,
   "id": "ffb403f6-9db3-4f17-9b43-51cf08711b88",
   "metadata": {},
   "outputs": [
    {
     "data": {
      "text/plain": [
       "0          AIRSPACE VOLK SOUTH MOA ACT 500FT UP TO BUT NO...\n",
       "1          AIRSPACE VOLK EAST MOA ACT 8000FT UP TO BUT NO...\n",
       "2          AIRSPACE FALLS 1 MOA ACT 500FT UP TO BUT NOT I...\n",
       "3          AIRSPACE FALLS 2 MOA ACT 500FT UP TO BUT NOT I...\n",
       "4          AIRSPACE VOLK WEST MOA ACT 100FT UP TO BUT NOT...\n",
       "                                 ...                        \n",
       "1062033    OBST TOWER LGT (ASR 1310313) 324053.20N0813415...\n",
       "1062034                       AD AP SELF SERVE FUEL NOT AVBL\n",
       "1062035                          AIRSPACE SEE MIV 05/137 UAS\n",
       "1062036    AIRSPACE UAS WI AN AREA DEFINED AS 1NM RADIUS ...\n",
       "1062037                                       RWY 22 ILS U/S\n",
       "Name: TEXT, Length: 1062038, dtype: object"
      ]
     },
     "execution_count": 36,
     "metadata": {},
     "output_type": "execute_result"
    }
   ],
   "source": [
    "df['TEXT']"
   ]
  },
  {
   "cell_type": "code",
   "execution_count": 37,
   "id": "3795188f-57b1-45c9-bd1d-408f68416011",
   "metadata": {},
   "outputs": [
    {
     "data": {
      "text/plain": [
       "NaN                                                                                                                                                                                                                 6042\n",
       "NAV VORTAC NOT MNT                                                                                                                                                                                                  4268\n",
       "GPS RAIM PREDICTION FOR: TSO-C129 FAULT DETECTION NO GPS RAIM OUTAGES TSO-C146A FAULT DETECTION ONLY NO GPS RAIM OUTAGES TSO-C146A FAULT DETECTION WITH EXCLUSION NO GPS RAIM OUTAGES.                              4055\n",
       "GPS RAIM PREDICTION FOR: TSO-C129 FAULT DETECTION NO GPS RAIM OUTAGES TSO-C146A FAULT DETECTION ONLY NO GPS RAIM OUTAGES TSO-C146A FAULT DETECTION WITH EXCLUSION NO GPS RAIM OUTAGES                               3978\n",
       "NAV VOR/DME NOT MNT                                                                                                                                                                                                 3216\n",
       "                                                                                                                                                                                                                    ... \n",
       "OBST TOWER LGT (ASR 1049315) 320013.00N0954307.00W (11.1NM SSE F44) 945.9FT (498.7FT AGL) OUT OF SERVICE                                                                                                               1\n",
       "IAP CATTARAUGUS COUNTY-OLEAN, Olean, NY. LOC RWY 22, AMDT 6... PROCEDURE NA EXCEPT FOR AIRCRAFT EQUIPPED WITH SUITABLE RNAV SYSTEM WITH GPS, ELZ VOR OUT OF SERVICE. 1708241400-1708311400EST                          1\n",
       "IAP WELLSVILLE MUNI ARPT,TARANTINE FLD, Wellsville, NY. LOC/DME RWY 28, AMDT 4... PROCEDURE NA EXCEPT FOR AIRCRAFT EQUIPPED WITH SUITABLE RNAV SYSTEM WITH GPS, ELZ VOR OUT OF SERVICE. 1708241400-1708311400EST       1\n",
       "FDC 7/9162 NOTAMC 7/5543 A) SNA                                                                                                                                                                                        1\n",
       "AIRSPACE SEE MIV 05/137 UAS                                                                                                                                                                                            1\n",
       "Name: TEXT, Length: 569272, dtype: int64"
      ]
     },
     "execution_count": 37,
     "metadata": {},
     "output_type": "execute_result"
    }
   ],
   "source": [
    "df['TEXT'].value_counts(dropna=False)"
   ]
  },
  {
   "cell_type": "code",
   "execution_count": 38,
   "id": "e00b7080-6647-4194-b3ab-17f4005b05f4",
   "metadata": {},
   "outputs": [
    {
     "data": {
      "text/plain": [
       "NaN                                                                                                                                                                                                                 0.00569\n",
       "NAV VORTAC NOT MNT                                                                                                                                                                                                  0.00402\n",
       "GPS RAIM PREDICTION FOR: TSO-C129 FAULT DETECTION NO GPS RAIM OUTAGES TSO-C146A FAULT DETECTION ONLY NO GPS RAIM OUTAGES TSO-C146A FAULT DETECTION WITH EXCLUSION NO GPS RAIM OUTAGES.                              0.00382\n",
       "GPS RAIM PREDICTION FOR: TSO-C129 FAULT DETECTION NO GPS RAIM OUTAGES TSO-C146A FAULT DETECTION ONLY NO GPS RAIM OUTAGES TSO-C146A FAULT DETECTION WITH EXCLUSION NO GPS RAIM OUTAGES                               0.00375\n",
       "NAV VOR/DME NOT MNT                                                                                                                                                                                                 0.00303\n",
       "                                                                                                                                                                                                                     ...   \n",
       "OBST TOWER LGT (ASR 1049315) 320013.00N0954307.00W (11.1NM SSE F44) 945.9FT (498.7FT AGL) OUT OF SERVICE                                                                                                            0.00000\n",
       "IAP CATTARAUGUS COUNTY-OLEAN, Olean, NY. LOC RWY 22, AMDT 6... PROCEDURE NA EXCEPT FOR AIRCRAFT EQUIPPED WITH SUITABLE RNAV SYSTEM WITH GPS, ELZ VOR OUT OF SERVICE. 1708241400-1708311400EST                       0.00000\n",
       "IAP WELLSVILLE MUNI ARPT,TARANTINE FLD, Wellsville, NY. LOC/DME RWY 28, AMDT 4... PROCEDURE NA EXCEPT FOR AIRCRAFT EQUIPPED WITH SUITABLE RNAV SYSTEM WITH GPS, ELZ VOR OUT OF SERVICE. 1708241400-1708311400EST    0.00000\n",
       "FDC 7/9162 NOTAMC 7/5543 A) SNA                                                                                                                                                                                     0.00000\n",
       "AIRSPACE SEE MIV 05/137 UAS                                                                                                                                                                                         0.00000\n",
       "Name: TEXT, Length: 569272, dtype: object"
      ]
     },
     "execution_count": 38,
     "metadata": {},
     "output_type": "execute_result"
    }
   ],
   "source": [
    "df['TEXT'].value_counts(dropna=False, normalize=True).apply(lambda x: '%.5f' % x)"
   ]
  },
  {
   "cell_type": "markdown",
   "id": "3276a5f2-2b07-4530-8b49-39d037a64eea",
   "metadata": {
    "jp-MarkdownHeadingCollapsed": true,
    "tags": []
   },
   "source": [
    "#### Q_CODE\n",
    "* Close to majority are NaNs, covering 39% of the data.\n",
    "* A few other categories represent >1% of data.\n",
    "* Lots of repeats\n",
    "* Includes chart"
   ]
  },
  {
   "cell_type": "code",
   "execution_count": 39,
   "id": "d503867f-9d37-4d17-bb61-0b9a7c75ed9d",
   "metadata": {},
   "outputs": [
    {
     "data": {
      "text/plain": [
       "0                                           NaN\n",
       "1                                           NaN\n",
       "2                                           NaN\n",
       "3                                           NaN\n",
       "4                                           NaN\n",
       "                           ...                 \n",
       "1062033                                     NaN\n",
       "1062034                                     NaN\n",
       "1062035                                     NaN\n",
       "1062036                                     NaN\n",
       "1062037    KZNY/QXXXX////000/999/4047N07352W005\n",
       "Name: Q_CODE, Length: 1062038, dtype: object"
      ]
     },
     "execution_count": 39,
     "metadata": {},
     "output_type": "execute_result"
    }
   ],
   "source": [
    "df['Q_CODE']"
   ]
  },
  {
   "cell_type": "code",
   "execution_count": 40,
   "id": "81100fea-2da9-44dc-a580-bb929eac0d01",
   "metadata": {},
   "outputs": [
    {
     "data": {
      "text/plain": [
       "NaN                                            416162\n",
       "/QRRCA/                                         31445\n",
       "/QXXXX/                                         15359\n",
       "LRBB/QRRCA/IV/BO                                 7677\n",
       "YUXX/QARCA/I/NBO/E/000/999/2537S13421E999        6389\n",
       "                                                ...  \n",
       "UUWV/QRTCA/IV/BO/W/000/999/5511N03528E001           1\n",
       "UWWW/QRTCA/IV/BO/W/010/030/5502N05216E011           1\n",
       "UMKK/QRTCA/IV/BO/W/000/999/5426N02013E004           1\n",
       "LFMM/QACAH/IV/NBO/AE/000/050/4234N00848E008         1\n",
       "CZYZ/QMRAR/IV/NBO/A/000/999/4552N07715W005          1\n",
       "Name: Q_CODE, Length: 88562, dtype: int64"
      ]
     },
     "execution_count": 40,
     "metadata": {},
     "output_type": "execute_result"
    }
   ],
   "source": [
    "df['Q_CODE'].value_counts(dropna=False)"
   ]
  },
  {
   "cell_type": "code",
   "execution_count": 41,
   "id": "9016ca5c-27e9-496f-9c67-eb2c52473f5c",
   "metadata": {},
   "outputs": [
    {
     "data": {
      "text/plain": [
       "NaN                                            0.39185\n",
       "/QRRCA/                                        0.02961\n",
       "/QXXXX/                                        0.01446\n",
       "LRBB/QRRCA/IV/BO                               0.00723\n",
       "YUXX/QARCA/I/NBO/E/000/999/2537S13421E999      0.00602\n",
       "                                                ...   \n",
       "UUWV/QRTCA/IV/BO/W/000/999/5511N03528E001      0.00000\n",
       "UWWW/QRTCA/IV/BO/W/010/030/5502N05216E011      0.00000\n",
       "UMKK/QRTCA/IV/BO/W/000/999/5426N02013E004      0.00000\n",
       "LFMM/QACAH/IV/NBO/AE/000/050/4234N00848E008    0.00000\n",
       "CZYZ/QMRAR/IV/NBO/A/000/999/4552N07715W005     0.00000\n",
       "Name: Q_CODE, Length: 88562, dtype: object"
      ]
     },
     "execution_count": 41,
     "metadata": {},
     "output_type": "execute_result"
    }
   ],
   "source": [
    "df['Q_CODE'].value_counts(dropna=False, normalize=True).apply(lambda x: '%.5f' % x)"
   ]
  },
  {
   "cell_type": "code",
   "execution_count": 42,
   "id": "3e0f64fc-68a5-46bd-a114-6798b3b888ba",
   "metadata": {},
   "outputs": [
    {
     "data": {
      "image/png": "[encoded data removed]",
      "text/plain": [
       "<Figure size 720x360 with 1 Axes>"
      ]
     },
     "metadata": {
      "needs_background": "light"
     },
     "output_type": "display_data"
    }
   ],
   "source": [
    "df['Q_CODE'].value_counts(dropna=False, normalize=True).nlargest(5).plot(kind='bar', \n",
    "                                                                         title='Q_CODE Top 5 Types Proportion of Data',\n",
    "                                                                         figsize=(10, 5));"
   ]
  },
  {
   "cell_type": "markdown",
   "id": "f57e1d38-b201-4843-adda-40373a9b0e19",
   "metadata": {
    "jp-MarkdownHeadingCollapsed": true,
    "tags": []
   },
   "source": [
    "#### Q_CODE_INTERPRETATION\n",
    "* Majority are NaNs, covering 56% of the data.\n",
    "* A few other categories represent >1% of data.\n",
    "* Lots of repeats\n",
    "* Includes chart\n",
    "* Counts do not match Q_CODE > what could this mean?"
   ]
  },
  {
   "cell_type": "code",
   "execution_count": 43,
   "id": "309a96cb-064b-48ee-9d60-c2c657f644ea",
   "metadata": {},
   "outputs": [
    {
     "data": {
      "text/plain": [
       "0          NaN\n",
       "1          NaN\n",
       "2          NaN\n",
       "3          NaN\n",
       "4          NaN\n",
       "          ... \n",
       "1062033    NaN\n",
       "1062034    NaN\n",
       "1062035    NaN\n",
       "1062036    NaN\n",
       "1062037    NaN\n",
       "Name: Q_CODE_INTERPRETATION, Length: 1062038, dtype: object"
      ]
     },
     "execution_count": 43,
     "metadata": {},
     "output_type": "execute_result"
    }
   ],
   "source": [
    "df['Q_CODE_INTERPRETATION']"
   ]
  },
  {
   "cell_type": "code",
   "execution_count": 44,
   "id": "5d4c5dfd-2c17-42e1-9f76-0859c8d72e23",
   "metadata": {},
   "outputs": [
    {
     "data": {
      "text/plain": [
       "NaN                                                   597509\n",
       "RESTRICTED AREA ACTIVATED                              82311\n",
       "TEMPORARY RESTRICTED AREA ACTIVATED                    41880\n",
       "AERODROME                                              35304\n",
       "DANGER AREA ACTIVATED                                  22638\n",
       "                                                       ...  \n",
       "AIRCRAFT STANDS REALIGNED                                  1\n",
       "LOCALIZER ILS HAZARD                                       1\n",
       "LOCALIZER HAZARD                                           1\n",
       "RUNWAY AIRCRAFT RESTRICTED TO RUNWAYS AND TAXIWAYS         1\n",
       "FUEL AVAILABILITY ACTIVATED                                1\n",
       "Name: Q_CODE_INTERPRETATION, Length: 1425, dtype: int64"
      ]
     },
     "execution_count": 44,
     "metadata": {},
     "output_type": "execute_result"
    }
   ],
   "source": [
    "df['Q_CODE_INTERPRETATION'].value_counts(dropna=False)"
   ]
  },
  {
   "cell_type": "code",
   "execution_count": 45,
   "id": "45049cbf-da78-4ffe-82b1-5aa0e1424056",
   "metadata": {},
   "outputs": [
    {
     "data": {
      "text/plain": [
       "NaN                                                   0.56261\n",
       "RESTRICTED AREA ACTIVATED                             0.07750\n",
       "TEMPORARY RESTRICTED AREA ACTIVATED                   0.03943\n",
       "AERODROME                                             0.03324\n",
       "DANGER AREA ACTIVATED                                 0.02132\n",
       "                                                       ...   \n",
       "AIRCRAFT STANDS REALIGNED                             0.00000\n",
       "LOCALIZER ILS HAZARD                                  0.00000\n",
       "LOCALIZER HAZARD                                      0.00000\n",
       "RUNWAY AIRCRAFT RESTRICTED TO RUNWAYS AND TAXIWAYS    0.00000\n",
       "FUEL AVAILABILITY ACTIVATED                           0.00000\n",
       "Name: Q_CODE_INTERPRETATION, Length: 1425, dtype: object"
      ]
     },
     "execution_count": 45,
     "metadata": {},
     "output_type": "execute_result"
    }
   ],
   "source": [
    "df['Q_CODE_INTERPRETATION'].value_counts(dropna=False, normalize=True).apply(lambda x: '%.5f' % x)"
   ]
  },
  {
   "cell_type": "code",
   "execution_count": 46,
   "id": "65e978c1-52fd-4595-99eb-a5f6e5182a63",
   "metadata": {},
   "outputs": [
    {
     "data": {
      "image/png": "[encoded data removed]",
      "text/plain": [
       "<Figure size 720x360 with 1 Axes>"
      ]
     },
     "metadata": {
      "needs_background": "light"
     },
     "output_type": "display_data"
    }
   ],
   "source": [
    "df['Q_CODE_INTERPRETATION'].value_counts(dropna=False, normalize=True).nlargest(5).plot(kind='bar', \n",
    "                                                                                        title='Q_CODE_INTERPRETATION Top 5 Types Proportion of Data',\n",
    "                                                                                        figsize=(10, 5));"
   ]
  },
  {
   "cell_type": "markdown",
   "id": "278c848a-94f7-4d06-9408-90105a55cc07",
   "metadata": {
    "jp-MarkdownHeadingCollapsed": true,
    "tags": []
   },
   "source": [
    "#### A_CODE\n",
    "* Majority are NaNs, covering 56% of the data.\n",
    "* A few other categories represent >1% of data.\n",
    "* Lots of repeats\n",
    "* Includes chart"
   ]
  },
  {
   "cell_type": "code",
   "execution_count": 47,
   "id": "6306028d-b659-43fb-99ed-dae2534aeb2e",
   "metadata": {},
   "outputs": [
    {
     "data": {
      "text/plain": [
       "0           NaN\n",
       "1           NaN\n",
       "2           NaN\n",
       "3           NaN\n",
       "4           NaN\n",
       "           ... \n",
       "1062033     NaN\n",
       "1062034     NaN\n",
       "1062035     NaN\n",
       "1062036     NaN\n",
       "1062037    KLGA\n",
       "Name: A_CODE, Length: 1062038, dtype: object"
      ]
     },
     "execution_count": 47,
     "metadata": {},
     "output_type": "execute_result"
    }
   ],
   "source": [
    "df['A_CODE']"
   ]
  },
  {
   "cell_type": "code",
   "execution_count": 48,
   "id": "9d2545fc-c5a1-4394-af9e-ed145d22906e",
   "metadata": {},
   "outputs": [
    {
     "data": {
      "text/plain": [
       "NaN          321967\n",
       "UUWV          18316\n",
       "LRBB          18152\n",
       "YMMM/YBBB     11050\n",
       "EGTT           9778\n",
       "              ...  \n",
       "FQVL              1\n",
       "FQMP              1\n",
       "LFBX              1\n",
       "EHTL              1\n",
       "1422FT            1\n",
       "Name: A_CODE, Length: 11800, dtype: int64"
      ]
     },
     "execution_count": 48,
     "metadata": {},
     "output_type": "execute_result"
    }
   ],
   "source": [
    "df['A_CODE'].value_counts(dropna=False)"
   ]
  },
  {
   "cell_type": "code",
   "execution_count": 49,
   "id": "e2dee939-9d05-4aa6-8794-80509a958143",
   "metadata": {},
   "outputs": [
    {
     "data": {
      "text/plain": [
       "NaN          0.30316\n",
       "UUWV         0.01725\n",
       "LRBB         0.01709\n",
       "YMMM/YBBB    0.01040\n",
       "EGTT         0.00921\n",
       "              ...   \n",
       "FQVL         0.00000\n",
       "FQMP         0.00000\n",
       "LFBX         0.00000\n",
       "EHTL         0.00000\n",
       "1422FT       0.00000\n",
       "Name: A_CODE, Length: 11800, dtype: object"
      ]
     },
     "execution_count": 49,
     "metadata": {},
     "output_type": "execute_result"
    }
   ],
   "source": [
    "df['A_CODE'].value_counts(dropna=False, normalize=True).apply(lambda x: '%.5f' % x)"
   ]
  },
  {
   "cell_type": "code",
   "execution_count": 50,
   "id": "21731312-7893-4a01-af20-618e2b36bc3b",
   "metadata": {},
   "outputs": [
    {
     "data": {
      "image/png": "[encoded data removed]",
      "text/plain": [
       "<Figure size 720x360 with 1 Axes>"
      ]
     },
     "metadata": {
      "needs_background": "light"
     },
     "output_type": "display_data"
    }
   ],
   "source": [
    "df['A_CODE'].value_counts(dropna=False, normalize=True).nlargest(5).plot(kind='bar', \n",
    "                                                                         title='A_CODE Top 5 Types Proportion of Data',\n",
    "                                                                         figsize=(10, 5));"
   ]
  },
  {
   "cell_type": "markdown",
   "id": "04c27e07-718a-4ff1-804b-78a7128e3479",
   "metadata": {
    "jp-MarkdownHeadingCollapsed": true,
    "tags": []
   },
   "source": [
    "#### B_CODE\n",
    "* Close to majority are NaNs, covering 41% of the data. \n",
    "* No other entry has a material proportion of the data.\n",
    "* A few repeats"
   ]
  },
  {
   "cell_type": "code",
   "execution_count": 51,
   "id": "0b63bd7a-b810-470b-9327-b446b612faf2",
   "metadata": {},
   "outputs": [
    {
     "data": {
      "text/plain": [
       "0                              NaN\n",
       "1                              NaN\n",
       "2                              NaN\n",
       "3                              NaN\n",
       "4                              NaN\n",
       "                    ...           \n",
       "1062033                        NaN\n",
       "1062034                        NaN\n",
       "1062035                        NaN\n",
       "1062036                        NaN\n",
       "1062037    2020-05-30 21:48:00.000\n",
       "Name: B_CODE, Length: 1062038, dtype: object"
      ]
     },
     "execution_count": 51,
     "metadata": {},
     "output_type": "execute_result"
    }
   ],
   "source": [
    "df['B_CODE']"
   ]
  },
  {
   "cell_type": "code",
   "execution_count": 52,
   "id": "98453fb4-b30b-4202-b0fb-eecd4ffdafa6",
   "metadata": {},
   "outputs": [
    {
     "data": {
      "text/plain": [
       "NaN                        432084\n",
       "2019-10-10 09:01:00.000       365\n",
       "2018-09-19 04:00:00.000       304\n",
       "2019-12-05 00:00:00.000       257\n",
       "2019-05-23 00:00:00.000       249\n",
       "                            ...  \n",
       "2016-09-01 00:45:00.000         1\n",
       "2017-12-16 17:26:00.000         1\n",
       "2018-01-13 13:34:00.000         1\n",
       "2018-01-12 15:19:00.000         1\n",
       "2020-05-30 21:49:00.000         1\n",
       "Name: B_CODE, Length: 241079, dtype: int64"
      ]
     },
     "execution_count": 52,
     "metadata": {},
     "output_type": "execute_result"
    }
   ],
   "source": [
    "df['B_CODE'].value_counts(dropna=False)"
   ]
  },
  {
   "cell_type": "code",
   "execution_count": 53,
   "id": "41fa9c4e-58cf-4cef-ab1a-be4a3193b31b",
   "metadata": {},
   "outputs": [
    {
     "data": {
      "text/plain": [
       "NaN                        0.40684\n",
       "2019-10-10 09:01:00.000    0.00034\n",
       "2018-09-19 04:00:00.000    0.00029\n",
       "2019-12-05 00:00:00.000    0.00024\n",
       "2019-05-23 00:00:00.000    0.00023\n",
       "                            ...   \n",
       "2016-09-01 00:45:00.000    0.00000\n",
       "2017-12-16 17:26:00.000    0.00000\n",
       "2018-01-13 13:34:00.000    0.00000\n",
       "2018-01-12 15:19:00.000    0.00000\n",
       "2020-05-30 21:49:00.000    0.00000\n",
       "Name: B_CODE, Length: 241079, dtype: object"
      ]
     },
     "execution_count": 53,
     "metadata": {},
     "output_type": "execute_result"
    }
   ],
   "source": [
    "df['B_CODE'].value_counts(dropna=False, normalize=True).apply(lambda x: '%.5f' % x)"
   ]
  },
  {
   "cell_type": "markdown",
   "id": "8e4f6025-5f5c-4a62-8f8e-5f935ac8b7f6",
   "metadata": {
    "jp-MarkdownHeadingCollapsed": true,
    "tags": []
   },
   "source": [
    "#### C_CODE\n",
    "* Close to majority are NaNs, covering 49% of the data. \n",
    "* No other entry has a material proportion of the data.\n",
    "* A few repeats"
   ]
  },
  {
   "cell_type": "code",
   "execution_count": 54,
   "id": "6c22f665-7b21-47ef-b894-88db31746905",
   "metadata": {},
   "outputs": [
    {
     "data": {
      "text/plain": [
       "0                              NaN\n",
       "1                              NaN\n",
       "2                              NaN\n",
       "3                              NaN\n",
       "4                              NaN\n",
       "                    ...           \n",
       "1062033                        NaN\n",
       "1062034                        NaN\n",
       "1062035                        NaN\n",
       "1062036                        NaN\n",
       "1062037    2020-05-31 01:00:00.000\n",
       "Name: C_CODE, Length: 1062038, dtype: object"
      ]
     },
     "execution_count": 54,
     "metadata": {},
     "output_type": "execute_result"
    }
   ],
   "source": [
    "df['C_CODE']"
   ]
  },
  {
   "cell_type": "code",
   "execution_count": 55,
   "id": "cdd6f72c-bb91-405b-bf18-dba49db98c6e",
   "metadata": {},
   "outputs": [
    {
     "data": {
      "text/plain": [
       "NaN                        525191\n",
       "2018-01-31 23:59:00.000       480\n",
       "2017-02-28 23:59:00.000       393\n",
       "2019-02-28 23:59:00.000       362\n",
       "2018-02-28 23:59:00.000       354\n",
       "                            ...  \n",
       "2018-04-15 23:49:00.000         1\n",
       "2018-08-17 20:17:00.000         1\n",
       "2018-05-02 19:02:00.000         1\n",
       "2018-05-22 18:17:00.000         1\n",
       "2020-05-31 22:30:00.000         1\n",
       "Name: C_CODE, Length: 93943, dtype: int64"
      ]
     },
     "execution_count": 55,
     "metadata": {},
     "output_type": "execute_result"
    }
   ],
   "source": [
    "df['C_CODE'].value_counts(dropna=False)"
   ]
  },
  {
   "cell_type": "code",
   "execution_count": 56,
   "id": "980904f3-1d26-4b45-9224-d41319376445",
   "metadata": {},
   "outputs": [
    {
     "data": {
      "text/plain": [
       "NaN                        0.49451\n",
       "2018-01-31 23:59:00.000    0.00045\n",
       "2017-02-28 23:59:00.000    0.00037\n",
       "2019-02-28 23:59:00.000    0.00034\n",
       "2018-02-28 23:59:00.000    0.00033\n",
       "                            ...   \n",
       "2018-04-15 23:49:00.000    0.00000\n",
       "2018-08-17 20:17:00.000    0.00000\n",
       "2018-05-02 19:02:00.000    0.00000\n",
       "2018-05-22 18:17:00.000    0.00000\n",
       "2020-05-31 22:30:00.000    0.00000\n",
       "Name: C_CODE, Length: 93943, dtype: object"
      ]
     },
     "execution_count": 56,
     "metadata": {},
     "output_type": "execute_result"
    }
   ],
   "source": [
    "df['C_CODE'].value_counts(dropna=False, normalize=True).apply(lambda x: '%.5f' % x)"
   ]
  },
  {
   "cell_type": "markdown",
   "id": "30282860-0225-4614-af95-2330be3ee84c",
   "metadata": {
    "jp-MarkdownHeadingCollapsed": true,
    "tags": []
   },
   "source": [
    "#### D_CODE\n",
    "* Majority are NaNs, covering 90% of the data. \n",
    "* No other entry has a material proportion of the data.\n",
    "* A few repeats"
   ]
  },
  {
   "cell_type": "code",
   "execution_count": 57,
   "id": "ed816591-91cc-4d11-ae07-66a93aa6bb67",
   "metadata": {},
   "outputs": [
    {
     "data": {
      "text/plain": [
       "0          NaN\n",
       "1          NaN\n",
       "2          NaN\n",
       "3          NaN\n",
       "4          NaN\n",
       "          ... \n",
       "1062033    NaN\n",
       "1062034    NaN\n",
       "1062035    NaN\n",
       "1062036    NaN\n",
       "1062037    NaN\n",
       "Name: D_CODE, Length: 1062038, dtype: object"
      ]
     },
     "execution_count": 57,
     "metadata": {},
     "output_type": "execute_result"
    }
   ],
   "source": [
    "df['D_CODE']"
   ]
  },
  {
   "cell_type": "code",
   "execution_count": 58,
   "id": "515e9a46-3e4a-4e57-aae0-3667c3decb0f",
   "metadata": {},
   "outputs": [
    {
     "data": {
      "text/plain": [
       "NaN                                                                             954182\n",
       "DAILY 0600-1800                                                                    872\n",
       "H24                                                                                835\n",
       "DAILY 0500-1700                                                                    746\n",
       "SR-SS                                                                              729\n",
       "                                                                                 ...  \n",
       "05 1100-2100, 06-08 0700-2100, 09 0700-1100                                          1\n",
       "1315.9FT (255.9FT AGL) OUT OF SERVICE 1612261427-1701261427                          1\n",
       "5214.6FT (234.9FT AGL) OUT OF SERVICE 1803051042-1804041200                          1\n",
       "04 2300-2359, 05 06 0000-0300 0500-1000 2300-2359, 07 0000-   0300 0500-1000         1\n",
       "1807252300 TO 1807261200    1807262300 TO 1807270300                                 1\n",
       "Name: D_CODE, Length: 45932, dtype: int64"
      ]
     },
     "execution_count": 58,
     "metadata": {},
     "output_type": "execute_result"
    }
   ],
   "source": [
    "df['D_CODE'].value_counts(dropna=False)"
   ]
  },
  {
   "cell_type": "code",
   "execution_count": 59,
   "id": "a1d55af4-b095-4adb-88d5-ea032ee287a8",
   "metadata": {},
   "outputs": [
    {
     "data": {
      "text/plain": [
       "NaN                                                                             0.89844\n",
       "DAILY 0600-1800                                                                 0.00082\n",
       "H24                                                                             0.00079\n",
       "DAILY 0500-1700                                                                 0.00070\n",
       "SR-SS                                                                           0.00069\n",
       "                                                                                 ...   \n",
       "05 1100-2100, 06-08 0700-2100, 09 0700-1100                                     0.00000\n",
       "1315.9FT (255.9FT AGL) OUT OF SERVICE 1612261427-1701261427                     0.00000\n",
       "5214.6FT (234.9FT AGL) OUT OF SERVICE 1803051042-1804041200                     0.00000\n",
       "04 2300-2359, 05 06 0000-0300 0500-1000 2300-2359, 07 0000-   0300 0500-1000    0.00000\n",
       "1807252300 TO 1807261200    1807262300 TO 1807270300                            0.00000\n",
       "Name: D_CODE, Length: 45932, dtype: object"
      ]
     },
     "execution_count": 59,
     "metadata": {},
     "output_type": "execute_result"
    }
   ],
   "source": [
    "df['D_CODE'].value_counts(dropna=False, normalize=True).apply(lambda x: '%.5f' % x)"
   ]
  },
  {
   "cell_type": "markdown",
   "id": "d0d2710b-f0e1-4cb9-ad32-03ea269e2584",
   "metadata": {
    "jp-MarkdownHeadingCollapsed": true,
    "tags": []
   },
   "source": [
    "#### E_CODE\n",
    "* No entry has a material proportion of the data.\n",
    "* A few repeats"
   ]
  },
  {
   "cell_type": "code",
   "execution_count": 60,
   "id": "8763d6ec-8e96-4656-a97e-e9400b5f3d73",
   "metadata": {},
   "outputs": [
    {
     "data": {
      "text/plain": [
       "0          AIRSPACE VOLK SOUTH MOA ACT 500FT UP TO BUT NO...\n",
       "1          AIRSPACE VOLK EAST MOA ACT 8000FT UP TO BUT NO...\n",
       "2          AIRSPACE FALLS 1 MOA ACT 500FT UP TO BUT NOT I...\n",
       "3          AIRSPACE FALLS 2 MOA ACT 500FT UP TO BUT NOT I...\n",
       "4          AIRSPACE VOLK WEST MOA ACT 100FT UP TO BUT NOT...\n",
       "                                 ...                        \n",
       "1062033    OBST TOWER LGT (ASR 1310313) 324053.20N0813415...\n",
       "1062034                       AD AP SELF SERVE FUEL NOT AVBL\n",
       "1062035                          AIRSPACE SEE MIV 05/137 UAS\n",
       "1062036    AIRSPACE UAS WI AN AREA DEFINED AS 1NM RADIUS ...\n",
       "1062037                                      RWY 22 ILS U/S \n",
       "Name: E_CODE, Length: 1062038, dtype: object"
      ]
     },
     "execution_count": 60,
     "metadata": {},
     "output_type": "execute_result"
    }
   ],
   "source": [
    "df['E_CODE']"
   ]
  },
  {
   "cell_type": "code",
   "execution_count": 61,
   "id": "512043df-1ad7-4ac6-9246-ed2c0a9d7aea",
   "metadata": {},
   "outputs": [
    {
     "data": {
      "text/plain": [
       "CNL.                                                                                                                                                                                                                                                                                                                                                                                                                                                                                                                                                                                                                                                                                                                                                                                                                                                                                                                                                  8238\n",
       "CNL. NEW NOTAM TO FLW.                                                                                                                                                                                                                                                                                                                                                                                                                                                                                                                                                                                                                                                                                                                                                                                                                                                                                                                                4757\n",
       "NAV VORTAC NOT MNT                                                                                                                                                                                                                                                                                                                                                                                                                                                                                                                                                                                                                                                                                                                                                                                                                                                                                                                                    4277\n",
       "GPS RAIM PREDICTION FOR: TSO-C129 FAULT DETECTION NO GPS RAIM OUTAGES TSO-C146A FAULT DETECTION ONLY NO GPS RAIM OUTAGES TSO-C146A FAULT DETECTION WITH EXCLUSION NO GPS RAIM OUTAGES.                                                                                                                                                                                                                                                                                                                                                                                                                                                                                                                                                                                                                                                                                                                                                                4055\n",
       "GPS RAIM PREDICTION FOR: TSO-C129 FAULT DETECTION NO GPS RAIM OUTAGES TSO-C146A FAULT DETECTION ONLY NO GPS RAIM OUTAGES TSO-C146A FAULT DETECTION WITH EXCLUSION NO GPS RAIM OUTAGES                                                                                                                                                                                                                                                                                                                                                                                                                                                                                                                                                                                                                                                                                                                                                                 3997\n",
       "                                                                                                                                                                                                                                                                                                                                                                                                                                                                                                                                                                                                                                                                                                                                                                                                                                                                                                                                                      ... \n",
       "AERODROME PHHI CAUTION ADVISED UNMANNED AIRCRAFT AERIAL RECONNAISSANCE TRAINING CONDUCTED FROM PHHI TO RESTRICTED AIRSPACE R3109 A/B/C AND R3110 A/B/C 24 HOURS OF OPERATION WEEKDAYS ONLY 3000 FT UP TO15000 FT 2 RQ7B                                                                                                                                                                                                                                                                                                                                                                                                                                                                                                                                                                                                                                                                                                                                  1\n",
       "!FDC 7/1388 FDC CANCEL 7/1296 ZLC                                                                                                                                                                                                                                                                                                                                                                                                                                                                                                                                                                                                                                                                                                                                                                                                                                                                                                                        1\n",
       "CYVO RVR 18 U/S                                                                                                                                                                                                                                                                                                                                                                                                                                                                                                                                                                                                                                                                                                                                                                                                                                                                                                                                          1\n",
       "MT..AIRSPACE 3 NM SW OF LOLO, MT..TEMPORARY FLIGHT RESTRICTIONS WI AN AREA BOUNDED BY 464529N/1140517W (MISSOULA VOR/DME MSO164009.0) TO 463926N/1140459W (MISSOULA VOR/DME MSO163015.1) TO 463441N/1140541W (MISSOULA VOR/DME MSO164019.8) TO 463230N/1140643W (MISSOULA VOR/DME MSO166022.0) TO 463237N/1142744W (MISSOULA VOR/DME MSO199026.9) TO 463522N/1142712W (MISSOULA VOR/DME MSO202024.5) TO 464408N/1142508W (MISSOULA VOR/DME MSO216017.3) TO 464912N/1142205W (MISSOULA VOR/DME MSO229012.8) BACK TO THE ORIGINAL POINT. SFC-12000FT .  TO PROVIDE A SAFE ENVIRONMENT FOR FIRE FIGHTING. PURSUANT TO 14 CFR SECTION 91.137(A)(2) TEMPORARY FLIGHT RESTRICTIONS ARE IN EFFECT. LOLO NATIONAL FOREST, MISSOULA INTERAGENCY DISPATCH CENTER TELEPHONE 406-829-7070 OR FREQ 128.650/LOLO PEAK FIRE IS IN CHARGE OF THE OPERATION. SALT LAKE CITY /ZLC/ ARTCC TELEPHONE 801-320-2560 IS THE FAA COORDINATION FACILITY. DLY 1430-0300 UTC.       1\n",
       "AIRSPACE SEE MIV 05/137 UAS                                                                                                                                                                                                                                                                                                                                                                                                                                                                                                                                                                                                                                                                                                                                                                                                                                                                                                                              1\n",
       "Name: E_CODE, Length: 521610, dtype: int64"
      ]
     },
     "execution_count": 61,
     "metadata": {},
     "output_type": "execute_result"
    }
   ],
   "source": [
    "df['E_CODE'].value_counts(dropna=False)"
   ]
  },
  {
   "cell_type": "code",
   "execution_count": 62,
   "id": "63b9c3bb-bc75-416d-855d-fc3b6bff4742",
   "metadata": {},
   "outputs": [
    {
     "data": {
      "text/plain": [
       "CNL.                                                                                                                                                                                                                                                                                                                                                                                                                                                                                                                                                                                                                                                                                                                                                                                                                                                                                                                                                  0.00776\n",
       "CNL. NEW NOTAM TO FLW.                                                                                                                                                                                                                                                                                                                                                                                                                                                                                                                                                                                                                                                                                                                                                                                                                                                                                                                                0.00448\n",
       "NAV VORTAC NOT MNT                                                                                                                                                                                                                                                                                                                                                                                                                                                                                                                                                                                                                                                                                                                                                                                                                                                                                                                                    0.00403\n",
       "GPS RAIM PREDICTION FOR: TSO-C129 FAULT DETECTION NO GPS RAIM OUTAGES TSO-C146A FAULT DETECTION ONLY NO GPS RAIM OUTAGES TSO-C146A FAULT DETECTION WITH EXCLUSION NO GPS RAIM OUTAGES.                                                                                                                                                                                                                                                                                                                                                                                                                                                                                                                                                                                                                                                                                                                                                                0.00382\n",
       "GPS RAIM PREDICTION FOR: TSO-C129 FAULT DETECTION NO GPS RAIM OUTAGES TSO-C146A FAULT DETECTION ONLY NO GPS RAIM OUTAGES TSO-C146A FAULT DETECTION WITH EXCLUSION NO GPS RAIM OUTAGES                                                                                                                                                                                                                                                                                                                                                                                                                                                                                                                                                                                                                                                                                                                                                                 0.00376\n",
       "                                                                                                                                                                                                                                                                                                                                                                                                                                                                                                                                                                                                                                                                                                                                                                                                                                                                                                                                                       ...   \n",
       "AERODROME PHHI CAUTION ADVISED UNMANNED AIRCRAFT AERIAL RECONNAISSANCE TRAINING CONDUCTED FROM PHHI TO RESTRICTED AIRSPACE R3109 A/B/C AND R3110 A/B/C 24 HOURS OF OPERATION WEEKDAYS ONLY 3000 FT UP TO15000 FT 2 RQ7B                                                                                                                                                                                                                                                                                                                                                                                                                                                                                                                                                                                                                                                                                                                               0.00000\n",
       "!FDC 7/1388 FDC CANCEL 7/1296 ZLC                                                                                                                                                                                                                                                                                                                                                                                                                                                                                                                                                                                                                                                                                                                                                                                                                                                                                                                     0.00000\n",
       "CYVO RVR 18 U/S                                                                                                                                                                                                                                                                                                                                                                                                                                                                                                                                                                                                                                                                                                                                                                                                                                                                                                                                       0.00000\n",
       "MT..AIRSPACE 3 NM SW OF LOLO, MT..TEMPORARY FLIGHT RESTRICTIONS WI AN AREA BOUNDED BY 464529N/1140517W (MISSOULA VOR/DME MSO164009.0) TO 463926N/1140459W (MISSOULA VOR/DME MSO163015.1) TO 463441N/1140541W (MISSOULA VOR/DME MSO164019.8) TO 463230N/1140643W (MISSOULA VOR/DME MSO166022.0) TO 463237N/1142744W (MISSOULA VOR/DME MSO199026.9) TO 463522N/1142712W (MISSOULA VOR/DME MSO202024.5) TO 464408N/1142508W (MISSOULA VOR/DME MSO216017.3) TO 464912N/1142205W (MISSOULA VOR/DME MSO229012.8) BACK TO THE ORIGINAL POINT. SFC-12000FT .  TO PROVIDE A SAFE ENVIRONMENT FOR FIRE FIGHTING. PURSUANT TO 14 CFR SECTION 91.137(A)(2) TEMPORARY FLIGHT RESTRICTIONS ARE IN EFFECT. LOLO NATIONAL FOREST, MISSOULA INTERAGENCY DISPATCH CENTER TELEPHONE 406-829-7070 OR FREQ 128.650/LOLO PEAK FIRE IS IN CHARGE OF THE OPERATION. SALT LAKE CITY /ZLC/ ARTCC TELEPHONE 801-320-2560 IS THE FAA COORDINATION FACILITY. DLY 1430-0300 UTC.    0.00000\n",
       "AIRSPACE SEE MIV 05/137 UAS                                                                                                                                                                                                                                                                                                                                                                                                                                                                                                                                                                                                                                                                                                                                                                                                                                                                                                                           0.00000\n",
       "Name: E_CODE, Length: 521610, dtype: object"
      ]
     },
     "execution_count": 62,
     "metadata": {},
     "output_type": "execute_result"
    }
   ],
   "source": [
    "df['E_CODE'].value_counts(dropna=False, normalize=True).apply(lambda x: '%.5f' % x)"
   ]
  },
  {
   "cell_type": "markdown",
   "id": "d587f7a9-7308-4ca8-8064-6ac0e5b9b3ee",
   "metadata": {
    "jp-MarkdownHeadingCollapsed": true,
    "tags": []
   },
   "source": [
    "#### F_CODE\n",
    "* Close to a majority are NaNs or 000, covering 39% and 39% of the data, repectively. \n",
    "* A few other categories represent >1% of data.\n",
    "* A few repeats\n",
    "* Includes chart"
   ]
  },
  {
   "cell_type": "code",
   "execution_count": 63,
   "id": "c10e990a-af22-4aab-9de2-1225db3d7889",
   "metadata": {},
   "outputs": [
    {
     "data": {
      "text/plain": [
       "0          NaN\n",
       "1          NaN\n",
       "2          NaN\n",
       "3          NaN\n",
       "4          NaN\n",
       "          ... \n",
       "1062033    NaN\n",
       "1062034    NaN\n",
       "1062035    NaN\n",
       "1062036    NaN\n",
       "1062037    000\n",
       "Name: F_CODE, Length: 1062038, dtype: object"
      ]
     },
     "execution_count": 63,
     "metadata": {},
     "output_type": "execute_result"
    }
   ],
   "source": [
    "df['F_CODE']"
   ]
  },
  {
   "cell_type": "code",
   "execution_count": 64,
   "id": "45914d9a-3225-490e-928f-0bfc5ea9e05c",
   "metadata": {},
   "outputs": [
    {
     "data": {
      "text/plain": [
       "NaN         412559\n",
       "000         405623\n",
       "SFC         103570\n",
       "GND          53302\n",
       "SEE           2396\n",
       "             ...  \n",
       "4/47/47          1\n",
       "135.5            1\n",
       "690.0FT          1\n",
       "4/48/48          1\n",
       "2182.1FT         1\n",
       "Name: F_CODE, Length: 2068, dtype: int64"
      ]
     },
     "execution_count": 64,
     "metadata": {},
     "output_type": "execute_result"
    }
   ],
   "source": [
    "df['F_CODE'].value_counts(dropna=False)"
   ]
  },
  {
   "cell_type": "code",
   "execution_count": 65,
   "id": "57e127a0-698a-4ece-bd61-b276a3e16683",
   "metadata": {},
   "outputs": [
    {
     "data": {
      "text/plain": [
       "NaN         0.38846\n",
       "000         0.38193\n",
       "SFC         0.09752\n",
       "GND         0.05019\n",
       "SEE         0.00226\n",
       "             ...   \n",
       "4/47/47     0.00000\n",
       "135.5       0.00000\n",
       "690.0FT     0.00000\n",
       "4/48/48     0.00000\n",
       "2182.1FT    0.00000\n",
       "Name: F_CODE, Length: 2068, dtype: object"
      ]
     },
     "execution_count": 65,
     "metadata": {},
     "output_type": "execute_result"
    }
   ],
   "source": [
    "df['F_CODE'].value_counts(dropna=False, normalize=True).apply(lambda x: '%.5f' % x)"
   ]
  },
  {
   "cell_type": "code",
   "execution_count": 66,
   "id": "14b5b415-5cd2-421c-b4fb-43995de578f4",
   "metadata": {},
   "outputs": [
    {
     "data": {
      "image/png": "[encoded data removed]",
      "text/plain": [
       "<Figure size 720x360 with 1 Axes>"
      ]
     },
     "metadata": {
      "needs_background": "light"
     },
     "output_type": "display_data"
    }
   ],
   "source": [
    "df['F_CODE'].value_counts(dropna=False, normalize=True).nlargest(5).plot(kind='bar', \n",
    "                                                                         title='F_CODE Top 5 Types Proportion of Data',\n",
    "                                                                         figsize=(10, 5));"
   ]
  },
  {
   "cell_type": "markdown",
   "id": "64412fa9-b1ad-439b-aa92-de40679e7b1d",
   "metadata": {
    "jp-MarkdownHeadingCollapsed": true,
    "tags": []
   },
   "source": [
    "#### G_CODE\n",
    "* Close to a majority are NaNs or 999, covering 39% and 35% of the data, repectively. \n",
    "* No other entry has a material proportion of the data.\n",
    "* A few repeats\n",
    "* Includes chart"
   ]
  },
  {
   "cell_type": "code",
   "execution_count": 67,
   "id": "5dc0311c-fc92-4198-b764-f607789aa995",
   "metadata": {},
   "outputs": [
    {
     "data": {
      "text/plain": [
       "0          NaN\n",
       "1          NaN\n",
       "2          NaN\n",
       "3          NaN\n",
       "4          NaN\n",
       "          ... \n",
       "1062033    NaN\n",
       "1062034    NaN\n",
       "1062035    NaN\n",
       "1062036    NaN\n",
       "1062037    999\n",
       "Name: G_CODE, Length: 1062038, dtype: object"
      ]
     },
     "execution_count": 67,
     "metadata": {},
     "output_type": "execute_result"
    }
   ],
   "source": [
    "df['G_CODE']"
   ]
  },
  {
   "cell_type": "code",
   "execution_count": 68,
   "id": "c2744c77-accc-4af8-9017-1f7b30ff8510",
   "metadata": {},
   "outputs": [
    {
     "data": {
      "text/plain": [
       "NaN        412500\n",
       "999        371563\n",
       "UNL          9253\n",
       "5000FT       6222\n",
       "FL230        5040\n",
       "            ...  \n",
       "254.6FT         1\n",
       "360.9FT         1\n",
       "283.1FT         1\n",
       "269.0FT         1\n",
       "1626FT          1\n",
       "Name: G_CODE, Length: 4693, dtype: int64"
      ]
     },
     "execution_count": 68,
     "metadata": {},
     "output_type": "execute_result"
    }
   ],
   "source": [
    "df['G_CODE'].value_counts(dropna=False)"
   ]
  },
  {
   "cell_type": "code",
   "execution_count": 69,
   "id": "1d848905-2b67-488c-a2f1-57b02a17939d",
   "metadata": {},
   "outputs": [
    {
     "data": {
      "text/plain": [
       "NaN        0.38840\n",
       "999        0.34986\n",
       "UNL        0.00871\n",
       "5000FT     0.00586\n",
       "FL230      0.00475\n",
       "            ...   \n",
       "254.6FT    0.00000\n",
       "360.9FT    0.00000\n",
       "283.1FT    0.00000\n",
       "269.0FT    0.00000\n",
       "1626FT     0.00000\n",
       "Name: G_CODE, Length: 4693, dtype: object"
      ]
     },
     "execution_count": 69,
     "metadata": {},
     "output_type": "execute_result"
    }
   ],
   "source": [
    "df['G_CODE'].value_counts(dropna=False, normalize=True).apply(lambda x: '%.5f' % x)"
   ]
  },
  {
   "cell_type": "code",
   "execution_count": 70,
   "id": "691fcccd-2791-4220-92a3-d359dc3e625f",
   "metadata": {},
   "outputs": [
    {
     "data": {
      "image/png": "[encoded data removed]",
      "text/plain": [
       "<Figure size 720x360 with 1 Axes>"
      ]
     },
     "metadata": {
      "needs_background": "light"
     },
     "output_type": "display_data"
    }
   ],
   "source": [
    "df['G_CODE'].value_counts(dropna=False, normalize=True).nlargest(5).plot(kind='bar', \n",
    "                                                                         title='G_CODE Top 5 Types Proportion of Data',\n",
    "                                                                         figsize=(10, 5));"
   ]
  },
  {
   "cell_type": "markdown",
   "id": "879a9324-0242-4568-8766-52f691a69ba3",
   "metadata": {
    "jp-MarkdownHeadingCollapsed": true,
    "tags": []
   },
   "source": [
    "#### CLASSIFICATION\n",
    "* Close to a majority are INTL or DOM, covering 40% and 38% of the data, repectively. \n",
    "* Next two biggest categories, MIL and FDC, both cover more than 10% of the data each. \n",
    "* No other entry has a material proportion of the data.\n",
    "* A few repeats\n",
    "* Includes chart"
   ]
  },
  {
   "cell_type": "code",
   "execution_count": 71,
   "id": "d17e1d2a-6f71-4160-b156-af12b10b6933",
   "metadata": {},
   "outputs": [
    {
     "data": {
      "text/plain": [
       "0           DOM\n",
       "1           DOM\n",
       "2           DOM\n",
       "3           DOM\n",
       "4           DOM\n",
       "           ... \n",
       "1062033     DOM\n",
       "1062034     DOM\n",
       "1062035     DOM\n",
       "1062036     DOM\n",
       "1062037    INTL\n",
       "Name: CLASSIFICATION, Length: 1062038, dtype: object"
      ]
     },
     "execution_count": 71,
     "metadata": {},
     "output_type": "execute_result"
    }
   ],
   "source": [
    "df['CLASSIFICATION']"
   ]
  },
  {
   "cell_type": "code",
   "execution_count": 72,
   "id": "d40cb07a-6524-4834-84b2-75bf3eef9d2b",
   "metadata": {},
   "outputs": [
    {
     "data": {
      "text/plain": [
       "INTL               427893\n",
       "DOM                406881\n",
       "MIL                116128\n",
       "FDC                109681\n",
       "LMIL                 1219\n",
       "                    ...  \n",
       "M0044/18 NOTAMN         1\n",
       "M0042/18 NOTAMN         1\n",
       "M0043/18 NOTAMN         1\n",
       "M0159/18 NOTAMN         1\n",
       "M0101/20 NOTAMN         1\n",
       "Name: CLASSIFICATION, Length: 69, dtype: int64"
      ]
     },
     "execution_count": 72,
     "metadata": {},
     "output_type": "execute_result"
    }
   ],
   "source": [
    "df['CLASSIFICATION'].value_counts(dropna=False)"
   ]
  },
  {
   "cell_type": "code",
   "execution_count": 73,
   "id": "244425fb-15c8-42f2-8652-d2aebd0720f5",
   "metadata": {},
   "outputs": [
    {
     "data": {
      "text/plain": [
       "INTL               0.40290\n",
       "DOM                0.38311\n",
       "MIL                0.10934\n",
       "FDC                0.10327\n",
       "LMIL               0.00115\n",
       "                    ...   \n",
       "M0044/18 NOTAMN    0.00000\n",
       "M0042/18 NOTAMN    0.00000\n",
       "M0043/18 NOTAMN    0.00000\n",
       "M0159/18 NOTAMN    0.00000\n",
       "M0101/20 NOTAMN    0.00000\n",
       "Name: CLASSIFICATION, Length: 69, dtype: object"
      ]
     },
     "execution_count": 73,
     "metadata": {},
     "output_type": "execute_result"
    }
   ],
   "source": [
    "df['CLASSIFICATION'].value_counts(dropna=False, normalize=True).apply(lambda x: '%.5f' % x)"
   ]
  },
  {
   "cell_type": "code",
   "execution_count": 74,
   "id": "48e6559e-409a-4abf-ab50-f9118cb8a4a3",
   "metadata": {},
   "outputs": [
    {
     "data": {
      "image/png": "[encoded data removed]",
      "text/plain": [
       "<Figure size 720x360 with 1 Axes>"
      ]
     },
     "metadata": {
      "needs_background": "light"
     },
     "output_type": "display_data"
    }
   ],
   "source": [
    "df['CLASSIFICATION'].value_counts(dropna=False, normalize=True).nlargest(5).plot(kind='bar', \n",
    "                                                                         title='CLASSIFICATION Top 5 Types Proportion of Data',\n",
    "                                                                         figsize=(10, 5));"
   ]
  },
  {
   "cell_type": "markdown",
   "id": "6df9e117-4537-4214-add8-9d4addff09a5",
   "metadata": {
    "jp-MarkdownHeadingCollapsed": true,
    "tags": []
   },
   "source": [
    "#### CLASSIFICATION\n",
    "* Close to a majority are INTL or DOM, covering 40% and 38% of the data, repectively. \n",
    "* Next two biggest categories, MIL and FDC, both cover more than 10% of the data each. \n",
    "* No other entry has a material proportion of the data.\n",
    "* A few repeats\n",
    "* Includes chart"
   ]
  },
  {
   "cell_type": "code",
   "execution_count": 75,
   "id": "d55fbed5-d0fc-45ca-a8db-a0526e75437c",
   "metadata": {},
   "outputs": [
    {
     "data": {
      "text/plain": [
       "0           DOM\n",
       "1           DOM\n",
       "2           DOM\n",
       "3           DOM\n",
       "4           DOM\n",
       "           ... \n",
       "1062033     DOM\n",
       "1062034     DOM\n",
       "1062035     DOM\n",
       "1062036     DOM\n",
       "1062037    INTL\n",
       "Name: CLASSIFICATION, Length: 1062038, dtype: object"
      ]
     },
     "execution_count": 75,
     "metadata": {},
     "output_type": "execute_result"
    }
   ],
   "source": [
    "df['CLASSIFICATION']"
   ]
  },
  {
   "cell_type": "code",
   "execution_count": 76,
   "id": "43ddee2e-8c45-43c0-870e-9447908cb772",
   "metadata": {},
   "outputs": [
    {
     "data": {
      "text/plain": [
       "INTL               427893\n",
       "DOM                406881\n",
       "MIL                116128\n",
       "FDC                109681\n",
       "LMIL                 1219\n",
       "                    ...  \n",
       "M0044/18 NOTAMN         1\n",
       "M0042/18 NOTAMN         1\n",
       "M0043/18 NOTAMN         1\n",
       "M0159/18 NOTAMN         1\n",
       "M0101/20 NOTAMN         1\n",
       "Name: CLASSIFICATION, Length: 69, dtype: int64"
      ]
     },
     "execution_count": 76,
     "metadata": {},
     "output_type": "execute_result"
    }
   ],
   "source": [
    "df['CLASSIFICATION'].value_counts(dropna=False)"
   ]
  },
  {
   "cell_type": "code",
   "execution_count": 77,
   "id": "d58a4bdc-088c-45f9-9a96-bdc55f846830",
   "metadata": {},
   "outputs": [
    {
     "data": {
      "text/plain": [
       "INTL               0.40290\n",
       "DOM                0.38311\n",
       "MIL                0.10934\n",
       "FDC                0.10327\n",
       "LMIL               0.00115\n",
       "                    ...   \n",
       "M0044/18 NOTAMN    0.00000\n",
       "M0042/18 NOTAMN    0.00000\n",
       "M0043/18 NOTAMN    0.00000\n",
       "M0159/18 NOTAMN    0.00000\n",
       "M0101/20 NOTAMN    0.00000\n",
       "Name: CLASSIFICATION, Length: 69, dtype: object"
      ]
     },
     "execution_count": 77,
     "metadata": {},
     "output_type": "execute_result"
    }
   ],
   "source": [
    "df['CLASSIFICATION'].value_counts(dropna=False, normalize=True).apply(lambda x: '%.5f' % x)"
   ]
  },
  {
   "cell_type": "code",
   "execution_count": 78,
   "id": "683c0fbd-9bd1-4366-be43-1f95ffbf00d4",
   "metadata": {},
   "outputs": [
    {
     "data": {
      "image/png": "[encoded data removed]",
      "text/plain": [
       "<Figure size 720x360 with 1 Axes>"
      ]
     },
     "metadata": {
      "needs_background": "light"
     },
     "output_type": "display_data"
    }
   ],
   "source": [
    "df['CLASSIFICATION'].value_counts(dropna=False, normalize=True).nlargest(5).plot(kind='bar', \n",
    "                                                                         title='CLASSIFICATION Top 5 Types Proportion of Data',\n",
    "                                                                         figsize=(10, 5));"
   ]
  },
  {
   "cell_type": "markdown",
   "id": "38cb5d3d-cdfc-404f-8b7f-89f6275550d8",
   "metadata": {
    "jp-MarkdownHeadingCollapsed": true,
    "tags": []
   },
   "source": [
    "#### POSSIBLE_NOTAM_ID\n",
    "* How does this relate to NOTAM_ID? Proportions do not match. \n",
    "* Repeats, but cover an tiny proportion of the data."
   ]
  },
  {
   "cell_type": "code",
   "execution_count": 79,
   "id": "8506330c-fcb7-4e1a-826f-ff5c8ef3fea1",
   "metadata": {},
   "outputs": [
    {
     "data": {
      "text/plain": [
       "0                  0604/16\n",
       "1                  0603/16\n",
       "2                  0605/16\n",
       "3                  0607/16\n",
       "4                  0602/16\n",
       "                ...       \n",
       "1062033     0635/20 NOTAMN\n",
       "1062034     0385/20 NOTAMN\n",
       "1062035            0018/20\n",
       "1062036            0137/20\n",
       "1062037    A1093/20 NOTAMN\n",
       "Name: POSSIBLE_NOTAM_ID, Length: 1062038, dtype: object"
      ]
     },
     "execution_count": 79,
     "metadata": {},
     "output_type": "execute_result"
    }
   ],
   "source": [
    "df['POSSIBLE_NOTAM_ID']"
   ]
  },
  {
   "cell_type": "code",
   "execution_count": 80,
   "id": "bb7c41db-6adc-4b13-9b47-577c2b12e0e9",
   "metadata": {},
   "outputs": [
    {
     "data": {
      "text/plain": [
       "0001/17 NOTAMN     3666\n",
       "0002/17 NOTAMN     2954\n",
       "0003/17 NOTAMN     2639\n",
       "0004/17 NOTAMN     2405\n",
       "0001/18 NOTAMN     2377\n",
       "                   ... \n",
       "B1053/17 NOTAMN       1\n",
       "1091/17               1\n",
       "H6844/17 NOTAMC       1\n",
       "5474/17 NOTAMC        1\n",
       "B0833/20 NOTAMN       1\n",
       "Name: POSSIBLE_NOTAM_ID, Length: 367394, dtype: int64"
      ]
     },
     "execution_count": 80,
     "metadata": {},
     "output_type": "execute_result"
    }
   ],
   "source": [
    "df['POSSIBLE_NOTAM_ID'].value_counts(dropna=False)"
   ]
  },
  {
   "cell_type": "code",
   "execution_count": 81,
   "id": "fdc980b7-b14f-44ba-8681-29ce5b8c4aa4",
   "metadata": {},
   "outputs": [
    {
     "data": {
      "text/plain": [
       "0001/17 NOTAMN     0.00345\n",
       "0002/17 NOTAMN     0.00278\n",
       "0003/17 NOTAMN     0.00248\n",
       "0004/17 NOTAMN     0.00226\n",
       "0001/18 NOTAMN     0.00224\n",
       "                    ...   \n",
       "B1053/17 NOTAMN    0.00000\n",
       "1091/17            0.00000\n",
       "H6844/17 NOTAMC    0.00000\n",
       "5474/17 NOTAMC     0.00000\n",
       "B0833/20 NOTAMN    0.00000\n",
       "Name: POSSIBLE_NOTAM_ID, Length: 367394, dtype: object"
      ]
     },
     "execution_count": 81,
     "metadata": {},
     "output_type": "execute_result"
    }
   ],
   "source": [
    "df['POSSIBLE_NOTAM_ID'].value_counts(dropna=False, normalize=True).apply(lambda x: '%.5f' % x)"
   ]
  },
  {
   "cell_type": "markdown",
   "id": "8f2958e0-1de3-483d-8490-59490422299c",
   "metadata": {
    "jp-MarkdownHeadingCollapsed": true,
    "tags": []
   },
   "source": [
    "#### MIN_ALT\n",
    "* 0 as a string and 0 as numeric both included. \n",
    "    * parsed through custom fuction\n",
    "* Close to a majority are 0.000 or NaN, covering 59% and 29% of the data, repectively.\n",
    "* No other entry has a material proportion of the data.\n",
    "* A few repeats\n",
    "* Includes chart"
   ]
  },
  {
   "cell_type": "code",
   "execution_count": 82,
   "id": "bd8855e6-d342-430f-888e-cb9fadd18142",
   "metadata": {},
   "outputs": [],
   "source": [
    "# Helper function as to_numeric is not working\n",
    "def convert_to_float(row):\n",
    "    if isinstance(row, str):\n",
    "        try:\n",
    "            return float(row)\n",
    "        except:\n",
    "            return row\n",
    "    else:\n",
    "        return row"
   ]
  },
  {
   "cell_type": "code",
   "execution_count": 83,
   "id": "f339d716-a643-4232-a411-4facab93d921",
   "metadata": {},
   "outputs": [],
   "source": [
    "df['MIN_ALT'] = df['MIN_ALT'].apply(convert_to_float)"
   ]
  },
  {
   "cell_type": "code",
   "execution_count": 84,
   "id": "0b7af684-86bd-4e98-857a-2ff1ddffa165",
   "metadata": {},
   "outputs": [
    {
     "data": {
      "text/plain": [
       "0.000      629077\n",
       "NaN        305060\n",
       "110.000      8977\n",
       "5.000        6635\n",
       "50.000       6378\n",
       "            ...  \n",
       "4.429           1\n",
       "12.628          1\n",
       "7.018           1\n",
       "10.282          1\n",
       "21.821          1\n",
       "Name: MIN_ALT, Length: 1337, dtype: int64"
      ]
     },
     "execution_count": 84,
     "metadata": {},
     "output_type": "execute_result"
    }
   ],
   "source": [
    "df['MIN_ALT'].value_counts(dropna=False)"
   ]
  },
  {
   "cell_type": "code",
   "execution_count": 85,
   "id": "f82e6f50-13fb-44c8-8d51-fa59189beb10",
   "metadata": {},
   "outputs": [
    {
     "data": {
      "text/plain": [
       "0.000      0.59233\n",
       "NaN        0.28724\n",
       "110.000    0.00845\n",
       "5.000      0.00625\n",
       "50.000     0.00601\n",
       "            ...   \n",
       "4.429      0.00000\n",
       "12.628     0.00000\n",
       "7.018      0.00000\n",
       "10.282     0.00000\n",
       "21.821     0.00000\n",
       "Name: MIN_ALT, Length: 1337, dtype: object"
      ]
     },
     "execution_count": 85,
     "metadata": {},
     "output_type": "execute_result"
    }
   ],
   "source": [
    "df['MIN_ALT'].value_counts(dropna=False, normalize=True).apply(lambda x: '%.5f' % x)"
   ]
  },
  {
   "cell_type": "code",
   "execution_count": 86,
   "id": "f1a0718d-dfb5-4159-bb19-4d9cfee95996",
   "metadata": {},
   "outputs": [
    {
     "data": {
      "image/png": "[encoded data removed]",
      "text/plain": [
       "<Figure size 720x360 with 1 Axes>"
      ]
     },
     "metadata": {
      "needs_background": "light"
     },
     "output_type": "display_data"
    }
   ],
   "source": [
    "df['MIN_ALT'].value_counts(dropna=False, normalize=True).nlargest(5).plot(kind='bar', \n",
    "                                                                          title='MIN_ALT Top 5 Types Proportion of Data',\n",
    "                                                                          figsize=(10, 5));"
   ]
  },
  {
   "cell_type": "markdown",
   "id": "797d5d49-3313-4d6a-ab5a-662ec2d5ba2e",
   "metadata": {
    "jp-MarkdownHeadingCollapsed": true,
    "tags": []
   },
   "source": [
    "#### MAX_ALT\n",
    "* 0 as a string and 0 as numeric both included. \n",
    "    * Parsed through custom fuction\n",
    "* Close to a majority are 999.0 or NaN, covering 39% and 31% of the data, repectively.\n",
    "* A few other entries have a material proportion of the data.\n",
    "* A few repeats\n",
    "* Includes chart"
   ]
  },
  {
   "cell_type": "code",
   "execution_count": 87,
   "id": "e9533903-0cae-4e1a-8ab0-e28c91a105d8",
   "metadata": {},
   "outputs": [],
   "source": [
    "df['MAX_ALT'] = df['MAX_ALT'].apply(convert_to_float)"
   ]
  },
  {
   "cell_type": "code",
   "execution_count": 88,
   "id": "56800d45-1ed1-484e-8671-936ff26bec1d",
   "metadata": {},
   "outputs": [
    {
     "data": {
      "text/plain": [
       "999.000    419791\n",
       "NaN        337615\n",
       "180.000     34986\n",
       "50.000      10958\n",
       "20.000      10540\n",
       "            ...  \n",
       "5.961           1\n",
       "472.000         1\n",
       "36.620          1\n",
       "48.470          1\n",
       "20.630          1\n",
       "Name: MAX_ALT, Length: 3045, dtype: int64"
      ]
     },
     "execution_count": 88,
     "metadata": {},
     "output_type": "execute_result"
    }
   ],
   "source": [
    "df['MAX_ALT'].value_counts(dropna=False)"
   ]
  },
  {
   "cell_type": "code",
   "execution_count": 89,
   "id": "b93f5784-ddc5-4c6c-888c-4da56cd4cbfc",
   "metadata": {},
   "outputs": [
    {
     "data": {
      "text/plain": [
       "999.000    0.39527\n",
       "NaN        0.31789\n",
       "180.000    0.03294\n",
       "50.000     0.01032\n",
       "20.000     0.00992\n",
       "            ...   \n",
       "5.961      0.00000\n",
       "472.000    0.00000\n",
       "36.620     0.00000\n",
       "48.470     0.00000\n",
       "20.630     0.00000\n",
       "Name: MAX_ALT, Length: 3045, dtype: object"
      ]
     },
     "execution_count": 89,
     "metadata": {},
     "output_type": "execute_result"
    }
   ],
   "source": [
    "df['MAX_ALT'].value_counts(dropna=False, normalize=True).apply(lambda x: '%.5f' % x)"
   ]
  },
  {
   "cell_type": "code",
   "execution_count": 90,
   "id": "5d1c6c28-bf80-494b-bef9-928c9b5efeca",
   "metadata": {},
   "outputs": [
    {
     "data": {
      "image/png": "[encoded data removed]",
      "text/plain": [
       "<Figure size 720x360 with 1 Axes>"
      ]
     },
     "metadata": {
      "needs_background": "light"
     },
     "output_type": "display_data"
    }
   ],
   "source": [
    "df['MAX_ALT'].value_counts(dropna=False, normalize=True).nlargest(5).plot(kind='bar', \n",
    "                                                                          title='MAX_ALT Top 5 Types Proportion of Data',\n",
    "                                                                          figsize=(10, 5));"
   ]
  },
  {
   "cell_type": "markdown",
   "id": "b67286d1-f9d3-48a2-9196-fbd10b9dfcf6",
   "metadata": {
    "jp-MarkdownHeadingCollapsed": true,
    "tags": []
   },
   "source": [
    "#### MIN_ALT_REF_TYPE\n",
    "* Close to a majority are MSL, NaN, or AGL, covering 43%, 39%, and 20% of the data, repectively. \n",
    "* No other entry has a material proportion of the data.\n",
    "* A few repeats\n",
    "* Includes chart"
   ]
  },
  {
   "cell_type": "code",
   "execution_count": 91,
   "id": "92cad18f-0d92-450c-b6a7-2b6efdc7f78b",
   "metadata": {},
   "outputs": [
    {
     "data": {
      "text/plain": [
       "0          NaN\n",
       "1          NaN\n",
       "2          NaN\n",
       "3          NaN\n",
       "4          NaN\n",
       "          ... \n",
       "1062033    NaN\n",
       "1062034    NaN\n",
       "1062035    NaN\n",
       "1062036    AGL\n",
       "1062037    MSL\n",
       "Name: MIN_ALT_REF_TYPE, Length: 1062038, dtype: object"
      ]
     },
     "execution_count": 91,
     "metadata": {},
     "output_type": "execute_result"
    }
   ],
   "source": [
    "df['MIN_ALT_REF_TYPE']"
   ]
  },
  {
   "cell_type": "code",
   "execution_count": 92,
   "id": "92d5f17a-0b95-4314-bc5a-f02ee29f39c4",
   "metadata": {},
   "outputs": [
    {
     "data": {
      "text/plain": [
       "MSL                    461870\n",
       "NaN                    392549\n",
       "AGL                    207463\n",
       "2017-12-12 20:22:00         2\n",
       "2019-07-23 12:36:00         2\n",
       "                        ...  \n",
       "2017-05-31 13:29:00         1\n",
       "2017-05-31 11:34:00         1\n",
       "2017-05-31 11:32:00         1\n",
       "2017-05-31 11:33:00         1\n",
       "2020-03-06 15:56:00         1\n",
       "Name: MIN_ALT_REF_TYPE, Length: 138, dtype: int64"
      ]
     },
     "execution_count": 92,
     "metadata": {},
     "output_type": "execute_result"
    }
   ],
   "source": [
    "df['MIN_ALT_REF_TYPE'].value_counts(dropna=False)"
   ]
  },
  {
   "cell_type": "code",
   "execution_count": 93,
   "id": "b77b5cca-077b-4034-825a-aef8bcc9ab6a",
   "metadata": {},
   "outputs": [
    {
     "data": {
      "text/plain": [
       "MSL                    0.43489\n",
       "NaN                    0.36962\n",
       "AGL                    0.19534\n",
       "2017-12-12 20:22:00    0.00000\n",
       "2019-07-23 12:36:00    0.00000\n",
       "                        ...   \n",
       "2017-05-31 13:29:00    0.00000\n",
       "2017-05-31 11:34:00    0.00000\n",
       "2017-05-31 11:32:00    0.00000\n",
       "2017-05-31 11:33:00    0.00000\n",
       "2020-03-06 15:56:00    0.00000\n",
       "Name: MIN_ALT_REF_TYPE, Length: 138, dtype: object"
      ]
     },
     "execution_count": 93,
     "metadata": {},
     "output_type": "execute_result"
    }
   ],
   "source": [
    "df['MIN_ALT_REF_TYPE'].value_counts(dropna=False, normalize=True).apply(lambda x: '%.5f' % x)"
   ]
  },
  {
   "cell_type": "code",
   "execution_count": 94,
   "id": "60e8eee4-3d06-498d-94ab-7b2dc8201e00",
   "metadata": {},
   "outputs": [
    {
     "data": {
      "image/png": "[encoded data removed]",
      "text/plain": [
       "<Figure size 720x360 with 1 Axes>"
      ]
     },
     "metadata": {
      "needs_background": "light"
     },
     "output_type": "display_data"
    }
   ],
   "source": [
    "df['MIN_ALT_REF_TYPE'].value_counts(dropna=False, normalize=True).nlargest(5).plot(kind='bar', \n",
    "                                                                                   title='MIN_ALT_REF_TYPE Top 5 Types Proportion of Data',\n",
    "                                                                                   figsize=(10, 5));"
   ]
  },
  {
   "cell_type": "markdown",
   "id": "f0e9a7fa-4304-4d8e-9c15-1a59350910e7",
   "metadata": {
    "jp-MarkdownHeadingCollapsed": true,
    "tags": []
   },
   "source": [
    "#### MAX_ALT_REF_TYPE\n",
    "* Close to a majority are MSL or NaN, covering 55%, and 41% of the data, repectively. \n",
    "* A couple of other entries have a material proportion of the data.\n",
    "* A few repeats\n",
    "* Includes chart"
   ]
  },
  {
   "cell_type": "code",
   "execution_count": 95,
   "id": "2d00ca0a-a36a-449b-92a8-0b433969b5cd",
   "metadata": {},
   "outputs": [
    {
     "data": {
      "text/plain": [
       "0          NaN\n",
       "1          NaN\n",
       "2          NaN\n",
       "3          NaN\n",
       "4          NaN\n",
       "          ... \n",
       "1062033    NaN\n",
       "1062034    NaN\n",
       "1062035    NaN\n",
       "1062036    NaN\n",
       "1062037    MSL\n",
       "Name: MAX_ALT_REF_TYPE, Length: 1062038, dtype: object"
      ]
     },
     "execution_count": 95,
     "metadata": {},
     "output_type": "execute_result"
    }
   ],
   "source": [
    "df['MAX_ALT_REF_TYPE']"
   ]
  },
  {
   "cell_type": "code",
   "execution_count": 96,
   "id": "47682d74-1df2-4a45-8419-8175cb3b798a",
   "metadata": {},
   "outputs": [
    {
     "data": {
      "text/plain": [
       "MSL                    584112\n",
       "NaN                    435189\n",
       "AGL                     31866\n",
       "FL                      10654\n",
       "2017-03-02 05:00:00         6\n",
       "                        ...  \n",
       "2018-04-03 17:22:00         1\n",
       "2017-02-24 23:59:00         1\n",
       "2018-03-30 17:00:00         1\n",
       "2017-03-02 23:59:00         1\n",
       "2020-03-25 18:09:00         1\n",
       "Name: MAX_ALT_REF_TYPE, Length: 126, dtype: int64"
      ]
     },
     "execution_count": 96,
     "metadata": {},
     "output_type": "execute_result"
    }
   ],
   "source": [
    "df['MAX_ALT_REF_TYPE'].value_counts(dropna=False)"
   ]
  },
  {
   "cell_type": "code",
   "execution_count": 97,
   "id": "e83557c6-bced-4b57-ab90-4d3af6a2b975",
   "metadata": {},
   "outputs": [
    {
     "data": {
      "text/plain": [
       "MSL                    0.54999\n",
       "NaN                    0.40977\n",
       "AGL                    0.03000\n",
       "FL                     0.01003\n",
       "2017-03-02 05:00:00    0.00001\n",
       "                        ...   \n",
       "2018-04-03 17:22:00    0.00000\n",
       "2017-02-24 23:59:00    0.00000\n",
       "2018-03-30 17:00:00    0.00000\n",
       "2017-03-02 23:59:00    0.00000\n",
       "2020-03-25 18:09:00    0.00000\n",
       "Name: MAX_ALT_REF_TYPE, Length: 126, dtype: object"
      ]
     },
     "execution_count": 97,
     "metadata": {},
     "output_type": "execute_result"
    }
   ],
   "source": [
    "df['MAX_ALT_REF_TYPE'].value_counts(dropna=False, normalize=True).apply(lambda x: '%.5f' % x)"
   ]
  },
  {
   "cell_type": "code",
   "execution_count": 98,
   "id": "8ae47386-d594-4205-aa17-991f47e905ca",
   "metadata": {},
   "outputs": [
    {
     "data": {
      "image/png": "[encoded data removed]",
      "text/plain": [
       "<Figure size 720x360 with 1 Axes>"
      ]
     },
     "metadata": {
      "needs_background": "light"
     },
     "output_type": "display_data"
    }
   ],
   "source": [
    "df['MAX_ALT_REF_TYPE'].value_counts(dropna=False, normalize=True).nlargest(5).plot(kind='bar', \n",
    "                                                                                   title='MAX_ALT_REF_TYPE Top 5 Types Proportion of Data',\n",
    "                                                                                   figsize=(10, 5));"
   ]
  },
  {
   "cell_type": "markdown",
   "id": "b67740d2-3119-4da8-875e-f3097b4d23cf",
   "metadata": {
    "jp-MarkdownHeadingCollapsed": true,
    "tags": []
   },
   "source": [
    "#### POSSIBLE_START_DATE\n",
    "* Did not get parsed as dates. \n",
    "    * Parsed through custom fuction\n",
    "* ZNY as an oddball entry\n",
    "* Most entries from 2016-2019\n",
    "* Includes chart"
   ]
  },
  {
   "cell_type": "code",
   "execution_count": 99,
   "id": "d69e913b-b9c1-4a6a-abe1-b890d5940fb6",
   "metadata": {},
   "outputs": [],
   "source": [
    "# Helper function as to_numeric is not working\n",
    "from datetime import datetime\n",
    "def convert_to_date(row):\n",
    "    try:\n",
    "        return datetime.strptime(row, '%Y-%m-%d %H:%M:%S')\n",
    "    except:\n",
    "        return row"
   ]
  },
  {
   "cell_type": "code",
   "execution_count": 100,
   "id": "8b1fe004-0572-4681-b68f-105823ed1094",
   "metadata": {},
   "outputs": [],
   "source": [
    "df['POSSIBLE_START_DATE'] = df['POSSIBLE_START_DATE'].apply(convert_to_date)"
   ]
  },
  {
   "cell_type": "code",
   "execution_count": 101,
   "id": "865dbe0a-49d6-4c1a-8458-87309856254e",
   "metadata": {},
   "outputs": [
    {
     "data": {
      "text/plain": [
       "2019-10-10 09:01:00    577\n",
       "2018-09-19 04:00:00    307\n",
       "2019-12-05 00:00:00    268\n",
       "2019-05-23 00:00:00    253\n",
       "2018-12-06 00:00:00    249\n",
       "                      ... \n",
       "2017-04-25 03:08:00      1\n",
       "2018-05-27 16:45:00      1\n",
       "2018-05-27 16:50:00      1\n",
       "2018-05-27 16:40:00      1\n",
       "2020-05-30 21:57:00      1\n",
       "Name: POSSIBLE_START_DATE, Length: 351031, dtype: int64"
      ]
     },
     "execution_count": 101,
     "metadata": {},
     "output_type": "execute_result"
    }
   ],
   "source": [
    "df['POSSIBLE_START_DATE'].value_counts(dropna=False)"
   ]
  },
  {
   "cell_type": "code",
   "execution_count": 102,
   "id": "64042a02-737b-4d55-a595-38a72c079936",
   "metadata": {},
   "outputs": [
    {
     "data": {
      "text/plain": [
       "2019-10-10 09:01:00    0.00054\n",
       "2018-09-19 04:00:00    0.00029\n",
       "2019-12-05 00:00:00    0.00025\n",
       "2019-05-23 00:00:00    0.00024\n",
       "2018-12-06 00:00:00    0.00023\n",
       "                        ...   \n",
       "2017-04-25 03:08:00    0.00000\n",
       "2018-05-27 16:45:00    0.00000\n",
       "2018-05-27 16:50:00    0.00000\n",
       "2018-05-27 16:40:00    0.00000\n",
       "2020-05-30 21:57:00    0.00000\n",
       "Name: POSSIBLE_START_DATE, Length: 351031, dtype: object"
      ]
     },
     "execution_count": 102,
     "metadata": {},
     "output_type": "execute_result"
    }
   ],
   "source": [
    "df['POSSIBLE_START_DATE'].value_counts(dropna=False, normalize=True).apply(lambda x: '%.5f' % x)"
   ]
  },
  {
   "cell_type": "code",
   "execution_count": 103,
   "id": "d6dcbae2-140f-42f1-9435-bc0be1556d30",
   "metadata": {},
   "outputs": [],
   "source": [
    "def get_year(row):\n",
    "    try:\n",
    "        return row.year\n",
    "    except:\n",
    "        return row\n",
    "\n",
    "def get_month(row):\n",
    "    try:\n",
    "        return row.month\n",
    "    except:\n",
    "        return row\n",
    "    \n",
    "def get_day(row):\n",
    "    try:\n",
    "        return row.day\n",
    "    except:\n",
    "        return row\n",
    "    \n",
    "df['POSSIBLE_START_DATE_YEAR']  = df['POSSIBLE_START_DATE'].apply(get_year)\n",
    "df['POSSIBLE_START_DATE_MONTH'] = df['POSSIBLE_START_DATE'].apply(get_month)\n",
    "df['POSSIBLE_START_DATE_DAY']   = df['POSSIBLE_START_DATE'].apply(get_day)"
   ]
  },
  {
   "cell_type": "code",
   "execution_count": 104,
   "id": "f91990f1-9455-4f3f-8bd4-d622f36af6a0",
   "metadata": {},
   "outputs": [
    {
     "data": {
      "text/plain": [
       "2017    323242\n",
       "2018    285834\n",
       "2019    248116\n",
       "2016    155556\n",
       "2020     48141\n",
       "2015       754\n",
       "2014       194\n",
       "2013        76\n",
       "2012        40\n",
       "2011        28\n",
       "2007        14\n",
       "2008         8\n",
       "2002         5\n",
       "2010         4\n",
       "2001         4\n",
       "2005         4\n",
       "2009         4\n",
       "2003         3\n",
       "2026         3\n",
       "2004         2\n",
       "NaN          2\n",
       "ZNY          1\n",
       "2006         1\n",
       "2037         1\n",
       "2022         1\n",
       "Name: POSSIBLE_START_DATE_YEAR, dtype: int64"
      ]
     },
     "execution_count": 104,
     "metadata": {},
     "output_type": "execute_result"
    }
   ],
   "source": [
    "df['POSSIBLE_START_DATE_YEAR'].value_counts(dropna=False)"
   ]
  },
  {
   "cell_type": "code",
   "execution_count": 105,
   "id": "003f55e8-c132-40b5-b1f5-d8cae0c3cc6e",
   "metadata": {},
   "outputs": [
    {
     "data": {
      "text/plain": [
       "2017    0.30436\n",
       "2018    0.26914\n",
       "2019    0.23362\n",
       "2016    0.14647\n",
       "2020    0.04533\n",
       "2015    0.00071\n",
       "2014    0.00018\n",
       "2013    0.00007\n",
       "2012    0.00004\n",
       "2011    0.00003\n",
       "2007    0.00001\n",
       "2008    0.00001\n",
       "2002    0.00000\n",
       "2010    0.00000\n",
       "2001    0.00000\n",
       "2005    0.00000\n",
       "2009    0.00000\n",
       "2003    0.00000\n",
       "2026    0.00000\n",
       "2004    0.00000\n",
       "NaN     0.00000\n",
       "ZNY     0.00000\n",
       "2006    0.00000\n",
       "2037    0.00000\n",
       "2022    0.00000\n",
       "Name: POSSIBLE_START_DATE_YEAR, dtype: object"
      ]
     },
     "execution_count": 105,
     "metadata": {},
     "output_type": "execute_result"
    }
   ],
   "source": [
    "df['POSSIBLE_START_DATE_YEAR'].value_counts(dropna=False, normalize=True).apply(lambda x: '%.5f' % x)"
   ]
  },
  {
   "cell_type": "code",
   "execution_count": 106,
   "id": "bd09cb29-0b59-49b3-96bb-d738ab4accfc",
   "metadata": {},
   "outputs": [
    {
     "data": {
      "image/png": "[encoded data removed]",
      "text/plain": [
       "<Figure size 720x360 with 1 Axes>"
      ]
     },
     "metadata": {
      "needs_background": "light"
     },
     "output_type": "display_data"
    }
   ],
   "source": [
    "df['POSSIBLE_START_DATE_YEAR'].value_counts(dropna=False).plot(kind='bar',               \n",
    "                                                               title='POSSIBLE_START_DATE_YEAR Proportion of Data',\n",
    "                                                               figsize=(10, 5));"
   ]
  },
  {
   "cell_type": "markdown",
   "id": "55a1365e-0dc3-40a3-b8da-83ea52069745",
   "metadata": {
    "jp-MarkdownHeadingCollapsed": true,
    "tags": []
   },
   "source": [
    "#### POSSIBLE_END_DATE\n",
    "* Did not get parsed as dates. \n",
    "    * Parsed through custom fuction\n",
    "* Most entries from 2016-2019\n",
    "* Includes chart"
   ]
  },
  {
   "cell_type": "code",
   "execution_count": 107,
   "id": "b5edad6c-53d4-4519-be9f-9c5b97b9edbf",
   "metadata": {},
   "outputs": [
    {
     "data": {
      "text/plain": [
       "NaT                    14200\n",
       "2018-01-31 23:59:00      708\n",
       "2019-09-30 23:59:00      536\n",
       "2017-10-31 23:59:00      508\n",
       "2017-02-28 23:59:00      495\n",
       "                       ...  \n",
       "2017-11-30 11:49:00        1\n",
       "2017-12-01 03:59:00        1\n",
       "2017-10-30 12:08:00        1\n",
       "2017-11-02 12:06:00        1\n",
       "2020-05-31 22:30:00        1\n",
       "Name: POSSIBLE_END_DATE, Length: 240021, dtype: int64"
      ]
     },
     "execution_count": 107,
     "metadata": {},
     "output_type": "execute_result"
    }
   ],
   "source": [
    "df['POSSIBLE_END_DATE'].value_counts(dropna=False)"
   ]
  },
  {
   "cell_type": "code",
   "execution_count": 108,
   "id": "8d40119c-0fe0-4920-9550-b81c8f4e3e03",
   "metadata": {},
   "outputs": [
    {
     "data": {
      "text/plain": [
       "NaT                    0.01337\n",
       "2018-01-31 23:59:00    0.00067\n",
       "2019-09-30 23:59:00    0.00050\n",
       "2017-10-31 23:59:00    0.00048\n",
       "2017-02-28 23:59:00    0.00047\n",
       "                        ...   \n",
       "2017-11-30 11:49:00    0.00000\n",
       "2017-12-01 03:59:00    0.00000\n",
       "2017-10-30 12:08:00    0.00000\n",
       "2017-11-02 12:06:00    0.00000\n",
       "2020-05-31 22:30:00    0.00000\n",
       "Name: POSSIBLE_END_DATE, Length: 240021, dtype: object"
      ]
     },
     "execution_count": 108,
     "metadata": {},
     "output_type": "execute_result"
    }
   ],
   "source": [
    "df['POSSIBLE_END_DATE'].value_counts(dropna=False, normalize=True).apply(lambda x: '%.5f' % x)"
   ]
  },
  {
   "cell_type": "code",
   "execution_count": 109,
   "id": "76bc70a9-06a3-483f-bba1-ee401a74526a",
   "metadata": {},
   "outputs": [],
   "source": [
    "df['POSSIBLE_END_DATE_YEAR']  = df['POSSIBLE_END_DATE'].apply(get_year)\n",
    "df['POSSIBLE_END_DATE_MONTH'] = df['POSSIBLE_END_DATE'].apply(get_month)\n",
    "df['POSSIBLE_END_DATE_DAY']   = df['POSSIBLE_END_DATE'].apply(get_day)"
   ]
  },
  {
   "cell_type": "code",
   "execution_count": 110,
   "id": "397f9d50-b461-4af2-a2eb-c25f05de3e7d",
   "metadata": {},
   "outputs": [
    {
     "data": {
      "text/plain": [
       "2017.0    317333\n",
       "2018.0    286277\n",
       "2019.0    246528\n",
       "2016.0    145467\n",
       "2020.0     51947\n",
       "NaN        14200\n",
       "2021.0       213\n",
       "2022.0        34\n",
       "2015.0         6\n",
       "2026.0         6\n",
       "2014.0         4\n",
       "2030.0         4\n",
       "2027.0         3\n",
       "2029.0         2\n",
       "2008.0         2\n",
       "2031.0         2\n",
       "2028.0         2\n",
       "2024.0         2\n",
       "2023.0         2\n",
       "2006.0         1\n",
       "2012.0         1\n",
       "2009.0         1\n",
       "2002.0         1\n",
       "Name: POSSIBLE_END_DATE_YEAR, dtype: int64"
      ]
     },
     "execution_count": 110,
     "metadata": {},
     "output_type": "execute_result"
    }
   ],
   "source": [
    "df['POSSIBLE_END_DATE_YEAR'].value_counts(dropna=False)"
   ]
  },
  {
   "cell_type": "code",
   "execution_count": 111,
   "id": "7e775005-1c45-4102-9867-97016b1244b5",
   "metadata": {},
   "outputs": [
    {
     "data": {
      "text/plain": [
       "2017.0    0.29880\n",
       "2018.0    0.26955\n",
       "2019.0    0.23213\n",
       "2016.0    0.13697\n",
       "2020.0    0.04891\n",
       "NaN       0.01337\n",
       "2021.0    0.00020\n",
       "2022.0    0.00003\n",
       "2015.0    0.00001\n",
       "2026.0    0.00001\n",
       "2014.0    0.00000\n",
       "2030.0    0.00000\n",
       "2027.0    0.00000\n",
       "2029.0    0.00000\n",
       "2008.0    0.00000\n",
       "2031.0    0.00000\n",
       "2028.0    0.00000\n",
       "2024.0    0.00000\n",
       "2023.0    0.00000\n",
       "2006.0    0.00000\n",
       "2012.0    0.00000\n",
       "2009.0    0.00000\n",
       "2002.0    0.00000\n",
       "Name: POSSIBLE_END_DATE_YEAR, dtype: object"
      ]
     },
     "execution_count": 111,
     "metadata": {},
     "output_type": "execute_result"
    }
   ],
   "source": [
    "df['POSSIBLE_END_DATE_YEAR'].value_counts(dropna=False, normalize=True).apply(lambda x: '%.5f' % x)"
   ]
  },
  {
   "cell_type": "code",
   "execution_count": 112,
   "id": "8189843e-fa4a-427c-a9b5-0412715a6a3b",
   "metadata": {},
   "outputs": [
    {
     "data": {
      "image/png": "[encoded data removed]",
      "text/plain": [
       "<Figure size 720x360 with 1 Axes>"
      ]
     },
     "metadata": {
      "needs_background": "light"
     },
     "output_type": "display_data"
    }
   ],
   "source": [
    "df['POSSIBLE_END_DATE_YEAR'].value_counts().plot(kind='bar',               \n",
    "                                                 title='POSSIBLE_END_DATE_YEAR Proportion of Data',\n",
    "                                                 figsize=(10, 5));"
   ]
  },
  {
   "cell_type": "markdown",
   "id": "54c16b43-70d0-4590-916c-a0863cc2333d",
   "metadata": {
    "jp-MarkdownHeadingCollapsed": true,
    "tags": []
   },
   "source": [
    "#### ADDED: POSSIBLE_DURATION\n",
    "* Biggest category is 3 days, representing 17% of the data\n",
    "* A few other categories represent >1% of data\n",
    "    * 1 day is 2.5% of the data\n",
    "    * 2, 3, and 4 hours acount for ~2.3% of the data each\n",
    "* No other category accounts for >1% of the data\n",
    "* Includes chart"
   ]
  },
  {
   "cell_type": "code",
   "execution_count": 178,
   "id": "a4cb0354-ae17-43da-ac19-ad13c493b25c",
   "metadata": {
    "scrolled": true,
    "tags": []
   },
   "outputs": [],
   "source": [
    "poss_dur_lst = []\n",
    "for _, row in df.iterrows():\n",
    "    if (isinstance(row.POSSIBLE_END_DATE,   datetime) and \n",
    "        isinstance(row.POSSIBLE_START_DATE, datetime)):\n",
    "        poss_dur_lst.append(row.POSSIBLE_END_DATE - row.POSSIBLE_START_DATE)\n",
    "    else:\n",
    "        poss_dur_lst.append(np.nan)"
   ]
  },
  {
   "cell_type": "code",
   "execution_count": 179,
   "id": "e871e938-3b59-4268-b11c-6bbed6095697",
   "metadata": {},
   "outputs": [],
   "source": [
    "df['POSSIBLE_DURATION'] = poss_dur_lst"
   ]
  },
  {
   "cell_type": "code",
   "execution_count": 180,
   "id": "3ec8cf3f-da14-41e5-91bf-5eb38c236740",
   "metadata": {},
   "outputs": [
    {
     "data": {
      "text/plain": [
       "3 days 00:00:00     185615\n",
       "1 days 00:00:00      26071\n",
       "0 days 02:00:00      24979\n",
       "0 days 03:00:00      24324\n",
       "0 days 04:00:00      22629\n",
       "                     ...  \n",
       "54 days 06:42:00         1\n",
       "8 days 10:45:00          1\n",
       "75 days 06:54:00         1\n",
       "85 days 22:24:00         1\n",
       "23 days 22:31:00         1\n",
       "Name: POSSIBLE_DURATION, Length: 68581, dtype: int64"
      ]
     },
     "execution_count": 180,
     "metadata": {},
     "output_type": "execute_result"
    }
   ],
   "source": [
    "df['POSSIBLE_DURATION'].value_counts(dropna=False)"
   ]
  },
  {
   "cell_type": "code",
   "execution_count": 181,
   "id": "10cc5b68-6479-4a4d-9b14-c704b8483d04",
   "metadata": {},
   "outputs": [
    {
     "data": {
      "text/plain": [
       "3 days 00:00:00     0.17477\n",
       "1 days 00:00:00     0.02455\n",
       "0 days 02:00:00     0.02352\n",
       "0 days 03:00:00     0.02290\n",
       "0 days 04:00:00     0.02131\n",
       "                     ...   \n",
       "54 days 06:42:00    0.00000\n",
       "8 days 10:45:00     0.00000\n",
       "75 days 06:54:00    0.00000\n",
       "85 days 22:24:00    0.00000\n",
       "23 days 22:31:00    0.00000\n",
       "Name: POSSIBLE_DURATION, Length: 68581, dtype: object"
      ]
     },
     "execution_count": 181,
     "metadata": {},
     "output_type": "execute_result"
    }
   ],
   "source": [
    "df['POSSIBLE_DURATION'].value_counts(dropna=False, normalize=True).apply(lambda x: '%.5f' % x)"
   ]
  },
  {
   "cell_type": "code",
   "execution_count": 183,
   "id": "12b7b169-a95b-452f-a0fb-042bd738f015",
   "metadata": {},
   "outputs": [
    {
     "data": {
      "image/png": "[encoded data removed]",
      "text/plain": [
       "<Figure size 720x360 with 1 Axes>"
      ]
     },
     "metadata": {
      "needs_background": "light"
     },
     "output_type": "display_data"
    }
   ],
   "source": [
    "df['POSSIBLE_DURATION'].value_counts(dropna=False, normalize=True).nlargest(5).plot(kind='bar', \n",
    "                                                                                    title='POSSIBLE_DURATION Top 5 Types Proportion of Data',\n",
    "                                                                                    figsize=(10, 5));"
   ]
  },
  {
   "cell_type": "markdown",
   "id": "91c2a37e-fd8e-4d76-8a62-b456034ba478",
   "metadata": {
    "jp-MarkdownHeadingCollapsed": true,
    "tags": []
   },
   "source": [
    "#### ISSUE_DATE\n",
    "* Did not get parsed as dates. \n",
    "    * Parsed through custom fuction\n",
    "* Non-dates suggest data entry issues.\n",
    "* Most entries from 2016-2019.\n",
    "* Includes chart"
   ]
  },
  {
   "cell_type": "code",
   "execution_count": 117,
   "id": "a9cebcd5-809e-4ff9-849a-cf9cfe16af46",
   "metadata": {},
   "outputs": [],
   "source": [
    "df['ISSUE_DATE'] = df['ISSUE_DATE'].apply(convert_to_date)"
   ]
  },
  {
   "cell_type": "code",
   "execution_count": 118,
   "id": "f377a57f-fb39-455e-a719-d30b77028052",
   "metadata": {},
   "outputs": [
    {
     "data": {
      "text/plain": [
       "2018-09-15 21:01:00    245\n",
       "2018-06-28 06:18:00    163\n",
       "2018-09-10 21:04:00    153\n",
       "2019-04-23 01:44:00    137\n",
       "ZNY                    131\n",
       "                      ... \n",
       "2018-03-29 15:04:00      1\n",
       "2018-03-29 15:07:00      1\n",
       "2018-03-20 11:21:00      1\n",
       "2018-03-29 15:09:00      1\n",
       "2020-05-30 14:54:00      1\n",
       "Name: ISSUE_DATE, Length: 431247, dtype: int64"
      ]
     },
     "execution_count": 118,
     "metadata": {},
     "output_type": "execute_result"
    }
   ],
   "source": [
    "df['ISSUE_DATE'].value_counts(dropna=False)"
   ]
  },
  {
   "cell_type": "code",
   "execution_count": 119,
   "id": "42fadf23-da52-41a7-82b2-c90ec4cabb90",
   "metadata": {},
   "outputs": [
    {
     "data": {
      "text/plain": [
       "2018-09-15 21:01:00    0.00023\n",
       "2018-06-28 06:18:00    0.00015\n",
       "2018-09-10 21:04:00    0.00014\n",
       "2019-04-23 01:44:00    0.00013\n",
       "ZNY                    0.00012\n",
       "                        ...   \n",
       "2018-03-29 15:04:00    0.00000\n",
       "2018-03-29 15:07:00    0.00000\n",
       "2018-03-20 11:21:00    0.00000\n",
       "2018-03-29 15:09:00    0.00000\n",
       "2020-05-30 14:54:00    0.00000\n",
       "Name: ISSUE_DATE, Length: 431247, dtype: object"
      ]
     },
     "execution_count": 119,
     "metadata": {},
     "output_type": "execute_result"
    }
   ],
   "source": [
    "df['ISSUE_DATE'].value_counts(dropna=False, normalize=True).apply(lambda x: '%.5f' % x)"
   ]
  },
  {
   "cell_type": "code",
   "execution_count": 120,
   "id": "092ecb91-9a63-4356-9d56-63eeb1588947",
   "metadata": {},
   "outputs": [],
   "source": [
    "df['ISSUE_DATE_YEAR']  = df['ISSUE_DATE'].apply(get_year)\n",
    "df['ISSUE_DATE_MONTH'] = df['ISSUE_DATE'].apply(get_month)\n",
    "df['ISSUE_DATE_DAY']   = df['ISSUE_DATE'].apply(get_day)"
   ]
  },
  {
   "cell_type": "code",
   "execution_count": 121,
   "id": "9ece63df-c1a7-47f3-acdd-e3e6e41cab7b",
   "metadata": {},
   "outputs": [
    {
     "data": {
      "text/plain": [
       "2017    323233\n",
       "2018    285624\n",
       "2019    248610\n",
       "2016    156156\n",
       "2020     47340\n",
       "2015       598\n",
       "2014       181\n",
       "ZNY        131\n",
       "2013        52\n",
       "2012        32\n",
       "NaN         16\n",
       "2011        13\n",
       "2008         7\n",
       "ZTL          6\n",
       "RKRR         6\n",
       "2002         5\n",
       "ZJX          5\n",
       "2003         3\n",
       "2010         3\n",
       "2005         3\n",
       "2009         2\n",
       "2007         2\n",
       "2004         2\n",
       "ZHN          1\n",
       "ZAN          1\n",
       "2006         1\n",
       "ZBW          1\n",
       "ZDC          1\n",
       "ZUA          1\n",
       "OJAC         1\n",
       "ZME          1\n",
       "Name: ISSUE_DATE_YEAR, dtype: int64"
      ]
     },
     "execution_count": 121,
     "metadata": {},
     "output_type": "execute_result"
    }
   ],
   "source": [
    "df['ISSUE_DATE_YEAR'].value_counts(dropna=False)"
   ]
  },
  {
   "cell_type": "code",
   "execution_count": 122,
   "id": "c59a1e03-c6e7-4af5-9d59-99e1a80ae722",
   "metadata": {},
   "outputs": [
    {
     "data": {
      "text/plain": [
       "2017    0.30435\n",
       "2018    0.26894\n",
       "2019    0.23409\n",
       "2016    0.14703\n",
       "2020    0.04457\n",
       "2015    0.00056\n",
       "2014    0.00017\n",
       "ZNY     0.00012\n",
       "2013    0.00005\n",
       "2012    0.00003\n",
       "NaN     0.00002\n",
       "2011    0.00001\n",
       "2008    0.00001\n",
       "ZTL     0.00001\n",
       "RKRR    0.00001\n",
       "2002    0.00000\n",
       "ZJX     0.00000\n",
       "2003    0.00000\n",
       "2010    0.00000\n",
       "2005    0.00000\n",
       "2009    0.00000\n",
       "2007    0.00000\n",
       "2004    0.00000\n",
       "ZHN     0.00000\n",
       "ZAN     0.00000\n",
       "2006    0.00000\n",
       "ZBW     0.00000\n",
       "ZDC     0.00000\n",
       "ZUA     0.00000\n",
       "OJAC    0.00000\n",
       "ZME     0.00000\n",
       "Name: ISSUE_DATE_YEAR, dtype: object"
      ]
     },
     "execution_count": 122,
     "metadata": {},
     "output_type": "execute_result"
    }
   ],
   "source": [
    "df['ISSUE_DATE_YEAR'].value_counts(dropna=False, normalize=True).apply(lambda x: '%.5f' % x)"
   ]
  },
  {
   "cell_type": "code",
   "execution_count": 123,
   "id": "b3551ac0-8e47-4da7-935e-78449b78a6d8",
   "metadata": {},
   "outputs": [
    {
     "data": {
      "image/png": "[encoded data removed]",
      "text/plain": [
       "<Figure size 720x360 with 1 Axes>"
      ]
     },
     "metadata": {
      "needs_background": "light"
     },
     "output_type": "display_data"
    }
   ],
   "source": [
    "df['ISSUE_DATE_YEAR'].value_counts(dropna=False).plot(kind='bar',               \n",
    "                                                      title='ISSUE_DATE_YEAR Proportion of Data',\n",
    "                                                      figsize=(10, 5));"
   ]
  },
  {
   "cell_type": "markdown",
   "id": "5a19b6f7-0b9f-436e-90db-fd929038c183",
   "metadata": {
    "jp-MarkdownHeadingCollapsed": true,
    "tags": []
   },
   "source": [
    "#### CANCELED_DATE\n",
    "* Did not get parsed as dates. \n",
    "    * Parsed through custom fuction\n",
    "* Non-dates suggest data entry issues.\n",
    "* Majority are NaN, covering 81% of the data.\n",
    "* A few other categories represent >1% of data.\n",
    "* Most entries from 2016-2019\n",
    "* Includes chart"
   ]
  },
  {
   "cell_type": "code",
   "execution_count": 124,
   "id": "1f96dfe1-ebe6-4b70-a22b-eff0768fbfbf",
   "metadata": {},
   "outputs": [],
   "source": [
    "df['CANCELED_DATE'] = df['CANCELED_DATE'].apply(convert_to_date)"
   ]
  },
  {
   "cell_type": "code",
   "execution_count": 125,
   "id": "629b1689-4d1e-400f-8e5e-65d543b9a502",
   "metadata": {},
   "outputs": [
    {
     "data": {
      "text/plain": [
       "NaT                    863786\n",
       "2016-05-31 18:59:00       189\n",
       "2019-09-30 19:29:00       164\n",
       "2019-04-30 09:22:00       142\n",
       "2019-09-30 09:44:00       138\n",
       "                        ...  \n",
       "2016-07-27 09:14:00         1\n",
       "2017-12-07 16:58:00         1\n",
       "2017-12-07 16:47:00         1\n",
       "2017-12-07 16:46:00         1\n",
       "2020-05-30 14:56:00         1\n",
       "Name: CANCELED_DATE, Length: 112908, dtype: int64"
      ]
     },
     "execution_count": 125,
     "metadata": {},
     "output_type": "execute_result"
    }
   ],
   "source": [
    "df['CANCELED_DATE'].value_counts(dropna=False)"
   ]
  },
  {
   "cell_type": "code",
   "execution_count": 126,
   "id": "92be83c9-fb49-426d-a1bd-e685461cfd9a",
   "metadata": {},
   "outputs": [
    {
     "data": {
      "text/plain": [
       "NaT                    0.81333\n",
       "2016-05-31 18:59:00    0.00018\n",
       "2019-09-30 19:29:00    0.00015\n",
       "2019-04-30 09:22:00    0.00013\n",
       "2019-09-30 09:44:00    0.00013\n",
       "                        ...   \n",
       "2016-07-27 09:14:00    0.00000\n",
       "2017-12-07 16:58:00    0.00000\n",
       "2017-12-07 16:47:00    0.00000\n",
       "2017-12-07 16:46:00    0.00000\n",
       "2020-05-30 14:56:00    0.00000\n",
       "Name: CANCELED_DATE, Length: 112908, dtype: object"
      ]
     },
     "execution_count": 126,
     "metadata": {},
     "output_type": "execute_result"
    }
   ],
   "source": [
    "df['CANCELED_DATE'].value_counts(dropna=False, normalize=True).apply(lambda x: '%.5f' % x)"
   ]
  },
  {
   "cell_type": "code",
   "execution_count": 127,
   "id": "a8a912d4-4aac-423b-9a8f-b794a96a113d",
   "metadata": {},
   "outputs": [],
   "source": [
    "df['CANCEL_DATE_YEAR']  = df['CANCELED_DATE'].apply(get_year)\n",
    "df['CANCEL_DATE_MONTH'] = df['CANCELED_DATE'].apply(get_month)\n",
    "df['CANCEL_DATE_DAY']   = df['CANCELED_DATE'].apply(get_day)"
   ]
  },
  {
   "cell_type": "code",
   "execution_count": 128,
   "id": "61556970-97a2-4ac1-91a2-75377a40feb8",
   "metadata": {},
   "outputs": [
    {
     "data": {
      "text/plain": [
       "NaN                       863786\n",
       "2017                       58433\n",
       "2019                       52726\n",
       "2018                       49320\n",
       "2016                       28515\n",
       "2020                        9195\n",
       "KZNY                          55\n",
       "ZNY                            3\n",
       "KZTL                           1\n",
       "KZHU                           1\n",
       "LAKEHURST MAXFIELD FLD         1\n",
       "KZBW                           1\n",
       "KZJX                           1\n",
       "Name: CANCEL_DATE_YEAR, dtype: int64"
      ]
     },
     "execution_count": 128,
     "metadata": {},
     "output_type": "execute_result"
    }
   ],
   "source": [
    "df['CANCEL_DATE_YEAR'].value_counts(dropna=False)"
   ]
  },
  {
   "cell_type": "code",
   "execution_count": 129,
   "id": "3f242f70-01ff-4065-9c64-44b558338d60",
   "metadata": {},
   "outputs": [
    {
     "data": {
      "text/plain": [
       "NaN                       0.81333\n",
       "2017                      0.05502\n",
       "2019                      0.04965\n",
       "2018                      0.04644\n",
       "2016                      0.02685\n",
       "2020                      0.00866\n",
       "KZNY                      0.00005\n",
       "ZNY                       0.00000\n",
       "KZTL                      0.00000\n",
       "KZHU                      0.00000\n",
       "LAKEHURST MAXFIELD FLD    0.00000\n",
       "KZBW                      0.00000\n",
       "KZJX                      0.00000\n",
       "Name: CANCEL_DATE_YEAR, dtype: object"
      ]
     },
     "execution_count": 129,
     "metadata": {},
     "output_type": "execute_result"
    }
   ],
   "source": [
    "df['CANCEL_DATE_YEAR'].value_counts(dropna=False, normalize=True).apply(lambda x: '%.5f' % x)"
   ]
  },
  {
   "cell_type": "code",
   "execution_count": 130,
   "id": "af169150-78bf-427b-8f36-44ada37f24a9",
   "metadata": {},
   "outputs": [
    {
     "data": {
      "image/png": "[encoded data removed]",
      "text/plain": [
       "<Figure size 720x360 with 1 Axes>"
      ]
     },
     "metadata": {
      "needs_background": "light"
     },
     "output_type": "display_data"
    }
   ],
   "source": [
    "df['CANCEL_DATE_YEAR'].value_counts(dropna=False).plot(kind='bar',               \n",
    "                                                       title='CANCEL_DATE_YEAR Proportion of Data',\n",
    "                                                       figsize=(10, 5)); "
   ]
  },
  {
   "cell_type": "markdown",
   "id": "269c8109-ac7e-47b7-9b59-a459827a8a87",
   "metadata": {
    "jp-MarkdownHeadingCollapsed": true,
    "tags": []
   },
   "source": [
    "#### AFFECTED_FIR\n",
    "* NaN as biggest category, covering 40% of the data. \n",
    "* A couple of other entries have a material proportion of the data.\n",
    "* A few repeats\n",
    "* Includes chart"
   ]
  },
  {
   "cell_type": "code",
   "execution_count": 131,
   "id": "ff94818e-fbc2-43fb-bad5-b9ed6062c9cb",
   "metadata": {},
   "outputs": [
    {
     "data": {
      "text/plain": [
       "0           NaN\n",
       "1           NaN\n",
       "2           NaN\n",
       "3           NaN\n",
       "4           NaN\n",
       "           ... \n",
       "1062033     NaN\n",
       "1062034     NaN\n",
       "1062035    KZNY\n",
       "1062036     NaN\n",
       "1062037    KZNY\n",
       "Name: AFFECTED_FIR, Length: 1062038, dtype: object"
      ]
     },
     "execution_count": 131,
     "metadata": {},
     "output_type": "execute_result"
    }
   ],
   "source": [
    "df['AFFECTED_FIR']"
   ]
  },
  {
   "cell_type": "code",
   "execution_count": 132,
   "id": "7eabd48d-9ead-4b55-a90f-054b7f8bc529",
   "metadata": {},
   "outputs": [
    {
     "data": {
      "text/plain": [
       "NaN     420142\n",
       "LRBB     18916\n",
       "UUWV     17383\n",
       "EPWW     16284\n",
       "EGTT     14242\n",
       "         ...  \n",
       "ATTC         1\n",
       "HSCM         1\n",
       "RFYW         1\n",
       "LAS          1\n",
       "SBWM         1\n",
       "Name: AFFECTED_FIR, Length: 397, dtype: int64"
      ]
     },
     "execution_count": 132,
     "metadata": {},
     "output_type": "execute_result"
    }
   ],
   "source": [
    "df['AFFECTED_FIR'].value_counts(dropna=False)"
   ]
  },
  {
   "cell_type": "code",
   "execution_count": 133,
   "id": "4cb5d163-7e74-480d-af5e-93b38a287fd8",
   "metadata": {},
   "outputs": [
    {
     "data": {
      "text/plain": [
       "NaN     0.39560\n",
       "LRBB    0.01781\n",
       "UUWV    0.01637\n",
       "EPWW    0.01533\n",
       "EGTT    0.01341\n",
       "         ...   \n",
       "ATTC    0.00000\n",
       "HSCM    0.00000\n",
       "RFYW    0.00000\n",
       "LAS     0.00000\n",
       "SBWM    0.00000\n",
       "Name: AFFECTED_FIR, Length: 397, dtype: object"
      ]
     },
     "execution_count": 133,
     "metadata": {},
     "output_type": "execute_result"
    }
   ],
   "source": [
    "df['AFFECTED_FIR'].value_counts(dropna=False, normalize=True).apply(lambda x: '%.5f' % x)"
   ]
  },
  {
   "cell_type": "code",
   "execution_count": 134,
   "id": "fea4e64e-98af-42f4-83c8-7aa46cf79df3",
   "metadata": {},
   "outputs": [
    {
     "data": {
      "image/png": "[encoded data removed]",
      "text/plain": [
       "<Figure size 720x360 with 1 Axes>"
      ]
     },
     "metadata": {
      "needs_background": "light"
     },
     "output_type": "display_data"
    }
   ],
   "source": [
    "df['AFFECTED_FIR'].value_counts(dropna=False, normalize=True).nlargest(5).plot(kind='bar', \n",
    "                                                                               title='AFFECTED_FIR Top 5 Types Proportion of Data',\n",
    "                                                                               figsize=(10, 5));"
   ]
  },
  {
   "cell_type": "markdown",
   "id": "a404e32a-2ad6-4589-b528-183b6290837c",
   "metadata": {
    "jp-MarkdownHeadingCollapsed": true,
    "tags": []
   },
   "source": [
    "#### DESIGNATOR\n",
    "* Majority are NaNs, covering 75% of the data.\n",
    "* No other entry has a material proportion of the data.\n",
    "* A few repeats"
   ]
  },
  {
   "cell_type": "code",
   "execution_count": 135,
   "id": "b2fa6f23-6b97-4cfa-b964-ba5b1d019a1b",
   "metadata": {},
   "outputs": [
    {
     "data": {
      "text/plain": [
       "0          NaN\n",
       "1          NaN\n",
       "2          NaN\n",
       "3          NaN\n",
       "4          NaN\n",
       "          ... \n",
       "1062033    NaN\n",
       "1062034    CXW\n",
       "1062035    NaN\n",
       "1062036    NaN\n",
       "1062037    NaN\n",
       "Name: DESIGNATOR, Length: 1062038, dtype: object"
      ]
     },
     "execution_count": 135,
     "metadata": {},
     "output_type": "execute_result"
    }
   ],
   "source": [
    "df['DESIGNATOR']"
   ]
  },
  {
   "cell_type": "code",
   "execution_count": 136,
   "id": "9b1bd777-086b-49ab-b2a2-dac994fb25a0",
   "metadata": {},
   "outputs": [
    {
     "data": {
      "text/plain": [
       "NaN     799229\n",
       "DFW       1718\n",
       "MEM       1671\n",
       "DTW       1237\n",
       "PHL       1113\n",
       "         ...  \n",
       "NFFN         1\n",
       "U64          1\n",
       "UNOO         1\n",
       "UMKK         1\n",
       "CFO          1\n",
       "Name: DESIGNATOR, Length: 5990, dtype: int64"
      ]
     },
     "execution_count": 136,
     "metadata": {},
     "output_type": "execute_result"
    }
   ],
   "source": [
    "df['DESIGNATOR'].value_counts(dropna=False)"
   ]
  },
  {
   "cell_type": "code",
   "execution_count": 137,
   "id": "91929502-bd8b-44a0-b728-8da8165792bb",
   "metadata": {},
   "outputs": [
    {
     "data": {
      "text/plain": [
       "NaN     0.75254\n",
       "DFW     0.00162\n",
       "MEM     0.00157\n",
       "DTW     0.00116\n",
       "PHL     0.00105\n",
       "         ...   \n",
       "NFFN    0.00000\n",
       "U64     0.00000\n",
       "UNOO    0.00000\n",
       "UMKK    0.00000\n",
       "CFO     0.00000\n",
       "Name: DESIGNATOR, Length: 5990, dtype: object"
      ]
     },
     "execution_count": 137,
     "metadata": {},
     "output_type": "execute_result"
    }
   ],
   "source": [
    "df['DESIGNATOR'].value_counts(dropna=False, normalize=True).apply(lambda x: '%.5f' % x)"
   ]
  },
  {
   "cell_type": "markdown",
   "id": "c7800d80-18c3-4552-a3b5-7ea72d9f3685",
   "metadata": {
    "jp-MarkdownHeadingCollapsed": true,
    "tags": []
   },
   "source": [
    "#### DESIGNATOR_NAME\n",
    "* Majority are NaNs, covering 77% of the data.\n",
    "    * Proportions do not match DESIGNATOR > What does this mean?\n",
    "* No other entry has a material proportion of the data.\n",
    "* A few repeats"
   ]
  },
  {
   "cell_type": "code",
   "execution_count": 138,
   "id": "5c1dac56-8580-4420-9176-4a0a4125560b",
   "metadata": {},
   "outputs": [
    {
     "data": {
      "text/plain": [
       "0                   NaN\n",
       "1                   NaN\n",
       "2                   NaN\n",
       "3                   NaN\n",
       "4                   NaN\n",
       "               ...     \n",
       "1062033             NaN\n",
       "1062034    CANTRELL FLD\n",
       "1062035             NaN\n",
       "1062036             NaN\n",
       "1062037             NaN\n",
       "Name: DESIGNATOR_NAME, Length: 1062038, dtype: object"
      ]
     },
     "execution_count": 138,
     "metadata": {},
     "output_type": "execute_result"
    }
   ],
   "source": [
    "df['DESIGNATOR_NAME']"
   ]
  },
  {
   "cell_type": "code",
   "execution_count": 139,
   "id": "456a534f-cdfc-49d1-a28e-4f475d8719f8",
   "metadata": {},
   "outputs": [
    {
     "data": {
      "text/plain": [
       "NaN                                  823164\n",
       "MEMPHIS INTL                           1628\n",
       "DALLAS-FORT WORTH INTL                 1624\n",
       "DETROIT METROPOLITAN WAYNE COUNTY      1195\n",
       "PHILADELPHIA INTL                      1093\n",
       "                                      ...  \n",
       "Powell                                    1\n",
       "Cowley/Lovell/Byron                       1\n",
       "Walterboro                                1\n",
       "WHITE SULPHUR SPRINGS                     1\n",
       "ONEILL                                    1\n",
       "Name: DESIGNATOR_NAME, Length: 7509, dtype: int64"
      ]
     },
     "execution_count": 139,
     "metadata": {},
     "output_type": "execute_result"
    }
   ],
   "source": [
    "df['DESIGNATOR_NAME'].value_counts(dropna=False)"
   ]
  },
  {
   "cell_type": "code",
   "execution_count": 140,
   "id": "86bfdd9f-8a38-4b33-ad44-345b5b8c8c6a",
   "metadata": {},
   "outputs": [
    {
     "data": {
      "text/plain": [
       "NaN                                  0.77508\n",
       "MEMPHIS INTL                         0.00153\n",
       "DALLAS-FORT WORTH INTL               0.00153\n",
       "DETROIT METROPOLITAN WAYNE COUNTY    0.00113\n",
       "PHILADELPHIA INTL                    0.00103\n",
       "                                      ...   \n",
       "Powell                               0.00000\n",
       "Cowley/Lovell/Byron                  0.00000\n",
       "Walterboro                           0.00000\n",
       "WHITE SULPHUR SPRINGS                0.00000\n",
       "ONEILL                               0.00000\n",
       "Name: DESIGNATOR_NAME, Length: 7509, dtype: object"
      ]
     },
     "execution_count": 140,
     "metadata": {},
     "output_type": "execute_result"
    }
   ],
   "source": [
    "df['DESIGNATOR_NAME'].value_counts(dropna=False, normalize=True).apply(lambda x: '%.5f' % x)"
   ]
  },
  {
   "cell_type": "markdown",
   "id": "da0402ae-f331-45c2-80f6-6bfd183d0a76",
   "metadata": {
    "jp-MarkdownHeadingCollapsed": true,
    "tags": []
   },
   "source": [
    "#### LOCATION_NAME\n",
    "* No entry accounts for more than 8% of the data\n",
    "* A couple of other entries have a material proportion of the data.\n",
    "* Includes chart"
   ]
  },
  {
   "cell_type": "code",
   "execution_count": 141,
   "id": "c6c6d398-d58d-416e-b9f9-3ec842afd701",
   "metadata": {},
   "outputs": [
    {
     "data": {
      "text/plain": [
       "0                   ZAU ARTCC\n",
       "1                   ZAU ARTCC\n",
       "2                   ZMP ARTCC\n",
       "3                   ZMP ARTCC\n",
       "4                   ZMP ARTCC\n",
       "                  ...        \n",
       "1062033    PLANTATION AIRPARK\n",
       "1062034          CANTRELL FLD\n",
       "1062035    MONMOUTH EXECUTIVE\n",
       "1062036           COL-VOR/DME\n",
       "1062037             LAGUARDIA\n",
       "Name: LOCATION_NAME, Length: 1062038, dtype: object"
      ]
     },
     "execution_count": 141,
     "metadata": {},
     "output_type": "execute_result"
    }
   ],
   "source": [
    "df['LOCATION_NAME']"
   ]
  },
  {
   "cell_type": "code",
   "execution_count": 142,
   "id": "69506dbf-8c89-4816-b76d-f4e11d1423ea",
   "metadata": {},
   "outputs": [
    {
     "data": {
      "text/plain": [
       "FDC                             82121\n",
       "ZSE ARTCC                       20493\n",
       "CIVIL AERONAUTICAL AUTHORITY    18151\n",
       "MOSKVA FIR                      17452\n",
       "NaN                             13239\n",
       "                                ...  \n",
       "TARBES/LALOUBERE                    1\n",
       "RESERVE                             1\n",
       "BRIGHAM & WOMENS HOSPITAL           1\n",
       "BRONSON METHODIST HOSPITAL          1\n",
       "BREMERTON NTL                       1\n",
       "Name: LOCATION_NAME, Length: 11068, dtype: int64"
      ]
     },
     "execution_count": 142,
     "metadata": {},
     "output_type": "execute_result"
    }
   ],
   "source": [
    "df['LOCATION_NAME'].value_counts(dropna=False)"
   ]
  },
  {
   "cell_type": "code",
   "execution_count": 143,
   "id": "30e69be7-4310-4588-8308-1ce5a9ba52d4",
   "metadata": {},
   "outputs": [
    {
     "data": {
      "text/plain": [
       "FDC                             0.07732\n",
       "ZSE ARTCC                       0.01930\n",
       "CIVIL AERONAUTICAL AUTHORITY    0.01709\n",
       "MOSKVA FIR                      0.01643\n",
       "NaN                             0.01247\n",
       "                                 ...   \n",
       "TARBES/LALOUBERE                0.00000\n",
       "RESERVE                         0.00000\n",
       "BRIGHAM & WOMENS HOSPITAL       0.00000\n",
       "BRONSON METHODIST HOSPITAL      0.00000\n",
       "BREMERTON NTL                   0.00000\n",
       "Name: LOCATION_NAME, Length: 11068, dtype: object"
      ]
     },
     "execution_count": 143,
     "metadata": {},
     "output_type": "execute_result"
    }
   ],
   "source": [
    "df['LOCATION_NAME'].value_counts(dropna=False, normalize=True).apply(lambda x: '%.5f' % x)"
   ]
  },
  {
   "cell_type": "code",
   "execution_count": 144,
   "id": "f1eaa644-6739-4f40-8c8c-63c133d8f441",
   "metadata": {},
   "outputs": [
    {
     "data": {
      "image/png": "[encoded data removed]",
      "text/plain": [
       "<Figure size 720x360 with 1 Axes>"
      ]
     },
     "metadata": {
      "needs_background": "light"
     },
     "output_type": "display_data"
    }
   ],
   "source": [
    "df['LOCATION_NAME'].value_counts(dropna=False, normalize=True).nlargest(5).plot(kind='bar', \n",
    "                                                                                title='LOCATION_NAME Top 5 Types Proportion of Data',\n",
    "                                                                                figsize=(10, 5));"
   ]
  },
  {
   "cell_type": "markdown",
   "id": "ca7ad66b-d387-4588-9a54-baa464a45c6e",
   "metadata": {
    "jp-MarkdownHeadingCollapsed": true,
    "tags": []
   },
   "source": [
    "#### ACCOUNT_ID\n",
    "* No entry accounts for more than 11% of the data\n",
    "* A couple of other entries have a material proportion of the data.\n",
    "* Includes chart"
   ]
  },
  {
   "cell_type": "code",
   "execution_count": 145,
   "id": "f0a91af9-d383-4cbd-9d56-d04c08ad5d53",
   "metadata": {},
   "outputs": [
    {
     "data": {
      "text/plain": [
       "0          SUAC\n",
       "1          SUAC\n",
       "2          SUAC\n",
       "3          SUAC\n",
       "4          SUAC\n",
       "           ... \n",
       "1062033     MCN\n",
       "1062034     JBR\n",
       "1062035     BLM\n",
       "1062036     MIV\n",
       "1062037    KLGA\n",
       "Name: ACCOUNT_ID, Length: 1062038, dtype: object"
      ]
     },
     "execution_count": 145,
     "metadata": {},
     "output_type": "execute_result"
    }
   ],
   "source": [
    "df['ACCOUNT_ID']"
   ]
  },
  {
   "cell_type": "code",
   "execution_count": 146,
   "id": "0102c103-6318-4e98-9246-ec9a4543e8fb",
   "metadata": {},
   "outputs": [
    {
     "data": {
      "text/plain": [
       "FDC         109681\n",
       "UUUUYNYX     62991\n",
       "SUAW         39548\n",
       "SUAC         26722\n",
       "YBBBZEZX     25065\n",
       "             ...  \n",
       "HMN              1\n",
       "BPC              1\n",
       "HKMP             1\n",
       "ZMHGYNYX         1\n",
       "NUW              1\n",
       "Name: ACCOUNT_ID, Length: 2777, dtype: int64"
      ]
     },
     "execution_count": 146,
     "metadata": {},
     "output_type": "execute_result"
    }
   ],
   "source": [
    "df['ACCOUNT_ID'].value_counts(dropna=False)"
   ]
  },
  {
   "cell_type": "code",
   "execution_count": 147,
   "id": "310bf7ac-d922-40fb-843a-0630e6f6427c",
   "metadata": {},
   "outputs": [
    {
     "data": {
      "text/plain": [
       "FDC         0.10327\n",
       "UUUUYNYX    0.05931\n",
       "SUAW        0.03724\n",
       "SUAC        0.02516\n",
       "YBBBZEZX    0.02360\n",
       "             ...   \n",
       "HMN         0.00000\n",
       "BPC         0.00000\n",
       "HKMP        0.00000\n",
       "ZMHGYNYX    0.00000\n",
       "NUW         0.00000\n",
       "Name: ACCOUNT_ID, Length: 2777, dtype: object"
      ]
     },
     "execution_count": 147,
     "metadata": {},
     "output_type": "execute_result"
    }
   ],
   "source": [
    "df['ACCOUNT_ID'].value_counts(dropna=False, normalize=True).apply(lambda x: '%.5f' % x)"
   ]
  },
  {
   "cell_type": "code",
   "execution_count": 148,
   "id": "e818bc4d-39b1-4a27-948e-807dfeb1a5c3",
   "metadata": {},
   "outputs": [
    {
     "data": {
      "image/png": "[encoded data removed]",
      "text/plain": [
       "<Figure size 720x360 with 1 Axes>"
      ]
     },
     "metadata": {
      "needs_background": "light"
     },
     "output_type": "display_data"
    }
   ],
   "source": [
    "df['ACCOUNT_ID'].value_counts(dropna=False, normalize=True).nlargest(5).plot(kind='bar', \n",
    "                                                                             title='ACCOUNT_ID Top 5 Types Proportion of Data',\n",
    "                                                                             figsize=(10, 5));"
   ]
  },
  {
   "cell_type": "markdown",
   "id": "4373df0c-d5dc-4040-9480-caba21a0f681",
   "metadata": {
    "jp-MarkdownHeadingCollapsed": true,
    "tags": []
   },
   "source": [
    "#### LOCATION_CODE\n",
    "* Seems to match (though not perfectly) LOCATION_NAME\n",
    "* No entry accounts for more than 8% of the data\n",
    "* A couple of other entries have a material proportion of the data.\n",
    "* Includes chart"
   ]
  },
  {
   "cell_type": "code",
   "execution_count": 149,
   "id": "94bb6025-b1d0-41ef-9ba5-9980f3c2c4a5",
   "metadata": {},
   "outputs": [
    {
     "data": {
      "text/plain": [
       "0           ZAU\n",
       "1           ZAU\n",
       "2           ZMP\n",
       "3           ZMP\n",
       "4           ZMP\n",
       "           ... \n",
       "1062033     JYL\n",
       "1062034    KCXW\n",
       "1062035     BLM\n",
       "1062036     COL\n",
       "1062037     LGA\n",
       "Name: LOCATION_CODE, Length: 1062038, dtype: object"
      ]
     },
     "execution_count": 149,
     "metadata": {},
     "output_type": "execute_result"
    }
   ],
   "source": [
    "df['LOCATION_CODE']"
   ]
  },
  {
   "cell_type": "code",
   "execution_count": 150,
   "id": "79dd1073-6397-4f09-b2d9-58851df75c07",
   "metadata": {},
   "outputs": [
    {
     "data": {
      "text/plain": [
       "FDC     82119\n",
       "ZSE     20489\n",
       "LRBB    18152\n",
       "UUWV    17454\n",
       "ZLA     11802\n",
       "        ...  \n",
       "LFNN        1\n",
       "CZG         1\n",
       "INJ         1\n",
       "EDOU        1\n",
       "CKM8        1\n",
       "Name: LOCATION_CODE, Length: 13674, dtype: int64"
      ]
     },
     "execution_count": 150,
     "metadata": {},
     "output_type": "execute_result"
    }
   ],
   "source": [
    "df['LOCATION_CODE'].value_counts(dropna=False)"
   ]
  },
  {
   "cell_type": "code",
   "execution_count": 151,
   "id": "766bc6cd-50eb-4326-9eab-94a1d8dedf5e",
   "metadata": {},
   "outputs": [
    {
     "data": {
      "text/plain": [
       "FDC     0.07732\n",
       "ZSE     0.01929\n",
       "LRBB    0.01709\n",
       "UUWV    0.01643\n",
       "ZLA     0.01111\n",
       "         ...   \n",
       "LFNN    0.00000\n",
       "CZG     0.00000\n",
       "INJ     0.00000\n",
       "EDOU    0.00000\n",
       "CKM8    0.00000\n",
       "Name: LOCATION_CODE, Length: 13674, dtype: object"
      ]
     },
     "execution_count": 151,
     "metadata": {},
     "output_type": "execute_result"
    }
   ],
   "source": [
    "df['LOCATION_CODE'].value_counts(dropna=False, normalize=True).apply(lambda x: '%.5f' % x)"
   ]
  },
  {
   "cell_type": "code",
   "execution_count": 152,
   "id": "69934aee-9ab0-4331-9b61-e0502afeebf3",
   "metadata": {},
   "outputs": [
    {
     "data": {
      "image/png": "[encoded data removed]",
      "text/plain": [
       "<Figure size 720x360 with 1 Axes>"
      ]
     },
     "metadata": {
      "needs_background": "light"
     },
     "output_type": "display_data"
    }
   ],
   "source": [
    "df['LOCATION_CODE'].value_counts(dropna=False, normalize=True).nlargest(5).plot(kind='bar', \n",
    "                                                                               title='LOCATION_CODE Top 5 Types Proportion of Data',\n",
    "                                                                               figsize=(10, 5));"
   ]
  },
  {
   "cell_type": "markdown",
   "id": "243e99d5-70df-44cb-821c-a57486308459",
   "metadata": {
    "jp-MarkdownHeadingCollapsed": true,
    "tags": []
   },
   "source": [
    "#### LAUNCHES_REC_ID\n",
    "* All values are NaN"
   ]
  },
  {
   "cell_type": "code",
   "execution_count": 153,
   "id": "a2691f3d-f5e7-41bc-85b7-43820f12c043",
   "metadata": {},
   "outputs": [
    {
     "data": {
      "text/plain": [
       "0         NaN\n",
       "1         NaN\n",
       "2         NaN\n",
       "3         NaN\n",
       "4         NaN\n",
       "           ..\n",
       "1062033   NaN\n",
       "1062034   NaN\n",
       "1062035   NaN\n",
       "1062036   NaN\n",
       "1062037   NaN\n",
       "Name: LAUNCHES_REC_ID, Length: 1062038, dtype: float64"
      ]
     },
     "execution_count": 153,
     "metadata": {},
     "output_type": "execute_result"
    }
   ],
   "source": [
    "df['LAUNCHES_REC_ID']"
   ]
  },
  {
   "cell_type": "code",
   "execution_count": 154,
   "id": "6837ffc2-5135-4120-a361-56be0eafe143",
   "metadata": {},
   "outputs": [
    {
     "data": {
      "text/plain": [
       "NaN    1062038\n",
       "Name: LAUNCHES_REC_ID, dtype: int64"
      ]
     },
     "execution_count": 154,
     "metadata": {},
     "output_type": "execute_result"
    }
   ],
   "source": [
    "df['LAUNCHES_REC_ID'].value_counts(dropna=False)"
   ]
  }
 ],
 "metadata": {
  "kernelspec": {
   "display_name": "Python 3 (ipykernel)",
   "language": "python",
   "name": "python3"
  },
  "language_info": {
   "codemirror_mode": {
    "name": "ipython",
    "version": 3
   },
   "file_extension": ".py",
   "mimetype": "text/x-python",
   "name": "python",
   "nbconvert_exporter": "python",
   "pygments_lexer": "ipython3",
   "version": "3.9.12"
  }
 },
 "nbformat": 4,
 "nbformat_minor": 5
}
