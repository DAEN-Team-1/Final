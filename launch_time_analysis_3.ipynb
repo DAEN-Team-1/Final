{
 "cells": [
  {
   "cell_type": "markdown",
   "id": "3b56521e",
   "metadata": {},
   "source": [
    "DAEN 690 - Capstone Project, Summer 2022\n",
    "Team Launch Insight\n",
    "Bray, Brensike, Rego, Williamson, Woods"
   ]
  },
  {
   "cell_type": "code",
   "execution_count": 1,
   "id": "f29934c7",
   "metadata": {},
   "outputs": [],
   "source": [
    "# Imports\n",
    "import pandas as pd\n",
    "import numpy as np\n",
    "from datetime import datetime\n",
    "pd.options.display.max_colwidth = 100000\n",
    "\n",
    "import seaborn as sns\n",
    "import matplotlib.pyplot as plt\n",
    "import plotly as px"
   ]
  },
  {
   "cell_type": "code",
   "execution_count": 2,
   "id": "0fc69c22",
   "metadata": {},
   "outputs": [],
   "source": [
    "# Read pickle file with topics and augmented text\n",
    "df_notam = pd.read_pickle(\"data/allData.pkl\")\n",
    "\n",
    "# Make MIN_ALT and MAX_ALT numeric\n",
    "df_notam['MIN_ALT'] = df_notam['MIN_ALT'].replace('MSL', 0)\n",
    "df_notam['MAX_ALT'] = df_notam['MAX_ALT'].replace('MSL', 0)\n",
    "df_notam['MIN_ALT'] = pd.to_numeric(df_notam['MIN_ALT'], errors='coerce')\n",
    "df_notam['MAX_ALT'] = pd.to_numeric(df_notam['MAX_ALT'], errors='coerce')\n",
    "\n",
    "# Make POSSIBLE_START_DATE, POSSIBLE_END_DATE, ISSUE_DATE, and CANCELED_DATE datetime format\n",
    "df_notam['POSSIBLE_START_DATE'] = pd.to_datetime(df_notam['POSSIBLE_START_DATE'], errors = 'coerce', format = '%Y/%m/%d %H:%M:%S')\n",
    "df_notam['POSSIBLE_END_DATE'] = pd.to_datetime(df_notam['POSSIBLE_END_DATE'], errors = 'coerce', format = '%Y/%m/%d %H:%M:%S')\n",
    "df_notam['ISSUE_DATE'] = pd.to_datetime(df_notam['ISSUE_DATE'], errors = 'coerce', format = '%Y/%m/%d %H:%M:%S')\n",
    "df_notam['CANCELED_DATE'] = pd.to_datetime(df_notam['CANCELED_DATE'], errors = 'coerce', format = '%Y/%m/%d %H:%M:%S')\n",
    "\n",
    "# Replace missing POSSIBLE_START_DATE with CANCELED_DATE and vise versa\n",
    "df_notam.loc[df_notam['CANCELED_DATE'].isna(), 'CANCELED_DATE'] = df_notam.loc[df_notam['CANCELED_DATE'].isna(), 'POSSIBLE_END_DATE']\n",
    "df_notam.loc[df_notam['POSSIBLE_END_DATE'].isna(), 'POSSIBLE_END_DATE'] = df_notam.loc[df_notam['POSSIBLE_END_DATE'].isna(), 'CANCELED_DATE']\n",
    "\n",
    "# Get mode of all NOTAM durations\n",
    "est_days = (df_notam['POSSIBLE_END_DATE'] - df_notam['POSSIBLE_START_DATE']).mode()\n",
    "\n",
    "# Fix remaining missing values of CANCELED_DATE and POSSIBLE_END_DATE by adding the mode to the POSSIBLE_START_DATE\n",
    "df_notam.loc[df_notam['CANCELED_DATE'].isna(), 'CANCELED_DATE'] = df_notam.loc[df_notam['CANCELED_DATE'].isna(), 'POSSIBLE_START_DATE'] + pd.to_timedelta(est_days.dt.days[0], unit='D')\n",
    "df_notam.loc[df_notam['POSSIBLE_END_DATE'].isna(), 'POSSIBLE_END_DATE'] = df_notam.loc[df_notam['POSSIBLE_END_DATE'].isna(), 'POSSIBLE_START_DATE'] + pd.to_timedelta(est_days.dt.days[0], unit='D')\n",
    "\n",
    "# Drop NOTAMs without POSSIBLE_END_DATE and POSSIBLE_START_DATE\n",
    "df_notam = df_notam.dropna( how='all', subset=['POSSIBLE_END_DATE', 'POSSIBLE_START_DATE'])"
   ]
  },
  {
   "cell_type": "code",
   "execution_count": 3,
   "id": "a199cdb9",
   "metadata": {},
   "outputs": [
    {
     "data": {
      "text/plain": [
       "NOTAM_REC_ID                    0\n",
       "FNS_ID                          0\n",
       "FILENAME                        0\n",
       "NOTAM_ID                       26\n",
       "NOTAM_TYPE                 221168\n",
       "RELATED_NOTAM_ID          1281589\n",
       "SIMPLE_TEXT                821736\n",
       "LOC_ID_ACCOUNTABLE_ORG     864049\n",
       "NOTAM_NUMBER               867227\n",
       "RELATED_NOTAM_NUMBER      1524160\n",
       "TEXT                            0\n",
       "Q_CODE                     639786\n",
       "Q_CODE_INTERPRETATION      909240\n",
       "A_CODE                     508084\n",
       "B_CODE                     666838\n",
       "C_CODE                     820329\n",
       "D_CODE                    1480096\n",
       "E_CODE                        445\n",
       "F_CODE                     629754\n",
       "G_CODE                     629952\n",
       "CLASSIFICATION                 31\n",
       "POSSIBLE_NOTAM_ID              26\n",
       "MIN_ALT                    461512\n",
       "MAX_ALT                    514142\n",
       "MIN_ALT_REF_TYPE           597577\n",
       "MAX_ALT_REF_TYPE           665715\n",
       "POSSIBLE_START_DATE             0\n",
       "POSSIBLE_END_DATE               0\n",
       "ISSUE_DATE                     26\n",
       "CANCELED_DATE                   0\n",
       "AFFECTED_FIR               642831\n",
       "DESIGNATOR                1250192\n",
       "DESIGNATOR_NAME           1285477\n",
       "LOCATION_NAME               20317\n",
       "ACCOUNT_ID                     32\n",
       "LOCATION_CODE                  26\n",
       "LAUNCHES_REC_ID           1649753\n",
       "dtype: int64"
      ]
     },
     "execution_count": 3,
     "metadata": {},
     "output_type": "execute_result"
    }
   ],
   "source": [
    "# Check missing values\n",
    "df_notam.isna().sum()"
   ]
  },
  {
   "cell_type": "code",
   "execution_count": 4,
   "id": "fa1c1b98",
   "metadata": {},
   "outputs": [],
   "source": [
    "## Import Launch data\n",
    "df_launch = pd.read_csv('data/launches_20201027.csv')"
   ]
  },
  {
   "cell_type": "code",
   "execution_count": 5,
   "id": "ae632b14",
   "metadata": {},
   "outputs": [],
   "source": [
    "## Set of all launches\n",
    "i_launch = (set(df_launch['LAUNCHES_REC_ID']))"
   ]
  },
  {
   "cell_type": "code",
   "execution_count": 6,
   "id": "9f9b3527",
   "metadata": {},
   "outputs": [],
   "source": [
    "## Pick launches to test by reducing the full set to the following...\n",
    "# i_launch = [1,10,50,100,150,200,250,300,350,400,450,500]"
   ]
  },
  {
   "cell_type": "code",
   "execution_count": 7,
   "id": "aaf4cefb",
   "metadata": {},
   "outputs": [],
   "source": [
    "## Focus on date/time columns only\n",
    "dtg_notam = pd.DataFrame(df_notam, columns=['NOTAM_REC_ID','POSSIBLE_START_DATE','POSSIBLE_END_DATE'])\n",
    "dtg_launch = pd.DataFrame(df_launch, columns=['LAUNCHES_REC_ID','LAUNCH_DATE'])"
   ]
  },
  {
   "cell_type": "markdown",
   "id": "7a88e624",
   "metadata": {},
   "source": [
    "Compare the number of NOTAM active in our dataset at the time of each launch"
   ]
  },
  {
   "cell_type": "code",
   "execution_count": 8,
   "id": "02f2c1fe",
   "metadata": {
    "scrolled": false
   },
   "outputs": [],
   "source": [
    "for i in i_launch:\n",
    "    j = i-1  ## index value is one less than i\n",
    "    time = dtg_launch.at[j,'LAUNCH_DATE']\n",
    "\n",
    "    # Date filter\n",
    "    filter_dtg = dtg_notam[(dtg_notam['POSSIBLE_START_DATE'] <= time) & (dtg_notam['POSSIBLE_END_DATE'] >= time)]\n",
    "    \n",
    "    dtg_launch.at[j,'ORIG_NOTAM_COUNT'] = len(filter_dtg)\n",
    "\n",
    "#     print(f'LAUNCH_REC_ID {i} had {len(filter_dtg)} active NOTAMs at launch time {time}')"
   ]
  },
  {
   "cell_type": "code",
   "execution_count": 9,
   "id": "9dab5516",
   "metadata": {},
   "outputs": [
    {
     "name": "stdout",
     "output_type": "stream",
     "text": [
      "     LAUNCHES_REC_ID          LAUNCH_DATE  ORIG_NOTAM_COUNT\n",
      "0                  1  2013-01-05 00:00:00             134.0\n",
      "1                  2  2013-01-26 22:00:00             139.0\n",
      "2                  3  2013-01-26 22:50:00             139.0\n",
      "3                  4  2013-01-31 01:48:00             142.0\n",
      "4                  5  2013-02-01 06:56:00             142.0\n",
      "..               ...                  ...               ...\n",
      "513              514  2020-04-22 19:30:30            8601.0\n",
      "514              515  2020-05-17 13:14:00            6503.0\n",
      "515              516  2020-05-25 18:50:00            7362.0\n",
      "516              517  2020-05-30 19:22:45            7742.0\n",
      "517              518  2020-06-04 01:25:33            6406.0\n",
      "\n",
      "[518 rows x 3 columns]\n"
     ]
    }
   ],
   "source": [
    "print(dtg_launch)"
   ]
  },
  {
   "cell_type": "markdown",
   "id": "290bcfc9",
   "metadata": {},
   "source": [
    "Reduce the dataset of notams, taking out notams active for more than 90 days"
   ]
  },
  {
   "cell_type": "code",
   "execution_count": 10,
   "id": "402069c2",
   "metadata": {},
   "outputs": [
    {
     "data": {
      "text/html": [
       "<div>\n",
       "<style scoped>\n",
       "    .dataframe tbody tr th:only-of-type {\n",
       "        vertical-align: middle;\n",
       "    }\n",
       "\n",
       "    .dataframe tbody tr th {\n",
       "        vertical-align: top;\n",
       "    }\n",
       "\n",
       "    .dataframe thead th {\n",
       "        text-align: right;\n",
       "    }\n",
       "</style>\n",
       "<table border=\"1\" class=\"dataframe\">\n",
       "  <thead>\n",
       "    <tr style=\"text-align: right;\">\n",
       "      <th></th>\n",
       "      <th>NOTAM_REC_ID</th>\n",
       "      <th>POSSIBLE_START_DATE</th>\n",
       "      <th>POSSIBLE_END_DATE</th>\n",
       "      <th>diff_days</th>\n",
       "    </tr>\n",
       "  </thead>\n",
       "  <tbody>\n",
       "    <tr>\n",
       "      <th>0</th>\n",
       "      <td>1</td>\n",
       "      <td>2016-05-24 17:30:00</td>\n",
       "      <td>2016-05-24 19:45:00</td>\n",
       "      <td>0.093750</td>\n",
       "    </tr>\n",
       "    <tr>\n",
       "      <th>1</th>\n",
       "      <td>2</td>\n",
       "      <td>2016-05-24 17:30:00</td>\n",
       "      <td>2016-05-24 19:45:00</td>\n",
       "      <td>0.093750</td>\n",
       "    </tr>\n",
       "    <tr>\n",
       "      <th>2</th>\n",
       "      <td>3</td>\n",
       "      <td>2016-05-24 17:30:00</td>\n",
       "      <td>2016-05-24 19:45:00</td>\n",
       "      <td>0.093750</td>\n",
       "    </tr>\n",
       "    <tr>\n",
       "      <th>3</th>\n",
       "      <td>4</td>\n",
       "      <td>2016-05-24 17:30:00</td>\n",
       "      <td>2016-05-24 19:45:00</td>\n",
       "      <td>0.093750</td>\n",
       "    </tr>\n",
       "    <tr>\n",
       "      <th>4</th>\n",
       "      <td>5</td>\n",
       "      <td>2016-05-24 17:30:00</td>\n",
       "      <td>2016-05-24 19:45:00</td>\n",
       "      <td>0.093750</td>\n",
       "    </tr>\n",
       "    <tr>\n",
       "      <th>...</th>\n",
       "      <td>...</td>\n",
       "      <td>...</td>\n",
       "      <td>...</td>\n",
       "      <td>...</td>\n",
       "    </tr>\n",
       "    <tr>\n",
       "      <th>1649751</th>\n",
       "      <td>1650464</td>\n",
       "      <td>2020-06-01 11:00:00</td>\n",
       "      <td>2020-06-02 03:00:00</td>\n",
       "      <td>0.666667</td>\n",
       "    </tr>\n",
       "    <tr>\n",
       "      <th>1649752</th>\n",
       "      <td>1650465</td>\n",
       "      <td>2020-05-31 19:48:00</td>\n",
       "      <td>2020-06-03 19:48:00</td>\n",
       "      <td>3.000000</td>\n",
       "    </tr>\n",
       "    <tr>\n",
       "      <th>1649753</th>\n",
       "      <td>1650466</td>\n",
       "      <td>2020-06-01 15:00:00</td>\n",
       "      <td>2020-06-01 17:00:00</td>\n",
       "      <td>0.083333</td>\n",
       "    </tr>\n",
       "    <tr>\n",
       "      <th>1649754</th>\n",
       "      <td>1650467</td>\n",
       "      <td>2020-05-31 19:52:00</td>\n",
       "      <td>2020-06-01 01:00:00</td>\n",
       "      <td>0.213889</td>\n",
       "    </tr>\n",
       "    <tr>\n",
       "      <th>1649755</th>\n",
       "      <td>1650468</td>\n",
       "      <td>2020-05-31 20:00:00</td>\n",
       "      <td>2020-06-01 05:00:00</td>\n",
       "      <td>0.375000</td>\n",
       "    </tr>\n",
       "  </tbody>\n",
       "</table>\n",
       "<p>1649753 rows × 4 columns</p>\n",
       "</div>"
      ],
      "text/plain": [
       "         NOTAM_REC_ID POSSIBLE_START_DATE   POSSIBLE_END_DATE  diff_days\n",
       "0                   1 2016-05-24 17:30:00 2016-05-24 19:45:00   0.093750\n",
       "1                   2 2016-05-24 17:30:00 2016-05-24 19:45:00   0.093750\n",
       "2                   3 2016-05-24 17:30:00 2016-05-24 19:45:00   0.093750\n",
       "3                   4 2016-05-24 17:30:00 2016-05-24 19:45:00   0.093750\n",
       "4                   5 2016-05-24 17:30:00 2016-05-24 19:45:00   0.093750\n",
       "...               ...                 ...                 ...        ...\n",
       "1649751       1650464 2020-06-01 11:00:00 2020-06-02 03:00:00   0.666667\n",
       "1649752       1650465 2020-05-31 19:48:00 2020-06-03 19:48:00   3.000000\n",
       "1649753       1650466 2020-06-01 15:00:00 2020-06-01 17:00:00   0.083333\n",
       "1649754       1650467 2020-05-31 19:52:00 2020-06-01 01:00:00   0.213889\n",
       "1649755       1650468 2020-05-31 20:00:00 2020-06-01 05:00:00   0.375000\n",
       "\n",
       "[1649753 rows x 4 columns]"
      ]
     },
     "execution_count": 10,
     "metadata": {},
     "output_type": "execute_result"
    }
   ],
   "source": [
    "# Calculate the difference between start and end dates for notams\n",
    "dtg_notam['diff_days'] = dtg_notam.POSSIBLE_END_DATE - dtg_notam.POSSIBLE_START_DATE\n",
    "# Convert the difference to weeks\n",
    "dtg_notam['diff_days'] = dtg_notam.diff_days / np.timedelta64(1, 'D')\n",
    "\n",
    "dtg_notam"
   ]
  },
  {
   "cell_type": "code",
   "execution_count": 11,
   "id": "938aff1e",
   "metadata": {},
   "outputs": [
    {
     "data": {
      "text/html": [
       "<div>\n",
       "<style scoped>\n",
       "    .dataframe tbody tr th:only-of-type {\n",
       "        vertical-align: middle;\n",
       "    }\n",
       "\n",
       "    .dataframe tbody tr th {\n",
       "        vertical-align: top;\n",
       "    }\n",
       "\n",
       "    .dataframe thead th {\n",
       "        text-align: right;\n",
       "    }\n",
       "</style>\n",
       "<table border=\"1\" class=\"dataframe\">\n",
       "  <thead>\n",
       "    <tr style=\"text-align: right;\">\n",
       "      <th></th>\n",
       "      <th>NOTAM_REC_ID</th>\n",
       "      <th>POSSIBLE_START_DATE</th>\n",
       "      <th>POSSIBLE_END_DATE</th>\n",
       "      <th>diff_days</th>\n",
       "    </tr>\n",
       "  </thead>\n",
       "  <tbody>\n",
       "    <tr>\n",
       "      <th>0</th>\n",
       "      <td>1</td>\n",
       "      <td>2016-05-24 17:30:00</td>\n",
       "      <td>2016-05-24 19:45:00</td>\n",
       "      <td>0.093750</td>\n",
       "    </tr>\n",
       "    <tr>\n",
       "      <th>1</th>\n",
       "      <td>2</td>\n",
       "      <td>2016-05-24 17:30:00</td>\n",
       "      <td>2016-05-24 19:45:00</td>\n",
       "      <td>0.093750</td>\n",
       "    </tr>\n",
       "    <tr>\n",
       "      <th>2</th>\n",
       "      <td>3</td>\n",
       "      <td>2016-05-24 17:30:00</td>\n",
       "      <td>2016-05-24 19:45:00</td>\n",
       "      <td>0.093750</td>\n",
       "    </tr>\n",
       "    <tr>\n",
       "      <th>3</th>\n",
       "      <td>4</td>\n",
       "      <td>2016-05-24 17:30:00</td>\n",
       "      <td>2016-05-24 19:45:00</td>\n",
       "      <td>0.093750</td>\n",
       "    </tr>\n",
       "    <tr>\n",
       "      <th>4</th>\n",
       "      <td>5</td>\n",
       "      <td>2016-05-24 17:30:00</td>\n",
       "      <td>2016-05-24 19:45:00</td>\n",
       "      <td>0.093750</td>\n",
       "    </tr>\n",
       "    <tr>\n",
       "      <th>...</th>\n",
       "      <td>...</td>\n",
       "      <td>...</td>\n",
       "      <td>...</td>\n",
       "      <td>...</td>\n",
       "    </tr>\n",
       "    <tr>\n",
       "      <th>1649751</th>\n",
       "      <td>1650464</td>\n",
       "      <td>2020-06-01 11:00:00</td>\n",
       "      <td>2020-06-02 03:00:00</td>\n",
       "      <td>0.666667</td>\n",
       "    </tr>\n",
       "    <tr>\n",
       "      <th>1649752</th>\n",
       "      <td>1650465</td>\n",
       "      <td>2020-05-31 19:48:00</td>\n",
       "      <td>2020-06-03 19:48:00</td>\n",
       "      <td>3.000000</td>\n",
       "    </tr>\n",
       "    <tr>\n",
       "      <th>1649753</th>\n",
       "      <td>1650466</td>\n",
       "      <td>2020-06-01 15:00:00</td>\n",
       "      <td>2020-06-01 17:00:00</td>\n",
       "      <td>0.083333</td>\n",
       "    </tr>\n",
       "    <tr>\n",
       "      <th>1649754</th>\n",
       "      <td>1650467</td>\n",
       "      <td>2020-05-31 19:52:00</td>\n",
       "      <td>2020-06-01 01:00:00</td>\n",
       "      <td>0.213889</td>\n",
       "    </tr>\n",
       "    <tr>\n",
       "      <th>1649755</th>\n",
       "      <td>1650468</td>\n",
       "      <td>2020-05-31 20:00:00</td>\n",
       "      <td>2020-06-01 05:00:00</td>\n",
       "      <td>0.375000</td>\n",
       "    </tr>\n",
       "  </tbody>\n",
       "</table>\n",
       "<p>1597961 rows × 4 columns</p>\n",
       "</div>"
      ],
      "text/plain": [
       "         NOTAM_REC_ID POSSIBLE_START_DATE   POSSIBLE_END_DATE  diff_days\n",
       "0                   1 2016-05-24 17:30:00 2016-05-24 19:45:00   0.093750\n",
       "1                   2 2016-05-24 17:30:00 2016-05-24 19:45:00   0.093750\n",
       "2                   3 2016-05-24 17:30:00 2016-05-24 19:45:00   0.093750\n",
       "3                   4 2016-05-24 17:30:00 2016-05-24 19:45:00   0.093750\n",
       "4                   5 2016-05-24 17:30:00 2016-05-24 19:45:00   0.093750\n",
       "...               ...                 ...                 ...        ...\n",
       "1649751       1650464 2020-06-01 11:00:00 2020-06-02 03:00:00   0.666667\n",
       "1649752       1650465 2020-05-31 19:48:00 2020-06-03 19:48:00   3.000000\n",
       "1649753       1650466 2020-06-01 15:00:00 2020-06-01 17:00:00   0.083333\n",
       "1649754       1650467 2020-05-31 19:52:00 2020-06-01 01:00:00   0.213889\n",
       "1649755       1650468 2020-05-31 20:00:00 2020-06-01 05:00:00   0.375000\n",
       "\n",
       "[1597961 rows x 4 columns]"
      ]
     },
     "execution_count": 11,
     "metadata": {},
     "output_type": "execute_result"
    }
   ],
   "source": [
    "dtg_90days = dtg_notam[dtg_notam['diff_days'] <= 90]\n",
    "dtg_90days"
   ]
  },
  {
   "cell_type": "code",
   "execution_count": 12,
   "id": "11ee5758",
   "metadata": {},
   "outputs": [
    {
     "name": "stdout",
     "output_type": "stream",
     "text": [
      "LAUNCH_REC_ID 1 had 0 active NOTAMs at launch time 2013-01-05 00:00:00\n",
      "LAUNCH_REC_ID 2 had 0 active NOTAMs at launch time 2013-01-26 22:00:00\n",
      "LAUNCH_REC_ID 3 had 0 active NOTAMs at launch time 2013-01-26 22:50:00\n",
      "LAUNCH_REC_ID 4 had 0 active NOTAMs at launch time 2013-01-31 01:48:00\n",
      "LAUNCH_REC_ID 5 had 0 active NOTAMs at launch time 2013-02-01 06:56:00\n",
      "LAUNCH_REC_ID 6 had 0 active NOTAMs at launch time 2013-02-07 08:21:00\n",
      "LAUNCH_REC_ID 7 had 0 active NOTAMs at launch time 2013-02-11 18:02:00\n",
      "LAUNCH_REC_ID 8 had 0 active NOTAMs at launch time 2013-02-13 09:10:00\n",
      "LAUNCH_REC_ID 9 had 0 active NOTAMs at launch time 2013-02-13 09:15:00\n",
      "LAUNCH_REC_ID 10 had 0 active NOTAMs at launch time 2013-02-15 16:34:00\n",
      "LAUNCH_REC_ID 11 had 0 active NOTAMs at launch time 2013-03-01 15:10:00\n",
      "LAUNCH_REC_ID 12 had 0 active NOTAMs at launch time 2013-03-06 12:00:00\n",
      "LAUNCH_REC_ID 13 had 0 active NOTAMs at launch time 2013-03-11 06:10:00\n",
      "LAUNCH_REC_ID 14 had 0 active NOTAMs at launch time 2013-03-19 21:21:00\n",
      "LAUNCH_REC_ID 15 had 0 active NOTAMs at launch time 2013-03-26 00:00:00\n",
      "LAUNCH_REC_ID 16 had 0 active NOTAMs at launch time 2013-04-03 03:36:00\n",
      "LAUNCH_REC_ID 17 had 0 active NOTAMs at launch time 2013-04-11 12:00:00\n",
      "LAUNCH_REC_ID 18 had 0 active NOTAMs at launch time 2013-04-18 12:00:00\n",
      "LAUNCH_REC_ID 19 had 0 active NOTAMs at launch time 2013-04-19 10:00:00\n",
      "LAUNCH_REC_ID 20 had 0 active NOTAMs at launch time 2013-04-21 08:00:00\n",
      "LAUNCH_REC_ID 21 had 0 active NOTAMs at launch time 2013-04-21 21:00:00\n",
      "LAUNCH_REC_ID 22 had 0 active NOTAMs at launch time 2013-04-23 17:30:00\n",
      "LAUNCH_REC_ID 23 had 0 active NOTAMs at launch time 2013-04-29 02:52:00\n",
      "LAUNCH_REC_ID 24 had 0 active NOTAMs at launch time 2013-05-01 06:00:00\n",
      "LAUNCH_REC_ID 25 had 0 active NOTAMs at launch time 2013-05-01 07:38:00\n",
      "LAUNCH_REC_ID 26 had 0 active NOTAMs at launch time 2013-05-07 07:39:00\n",
      "LAUNCH_REC_ID 27 had 0 active NOTAMs at launch time 2013-05-07 07:40:30\n",
      "LAUNCH_REC_ID 28 had 0 active NOTAMs at launch time 2013-05-09 07:23:00\n",
      "LAUNCH_REC_ID 29 had 0 active NOTAMs at launch time 2013-05-11 05:00:00\n",
      "LAUNCH_REC_ID 30 had 0 active NOTAMs at launch time 2013-05-15 21:38:00\n",
      "LAUNCH_REC_ID 31 had 0 active NOTAMs at launch time 2013-05-16 03:25:00\n",
      "LAUNCH_REC_ID 32 had 0 active NOTAMs at launch time 2013-05-16 03:30:00\n",
      "LAUNCH_REC_ID 33 had 0 active NOTAMs at launch time 2013-05-22 13:27:00\n",
      "LAUNCH_REC_ID 34 had 0 active NOTAMs at launch time 2013-05-25 00:27:00\n",
      "LAUNCH_REC_ID 35 had 0 active NOTAMs at launch time 2013-06-06 03:05:00\n",
      "LAUNCH_REC_ID 36 had 0 active NOTAMs at launch time 2013-06-13 12:00:00\n",
      "LAUNCH_REC_ID 37 had 0 active NOTAMs at launch time 2013-06-19 21:36:00\n",
      "LAUNCH_REC_ID 38 had 0 active NOTAMs at launch time 2013-06-20 09:30:00\n",
      "LAUNCH_REC_ID 39 had 0 active NOTAMs at launch time 2013-06-21 13:57:00\n",
      "LAUNCH_REC_ID 40 had 2 active NOTAMs at launch time 2013-06-28 02:27:00\n",
      "LAUNCH_REC_ID 41 had 0 active NOTAMs at launch time 2013-07-04 14:31:00\n",
      "LAUNCH_REC_ID 42 had 0 active NOTAMs at launch time 2013-07-04 14:31:15\n",
      "LAUNCH_REC_ID 43 had 0 active NOTAMs at launch time 2013-07-05 18:29:00\n",
      "LAUNCH_REC_ID 44 had 0 active NOTAMs at launch time 2013-07-05 18:35:00\n",
      "LAUNCH_REC_ID 45 had 0 active NOTAMs at launch time 2013-07-19 13:00:00\n",
      "LAUNCH_REC_ID 46 had 0 active NOTAMs at launch time 2013-07-24 12:00:00\n",
      "LAUNCH_REC_ID 47 had 0 active NOTAMs at launch time 2013-08-08 00:29:00\n",
      "LAUNCH_REC_ID 48 had 0 active NOTAMs at launch time 2013-08-08 02:52:00\n",
      "LAUNCH_REC_ID 49 had 0 active NOTAMs at launch time 2013-08-08 18:10:00\n",
      "LAUNCH_REC_ID 50 had 0 active NOTAMs at launch time 2013-08-12 12:00:00\n",
      "LAUNCH_REC_ID 51 had 0 active NOTAMs at launch time 2013-08-13 10:00:00\n",
      "LAUNCH_REC_ID 52 had 0 active NOTAMs at launch time 2013-08-14 12:00:00\n",
      "LAUNCH_REC_ID 53 had 0 active NOTAMs at launch time 2013-08-28 18:03:00\n",
      "LAUNCH_REC_ID 54 had 0 active NOTAMs at launch time 2013-09-05 04:04:00\n",
      "LAUNCH_REC_ID 55 had 0 active NOTAMs at launch time 2013-09-07 03:27:00\n",
      "LAUNCH_REC_ID 56 had 0 active NOTAMs at launch time 2013-09-10 00:00:00\n",
      "LAUNCH_REC_ID 57 had 0 active NOTAMs at launch time 2013-09-10 00:00:00\n",
      "LAUNCH_REC_ID 58 had 0 active NOTAMs at launch time 2013-09-10 00:00:00\n",
      "LAUNCH_REC_ID 59 had 0 active NOTAMs at launch time 2013-09-10 00:00:00\n",
      "LAUNCH_REC_ID 60 had 0 active NOTAMs at launch time 2013-09-10 00:00:00\n",
      "LAUNCH_REC_ID 61 had 0 active NOTAMs at launch time 2013-09-12 00:00:00\n",
      "LAUNCH_REC_ID 62 had 0 active NOTAMs at launch time 2013-09-18 00:30:00\n",
      "LAUNCH_REC_ID 63 had 0 active NOTAMs at launch time 2013-09-18 00:32:00\n",
      "LAUNCH_REC_ID 64 had 0 active NOTAMs at launch time 2013-09-18 07:04:00\n",
      "LAUNCH_REC_ID 65 had 0 active NOTAMs at launch time 2013-09-18 14:58:00\n",
      "LAUNCH_REC_ID 66 had 0 active NOTAMs at launch time 2013-09-22 10:01:00\n",
      "LAUNCH_REC_ID 67 had 1 active NOTAMs at launch time 2013-09-26 10:33:00\n",
      "LAUNCH_REC_ID 68 had 0 active NOTAMs at launch time 2013-09-29 16:00:00\n",
      "LAUNCH_REC_ID 69 had 0 active NOTAMs at launch time 2013-10-04 05:33:00\n",
      "LAUNCH_REC_ID 70 had 0 active NOTAMs at launch time 2013-10-04 05:37:00\n",
      "LAUNCH_REC_ID 71 had 2 active NOTAMs at launch time 2013-10-06 12:00:00\n",
      "LAUNCH_REC_ID 72 had 0 active NOTAMs at launch time 2013-10-21 10:00:00\n",
      "LAUNCH_REC_ID 73 had 0 active NOTAMs at launch time 2013-11-03 09:25:00\n",
      "LAUNCH_REC_ID 74 had 0 active NOTAMs at launch time 2013-11-12 16:15:00\n",
      "LAUNCH_REC_ID 75 had 0 active NOTAMs at launch time 2013-11-18 18:28:00\n",
      "LAUNCH_REC_ID 76 had 0 active NOTAMs at launch time 2013-11-19 23:45:00\n",
      "LAUNCH_REC_ID 77 had 0 active NOTAMs at launch time 2013-11-20 01:15:00\n",
      "LAUNCH_REC_ID 78 had 0 active NOTAMs at launch time 2013-11-26 13:55:00\n",
      "LAUNCH_REC_ID 79 had 0 active NOTAMs at launch time 2013-12-03 22:41:00\n",
      "LAUNCH_REC_ID 80 had 0 active NOTAMs at launch time 2013-12-06 07:14:30\n",
      "LAUNCH_REC_ID 81 had 0 active NOTAMs at launch time 2013-12-11 05:45:00\n",
      "LAUNCH_REC_ID 82 had 0 active NOTAMs at launch time 2013-12-17 12:36:00\n",
      "LAUNCH_REC_ID 83 had 0 active NOTAMs at launch time 2014-01-06 22:06:00\n",
      "LAUNCH_REC_ID 84 had 0 active NOTAMs at launch time 2014-01-09 18:07:00\n",
      "LAUNCH_REC_ID 85 had 0 active NOTAMs at launch time 2014-01-10 04:04:00\n",
      "LAUNCH_REC_ID 86 had 0 active NOTAMs at launch time 2014-01-14 21:07:00\n",
      "LAUNCH_REC_ID 87 had 0 active NOTAMs at launch time 2014-01-14 21:07:00\n",
      "LAUNCH_REC_ID 88 had 0 active NOTAMs at launch time 2014-01-14 21:07:00\n",
      "LAUNCH_REC_ID 89 had 0 active NOTAMs at launch time 2014-01-17 05:02:00\n",
      "LAUNCH_REC_ID 90 had 0 active NOTAMs at launch time 2014-01-24 02:33:00\n",
      "LAUNCH_REC_ID 91 had 1 active NOTAMs at launch time 2014-02-21 01:59:00\n",
      "LAUNCH_REC_ID 92 had 1 active NOTAMs at launch time 2014-03-02 23:16:00\n",
      "LAUNCH_REC_ID 93 had 2 active NOTAMs at launch time 2014-04-03 14:46:00\n",
      "LAUNCH_REC_ID 94 had 1 active NOTAMs at launch time 2014-04-10 17:45:00\n",
      "LAUNCH_REC_ID 95 had 1 active NOTAMs at launch time 2014-04-16 12:00:00\n",
      "LAUNCH_REC_ID 96 had 1 active NOTAMs at launch time 2014-04-18 19:25:22\n",
      "LAUNCH_REC_ID 97 had 0 active NOTAMs at launch time 2014-04-30 12:00:00\n",
      "LAUNCH_REC_ID 98 had 1 active NOTAMs at launch time 2014-05-02 19:55:00\n",
      "LAUNCH_REC_ID 99 had 0 active NOTAMs at launch time 2014-05-17 00:03:00\n",
      "LAUNCH_REC_ID 100 had 0 active NOTAMs at launch time 2014-05-18 00:00:00\n",
      "LAUNCH_REC_ID 101 had 0 active NOTAMs at launch time 2014-05-20 17:31:00\n",
      "LAUNCH_REC_ID 102 had 0 active NOTAMs at launch time 2014-05-22 13:09:00\n",
      "LAUNCH_REC_ID 103 had 0 active NOTAMs at launch time 2014-05-23 19:40:00\n",
      "LAUNCH_REC_ID 104 had 0 active NOTAMs at launch time 2014-05-26 21:10:00\n",
      "LAUNCH_REC_ID 105 had 2 active NOTAMs at launch time 2014-06-01 12:00:00\n",
      "LAUNCH_REC_ID 106 had 2 active NOTAMs at launch time 2014-06-01 12:00:00\n",
      "LAUNCH_REC_ID 107 had 0 active NOTAMs at launch time 2014-06-17 10:04:00\n",
      "LAUNCH_REC_ID 108 had 0 active NOTAMs at launch time 2014-06-22 06:57:00\n",
      "LAUNCH_REC_ID 109 had 0 active NOTAMs at launch time 2014-06-25 23:16:00\n",
      "LAUNCH_REC_ID 110 had 0 active NOTAMs at launch time 2014-06-28 09:07:00\n",
      "LAUNCH_REC_ID 111 had 0 active NOTAMs at launch time 2014-07-01 20:38:00\n",
      "LAUNCH_REC_ID 112 had 0 active NOTAMs at launch time 2014-07-02 09:56:23\n",
      "LAUNCH_REC_ID 113 had 0 active NOTAMs at launch time 2014-07-13 16:52:14\n",
      "LAUNCH_REC_ID 114 had 0 active NOTAMs at launch time 2014-07-14 02:38:00\n",
      "LAUNCH_REC_ID 115 had 0 active NOTAMs at launch time 2014-07-14 15:15:00\n",
      "LAUNCH_REC_ID 116 had 0 active NOTAMs at launch time 2014-07-22 07:12:00\n",
      "LAUNCH_REC_ID 117 had 0 active NOTAMs at launch time 2014-07-28 23:28:00\n",
      "LAUNCH_REC_ID 118 had 0 active NOTAMs at launch time 2014-07-29 08:52:00\n",
      "LAUNCH_REC_ID 119 had 0 active NOTAMs at launch time 2014-08-01 00:00:00\n",
      "LAUNCH_REC_ID 120 had 0 active NOTAMs at launch time 2014-08-02 03:23:00\n",
      "LAUNCH_REC_ID 121 had 0 active NOTAMs at launch time 2014-08-05 08:00:00\n",
      "LAUNCH_REC_ID 122 had 0 active NOTAMs at launch time 2014-08-13 12:00:00\n",
      "LAUNCH_REC_ID 123 had 0 active NOTAMs at launch time 2014-08-13 18:30:30\n",
      "LAUNCH_REC_ID 124 had 1 active NOTAMs at launch time 2014-08-22 10:48:00\n"
     ]
    },
    {
     "name": "stdout",
     "output_type": "stream",
     "text": [
      "LAUNCH_REC_ID 125 had 1 active NOTAMs at launch time 2014-08-23 01:12:00\n",
      "LAUNCH_REC_ID 126 had 1 active NOTAMs at launch time 2014-08-24 20:24:00\n",
      "LAUNCH_REC_ID 127 had 1 active NOTAMs at launch time 2014-08-27 21:07:00\n",
      "LAUNCH_REC_ID 128 had 1 active NOTAMs at launch time 2014-08-28 02:52:00\n",
      "LAUNCH_REC_ID 129 had 0 active NOTAMs at launch time 2014-09-07 05:00:00\n",
      "LAUNCH_REC_ID 130 had 0 active NOTAMs at launch time 2014-09-17 00:10:00\n",
      "LAUNCH_REC_ID 131 had 0 active NOTAMs at launch time 2014-09-21 05:52:03\n",
      "LAUNCH_REC_ID 132 had 0 active NOTAMs at launch time 2014-09-23 02:38:00\n",
      "LAUNCH_REC_ID 133 had 0 active NOTAMs at launch time 2014-09-30 06:00:00\n",
      "LAUNCH_REC_ID 134 had 0 active NOTAMs at launch time 2014-10-07 04:04:00\n",
      "LAUNCH_REC_ID 135 had 0 active NOTAMs at launch time 2014-10-11 16:33:00\n",
      "LAUNCH_REC_ID 136 had 1 active NOTAMs at launch time 2014-10-16 19:12:00\n",
      "LAUNCH_REC_ID 137 had 2 active NOTAMs at launch time 2014-10-23 01:26:00\n",
      "LAUNCH_REC_ID 138 had 0 active NOTAMs at launch time 2014-10-25 00:00:00\n",
      "LAUNCH_REC_ID 139 had 3 active NOTAMs at launch time 2014-10-28 22:22:38\n",
      "LAUNCH_REC_ID 140 had 3 active NOTAMs at launch time 2014-10-29 17:21:00\n",
      "LAUNCH_REC_ID 141 had 2 active NOTAMs at launch time 2014-10-31 05:02:00\n",
      "LAUNCH_REC_ID 142 had 0 active NOTAMs at launch time 2014-11-06 07:12:00\n",
      "LAUNCH_REC_ID 143 had 0 active NOTAMs at launch time 2014-11-06 10:04:00\n",
      "LAUNCH_REC_ID 144 had 0 active NOTAMs at launch time 2014-11-06 10:04:00\n",
      "LAUNCH_REC_ID 145 had 0 active NOTAMs at launch time 2014-11-06 10:04:00\n",
      "LAUNCH_REC_ID 146 had 0 active NOTAMs at launch time 2014-11-06 10:04:00\n",
      "LAUNCH_REC_ID 147 had 2 active NOTAMs at launch time 2014-12-05 00:00:00\n",
      "LAUNCH_REC_ID 148 had 0 active NOTAMs at launch time 2014-12-05 12:05:00\n",
      "LAUNCH_REC_ID 149 had 0 active NOTAMs at launch time 2014-12-11 07:12:00\n",
      "LAUNCH_REC_ID 150 had 0 active NOTAMs at launch time 2014-12-13 03:19:00\n",
      "LAUNCH_REC_ID 151 had 1 active NOTAMs at launch time 2014-12-16 15:36:00\n",
      "LAUNCH_REC_ID 152 had 1 active NOTAMs at launch time 2014-12-16 16:04:00\n",
      "LAUNCH_REC_ID 153 had 3 active NOTAMs at launch time 2015-01-10 09:47:10\n",
      "LAUNCH_REC_ID 154 had 4 active NOTAMs at launch time 2015-01-21 01:04:00\n",
      "LAUNCH_REC_ID 155 had 3 active NOTAMs at launch time 2015-01-25 21:07:00\n",
      "LAUNCH_REC_ID 156 had 3 active NOTAMs at launch time 2015-01-25 21:07:00\n",
      "LAUNCH_REC_ID 157 had 3 active NOTAMs at launch time 2015-01-25 21:50:00\n",
      "LAUNCH_REC_ID 158 had 3 active NOTAMs at launch time 2015-01-25 21:50:00\n",
      "LAUNCH_REC_ID 159 had 3 active NOTAMs at launch time 2015-01-27 22:48:00\n",
      "LAUNCH_REC_ID 160 had 3 active NOTAMs at launch time 2015-01-31 14:22:00\n",
      "LAUNCH_REC_ID 161 had 0 active NOTAMs at launch time 2015-02-10 00:00:00\n",
      "LAUNCH_REC_ID 162 had 1 active NOTAMs at launch time 2015-02-11 23:03:32\n",
      "LAUNCH_REC_ID 163 had 1 active NOTAMs at launch time 2015-02-23 15:36:00\n",
      "LAUNCH_REC_ID 164 had 1 active NOTAMs at launch time 2015-02-23 15:36:00\n",
      "LAUNCH_REC_ID 165 had 1 active NOTAMs at launch time 2015-02-23 15:36:00\n",
      "LAUNCH_REC_ID 166 had 0 active NOTAMs at launch time 2015-02-25 00:28:00\n",
      "LAUNCH_REC_ID 167 had 0 active NOTAMs at launch time 2015-03-02 03:50:00\n",
      "LAUNCH_REC_ID 168 had 0 active NOTAMs at launch time 2015-03-13 03:44:00\n",
      "LAUNCH_REC_ID 169 had 0 active NOTAMs at launch time 2015-03-22 22:33:00\n",
      "LAUNCH_REC_ID 170 had 0 active NOTAMs at launch time 2015-03-25 18:36:00\n",
      "LAUNCH_REC_ID 171 had 0 active NOTAMs at launch time 2015-03-26 22:48:00\n",
      "LAUNCH_REC_ID 172 had 0 active NOTAMs at launch time 2015-04-14 20:10:41\n",
      "LAUNCH_REC_ID 173 had 0 active NOTAMs at launch time 2015-04-17 23:02:00\n",
      "LAUNCH_REC_ID 174 had 0 active NOTAMs at launch time 2015-04-27 23:03:00\n",
      "LAUNCH_REC_ID 175 had 0 active NOTAMs at launch time 2015-04-29 02:52:00\n",
      "LAUNCH_REC_ID 176 had 1 active NOTAMs at launch time 2015-05-01 20:24:00\n",
      "LAUNCH_REC_ID 177 had 1 active NOTAMs at launch time 2015-05-06 00:57:00\n",
      "LAUNCH_REC_ID 178 had 0 active NOTAMs at launch time 2015-05-19 22:33:00\n",
      "LAUNCH_REC_ID 179 had 0 active NOTAMs at launch time 2015-05-20 15:05:00\n",
      "LAUNCH_REC_ID 180 had 0 active NOTAMs at launch time 2015-05-21 00:00:00\n",
      "LAUNCH_REC_ID 181 had 0 active NOTAMs at launch time 2015-05-21 07:12:00\n",
      "LAUNCH_REC_ID 182 had 0 active NOTAMs at launch time 2015-06-08 09:36:00\n",
      "LAUNCH_REC_ID 183 had 4 active NOTAMs at launch time 2015-06-24 22:04:00\n",
      "LAUNCH_REC_ID 184 had 0 active NOTAMs at launch time 2015-06-28 14:21:11\n",
      "LAUNCH_REC_ID 185 had 2 active NOTAMs at launch time 2015-07-06 22:19:00\n",
      "LAUNCH_REC_ID 186 had 1 active NOTAMs at launch time 2015-07-15 15:36:00\n",
      "LAUNCH_REC_ID 187 had 2 active NOTAMs at launch time 2015-07-24 00:07:00\n",
      "LAUNCH_REC_ID 188 had 1 active NOTAMs at launch time 2015-07-28 20:24:00\n",
      "LAUNCH_REC_ID 189 had 1 active NOTAMs at launch time 2015-07-28 20:38:00\n",
      "LAUNCH_REC_ID 190 had 1 active NOTAMs at launch time 2015-07-29 18:14:00\n",
      "LAUNCH_REC_ID 191 had 1 active NOTAMs at launch time 2015-07-29 18:14:00\n",
      "LAUNCH_REC_ID 192 had 1 active NOTAMs at launch time 2015-07-31 12:28:00\n",
      "LAUNCH_REC_ID 193 had 2 active NOTAMs at launch time 2015-08-01 13:40:00\n",
      "LAUNCH_REC_ID 194 had 0 active NOTAMs at launch time 2015-08-11 22:04:00\n",
      "LAUNCH_REC_ID 195 had 1 active NOTAMs at launch time 2015-08-18 22:04:00\n",
      "LAUNCH_REC_ID 196 had 1 active NOTAMs at launch time 2015-08-27 05:45:00\n",
      "LAUNCH_REC_ID 197 had 0 active NOTAMs at launch time 2015-09-02 10:18:00\n",
      "LAUNCH_REC_ID 198 had 0 active NOTAMs at launch time 2015-09-03 05:02:00\n",
      "LAUNCH_REC_ID 199 had 4 active NOTAMs at launch time 2015-10-02 10:28:00\n",
      "LAUNCH_REC_ID 200 had 4 active NOTAMs at launch time 2015-10-03 12:00:00\n",
      "LAUNCH_REC_ID 201 had 2 active NOTAMs at launch time 2015-10-07 11:02:00\n",
      "LAUNCH_REC_ID 202 had 2 active NOTAMs at launch time 2015-10-08 12:49:00\n",
      "LAUNCH_REC_ID 203 had 0 active NOTAMs at launch time 2015-10-21 00:43:00\n",
      "LAUNCH_REC_ID 204 had 4 active NOTAMs at launch time 2015-10-31 15:07:00\n",
      "LAUNCH_REC_ID 205 had 4 active NOTAMs at launch time 2015-10-31 15:07:00\n",
      "LAUNCH_REC_ID 206 had 3 active NOTAMs at launch time 2015-10-31 16:13:00\n",
      "LAUNCH_REC_ID 207 had 4 active NOTAMs at launch time 2015-11-04 03:45:00\n",
      "LAUNCH_REC_ID 208 had 4 active NOTAMs at launch time 2015-11-06 03:07:00\n",
      "LAUNCH_REC_ID 209 had 4 active NOTAMs at launch time 2015-11-07 13:55:00\n",
      "LAUNCH_REC_ID 210 had 4 active NOTAMs at launch time 2015-11-09 07:55:00\n",
      "LAUNCH_REC_ID 211 had 5 active NOTAMs at launch time 2015-11-23 05:16:00\n",
      "LAUNCH_REC_ID 212 had 5 active NOTAMs at launch time 2015-11-24 16:19:00\n",
      "LAUNCH_REC_ID 213 had 3 active NOTAMs at launch time 2015-12-04 18:00:00\n",
      "LAUNCH_REC_ID 214 had 2 active NOTAMs at launch time 2015-12-06 21:44:57\n",
      "LAUNCH_REC_ID 215 had 2 active NOTAMs at launch time 2015-12-09 12:00:00\n",
      "LAUNCH_REC_ID 216 had 2 active NOTAMs at launch time 2015-12-09 12:00:00\n",
      "LAUNCH_REC_ID 217 had 3 active NOTAMs at launch time 2015-12-10 01:55:00\n",
      "LAUNCH_REC_ID 218 had 3 active NOTAMs at launch time 2015-12-17 18:57:00\n",
      "LAUNCH_REC_ID 219 had 2 active NOTAMs at launch time 2015-12-22 01:29:00\n",
      "LAUNCH_REC_ID 220 had 2 active NOTAMs at launch time 2015-12-30 12:00:00\n",
      "LAUNCH_REC_ID 221 had 2 active NOTAMs at launch time 2015-12-30 12:00:00\n",
      "LAUNCH_REC_ID 222 had 2 active NOTAMs at launch time 2015-12-30 12:00:00\n",
      "LAUNCH_REC_ID 223 had 2 active NOTAMs at launch time 2015-12-30 12:00:00\n",
      "LAUNCH_REC_ID 224 had 2 active NOTAMs at launch time 2015-12-30 12:00:00\n",
      "LAUNCH_REC_ID 225 had 2 active NOTAMs at launch time 2016-01-17 04:01:00\n",
      "LAUNCH_REC_ID 226 had 2 active NOTAMs at launch time 2016-01-22 00:57:00\n",
      "LAUNCH_REC_ID 227 had 1 active NOTAMs at launch time 2016-01-28 09:50:00\n",
      "LAUNCH_REC_ID 228 had 9 active NOTAMs at launch time 2016-02-05 13:38:00\n",
      "LAUNCH_REC_ID 229 had 13 active NOTAMs at launch time 2016-02-10 11:40:32\n",
      "LAUNCH_REC_ID 230 had 12 active NOTAMs at launch time 2016-02-20 19:40:00\n",
      "LAUNCH_REC_ID 231 had 12 active NOTAMs at launch time 2016-02-21 16:19:00\n",
      "LAUNCH_REC_ID 232 had 12 active NOTAMs at launch time 2016-02-24 23:46:00\n",
      "LAUNCH_REC_ID 233 had 15 active NOTAMs at launch time 2016-02-25 18:57:00\n",
      "LAUNCH_REC_ID 234 had 28 active NOTAMs at launch time 2016-03-01 02:52:00\n",
      "LAUNCH_REC_ID 235 had 64 active NOTAMs at launch time 2016-03-04 23:35:00\n",
      "LAUNCH_REC_ID 236 had 60 active NOTAMs at launch time 2016-03-07 00:00:00\n",
      "LAUNCH_REC_ID 237 had 94 active NOTAMs at launch time 2016-03-13 12:00:00\n",
      "LAUNCH_REC_ID 238 had 104 active NOTAMs at launch time 2016-03-14 12:00:00\n",
      "LAUNCH_REC_ID 239 had 105 active NOTAMs at launch time 2016-03-15 12:00:00\n",
      "LAUNCH_REC_ID 240 had 151 active NOTAMs at launch time 2016-03-23 03:05:52\n",
      "LAUNCH_REC_ID 241 had 349 active NOTAMs at launch time 2016-04-02 03:21:00\n"
     ]
    },
    {
     "name": "stdout",
     "output_type": "stream",
     "text": [
      "LAUNCH_REC_ID 242 had 412 active NOTAMs at launch time 2016-04-08 20:43:31\n",
      "LAUNCH_REC_ID 243 had 1369 active NOTAMs at launch time 2016-05-06 05:21:00\n",
      "LAUNCH_REC_ID 244 had 1577 active NOTAMs at launch time 2016-05-11 18:30:00\n",
      "LAUNCH_REC_ID 245 had 1838 active NOTAMs at launch time 2016-05-17 18:57:00\n",
      "LAUNCH_REC_ID 246 had 2624 active NOTAMs at launch time 2016-05-24 12:00:00\n",
      "LAUNCH_REC_ID 247 had 3920 active NOTAMs at launch time 2016-05-25 12:00:00\n",
      "LAUNCH_REC_ID 248 had 7072 active NOTAMs at launch time 2016-05-26 21:40:00\n",
      "LAUNCH_REC_ID 249 had 6570 active NOTAMs at launch time 2016-05-27 21:39:00\n",
      "LAUNCH_REC_ID 250 had 4382 active NOTAMs at launch time 2016-05-30 12:00:00\n",
      "LAUNCH_REC_ID 251 had 4326 active NOTAMs at launch time 2016-06-01 06:57:00\n",
      "LAUNCH_REC_ID 252 had 4038 active NOTAMs at launch time 2016-06-09 17:59:00\n",
      "LAUNCH_REC_ID 253 had 3939 active NOTAMs at launch time 2016-06-11 17:51:00\n",
      "LAUNCH_REC_ID 254 had 6103 active NOTAMs at launch time 2016-06-15 14:29:00\n",
      "LAUNCH_REC_ID 255 had 6752 active NOTAMs at launch time 2016-06-19 02:38:00\n",
      "LAUNCH_REC_ID 256 had 8412 active NOTAMs at launch time 2016-06-23 22:04:00\n",
      "LAUNCH_REC_ID 257 had 9419 active NOTAMs at launch time 2016-06-24 14:30:00\n",
      "LAUNCH_REC_ID 258 had 5192 active NOTAMs at launch time 2016-07-18 04:45:29\n",
      "LAUNCH_REC_ID 259 had 6890 active NOTAMs at launch time 2016-07-27 06:28:00\n",
      "LAUNCH_REC_ID 260 had 9067 active NOTAMs at launch time 2016-07-28 12:37:00\n",
      "LAUNCH_REC_ID 261 had 8203 active NOTAMs at launch time 2016-08-14 05:26:00\n",
      "LAUNCH_REC_ID 262 had 10315 active NOTAMs at launch time 2016-08-16 23:31:00\n",
      "LAUNCH_REC_ID 263 had 12877 active NOTAMs at launch time 2016-08-19 04:52:00\n",
      "LAUNCH_REC_ID 264 had 12127 active NOTAMs at launch time 2016-08-26 18:30:00\n",
      "LAUNCH_REC_ID 265 had 11916 active NOTAMs at launch time 2016-08-30 12:00:00\n",
      "LAUNCH_REC_ID 266 had 12475 active NOTAMs at launch time 2016-09-01 00:00:00\n",
      "LAUNCH_REC_ID 267 had 12801 active NOTAMs at launch time 2016-09-03 07:00:00\n",
      "LAUNCH_REC_ID 268 had 11625 active NOTAMs at launch time 2016-09-04 21:07:00\n",
      "LAUNCH_REC_ID 269 had 13171 active NOTAMs at launch time 2016-09-08 06:57:00\n",
      "LAUNCH_REC_ID 270 had 13724 active NOTAMs at launch time 2016-09-08 23:05:00\n",
      "LAUNCH_REC_ID 271 had 5874 active NOTAMs at launch time 2016-10-05 03:36:00\n",
      "LAUNCH_REC_ID 272 had 3678 active NOTAMs at launch time 2016-10-17 23:45:00\n",
      "LAUNCH_REC_ID 273 had 4059 active NOTAMs at launch time 2016-11-01 01:26:00\n",
      "LAUNCH_REC_ID 274 had 6329 active NOTAMs at launch time 2016-11-03 01:26:00\n",
      "LAUNCH_REC_ID 275 had 6857 active NOTAMs at launch time 2016-11-11 18:30:33\n",
      "LAUNCH_REC_ID 276 had 6796 active NOTAMs at launch time 2016-11-19 23:42:00\n",
      "LAUNCH_REC_ID 277 had 8454 active NOTAMs at launch time 2016-11-30 10:04:00\n",
      "LAUNCH_REC_ID 278 had 9344 active NOTAMs at launch time 2016-12-03 03:36:00\n",
      "LAUNCH_REC_ID 279 had 10107 active NOTAMs at launch time 2016-12-07 23:53:00\n",
      "LAUNCH_REC_ID 280 had 10388 active NOTAMs at launch time 2016-12-14 12:00:00\n",
      "LAUNCH_REC_ID 281 had 10388 active NOTAMs at launch time 2016-12-14 12:00:00\n",
      "LAUNCH_REC_ID 282 had 11077 active NOTAMs at launch time 2016-12-15 04:19:00\n",
      "LAUNCH_REC_ID 283 had 11729 active NOTAMs at launch time 2016-12-15 13:37:21\n",
      "LAUNCH_REC_ID 284 had 11521 active NOTAMs at launch time 2016-12-18 19:13:00\n",
      "LAUNCH_REC_ID 285 had 11452 active NOTAMs at launch time 2016-12-22 10:04:00\n",
      "LAUNCH_REC_ID 286 had 7669 active NOTAMs at launch time 2017-01-14 15:18:00\n",
      "LAUNCH_REC_ID 287 had 7509 active NOTAMs at launch time 2017-01-21 00:42:00\n",
      "LAUNCH_REC_ID 288 had 8580 active NOTAMs at launch time 2017-01-27 01:40:00\n",
      "LAUNCH_REC_ID 289 had 9957 active NOTAMs at launch time 2017-02-03 20:38:00\n",
      "LAUNCH_REC_ID 290 had 11382 active NOTAMs at launch time 2017-02-08 19:40:00\n",
      "LAUNCH_REC_ID 291 had 11386 active NOTAMs at launch time 2017-02-13 23:31:00\n",
      "LAUNCH_REC_ID 292 had 11397 active NOTAMs at launch time 2017-02-14 02:24:00\n",
      "LAUNCH_REC_ID 293 had 12044 active NOTAMs at launch time 2017-02-14 12:00:00\n",
      "LAUNCH_REC_ID 294 had 13232 active NOTAMs at launch time 2017-02-15 12:00:00\n",
      "LAUNCH_REC_ID 295 had 11990 active NOTAMs at launch time 2017-02-18 14:58:00\n",
      "LAUNCH_REC_ID 296 had 11878 active NOTAMs at launch time 2017-02-19 14:39:00\n",
      "LAUNCH_REC_ID 297 had 12960 active NOTAMs at launch time 2017-02-21 22:19:00\n",
      "LAUNCH_REC_ID 298 had 14743 active NOTAMs at launch time 2017-02-24 06:14:00\n",
      "LAUNCH_REC_ID 299 had 13267 active NOTAMs at launch time 2017-03-01 17:45:00\n",
      "LAUNCH_REC_ID 300 had 13267 active NOTAMs at launch time 2017-03-01 17:45:00\n",
      "LAUNCH_REC_ID 301 had 13268 active NOTAMs at launch time 2017-03-01 17:49:51\n",
      "LAUNCH_REC_ID 302 had 13531 active NOTAMs at launch time 2017-03-01 19:55:00\n",
      "LAUNCH_REC_ID 303 had 11338 active NOTAMs at launch time 2017-03-14 05:29:00\n",
      "LAUNCH_REC_ID 304 had 13588 active NOTAMs at launch time 2017-03-16 06:00:00\n",
      "LAUNCH_REC_ID 305 had 11992 active NOTAMs at launch time 2017-03-18 23:44:00\n",
      "LAUNCH_REC_ID 306 had 11659 active NOTAMs at launch time 2017-03-19 14:30:00\n",
      "LAUNCH_REC_ID 307 had 11810 active NOTAMs at launch time 2017-03-30 22:27:00\n",
      "LAUNCH_REC_ID 308 had 9332 active NOTAMs at launch time 2017-04-18 15:11:26\n",
      "LAUNCH_REC_ID 309 had 10314 active NOTAMs at launch time 2017-04-25 18:57:00\n",
      "LAUNCH_REC_ID 310 had 9746 active NOTAMs at launch time 2017-04-30 10:55:00\n",
      "LAUNCH_REC_ID 311 had 9638 active NOTAMs at launch time 2017-05-01 05:31:00\n",
      "LAUNCH_REC_ID 312 had 9912 active NOTAMs at launch time 2017-05-01 11:15:00\n",
      "LAUNCH_REC_ID 313 had 12490 active NOTAMs at launch time 2017-05-02 18:57:00\n",
      "LAUNCH_REC_ID 314 had 13702 active NOTAMs at launch time 2017-05-05 06:28:00\n",
      "LAUNCH_REC_ID 315 had 10966 active NOTAMs at launch time 2017-05-15 21:50:00\n",
      "LAUNCH_REC_ID 316 had 10952 active NOTAMs at launch time 2017-05-15 23:21:00\n",
      "LAUNCH_REC_ID 317 had 9423 active NOTAMs at launch time 2017-05-30 07:26:00\n",
      "LAUNCH_REC_ID 318 had 11063 active NOTAMs at launch time 2017-06-01 06:00:00\n",
      "LAUNCH_REC_ID 319 had 10599 active NOTAMs at launch time 2017-06-01 21:47:00\n",
      "LAUNCH_REC_ID 320 had 7895 active NOTAMs at launch time 2017-06-03 21:07:38\n",
      "LAUNCH_REC_ID 321 had 7017 active NOTAMs at launch time 2017-06-14 03:50:00\n",
      "LAUNCH_REC_ID 322 had 8143 active NOTAMs at launch time 2017-06-21 17:16:00\n",
      "LAUNCH_REC_ID 323 had 8346 active NOTAMs at launch time 2017-06-21 21:36:00\n",
      "LAUNCH_REC_ID 324 had 11870 active NOTAMs at launch time 2017-06-23 19:10:00\n",
      "LAUNCH_REC_ID 325 had 10879 active NOTAMs at launch time 2017-06-25 20:25:14\n",
      "LAUNCH_REC_ID 326 had 11915 active NOTAMs at launch time 2017-06-26 17:16:00\n",
      "LAUNCH_REC_ID 327 had 14409 active NOTAMs at launch time 2017-06-28 20:24:00\n",
      "LAUNCH_REC_ID 328 had 14352 active NOTAMs at launch time 2017-06-28 21:15:00\n",
      "LAUNCH_REC_ID 329 had 11234 active NOTAMs at launch time 2017-07-02 00:00:00\n",
      "LAUNCH_REC_ID 330 had 10880 active NOTAMs at launch time 2017-07-03 00:00:00\n",
      "LAUNCH_REC_ID 331 had 11698 active NOTAMs at launch time 2017-07-03 11:50:00\n",
      "LAUNCH_REC_ID 332 had 13340 active NOTAMs at launch time 2017-07-05 23:38:00\n",
      "LAUNCH_REC_ID 333 had 12433 active NOTAMs at launch time 2017-07-10 12:00:00\n",
      "LAUNCH_REC_ID 334 had 11506 active NOTAMs at launch time 2017-07-29 12:00:00\n",
      "LAUNCH_REC_ID 335 had 11506 active NOTAMs at launch time 2017-07-29 12:00:00\n",
      "LAUNCH_REC_ID 336 had 10881 active NOTAMs at launch time 2017-08-01 21:07:00\n",
      "LAUNCH_REC_ID 337 had 12838 active NOTAMs at launch time 2017-08-03 12:00:00\n",
      "LAUNCH_REC_ID 338 had 9864 active NOTAMs at launch time 2017-08-12 21:36:00\n",
      "LAUNCH_REC_ID 339 had 11221 active NOTAMs at launch time 2017-08-14 16:31:37\n",
      "LAUNCH_REC_ID 340 had 13399 active NOTAMs at launch time 2017-08-18 12:29:00\n",
      "LAUNCH_REC_ID 341 had 13721 active NOTAMs at launch time 2017-08-24 18:51:00\n",
      "LAUNCH_REC_ID 342 had 14173 active NOTAMs at launch time 2017-08-26 06:04:00\n",
      "LAUNCH_REC_ID 343 had 13991 active NOTAMs at launch time 2017-08-28 12:00:00\n",
      "LAUNCH_REC_ID 344 had 13991 active NOTAMs at launch time 2017-08-28 12:00:00\n",
      "LAUNCH_REC_ID 345 had 11643 active NOTAMs at launch time 2017-09-07 14:00:00\n",
      "LAUNCH_REC_ID 346 had 10104 active NOTAMs at launch time 2017-09-17 13:55:00\n",
      "LAUNCH_REC_ID 347 had 9754 active NOTAMs at launch time 2017-09-24 05:49:47\n",
      "LAUNCH_REC_ID 348 had 9816 active NOTAMs at launch time 2017-10-02 22:48:00\n",
      "LAUNCH_REC_ID 349 had 12838 active NOTAMs at launch time 2017-10-05 08:00:00\n"
     ]
    },
    {
     "name": "stdout",
     "output_type": "stream",
     "text": [
      "LAUNCH_REC_ID 350 had 13557 active NOTAMs at launch time 2017-10-06 08:00:00\n",
      "LAUNCH_REC_ID 351 had 13521 active NOTAMs at launch time 2017-10-07 07:59:00\n",
      "LAUNCH_REC_ID 352 had 13048 active NOTAMs at launch time 2017-10-09 12:37:01\n",
      "LAUNCH_REC_ID 353 had 14403 active NOTAMs at launch time 2017-10-11 22:53:00\n",
      "LAUNCH_REC_ID 354 had 16122 active NOTAMs at launch time 2017-10-14 07:31:00\n",
      "LAUNCH_REC_ID 355 had 15416 active NOTAMs at launch time 2017-10-15 07:28:00\n",
      "LAUNCH_REC_ID 356 had 10573 active NOTAMs at launch time 2017-10-29 22:04:00\n",
      "LAUNCH_REC_ID 357 had 10586 active NOTAMs at launch time 2017-10-30 00:57:00\n",
      "LAUNCH_REC_ID 358 had 12310 active NOTAMs at launch time 2017-10-30 19:34:00\n",
      "LAUNCH_REC_ID 359 had 13130 active NOTAMs at launch time 2017-10-31 21:37:00\n",
      "LAUNCH_REC_ID 360 had 9525 active NOTAMs at launch time 2017-11-11 12:30:00\n",
      "LAUNCH_REC_ID 361 had 9662 active NOTAMs at launch time 2017-11-12 12:19:51\n",
      "LAUNCH_REC_ID 362 had 11526 active NOTAMs at launch time 2017-11-14 09:47:00\n",
      "LAUNCH_REC_ID 363 had 12621 active NOTAMs at launch time 2017-11-15 09:47:00\n",
      "LAUNCH_REC_ID 364 had 13320 active NOTAMs at launch time 2017-11-16 02:52:00\n",
      "LAUNCH_REC_ID 365 had 13548 active NOTAMs at launch time 2017-11-18 09:47:36\n",
      "LAUNCH_REC_ID 366 had 8750 active NOTAMs at launch time 2017-12-08 09:47:00\n",
      "LAUNCH_REC_ID 367 had 9812 active NOTAMs at launch time 2017-12-09 09:47:00\n",
      "LAUNCH_REC_ID 368 had 10402 active NOTAMs at launch time 2017-12-12 00:00:00\n",
      "LAUNCH_REC_ID 369 had 10727 active NOTAMs at launch time 2017-12-12 09:47:00\n",
      "LAUNCH_REC_ID 370 had 11748 active NOTAMs at launch time 2017-12-13 09:47:00\n",
      "LAUNCH_REC_ID 371 had 13889 active NOTAMs at launch time 2017-12-15 15:36:09\n",
      "LAUNCH_REC_ID 372 had 10576 active NOTAMs at launch time 2017-12-23 01:27:34\n",
      "LAUNCH_REC_ID 373 had 8340 active NOTAMs at launch time 2018-01-08 01:00:00\n",
      "LAUNCH_REC_ID 374 had 11177 active NOTAMs at launch time 2018-01-10 12:00:00\n",
      "LAUNCH_REC_ID 375 had 12127 active NOTAMs at launch time 2018-01-10 21:00:00\n",
      "LAUNCH_REC_ID 376 had 13015 active NOTAMs at launch time 2018-01-11 21:00:00\n",
      "LAUNCH_REC_ID 377 had 13511 active NOTAMs at launch time 2018-01-12 22:11:00\n",
      "LAUNCH_REC_ID 378 had 13343 active NOTAMs at launch time 2018-01-13 15:15:00\n",
      "LAUNCH_REC_ID 379 had 11669 active NOTAMs at launch time 2018-01-20 00:48:00\n",
      "LAUNCH_REC_ID 380 had 11313 active NOTAMs at launch time 2018-01-30 12:00:00\n",
      "LAUNCH_REC_ID 381 had 11313 active NOTAMs at launch time 2018-01-30 12:00:00\n",
      "LAUNCH_REC_ID 382 had 12134 active NOTAMs at launch time 2018-01-30 21:18:00\n",
      "LAUNCH_REC_ID 383 had 13021 active NOTAMs at launch time 2018-01-31 21:25:00\n",
      "LAUNCH_REC_ID 384 had 12536 active NOTAMs at launch time 2018-02-06 20:45:00\n",
      "LAUNCH_REC_ID 385 had 10613 active NOTAMs at launch time 2018-02-22 14:17:00\n",
      "LAUNCH_REC_ID 386 had 10798 active NOTAMs at launch time 2018-03-01 22:02:00\n",
      "LAUNCH_REC_ID 387 had 11280 active NOTAMs at launch time 2018-03-06 05:33:00\n",
      "LAUNCH_REC_ID 388 had 9084 active NOTAMs at launch time 2018-03-24 22:48:00\n",
      "LAUNCH_REC_ID 389 had 10916 active NOTAMs at launch time 2018-03-30 14:13:51\n",
      "LAUNCH_REC_ID 390 had 10473 active NOTAMs at launch time 2018-03-31 04:19:00\n",
      "LAUNCH_REC_ID 391 had 9940 active NOTAMs at launch time 2018-04-02 20:30:38\n",
      "LAUNCH_REC_ID 392 had 12724 active NOTAMs at launch time 2018-04-05 00:00:00\n",
      "LAUNCH_REC_ID 393 had 13275 active NOTAMs at launch time 2018-04-05 12:00:00\n",
      "LAUNCH_REC_ID 394 had 10574 active NOTAMs at launch time 2018-04-14 23:13:00\n",
      "LAUNCH_REC_ID 395 had 12428 active NOTAMs at launch time 2018-04-18 22:51:30\n",
      "LAUNCH_REC_ID 396 had 12015 active NOTAMs at launch time 2018-04-25 00:28:00\n",
      "LAUNCH_REC_ID 397 had 11334 active NOTAMs at launch time 2018-04-29 05:02:00\n",
      "LAUNCH_REC_ID 398 had 9692 active NOTAMs at launch time 2018-05-05 00:00:00\n",
      "LAUNCH_REC_ID 399 had 10167 active NOTAMs at launch time 2018-05-05 11:05:00\n",
      "LAUNCH_REC_ID 400 had 11000 active NOTAMs at launch time 2018-05-11 20:14:00\n",
      "LAUNCH_REC_ID 401 had 10657 active NOTAMs at launch time 2018-05-13 20:24:00\n",
      "LAUNCH_REC_ID 402 had 9543 active NOTAMs at launch time 2018-05-21 08:44:06\n",
      "LAUNCH_REC_ID 403 had 11303 active NOTAMs at launch time 2018-05-22 12:00:00\n",
      "LAUNCH_REC_ID 404 had 12195 active NOTAMs at launch time 2018-05-22 19:47:58\n",
      "LAUNCH_REC_ID 405 had 10327 active NOTAMs at launch time 2018-05-28 12:00:00\n",
      "LAUNCH_REC_ID 406 had 10636 active NOTAMs at launch time 2018-05-29 06:57:00\n",
      "LAUNCH_REC_ID 407 had 9111 active NOTAMs at launch time 2018-06-04 04:45:00\n",
      "LAUNCH_REC_ID 408 had 8330 active NOTAMs at launch time 2018-06-18 06:57:00\n",
      "LAUNCH_REC_ID 409 had 11341 active NOTAMs at launch time 2018-06-20 21:36:00\n",
      "LAUNCH_REC_ID 410 had 10933 active NOTAMs at launch time 2018-06-29 09:42:42\n",
      "LAUNCH_REC_ID 411 had 9338 active NOTAMs at launch time 2018-07-18 03:07:00\n",
      "LAUNCH_REC_ID 412 had 12316 active NOTAMs at launch time 2018-07-20 00:00:00\n",
      "LAUNCH_REC_ID 413 had 12061 active NOTAMs at launch time 2018-07-22 05:50:00\n",
      "LAUNCH_REC_ID 414 had 11504 active NOTAMs at launch time 2018-07-22 18:00:00\n",
      "LAUNCH_REC_ID 415 had 13085 active NOTAMs at launch time 2018-07-25 11:39:30\n",
      "LAUNCH_REC_ID 416 had 13472 active NOTAMs at launch time 2018-07-26 04:48:00\n",
      "LAUNCH_REC_ID 417 had 9097 active NOTAMs at launch time 2018-07-30 23:31:00\n",
      "LAUNCH_REC_ID 418 had 7761 active NOTAMs at launch time 2018-08-03 00:00:00\n",
      "LAUNCH_REC_ID 419 had 7709 active NOTAMs at launch time 2018-08-07 05:18:00\n",
      "LAUNCH_REC_ID 420 had 8632 active NOTAMs at launch time 2018-08-12 07:31:00\n",
      "LAUNCH_REC_ID 421 had 10157 active NOTAMs at launch time 2018-08-13 22:19:00\n",
      "LAUNCH_REC_ID 422 had 7523 active NOTAMs at launch time 2018-08-25 06:14:00\n",
      "LAUNCH_REC_ID 423 had 6757 active NOTAMs at launch time 2018-09-07 01:26:00\n",
      "LAUNCH_REC_ID 424 had 6901 active NOTAMs at launch time 2018-09-07 05:16:00\n",
      "LAUNCH_REC_ID 425 had 6779 active NOTAMs at launch time 2018-09-10 04:45:00\n",
      "LAUNCH_REC_ID 426 had 8385 active NOTAMs at launch time 2018-09-11 20:38:00\n",
      "LAUNCH_REC_ID 427 had 8338 active NOTAMs at launch time 2018-09-12 00:57:00\n",
      "LAUNCH_REC_ID 428 had 8393 active NOTAMs at launch time 2018-09-12 02:38:00\n",
      "LAUNCH_REC_ID 429 had 6740 active NOTAMs at launch time 2018-09-17 02:09:00\n",
      "LAUNCH_REC_ID 430 had 4619 active NOTAMs at launch time 2018-10-08 02:21:28\n",
      "LAUNCH_REC_ID 431 had 6057 active NOTAMs at launch time 2018-10-17 04:15:00\n",
      "LAUNCH_REC_ID 432 had 6576 active NOTAMs at launch time 2018-10-25 12:00:00\n",
      "LAUNCH_REC_ID 433 had 6397 active NOTAMs at launch time 2018-11-06 18:57:00\n",
      "LAUNCH_REC_ID 434 had 7367 active NOTAMs at launch time 2018-11-15 20:46:00\n",
      "LAUNCH_REC_ID 435 had 8422 active NOTAMs at launch time 2018-11-17 09:01:31\n",
      "LAUNCH_REC_ID 436 had 7075 active NOTAMs at launch time 2018-11-29 00:00:00\n",
      "LAUNCH_REC_ID 437 had 7304 active NOTAMs at launch time 2018-12-03 18:34:05\n",
      "LAUNCH_REC_ID 438 had 9961 active NOTAMs at launch time 2018-12-05 18:16:16\n",
      "LAUNCH_REC_ID 439 had 7703 active NOTAMs at launch time 2018-12-09 12:00:00\n",
      "LAUNCH_REC_ID 440 had 9126 active NOTAMs at launch time 2018-12-13 00:00:00\n",
      "LAUNCH_REC_ID 441 had 7961 active NOTAMs at launch time 2018-12-17 19:40:00\n",
      "LAUNCH_REC_ID 442 had 6512 active NOTAMs at launch time 2018-12-23 13:51:00\n",
      "LAUNCH_REC_ID 443 had 6233 active NOTAMs at launch time 2019-01-11 15:31:33\n",
      "LAUNCH_REC_ID 444 had 6835 active NOTAMs at launch time 2019-01-13 00:00:00\n",
      "LAUNCH_REC_ID 445 had 6256 active NOTAMs at launch time 2019-01-19 19:10:00\n",
      "LAUNCH_REC_ID 446 had 6960 active NOTAMs at launch time 2019-01-23 00:00:00\n",
      "LAUNCH_REC_ID 447 had 7451 active NOTAMs at launch time 2019-02-05 18:57:00\n",
      "LAUNCH_REC_ID 448 had 7697 active NOTAMs at launch time 2019-02-22 00:00:00\n",
      "LAUNCH_REC_ID 449 had 7689 active NOTAMs at launch time 2019-02-22 01:45:00\n",
      "LAUNCH_REC_ID 450 had 7961 active NOTAMs at launch time 2019-03-02 00:00:00\n",
      "LAUNCH_REC_ID 451 had 8012 active NOTAMs at launch time 2019-03-02 07:49:03\n",
      "LAUNCH_REC_ID 452 had 7722 active NOTAMs at launch time 2019-03-16 00:26:00\n",
      "LAUNCH_REC_ID 453 had 6192 active NOTAMs at launch time 2019-03-25 05:31:00\n",
      "LAUNCH_REC_ID 454 had 6192 active NOTAMs at launch time 2019-03-25 05:31:00\n",
      "LAUNCH_REC_ID 455 had 7747 active NOTAMs at launch time 2019-04-11 04:48:00\n",
      "LAUNCH_REC_ID 456 had 9108 active NOTAMs at launch time 2019-04-11 22:35:00\n",
      "LAUNCH_REC_ID 457 had 9127 active NOTAMs at launch time 2019-04-17 20:46:07\n",
      "LAUNCH_REC_ID 458 had 10255 active NOTAMs at launch time 2019-04-20 12:00:00\n",
      "LAUNCH_REC_ID 459 had 10045 active NOTAMs at launch time 2019-04-22 12:00:00\n",
      "LAUNCH_REC_ID 460 had 11078 active NOTAMs at launch time 2019-04-23 12:00:00\n",
      "LAUNCH_REC_ID 461 had 9619 active NOTAMs at launch time 2019-04-30 21:36:00\n",
      "LAUNCH_REC_ID 462 had 10213 active NOTAMs at launch time 2019-05-02 00:00:00\n",
      "LAUNCH_REC_ID 463 had 11580 active NOTAMs at launch time 2019-05-04 06:48:58\n",
      "LAUNCH_REC_ID 464 had 11064 active NOTAMs at launch time 2019-05-08 12:00:00\n",
      "LAUNCH_REC_ID 465 had 11720 active NOTAMs at launch time 2019-05-08 19:40:00\n",
      "LAUNCH_REC_ID 466 had 8444 active NOTAMs at launch time 2019-05-24 02:30:00\n",
      "LAUNCH_REC_ID 467 had 5971 active NOTAMs at launch time 2019-06-03 00:00:00\n"
     ]
    },
    {
     "name": "stdout",
     "output_type": "stream",
     "text": [
      "LAUNCH_REC_ID 468 had 7509 active NOTAMs at launch time 2019-06-12 14:17:10\n",
      "LAUNCH_REC_ID 469 had 8249 active NOTAMs at launch time 2019-06-19 21:36:00\n",
      "LAUNCH_REC_ID 470 had 8673 active NOTAMs at launch time 2019-06-25 06:30:00\n",
      "LAUNCH_REC_ID 471 had 6050 active NOTAMs at launch time 2019-07-01 00:00:00\n",
      "LAUNCH_REC_ID 472 had 7776 active NOTAMs at launch time 2019-07-01 23:02:00\n",
      "LAUNCH_REC_ID 473 had 7783 active NOTAMs at launch time 2019-07-25 00:00:00\n",
      "LAUNCH_REC_ID 474 had 7993 active NOTAMs at launch time 2019-07-25 22:01:56\n",
      "LAUNCH_REC_ID 475 had 7136 active NOTAMs at launch time 2019-08-06 23:23:00\n",
      "LAUNCH_REC_ID 476 had 9545 active NOTAMs at launch time 2019-08-08 10:13:00\n",
      "LAUNCH_REC_ID 477 had 9926 active NOTAMs at launch time 2019-08-10 18:00:00\n",
      "LAUNCH_REC_ID 478 had 9097 active NOTAMs at launch time 2019-08-11 21:50:00\n",
      "LAUNCH_REC_ID 479 had 9750 active NOTAMs at launch time 2019-08-22 13:06:00\n",
      "LAUNCH_REC_ID 480 had 9173 active NOTAMs at launch time 2019-08-27 00:00:00\n",
      "LAUNCH_REC_ID 481 had 9173 active NOTAMs at launch time 2019-08-27 00:00:00\n",
      "LAUNCH_REC_ID 482 had 8965 active NOTAMs at launch time 2019-09-03 12:00:00\n",
      "LAUNCH_REC_ID 483 had 8965 active NOTAMs at launch time 2019-09-03 12:00:00\n",
      "LAUNCH_REC_ID 484 had 12469 active NOTAMs at launch time 2019-09-05 12:00:00\n",
      "LAUNCH_REC_ID 485 had 12469 active NOTAMs at launch time 2019-09-05 12:00:00\n",
      "LAUNCH_REC_ID 486 had 10134 active NOTAMs at launch time 2019-09-17 21:36:00\n",
      "LAUNCH_REC_ID 487 had 7193 active NOTAMs at launch time 2019-09-30 06:00:00\n",
      "LAUNCH_REC_ID 488 had 8857 active NOTAMs at launch time 2019-10-01 20:09:00\n",
      "LAUNCH_REC_ID 489 had 6058 active NOTAMs at launch time 2019-10-07 02:52:00\n",
      "LAUNCH_REC_ID 490 had 9454 active NOTAMs at launch time 2019-10-11 01:59:00\n",
      "LAUNCH_REC_ID 491 had 8857 active NOTAMs at launch time 2019-10-24 12:00:00\n",
      "LAUNCH_REC_ID 492 had 10824 active NOTAMs at launch time 2019-10-26 00:00:00\n",
      "LAUNCH_REC_ID 493 had 10449 active NOTAMs at launch time 2019-10-27 16:33:00\n",
      "LAUNCH_REC_ID 494 had 7772 active NOTAMs at launch time 2019-11-02 13:59:47\n",
      "LAUNCH_REC_ID 495 had 6883 active NOTAMs at launch time 2019-11-11 14:56:00\n",
      "LAUNCH_REC_ID 496 had 7613 active NOTAMs at launch time 2019-11-22 03:21:00\n",
      "LAUNCH_REC_ID 497 had 7695 active NOTAMs at launch time 2019-12-05 17:29:24\n",
      "LAUNCH_REC_ID 498 had 8684 active NOTAMs at launch time 2019-12-11 00:00:00\n",
      "LAUNCH_REC_ID 499 had 7172 active NOTAMs at launch time 2019-12-16 23:10:00\n",
      "LAUNCH_REC_ID 500 had 9194 active NOTAMs at launch time 2019-12-20 11:36:43\n",
      "LAUNCH_REC_ID 501 had 5532 active NOTAMs at launch time 2020-01-07 02:19:21\n",
      "LAUNCH_REC_ID 502 had 6902 active NOTAMs at launch time 2020-01-07 23:59:59\n",
      "LAUNCH_REC_ID 503 had 3558 active NOTAMs at launch time 2020-01-19 00:00:00\n",
      "LAUNCH_REC_ID 504 had 3159 active NOTAMs at launch time 2020-01-27 01:40:00\n",
      "LAUNCH_REC_ID 505 had 4296 active NOTAMs at launch time 2020-01-29 14:06:49\n",
      "LAUNCH_REC_ID 506 had 2441 active NOTAMs at launch time 2020-02-04 20:38:00\n",
      "LAUNCH_REC_ID 507 had 1990 active NOTAMs at launch time 2020-02-10 04:03:00\n",
      "LAUNCH_REC_ID 508 had 1717 active NOTAMs at launch time 2020-02-15 20:21:04\n",
      "LAUNCH_REC_ID 509 had 1694 active NOTAMs at launch time 2020-02-17 15:05:55\n",
      "LAUNCH_REC_ID 510 had 3877 active NOTAMs at launch time 2020-03-07 04:50:31\n",
      "LAUNCH_REC_ID 511 had 5814 active NOTAMs at launch time 2020-03-18 12:16:39\n",
      "LAUNCH_REC_ID 512 had 6918 active NOTAMs at launch time 2020-03-26 20:18:00\n",
      "LAUNCH_REC_ID 513 had 6229 active NOTAMs at launch time 2020-04-07 00:00:00\n",
      "LAUNCH_REC_ID 514 had 5742 active NOTAMs at launch time 2020-04-22 19:30:30\n",
      "LAUNCH_REC_ID 515 had 3841 active NOTAMs at launch time 2020-05-17 13:14:00\n",
      "LAUNCH_REC_ID 516 had 4703 active NOTAMs at launch time 2020-05-25 18:50:00\n",
      "LAUNCH_REC_ID 517 had 5075 active NOTAMs at launch time 2020-05-30 19:22:45\n",
      "LAUNCH_REC_ID 518 had 3742 active NOTAMs at launch time 2020-06-04 01:25:33\n"
     ]
    }
   ],
   "source": [
    "for i in i_launch:\n",
    "    j = i-1  ## index value is one less than i\n",
    "    time = dtg_launch.at[j,'LAUNCH_DATE']\n",
    "\n",
    "    # Date filter\n",
    "    filter_dtg = dtg_90days[(dtg_90days['POSSIBLE_START_DATE'] <= time) & (dtg_90days['POSSIBLE_END_DATE'] >= time)]\n",
    "\n",
    "    dtg_launch.at[j,'NOTAM_COUNT'] = len(filter_dtg)\n",
    "\n",
    "    print(f'LAUNCH_REC_ID {i} had {len(filter_dtg)} active NOTAMs at launch time {time}')"
   ]
  },
  {
   "cell_type": "code",
   "execution_count": 13,
   "id": "6e7d4b4f",
   "metadata": {},
   "outputs": [
    {
     "name": "stdout",
     "output_type": "stream",
     "text": [
      "     LAUNCHES_REC_ID          LAUNCH_DATE  ORIG_NOTAM_COUNT  NOTAM_COUNT\n",
      "0                  1  2013-01-05 00:00:00             134.0          0.0\n",
      "1                  2  2013-01-26 22:00:00             139.0          0.0\n",
      "2                  3  2013-01-26 22:50:00             139.0          0.0\n",
      "3                  4  2013-01-31 01:48:00             142.0          0.0\n",
      "4                  5  2013-02-01 06:56:00             142.0          0.0\n",
      "..               ...                  ...               ...          ...\n",
      "513              514  2020-04-22 19:30:30            8601.0       5742.0\n",
      "514              515  2020-05-17 13:14:00            6503.0       3841.0\n",
      "515              516  2020-05-25 18:50:00            7362.0       4703.0\n",
      "516              517  2020-05-30 19:22:45            7742.0       5075.0\n",
      "517              518  2020-06-04 01:25:33            6406.0       3742.0\n",
      "\n",
      "[518 rows x 4 columns]\n"
     ]
    }
   ],
   "source": [
    "print(dtg_launch)"
   ]
  },
  {
   "cell_type": "code",
   "execution_count": 14,
   "id": "8a272533",
   "metadata": {},
   "outputs": [
    {
     "data": {
      "text/plain": [
       "<seaborn.axisgrid.FacetGrid at 0x28d9f438df0>"
      ]
     },
     "execution_count": 14,
     "metadata": {},
     "output_type": "execute_result"
    },
    {
     "data": {
      "image/png": "[encoded data removed]",
      "text/plain": [
       "<Figure size 360x360 with 1 Axes>"
      ]
     },
     "metadata": {
      "needs_background": "light"
     },
     "output_type": "display_data"
    }
   ],
   "source": [
    "# sns.boxplot(x=dtg_launch['LAUNCH_DATE'], y=dtg_launch['NOTAM_COUNT'])\n",
    "\n",
    "sns.displot(dtg_launch['NOTAM_COUNT'], bins=10)"
   ]
  },
  {
   "cell_type": "code",
   "execution_count": 15,
   "id": "08b685a5",
   "metadata": {},
   "outputs": [
    {
     "data": {
      "text/plain": [
       "<AxesSubplot:xlabel='NOTAM_COUNT', ylabel='Count'>"
      ]
     },
     "execution_count": 15,
     "metadata": {},
     "output_type": "execute_result"
    },
    {
     "data": {
      "image/png": "[encoded data removed]",
      "text/plain": [
       "<Figure size 432x288 with 1 Axes>"
      ]
     },
     "metadata": {
      "needs_background": "light"
     },
     "output_type": "display_data"
    }
   ],
   "source": [
    "sns.histplot(dtg_launch['NOTAM_COUNT'], bins=10)"
   ]
  },
  {
   "cell_type": "code",
   "execution_count": 16,
   "id": "1261b3d1",
   "metadata": {},
   "outputs": [
    {
     "data": {
      "text/plain": [
       "<AxesSubplot:xlabel='ORIG_NOTAM_COUNT', ylabel='Count'>"
      ]
     },
     "execution_count": 16,
     "metadata": {},
     "output_type": "execute_result"
    },
    {
     "data": {
      "image/png": "[encoded data removed]",
      "text/plain": [
       "<Figure size 432x288 with 1 Axes>"
      ]
     },
     "metadata": {
      "needs_background": "light"
     },
     "output_type": "display_data"
    }
   ],
   "source": [
    "sns.histplot(dtg_launch['ORIG_NOTAM_COUNT'], bins=10)"
   ]
  },
  {
   "cell_type": "code",
   "execution_count": 17,
   "id": "5ba2af04",
   "metadata": {},
   "outputs": [
    {
     "data": {
      "text/plain": [
       "<seaborn.axisgrid.JointGrid at 0x28d9fc5c820>"
      ]
     },
     "execution_count": 17,
     "metadata": {},
     "output_type": "execute_result"
    },
    {
     "data": {
      "image/png": "[encoded data removed]",
      "text/plain": [
       "<Figure size 432x432 with 3 Axes>"
      ]
     },
     "metadata": {
      "needs_background": "light"
     },
     "output_type": "display_data"
    }
   ],
   "source": [
    "sns.jointplot(x = \"LAUNCH_DATE\", y = \"NOTAM_COUNT\", data = dtg_launch, color=\"purple\")"
   ]
  },
  {
   "cell_type": "code",
   "execution_count": 18,
   "id": "65c95476",
   "metadata": {},
   "outputs": [
    {
     "name": "stdout",
     "output_type": "stream",
     "text": [
      "     LAUNCHES_REC_ID          LAUNCH_DATE  ORIG_NOTAM_COUNT  NOTAM_COUNT  \\\n",
      "0                  1  2013-01-05 00:00:00             134.0          0.0   \n",
      "1                  2  2013-01-26 22:00:00             139.0          0.0   \n",
      "2                  3  2013-01-26 22:50:00             139.0          0.0   \n",
      "3                  4  2013-01-31 01:48:00             142.0          0.0   \n",
      "4                  5  2013-02-01 06:56:00             142.0          0.0   \n",
      "..               ...                  ...               ...          ...   \n",
      "513              514  2020-04-22 19:30:30            8601.0       5742.0   \n",
      "514              515  2020-05-17 13:14:00            6503.0       3841.0   \n",
      "515              516  2020-05-25 18:50:00            7362.0       4703.0   \n",
      "516              517  2020-05-30 19:22:45            7742.0       5075.0   \n",
      "517              518  2020-06-04 01:25:33            6406.0       3742.0   \n",
      "\n",
      "     year  month  \n",
      "0    2013      1  \n",
      "1    2013      1  \n",
      "2    2013      1  \n",
      "3    2013      1  \n",
      "4    2013      2  \n",
      "..    ...    ...  \n",
      "513  2020      4  \n",
      "514  2020      5  \n",
      "515  2020      5  \n",
      "516  2020      5  \n",
      "517  2020      6  \n",
      "\n",
      "[518 rows x 6 columns]\n"
     ]
    }
   ],
   "source": [
    "## Extract date and year to get better graphs\n",
    "\n",
    "dtg_launch['year'] = pd.DatetimeIndex(dtg_launch['LAUNCH_DATE']).year\n",
    "dtg_launch['month'] = pd.DatetimeIndex(dtg_launch['LAUNCH_DATE']).month\n",
    "print(dtg_launch)"
   ]
  },
  {
   "cell_type": "code",
   "execution_count": 19,
   "id": "75872816",
   "metadata": {},
   "outputs": [
    {
     "data": {
      "text/plain": [
       "<seaborn.axisgrid.JointGrid at 0x28e0a9bcbb0>"
      ]
     },
     "execution_count": 19,
     "metadata": {},
     "output_type": "execute_result"
    },
    {
     "data": {
      "image/png": "[encoded data removed]",
      "text/plain": [
       "<Figure size 432x432 with 3 Axes>"
      ]
     },
     "metadata": {
      "needs_background": "light"
     },
     "output_type": "display_data"
    }
   ],
   "source": [
    "sns.jointplot(x = \"year\", y = \"NOTAM_COUNT\", data = dtg_launch, color=\"purple\")"
   ]
  },
  {
   "cell_type": "code",
   "execution_count": 20,
   "id": "17b2d06b",
   "metadata": {},
   "outputs": [
    {
     "data": {
      "text/plain": [
       "<AxesSubplot:xlabel='year', ylabel='Count'>"
      ]
     },
     "execution_count": 20,
     "metadata": {},
     "output_type": "execute_result"
    },
    {
     "data": {
      "image/png": "[encoded data removed]",
      "text/plain": [
       "<Figure size 432x288 with 1 Axes>"
      ]
     },
     "metadata": {
      "needs_background": "light"
     },
     "output_type": "display_data"
    }
   ],
   "source": [
    "## Launches by year\n",
    "sns.histplot(dtg_launch['year'], bins=8)"
   ]
  },
  {
   "cell_type": "code",
   "execution_count": 21,
   "id": "7567891e",
   "metadata": {},
   "outputs": [
    {
     "data": {
      "text/plain": [
       "<AxesSubplot:xlabel='month', ylabel='Count'>"
      ]
     },
     "execution_count": 21,
     "metadata": {},
     "output_type": "execute_result"
    },
    {
     "data": {
      "image/png": "[encoded data removed]",
      "text/plain": [
       "<Figure size 432x288 with 1 Axes>"
      ]
     },
     "metadata": {
      "needs_background": "light"
     },
     "output_type": "display_data"
    }
   ],
   "source": [
    "## Launches by month, regardless of year\n",
    "sns.histplot(dtg_launch['month'], bins=12)"
   ]
  },
  {
   "cell_type": "code",
   "execution_count": 22,
   "id": "918e05c7",
   "metadata": {},
   "outputs": [
    {
     "data": {
      "image/png": "[encoded data removed]",
      "text/plain": [
       "<Figure size 432x288 with 1 Axes>"
      ]
     },
     "metadata": {
      "needs_background": "light"
     },
     "output_type": "display_data"
    }
   ],
   "source": [
    "p = sns.stripplot(x = 'NOTAM_COUNT', y = \"year\", data = dtg_launch, size = 5)\n",
    "\n",
    "# remove the top and right line in graph\n",
    "sns.despine()\n",
    "# p.figure.set_size_inches(12,16)\n",
    "plt.show()"
   ]
  },
  {
   "cell_type": "code",
   "execution_count": 23,
   "id": "79020a6a",
   "metadata": {},
   "outputs": [
    {
     "data": {
      "image/png": "[encoded data removed]",
      "text/plain": [
       "<Figure size 432x288 with 1 Axes>"
      ]
     },
     "metadata": {},
     "output_type": "display_data"
    }
   ],
   "source": [
    "# sns.set_theme(style=\"whitegrid\")\n",
    "sns.set_theme(style=\"ticks\")\n",
    "\n",
    "ax = sns.stripplot(x=\"NOTAM_COUNT\", y=\"year\", data=dtg_launch, linewidth=0.5)"
   ]
  },
  {
   "cell_type": "code",
   "execution_count": 24,
   "id": "b17dffcc",
   "metadata": {},
   "outputs": [
    {
     "data": {
      "image/png": "[encoded data removed]",
      "text/plain": [
       "<Figure size 432x288 with 1 Axes>"
      ]
     },
     "metadata": {},
     "output_type": "display_data"
    }
   ],
   "source": [
    "## Show notam counts for launches by year\n",
    "ax = sns.violinplot(x=\"year\", y=\"NOTAM_COUNT\", data=dtg_launch, color=\"0.8\")\n",
    "ax = sns.stripplot(x=\"year\", y=\"NOTAM_COUNT\", data=dtg_launch)"
   ]
  },
  {
   "cell_type": "code",
   "execution_count": null,
   "id": "06ec72da",
   "metadata": {},
   "outputs": [],
   "source": []
  }
 ],
 "metadata": {
  "kernelspec": {
   "display_name": "Python 3 (ipykernel)",
   "language": "python",
   "name": "python3"
  },
  "language_info": {
   "codemirror_mode": {
    "name": "ipython",
    "version": 3
   },
   "file_extension": ".py",
   "mimetype": "text/x-python",
   "name": "python",
   "nbconvert_exporter": "python",
   "pygments_lexer": "ipython3",
   "version": "3.8.13"
  }
 },
 "nbformat": 4,
 "nbformat_minor": 5
}
