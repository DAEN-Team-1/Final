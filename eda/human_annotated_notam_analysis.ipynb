{
 "cells": [
  {
   "cell_type": "markdown",
   "id": "ddf3a303-2db2-44a2-ae0d-beeaf7885aa9",
   "metadata": {
    "tags": []
   },
   "source": [
    "# Human Annotated NOTAM Analysis\n",
    "\n",
    "Please note that the data for this analysis is saved locally in a `MatchingLaunchNOTAM_GMUCapstone_20220603` folder that is one level above (a parent folder) to where the [GitHub](https://github.com/DAEN-Team-1/Final \"GitHub\") files have been saved. This was done because a lot of the data files are too large to be included in the GitHub repoo."
   ]
  },
  {
   "cell_type": "code",
   "execution_count": 1,
   "id": "4a2f8dce-fc83-4c88-a53c-eb88dad88747",
   "metadata": {},
   "outputs": [],
   "source": [
    "# imports\n",
    "import pandas as pd\n",
    "import numpy  as np\n",
    "import seaborn as sns\n",
    "import matplotlib.pyplot as plt"
   ]
  },
  {
   "cell_type": "markdown",
   "id": "87f808e1-b393-4da7-b4ae-1c252a49ab21",
   "metadata": {},
   "source": [
    "Read in data"
   ]
  },
  {
   "cell_type": "code",
   "execution_count": 2,
   "id": "e4af64bb-cd26-4263-9e62-807bce7ace97",
   "metadata": {},
   "outputs": [],
   "source": [
    "# Read in csv (not enough headers for data, so using custom one)\n",
    "names = ['LAUNCHES_REC_ID', 'NOTAM_REC_ID', 'LowerAltitude', 'UpperAltitude', 'IssueTime', 'StartTime', 'StopTime', 'E_CODE',\n",
    "         '0_no_header', '1_no_header', '2_no_header', '3_no_header', '4_no_header', '5_no_header', '6_no_header', '7_no_header',\n",
    "         '8_no_header', '9_no_header', '10_no_header', '11_no_header', '12_no_header', '13_no_header', '14_no_header']\n",
    "\n",
    "df = pd.read_csv('data/HumanAnnotatedMatches_SVO_DB_20200127_pipes_noquotes.csv',\n",
    "                 encoding='UTF-8', on_bad_lines='skip', engine=\"python\", delimiter='|',\n",
    "                 names=names)               "
   ]
  },
  {
   "cell_type": "code",
   "execution_count": 3,
   "id": "41eb8217-42e9-4979-9e81-60af310cdbe8",
   "metadata": {},
   "outputs": [],
   "source": [
    "# Merge unlabeled columns\n",
    "cmnt_names = ['0_no_header', '1_no_header', '2_no_header', '3_no_header', '4_no_header', '5_no_header', '6_no_header', '7_no_header',\n",
    "              '8_no_header', '9_no_header', '10_no_header', '11_no_header', '12_no_header', '13_no_header', '14_no_header']\n",
    "\n",
    "df['Text'] = df[cmnt_names].apply(lambda x: ','.join(x.dropna().astype(str)), axis=1)\n",
    "\n",
    "# Replace empyty strings with NaNs\n",
    "df['Text'].replace(r'^\\s*$', np.nan, regex=True, inplace=True)\n",
    "\n",
    "df.drop(cmnt_names, axis=1, inplace=True)"
   ]
  },
  {
   "cell_type": "code",
   "execution_count": 4,
   "id": "a8a54f8c-4f63-4345-86ee-26d160f3eaaf",
   "metadata": {},
   "outputs": [],
   "source": [
    "# Drop previous headers\n",
    "df = df.drop(0)\n",
    "df.reset_index(inplace=True, drop=True)"
   ]
  },
  {
   "cell_type": "code",
   "execution_count": 5,
   "id": "bb3452b2-4dd8-478f-bf13-8b87f3151ed4",
   "metadata": {},
   "outputs": [
    {
     "data": {
      "text/html": [
       "<div>\n",
       "<style scoped>\n",
       "    .dataframe tbody tr th:only-of-type {\n",
       "        vertical-align: middle;\n",
       "    }\n",
       "\n",
       "    .dataframe tbody tr th {\n",
       "        vertical-align: top;\n",
       "    }\n",
       "\n",
       "    .dataframe thead th {\n",
       "        text-align: right;\n",
       "    }\n",
       "</style>\n",
       "<table border=\"1\" class=\"dataframe\">\n",
       "  <thead>\n",
       "    <tr style=\"text-align: right;\">\n",
       "      <th></th>\n",
       "      <th>LAUNCHES_REC_ID</th>\n",
       "      <th>NOTAM_REC_ID</th>\n",
       "      <th>LowerAltitude</th>\n",
       "      <th>UpperAltitude</th>\n",
       "      <th>IssueTime</th>\n",
       "      <th>StartTime</th>\n",
       "      <th>StopTime</th>\n",
       "      <th>E_CODE</th>\n",
       "      <th>Text</th>\n",
       "    </tr>\n",
       "  </thead>\n",
       "  <tbody>\n",
       "    <tr>\n",
       "      <th>0</th>\n",
       "      <td>391</td>\n",
       "      <td>848687</td>\n",
       "      <td>0</td>\n",
       "      <td>50000</td>\n",
       "      <td>2018-04-01 11:24:00</td>\n",
       "      <td>2018-04-02 18:22:00</td>\n",
       "      <td>2018-04-02 21:08:00</td>\n",
       "      <td>WARNING AREA W497A ACT</td>\n",
       "      <td>NaN</td>\n",
       "    </tr>\n",
       "    <tr>\n",
       "      <th>1</th>\n",
       "      <td>391</td>\n",
       "      <td>835580</td>\n",
       "      <td>0</td>\n",
       "      <td>180000</td>\n",
       "      <td>2018-03-28 09:47:00</td>\n",
       "      <td>2018-04-02 19:52:00</td>\n",
       "      <td>2018-04-02 21:08:00</td>\n",
       "      <td>FL..AIRSPACE CAPE CANAVERAL FL..TEMPORARY FLT ...</td>\n",
       "      <td>NaN</td>\n",
       "    </tr>\n",
       "    <tr>\n",
       "      <th>2</th>\n",
       "      <td>391</td>\n",
       "      <td>835582</td>\n",
       "      <td>0</td>\n",
       "      <td>180000</td>\n",
       "      <td>2018-03-28 09:48:00</td>\n",
       "      <td>2018-04-02 19:52:00</td>\n",
       "      <td>2018-04-02 21:08:00</td>\n",
       "      <td>FL..AIRSPACE CAPE CANAVERAL FL..TEMPORARY FLT ...</td>\n",
       "      <td>NaN</td>\n",
       "    </tr>\n",
       "    <tr>\n",
       "      <th>3</th>\n",
       "      <td>391</td>\n",
       "      <td>848685</td>\n",
       "      <td>0</td>\n",
       "      <td>180000</td>\n",
       "      <td>2018-03-28 09:48:00</td>\n",
       "      <td>2018-04-02 19:52:00</td>\n",
       "      <td>2018-04-02 21:08:00</td>\n",
       "      <td>CAPE CANAVERAL FL..TEMPORARY FLT  RESTRICTION....</td>\n",
       "      <td>NaN</td>\n",
       "    </tr>\n",
       "    <tr>\n",
       "      <th>4</th>\n",
       "      <td>391</td>\n",
       "      <td>848684</td>\n",
       "      <td>0</td>\n",
       "      <td>180000</td>\n",
       "      <td>2018-03-28 09:50:00</td>\n",
       "      <td>2018-04-02 19:52:00</td>\n",
       "      <td>2018-04-02 21:08:00</td>\n",
       "      <td>TEMPORARY FLT RESTRICTION.  PURSUANT TO 14 CFR...</td>\n",
       "      <td>NaN</td>\n",
       "    </tr>\n",
       "  </tbody>\n",
       "</table>\n",
       "</div>"
      ],
      "text/plain": [
       "  LAUNCHES_REC_ID NOTAM_REC_ID LowerAltitude UpperAltitude  \\\n",
       "0             391       848687             0         50000   \n",
       "1             391       835580             0        180000   \n",
       "2             391       835582             0        180000   \n",
       "3             391       848685             0        180000   \n",
       "4             391       848684             0        180000   \n",
       "\n",
       "             IssueTime            StartTime             StopTime  \\\n",
       "0  2018-04-01 11:24:00  2018-04-02 18:22:00  2018-04-02 21:08:00   \n",
       "1  2018-03-28 09:47:00  2018-04-02 19:52:00  2018-04-02 21:08:00   \n",
       "2  2018-03-28 09:48:00  2018-04-02 19:52:00  2018-04-02 21:08:00   \n",
       "3  2018-03-28 09:48:00  2018-04-02 19:52:00  2018-04-02 21:08:00   \n",
       "4  2018-03-28 09:50:00  2018-04-02 19:52:00  2018-04-02 21:08:00   \n",
       "\n",
       "                                              E_CODE  Text  \n",
       "0                             WARNING AREA W497A ACT   NaN  \n",
       "1  FL..AIRSPACE CAPE CANAVERAL FL..TEMPORARY FLT ...   NaN  \n",
       "2  FL..AIRSPACE CAPE CANAVERAL FL..TEMPORARY FLT ...   NaN  \n",
       "3  CAPE CANAVERAL FL..TEMPORARY FLT  RESTRICTION....   NaN  \n",
       "4  TEMPORARY FLT RESTRICTION.  PURSUANT TO 14 CFR...   NaN  "
      ]
     },
     "execution_count": 5,
     "metadata": {},
     "output_type": "execute_result"
    }
   ],
   "source": [
    "df.head()"
   ]
  },
  {
   "cell_type": "code",
   "execution_count": 6,
   "id": "4201d992-165a-41c7-8f0f-d9751df07690",
   "metadata": {},
   "outputs": [
    {
     "name": "stdout",
     "output_type": "stream",
     "text": [
      "<class 'pandas.core.frame.DataFrame'>\n",
      "RangeIndex: 452 entries, 0 to 451\n",
      "Data columns (total 9 columns):\n",
      " #   Column           Non-Null Count  Dtype  \n",
      "---  ------           --------------  -----  \n",
      " 0   LAUNCHES_REC_ID  452 non-null    object \n",
      " 1   NOTAM_REC_ID     452 non-null    object \n",
      " 2   LowerAltitude    450 non-null    object \n",
      " 3   UpperAltitude    427 non-null    object \n",
      " 4   IssueTime        452 non-null    object \n",
      " 5   StartTime        452 non-null    object \n",
      " 6   StopTime         452 non-null    object \n",
      " 7   E_CODE           451 non-null    object \n",
      " 8   Text             0 non-null      float64\n",
      "dtypes: float64(1), object(8)\n",
      "memory usage: 31.9+ KB\n"
     ]
    }
   ],
   "source": [
    "df.info()"
   ]
  },
  {
   "cell_type": "code",
   "execution_count": 7,
   "id": "5b90fedb-cc15-4045-868e-451f6174a9d8",
   "metadata": {},
   "outputs": [
    {
     "data": {
      "text/html": [
       "<div>\n",
       "<style scoped>\n",
       "    .dataframe tbody tr th:only-of-type {\n",
       "        vertical-align: middle;\n",
       "    }\n",
       "\n",
       "    .dataframe tbody tr th {\n",
       "        vertical-align: top;\n",
       "    }\n",
       "\n",
       "    .dataframe thead th {\n",
       "        text-align: right;\n",
       "    }\n",
       "</style>\n",
       "<table border=\"1\" class=\"dataframe\">\n",
       "  <thead>\n",
       "    <tr style=\"text-align: right;\">\n",
       "      <th></th>\n",
       "      <th>Text</th>\n",
       "    </tr>\n",
       "  </thead>\n",
       "  <tbody>\n",
       "    <tr>\n",
       "      <th>count</th>\n",
       "      <td>0.0</td>\n",
       "    </tr>\n",
       "    <tr>\n",
       "      <th>mean</th>\n",
       "      <td>NaN</td>\n",
       "    </tr>\n",
       "    <tr>\n",
       "      <th>std</th>\n",
       "      <td>NaN</td>\n",
       "    </tr>\n",
       "    <tr>\n",
       "      <th>min</th>\n",
       "      <td>NaN</td>\n",
       "    </tr>\n",
       "    <tr>\n",
       "      <th>25%</th>\n",
       "      <td>NaN</td>\n",
       "    </tr>\n",
       "    <tr>\n",
       "      <th>50%</th>\n",
       "      <td>NaN</td>\n",
       "    </tr>\n",
       "    <tr>\n",
       "      <th>75%</th>\n",
       "      <td>NaN</td>\n",
       "    </tr>\n",
       "    <tr>\n",
       "      <th>max</th>\n",
       "      <td>NaN</td>\n",
       "    </tr>\n",
       "  </tbody>\n",
       "</table>\n",
       "</div>"
      ],
      "text/plain": [
       "       Text\n",
       "count   0.0\n",
       "mean    NaN\n",
       "std     NaN\n",
       "min     NaN\n",
       "25%     NaN\n",
       "50%     NaN\n",
       "75%     NaN\n",
       "max     NaN"
      ]
     },
     "execution_count": 7,
     "metadata": {},
     "output_type": "execute_result"
    }
   ],
   "source": [
    "df.describe()"
   ]
  },
  {
   "cell_type": "markdown",
   "id": "993740a8-5362-4165-a684-edb21bb2054a",
   "metadata": {},
   "source": [
    "## Column Analysis"
   ]
  },
  {
   "cell_type": "markdown",
   "id": "adeec600-ccb1-4933-b1e9-ddc19152e0cf",
   "metadata": {
    "tags": []
   },
   "source": [
    "#### LAUNCHES_REC_ID\n",
    "* Included in NOTAM Analysis CSV, but all values were NaN. \n",
    "* Repeats, but none cover more than 4% of the data. "
   ]
  },
  {
   "cell_type": "code",
   "execution_count": 8,
   "id": "cd0d8566-bb38-4b58-8853-ed0f5638023a",
   "metadata": {},
   "outputs": [
    {
     "data": {
      "text/plain": [
       "0      391\n",
       "1      391\n",
       "2      391\n",
       "3      391\n",
       "4      391\n",
       "      ... \n",
       "447    300\n",
       "448    300\n",
       "449    300\n",
       "450    300\n",
       "451    300\n",
       "Name: LAUNCHES_REC_ID, Length: 452, dtype: object"
      ]
     },
     "execution_count": 8,
     "metadata": {},
     "output_type": "execute_result"
    }
   ],
   "source": [
    "df['LAUNCHES_REC_ID']"
   ]
  },
  {
   "cell_type": "code",
   "execution_count": 9,
   "id": "65a8341b-3d72-4398-b48c-5325054f793c",
   "metadata": {},
   "outputs": [
    {
     "data": {
      "text/plain": [
       "262    18\n",
       "400    13\n",
       "456    13\n",
       "312    12\n",
       "355    12\n",
       "       ..\n",
       "359     3\n",
       "301     2\n",
       "514     2\n",
       "511     2\n",
       "26      1\n",
       "Name: LAUNCHES_REC_ID, Length: 63, dtype: int64"
      ]
     },
     "execution_count": 9,
     "metadata": {},
     "output_type": "execute_result"
    }
   ],
   "source": [
    "df['LAUNCHES_REC_ID'].value_counts()"
   ]
  },
  {
   "cell_type": "code",
   "execution_count": 10,
   "id": "e9787ec7-fa43-4807-9ad3-070bd3c2ab18",
   "metadata": {},
   "outputs": [
    {
     "data": {
      "text/plain": [
       "262    0.03982\n",
       "400    0.02876\n",
       "456    0.02876\n",
       "312    0.02655\n",
       "355    0.02655\n",
       "        ...   \n",
       "359    0.00664\n",
       "301    0.00442\n",
       "514    0.00442\n",
       "511    0.00442\n",
       "26     0.00221\n",
       "Name: LAUNCHES_REC_ID, Length: 63, dtype: object"
      ]
     },
     "execution_count": 10,
     "metadata": {},
     "output_type": "execute_result"
    }
   ],
   "source": [
    "df['LAUNCHES_REC_ID'].value_counts(dropna=False, normalize=True).apply(lambda x: '%.5f' % x)"
   ]
  },
  {
   "cell_type": "markdown",
   "id": "344eb3c6-383b-4589-a5e0-d4e621712738",
   "metadata": {
    "tags": []
   },
   "source": [
    "#### NOTAM_REC_ID\n",
    "* Included in NOTAM Analysis CSV\n",
    "* Not all entries have some number of characters\n",
    "* `388267` repeats 3x, while `83024` repeats 2x, all other values occur only once\n",
    "* No NaNs"
   ]
  },
  {
   "cell_type": "code",
   "execution_count": 11,
   "id": "f3d46fa6-fe1a-4c58-a2fc-2a544f4bf937",
   "metadata": {},
   "outputs": [
    {
     "data": {
      "text/plain": [
       "0      848687\n",
       "1      835580\n",
       "2      835582\n",
       "3      848685\n",
       "4      848684\n",
       "        ...  \n",
       "447    317605\n",
       "448    329275\n",
       "449    329277\n",
       "450    329276\n",
       "451    323210\n",
       "Name: NOTAM_REC_ID, Length: 452, dtype: object"
      ]
     },
     "execution_count": 11,
     "metadata": {},
     "output_type": "execute_result"
    }
   ],
   "source": [
    "df['NOTAM_REC_ID']"
   ]
  },
  {
   "cell_type": "code",
   "execution_count": 12,
   "id": "549d5c5f-053a-4c45-9eb5-709b6bcc6683",
   "metadata": {},
   "outputs": [
    {
     "data": {
      "text/plain": [
       "388267     3\n",
       "83024      2\n",
       "848687     1\n",
       "84241      1\n",
       "1036028    1\n",
       "          ..\n",
       "82303      1\n",
       "82275      1\n",
       "93347      1\n",
       "93346      1\n",
       "323210     1\n",
       "Name: NOTAM_REC_ID, Length: 449, dtype: int64"
      ]
     },
     "execution_count": 12,
     "metadata": {},
     "output_type": "execute_result"
    }
   ],
   "source": [
    "df['NOTAM_REC_ID'].value_counts(dropna=False)"
   ]
  },
  {
   "cell_type": "markdown",
   "id": "6ae4b5e0-01c2-4575-ba94-582925913967",
   "metadata": {
    "tags": []
   },
   "source": [
    "#### LowerAltitude\n",
    "* NOTAM Analysis CSV equivalent seems to be `MIN_ALT`\n",
    "* Convert to floats\n",
    "* Majority are 0.0, at 75%\n",
    "    * Could this suggest ground based issues?\n",
    "* Next 5 categories cover at least 1% of the data\n",
    "* A couple of NaNs\n",
    "* Repeats\n",
    "* Includes chart"
   ]
  },
  {
   "cell_type": "code",
   "execution_count": 13,
   "id": "c4a83c8d-4b00-4bd6-9029-e767bb28726e",
   "metadata": {},
   "outputs": [],
   "source": [
    "df['LowerAltitude'] = pd.to_numeric(df['LowerAltitude'])"
   ]
  },
  {
   "cell_type": "code",
   "execution_count": 14,
   "id": "5bd7d384-6bd7-4319-958a-0e0e9ed3be1b",
   "metadata": {},
   "outputs": [
    {
     "data": {
      "text/plain": [
       "0          0.0\n",
       "1          0.0\n",
       "2          0.0\n",
       "3          0.0\n",
       "4          0.0\n",
       "        ...   \n",
       "447    50000.0\n",
       "448        0.0\n",
       "449        0.0\n",
       "450        0.0\n",
       "451        0.0\n",
       "Name: LowerAltitude, Length: 452, dtype: float64"
      ]
     },
     "execution_count": 14,
     "metadata": {},
     "output_type": "execute_result"
    }
   ],
   "source": [
    "df['LowerAltitude']"
   ]
  },
  {
   "cell_type": "code",
   "execution_count": 15,
   "id": "68f1b2b2-709e-4b14-8e80-c4e077aa5d2f",
   "metadata": {},
   "outputs": [
    {
     "data": {
      "text/plain": [
       "0.0         341\n",
       "50000.0      33\n",
       "180000.0     31\n",
       "5000.0       29\n",
       "60000.0       5\n",
       "2000.0        3\n",
       "1000.0        3\n",
       "NaN           2\n",
       "90000.0       1\n",
       "110000.0      1\n",
       "80000.0       1\n",
       "150000.0      1\n",
       "70000.0       1\n",
       "Name: LowerAltitude, dtype: int64"
      ]
     },
     "execution_count": 15,
     "metadata": {},
     "output_type": "execute_result"
    }
   ],
   "source": [
    "df['LowerAltitude'].value_counts(dropna=False)"
   ]
  },
  {
   "cell_type": "code",
   "execution_count": 16,
   "id": "ccab1031-2b8e-42b4-87bd-154fe771ba70",
   "metadata": {},
   "outputs": [
    {
     "data": {
      "text/plain": [
       "0.0         0.75442\n",
       "50000.0     0.07301\n",
       "180000.0    0.06858\n",
       "5000.0      0.06416\n",
       "60000.0     0.01106\n",
       "2000.0      0.00664\n",
       "1000.0      0.00664\n",
       "NaN         0.00442\n",
       "90000.0     0.00221\n",
       "110000.0    0.00221\n",
       "80000.0     0.00221\n",
       "150000.0    0.00221\n",
       "70000.0     0.00221\n",
       "Name: LowerAltitude, dtype: object"
      ]
     },
     "execution_count": 16,
     "metadata": {},
     "output_type": "execute_result"
    }
   ],
   "source": [
    "df['LowerAltitude'].value_counts(dropna=False, normalize=True).apply(lambda x: '%.5f' % x)"
   ]
  },
  {
   "cell_type": "code",
   "execution_count": 17,
   "id": "61859629-e614-49bb-a055-9237fccb1c46",
   "metadata": {},
   "outputs": [
    {
     "data": {
      "image/png": "[encoded data removed]",
      "text/plain": [
       "<Figure size 720x360 with 1 Axes>"
      ]
     },
     "metadata": {
      "needs_background": "light"
     },
     "output_type": "display_data"
    }
   ],
   "source": [
    "df['LowerAltitude'].value_counts(dropna=False, normalize=True).plot(kind='bar', \n",
    "                                                                    title='LowerAltitude Proportion of Data',\n",
    "                                                                    figsize=(10, 5));"
   ]
  },
  {
   "cell_type": "markdown",
   "id": "4b743b3e-6159-43ba-8f25-a3c75855c4a0",
   "metadata": {
    "tags": []
   },
   "source": [
    "#### UpperAltitude\n",
    "* NOTAM Analysis CSV equivalent seems to be `MAX_ALT`\n",
    "* Convert to floats\n",
    "* Majority are `180000.0`, `999000.0`, `50000.0`, and `NaN`, covering 41%, 33%, 17%, and 6% of the data, respectively.\n",
    "* No other category covers at least 1% of the data\n",
    "* Repeats\n",
    "* Includes chart"
   ]
  },
  {
   "cell_type": "code",
   "execution_count": 18,
   "id": "8802593f-cfb7-48cc-a49f-12b51e8d28fc",
   "metadata": {},
   "outputs": [],
   "source": [
    "df['UpperAltitude'] = pd.to_numeric(df['UpperAltitude'])"
   ]
  },
  {
   "cell_type": "code",
   "execution_count": 19,
   "id": "fcab55c5-7da1-4319-9a14-e1bac2ceb88f",
   "metadata": {},
   "outputs": [
    {
     "data": {
      "text/plain": [
       "0       50000.0\n",
       "1      180000.0\n",
       "2      180000.0\n",
       "3      180000.0\n",
       "4      180000.0\n",
       "         ...   \n",
       "447    510000.0\n",
       "448     20000.0\n",
       "449     10000.0\n",
       "450     10000.0\n",
       "451    999000.0\n",
       "Name: UpperAltitude, Length: 452, dtype: float64"
      ]
     },
     "execution_count": 19,
     "metadata": {},
     "output_type": "execute_result"
    }
   ],
   "source": [
    "df['UpperAltitude']"
   ]
  },
  {
   "cell_type": "code",
   "execution_count": 20,
   "id": "1dadf5dd-5022-45f2-b2bc-81ae8c4ac405",
   "metadata": {},
   "outputs": [
    {
     "data": {
      "text/plain": [
       "180000.0    184\n",
       "999000.0    149\n",
       "50000.0      75\n",
       "NaN          25\n",
       "500000.0      3\n",
       "69990.0       2\n",
       "109990.0      2\n",
       "35000.0       2\n",
       "79000.0       2\n",
       "10000.0       2\n",
       "800000.0      1\n",
       "149990.0      1\n",
       "90000.0       1\n",
       "70000.0       1\n",
       "510000.0      1\n",
       "20000.0       1\n",
       "Name: UpperAltitude, dtype: int64"
      ]
     },
     "execution_count": 20,
     "metadata": {},
     "output_type": "execute_result"
    }
   ],
   "source": [
    "df['UpperAltitude'].value_counts(dropna=False)"
   ]
  },
  {
   "cell_type": "code",
   "execution_count": 21,
   "id": "ad9b7c3c-502d-49c7-8279-0581870ddffa",
   "metadata": {},
   "outputs": [
    {
     "data": {
      "text/plain": [
       "180000.0    0.40708\n",
       "999000.0    0.32965\n",
       "50000.0     0.16593\n",
       "NaN         0.05531\n",
       "500000.0    0.00664\n",
       "69990.0     0.00442\n",
       "109990.0    0.00442\n",
       "35000.0     0.00442\n",
       "79000.0     0.00442\n",
       "10000.0     0.00442\n",
       "800000.0    0.00221\n",
       "149990.0    0.00221\n",
       "90000.0     0.00221\n",
       "70000.0     0.00221\n",
       "510000.0    0.00221\n",
       "20000.0     0.00221\n",
       "Name: UpperAltitude, dtype: object"
      ]
     },
     "execution_count": 21,
     "metadata": {},
     "output_type": "execute_result"
    }
   ],
   "source": [
    "df['UpperAltitude'].value_counts(dropna=False, normalize=True).apply(lambda x: '%.5f' % x)"
   ]
  },
  {
   "cell_type": "code",
   "execution_count": 22,
   "id": "8a14c796-0385-41a5-b9b7-137bb2a75257",
   "metadata": {},
   "outputs": [
    {
     "data": {
      "image/png": "[encoded data removed]",
      "text/plain": [
       "<Figure size 720x360 with 1 Axes>"
      ]
     },
     "metadata": {
      "needs_background": "light"
     },
     "output_type": "display_data"
    }
   ],
   "source": [
    "df['UpperAltitude'].value_counts(dropna=False, normalize=True).plot(kind='bar', \n",
    "                                                                    title='UpperAltitude Proportion of Data',\n",
    "                                                                    figsize=(10, 5));"
   ]
  },
  {
   "cell_type": "markdown",
   "id": "3863a040-f22d-4230-80ac-aa7c3016b69e",
   "metadata": {
    "tags": []
   },
   "source": [
    "#### IssueTime\n",
    "* NOTAM Analysis CSV equivalent seems to be `ISSUE_DATE`\n",
    "* Did not get parsed as dates.\n",
    "    * Parsed through custom fuction\n",
    "* All entries from 2016-2020\n",
    "* Includes chart"
   ]
  },
  {
   "cell_type": "code",
   "execution_count": 23,
   "id": "cddc761e-12bf-471b-aa71-b102ed203a2d",
   "metadata": {},
   "outputs": [],
   "source": [
    "from datetime import datetime\n",
    "def convert_to_date(row):\n",
    "    try:\n",
    "        return datetime.strptime(row, '%Y-%m-%d %H:%M:%S')\n",
    "    except:\n",
    "        return row\n",
    "    \n",
    "def get_year(row):\n",
    "    try:\n",
    "        return row.year\n",
    "    except:\n",
    "        return row\n",
    "\n",
    "def get_month(row):\n",
    "    try:\n",
    "        return row.month\n",
    "    except:\n",
    "        return row\n",
    "    \n",
    "def get_day(row):\n",
    "    try:\n",
    "        return row.day\n",
    "    except:\n",
    "        return row"
   ]
  },
  {
   "cell_type": "code",
   "execution_count": 24,
   "id": "66b54429-d9c5-4aa6-8378-dfdd6485eeb4",
   "metadata": {},
   "outputs": [],
   "source": [
    "df['IssueTime'] = df['IssueTime'].apply(convert_to_date)"
   ]
  },
  {
   "cell_type": "code",
   "execution_count": 25,
   "id": "fdbe6569-7e55-410d-8941-84648ccb726c",
   "metadata": {},
   "outputs": [
    {
     "data": {
      "text/plain": [
       "2016-08-16 12:03:00    7\n",
       "2019-04-11 09:02:00    5\n",
       "2019-04-10 15:02:00    4\n",
       "2017-10-10 15:51:00    3\n",
       "2019-07-24 12:54:00    3\n",
       "                      ..\n",
       "2019-06-09 03:29:00    1\n",
       "2019-02-19 10:28:00    1\n",
       "2019-02-19 10:29:00    1\n",
       "2019-07-24 08:12:00    1\n",
       "2017-03-01 08:31:00    1\n",
       "Name: IssueTime, Length: 338, dtype: int64"
      ]
     },
     "execution_count": 25,
     "metadata": {},
     "output_type": "execute_result"
    }
   ],
   "source": [
    "df['IssueTime'].value_counts(dropna=False)"
   ]
  },
  {
   "cell_type": "code",
   "execution_count": 26,
   "id": "6df1ddac-b4f3-4c74-a852-e892a715285b",
   "metadata": {},
   "outputs": [
    {
     "data": {
      "text/plain": [
       "2016-08-16 12:03:00    0.01549\n",
       "2019-04-11 09:02:00    0.01106\n",
       "2019-04-10 15:02:00    0.00885\n",
       "2017-10-10 15:51:00    0.00664\n",
       "2019-07-24 12:54:00    0.00664\n",
       "                        ...   \n",
       "2019-06-09 03:29:00    0.00221\n",
       "2019-02-19 10:28:00    0.00221\n",
       "2019-02-19 10:29:00    0.00221\n",
       "2019-07-24 08:12:00    0.00221\n",
       "2017-03-01 08:31:00    0.00221\n",
       "Name: IssueTime, Length: 338, dtype: object"
      ]
     },
     "execution_count": 26,
     "metadata": {},
     "output_type": "execute_result"
    }
   ],
   "source": [
    "df['IssueTime'].value_counts(dropna=False, normalize=True).apply(lambda x: '%.5f' % x)"
   ]
  },
  {
   "cell_type": "code",
   "execution_count": 27,
   "id": "3e290a2f-de94-45de-b52a-bdce687d0cfc",
   "metadata": {},
   "outputs": [],
   "source": [
    "df['IssueTime_YEAR']  = df['IssueTime'].apply(get_year)\n",
    "df['IssueTime_MONTH'] = df['IssueTime'].apply(get_month)\n",
    "df['IssueTime_DAY']   = df['IssueTime'].apply(get_day)"
   ]
  },
  {
   "cell_type": "code",
   "execution_count": 28,
   "id": "4c57b62e-9af8-4c07-8547-3b68c9969ee3",
   "metadata": {},
   "outputs": [
    {
     "data": {
      "text/plain": [
       "0      2018\n",
       "1      2018\n",
       "2      2018\n",
       "3      2018\n",
       "4      2018\n",
       "       ... \n",
       "447    2017\n",
       "448    2017\n",
       "449    2017\n",
       "450    2017\n",
       "451    2017\n",
       "Name: IssueTime_YEAR, Length: 452, dtype: int64"
      ]
     },
     "execution_count": 28,
     "metadata": {},
     "output_type": "execute_result"
    }
   ],
   "source": [
    "df['IssueTime_YEAR'] "
   ]
  },
  {
   "cell_type": "code",
   "execution_count": 29,
   "id": "162689a4-e160-4114-bc5d-a7daaf478392",
   "metadata": {},
   "outputs": [
    {
     "data": {
      "text/plain": [
       "2018    160\n",
       "2017    127\n",
       "2016     74\n",
       "2019     72\n",
       "2020     19\n",
       "Name: IssueTime_YEAR, dtype: int64"
      ]
     },
     "execution_count": 29,
     "metadata": {},
     "output_type": "execute_result"
    }
   ],
   "source": [
    "df['IssueTime_YEAR'].value_counts(dropna=False)"
   ]
  },
  {
   "cell_type": "code",
   "execution_count": 30,
   "id": "eb710bf0-adff-44a2-b2f4-1cfbb2894dc3",
   "metadata": {},
   "outputs": [
    {
     "data": {
      "text/plain": [
       "2018    0.35398\n",
       "2017    0.28097\n",
       "2016    0.16372\n",
       "2019    0.15929\n",
       "2020    0.04204\n",
       "Name: IssueTime_YEAR, dtype: object"
      ]
     },
     "execution_count": 30,
     "metadata": {},
     "output_type": "execute_result"
    }
   ],
   "source": [
    "df['IssueTime_YEAR'].value_counts(dropna=False, normalize=True).apply(lambda x: '%.5f' % x)"
   ]
  },
  {
   "cell_type": "code",
   "execution_count": 31,
   "id": "425c2d85-e779-495d-bc74-111eda3419ac",
   "metadata": {},
   "outputs": [
    {
     "data": {
      "image/png": "[encoded data removed]",
      "text/plain": [
       "<Figure size 720x360 with 1 Axes>"
      ]
     },
     "metadata": {
      "needs_background": "light"
     },
     "output_type": "display_data"
    }
   ],
   "source": [
    "df['IssueTime_YEAR'].value_counts(dropna=False).plot(kind='bar',               \n",
    "                                                     title='IssueTime_YEAR Proportion of Data',\n",
    "                                                     figsize=(10, 5));"
   ]
  },
  {
   "cell_type": "markdown",
   "id": "990aac0b-266e-4e1c-ad1d-dfed249ebf4d",
   "metadata": {
    "tags": []
   },
   "source": [
    "#### StartTime\n",
    "* NOTAM Analysis CSV equivalent seems to be `POSSIBLE_START_DATE`\n",
    "* Did not get parsed as dates.\n",
    "    * Parsed through custom fuction\n",
    "* All entries from 2016-2020\n",
    "* Includes chart"
   ]
  },
  {
   "cell_type": "code",
   "execution_count": 32,
   "id": "086018db-01fe-467d-a4b6-f039107c70b0",
   "metadata": {},
   "outputs": [],
   "source": [
    "df['StartTime'] = df['StartTime'].apply(convert_to_date)"
   ]
  },
  {
   "cell_type": "code",
   "execution_count": 33,
   "id": "3395a818-7fcd-4a75-b921-cd4a4799c982",
   "metadata": {},
   "outputs": [
    {
     "data": {
      "text/plain": [
       "2019-04-11 22:01:00    11\n",
       "2018-06-29 09:03:00     8\n",
       "2017-03-01 16:30:00     7\n",
       "2016-08-17 01:01:00     7\n",
       "2018-05-21 08:15:00     6\n",
       "                       ..\n",
       "2020-03-07 02:45:00     1\n",
       "2018-10-08 02:06:00     1\n",
       "2020-05-30 17:11:00     1\n",
       "2016-05-06 03:16:00     1\n",
       "2018-04-02 18:22:00     1\n",
       "Name: StartTime, Length: 133, dtype: int64"
      ]
     },
     "execution_count": 33,
     "metadata": {},
     "output_type": "execute_result"
    }
   ],
   "source": [
    "df['StartTime'].value_counts(dropna=False)"
   ]
  },
  {
   "cell_type": "code",
   "execution_count": 34,
   "id": "4ac6e767-370d-436e-850b-6e857faf9c90",
   "metadata": {},
   "outputs": [
    {
     "data": {
      "text/plain": [
       "2019-04-11 22:01:00    0.02434\n",
       "2018-06-29 09:03:00    0.01770\n",
       "2017-03-01 16:30:00    0.01549\n",
       "2016-08-17 01:01:00    0.01549\n",
       "2018-05-21 08:15:00    0.01327\n",
       "                        ...   \n",
       "2020-03-07 02:45:00    0.00221\n",
       "2018-10-08 02:06:00    0.00221\n",
       "2020-05-30 17:11:00    0.00221\n",
       "2016-05-06 03:16:00    0.00221\n",
       "2018-04-02 18:22:00    0.00221\n",
       "Name: StartTime, Length: 133, dtype: object"
      ]
     },
     "execution_count": 34,
     "metadata": {},
     "output_type": "execute_result"
    }
   ],
   "source": [
    "df['StartTime'].value_counts(dropna=False, normalize=True).apply(lambda x: '%.5f' % x)"
   ]
  },
  {
   "cell_type": "code",
   "execution_count": 35,
   "id": "8c680cdb-3f41-4a73-8b10-4776353d0458",
   "metadata": {},
   "outputs": [],
   "source": [
    "df['StartTime_YEAR']  = df['StartTime'].apply(get_year)\n",
    "df['StartTime_MONTH'] = df['StartTime'].apply(get_month)\n",
    "df['StartTime_DAY']   = df['StartTime'].apply(get_day)"
   ]
  },
  {
   "cell_type": "code",
   "execution_count": 36,
   "id": "86fd002c-c378-4cdb-9427-2399e9a30878",
   "metadata": {},
   "outputs": [
    {
     "data": {
      "text/plain": [
       "0      2018\n",
       "1      2018\n",
       "2      2018\n",
       "3      2018\n",
       "4      2018\n",
       "       ... \n",
       "447    2017\n",
       "448    2017\n",
       "449    2017\n",
       "450    2017\n",
       "451    2017\n",
       "Name: StartTime_YEAR, Length: 452, dtype: object"
      ]
     },
     "execution_count": 36,
     "metadata": {},
     "output_type": "execute_result"
    }
   ],
   "source": [
    "df['StartTime_YEAR'] "
   ]
  },
  {
   "cell_type": "code",
   "execution_count": 37,
   "id": "ca4198d2-cee5-4a89-a9a3-2dda42177b71",
   "metadata": {},
   "outputs": [
    {
     "data": {
      "text/plain": [
       "2018                                       159\n",
       "2017                                       127\n",
       "2016                                        74\n",
       "2019                                        72\n",
       "2020                                        19\n",
       "2018-05-11 18:09:00,2018-05-11 23:13:00      1\n",
       "Name: StartTime_YEAR, dtype: int64"
      ]
     },
     "execution_count": 37,
     "metadata": {},
     "output_type": "execute_result"
    }
   ],
   "source": [
    "df['StartTime_YEAR'].value_counts(dropna=False)"
   ]
  },
  {
   "cell_type": "code",
   "execution_count": 38,
   "id": "a672cda6-f45e-4ca3-acd0-3983018e26c3",
   "metadata": {},
   "outputs": [
    {
     "data": {
      "text/plain": [
       "2018                                       0.35177\n",
       "2017                                       0.28097\n",
       "2016                                       0.16372\n",
       "2019                                       0.15929\n",
       "2020                                       0.04204\n",
       "2018-05-11 18:09:00,2018-05-11 23:13:00    0.00221\n",
       "Name: StartTime_YEAR, dtype: object"
      ]
     },
     "execution_count": 38,
     "metadata": {},
     "output_type": "execute_result"
    }
   ],
   "source": [
    "df['StartTime_YEAR'].value_counts(dropna=False, normalize=True).apply(lambda x: '%.5f' % x)"
   ]
  },
  {
   "cell_type": "code",
   "execution_count": 39,
   "id": "e3a4a50e-0f90-4bac-963b-2d1e0c8d622e",
   "metadata": {},
   "outputs": [
    {
     "data": {
      "image/png": "[encoded data removed]",
      "text/plain": [
       "<Figure size 720x360 with 1 Axes>"
      ]
     },
     "metadata": {
      "needs_background": "light"
     },
     "output_type": "display_data"
    }
   ],
   "source": [
    "df['StartTime_YEAR'].value_counts(dropna=False).plot(kind='bar',               \n",
    "                                                     title='StartTime_YEAR Proportion of Data',\n",
    "                                                     figsize=(10, 5));"
   ]
  }
 ],
 "metadata": {
  "kernelspec": {
   "display_name": "Python 3 (ipykernel)",
   "language": "python",
   "name": "python3"
  },
  "language_info": {
   "codemirror_mode": {
    "name": "ipython",
    "version": 3
   },
   "file_extension": ".py",
   "mimetype": "text/x-python",
   "name": "python",
   "nbconvert_exporter": "python",
   "pygments_lexer": "ipython3",
   "version": "3.8.13"
  }
 },
 "nbformat": 4,
 "nbformat_minor": 5
}
