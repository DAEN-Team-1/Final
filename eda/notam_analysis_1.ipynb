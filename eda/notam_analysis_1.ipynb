{
 "cells": [
  {
   "cell_type": "markdown",
   "id": "ad38d077-549f-43c4-881f-c5eb882cfe2c",
   "metadata": {
    "tags": []
   },
   "source": [
    "# NOTAM Analysis\n",
    "\n",
    "Please note that the data for this analysis is saved locally in a `data` folder that is one level above (a parent folder) to where the [GitHub](https://github.com/DAEN-Team-1/Final \"GitHub\") files have been saved. This was done because a lot of the data files are too large to be included in the GitHub repoo."
   ]
  },
  {
   "cell_type": "code",
   "execution_count": 1,
   "id": "c7378ccc-3a46-42e7-be8c-22488c1ad313",
   "metadata": {},
   "outputs": [],
   "source": [
    "# imports\n",
    "import pandas as pd\n",
    "import numpy  as np\n",
    "# import bamboolib as bam"
   ]
  },
  {
   "cell_type": "code",
   "execution_count": 2,
   "id": "328a05f0-85e2-4eb9-846b-a1bdc8faf586",
   "metadata": {},
   "outputs": [],
   "source": [
    "# read data\n",
    "#            not                     parsed               not           not\n",
    "date_cols = ['POSSIBLE_START_DATE', 'POSSIBLE_END_DATE', 'ISSUE_DATE', 'CANCELED_DATE']\n",
    "df = pd.read_csv('data/notam_20201027_commas_quotes.csv', on_bad_lines='skip', encoding='utf-16', low_memory=False)"
   ]
  },
  {
   "cell_type": "markdown",
   "id": "3b1fad21-f798-46bd-9869-44a2fe6d1d43",
   "metadata": {},
   "source": [
    "Look at first few rows of data"
   ]
  },
  {
   "cell_type": "code",
   "execution_count": 3,
   "id": "dc5259c2-e0f4-42b6-84a8-3939c4d101c5",
   "metadata": {},
   "outputs": [
    {
     "data": {
      "text/html": [
       "<div>\n",
       "<style scoped>\n",
       "    .dataframe tbody tr th:only-of-type {\n",
       "        vertical-align: middle;\n",
       "    }\n",
       "\n",
       "    .dataframe tbody tr th {\n",
       "        vertical-align: top;\n",
       "    }\n",
       "\n",
       "    .dataframe thead th {\n",
       "        text-align: right;\n",
       "    }\n",
       "</style>\n",
       "<table border=\"1\" class=\"dataframe\">\n",
       "  <thead>\n",
       "    <tr style=\"text-align: right;\">\n",
       "      <th></th>\n",
       "      <th>NOTAM_REC_ID</th>\n",
       "      <th>FNS_ID</th>\n",
       "      <th>FILENAME</th>\n",
       "      <th>NOTAM_ID</th>\n",
       "      <th>NOTAM_TYPE</th>\n",
       "      <th>RELATED_NOTAM_ID</th>\n",
       "      <th>SIMPLE_TEXT</th>\n",
       "      <th>LOC_ID_ACCOUNTABLE_ORG</th>\n",
       "      <th>NOTAM_NUMBER</th>\n",
       "      <th>RELATED_NOTAM_NUMBER</th>\n",
       "      <th>...</th>\n",
       "      <th>POSSIBLE_END_DATE</th>\n",
       "      <th>ISSUE_DATE</th>\n",
       "      <th>CANCELED_DATE</th>\n",
       "      <th>AFFECTED_FIR</th>\n",
       "      <th>DESIGNATOR</th>\n",
       "      <th>DESIGNATOR_NAME</th>\n",
       "      <th>LOCATION_NAME</th>\n",
       "      <th>ACCOUNT_ID</th>\n",
       "      <th>LOCATION_CODE</th>\n",
       "      <th>LAUNCHES_REC_ID</th>\n",
       "    </tr>\n",
       "  </thead>\n",
       "  <tbody>\n",
       "    <tr>\n",
       "      <th>0</th>\n",
       "      <td>1</td>\n",
       "      <td>FNS_ID_43130705</td>\n",
       "      <td>E:\\Working\\Sherlock_NOTAM_Data\\Temporary\\notam...</td>\n",
       "      <td>0604/16</td>\n",
       "      <td>NaN</td>\n",
       "      <td>NaN</td>\n",
       "      <td>!SUAC 05/604 ZAU AIRSPACE VOLK SOUTH MOA ACT 5...</td>\n",
       "      <td>SUAC</td>\n",
       "      <td>05/604</td>\n",
       "      <td>NaN</td>\n",
       "      <td>...</td>\n",
       "      <td>2016-05-24 19:45:00</td>\n",
       "      <td>2016-05-24 04:35:00</td>\n",
       "      <td>2016-05-24 12:10:00</td>\n",
       "      <td>NaN</td>\n",
       "      <td>NaN</td>\n",
       "      <td>NaN</td>\n",
       "      <td>ZAU ARTCC</td>\n",
       "      <td>SUAC</td>\n",
       "      <td>ZAU</td>\n",
       "      <td>NaN</td>\n",
       "    </tr>\n",
       "    <tr>\n",
       "      <th>1</th>\n",
       "      <td>2</td>\n",
       "      <td>FNS_ID_43130704</td>\n",
       "      <td>E:\\Working\\Sherlock_NOTAM_Data\\Temporary\\notam...</td>\n",
       "      <td>0603/16</td>\n",
       "      <td>NaN</td>\n",
       "      <td>NaN</td>\n",
       "      <td>!SUAC 05/603 ZAU AIRSPACE VOLK EAST MOA ACT 80...</td>\n",
       "      <td>SUAC</td>\n",
       "      <td>05/603</td>\n",
       "      <td>NaN</td>\n",
       "      <td>...</td>\n",
       "      <td>2016-05-24 19:45:00</td>\n",
       "      <td>2016-05-24 04:35:00</td>\n",
       "      <td>2016-05-24 12:10:00</td>\n",
       "      <td>NaN</td>\n",
       "      <td>NaN</td>\n",
       "      <td>NaN</td>\n",
       "      <td>ZAU ARTCC</td>\n",
       "      <td>SUAC</td>\n",
       "      <td>ZAU</td>\n",
       "      <td>NaN</td>\n",
       "    </tr>\n",
       "    <tr>\n",
       "      <th>2</th>\n",
       "      <td>3</td>\n",
       "      <td>FNS_ID_43130706</td>\n",
       "      <td>E:\\Working\\Sherlock_NOTAM_Data\\Temporary\\notam...</td>\n",
       "      <td>0605/16</td>\n",
       "      <td>NaN</td>\n",
       "      <td>NaN</td>\n",
       "      <td>!SUAC 05/605 ZMP AIRSPACE FALLS 1 MOA ACT 500F...</td>\n",
       "      <td>SUAC</td>\n",
       "      <td>05/605</td>\n",
       "      <td>NaN</td>\n",
       "      <td>...</td>\n",
       "      <td>2016-05-24 19:45:00</td>\n",
       "      <td>2016-05-24 04:35:00</td>\n",
       "      <td>2016-05-24 12:10:00</td>\n",
       "      <td>NaN</td>\n",
       "      <td>NaN</td>\n",
       "      <td>NaN</td>\n",
       "      <td>ZMP ARTCC</td>\n",
       "      <td>SUAC</td>\n",
       "      <td>ZMP</td>\n",
       "      <td>NaN</td>\n",
       "    </tr>\n",
       "    <tr>\n",
       "      <th>3</th>\n",
       "      <td>4</td>\n",
       "      <td>FNS_ID_43130708</td>\n",
       "      <td>E:\\Working\\Sherlock_NOTAM_Data\\Temporary\\notam...</td>\n",
       "      <td>0607/16</td>\n",
       "      <td>NaN</td>\n",
       "      <td>NaN</td>\n",
       "      <td>!SUAC 05/607 ZMP AIRSPACE FALLS 2 MOA ACT 500F...</td>\n",
       "      <td>SUAC</td>\n",
       "      <td>05/607</td>\n",
       "      <td>NaN</td>\n",
       "      <td>...</td>\n",
       "      <td>2016-05-24 19:45:00</td>\n",
       "      <td>2016-05-24 04:35:00</td>\n",
       "      <td>2016-05-24 12:10:00</td>\n",
       "      <td>NaN</td>\n",
       "      <td>NaN</td>\n",
       "      <td>NaN</td>\n",
       "      <td>ZMP ARTCC</td>\n",
       "      <td>SUAC</td>\n",
       "      <td>ZMP</td>\n",
       "      <td>NaN</td>\n",
       "    </tr>\n",
       "    <tr>\n",
       "      <th>4</th>\n",
       "      <td>5</td>\n",
       "      <td>FNS_ID_43130703</td>\n",
       "      <td>E:\\Working\\Sherlock_NOTAM_Data\\Temporary\\notam...</td>\n",
       "      <td>0602/16</td>\n",
       "      <td>NaN</td>\n",
       "      <td>NaN</td>\n",
       "      <td>!SUAC 05/602 ZMP AIRSPACE VOLK WEST MOA ACT 10...</td>\n",
       "      <td>SUAC</td>\n",
       "      <td>05/602</td>\n",
       "      <td>NaN</td>\n",
       "      <td>...</td>\n",
       "      <td>2016-05-24 19:45:00</td>\n",
       "      <td>2016-05-24 04:35:00</td>\n",
       "      <td>2016-05-24 12:10:00</td>\n",
       "      <td>NaN</td>\n",
       "      <td>NaN</td>\n",
       "      <td>NaN</td>\n",
       "      <td>ZMP ARTCC</td>\n",
       "      <td>SUAC</td>\n",
       "      <td>ZMP</td>\n",
       "      <td>NaN</td>\n",
       "    </tr>\n",
       "  </tbody>\n",
       "</table>\n",
       "<p>5 rows × 37 columns</p>\n",
       "</div>"
      ],
      "text/plain": [
       "   NOTAM_REC_ID           FNS_ID  \\\n",
       "0             1  FNS_ID_43130705   \n",
       "1             2  FNS_ID_43130704   \n",
       "2             3  FNS_ID_43130706   \n",
       "3             4  FNS_ID_43130708   \n",
       "4             5  FNS_ID_43130703   \n",
       "\n",
       "                                            FILENAME NOTAM_ID NOTAM_TYPE  \\\n",
       "0  E:\\Working\\Sherlock_NOTAM_Data\\Temporary\\notam...  0604/16        NaN   \n",
       "1  E:\\Working\\Sherlock_NOTAM_Data\\Temporary\\notam...  0603/16        NaN   \n",
       "2  E:\\Working\\Sherlock_NOTAM_Data\\Temporary\\notam...  0605/16        NaN   \n",
       "3  E:\\Working\\Sherlock_NOTAM_Data\\Temporary\\notam...  0607/16        NaN   \n",
       "4  E:\\Working\\Sherlock_NOTAM_Data\\Temporary\\notam...  0602/16        NaN   \n",
       "\n",
       "  RELATED_NOTAM_ID                                        SIMPLE_TEXT  \\\n",
       "0              NaN  !SUAC 05/604 ZAU AIRSPACE VOLK SOUTH MOA ACT 5...   \n",
       "1              NaN  !SUAC 05/603 ZAU AIRSPACE VOLK EAST MOA ACT 80...   \n",
       "2              NaN  !SUAC 05/605 ZMP AIRSPACE FALLS 1 MOA ACT 500F...   \n",
       "3              NaN  !SUAC 05/607 ZMP AIRSPACE FALLS 2 MOA ACT 500F...   \n",
       "4              NaN  !SUAC 05/602 ZMP AIRSPACE VOLK WEST MOA ACT 10...   \n",
       "\n",
       "  LOC_ID_ACCOUNTABLE_ORG NOTAM_NUMBER RELATED_NOTAM_NUMBER  ...  \\\n",
       "0                   SUAC       05/604                  NaN  ...   \n",
       "1                   SUAC       05/603                  NaN  ...   \n",
       "2                   SUAC       05/605                  NaN  ...   \n",
       "3                   SUAC       05/607                  NaN  ...   \n",
       "4                   SUAC       05/602                  NaN  ...   \n",
       "\n",
       "     POSSIBLE_END_DATE           ISSUE_DATE        CANCELED_DATE AFFECTED_FIR  \\\n",
       "0  2016-05-24 19:45:00  2016-05-24 04:35:00  2016-05-24 12:10:00          NaN   \n",
       "1  2016-05-24 19:45:00  2016-05-24 04:35:00  2016-05-24 12:10:00          NaN   \n",
       "2  2016-05-24 19:45:00  2016-05-24 04:35:00  2016-05-24 12:10:00          NaN   \n",
       "3  2016-05-24 19:45:00  2016-05-24 04:35:00  2016-05-24 12:10:00          NaN   \n",
       "4  2016-05-24 19:45:00  2016-05-24 04:35:00  2016-05-24 12:10:00          NaN   \n",
       "\n",
       "  DESIGNATOR DESIGNATOR_NAME LOCATION_NAME ACCOUNT_ID LOCATION_CODE  \\\n",
       "0        NaN             NaN     ZAU ARTCC       SUAC           ZAU   \n",
       "1        NaN             NaN     ZAU ARTCC       SUAC           ZAU   \n",
       "2        NaN             NaN     ZMP ARTCC       SUAC           ZMP   \n",
       "3        NaN             NaN     ZMP ARTCC       SUAC           ZMP   \n",
       "4        NaN             NaN     ZMP ARTCC       SUAC           ZMP   \n",
       "\n",
       "  LAUNCHES_REC_ID  \n",
       "0             NaN  \n",
       "1             NaN  \n",
       "2             NaN  \n",
       "3             NaN  \n",
       "4             NaN  \n",
       "\n",
       "[5 rows x 37 columns]"
      ]
     },
     "execution_count": 3,
     "metadata": {},
     "output_type": "execute_result"
    }
   ],
   "source": [
    "df.head()"
   ]
  },
  {
   "cell_type": "markdown",
   "id": "1eeee592-33f4-4d8a-ae16-75da751c89cb",
   "metadata": {},
   "source": [
    "Get information on the dataframe\n",
    "* 1,649,078 rows\n",
    "* 37 columns\n",
    "* With the exception of `NOTAM_REC_ID` and `LAUNCHES_REC_ID`, all fields appear to be strings. \n",
    "    * This may require updating in order to \n",
    "* Aside from `LAUNCHES_REC_ID`, most columns have only a few hundred non-null entries, suggesting that the data is very sparse"
   ]
  },
  {
   "cell_type": "code",
   "execution_count": 4,
   "id": "18ca3d97-8afa-49a8-baad-d194f65a191d",
   "metadata": {},
   "outputs": [
    {
     "name": "stdout",
     "output_type": "stream",
     "text": [
      "<class 'pandas.core.frame.DataFrame'>\n",
      "RangeIndex: 1649078 entries, 0 to 1649077\n",
      "Data columns (total 37 columns):\n",
      " #   Column                  Non-Null Count    Dtype  \n",
      "---  ------                  --------------    -----  \n",
      " 0   NOTAM_REC_ID            1649078 non-null  int64  \n",
      " 1   FNS_ID                  1649078 non-null  object \n",
      " 2   FILENAME                1649078 non-null  object \n",
      " 3   NOTAM_ID                1649049 non-null  object \n",
      " 4   NOTAM_TYPE              1427935 non-null  object \n",
      " 5   RELATED_NOTAM_ID        368132 non-null   object \n",
      " 6   SIMPLE_TEXT             827962 non-null   object \n",
      " 7   LOC_ID_ACCOUNTABLE_ORG  785649 non-null   object \n",
      " 8   NOTAM_NUMBER            782486 non-null   object \n",
      " 9   RELATED_NOTAM_NUMBER    125566 non-null   object \n",
      " 10  TEXT                    1641012 non-null  object \n",
      " 11  Q_CODE                  1008959 non-null  object \n",
      " 12  Q_CODE_INTERPRETATION   740483 non-null   object \n",
      " 13  A_CODE                  1141035 non-null  object \n",
      " 14  B_CODE                  982281 non-null   object \n",
      " 15  C_CODE                  828461 non-null   object \n",
      " 16  D_CODE                  169787 non-null   object \n",
      " 17  E_CODE                  1648630 non-null  object \n",
      " 18  F_CODE                  1019401 non-null  object \n",
      " 19  G_CODE                  1019178 non-null  object \n",
      " 20  CLASSIFICATION          1649043 non-null  object \n",
      " 21  POSSIBLE_NOTAM_ID       1649048 non-null  object \n",
      " 22  MIN_ALT                 1187584 non-null  object \n",
      " 23  MAX_ALT                 1134978 non-null  object \n",
      " 24  MIN_ALT_REF_TYPE        1051539 non-null  object \n",
      " 25  MAX_ALT_REF_TYPE        983411 non-null   object \n",
      " 26  POSSIBLE_START_DATE     1649075 non-null  object \n",
      " 27  POSSIBLE_END_DATE       1626922 non-null  object \n",
      " 28  ISSUE_DATE              1649047 non-null  object \n",
      " 29  CANCELED_DATE           257478 non-null   object \n",
      " 30  AFFECTED_FIR            1005941 non-null  object \n",
      " 31  DESIGNATOR              399786 non-null   object \n",
      " 32  DESIGNATOR_NAME         364604 non-null   object \n",
      " 33  LOCATION_NAME           1628761 non-null  object \n",
      " 34  ACCOUNT_ID              1648799 non-null  object \n",
      " 35  LOCATION_CODE           1648697 non-null  object \n",
      " 36  LAUNCHES_REC_ID         0 non-null        float64\n",
      "dtypes: float64(1), int64(1), object(35)\n",
      "memory usage: 465.5+ MB\n"
     ]
    }
   ],
   "source": [
    "df.info()"
   ]
  },
  {
   "cell_type": "markdown",
   "id": "7ba57044-215c-4c74-a97f-453450a00ada",
   "metadata": {},
   "source": [
    "Get summary stats"
   ]
  },
  {
   "cell_type": "code",
   "execution_count": 5,
   "id": "6172b1b2-2fb4-4723-8d27-8d3904623461",
   "metadata": {},
   "outputs": [
    {
     "data": {
      "text/html": [
       "<div>\n",
       "<style scoped>\n",
       "    .dataframe tbody tr th:only-of-type {\n",
       "        vertical-align: middle;\n",
       "    }\n",
       "\n",
       "    .dataframe tbody tr th {\n",
       "        vertical-align: top;\n",
       "    }\n",
       "\n",
       "    .dataframe thead th {\n",
       "        text-align: right;\n",
       "    }\n",
       "</style>\n",
       "<table border=\"1\" class=\"dataframe\">\n",
       "  <thead>\n",
       "    <tr style=\"text-align: right;\">\n",
       "      <th></th>\n",
       "      <th>NOTAM_REC_ID</th>\n",
       "      <th>LAUNCHES_REC_ID</th>\n",
       "    </tr>\n",
       "  </thead>\n",
       "  <tbody>\n",
       "    <tr>\n",
       "      <th>count</th>\n",
       "      <td>1.649078e+06</td>\n",
       "      <td>0.0</td>\n",
       "    </tr>\n",
       "    <tr>\n",
       "      <th>mean</th>\n",
       "      <td>8.253116e+05</td>\n",
       "      <td>NaN</td>\n",
       "    </tr>\n",
       "    <tr>\n",
       "      <th>std</th>\n",
       "      <td>4.764870e+05</td>\n",
       "      <td>NaN</td>\n",
       "    </tr>\n",
       "    <tr>\n",
       "      <th>min</th>\n",
       "      <td>1.000000e+00</td>\n",
       "      <td>NaN</td>\n",
       "    </tr>\n",
       "    <tr>\n",
       "      <th>25%</th>\n",
       "      <td>4.126272e+05</td>\n",
       "      <td>NaN</td>\n",
       "    </tr>\n",
       "    <tr>\n",
       "      <th>50%</th>\n",
       "      <td>8.253245e+05</td>\n",
       "      <td>NaN</td>\n",
       "    </tr>\n",
       "    <tr>\n",
       "      <th>75%</th>\n",
       "      <td>1.238010e+06</td>\n",
       "      <td>NaN</td>\n",
       "    </tr>\n",
       "    <tr>\n",
       "      <th>max</th>\n",
       "      <td>1.650468e+06</td>\n",
       "      <td>NaN</td>\n",
       "    </tr>\n",
       "  </tbody>\n",
       "</table>\n",
       "</div>"
      ],
      "text/plain": [
       "       NOTAM_REC_ID  LAUNCHES_REC_ID\n",
       "count  1.649078e+06              0.0\n",
       "mean   8.253116e+05              NaN\n",
       "std    4.764870e+05              NaN\n",
       "min    1.000000e+00              NaN\n",
       "25%    4.126272e+05              NaN\n",
       "50%    8.253245e+05              NaN\n",
       "75%    1.238010e+06              NaN\n",
       "max    1.650468e+06              NaN"
      ]
     },
     "execution_count": 5,
     "metadata": {},
     "output_type": "execute_result"
    }
   ],
   "source": [
    "df.describe()"
   ]
  },
  {
   "cell_type": "markdown",
   "id": "39bf3228-ba87-4c53-9490-52bfcc2ae08f",
   "metadata": {},
   "source": [
    "## Examine column by column"
   ]
  },
  {
   "cell_type": "markdown",
   "id": "62695a17-84e4-4ce8-8a14-9c034c668f71",
   "metadata": {
    "tags": []
   },
   "source": [
    "#### NOTAM_REC_ID\n",
    "* Seems to be a zero-indexed, sequence of indexes."
   ]
  },
  {
   "cell_type": "code",
   "execution_count": 6,
   "id": "575fbef4-d52b-4cd3-b95a-18307e85e5e9",
   "metadata": {},
   "outputs": [
    {
     "data": {
      "text/plain": [
       "0                1\n",
       "1                2\n",
       "2                3\n",
       "3                4\n",
       "4                5\n",
       "            ...   \n",
       "1649073    1650464\n",
       "1649074    1650465\n",
       "1649075    1650466\n",
       "1649076    1650467\n",
       "1649077    1650468\n",
       "Name: NOTAM_REC_ID, Length: 1649078, dtype: int64"
      ]
     },
     "execution_count": 6,
     "metadata": {},
     "output_type": "execute_result"
    }
   ],
   "source": [
    "df['NOTAM_REC_ID']"
   ]
  },
  {
   "cell_type": "code",
   "execution_count": 7,
   "id": "bb3fb44b-6f0f-4503-a8c3-d1767c93515c",
   "metadata": {},
   "outputs": [
    {
     "data": {
      "text/plain": [
       "1          False\n",
       "1100516    False\n",
       "1100526    False\n",
       "1100525    False\n",
       "1100524    False\n",
       "           ...  \n",
       "550177     False\n",
       "550176     False\n",
       "550175     False\n",
       "550174     False\n",
       "1650468    False\n",
       "Name: NOTAM_REC_ID, Length: 1649078, dtype: bool"
      ]
     },
     "execution_count": 7,
     "metadata": {},
     "output_type": "execute_result"
    }
   ],
   "source": [
    "df['NOTAM_REC_ID'].value_counts(dropna=False)> 1"
   ]
  },
  {
   "cell_type": "markdown",
   "id": "376a4224-ac7d-41b6-8875-9ab6e2a62631",
   "metadata": {
    "tags": []
   },
   "source": [
    "#### FNS_ID\n",
    "* All unique"
   ]
  },
  {
   "cell_type": "code",
   "execution_count": 8,
   "id": "0736873d-e432-4a46-a478-d83e4f5a6d0b",
   "metadata": {},
   "outputs": [
    {
     "data": {
      "text/plain": [
       "0          FNS_ID_43130705\n",
       "1          FNS_ID_43130704\n",
       "2          FNS_ID_43130706\n",
       "3          FNS_ID_43130708\n",
       "4          FNS_ID_43130703\n",
       "                ...       \n",
       "1649073    FNS_ID_57059411\n",
       "1649074    FNS_ID_57059413\n",
       "1649075    FNS_ID_57059417\n",
       "1649076    FNS_ID_57059418\n",
       "1649077    FNS_ID_57059420\n",
       "Name: FNS_ID, Length: 1649078, dtype: object"
      ]
     },
     "execution_count": 8,
     "metadata": {},
     "output_type": "execute_result"
    }
   ],
   "source": [
    "df['FNS_ID']"
   ]
  },
  {
   "cell_type": "code",
   "execution_count": 9,
   "id": "d4829232-37da-47d7-947d-9f6f25db3b45",
   "metadata": {},
   "outputs": [
    {
     "data": {
      "text/plain": [
       "FNS_ID_43130705    False\n",
       "FNS_ID_51126170    False\n",
       "FNS_ID_51126193    False\n",
       "FNS_ID_51084110    False\n",
       "FNS_ID_51084080    False\n",
       "                   ...  \n",
       "FNS_ID_47265316    False\n",
       "FNS_ID_47265319    False\n",
       "FNS_ID_47265266    False\n",
       "FNS_ID_47265223    False\n",
       "FNS_ID_57059420    False\n",
       "Name: FNS_ID, Length: 1649078, dtype: bool"
      ]
     },
     "execution_count": 9,
     "metadata": {},
     "output_type": "execute_result"
    }
   ],
   "source": [
    "# All are unique\n",
    "df['FNS_ID'].value_counts() > 1"
   ]
  },
  {
   "cell_type": "markdown",
   "id": "188a2117-fde1-48c5-8ebc-540f09b1b546",
   "metadata": {
    "tags": []
   },
   "source": [
    "#### FILENAME\n",
    "* Do we have access to these files?\n",
    "* Repeats, but cover an tiny proportion of the data. "
   ]
  },
  {
   "cell_type": "code",
   "execution_count": 10,
   "id": "88012146-95cb-4f82-94de-931f4ca1c8a6",
   "metadata": {},
   "outputs": [
    {
     "data": {
      "text/plain": [
       "0          E:\\Working\\Sherlock_NOTAM_Data\\Temporary\\notam...\n",
       "1          E:\\Working\\Sherlock_NOTAM_Data\\Temporary\\notam...\n",
       "2          E:\\Working\\Sherlock_NOTAM_Data\\Temporary\\notam...\n",
       "3          E:\\Working\\Sherlock_NOTAM_Data\\Temporary\\notam...\n",
       "4          E:\\Working\\Sherlock_NOTAM_Data\\Temporary\\notam...\n",
       "                                 ...                        \n",
       "1649073    E:\\Working\\Sherlock_NOTAM_Data\\Temporary\\notam...\n",
       "1649074    E:\\Working\\Sherlock_NOTAM_Data\\Temporary\\notam...\n",
       "1649075    E:\\Working\\Sherlock_NOTAM_Data\\Temporary\\notam...\n",
       "1649076    E:\\Working\\Sherlock_NOTAM_Data\\Temporary\\notam...\n",
       "1649077    E:\\Working\\Sherlock_NOTAM_Data\\Temporary\\notam...\n",
       "Name: FILENAME, Length: 1649078, dtype: object"
      ]
     },
     "execution_count": 10,
     "metadata": {},
     "output_type": "execute_result"
    }
   ],
   "source": [
    "df['FILENAME']"
   ]
  },
  {
   "cell_type": "code",
   "execution_count": 11,
   "id": "de030a92-e1d7-4822-9e96-75b73d09a9c4",
   "metadata": {},
   "outputs": [
    {
     "data": {
      "text/plain": [
       "E:\\Working\\Sherlock_NOTAM_Data\\Temporary\\notam.20191001T1507Z_tmp.xml      10418\n",
       "E:\\Working\\Sherlock_NOTAM_Data\\Temporary\\notam.20190503T1519Z_tmp.xml       4377\n",
       "E:\\Working\\Sherlock_NOTAM_Data\\Temporary\\notam.20160601T204707Z_tmp.xml     1858\n",
       "E:\\Working\\Sherlock_NOTAM_Data\\Temporary\\notam.20160831T173246Z_tmp.xml     1451\n",
       "E:\\Working\\Sherlock_NOTAM_Data\\Temporary\\notam.20160601T203755Z_tmp.xml     1411\n",
       "                                                                           ...  \n",
       "E:\\Working\\Sherlock_NOTAM_Data\\Temporary\\notam.20180403T042219Z_tmp.xml        1\n",
       "E:\\Working\\Sherlock_NOTAM_Data\\Temporary\\notam.20170916T234259Z_tmp.xml        1\n",
       "E:\\Working\\Sherlock_NOTAM_Data\\Temporary\\notam.20180529T110910Z_tmp.xml        1\n",
       "E:\\Working\\Sherlock_NOTAM_Data\\Temporary\\notam.20161006T011234Z_tmp.xml        1\n",
       "E:\\Working\\Sherlock_NOTAM_Data\\Temporary\\notam.20170828T110734Z_tmp.xml        1\n",
       "Name: FILENAME, Length: 109453, dtype: int64"
      ]
     },
     "execution_count": 11,
     "metadata": {},
     "output_type": "execute_result"
    }
   ],
   "source": [
    "df['FILENAME'].value_counts(dropna=False)"
   ]
  },
  {
   "cell_type": "code",
   "execution_count": 12,
   "id": "3cf022ef-7e74-4d15-93d7-03db92e5f121",
   "metadata": {},
   "outputs": [
    {
     "data": {
      "text/plain": [
       "E:\\Working\\Sherlock_NOTAM_Data\\Temporary\\notam.20191001T1507Z_tmp.xml      0.00632\n",
       "E:\\Working\\Sherlock_NOTAM_Data\\Temporary\\notam.20190503T1519Z_tmp.xml      0.00265\n",
       "E:\\Working\\Sherlock_NOTAM_Data\\Temporary\\notam.20160601T204707Z_tmp.xml    0.00113\n",
       "E:\\Working\\Sherlock_NOTAM_Data\\Temporary\\notam.20160831T173246Z_tmp.xml    0.00088\n",
       "E:\\Working\\Sherlock_NOTAM_Data\\Temporary\\notam.20160601T203755Z_tmp.xml    0.00086\n",
       "                                                                            ...   \n",
       "E:\\Working\\Sherlock_NOTAM_Data\\Temporary\\notam.20180403T042219Z_tmp.xml    0.00000\n",
       "E:\\Working\\Sherlock_NOTAM_Data\\Temporary\\notam.20170916T234259Z_tmp.xml    0.00000\n",
       "E:\\Working\\Sherlock_NOTAM_Data\\Temporary\\notam.20180529T110910Z_tmp.xml    0.00000\n",
       "E:\\Working\\Sherlock_NOTAM_Data\\Temporary\\notam.20161006T011234Z_tmp.xml    0.00000\n",
       "E:\\Working\\Sherlock_NOTAM_Data\\Temporary\\notam.20170828T110734Z_tmp.xml    0.00000\n",
       "Name: FILENAME, Length: 109453, dtype: object"
      ]
     },
     "execution_count": 12,
     "metadata": {},
     "output_type": "execute_result"
    }
   ],
   "source": [
    "df['FILENAME'].value_counts(dropna=False, normalize=True).apply(lambda x: '%.5f' % x)"
   ]
  },
  {
   "cell_type": "markdown",
   "id": "a4a5ccc9-43c9-4b76-81a7-731c7f71365e",
   "metadata": {
    "tags": []
   },
   "source": [
    "#### NOTAM_ID\n",
    "* Repeats, but cover an tiny proportion of the data."
   ]
  },
  {
   "cell_type": "code",
   "execution_count": 13,
   "id": "620ec01d-c011-49de-9bea-4b8d6200ffa8",
   "metadata": {},
   "outputs": [
    {
     "data": {
      "text/plain": [
       "0           0604/16\n",
       "1           0603/16\n",
       "2           0605/16\n",
       "3           0607/16\n",
       "4           0602/16\n",
       "             ...   \n",
       "1649073     0377/20\n",
       "1649074    A0123/20\n",
       "1649075      05/026\n",
       "1649076     0158/20\n",
       "1649077    N1321/20\n",
       "Name: NOTAM_ID, Length: 1649078, dtype: object"
      ]
     },
     "execution_count": 13,
     "metadata": {},
     "output_type": "execute_result"
    }
   ],
   "source": [
    "df['NOTAM_ID']"
   ]
  },
  {
   "cell_type": "code",
   "execution_count": 14,
   "id": "76a0320e-f3ed-4edb-926a-e7c52a2e5e18",
   "metadata": {},
   "outputs": [
    {
     "data": {
      "text/plain": [
       "0001/17     4418\n",
       "0002/17     3762\n",
       "0003/17     3438\n",
       "0001/18     3258\n",
       "0004/17     3080\n",
       "            ... \n",
       "2388/18        1\n",
       "M2472/16       1\n",
       "W0450/16       1\n",
       "B0537/16       1\n",
       "N1321/20       1\n",
       "Name: NOTAM_ID, Length: 403403, dtype: int64"
      ]
     },
     "execution_count": 14,
     "metadata": {},
     "output_type": "execute_result"
    }
   ],
   "source": [
    "df['NOTAM_ID'].value_counts(dropna=False)"
   ]
  },
  {
   "cell_type": "code",
   "execution_count": 15,
   "id": "4f2573a5-3741-46be-95bf-f39ee37e56a6",
   "metadata": {},
   "outputs": [
    {
     "data": {
      "text/plain": [
       "0001/17     0.00268\n",
       "0002/17     0.00228\n",
       "0003/17     0.00208\n",
       "0001/18     0.00198\n",
       "0004/17     0.00187\n",
       "             ...   \n",
       "2388/18     0.00000\n",
       "M2472/16    0.00000\n",
       "W0450/16    0.00000\n",
       "B0537/16    0.00000\n",
       "N1321/20    0.00000\n",
       "Name: NOTAM_ID, Length: 403403, dtype: object"
      ]
     },
     "execution_count": 15,
     "metadata": {},
     "output_type": "execute_result"
    }
   ],
   "source": [
    "df['NOTAM_ID'].value_counts(dropna=False, normalize=True).apply(lambda x: '%.5f' % x)"
   ]
  },
  {
   "cell_type": "markdown",
   "id": "e8de887f-443d-4568-b121-e73c04a766c1",
   "metadata": {
    "tags": []
   },
   "source": [
    "#### NOTAM_TYPE\n",
    "* Majority are NOTAMN, at 61% of the data. \n",
    "* Other categories have significat proportions.\n",
    "* Chart included"
   ]
  },
  {
   "cell_type": "code",
   "execution_count": 16,
   "id": "5cf9f6fc-fcff-44bc-9a55-741a5d9d4bc5",
   "metadata": {},
   "outputs": [
    {
     "data": {
      "text/plain": [
       "0             NaN\n",
       "1             NaN\n",
       "2             NaN\n",
       "3             NaN\n",
       "4             NaN\n",
       "            ...  \n",
       "1649073       NaN\n",
       "1649074    NOTAMC\n",
       "1649075    NOTAMN\n",
       "1649076    NOTAMN\n",
       "1649077    NOTAMN\n",
       "Name: NOTAM_TYPE, Length: 1649078, dtype: object"
      ]
     },
     "execution_count": 16,
     "metadata": {},
     "output_type": "execute_result"
    }
   ],
   "source": [
    "df['NOTAM_TYPE']"
   ]
  },
  {
   "cell_type": "code",
   "execution_count": 17,
   "id": "f1d8df0b-d4fc-41c6-ba24-49604808cb9f",
   "metadata": {},
   "outputs": [
    {
     "data": {
      "text/plain": [
       "NOTAMN    1016343\n",
       "NOTAMC     281717\n",
       "NaN        221143\n",
       "NOTAMR     129875\n",
       "Name: NOTAM_TYPE, dtype: int64"
      ]
     },
     "execution_count": 17,
     "metadata": {},
     "output_type": "execute_result"
    }
   ],
   "source": [
    "df['NOTAM_TYPE'].value_counts(dropna=False)"
   ]
  },
  {
   "cell_type": "code",
   "execution_count": 18,
   "id": "bd593c9c-b180-4d64-b8ae-7607f5db57d6",
   "metadata": {},
   "outputs": [
    {
     "data": {
      "text/plain": [
       "NOTAMN    0.61631\n",
       "NOTAMC    0.17083\n",
       "NaN       0.13410\n",
       "NOTAMR    0.07876\n",
       "Name: NOTAM_TYPE, dtype: object"
      ]
     },
     "execution_count": 18,
     "metadata": {},
     "output_type": "execute_result"
    }
   ],
   "source": [
    "df['NOTAM_TYPE'].value_counts(dropna=False, normalize=True).apply(lambda x: '%.5f' % x)"
   ]
  },
  {
   "cell_type": "code",
   "execution_count": 19,
   "id": "cd554ff2-5cc9-449e-b002-240e01eb1b11",
   "metadata": {},
   "outputs": [
    {
     "data": {
      "image/png": "[encoded data removed]",
      "text/plain": [
       "<Figure size 720x360 with 1 Axes>"
      ]
     },
     "metadata": {
      "needs_background": "light"
     },
     "output_type": "display_data"
    }
   ],
   "source": [
    "df['NOTAM_TYPE'].value_counts(dropna=False, normalize=True).plot(kind='bar', \n",
    "                                                                 title='NOTAM Types Proportion of Data',\n",
    "                                                                 figsize=(10, 5));"
   ]
  },
  {
   "cell_type": "markdown",
   "id": "9a582813-a0fa-43a2-b8fd-94eed87c8a16",
   "metadata": {
    "jp-MarkdownHeadingCollapsed": true,
    "tags": []
   },
   "source": [
    "#### RELATED_NOTAM_ID\n",
    "* Majority are NaNs, at 77% of the data.\n",
    "* No other entry has a material proportion of the data.\n",
    "* Repeats"
   ]
  },
  {
   "cell_type": "code",
   "execution_count": 20,
   "id": "35356f18-ff2d-4c4b-8541-e3782cfc042d",
   "metadata": {},
   "outputs": [
    {
     "data": {
      "text/plain": [
       "0               NaN\n",
       "1               NaN\n",
       "2               NaN\n",
       "3               NaN\n",
       "4               NaN\n",
       "             ...   \n",
       "1649073         NaN\n",
       "1649074    A0122/20\n",
       "1649075         NaN\n",
       "1649076         NaN\n",
       "1649077         NaN\n",
       "Name: RELATED_NOTAM_ID, Length: 1649078, dtype: object"
      ]
     },
     "execution_count": 20,
     "metadata": {},
     "output_type": "execute_result"
    }
   ],
   "source": [
    "df['RELATED_NOTAM_ID']"
   ]
  },
  {
   "cell_type": "code",
   "execution_count": 21,
   "id": "8a4b0146-9851-4c84-94dc-de27805ff35b",
   "metadata": {},
   "outputs": [
    {
     "data": {
      "text/plain": [
       "NaN         1280946\n",
       "A0001/18        117\n",
       "A0001/17         97\n",
       "A0001/19         79\n",
       "B0001/18         53\n",
       "             ...   \n",
       "R0119/16          1\n",
       "8/2529            1\n",
       "F0119/18          1\n",
       "R0121/16          1\n",
       "C0616/20          1\n",
       "Name: RELATED_NOTAM_ID, Length: 173735, dtype: int64"
      ]
     },
     "execution_count": 21,
     "metadata": {},
     "output_type": "execute_result"
    }
   ],
   "source": [
    "df['RELATED_NOTAM_ID'].value_counts(dropna=False)"
   ]
  },
  {
   "cell_type": "code",
   "execution_count": 22,
   "id": "e85d8dd0-760e-4662-bc86-3cec230cc8a2",
   "metadata": {},
   "outputs": [
    {
     "data": {
      "text/plain": [
       "NaN         0.77676\n",
       "A0001/18    0.00007\n",
       "A0001/17    0.00006\n",
       "A0001/19    0.00005\n",
       "B0001/18    0.00003\n",
       "             ...   \n",
       "R0119/16    0.00000\n",
       "8/2529      0.00000\n",
       "F0119/18    0.00000\n",
       "R0121/16    0.00000\n",
       "C0616/20    0.00000\n",
       "Name: RELATED_NOTAM_ID, Length: 173735, dtype: object"
      ]
     },
     "execution_count": 22,
     "metadata": {},
     "output_type": "execute_result"
    }
   ],
   "source": [
    "df['RELATED_NOTAM_ID'].value_counts(dropna=False, normalize=True).apply(lambda x: '%.5f' % x)"
   ]
  },
  {
   "cell_type": "markdown",
   "id": "e685c079-079b-4ab7-a45a-c8d445be3084",
   "metadata": {
    "jp-MarkdownHeadingCollapsed": true,
    "tags": []
   },
   "source": [
    "#### SIMPLE_TEXT\n",
    "* Close to majority are NaNs, covering 49% of the data. \n",
    "* No other entry has a material proportion of the data.\n",
    "* A few repeats"
   ]
  },
  {
   "cell_type": "code",
   "execution_count": 23,
   "id": "659ffd7c-d574-4cfc-a8ba-35100e795623",
   "metadata": {},
   "outputs": [
    {
     "data": {
      "text/plain": [
       "0          !SUAC 05/604 ZAU AIRSPACE VOLK SOUTH MOA ACT 5...\n",
       "1          !SUAC 05/603 ZAU AIRSPACE VOLK EAST MOA ACT 80...\n",
       "2          !SUAC 05/605 ZMP AIRSPACE FALLS 1 MOA ACT 500F...\n",
       "3          !SUAC 05/607 ZMP AIRSPACE FALLS 2 MOA ACT 500F...\n",
       "4          !SUAC 05/602 ZMP AIRSPACE VOLK WEST MOA ACT 10...\n",
       "                                 ...                        \n",
       "1649073    !ATL 05/377 ATL AIRSPACE UAS WI AN AREA DEFINE...\n",
       "1649074                                                  NaN\n",
       "1649075    !BTL 05/026 BTL NAV ILS RWY 23R U/S 2006011500...\n",
       "1649076    !CDC 05/158 HCR RWY 04/22 UNSAFE DISABLED ACFT...\n",
       "1649077                                                  NaN\n",
       "Name: SIMPLE_TEXT, Length: 1649078, dtype: object"
      ]
     },
     "execution_count": 23,
     "metadata": {},
     "output_type": "execute_result"
    }
   ],
   "source": [
    "df['SIMPLE_TEXT']"
   ]
  },
  {
   "cell_type": "code",
   "execution_count": 24,
   "id": "f2b2d2cf-1d3a-4f46-9478-74d275dd2f61",
   "metadata": {},
   "outputs": [
    {
     "data": {
      "text/plain": [
       "NaN                                                                                                                                                                                                                                                                                                                                                                                                                                                                                                                                                                                                                                                                                                                                                                                                                                                                                                                                                                                                                                                                                                                                                                                                                                                                                                                                                                                                                                                                                                                                                                                                                                                                                                                                                                                                                                                                                                                                                                                                                                                                                                                                                                                                                                                                                                                                                                                                                                                                                                                                                                                                                                                                                                                                                                                                                                                                                                                                                                                                                                                                                                                                                                                                                                                                                                                                                                                                                                                                                                                                                                                                                                                                                                                                                                                                                                                                                                                                                                                                                                                                                                                                                         821116\n",
       "!YXX 06/018 RF2  CRF2 OBST LGT U/S TOWER 490011N 1223152W (APRX 6 NM E AD) 150 FT AGL 330 MSL  1706130730-1706131500EST                                                                                                                                                                                                                                                                                                                                                                                                                                                                                                                                                                                                                                                                                                                                                                                                                                                                                                                                                                                                                                                                                                                                                                                                                                                                                                                                                                                                                                                                                                                                                                                                                                                                                                                                                                                                                                                                                                                                                                                                                                                                                                                                                                                                                                                                                                                                                                                                                                                                                                                                                                                                                                                                                                                                                                                                                                                                                                                                                                                                                                                                                                                                                                                                                                                                                                                                                                                                                                                                                                                                                                                                                                                                                                                                                                                                                                                                                                                                                                                                                                         24\n",
       "M0011/18 NOTAMC M0010/18                                                                                                                                                                                                                                                                                                                                                                                                                                                                                                                                                                                                                                                                                                                                                                                                                                                                                                                                                                                                                                                                                                                                                                                                                                                                                                                                                                                                                                                                                                                                                                                                                                                                                                                                                                                                                                                                                                                                                                                                                                                                                                                                                                                                                                                                                                                                                                                                                                                                                                                                                                                                                                                                                                                                                                                                                                                                                                                                                                                                                                                                                                                                                                                                                                                                                                                                                                                                                                                                                                                                                                                                                                                                                                                                                                                                                                                                                                                                                                                                                                                                                                                                        16\n",
       "M0036/17 NOTAMC M0035/17                                                                                                                                                                                                                                                                                                                                                                                                                                                                                                                                                                                                                                                                                                                                                                                                                                                                                                                                                                                                                                                                                                                                                                                                                                                                                                                                                                                                                                                                                                                                                                                                                                                                                                                                                                                                                                                                                                                                                                                                                                                                                                                                                                                                                                                                                                                                                                                                                                                                                                                                                                                                                                                                                                                                                                                                                                                                                                                                                                                                                                                                                                                                                                                                                                                                                                                                                                                                                                                                                                                                                                                                                                                                                                                                                                                                                                                                                                                                                                                                                                                                                                                                        14\n",
       "M0033/19 NOTAMC M0032/19                                                                                                                                                                                                                                                                                                                                                                                                                                                                                                                                                                                                                                                                                                                                                                                                                                                                                                                                                                                                                                                                                                                                                                                                                                                                                                                                                                                                                                                                                                                                                                                                                                                                                                                                                                                                                                                                                                                                                                                                                                                                                                                                                                                                                                                                                                                                                                                                                                                                                                                                                                                                                                                                                                                                                                                                                                                                                                                                                                                                                                                                                                                                                                                                                                                                                                                                                                                                                                                                                                                                                                                                                                                                                                                                                                                                                                                                                                                                                                                                                                                                                                                                        14\n",
       "                                                                                                                                                                                                                                                                                                                                                                                                                                                                                                                                                                                                                                                                                                                                                                                                                                                                                                                                                                                                                                                                                                                                                                                                                                                                                                                                                                                                                                                                                                                                                                                                                                                                                                                                                                                                                                                                                                                                                                                                                                                                                                                                                                                                                                                                                                                                                                                                                                                                                                                                                                                                                                                                                                                                                                                                                                                                                                                                                                                                                                                                                                                                                                                                                                                                                                                                                                                                                                                                                                                                                                                                                                                                                                                                                                                                                                                                                                                                                                                                                                                                                                                                                             ...  \n",
       "!FDC 7/9611 ZNY PART 1 OF 5 NJ..AIRSPACE MORRISTOWN, NEW  JERSEY..TEMPORARY FLIGHT RESTRICTIONS.         AUGUST 14, 2017 LOCAL.  PURSUANT TO 49 USC 40103(B), THE  FEDERAL AVIATION ADMINISTRATION (FAA) CLASSIFIES THE AIRSPACE  DEFINED IN THIS NOTAM AS &apos;NATIONAL DEFENSE AIRSPACE&apos;. PILOTS WHO  DO NOT ADHERE TO THE FOLLOWING PROCEDURES MAY BE INTERCEPTED,  DETAINED AND INTERVIEWED BY LAW ENFORCEMENT/SECURITY PERSONNEL.  ANY OF THE FOLLOWING ADDITIONAL ACTIONS MAY ALSO BE TAKEN AGAINST  A PILOT WHO DOES NOT COMPLY WITH THE REQUIREMENTS OR ANY SPECIAL  INSTRUCTIONS OR PROCEDURES ANNOUNCED IN THIS NOTAM:  A) THE FAA MAY TAKE ADMINISTRATIVE ACTION, INCLUDING IMPOSING CIVIL  PENALTIES AND THE SUSPENSION OR REVOCATION OF AIRMEN CERTIFICATES;  OR   B) THE UNITED STATES GOVERNMENT MAY PURSUE CRIMINAL CHARGES,  INCLUDING CHARGES UNDER TITLE 49 OF THE UNITED STATES CODE,  SECTION 46307; OR   C) THE UNITED STATES GOVERNMENT MAY USE DEADLY FORCE AGAINST THE  AIRBORNE AIRCRAFT, IF IT IS DETERMINED THAT THE AIRCRAFT POSES AN  IMMINENT SECURITY THREAT.    PURSUANT TO TITLE 14, SECTION 91.141 OF THE CODE OF FEDERAL  1708141445-1708141600 END PART 1 OF 5 !FDC 7/9611 ZNY PART 2 OF 5 NJ..AIRSPACE MORRISTOWN, NEW  JERSEY..TEMPORARY REGULATIONS, AIRCRAFT FLIGHT OPERATIONS ARE PROHIBITED   WI AN AREA DEFINED AS 30NM RADIUS OF 404810N0742451W (TEB271016.3)  SFC-17999FT MSL        EFFECTIVE 1708141445 UTC (1045 LOCAL 08/14/17)           UNTIL 1708141600 UTC (1200 LOCAL 08/14/17).    WI AN AREA DEFINED AS 10NM RADIUS OF 404810N0742451W (TEB271016.3) SFC-17999FT MSL      EFFECTIVE 1708141445 UTC (1045 LOCAL 08/14/17)           UNTIL 1708141600 UTC (1200 LOCAL 08/14/17).   EXCEPT AS SPECIFIED BELOW AND/OR UNLESS AUTHORIZED BY ATC IN CONSULTATION WITH THE AIR TRAFFIC SECURITY COORDINATOR VIA THE DOMESTIC EVENTS NETWORK (DEN): A. ALL AIRCRAFT OPERATIONS WITHIN THE 10 NMR    AREA(S) LISTED ABOVE, KNOWN AS THE INNER CORE(S),    ARE PROHIBITED EXCEPT FOR: APPROVED LAW 1708141445-1708141600 END PART 2 OF 5 !FDC 7/9611 ZNY PART 3 OF 5 NJ..AIRSPACE MORRISTOWN, NEW  JERSEY..TEMPORARY    ENFORCEMENT, MILITARY AIRCRAFT DIRECTLY SUPPORTING    THE UNITED STATES SECRET SERVICE (USSS) AND THE    OFFICE OF THE PRESIDENT OF THE UNITED STATES,    APPROVED AIR AMBULANCE FLIGHTS, AND REGULARLY    SCHEDULED COMMERCIAL PASSENGER AND ALL-CARGO    CARRIERS OPERATING UNDER ONE OF THE FOLLOWING    TSA-APPROVED STANDARD SECURITY    PROGRAMS/PROCEDURES: AIRCRAFT OPERATOR STANDARD    SECURITY PROGRAM (AOSSP), FULL ALL-CARGO AIRCRAFT    OPERATOR STANDARD SECURITY PROGRAM (FACAOSSP),    MODEL SECURITY PROGRAM (MSP), TWELVE FIVE STANDARD    SECURITY PROGRAM (TFSSP) ALL CARGO, OR ALL-CARGO    INTERNATIONAL SECURITY PROCEDURE (ACISP) AND ARE    ARRIVING INTO AND/OR DEPARTING FROM 14 CFR PART    139 AIRPORTS. ALL EMERGENCY/LIFE SAVING FLIGHT    (MEDICAL/LAW ENFORCEMENT/FIREFIGHTING) OPERATIONS    MUST COORDINATE WITH ATC PRIOR TO THEIR DEPARTURE    AT 516-683-2966 TO AVOID POTENTIAL DELAYS. B. FOR OPERATIONS WITHIN THE AIRSPACE BETWEEN THE 1708141445-1708141600 END PART 3 OF 5 !FDC 7/9611 ZNY PART 4 OF 5 NJ..AIRSPACE MORRISTOWN, NEW  JERSEY..TEMPORARY    10 NMR AND 30 NMR AREA(S) LISTED ABOVE, KNOWN AS    THE OUTER RING(S): ALL AIRCRAFT OPERATING WITHIN    THE OUTER RING(S) LISTED ABOVE ARE LIMITED TO    AIRCRAFT ARRIVING OR DEPARTING LOCAL AIRFIELDS,    AND WORKLOAD PERMITTING, ATC MAY AUTHORIZE TRANSIT    OPERATIONS. ALL AIRCRAFT MUST BE ON AN ACTIVE IFR    OR FILED VFR FLIGHT PLAN WITH A DISCRETE CODE    ASSIGNED BY AN AIR TRAFFIC CONTROL (ATC) FACILITY.    AIRCRAFT MUST BE SQUAWKING THE DISCRETE CODE PRIOR    TO DEPARTURE AND AT ALL TIMES WHILE IN THE TFR AND    MUST REMAIN IN TWO-WAY RADIO COMMUNICATIONS WITH    ATC. C. THE FOLLOWING OPERATIONS ARE NOT AUTHORIZED    WITHIN THIS TFR: FLIGHT TRAINING, PRACTICE    INSTRUMENT APPROACHES, AEROBATIC FLIGHT, GLIDER    OPERATIONS, SEAPLANE OPERATIONS, PARACHUTE    OPERATIONS, ULTRALIGHT, HANG GLIDING, BALLOON    OPERATIONS, AG         1\n",
       "!YOW 08/037 YOW  CYOW TKOF RWY 25 AUTH FM TWY F AND WEST ONLY DECLARED DIST: RWY 07: TORA 8000 TODA 8984 ASDA 8000 LDA 8000 RWY 25: TORA 5300 TODA 6284 ASDA 5300 LDA 8000  1708141300-1708142100                                                                                                                                                                                                                                                                                                                                                                                                                                                                                                                                                                                                                                                                                                                                                                                                                                                                                                                                                                                                                                                                                                                                                                                                                                                                                                                                                                                                                                                                                                                                                                                                                                                                                                                                                                                                                                                                                                                                                                                                                                                                                                                                                                                                                                                                                                                                                                                                                                                                                                                                                                                                                                                                                                                                                                                                                                                                                                                                                                                                                                                                                                                                                                                                                                                                                                                                                                                                                                                                                                                                                                                                                                                                                                                                                                                                                                                                                                                                                                1\n",
       "!SJT 08/160 BBD RWY 17/35 CLSD 1708121340-1708122000                                                                                                                                                                                                                                                                                                                                                                                                                                                                                                                                                                                                                                                                                                                                                                                                                                                                                                                                                                                                                                                                                                                                                                                                                                                                                                                                                                                                                                                                                                                                                                                                                                                                                                                                                                                                                                                                                                                                                                                                                                                                                                                                                                                                                                                                                                                                                                                                                                                                                                                                                                                                                                                                                                                                                                                                                                                                                                                                                                                                                                                                                                                                                                                                                                                                                                                                                                                                                                                                                                                                                                                                                                                                                                                                                                                                                                                                                                                                                                                                                                                                                                             1\n",
       "!FDC 7/9613 ZBW PART 1 OF 5 NJ..AIRSPACE MORRISTOWN, NEW  JERSEY..TEMPORARY FLIGHT RESTRICTIONS.         AUGUST 14, 2017 LOCAL.  PURSUANT TO 49 USC 40103(B), THE  FEDERAL AVIATION ADMINISTRATION (FAA) CLASSIFIES THE AIRSPACE  DEFINED IN THIS NOTAM AS &apos;NATIONAL DEFENSE AIRSPACE&apos;. PILOTS WHO  DO NOT ADHERE TO THE FOLLOWING PROCEDURES MAY BE INTERCEPTED,  DETAINED AND INTERVIEWED BY LAW ENFORCEMENT/SECURITY PERSONNEL.  ANY OF THE FOLLOWING ADDITIONAL ACTIONS MAY ALSO BE TAKEN AGAINST  A PILOT WHO DOES NOT COMPLY WITH THE REQUIREMENTS OR ANY SPECIAL  INSTRUCTIONS OR PROCEDURES ANNOUNCED IN THIS NOTAM:  A) THE FAA MAY TAKE ADMINISTRATIVE ACTION, INCLUDING IMPOSING CIVIL  PENALTIES AND THE SUSPENSION OR REVOCATION OF AIRMEN CERTIFICATES;  OR   B) THE UNITED STATES GOVERNMENT MAY PURSUE CRIMINAL CHARGES,  INCLUDING CHARGES UNDER TITLE 49 OF THE UNITED STATES CODE,  SECTION 46307; OR   C) THE UNITED STATES GOVERNMENT MAY USE DEADLY FORCE AGAINST THE  AIRBORNE AIRCRAFT, IF IT IS DETERMINED THAT THE AIRCRAFT POSES AN  IMMINENT SECURITY THREAT.    PURSUANT TO TITLE 14, SECTION 91.141 OF THE CODE OF FEDERAL  1708141445-1708141600 END PART 1 OF 5 !FDC 7/9613 ZBW PART 2 OF 5 NJ..AIRSPACE MORRISTOWN, NEW  JERSEY..TEMPORARY REGULATIONS, AIRCRAFT FLIGHT OPERATIONS ARE PROHIBITED   WI AN AREA DEFINED AS 30NM RADIUS OF 404810N0742451W (TEB271016.3)  SFC-17999FT MSL        EFFECTIVE 1708141445 UTC (1045 LOCAL 08/14/17)           UNTIL 1708141600 UTC (1200 LOCAL 08/14/17).    WI AN AREA DEFINED AS 10NM RADIUS OF 404810N0742451W (TEB271016.3) SFC-17999FT MSL      EFFECTIVE 1708141445 UTC (1045 LOCAL 08/14/17)           UNTIL 1708141600 UTC (1200 LOCAL 08/14/17).   EXCEPT AS SPECIFIED BELOW AND/OR UNLESS AUTHORIZED BY ATC IN CONSULTATION WITH THE AIR TRAFFIC SECURITY COORDINATOR VIA THE DOMESTIC EVENTS NETWORK (DEN): A. ALL AIRCRAFT OPERATIONS WITHIN THE 10 NMR    AREA(S) LISTED ABOVE, KNOWN AS THE INNER CORE(S),    ARE PROHIBITED EXCEPT FOR: APPROVED LAW 1708141445-1708141600 END PART 2 OF 5 !FDC 7/9613 ZBW PART 3 OF 5 NJ..AIRSPACE MORRISTOWN, NEW  JERSEY..TEMPORARY    ENFORCEMENT, MILITARY AIRCRAFT DIRECTLY SUPPORTING    THE UNITED STATES SECRET SERVICE (USSS) AND THE    OFFICE OF THE PRESIDENT OF THE UNITED STATES,    APPROVED AIR AMBULANCE FLIGHTS, AND REGULARLY    SCHEDULED COMMERCIAL PASSENGER AND ALL-CARGO    CARRIERS OPERATING UNDER ONE OF THE FOLLOWING    TSA-APPROVED STANDARD SECURITY    PROGRAMS/PROCEDURES: AIRCRAFT OPERATOR STANDARD    SECURITY PROGRAM (AOSSP), FULL ALL-CARGO AIRCRAFT    OPERATOR STANDARD SECURITY PROGRAM (FACAOSSP),    MODEL SECURITY PROGRAM (MSP), TWELVE FIVE STANDARD    SECURITY PROGRAM (TFSSP) ALL CARGO, OR ALL-CARGO    INTERNATIONAL SECURITY PROCEDURE (ACISP) AND ARE    ARRIVING INTO AND/OR DEPARTING FROM 14 CFR PART    139 AIRPORTS. ALL EMERGENCY/LIFE SAVING FLIGHT    (MEDICAL/LAW ENFORCEMENT/FIREFIGHTING) OPERATIONS    MUST COORDINATE WITH ATC PRIOR TO THEIR DEPARTURE    AT 516-683-2966 TO AVOID POTENTIAL DELAYS. B. FOR OPERATIONS WITHIN THE AIRSPACE BETWEEN THE 1708141445-1708141600 END PART 3 OF 5 !FDC 7/9613 ZBW PART 4 OF 5 NJ..AIRSPACE MORRISTOWN, NEW  JERSEY..TEMPORARY    10 NMR AND 30 NMR AREA(S) LISTED ABOVE, KNOWN AS    THE OUTER RING(S): ALL AIRCRAFT OPERATING WITHIN    THE OUTER RING(S) LISTED ABOVE ARE LIMITED TO    AIRCRAFT ARRIVING OR DEPARTING LOCAL AIRFIELDS,    AND WORKLOAD PERMITTING, ATC MAY AUTHORIZE TRANSIT    OPERATIONS. ALL AIRCRAFT MUST BE ON AN ACTIVE IFR    OR FILED VFR FLIGHT PLAN WITH A DISCRETE CODE    ASSIGNED BY AN AIR TRAFFIC CONTROL (ATC) FACILITY.    AIRCRAFT MUST BE SQUAWKING THE DISCRETE CODE PRIOR    TO DEPARTURE AND AT ALL TIMES WHILE IN THE TFR AND    MUST REMAIN IN TWO-WAY RADIO COMMUNICATIONS WITH    ATC. C. THE FOLLOWING OPERATIONS ARE NOT AUTHORIZED    WITHIN THIS TFR: FLIGHT TRAINING, PRACTICE    INSTRUMENT APPROACHES, AEROBATIC FLIGHT, GLIDER    OPERATIONS, SEAPLANE OPERATIONS, PARACHUTE    OPERATIONS, ULTRALIGHT, HANG GLIDING, BALLOON    OPERATIONS, AG         1\n",
       "!CDC 05/158 HCR RWY 04/22 UNSAFE DISABLED ACFT NE END 2005311952-2006010100                                                                                                                                                                                                                                                                                                                                                                                                                                                                                                                                                                                                                                                                                                                                                                                                                                                                                                                                                                                                                                                                                                                                                                                                                                                                                                                                                                                                                                                                                                                                                                                                                                                                                                                                                                                                                                                                                                                                                                                                                                                                                                                                                                                                                                                                                                                                                                                                                                                                                                                                                                                                                                                                                                                                                                                                                                                                                                                                                                                                                                                                                                                                                                                                                                                                                                                                                                                                                                                                                                                                                                                                                                                                                                                                                                                                                                                                                                                                                                                                                                                                                      1\n",
       "Name: SIMPLE_TEXT, Length: 815086, dtype: int64"
      ]
     },
     "execution_count": 24,
     "metadata": {},
     "output_type": "execute_result"
    }
   ],
   "source": [
    "df['SIMPLE_TEXT'].value_counts(dropna=False)"
   ]
  },
  {
   "cell_type": "code",
   "execution_count": 25,
   "id": "fb623fe0-aef8-4ea8-b8f8-06aa1ecd59ef",
   "metadata": {},
   "outputs": [
    {
     "data": {
      "text/plain": [
       "NaN                                                                                                                                                                                                                                                                                                                                                                                                                                                                                                                                                                                                                                                                                                                                                                                                                                                                                                                                                                                                                                                                                                                                                                                                                                                                                                                                                                                                                                                                                                                                                                                                                                                                                                                                                                                                                                                                                                                                                                                                                                                                                                                                                                                                                                                                                                                                                                                                                                                                                                                                                                                                                                                                                                                                                                                                                                                                                                                                                                                                                                                                                                                                                                                                                                                                                                                                                                                                                                                                                                                                                                                                                                                                                                                                                                                                                                                                                                                                                                                                                                                                                                                                                         0.49792\n",
       "!YXX 06/018 RF2  CRF2 OBST LGT U/S TOWER 490011N 1223152W (APRX 6 NM E AD) 150 FT AGL 330 MSL  1706130730-1706131500EST                                                                                                                                                                                                                                                                                                                                                                                                                                                                                                                                                                                                                                                                                                                                                                                                                                                                                                                                                                                                                                                                                                                                                                                                                                                                                                                                                                                                                                                                                                                                                                                                                                                                                                                                                                                                                                                                                                                                                                                                                                                                                                                                                                                                                                                                                                                                                                                                                                                                                                                                                                                                                                                                                                                                                                                                                                                                                                                                                                                                                                                                                                                                                                                                                                                                                                                                                                                                                                                                                                                                                                                                                                                                                                                                                                                                                                                                                                                                                                                                                                     0.00001\n",
       "M0011/18 NOTAMC M0010/18                                                                                                                                                                                                                                                                                                                                                                                                                                                                                                                                                                                                                                                                                                                                                                                                                                                                                                                                                                                                                                                                                                                                                                                                                                                                                                                                                                                                                                                                                                                                                                                                                                                                                                                                                                                                                                                                                                                                                                                                                                                                                                                                                                                                                                                                                                                                                                                                                                                                                                                                                                                                                                                                                                                                                                                                                                                                                                                                                                                                                                                                                                                                                                                                                                                                                                                                                                                                                                                                                                                                                                                                                                                                                                                                                                                                                                                                                                                                                                                                                                                                                                                                    0.00001\n",
       "M0036/17 NOTAMC M0035/17                                                                                                                                                                                                                                                                                                                                                                                                                                                                                                                                                                                                                                                                                                                                                                                                                                                                                                                                                                                                                                                                                                                                                                                                                                                                                                                                                                                                                                                                                                                                                                                                                                                                                                                                                                                                                                                                                                                                                                                                                                                                                                                                                                                                                                                                                                                                                                                                                                                                                                                                                                                                                                                                                                                                                                                                                                                                                                                                                                                                                                                                                                                                                                                                                                                                                                                                                                                                                                                                                                                                                                                                                                                                                                                                                                                                                                                                                                                                                                                                                                                                                                                                    0.00001\n",
       "M0033/19 NOTAMC M0032/19                                                                                                                                                                                                                                                                                                                                                                                                                                                                                                                                                                                                                                                                                                                                                                                                                                                                                                                                                                                                                                                                                                                                                                                                                                                                                                                                                                                                                                                                                                                                                                                                                                                                                                                                                                                                                                                                                                                                                                                                                                                                                                                                                                                                                                                                                                                                                                                                                                                                                                                                                                                                                                                                                                                                                                                                                                                                                                                                                                                                                                                                                                                                                                                                                                                                                                                                                                                                                                                                                                                                                                                                                                                                                                                                                                                                                                                                                                                                                                                                                                                                                                                                    0.00001\n",
       "                                                                                                                                                                                                                                                                                                                                                                                                                                                                                                                                                                                                                                                                                                                                                                                                                                                                                                                                                                                                                                                                                                                                                                                                                                                                                                                                                                                                                                                                                                                                                                                                                                                                                                                                                                                                                                                                                                                                                                                                                                                                                                                                                                                                                                                                                                                                                                                                                                                                                                                                                                                                                                                                                                                                                                                                                                                                                                                                                                                                                                                                                                                                                                                                                                                                                                                                                                                                                                                                                                                                                                                                                                                                                                                                                                                                                                                                                                                                                                                                                                                                                                                                                             ...   \n",
       "!FDC 7/9611 ZNY PART 1 OF 5 NJ..AIRSPACE MORRISTOWN, NEW  JERSEY..TEMPORARY FLIGHT RESTRICTIONS.         AUGUST 14, 2017 LOCAL.  PURSUANT TO 49 USC 40103(B), THE  FEDERAL AVIATION ADMINISTRATION (FAA) CLASSIFIES THE AIRSPACE  DEFINED IN THIS NOTAM AS &apos;NATIONAL DEFENSE AIRSPACE&apos;. PILOTS WHO  DO NOT ADHERE TO THE FOLLOWING PROCEDURES MAY BE INTERCEPTED,  DETAINED AND INTERVIEWED BY LAW ENFORCEMENT/SECURITY PERSONNEL.  ANY OF THE FOLLOWING ADDITIONAL ACTIONS MAY ALSO BE TAKEN AGAINST  A PILOT WHO DOES NOT COMPLY WITH THE REQUIREMENTS OR ANY SPECIAL  INSTRUCTIONS OR PROCEDURES ANNOUNCED IN THIS NOTAM:  A) THE FAA MAY TAKE ADMINISTRATIVE ACTION, INCLUDING IMPOSING CIVIL  PENALTIES AND THE SUSPENSION OR REVOCATION OF AIRMEN CERTIFICATES;  OR   B) THE UNITED STATES GOVERNMENT MAY PURSUE CRIMINAL CHARGES,  INCLUDING CHARGES UNDER TITLE 49 OF THE UNITED STATES CODE,  SECTION 46307; OR   C) THE UNITED STATES GOVERNMENT MAY USE DEADLY FORCE AGAINST THE  AIRBORNE AIRCRAFT, IF IT IS DETERMINED THAT THE AIRCRAFT POSES AN  IMMINENT SECURITY THREAT.    PURSUANT TO TITLE 14, SECTION 91.141 OF THE CODE OF FEDERAL  1708141445-1708141600 END PART 1 OF 5 !FDC 7/9611 ZNY PART 2 OF 5 NJ..AIRSPACE MORRISTOWN, NEW  JERSEY..TEMPORARY REGULATIONS, AIRCRAFT FLIGHT OPERATIONS ARE PROHIBITED   WI AN AREA DEFINED AS 30NM RADIUS OF 404810N0742451W (TEB271016.3)  SFC-17999FT MSL        EFFECTIVE 1708141445 UTC (1045 LOCAL 08/14/17)           UNTIL 1708141600 UTC (1200 LOCAL 08/14/17).    WI AN AREA DEFINED AS 10NM RADIUS OF 404810N0742451W (TEB271016.3) SFC-17999FT MSL      EFFECTIVE 1708141445 UTC (1045 LOCAL 08/14/17)           UNTIL 1708141600 UTC (1200 LOCAL 08/14/17).   EXCEPT AS SPECIFIED BELOW AND/OR UNLESS AUTHORIZED BY ATC IN CONSULTATION WITH THE AIR TRAFFIC SECURITY COORDINATOR VIA THE DOMESTIC EVENTS NETWORK (DEN): A. ALL AIRCRAFT OPERATIONS WITHIN THE 10 NMR    AREA(S) LISTED ABOVE, KNOWN AS THE INNER CORE(S),    ARE PROHIBITED EXCEPT FOR: APPROVED LAW 1708141445-1708141600 END PART 2 OF 5 !FDC 7/9611 ZNY PART 3 OF 5 NJ..AIRSPACE MORRISTOWN, NEW  JERSEY..TEMPORARY    ENFORCEMENT, MILITARY AIRCRAFT DIRECTLY SUPPORTING    THE UNITED STATES SECRET SERVICE (USSS) AND THE    OFFICE OF THE PRESIDENT OF THE UNITED STATES,    APPROVED AIR AMBULANCE FLIGHTS, AND REGULARLY    SCHEDULED COMMERCIAL PASSENGER AND ALL-CARGO    CARRIERS OPERATING UNDER ONE OF THE FOLLOWING    TSA-APPROVED STANDARD SECURITY    PROGRAMS/PROCEDURES: AIRCRAFT OPERATOR STANDARD    SECURITY PROGRAM (AOSSP), FULL ALL-CARGO AIRCRAFT    OPERATOR STANDARD SECURITY PROGRAM (FACAOSSP),    MODEL SECURITY PROGRAM (MSP), TWELVE FIVE STANDARD    SECURITY PROGRAM (TFSSP) ALL CARGO, OR ALL-CARGO    INTERNATIONAL SECURITY PROCEDURE (ACISP) AND ARE    ARRIVING INTO AND/OR DEPARTING FROM 14 CFR PART    139 AIRPORTS. ALL EMERGENCY/LIFE SAVING FLIGHT    (MEDICAL/LAW ENFORCEMENT/FIREFIGHTING) OPERATIONS    MUST COORDINATE WITH ATC PRIOR TO THEIR DEPARTURE    AT 516-683-2966 TO AVOID POTENTIAL DELAYS. B. FOR OPERATIONS WITHIN THE AIRSPACE BETWEEN THE 1708141445-1708141600 END PART 3 OF 5 !FDC 7/9611 ZNY PART 4 OF 5 NJ..AIRSPACE MORRISTOWN, NEW  JERSEY..TEMPORARY    10 NMR AND 30 NMR AREA(S) LISTED ABOVE, KNOWN AS    THE OUTER RING(S): ALL AIRCRAFT OPERATING WITHIN    THE OUTER RING(S) LISTED ABOVE ARE LIMITED TO    AIRCRAFT ARRIVING OR DEPARTING LOCAL AIRFIELDS,    AND WORKLOAD PERMITTING, ATC MAY AUTHORIZE TRANSIT    OPERATIONS. ALL AIRCRAFT MUST BE ON AN ACTIVE IFR    OR FILED VFR FLIGHT PLAN WITH A DISCRETE CODE    ASSIGNED BY AN AIR TRAFFIC CONTROL (ATC) FACILITY.    AIRCRAFT MUST BE SQUAWKING THE DISCRETE CODE PRIOR    TO DEPARTURE AND AT ALL TIMES WHILE IN THE TFR AND    MUST REMAIN IN TWO-WAY RADIO COMMUNICATIONS WITH    ATC. C. THE FOLLOWING OPERATIONS ARE NOT AUTHORIZED    WITHIN THIS TFR: FLIGHT TRAINING, PRACTICE    INSTRUMENT APPROACHES, AEROBATIC FLIGHT, GLIDER    OPERATIONS, SEAPLANE OPERATIONS, PARACHUTE    OPERATIONS, ULTRALIGHT, HANG GLIDING, BALLOON    OPERATIONS, AG    0.00000\n",
       "!YOW 08/037 YOW  CYOW TKOF RWY 25 AUTH FM TWY F AND WEST ONLY DECLARED DIST: RWY 07: TORA 8000 TODA 8984 ASDA 8000 LDA 8000 RWY 25: TORA 5300 TODA 6284 ASDA 5300 LDA 8000  1708141300-1708142100                                                                                                                                                                                                                                                                                                                                                                                                                                                                                                                                                                                                                                                                                                                                                                                                                                                                                                                                                                                                                                                                                                                                                                                                                                                                                                                                                                                                                                                                                                                                                                                                                                                                                                                                                                                                                                                                                                                                                                                                                                                                                                                                                                                                                                                                                                                                                                                                                                                                                                                                                                                                                                                                                                                                                                                                                                                                                                                                                                                                                                                                                                                                                                                                                                                                                                                                                                                                                                                                                                                                                                                                                                                                                                                                                                                                                                                                                                                                                           0.00000\n",
       "!SJT 08/160 BBD RWY 17/35 CLSD 1708121340-1708122000                                                                                                                                                                                                                                                                                                                                                                                                                                                                                                                                                                                                                                                                                                                                                                                                                                                                                                                                                                                                                                                                                                                                                                                                                                                                                                                                                                                                                                                                                                                                                                                                                                                                                                                                                                                                                                                                                                                                                                                                                                                                                                                                                                                                                                                                                                                                                                                                                                                                                                                                                                                                                                                                                                                                                                                                                                                                                                                                                                                                                                                                                                                                                                                                                                                                                                                                                                                                                                                                                                                                                                                                                                                                                                                                                                                                                                                                                                                                                                                                                                                                                                        0.00000\n",
       "!FDC 7/9613 ZBW PART 1 OF 5 NJ..AIRSPACE MORRISTOWN, NEW  JERSEY..TEMPORARY FLIGHT RESTRICTIONS.         AUGUST 14, 2017 LOCAL.  PURSUANT TO 49 USC 40103(B), THE  FEDERAL AVIATION ADMINISTRATION (FAA) CLASSIFIES THE AIRSPACE  DEFINED IN THIS NOTAM AS &apos;NATIONAL DEFENSE AIRSPACE&apos;. PILOTS WHO  DO NOT ADHERE TO THE FOLLOWING PROCEDURES MAY BE INTERCEPTED,  DETAINED AND INTERVIEWED BY LAW ENFORCEMENT/SECURITY PERSONNEL.  ANY OF THE FOLLOWING ADDITIONAL ACTIONS MAY ALSO BE TAKEN AGAINST  A PILOT WHO DOES NOT COMPLY WITH THE REQUIREMENTS OR ANY SPECIAL  INSTRUCTIONS OR PROCEDURES ANNOUNCED IN THIS NOTAM:  A) THE FAA MAY TAKE ADMINISTRATIVE ACTION, INCLUDING IMPOSING CIVIL  PENALTIES AND THE SUSPENSION OR REVOCATION OF AIRMEN CERTIFICATES;  OR   B) THE UNITED STATES GOVERNMENT MAY PURSUE CRIMINAL CHARGES,  INCLUDING CHARGES UNDER TITLE 49 OF THE UNITED STATES CODE,  SECTION 46307; OR   C) THE UNITED STATES GOVERNMENT MAY USE DEADLY FORCE AGAINST THE  AIRBORNE AIRCRAFT, IF IT IS DETERMINED THAT THE AIRCRAFT POSES AN  IMMINENT SECURITY THREAT.    PURSUANT TO TITLE 14, SECTION 91.141 OF THE CODE OF FEDERAL  1708141445-1708141600 END PART 1 OF 5 !FDC 7/9613 ZBW PART 2 OF 5 NJ..AIRSPACE MORRISTOWN, NEW  JERSEY..TEMPORARY REGULATIONS, AIRCRAFT FLIGHT OPERATIONS ARE PROHIBITED   WI AN AREA DEFINED AS 30NM RADIUS OF 404810N0742451W (TEB271016.3)  SFC-17999FT MSL        EFFECTIVE 1708141445 UTC (1045 LOCAL 08/14/17)           UNTIL 1708141600 UTC (1200 LOCAL 08/14/17).    WI AN AREA DEFINED AS 10NM RADIUS OF 404810N0742451W (TEB271016.3) SFC-17999FT MSL      EFFECTIVE 1708141445 UTC (1045 LOCAL 08/14/17)           UNTIL 1708141600 UTC (1200 LOCAL 08/14/17).   EXCEPT AS SPECIFIED BELOW AND/OR UNLESS AUTHORIZED BY ATC IN CONSULTATION WITH THE AIR TRAFFIC SECURITY COORDINATOR VIA THE DOMESTIC EVENTS NETWORK (DEN): A. ALL AIRCRAFT OPERATIONS WITHIN THE 10 NMR    AREA(S) LISTED ABOVE, KNOWN AS THE INNER CORE(S),    ARE PROHIBITED EXCEPT FOR: APPROVED LAW 1708141445-1708141600 END PART 2 OF 5 !FDC 7/9613 ZBW PART 3 OF 5 NJ..AIRSPACE MORRISTOWN, NEW  JERSEY..TEMPORARY    ENFORCEMENT, MILITARY AIRCRAFT DIRECTLY SUPPORTING    THE UNITED STATES SECRET SERVICE (USSS) AND THE    OFFICE OF THE PRESIDENT OF THE UNITED STATES,    APPROVED AIR AMBULANCE FLIGHTS, AND REGULARLY    SCHEDULED COMMERCIAL PASSENGER AND ALL-CARGO    CARRIERS OPERATING UNDER ONE OF THE FOLLOWING    TSA-APPROVED STANDARD SECURITY    PROGRAMS/PROCEDURES: AIRCRAFT OPERATOR STANDARD    SECURITY PROGRAM (AOSSP), FULL ALL-CARGO AIRCRAFT    OPERATOR STANDARD SECURITY PROGRAM (FACAOSSP),    MODEL SECURITY PROGRAM (MSP), TWELVE FIVE STANDARD    SECURITY PROGRAM (TFSSP) ALL CARGO, OR ALL-CARGO    INTERNATIONAL SECURITY PROCEDURE (ACISP) AND ARE    ARRIVING INTO AND/OR DEPARTING FROM 14 CFR PART    139 AIRPORTS. ALL EMERGENCY/LIFE SAVING FLIGHT    (MEDICAL/LAW ENFORCEMENT/FIREFIGHTING) OPERATIONS    MUST COORDINATE WITH ATC PRIOR TO THEIR DEPARTURE    AT 516-683-2966 TO AVOID POTENTIAL DELAYS. B. FOR OPERATIONS WITHIN THE AIRSPACE BETWEEN THE 1708141445-1708141600 END PART 3 OF 5 !FDC 7/9613 ZBW PART 4 OF 5 NJ..AIRSPACE MORRISTOWN, NEW  JERSEY..TEMPORARY    10 NMR AND 30 NMR AREA(S) LISTED ABOVE, KNOWN AS    THE OUTER RING(S): ALL AIRCRAFT OPERATING WITHIN    THE OUTER RING(S) LISTED ABOVE ARE LIMITED TO    AIRCRAFT ARRIVING OR DEPARTING LOCAL AIRFIELDS,    AND WORKLOAD PERMITTING, ATC MAY AUTHORIZE TRANSIT    OPERATIONS. ALL AIRCRAFT MUST BE ON AN ACTIVE IFR    OR FILED VFR FLIGHT PLAN WITH A DISCRETE CODE    ASSIGNED BY AN AIR TRAFFIC CONTROL (ATC) FACILITY.    AIRCRAFT MUST BE SQUAWKING THE DISCRETE CODE PRIOR    TO DEPARTURE AND AT ALL TIMES WHILE IN THE TFR AND    MUST REMAIN IN TWO-WAY RADIO COMMUNICATIONS WITH    ATC. C. THE FOLLOWING OPERATIONS ARE NOT AUTHORIZED    WITHIN THIS TFR: FLIGHT TRAINING, PRACTICE    INSTRUMENT APPROACHES, AEROBATIC FLIGHT, GLIDER    OPERATIONS, SEAPLANE OPERATIONS, PARACHUTE    OPERATIONS, ULTRALIGHT, HANG GLIDING, BALLOON    OPERATIONS, AG    0.00000\n",
       "!CDC 05/158 HCR RWY 04/22 UNSAFE DISABLED ACFT NE END 2005311952-2006010100                                                                                                                                                                                                                                                                                                                                                                                                                                                                                                                                                                                                                                                                                                                                                                                                                                                                                                                                                                                                                                                                                                                                                                                                                                                                                                                                                                                                                                                                                                                                                                                                                                                                                                                                                                                                                                                                                                                                                                                                                                                                                                                                                                                                                                                                                                                                                                                                                                                                                                                                                                                                                                                                                                                                                                                                                                                                                                                                                                                                                                                                                                                                                                                                                                                                                                                                                                                                                                                                                                                                                                                                                                                                                                                                                                                                                                                                                                                                                                                                                                                                                 0.00000\n",
       "Name: SIMPLE_TEXT, Length: 815086, dtype: object"
      ]
     },
     "execution_count": 25,
     "metadata": {},
     "output_type": "execute_result"
    }
   ],
   "source": [
    "df['SIMPLE_TEXT'].value_counts(dropna=False, normalize=True).apply(lambda x: '%.5f' % x)"
   ]
  },
  {
   "cell_type": "markdown",
   "id": "37a6d67a-cdf5-4b21-8503-950ec82a27f6",
   "metadata": {
    "jp-MarkdownHeadingCollapsed": true,
    "tags": []
   },
   "source": [
    "#### LOC_ID_ACCOUNTABLE_ORG\n",
    "* Majority are NaNs, at 51% of the data.\n",
    "* FDC represents 10% of data, and a few others represent >1% of data.\n",
    "* Repeats\n",
    "* Includes chart"
   ]
  },
  {
   "cell_type": "code",
   "execution_count": 26,
   "id": "58da59cb-ed46-49d5-9c50-387754bd4e63",
   "metadata": {},
   "outputs": [
    {
     "data": {
      "text/plain": [
       "0          SUAC\n",
       "1          SUAC\n",
       "2          SUAC\n",
       "3          SUAC\n",
       "4          SUAC\n",
       "           ... \n",
       "1649073     ATL\n",
       "1649074     NaN\n",
       "1649075     BTL\n",
       "1649076     CDC\n",
       "1649077     NaN\n",
       "Name: LOC_ID_ACCOUNTABLE_ORG, Length: 1649078, dtype: object"
      ]
     },
     "execution_count": 26,
     "metadata": {},
     "output_type": "execute_result"
    }
   ],
   "source": [
    "df['LOC_ID_ACCOUNTABLE_ORG']"
   ]
  },
  {
   "cell_type": "code",
   "execution_count": 27,
   "id": "04468017-8a2f-4ea7-95c0-3a85290f704b",
   "metadata": {},
   "outputs": [
    {
     "data": {
      "text/plain": [
       "NaN     863429\n",
       "FDC     145464\n",
       "SUAW     64710\n",
       "SUAC     43768\n",
       "SUAE     32492\n",
       "         ...  \n",
       "UACC         1\n",
       "UATT         1\n",
       "WABF         1\n",
       "KIMM         1\n",
       "WAHP         1\n",
       "Name: LOC_ID_ACCOUNTABLE_ORG, Length: 2321, dtype: int64"
      ]
     },
     "execution_count": 27,
     "metadata": {},
     "output_type": "execute_result"
    }
   ],
   "source": [
    "df['LOC_ID_ACCOUNTABLE_ORG'].value_counts(dropna=False)"
   ]
  },
  {
   "cell_type": "code",
   "execution_count": 28,
   "id": "c6bd0edf-838f-4fcf-aaf3-87388ffcbbe6",
   "metadata": {},
   "outputs": [
    {
     "data": {
      "text/plain": [
       "NaN     0.52358\n",
       "FDC     0.08821\n",
       "SUAW    0.03924\n",
       "SUAC    0.02654\n",
       "SUAE    0.01970\n",
       "         ...   \n",
       "UACC    0.00000\n",
       "UATT    0.00000\n",
       "WABF    0.00000\n",
       "KIMM    0.00000\n",
       "WAHP    0.00000\n",
       "Name: LOC_ID_ACCOUNTABLE_ORG, Length: 2321, dtype: object"
      ]
     },
     "execution_count": 28,
     "metadata": {},
     "output_type": "execute_result"
    }
   ],
   "source": [
    "df['LOC_ID_ACCOUNTABLE_ORG'].value_counts(dropna=False, normalize=True).apply(lambda x: '%.5f' % x)"
   ]
  },
  {
   "cell_type": "code",
   "execution_count": 29,
   "id": "d56243cf-c10e-4100-9590-590061d5e61d",
   "metadata": {},
   "outputs": [
    {
     "data": {
      "image/png": "[encoded data removed]",
      "text/plain": [
       "<Figure size 720x360 with 1 Axes>"
      ]
     },
     "metadata": {
      "needs_background": "light"
     },
     "output_type": "display_data"
    }
   ],
   "source": [
    "df['LOC_ID_ACCOUNTABLE_ORG'].value_counts(dropna=False, normalize=True).nlargest(5).plot(kind='bar', \n",
    "                                                                                         title='LOC_ID_ACCOUNTABLE_ORG Top 5 Types Proportion of Data',\n",
    "                                                                                         figsize=(10, 5));"
   ]
  },
  {
   "cell_type": "markdown",
   "id": "d50d7bcb-7e9c-49b5-bd0d-76938175e265",
   "metadata": {
    "jp-MarkdownHeadingCollapsed": true,
    "tags": []
   },
   "source": [
    "#### NOTAM_NUMBER\n",
    "* Majority are NaNs, at 51% of the data.\n",
    "* No other entry has a material proportion of the data.\n",
    "* Lots of repeats > what does this mean?"
   ]
  },
  {
   "cell_type": "code",
   "execution_count": 30,
   "id": "f7103606-03c0-4fe8-8491-f5b80d63785e",
   "metadata": {},
   "outputs": [
    {
     "data": {
      "text/plain": [
       "0          05/604\n",
       "1          05/603\n",
       "2          05/605\n",
       "3          05/607\n",
       "4          05/602\n",
       "            ...  \n",
       "1649073    05/377\n",
       "1649074       NaN\n",
       "1649075    05/026\n",
       "1649076    05/158\n",
       "1649077       NaN\n",
       "Name: NOTAM_NUMBER, Length: 1649078, dtype: object"
      ]
     },
     "execution_count": 30,
     "metadata": {},
     "output_type": "execute_result"
    }
   ],
   "source": [
    "df['NOTAM_NUMBER']"
   ]
  },
  {
   "cell_type": "code",
   "execution_count": 31,
   "id": "431e5752-2208-4ba9-ba41-b2e13df9a5c2",
   "metadata": {},
   "outputs": [
    {
     "data": {
      "text/plain": [
       "NaN       866592\n",
       "05/001      1899\n",
       "03/001      1872\n",
       "09/001      1782\n",
       "10/001      1776\n",
       "           ...  \n",
       "6/8887         1\n",
       "6/8892         1\n",
       "6/8920         1\n",
       "6/8900         1\n",
       "0/4796         1\n",
       "Name: NOTAM_NUMBER, Length: 52949, dtype: int64"
      ]
     },
     "execution_count": 31,
     "metadata": {},
     "output_type": "execute_result"
    }
   ],
   "source": [
    "df['NOTAM_NUMBER'].value_counts(dropna=False)"
   ]
  },
  {
   "cell_type": "code",
   "execution_count": 32,
   "id": "6e765783-28a5-4017-907b-cb7ab01641a7",
   "metadata": {},
   "outputs": [
    {
     "data": {
      "text/plain": [
       "NaN       0.52550\n",
       "05/001    0.00115\n",
       "03/001    0.00114\n",
       "09/001    0.00108\n",
       "10/001    0.00108\n",
       "           ...   \n",
       "6/8887    0.00000\n",
       "6/8892    0.00000\n",
       "6/8920    0.00000\n",
       "6/8900    0.00000\n",
       "0/4796    0.00000\n",
       "Name: NOTAM_NUMBER, Length: 52949, dtype: object"
      ]
     },
     "execution_count": 32,
     "metadata": {},
     "output_type": "execute_result"
    }
   ],
   "source": [
    "df['NOTAM_NUMBER'].value_counts(dropna=False, normalize=True).apply(lambda x: '%.5f' % x)"
   ]
  },
  {
   "cell_type": "markdown",
   "id": "27ba247a-047c-419e-8df3-1ffef164ac5a",
   "metadata": {
    "jp-MarkdownHeadingCollapsed": true,
    "tags": []
   },
   "source": [
    "#### RELATED_NOTAM_NUMBER\n",
    "* Majority are NaNs, covering over 91% of the data.\n",
    "* No other entry has a material proportion of the data.\n",
    "* What does this field mean?"
   ]
  },
  {
   "cell_type": "code",
   "execution_count": 33,
   "id": "2910e260-4593-44ad-b056-1ab6d6a97dea",
   "metadata": {},
   "outputs": [
    {
     "data": {
      "text/plain": [
       "0          NaN\n",
       "1          NaN\n",
       "2          NaN\n",
       "3          NaN\n",
       "4          NaN\n",
       "          ... \n",
       "1649073    NaN\n",
       "1649074    NaN\n",
       "1649075    NaN\n",
       "1649076    NaN\n",
       "1649077    NaN\n",
       "Name: RELATED_NOTAM_NUMBER, Length: 1649078, dtype: object"
      ]
     },
     "execution_count": 33,
     "metadata": {},
     "output_type": "execute_result"
    }
   ],
   "source": [
    "df['RELATED_NOTAM_NUMBER']"
   ]
  },
  {
   "cell_type": "code",
   "execution_count": 34,
   "id": "65ad855b-c3a0-4590-bdb7-c123cd73381a",
   "metadata": {},
   "outputs": [
    {
     "data": {
      "text/plain": [
       "NaN       1523512\n",
       "8/3465         89\n",
       "07/159         88\n",
       "7/1870         87\n",
       "7/3678         87\n",
       "           ...   \n",
       "6/4653          1\n",
       "6/5008          1\n",
       "9/7307          1\n",
       "6/5072          1\n",
       "05/668          1\n",
       "Name: RELATED_NOTAM_NUMBER, Length: 41000, dtype: int64"
      ]
     },
     "execution_count": 34,
     "metadata": {},
     "output_type": "execute_result"
    }
   ],
   "source": [
    "df['RELATED_NOTAM_NUMBER'].value_counts(dropna=False)"
   ]
  },
  {
   "cell_type": "code",
   "execution_count": 35,
   "id": "99d0041b-148a-4b80-9a64-ebee03ff8632",
   "metadata": {},
   "outputs": [
    {
     "data": {
      "text/plain": [
       "NaN       0.92386\n",
       "8/3465    0.00005\n",
       "07/159    0.00005\n",
       "7/1870    0.00005\n",
       "7/3678    0.00005\n",
       "           ...   \n",
       "6/4653    0.00000\n",
       "6/5008    0.00000\n",
       "9/7307    0.00000\n",
       "6/5072    0.00000\n",
       "05/668    0.00000\n",
       "Name: RELATED_NOTAM_NUMBER, Length: 41000, dtype: object"
      ]
     },
     "execution_count": 35,
     "metadata": {},
     "output_type": "execute_result"
    }
   ],
   "source": [
    "df['RELATED_NOTAM_NUMBER'].value_counts(dropna=False, normalize=True).apply(lambda x: '%.5f' % x)"
   ]
  },
  {
   "cell_type": "markdown",
   "id": "4560dcf3-85c3-4b02-9aab-dba843ac548e",
   "metadata": {
    "jp-MarkdownHeadingCollapsed": true,
    "tags": []
   },
   "source": [
    "#### TEXT\n",
    "* There are NaNs, and its the biggest cateogry, but only covers 0.006% of data.\n",
    "* Repeats"
   ]
  },
  {
   "cell_type": "code",
   "execution_count": 36,
   "id": "ffb403f6-9db3-4f17-9b43-51cf08711b88",
   "metadata": {},
   "outputs": [
    {
     "data": {
      "text/plain": [
       "0          AIRSPACE VOLK SOUTH MOA ACT 500FT UP TO BUT NO...\n",
       "1          AIRSPACE VOLK EAST MOA ACT 8000FT UP TO BUT NO...\n",
       "2          AIRSPACE FALLS 1 MOA ACT 500FT UP TO BUT NOT I...\n",
       "3          AIRSPACE FALLS 2 MOA ACT 500FT UP TO BUT NOT I...\n",
       "4          AIRSPACE VOLK WEST MOA ACT 100FT UP TO BUT NOT...\n",
       "                                 ...                        \n",
       "1649073    AIRSPACE UAS WI AN AREA DEFINED AS 2NM RADIUS ...\n",
       "1649074    A0123/20 NOTAMC A0122/20  Q) KZSE/QOBXX/IV/M/A...\n",
       "1649075                                  NAV ILS RWY 23R U/S\n",
       "1649076                RWY 04/22 UNSAFE DISABLED ACFT NE END\n",
       "1649077                                FIRE AND RESCUE CAT 5\n",
       "Name: TEXT, Length: 1649078, dtype: object"
      ]
     },
     "execution_count": 36,
     "metadata": {},
     "output_type": "execute_result"
    }
   ],
   "source": [
    "df['TEXT']"
   ]
  },
  {
   "cell_type": "code",
   "execution_count": 37,
   "id": "3795188f-57b1-45c9-bd1d-408f68416011",
   "metadata": {},
   "outputs": [
    {
     "data": {
      "text/plain": [
       "NaN                                                                                                                                                                                       8066\n",
       "NAV VORTAC NOT MNT                                                                                                                                                                        6213\n",
       "GPS RAIM PREDICTION FOR: TSO-C129 FAULT DETECTION NO GPS RAIM OUTAGES TSO-C146A FAULT DETECTION ONLY NO GPS RAIM OUTAGES TSO-C146A FAULT DETECTION WITH EXCLUSION NO GPS RAIM OUTAGES.    5192\n",
       "GPS RAIM PREDICTION FOR: TSO-C129 FAULT DETECTION NO GPS RAIM OUTAGES TSO-C146A FAULT DETECTION ONLY NO GPS RAIM OUTAGES TSO-C146A FAULT DETECTION WITH EXCLUSION NO GPS RAIM OUTAGES     4977\n",
       "NAV VOR/DME NOT MNT                                                                                                                                                                       4704\n",
       "                                                                                                                                                                                          ... \n",
       "TEMPO SEGREGATED AREA OHD CITADELLE OF NAMEN. RADIUS 1,5 NM.                                                                                                                                 1\n",
       "M0412/17 NOTAMC M0411/17 A) EKKA B) 1708290828 E) NOTAM CNL.                                                                                                                                 1\n",
       "FIREWORKS DISPLAY WILL TAKE PLACE PSN: 521949N 0170648E - TULCE CONTACT: +48 536 314 341.                                                                                                    1\n",
       "CRANE ERECTED PSN APRX: 500436.67N 0194819.22E. CRANE LOCATED 503M FM THR25 AND 406M SOUTH OF RCL RWY 07/25. HGT 98.5FT AGL/879FT AMSL. DAY MARKINGS PROVIDED.                               1\n",
       "RWY 04/22 UNSAFE DISABLED ACFT NE END                                                                                                                                                        1\n",
       "Name: TEXT, Length: 844632, dtype: int64"
      ]
     },
     "execution_count": 37,
     "metadata": {},
     "output_type": "execute_result"
    }
   ],
   "source": [
    "df['TEXT'].value_counts(dropna=False)"
   ]
  },
  {
   "cell_type": "code",
   "execution_count": 38,
   "id": "e00b7080-6647-4194-b3ab-17f4005b05f4",
   "metadata": {},
   "outputs": [
    {
     "data": {
      "text/plain": [
       "NaN                                                                                                                                                                                       0.00489\n",
       "NAV VORTAC NOT MNT                                                                                                                                                                        0.00377\n",
       "GPS RAIM PREDICTION FOR: TSO-C129 FAULT DETECTION NO GPS RAIM OUTAGES TSO-C146A FAULT DETECTION ONLY NO GPS RAIM OUTAGES TSO-C146A FAULT DETECTION WITH EXCLUSION NO GPS RAIM OUTAGES.    0.00315\n",
       "GPS RAIM PREDICTION FOR: TSO-C129 FAULT DETECTION NO GPS RAIM OUTAGES TSO-C146A FAULT DETECTION ONLY NO GPS RAIM OUTAGES TSO-C146A FAULT DETECTION WITH EXCLUSION NO GPS RAIM OUTAGES     0.00302\n",
       "NAV VOR/DME NOT MNT                                                                                                                                                                       0.00285\n",
       "                                                                                                                                                                                           ...   \n",
       "TEMPO SEGREGATED AREA OHD CITADELLE OF NAMEN. RADIUS 1,5 NM.                                                                                                                              0.00000\n",
       "M0412/17 NOTAMC M0411/17 A) EKKA B) 1708290828 E) NOTAM CNL.                                                                                                                              0.00000\n",
       "FIREWORKS DISPLAY WILL TAKE PLACE PSN: 521949N 0170648E - TULCE CONTACT: +48 536 314 341.                                                                                                 0.00000\n",
       "CRANE ERECTED PSN APRX: 500436.67N 0194819.22E. CRANE LOCATED 503M FM THR25 AND 406M SOUTH OF RCL RWY 07/25. HGT 98.5FT AGL/879FT AMSL. DAY MARKINGS PROVIDED.                            0.00000\n",
       "RWY 04/22 UNSAFE DISABLED ACFT NE END                                                                                                                                                     0.00000\n",
       "Name: TEXT, Length: 844632, dtype: object"
      ]
     },
     "execution_count": 38,
     "metadata": {},
     "output_type": "execute_result"
    }
   ],
   "source": [
    "df['TEXT'].value_counts(dropna=False, normalize=True).apply(lambda x: '%.5f' % x)"
   ]
  },
  {
   "cell_type": "markdown",
   "id": "3276a5f2-2b07-4530-8b49-39d037a64eea",
   "metadata": {
    "jp-MarkdownHeadingCollapsed": true,
    "tags": []
   },
   "source": [
    "#### Q_CODE\n",
    "* Close to majority are NaNs, covering 39% of the data.\n",
    "* A few other categories represent >1% of data.\n",
    "* Lots of repeats\n",
    "* Includes chart"
   ]
  },
  {
   "cell_type": "code",
   "execution_count": 39,
   "id": "d503867f-9d37-4d17-bb61-0b9a7c75ed9d",
   "metadata": {},
   "outputs": [
    {
     "data": {
      "text/plain": [
       "0                                                 NaN\n",
       "1                                                 NaN\n",
       "2                                                 NaN\n",
       "3                                                 NaN\n",
       "4                                                 NaN\n",
       "                              ...                    \n",
       "1649073                                           NaN\n",
       "1649074     KZSE/QOBXX/IV/M/AE/000/999/4222N12252W005\n",
       "1649075           ZAU//I/NBO/A/000/999/4218N08515W005\n",
       "1649076                                           NaN\n",
       "1649077    YBBB/QFFCG/IV/NBO/A/000/999/3019S15307E005\n",
       "Name: Q_CODE, Length: 1649078, dtype: object"
      ]
     },
     "execution_count": 39,
     "metadata": {},
     "output_type": "execute_result"
    }
   ],
   "source": [
    "df['Q_CODE']"
   ]
  },
  {
   "cell_type": "code",
   "execution_count": 40,
   "id": "81100fea-2da9-44dc-a580-bb929eac0d01",
   "metadata": {},
   "outputs": [
    {
     "data": {
      "text/plain": [
       "NaN                                           640119\n",
       "/QRRCA/                                        50722\n",
       "/QXXXX/                                        20723\n",
       "LRBB/QRRCA/IV/BO                               12068\n",
       "YUXX/QARCA/I/NBO/E/000/999/2537S13421E999      10022\n",
       "                                               ...  \n",
       "USTR/QPMCH/IV/NBO/A/000/999/5710N06519E005         1\n",
       "UUWV/QAELC/IV/NBO/E/040/100/5734N04009E027         1\n",
       "UUWV/QARLC/IV/NBO/E/050/100/5502N03735E238         1\n",
       "UUWV/QAELC/IV/NBO/E/040/100/5145N03618E027         1\n",
       "KZSE/QOBXX/IV/M/AE/000/999/4222N12252W005          1\n",
       "Name: Q_CODE, Length: 118431, dtype: int64"
      ]
     },
     "execution_count": 40,
     "metadata": {},
     "output_type": "execute_result"
    }
   ],
   "source": [
    "df['Q_CODE'].value_counts(dropna=False)"
   ]
  },
  {
   "cell_type": "code",
   "execution_count": 41,
   "id": "9016ca5c-27e9-496f-9c67-eb2c52473f5c",
   "metadata": {},
   "outputs": [
    {
     "data": {
      "text/plain": [
       "NaN                                           0.38817\n",
       "/QRRCA/                                       0.03076\n",
       "/QXXXX/                                       0.01257\n",
       "LRBB/QRRCA/IV/BO                              0.00732\n",
       "YUXX/QARCA/I/NBO/E/000/999/2537S13421E999     0.00608\n",
       "                                               ...   \n",
       "USTR/QPMCH/IV/NBO/A/000/999/5710N06519E005    0.00000\n",
       "UUWV/QAELC/IV/NBO/E/040/100/5734N04009E027    0.00000\n",
       "UUWV/QARLC/IV/NBO/E/050/100/5502N03735E238    0.00000\n",
       "UUWV/QAELC/IV/NBO/E/040/100/5145N03618E027    0.00000\n",
       "KZSE/QOBXX/IV/M/AE/000/999/4222N12252W005     0.00000\n",
       "Name: Q_CODE, Length: 118431, dtype: object"
      ]
     },
     "execution_count": 41,
     "metadata": {},
     "output_type": "execute_result"
    }
   ],
   "source": [
    "df['Q_CODE'].value_counts(dropna=False, normalize=True).apply(lambda x: '%.5f' % x)"
   ]
  },
  {
   "cell_type": "code",
   "execution_count": 42,
   "id": "3e0f64fc-68a5-46bd-a114-6798b3b888ba",
   "metadata": {},
   "outputs": [
    {
     "data": {
      "image/png": "[encoded data removed]",
      "text/plain": [
       "<Figure size 720x360 with 1 Axes>"
      ]
     },
     "metadata": {
      "needs_background": "light"
     },
     "output_type": "display_data"
    }
   ],
   "source": [
    "df['Q_CODE'].value_counts(dropna=False, normalize=True).nlargest(5).plot(kind='bar', \n",
    "                                                                         title='Q_CODE Top 5 Types Proportion of Data',\n",
    "                                                                         figsize=(10, 5));"
   ]
  },
  {
   "cell_type": "markdown",
   "id": "f57e1d38-b201-4843-adda-40373a9b0e19",
   "metadata": {
    "jp-MarkdownHeadingCollapsed": true,
    "tags": []
   },
   "source": [
    "#### Q_CODE_INTERPRETATION\n",
    "* Majority are NaNs, covering 56% of the data.\n",
    "* A few other categories represent >1% of data.\n",
    "* Lots of repeats\n",
    "* Includes chart\n",
    "* Counts do not match Q_CODE > what could this mean?"
   ]
  },
  {
   "cell_type": "code",
   "execution_count": 43,
   "id": "309a96cb-064b-48ee-9d60-c2c657f644ea",
   "metadata": {},
   "outputs": [
    {
     "data": {
      "text/plain": [
       "0                                             NaN\n",
       "1                                             NaN\n",
       "2                                             NaN\n",
       "3                                             NaN\n",
       "4                                             NaN\n",
       "                            ...                  \n",
       "1649073                                       NaN\n",
       "1649074                                  OBSTACLE\n",
       "1649075                                       NaN\n",
       "1649076                                       NaN\n",
       "1649077    FIRE FIGHTING AND RESCUE DOWNGRADED TO\n",
       "Name: Q_CODE_INTERPRETATION, Length: 1649078, dtype: object"
      ]
     },
     "execution_count": 43,
     "metadata": {},
     "output_type": "execute_result"
    }
   ],
   "source": [
    "df['Q_CODE_INTERPRETATION']"
   ]
  },
  {
   "cell_type": "code",
   "execution_count": 44,
   "id": "5d4c5dfd-2c17-42e1-9f76-0859c8d72e23",
   "metadata": {},
   "outputs": [
    {
     "data": {
      "text/plain": [
       "NaN                                                                   908595\n",
       "RESTRICTED AREA ACTIVATED                                             127476\n",
       "TEMPORARY RESTRICTED AREA ACTIVATED                                    65856\n",
       "AERODROME                                                              57406\n",
       "DANGER AREA ACTIVATED                                                  36991\n",
       "                                                                       ...  \n",
       "AIRCRAFT STANDS REALIGNED                                                  1\n",
       "STANDARD INSTRUMENT ARRIVAL STAR AVAILABLE FOR DAYLIGHT OPERATIONS         1\n",
       "RUNWAY COVERED BY ICE                                                      1\n",
       "APPROACH CONTROL ACTIVATED                                                 1\n",
       "THRESHOLD REALIGNED                                                        1\n",
       "Name: Q_CODE_INTERPRETATION, Length: 1578, dtype: int64"
      ]
     },
     "execution_count": 44,
     "metadata": {},
     "output_type": "execute_result"
    }
   ],
   "source": [
    "df['Q_CODE_INTERPRETATION'].value_counts(dropna=False)"
   ]
  },
  {
   "cell_type": "code",
   "execution_count": 45,
   "id": "45049cbf-da78-4ffe-82b1-5aa0e1424056",
   "metadata": {},
   "outputs": [
    {
     "data": {
      "text/plain": [
       "NaN                                                                   0.55097\n",
       "RESTRICTED AREA ACTIVATED                                             0.07730\n",
       "TEMPORARY RESTRICTED AREA ACTIVATED                                   0.03994\n",
       "AERODROME                                                             0.03481\n",
       "DANGER AREA ACTIVATED                                                 0.02243\n",
       "                                                                       ...   \n",
       "AIRCRAFT STANDS REALIGNED                                             0.00000\n",
       "STANDARD INSTRUMENT ARRIVAL STAR AVAILABLE FOR DAYLIGHT OPERATIONS    0.00000\n",
       "RUNWAY COVERED BY ICE                                                 0.00000\n",
       "APPROACH CONTROL ACTIVATED                                            0.00000\n",
       "THRESHOLD REALIGNED                                                   0.00000\n",
       "Name: Q_CODE_INTERPRETATION, Length: 1578, dtype: object"
      ]
     },
     "execution_count": 45,
     "metadata": {},
     "output_type": "execute_result"
    }
   ],
   "source": [
    "df['Q_CODE_INTERPRETATION'].value_counts(dropna=False, normalize=True).apply(lambda x: '%.5f' % x)"
   ]
  },
  {
   "cell_type": "code",
   "execution_count": 46,
   "id": "65e978c1-52fd-4595-99eb-a5f6e5182a63",
   "metadata": {},
   "outputs": [
    {
     "data": {
      "image/png": "[encoded data removed]",
      "text/plain": [
       "<Figure size 720x360 with 1 Axes>"
      ]
     },
     "metadata": {
      "needs_background": "light"
     },
     "output_type": "display_data"
    }
   ],
   "source": [
    "df['Q_CODE_INTERPRETATION'].value_counts(dropna=False, normalize=True).nlargest(5).plot(kind='bar', \n",
    "                                                                                        title='Q_CODE_INTERPRETATION Top 5 Types Proportion of Data',\n",
    "                                                                                        figsize=(10, 5));"
   ]
  },
  {
   "cell_type": "markdown",
   "id": "278c848a-94f7-4d06-9408-90105a55cc07",
   "metadata": {
    "jp-MarkdownHeadingCollapsed": true,
    "tags": []
   },
   "source": [
    "#### A_CODE\n",
    "* Majority are NaNs, covering 56% of the data.\n",
    "* A few other categories represent >1% of data.\n",
    "* Lots of repeats\n",
    "* Includes chart"
   ]
  },
  {
   "cell_type": "code",
   "execution_count": 47,
   "id": "6306028d-b659-43fb-99ed-dae2534aeb2e",
   "metadata": {},
   "outputs": [
    {
     "data": {
      "text/plain": [
       "0           NaN\n",
       "1           NaN\n",
       "2           NaN\n",
       "3           NaN\n",
       "4           NaN\n",
       "           ... \n",
       "1649073     NaN\n",
       "1649074    KMFR\n",
       "1649075    KBTL\n",
       "1649076     NaN\n",
       "1649077    YCFS\n",
       "Name: A_CODE, Length: 1649078, dtype: object"
      ]
     },
     "execution_count": 47,
     "metadata": {},
     "output_type": "execute_result"
    }
   ],
   "source": [
    "df['A_CODE']"
   ]
  },
  {
   "cell_type": "code",
   "execution_count": 48,
   "id": "9d2545fc-c5a1-4394-af9e-ed145d22906e",
   "metadata": {},
   "outputs": [
    {
     "data": {
      "text/plain": [
       "NaN                        508043\n",
       "LRBB                        28899\n",
       "UUWV                        27814\n",
       "YMMM/YBBB                   17699\n",
       "EGTT                        15585\n",
       "                            ...  \n",
       "SANO                            1\n",
       "ATA                             1\n",
       "2018-04-19 19:30:00.000         1\n",
       "WHERE                           1\n",
       "HECP                            1\n",
       "Name: A_CODE, Length: 12976, dtype: int64"
      ]
     },
     "execution_count": 48,
     "metadata": {},
     "output_type": "execute_result"
    }
   ],
   "source": [
    "df['A_CODE'].value_counts(dropna=False)"
   ]
  },
  {
   "cell_type": "code",
   "execution_count": 49,
   "id": "e2dee939-9d05-4aa6-8794-80509a958143",
   "metadata": {},
   "outputs": [
    {
     "data": {
      "text/plain": [
       "NaN                        0.30808\n",
       "LRBB                       0.01752\n",
       "UUWV                       0.01687\n",
       "YMMM/YBBB                  0.01073\n",
       "EGTT                       0.00945\n",
       "                            ...   \n",
       "SANO                       0.00000\n",
       "ATA                        0.00000\n",
       "2018-04-19 19:30:00.000    0.00000\n",
       "WHERE                      0.00000\n",
       "HECP                       0.00000\n",
       "Name: A_CODE, Length: 12976, dtype: object"
      ]
     },
     "execution_count": 49,
     "metadata": {},
     "output_type": "execute_result"
    }
   ],
   "source": [
    "df['A_CODE'].value_counts(dropna=False, normalize=True).apply(lambda x: '%.5f' % x)"
   ]
  },
  {
   "cell_type": "code",
   "execution_count": 50,
   "id": "21731312-7893-4a01-af20-618e2b36bc3b",
   "metadata": {},
   "outputs": [
    {
     "data": {
      "image/png": "[encoded data removed]",
      "text/plain": [
       "<Figure size 720x360 with 1 Axes>"
      ]
     },
     "metadata": {
      "needs_background": "light"
     },
     "output_type": "display_data"
    }
   ],
   "source": [
    "df['A_CODE'].value_counts(dropna=False, normalize=True).nlargest(5).plot(kind='bar', \n",
    "                                                                         title='A_CODE Top 5 Types Proportion of Data',\n",
    "                                                                         figsize=(10, 5));"
   ]
  },
  {
   "cell_type": "markdown",
   "id": "04c27e07-718a-4ff1-804b-78a7128e3479",
   "metadata": {
    "jp-MarkdownHeadingCollapsed": true,
    "tags": []
   },
   "source": [
    "#### B_CODE\n",
    "* Close to majority are NaNs, covering 41% of the data. \n",
    "* No other entry has a material proportion of the data.\n",
    "* A few repeats"
   ]
  },
  {
   "cell_type": "code",
   "execution_count": 51,
   "id": "0b63bd7a-b810-470b-9327-b446b612faf2",
   "metadata": {},
   "outputs": [
    {
     "data": {
      "text/plain": [
       "0                              NaN\n",
       "1                              NaN\n",
       "2                              NaN\n",
       "3                              NaN\n",
       "4                              NaN\n",
       "                    ...           \n",
       "1649073                        NaN\n",
       "1649074    2020-05-31 19:48:00.000\n",
       "1649075    2020-06-01 15:00:00.000\n",
       "1649076                        NaN\n",
       "1649077    2020-05-31 20:00:00.000\n",
       "Name: B_CODE, Length: 1649078, dtype: object"
      ]
     },
     "execution_count": 51,
     "metadata": {},
     "output_type": "execute_result"
    }
   ],
   "source": [
    "df['B_CODE']"
   ]
  },
  {
   "cell_type": "code",
   "execution_count": 52,
   "id": "98453fb4-b30b-4202-b0fb-eecd4ffdafa6",
   "metadata": {},
   "outputs": [
    {
     "data": {
      "text/plain": [
       "NaN                        666797\n",
       "2019-10-10 09:01:00.000       378\n",
       "2019-12-05 00:00:00.000       342\n",
       "2019-05-23 00:00:00.000       341\n",
       "2018-12-06 00:00:00.000       324\n",
       "                            ...  \n",
       "2018-03-08 09:45:00.000         1\n",
       "2016-11-30 19:28:00.000         1\n",
       "2018-03-06 18:06:00.000         1\n",
       "2018-03-06 18:07:00.000         1\n",
       "2020-05-31 20:00:00.000         1\n",
       "Name: B_CODE, Length: 349624, dtype: int64"
      ]
     },
     "execution_count": 52,
     "metadata": {},
     "output_type": "execute_result"
    }
   ],
   "source": [
    "df['B_CODE'].value_counts(dropna=False)"
   ]
  },
  {
   "cell_type": "code",
   "execution_count": 53,
   "id": "41fa9c4e-58cf-4cef-ab1a-be4a3193b31b",
   "metadata": {},
   "outputs": [
    {
     "data": {
      "text/plain": [
       "NaN                        0.40435\n",
       "2019-10-10 09:01:00.000    0.00023\n",
       "2019-12-05 00:00:00.000    0.00021\n",
       "2019-05-23 00:00:00.000    0.00021\n",
       "2018-12-06 00:00:00.000    0.00020\n",
       "                            ...   \n",
       "2018-03-08 09:45:00.000    0.00000\n",
       "2016-11-30 19:28:00.000    0.00000\n",
       "2018-03-06 18:06:00.000    0.00000\n",
       "2018-03-06 18:07:00.000    0.00000\n",
       "2020-05-31 20:00:00.000    0.00000\n",
       "Name: B_CODE, Length: 349624, dtype: object"
      ]
     },
     "execution_count": 53,
     "metadata": {},
     "output_type": "execute_result"
    }
   ],
   "source": [
    "df['B_CODE'].value_counts(dropna=False, normalize=True).apply(lambda x: '%.5f' % x)"
   ]
  },
  {
   "cell_type": "markdown",
   "id": "8e4f6025-5f5c-4a62-8f8e-5f935ac8b7f6",
   "metadata": {
    "jp-MarkdownHeadingCollapsed": true,
    "tags": []
   },
   "source": [
    "#### C_CODE\n",
    "* Close to majority are NaNs, covering 49% of the data. \n",
    "* No other entry has a material proportion of the data.\n",
    "* A few repeats"
   ]
  },
  {
   "cell_type": "code",
   "execution_count": 54,
   "id": "6c22f665-7b21-47ef-b894-88db31746905",
   "metadata": {},
   "outputs": [
    {
     "data": {
      "text/plain": [
       "0                              NaN\n",
       "1                              NaN\n",
       "2                              NaN\n",
       "3                              NaN\n",
       "4                              NaN\n",
       "                    ...           \n",
       "1649073                        NaN\n",
       "1649074                        NaN\n",
       "1649075    2020-06-01 17:00:00.000\n",
       "1649076                        NaN\n",
       "1649077    2020-06-01 05:00:00.000\n",
       "Name: C_CODE, Length: 1649078, dtype: object"
      ]
     },
     "execution_count": 54,
     "metadata": {},
     "output_type": "execute_result"
    }
   ],
   "source": [
    "df['C_CODE']"
   ]
  },
  {
   "cell_type": "code",
   "execution_count": 55,
   "id": "cdd6f72c-bb91-405b-bf18-dba49db98c6e",
   "metadata": {},
   "outputs": [
    {
     "data": {
      "text/plain": [
       "NaN                        820617\n",
       "2018-01-31 23:59:00.000       698\n",
       "2016-08-31 23:59:00.000       535\n",
       "2017-10-31 23:59:00.000       529\n",
       "2017-07-31 23:59:00.000       524\n",
       "                            ...  \n",
       "2018-03-27 13:54:00.000         1\n",
       "2018-11-20 17:12:00.000         1\n",
       "2018-11-20 17:13:00.000         1\n",
       "2018-11-20 17:17:00.000         1\n",
       "2020-06-03 04:15:00.000         1\n",
       "Name: C_CODE, Length: 120658, dtype: int64"
      ]
     },
     "execution_count": 55,
     "metadata": {},
     "output_type": "execute_result"
    }
   ],
   "source": [
    "df['C_CODE'].value_counts(dropna=False)"
   ]
  },
  {
   "cell_type": "code",
   "execution_count": 56,
   "id": "980904f3-1d26-4b45-9224-d41319376445",
   "metadata": {},
   "outputs": [
    {
     "data": {
      "text/plain": [
       "NaN                        0.49762\n",
       "2018-01-31 23:59:00.000    0.00042\n",
       "2016-08-31 23:59:00.000    0.00032\n",
       "2017-10-31 23:59:00.000    0.00032\n",
       "2017-07-31 23:59:00.000    0.00032\n",
       "                            ...   \n",
       "2018-03-27 13:54:00.000    0.00000\n",
       "2018-11-20 17:12:00.000    0.00000\n",
       "2018-11-20 17:13:00.000    0.00000\n",
       "2018-11-20 17:17:00.000    0.00000\n",
       "2020-06-03 04:15:00.000    0.00000\n",
       "Name: C_CODE, Length: 120658, dtype: object"
      ]
     },
     "execution_count": 56,
     "metadata": {},
     "output_type": "execute_result"
    }
   ],
   "source": [
    "df['C_CODE'].value_counts(dropna=False, normalize=True).apply(lambda x: '%.5f' % x)"
   ]
  },
  {
   "cell_type": "markdown",
   "id": "30282860-0225-4614-af95-2330be3ee84c",
   "metadata": {
    "jp-MarkdownHeadingCollapsed": true,
    "tags": []
   },
   "source": [
    "#### D_CODE\n",
    "* Majority are NaNs, covering 90% of the data. \n",
    "* No other entry has a material proportion of the data.\n",
    "* A few repeats"
   ]
  },
  {
   "cell_type": "code",
   "execution_count": 57,
   "id": "ed816591-91cc-4d11-ae07-66a93aa6bb67",
   "metadata": {},
   "outputs": [
    {
     "data": {
      "text/plain": [
       "0          NaN\n",
       "1          NaN\n",
       "2          NaN\n",
       "3          NaN\n",
       "4          NaN\n",
       "          ... \n",
       "1649073    NaN\n",
       "1649074    NaN\n",
       "1649075    NaN\n",
       "1649076    NaN\n",
       "1649077    NaN\n",
       "Name: D_CODE, Length: 1649078, dtype: object"
      ]
     },
     "execution_count": 57,
     "metadata": {},
     "output_type": "execute_result"
    }
   ],
   "source": [
    "df['D_CODE']"
   ]
  },
  {
   "cell_type": "code",
   "execution_count": 58,
   "id": "515e9a46-3e4a-4e57-aae0-3667c3decb0f",
   "metadata": {},
   "outputs": [
    {
     "data": {
      "text/plain": [
       "NaN                                                                                 1479291\n",
       "DAILY 0600-1800                                                                        1320\n",
       "H24                                                                                    1285\n",
       "DAILY 0500-1700                                                                        1194\n",
       "SR-SS                                                                                  1188\n",
       "                                                                                     ...   \n",
       "06 1540-2100, 07 1200-2100, 08 11-15 18-22 25-29 0500-2100,   09 16 23 0500-1400          1\n",
       "07 1200-2100 08 0500-2000 09 16 23 0500-1400 11-15 18-22 25-   29 0500-2100               1\n",
       "110 FT AGL 2446 MSL. LGTD AND PAINTED  1705091752-PERM                                    1\n",
       "DEC 07 TIL 2300 DEC 08 BTN 0730/2300                                                      1\n",
       "JUN 04 AND 18 HR 0700-1500                                                                1\n",
       "Name: D_CODE, Length: 68725, dtype: int64"
      ]
     },
     "execution_count": 58,
     "metadata": {},
     "output_type": "execute_result"
    }
   ],
   "source": [
    "df['D_CODE'].value_counts(dropna=False)"
   ]
  },
  {
   "cell_type": "code",
   "execution_count": 59,
   "id": "a1d55af4-b095-4adb-88d5-ea032ee287a8",
   "metadata": {},
   "outputs": [
    {
     "data": {
      "text/plain": [
       "NaN                                                                                 0.89704\n",
       "DAILY 0600-1800                                                                     0.00080\n",
       "H24                                                                                 0.00078\n",
       "DAILY 0500-1700                                                                     0.00072\n",
       "SR-SS                                                                               0.00072\n",
       "                                                                                     ...   \n",
       "06 1540-2100, 07 1200-2100, 08 11-15 18-22 25-29 0500-2100,   09 16 23 0500-1400    0.00000\n",
       "07 1200-2100 08 0500-2000 09 16 23 0500-1400 11-15 18-22 25-   29 0500-2100         0.00000\n",
       "110 FT AGL 2446 MSL. LGTD AND PAINTED  1705091752-PERM                              0.00000\n",
       "DEC 07 TIL 2300 DEC 08 BTN 0730/2300                                                0.00000\n",
       "JUN 04 AND 18 HR 0700-1500                                                          0.00000\n",
       "Name: D_CODE, Length: 68725, dtype: object"
      ]
     },
     "execution_count": 59,
     "metadata": {},
     "output_type": "execute_result"
    }
   ],
   "source": [
    "df['D_CODE'].value_counts(dropna=False, normalize=True).apply(lambda x: '%.5f' % x)"
   ]
  },
  {
   "cell_type": "markdown",
   "id": "d0d2710b-f0e1-4cb9-ad32-03ea269e2584",
   "metadata": {
    "jp-MarkdownHeadingCollapsed": true,
    "tags": []
   },
   "source": [
    "#### E_CODE\n",
    "* No entry has a material proportion of the data.\n",
    "* A few repeats"
   ]
  },
  {
   "cell_type": "code",
   "execution_count": 60,
   "id": "8763d6ec-8e96-4656-a97e-e9400b5f3d73",
   "metadata": {},
   "outputs": [
    {
     "data": {
      "text/plain": [
       "0          AIRSPACE VOLK SOUTH MOA ACT 500FT UP TO BUT NO...\n",
       "1          AIRSPACE VOLK EAST MOA ACT 8000FT UP TO BUT NO...\n",
       "2          AIRSPACE FALLS 1 MOA ACT 500FT UP TO BUT NOT I...\n",
       "3          AIRSPACE FALLS 2 MOA ACT 500FT UP TO BUT NOT I...\n",
       "4          AIRSPACE VOLK WEST MOA ACT 100FT UP TO BUT NOT...\n",
       "                                 ...                        \n",
       "1649073    AIRSPACE UAS WI AN AREA DEFINED AS 2NM RADIUS ...\n",
       "1649074    CRANE (ASN UNKNOWN) 422221N1225246W (0.76NM NW...\n",
       "1649075                                  NAV ILS RWY 23R U/S\n",
       "1649076                RWY 04/22 UNSAFE DISABLED ACFT NE END\n",
       "1649077                               FIRE AND RESCUE CAT 5 \n",
       "Name: E_CODE, Length: 1649078, dtype: object"
      ]
     },
     "execution_count": 60,
     "metadata": {},
     "output_type": "execute_result"
    }
   ],
   "source": [
    "df['E_CODE']"
   ]
  },
  {
   "cell_type": "code",
   "execution_count": 61,
   "id": "512043df-1ad7-4ac6-9246-ed2c0a9d7aea",
   "metadata": {},
   "outputs": [
    {
     "data": {
      "text/plain": [
       "CNL.                                                                                                                                                                                       13686\n",
       "CNL. NEW NOTAM TO FLW.                                                                                                                                                                      7791\n",
       "NAV VORTAC NOT MNT                                                                                                                                                                          6232\n",
       "GPS RAIM PREDICTION FOR: TSO-C129 FAULT DETECTION NO GPS RAIM OUTAGES TSO-C146A FAULT DETECTION ONLY NO GPS RAIM OUTAGES TSO-C146A FAULT DETECTION WITH EXCLUSION NO GPS RAIM OUTAGES.      5192\n",
       "GPS RAIM PREDICTION FOR: TSO-C129 FAULT DETECTION NO GPS RAIM OUTAGES TSO-C146A FAULT DETECTION ONLY NO GPS RAIM OUTAGES TSO-C146A FAULT DETECTION WITH EXCLUSION NO GPS RAIM OUTAGES       5000\n",
       "                                                                                                                                                                                           ...  \n",
       "FDC 7/4246 NOTAMC 7/2266 A) IXD                                                                                                                                                                1\n",
       "FDC 7/4252 NOTAMC 7/2269 A) GPH                                                                                                                                                                1\n",
       "FDC 7/4245 NOTAMC 7/2263 A) FLV                                                                                                                                                                1\n",
       "FDC 7/4251 NOTAMC 7/2268 A) MKC                                                                                                                                                                1\n",
       "RWY 04/22 UNSAFE DISABLED ACFT NE END                                                                                                                                                          1\n",
       "Name: E_CODE, Length: 761258, dtype: int64"
      ]
     },
     "execution_count": 61,
     "metadata": {},
     "output_type": "execute_result"
    }
   ],
   "source": [
    "df['E_CODE'].value_counts(dropna=False)"
   ]
  },
  {
   "cell_type": "code",
   "execution_count": 62,
   "id": "63b9c3bb-bc75-416d-855d-fc3b6bff4742",
   "metadata": {},
   "outputs": [
    {
     "data": {
      "text/plain": [
       "CNL.                                                                                                                                                                                       0.00830\n",
       "CNL. NEW NOTAM TO FLW.                                                                                                                                                                     0.00472\n",
       "NAV VORTAC NOT MNT                                                                                                                                                                         0.00378\n",
       "GPS RAIM PREDICTION FOR: TSO-C129 FAULT DETECTION NO GPS RAIM OUTAGES TSO-C146A FAULT DETECTION ONLY NO GPS RAIM OUTAGES TSO-C146A FAULT DETECTION WITH EXCLUSION NO GPS RAIM OUTAGES.     0.00315\n",
       "GPS RAIM PREDICTION FOR: TSO-C129 FAULT DETECTION NO GPS RAIM OUTAGES TSO-C146A FAULT DETECTION ONLY NO GPS RAIM OUTAGES TSO-C146A FAULT DETECTION WITH EXCLUSION NO GPS RAIM OUTAGES      0.00303\n",
       "                                                                                                                                                                                            ...   \n",
       "FDC 7/4246 NOTAMC 7/2266 A) IXD                                                                                                                                                            0.00000\n",
       "FDC 7/4252 NOTAMC 7/2269 A) GPH                                                                                                                                                            0.00000\n",
       "FDC 7/4245 NOTAMC 7/2263 A) FLV                                                                                                                                                            0.00000\n",
       "FDC 7/4251 NOTAMC 7/2268 A) MKC                                                                                                                                                            0.00000\n",
       "RWY 04/22 UNSAFE DISABLED ACFT NE END                                                                                                                                                      0.00000\n",
       "Name: E_CODE, Length: 761258, dtype: object"
      ]
     },
     "execution_count": 62,
     "metadata": {},
     "output_type": "execute_result"
    }
   ],
   "source": [
    "df['E_CODE'].value_counts(dropna=False, normalize=True).apply(lambda x: '%.5f' % x)"
   ]
  },
  {
   "cell_type": "markdown",
   "id": "d587f7a9-7308-4ca8-8064-6ac0e5b9b3ee",
   "metadata": {
    "jp-MarkdownHeadingCollapsed": true,
    "tags": []
   },
   "source": [
    "#### F_CODE\n",
    "* Close to a majority are NaNs or 000, covering 39% and 39% of the data, repectively. \n",
    "* A few other categories represent >1% of data.\n",
    "* A few repeats\n",
    "* Includes chart"
   ]
  },
  {
   "cell_type": "code",
   "execution_count": 63,
   "id": "c10e990a-af22-4aab-9de2-1225db3d7889",
   "metadata": {},
   "outputs": [
    {
     "data": {
      "text/plain": [
       "0          NaN\n",
       "1          NaN\n",
       "2          NaN\n",
       "3          NaN\n",
       "4          NaN\n",
       "          ... \n",
       "1649073    NaN\n",
       "1649074    000\n",
       "1649075    000\n",
       "1649076    NaN\n",
       "1649077    000\n",
       "Name: F_CODE, Length: 1649078, dtype: object"
      ]
     },
     "execution_count": 63,
     "metadata": {},
     "output_type": "execute_result"
    }
   ],
   "source": [
    "df['F_CODE']"
   ]
  },
  {
   "cell_type": "code",
   "execution_count": 64,
   "id": "45914d9a-3225-490e-928f-0bfc5ea9e05c",
   "metadata": {},
   "outputs": [
    {
     "data": {
      "text/plain": [
       "000           634660\n",
       "NaN           629677\n",
       "SFC           162156\n",
       "GND            85714\n",
       "SEE             3716\n",
       "               ...  \n",
       "469.2FT            1\n",
       "562/562/52         1\n",
       "68/6/68            1\n",
       "OPEN               1\n",
       "028                1\n",
       "Name: F_CODE, Length: 2550, dtype: int64"
      ]
     },
     "execution_count": 64,
     "metadata": {},
     "output_type": "execute_result"
    }
   ],
   "source": [
    "df['F_CODE'].value_counts(dropna=False)"
   ]
  },
  {
   "cell_type": "code",
   "execution_count": 65,
   "id": "57e127a0-698a-4ece-bd61-b276a3e16683",
   "metadata": {},
   "outputs": [
    {
     "data": {
      "text/plain": [
       "000           0.38486\n",
       "NaN           0.38184\n",
       "SFC           0.09833\n",
       "GND           0.05198\n",
       "SEE           0.00225\n",
       "               ...   \n",
       "469.2FT       0.00000\n",
       "562/562/52    0.00000\n",
       "68/6/68       0.00000\n",
       "OPEN          0.00000\n",
       "028           0.00000\n",
       "Name: F_CODE, Length: 2550, dtype: object"
      ]
     },
     "execution_count": 65,
     "metadata": {},
     "output_type": "execute_result"
    }
   ],
   "source": [
    "df['F_CODE'].value_counts(dropna=False, normalize=True).apply(lambda x: '%.5f' % x)"
   ]
  },
  {
   "cell_type": "code",
   "execution_count": 66,
   "id": "14b5b415-5cd2-421c-b4fb-43995de578f4",
   "metadata": {},
   "outputs": [
    {
     "data": {
      "image/png": "[encoded data removed]",
      "text/plain": [
       "<Figure size 720x360 with 1 Axes>"
      ]
     },
     "metadata": {
      "needs_background": "light"
     },
     "output_type": "display_data"
    }
   ],
   "source": [
    "df['F_CODE'].value_counts(dropna=False, normalize=True).nlargest(5).plot(kind='bar', \n",
    "                                                                         title='F_CODE Top 5 Types Proportion of Data',\n",
    "                                                                         figsize=(10, 5));"
   ]
  },
  {
   "cell_type": "markdown",
   "id": "64412fa9-b1ad-439b-aa92-de40679e7b1d",
   "metadata": {
    "jp-MarkdownHeadingCollapsed": true,
    "tags": []
   },
   "source": [
    "#### G_CODE\n",
    "* Close to a majority are NaNs or 999, covering 39% and 35% of the data, repectively. \n",
    "* No other entry has a material proportion of the data.\n",
    "* A few repeats\n",
    "* Includes chart"
   ]
  },
  {
   "cell_type": "code",
   "execution_count": 67,
   "id": "5dc0311c-fc92-4198-b764-f607789aa995",
   "metadata": {},
   "outputs": [
    {
     "data": {
      "text/plain": [
       "0          NaN\n",
       "1          NaN\n",
       "2          NaN\n",
       "3          NaN\n",
       "4          NaN\n",
       "          ... \n",
       "1649073    NaN\n",
       "1649074    999\n",
       "1649075    999\n",
       "1649076    NaN\n",
       "1649077    999\n",
       "Name: G_CODE, Length: 1649078, dtype: object"
      ]
     },
     "execution_count": 67,
     "metadata": {},
     "output_type": "execute_result"
    }
   ],
   "source": [
    "df['G_CODE']"
   ]
  },
  {
   "cell_type": "code",
   "execution_count": 68,
   "id": "c2744c77-accc-4af8-9017-1f7b30ff8510",
   "metadata": {},
   "outputs": [
    {
     "data": {
      "text/plain": [
       "NaN                629900\n",
       "999                578887\n",
       "UNL                 14353\n",
       "5000FT               9856\n",
       "FL230                7779\n",
       "                    ...  \n",
       "M0196/18 NOTAMN         1\n",
       "M0195/18 NOTAMN         1\n",
       "M0194/18 NOTAMN         1\n",
       "4393FT                  1\n",
       "1525                    1\n",
       "Name: G_CODE, Length: 5739, dtype: int64"
      ]
     },
     "execution_count": 68,
     "metadata": {},
     "output_type": "execute_result"
    }
   ],
   "source": [
    "df['G_CODE'].value_counts(dropna=False)"
   ]
  },
  {
   "cell_type": "code",
   "execution_count": 69,
   "id": "1d848905-2b67-488c-a2f1-57b02a17939d",
   "metadata": {},
   "outputs": [
    {
     "data": {
      "text/plain": [
       "NaN                0.38197\n",
       "999                0.35104\n",
       "UNL                0.00870\n",
       "5000FT             0.00598\n",
       "FL230              0.00472\n",
       "                    ...   \n",
       "M0196/18 NOTAMN    0.00000\n",
       "M0195/18 NOTAMN    0.00000\n",
       "M0194/18 NOTAMN    0.00000\n",
       "4393FT             0.00000\n",
       "1525               0.00000\n",
       "Name: G_CODE, Length: 5739, dtype: object"
      ]
     },
     "execution_count": 69,
     "metadata": {},
     "output_type": "execute_result"
    }
   ],
   "source": [
    "df['G_CODE'].value_counts(dropna=False, normalize=True).apply(lambda x: '%.5f' % x)"
   ]
  },
  {
   "cell_type": "code",
   "execution_count": 70,
   "id": "691fcccd-2791-4220-92a3-d359dc3e625f",
   "metadata": {},
   "outputs": [
    {
     "data": {
      "image/png": "[encoded data removed]",
      "text/plain": [
       "<Figure size 720x360 with 1 Axes>"
      ]
     },
     "metadata": {
      "needs_background": "light"
     },
     "output_type": "display_data"
    }
   ],
   "source": [
    "df['G_CODE'].value_counts(dropna=False, normalize=True).nlargest(5).plot(kind='bar', \n",
    "                                                                         title='G_CODE Top 5 Types Proportion of Data',\n",
    "                                                                         figsize=(10, 5));"
   ]
  },
  {
   "cell_type": "markdown",
   "id": "879a9324-0242-4568-8766-52f691a69ba3",
   "metadata": {
    "jp-MarkdownHeadingCollapsed": true,
    "tags": []
   },
   "source": [
    "#### CLASSIFICATION\n",
    "* Close to a majority are INTL or DOM, covering 40% and 38% of the data, repectively. \n",
    "* Next two biggest categories, MIL and FDC, both cover more than 10% of the data each. \n",
    "* No other entry has a material proportion of the data.\n",
    "* A few repeats\n",
    "* Includes chart"
   ]
  },
  {
   "cell_type": "code",
   "execution_count": 71,
   "id": "d17e1d2a-6f71-4160-b156-af12b10b6933",
   "metadata": {},
   "outputs": [
    {
     "data": {
      "text/plain": [
       "0           DOM\n",
       "1           DOM\n",
       "2           DOM\n",
       "3           DOM\n",
       "4           DOM\n",
       "           ... \n",
       "1649073     DOM\n",
       "1649074    INTL\n",
       "1649075     DOM\n",
       "1649076     DOM\n",
       "1649077    INTL\n",
       "Name: CLASSIFICATION, Length: 1649078, dtype: object"
      ]
     },
     "execution_count": 71,
     "metadata": {},
     "output_type": "execute_result"
    }
   ],
   "source": [
    "df['CLASSIFICATION']"
   ]
  },
  {
   "cell_type": "code",
   "execution_count": 72,
   "id": "d40cb07a-6524-4834-84b2-75bf3eef9d2b",
   "metadata": {},
   "outputs": [
    {
     "data": {
      "text/plain": [
       "INTL               676133\n",
       "DOM                637021\n",
       "MIL                187870\n",
       "FDC                145466\n",
       "LMIL                 2202\n",
       "                    ...  \n",
       "M0485/17 NOTAMN         1\n",
       "M0484/17 NOTAMN         1\n",
       "M0486/17 NOTAMN         1\n",
       "M0482/17 NOTAMN         1\n",
       "M0101/20 NOTAMN         1\n",
       "Name: CLASSIFICATION, Length: 115, dtype: int64"
      ]
     },
     "execution_count": 72,
     "metadata": {},
     "output_type": "execute_result"
    }
   ],
   "source": [
    "df['CLASSIFICATION'].value_counts(dropna=False)"
   ]
  },
  {
   "cell_type": "code",
   "execution_count": 73,
   "id": "244425fb-15c8-42f2-8652-d2aebd0720f5",
   "metadata": {},
   "outputs": [
    {
     "data": {
      "text/plain": [
       "INTL               0.41001\n",
       "DOM                0.38629\n",
       "MIL                0.11392\n",
       "FDC                0.08821\n",
       "LMIL               0.00134\n",
       "                    ...   \n",
       "M0485/17 NOTAMN    0.00000\n",
       "M0484/17 NOTAMN    0.00000\n",
       "M0486/17 NOTAMN    0.00000\n",
       "M0482/17 NOTAMN    0.00000\n",
       "M0101/20 NOTAMN    0.00000\n",
       "Name: CLASSIFICATION, Length: 115, dtype: object"
      ]
     },
     "execution_count": 73,
     "metadata": {},
     "output_type": "execute_result"
    }
   ],
   "source": [
    "df['CLASSIFICATION'].value_counts(dropna=False, normalize=True).apply(lambda x: '%.5f' % x)"
   ]
  },
  {
   "cell_type": "code",
   "execution_count": 74,
   "id": "48e6559e-409a-4abf-ab50-f9118cb8a4a3",
   "metadata": {},
   "outputs": [
    {
     "data": {
      "image/png": "[encoded data removed]",
      "text/plain": [
       "<Figure size 720x360 with 1 Axes>"
      ]
     },
     "metadata": {
      "needs_background": "light"
     },
     "output_type": "display_data"
    }
   ],
   "source": [
    "df['CLASSIFICATION'].value_counts(dropna=False, normalize=True).nlargest(5).plot(kind='bar', \n",
    "                                                                         title='CLASSIFICATION Top 5 Types Proportion of Data',\n",
    "                                                                         figsize=(10, 5));"
   ]
  },
  {
   "cell_type": "markdown",
   "id": "38cb5d3d-cdfc-404f-8b7f-89f6275550d8",
   "metadata": {
    "jp-MarkdownHeadingCollapsed": true,
    "tags": []
   },
   "source": [
    "#### POSSIBLE_NOTAM_ID\n",
    "* How does this relate to NOTAM_ID? Proportions do not match. \n",
    "* Repeats, but cover an tiny proportion of the data."
   ]
  },
  {
   "cell_type": "code",
   "execution_count": 75,
   "id": "8506330c-fcb7-4e1a-826f-ff5c8ef3fea1",
   "metadata": {},
   "outputs": [
    {
     "data": {
      "text/plain": [
       "0                  0604/16\n",
       "1                  0603/16\n",
       "2                  0605/16\n",
       "3                  0607/16\n",
       "4                  0602/16\n",
       "                ...       \n",
       "1649073            0377/20\n",
       "1649074    A0123/20 NOTAMC\n",
       "1649075     0026/20 NOTAMN\n",
       "1649076     0158/20 NOTAMN\n",
       "1649077    N1321/20 NOTAMN\n",
       "Name: POSSIBLE_NOTAM_ID, Length: 1649078, dtype: object"
      ]
     },
     "execution_count": 75,
     "metadata": {},
     "output_type": "execute_result"
    }
   ],
   "source": [
    "df['POSSIBLE_NOTAM_ID']"
   ]
  },
  {
   "cell_type": "code",
   "execution_count": 76,
   "id": "bb7c41db-6adc-4b13-9b47-577c2b12e0e9",
   "metadata": {},
   "outputs": [
    {
     "data": {
      "text/plain": [
       "0001/17 NOTAMN     5183\n",
       "0002/17 NOTAMN     4275\n",
       "0003/17 NOTAMN     3895\n",
       "0001/18 NOTAMN     3795\n",
       "0004/17 NOTAMN     3551\n",
       "                   ... \n",
       "7655/17 NOTAMN        1\n",
       "SWEN0803/17           1\n",
       "J7867/17 NOTAMN       1\n",
       "J7868/17 NOTAMN       1\n",
       "N1321/20 NOTAMN       1\n",
       "Name: POSSIBLE_NOTAM_ID, Length: 500682, dtype: int64"
      ]
     },
     "execution_count": 76,
     "metadata": {},
     "output_type": "execute_result"
    }
   ],
   "source": [
    "df['POSSIBLE_NOTAM_ID'].value_counts(dropna=False)"
   ]
  },
  {
   "cell_type": "code",
   "execution_count": 77,
   "id": "fdc980b7-b14f-44ba-8681-29ce5b8c4aa4",
   "metadata": {},
   "outputs": [
    {
     "data": {
      "text/plain": [
       "0001/17 NOTAMN     0.00314\n",
       "0002/17 NOTAMN     0.00259\n",
       "0003/17 NOTAMN     0.00236\n",
       "0001/18 NOTAMN     0.00230\n",
       "0004/17 NOTAMN     0.00215\n",
       "                    ...   \n",
       "7655/17 NOTAMN     0.00000\n",
       "SWEN0803/17        0.00000\n",
       "J7867/17 NOTAMN    0.00000\n",
       "J7868/17 NOTAMN    0.00000\n",
       "N1321/20 NOTAMN    0.00000\n",
       "Name: POSSIBLE_NOTAM_ID, Length: 500682, dtype: object"
      ]
     },
     "execution_count": 77,
     "metadata": {},
     "output_type": "execute_result"
    }
   ],
   "source": [
    "df['POSSIBLE_NOTAM_ID'].value_counts(dropna=False, normalize=True).apply(lambda x: '%.5f' % x)"
   ]
  },
  {
   "cell_type": "markdown",
   "id": "8f2958e0-1de3-483d-8490-59490422299c",
   "metadata": {
    "jp-MarkdownHeadingCollapsed": true,
    "tags": []
   },
   "source": [
    "#### MIN_ALT\n",
    "* 0 as a string and 0 as numeric both included. \n",
    "    * parsed through custom fuction\n",
    "* Close to a majority are 0.000 or NaN, covering 59% and 29% of the data, repectively.\n",
    "* No other entry has a material proportion of the data.\n",
    "* A few repeats\n",
    "* Includes chart"
   ]
  },
  {
   "cell_type": "code",
   "execution_count": 78,
   "id": "bd8855e6-d342-430f-888e-cb9fadd18142",
   "metadata": {},
   "outputs": [],
   "source": [
    "# Helper function as to_numeric is not working\n",
    "def convert_to_float(row):\n",
    "    if isinstance(row, str):\n",
    "        try:\n",
    "            return float(row)\n",
    "        except:\n",
    "            return row\n",
    "    else:\n",
    "        return row"
   ]
  },
  {
   "cell_type": "code",
   "execution_count": 79,
   "id": "f339d716-a643-4232-a411-4facab93d921",
   "metadata": {},
   "outputs": [],
   "source": [
    "df['MIN_ALT'] = df['MIN_ALT'].apply(convert_to_float)"
   ]
  },
  {
   "cell_type": "code",
   "execution_count": 80,
   "id": "0b7af684-86bd-4e98-857a-2ff1ddffa165",
   "metadata": {},
   "outputs": [
    {
     "data": {
      "text/plain": [
       "0.0                    982993\n",
       "NaN                    461494\n",
       "110.0                   14704\n",
       "5.0                     10701\n",
       "100.0                   10362\n",
       "                        ...  \n",
       "19.6                        1\n",
       "2016-10-04 12:59:00         1\n",
       "11.637                      1\n",
       "11.316                      1\n",
       "10.397                      1\n",
       "Name: MIN_ALT, Length: 1600, dtype: int64"
      ]
     },
     "execution_count": 80,
     "metadata": {},
     "output_type": "execute_result"
    }
   ],
   "source": [
    "df['MIN_ALT'].value_counts(dropna=False)"
   ]
  },
  {
   "cell_type": "code",
   "execution_count": 81,
   "id": "f82e6f50-13fb-44c8-8d51-fa59189beb10",
   "metadata": {},
   "outputs": [
    {
     "data": {
      "text/plain": [
       "0.0                    0.59609\n",
       "NaN                    0.27985\n",
       "110.0                  0.00892\n",
       "5.0                    0.00649\n",
       "100.0                  0.00628\n",
       "                        ...   \n",
       "19.6                   0.00000\n",
       "2016-10-04 12:59:00    0.00000\n",
       "11.637                 0.00000\n",
       "11.316                 0.00000\n",
       "10.397                 0.00000\n",
       "Name: MIN_ALT, Length: 1600, dtype: object"
      ]
     },
     "execution_count": 81,
     "metadata": {},
     "output_type": "execute_result"
    }
   ],
   "source": [
    "df['MIN_ALT'].value_counts(dropna=False, normalize=True).apply(lambda x: '%.5f' % x)"
   ]
  },
  {
   "cell_type": "code",
   "execution_count": 82,
   "id": "f1a0718d-dfb5-4159-bb19-4d9cfee95996",
   "metadata": {},
   "outputs": [
    {
     "data": {
      "image/png": "[encoded data removed]",
      "text/plain": [
       "<Figure size 720x360 with 1 Axes>"
      ]
     },
     "metadata": {
      "needs_background": "light"
     },
     "output_type": "display_data"
    }
   ],
   "source": [
    "df['MIN_ALT'].value_counts(dropna=False, normalize=True).nlargest(5).plot(kind='bar', \n",
    "                                                                          title='MIN_ALT Top 5 Types Proportion of Data',\n",
    "                                                                          figsize=(10, 5));"
   ]
  },
  {
   "cell_type": "markdown",
   "id": "797d5d49-3313-4d6a-ab5a-662ec2d5ba2e",
   "metadata": {
    "jp-MarkdownHeadingCollapsed": true,
    "tags": []
   },
   "source": [
    "#### MAX_ALT\n",
    "* 0 as a string and 0 as numeric both included. \n",
    "    * Parsed through custom fuction\n",
    "* Close to a majority are 999.0 or NaN, covering 39% and 31% of the data, repectively.\n",
    "* A few other entries have a material proportion of the data.\n",
    "* A few repeats\n",
    "* Includes chart"
   ]
  },
  {
   "cell_type": "code",
   "execution_count": 83,
   "id": "e9533903-0cae-4e1a-8ab0-e28c91a105d8",
   "metadata": {},
   "outputs": [],
   "source": [
    "df['MAX_ALT'] = df['MAX_ALT'].apply(convert_to_float)"
   ]
  },
  {
   "cell_type": "code",
   "execution_count": 84,
   "id": "56800d45-1ed1-484e-8671-936ff26bec1d",
   "metadata": {},
   "outputs": [
    {
     "data": {
      "text/plain": [
       "999.000    649056\n",
       "NaN        514100\n",
       "180.000     56757\n",
       "50.000      17385\n",
       "20.000      16873\n",
       "            ...  \n",
       "32.910          1\n",
       "54.800          1\n",
       "5.459           1\n",
       "43.120          1\n",
       "27.780          1\n",
       "Name: MAX_ALT, Length: 3625, dtype: int64"
      ]
     },
     "execution_count": 84,
     "metadata": {},
     "output_type": "execute_result"
    }
   ],
   "source": [
    "df['MAX_ALT'].value_counts(dropna=False)"
   ]
  },
  {
   "cell_type": "code",
   "execution_count": 85,
   "id": "b93f5784-ddc5-4c6c-888c-4da56cd4cbfc",
   "metadata": {},
   "outputs": [
    {
     "data": {
      "text/plain": [
       "999.000    0.39359\n",
       "NaN        0.31175\n",
       "180.000    0.03442\n",
       "50.000     0.01054\n",
       "20.000     0.01023\n",
       "            ...   \n",
       "32.910     0.00000\n",
       "54.800     0.00000\n",
       "5.459      0.00000\n",
       "43.120     0.00000\n",
       "27.780     0.00000\n",
       "Name: MAX_ALT, Length: 3625, dtype: object"
      ]
     },
     "execution_count": 85,
     "metadata": {},
     "output_type": "execute_result"
    }
   ],
   "source": [
    "df['MAX_ALT'].value_counts(dropna=False, normalize=True).apply(lambda x: '%.5f' % x)"
   ]
  },
  {
   "cell_type": "code",
   "execution_count": 86,
   "id": "5d1c6c28-bf80-494b-bef9-928c9b5efeca",
   "metadata": {},
   "outputs": [
    {
     "data": {
      "image/png": "[encoded data removed]",
      "text/plain": [
       "<Figure size 720x360 with 1 Axes>"
      ]
     },
     "metadata": {
      "needs_background": "light"
     },
     "output_type": "display_data"
    }
   ],
   "source": [
    "df['MAX_ALT'].value_counts(dropna=False, normalize=True).nlargest(5).plot(kind='bar', \n",
    "                                                                          title='MAX_ALT Top 5 Types Proportion of Data',\n",
    "                                                                          figsize=(10, 5));"
   ]
  },
  {
   "cell_type": "markdown",
   "id": "b67286d1-f9d3-48a2-9196-fbd10b9dfcf6",
   "metadata": {
    "jp-MarkdownHeadingCollapsed": true,
    "tags": []
   },
   "source": [
    "#### MIN_ALT_REF_TYPE\n",
    "* Close to a majority are MSL, NaN, or AGL, covering 43%, 39%, and 20% of the data, repectively. \n",
    "* No other entry has a material proportion of the data.\n",
    "* A few repeats\n",
    "* Includes chart"
   ]
  },
  {
   "cell_type": "code",
   "execution_count": 87,
   "id": "92cad18f-0d92-450c-b6a7-2b6efdc7f78b",
   "metadata": {},
   "outputs": [
    {
     "data": {
      "text/plain": [
       "0          NaN\n",
       "1          NaN\n",
       "2          NaN\n",
       "3          NaN\n",
       "4          NaN\n",
       "          ... \n",
       "1649073    AGL\n",
       "1649074    MSL\n",
       "1649075    MSL\n",
       "1649076    NaN\n",
       "1649077    MSL\n",
       "Name: MIN_ALT_REF_TYPE, Length: 1649078, dtype: object"
      ]
     },
     "execution_count": 87,
     "metadata": {},
     "output_type": "execute_result"
    }
   ],
   "source": [
    "df['MIN_ALT_REF_TYPE']"
   ]
  },
  {
   "cell_type": "code",
   "execution_count": 88,
   "id": "92d5f17a-0b95-4314-bc5a-f02ee29f39c4",
   "metadata": {},
   "outputs": [
    {
     "data": {
      "text/plain": [
       "MSL                    722917\n",
       "NaN                    597539\n",
       "AGL                    328377\n",
       "2018-11-07 12:56:00         2\n",
       "2019-08-06 17:57:00         2\n",
       "                        ...  \n",
       "2017-12-14 15:54:00         1\n",
       "2017-12-14 16:27:00         1\n",
       "2017-12-14 16:41:00         1\n",
       "2018-01-09 16:14:00         1\n",
       "2020-03-19 11:48:00         1\n",
       "Name: MIN_ALT_REF_TYPE, Length: 215, dtype: int64"
      ]
     },
     "execution_count": 88,
     "metadata": {},
     "output_type": "execute_result"
    }
   ],
   "source": [
    "df['MIN_ALT_REF_TYPE'].value_counts(dropna=False)"
   ]
  },
  {
   "cell_type": "code",
   "execution_count": 89,
   "id": "b77b5cca-077b-4034-825a-aef8bcc9ab6a",
   "metadata": {},
   "outputs": [
    {
     "data": {
      "text/plain": [
       "MSL                    0.43838\n",
       "NaN                    0.36235\n",
       "AGL                    0.19913\n",
       "2018-11-07 12:56:00    0.00000\n",
       "2019-08-06 17:57:00    0.00000\n",
       "                        ...   \n",
       "2017-12-14 15:54:00    0.00000\n",
       "2017-12-14 16:27:00    0.00000\n",
       "2017-12-14 16:41:00    0.00000\n",
       "2018-01-09 16:14:00    0.00000\n",
       "2020-03-19 11:48:00    0.00000\n",
       "Name: MIN_ALT_REF_TYPE, Length: 215, dtype: object"
      ]
     },
     "execution_count": 89,
     "metadata": {},
     "output_type": "execute_result"
    }
   ],
   "source": [
    "df['MIN_ALT_REF_TYPE'].value_counts(dropna=False, normalize=True).apply(lambda x: '%.5f' % x)"
   ]
  },
  {
   "cell_type": "code",
   "execution_count": 90,
   "id": "60e8eee4-3d06-498d-94ab-7b2dc8201e00",
   "metadata": {},
   "outputs": [
    {
     "data": {
      "image/png": "[encoded data removed]",
      "text/plain": [
       "<Figure size 720x360 with 1 Axes>"
      ]
     },
     "metadata": {
      "needs_background": "light"
     },
     "output_type": "display_data"
    }
   ],
   "source": [
    "df['MIN_ALT_REF_TYPE'].value_counts(dropna=False, normalize=True).nlargest(5).plot(kind='bar', \n",
    "                                                                                   title='MIN_ALT_REF_TYPE Top 5 Types Proportion of Data',\n",
    "                                                                                   figsize=(10, 5));"
   ]
  },
  {
   "cell_type": "markdown",
   "id": "f0e9a7fa-4304-4d8e-9c15-1a59350910e7",
   "metadata": {
    "jp-MarkdownHeadingCollapsed": true,
    "tags": []
   },
   "source": [
    "#### MAX_ALT_REF_TYPE\n",
    "* Close to a majority are MSL or NaN, covering 55%, and 41% of the data, repectively. \n",
    "* A couple of other entries have a material proportion of the data.\n",
    "* A few repeats\n",
    "* Includes chart"
   ]
  },
  {
   "cell_type": "code",
   "execution_count": 91,
   "id": "2d00ca0a-a36a-449b-92a8-0b433969b5cd",
   "metadata": {},
   "outputs": [
    {
     "data": {
      "text/plain": [
       "0          NaN\n",
       "1          NaN\n",
       "2          NaN\n",
       "3          NaN\n",
       "4          NaN\n",
       "          ... \n",
       "1649073    NaN\n",
       "1649074    MSL\n",
       "1649075    MSL\n",
       "1649076    NaN\n",
       "1649077    MSL\n",
       "Name: MAX_ALT_REF_TYPE, Length: 1649078, dtype: object"
      ]
     },
     "execution_count": 91,
     "metadata": {},
     "output_type": "execute_result"
    }
   ],
   "source": [
    "df['MAX_ALT_REF_TYPE']"
   ]
  },
  {
   "cell_type": "code",
   "execution_count": 92,
   "id": "47682d74-1df2-4a45-8419-8175cb3b798a",
   "metadata": {},
   "outputs": [
    {
     "data": {
      "text/plain": [
       "MSL                    915942\n",
       "NaN                    665667\n",
       "AGL                     50709\n",
       "FL                      16409\n",
       "2017-03-02 05:00:00         6\n",
       "                        ...  \n",
       "2018-03-30 17:00:00         1\n",
       "2016-08-31 03:00:00         1\n",
       "2018-03-30 19:48:00         1\n",
       "2018-03-30 19:43:00         1\n",
       "2020-03-25 18:09:00         1\n",
       "Name: MAX_ALT_REF_TYPE, Length: 202, dtype: int64"
      ]
     },
     "execution_count": 92,
     "metadata": {},
     "output_type": "execute_result"
    }
   ],
   "source": [
    "df['MAX_ALT_REF_TYPE'].value_counts(dropna=False)"
   ]
  },
  {
   "cell_type": "code",
   "execution_count": 93,
   "id": "e83557c6-bced-4b57-ab90-4d3af6a2b975",
   "metadata": {},
   "outputs": [
    {
     "data": {
      "text/plain": [
       "MSL                    0.55543\n",
       "NaN                    0.40366\n",
       "AGL                    0.03075\n",
       "FL                     0.00995\n",
       "2017-03-02 05:00:00    0.00000\n",
       "                        ...   \n",
       "2018-03-30 17:00:00    0.00000\n",
       "2016-08-31 03:00:00    0.00000\n",
       "2018-03-30 19:48:00    0.00000\n",
       "2018-03-30 19:43:00    0.00000\n",
       "2020-03-25 18:09:00    0.00000\n",
       "Name: MAX_ALT_REF_TYPE, Length: 202, dtype: object"
      ]
     },
     "execution_count": 93,
     "metadata": {},
     "output_type": "execute_result"
    }
   ],
   "source": [
    "df['MAX_ALT_REF_TYPE'].value_counts(dropna=False, normalize=True).apply(lambda x: '%.5f' % x)"
   ]
  },
  {
   "cell_type": "code",
   "execution_count": 94,
   "id": "8ae47386-d594-4205-aa17-991f47e905ca",
   "metadata": {},
   "outputs": [
    {
     "data": {
      "image/png": "[encoded data removed]",
      "text/plain": [
       "<Figure size 720x360 with 1 Axes>"
      ]
     },
     "metadata": {
      "needs_background": "light"
     },
     "output_type": "display_data"
    }
   ],
   "source": [
    "df['MAX_ALT_REF_TYPE'].value_counts(dropna=False, normalize=True).nlargest(5).plot(kind='bar', \n",
    "                                                                                   title='MAX_ALT_REF_TYPE Top 5 Types Proportion of Data',\n",
    "                                                                                   figsize=(10, 5));"
   ]
  },
  {
   "cell_type": "markdown",
   "id": "b67740d2-3119-4da8-875e-f3097b4d23cf",
   "metadata": {
    "tags": []
   },
   "source": [
    "#### POSSIBLE_START_DATE\n",
    "* Did not get parsed as dates. \n",
    "    * Parsed through custom fuction\n",
    "* ZNY as an oddball entry\n",
    "* Most entries from 2016-2019\n",
    "* Includes chart"
   ]
  },
  {
   "cell_type": "code",
   "execution_count": 95,
   "id": "d69e913b-b9c1-4a6a-abe1-b890d5940fb6",
   "metadata": {},
   "outputs": [],
   "source": [
    "# Helper function as to_numeric is not working\n",
    "from datetime import datetime\n",
    "def convert_to_date(row):\n",
    "    try:\n",
    "        return datetime.strptime(row, '%Y-%m-%d %H:%M:%S')\n",
    "    except:\n",
    "        return row"
   ]
  },
  {
   "cell_type": "code",
   "execution_count": 96,
   "id": "8b1fe004-0572-4681-b68f-105823ed1094",
   "metadata": {},
   "outputs": [],
   "source": [
    "df['POSSIBLE_START_DATE'] = df['POSSIBLE_START_DATE'].apply(convert_to_date)"
   ]
  },
  {
   "cell_type": "code",
   "execution_count": 97,
   "id": "865dbe0a-49d6-4c1a-8458-87309856254e",
   "metadata": {},
   "outputs": [
    {
     "data": {
      "text/plain": [
       "2019-10-10 09:01:00    596\n",
       "2018-12-06 00:00:00    356\n",
       "2019-12-05 00:00:00    354\n",
       "2019-05-23 00:00:00    349\n",
       "2017-02-02 00:00:00    343\n",
       "                      ... \n",
       "2018-04-16 23:45:00      1\n",
       "2016-12-05 20:39:00      1\n",
       "2018-04-17 23:38:00      1\n",
       "2018-04-17 23:37:00      1\n",
       "2020-05-31 19:52:00      1\n",
       "Name: POSSIBLE_START_DATE, Length: 507396, dtype: int64"
      ]
     },
     "execution_count": 97,
     "metadata": {},
     "output_type": "execute_result"
    }
   ],
   "source": [
    "df['POSSIBLE_START_DATE'].value_counts(dropna=False)"
   ]
  },
  {
   "cell_type": "code",
   "execution_count": 98,
   "id": "64042a02-737b-4d55-a595-38a72c079936",
   "metadata": {},
   "outputs": [
    {
     "data": {
      "text/plain": [
       "2019-10-10 09:01:00    0.00036\n",
       "2018-12-06 00:00:00    0.00022\n",
       "2019-12-05 00:00:00    0.00021\n",
       "2019-05-23 00:00:00    0.00021\n",
       "2017-02-02 00:00:00    0.00021\n",
       "                        ...   \n",
       "2018-04-16 23:45:00    0.00000\n",
       "2016-12-05 20:39:00    0.00000\n",
       "2018-04-17 23:38:00    0.00000\n",
       "2018-04-17 23:37:00    0.00000\n",
       "2020-05-31 19:52:00    0.00000\n",
       "Name: POSSIBLE_START_DATE, Length: 507396, dtype: object"
      ]
     },
     "execution_count": 98,
     "metadata": {},
     "output_type": "execute_result"
    }
   ],
   "source": [
    "df['POSSIBLE_START_DATE'].value_counts(dropna=False, normalize=True).apply(lambda x: '%.5f' % x)"
   ]
  },
  {
   "cell_type": "code",
   "execution_count": 99,
   "id": "d6dcbae2-140f-42f1-9435-bc0be1556d30",
   "metadata": {},
   "outputs": [],
   "source": [
    "def get_year(row):\n",
    "    try:\n",
    "        return row.year\n",
    "    except:\n",
    "        return row\n",
    "\n",
    "def get_month(row):\n",
    "    try:\n",
    "        return row.month\n",
    "    except:\n",
    "        return row\n",
    "    \n",
    "def get_day(row):\n",
    "    try:\n",
    "        return row.day\n",
    "    except:\n",
    "        return row\n",
    "    \n",
    "df['POSSIBLE_START_DATE_YEAR']  = df['POSSIBLE_START_DATE'].apply(get_year)\n",
    "df['POSSIBLE_START_DATE_MONTH'] = df['POSSIBLE_START_DATE'].apply(get_month)\n",
    "df['POSSIBLE_START_DATE_DAY']   = df['POSSIBLE_START_DATE'].apply(get_day)"
   ]
  },
  {
   "cell_type": "code",
   "execution_count": 100,
   "id": "f91990f1-9455-4f3f-8bd4-d622f36af6a0",
   "metadata": {},
   "outputs": [
    {
     "data": {
      "text/plain": [
       "2017    484979\n",
       "2018    453174\n",
       "2019    388826\n",
       "2016    241439\n",
       "2020     78913\n",
       "2015      1118\n",
       "2014       293\n",
       "2013       141\n",
       "2012        60\n",
       "2011        42\n",
       "2007        22\n",
       "2008        11\n",
       "2026        11\n",
       "2004         8\n",
       "2010         8\n",
       "2009         7\n",
       "2002         5\n",
       "2005         4\n",
       "2001         4\n",
       "1999         3\n",
       "2003         3\n",
       "NaN          3\n",
       "2006         1\n",
       "2037         1\n",
       "ZNY          1\n",
       "2022         1\n",
       "Name: POSSIBLE_START_DATE_YEAR, dtype: int64"
      ]
     },
     "execution_count": 100,
     "metadata": {},
     "output_type": "execute_result"
    }
   ],
   "source": [
    "df['POSSIBLE_START_DATE_YEAR'].value_counts(dropna=False)"
   ]
  },
  {
   "cell_type": "code",
   "execution_count": 101,
   "id": "003f55e8-c132-40b5-b1f5-d8cae0c3cc6e",
   "metadata": {},
   "outputs": [
    {
     "data": {
      "text/plain": [
       "2017    0.29409\n",
       "2018    0.27480\n",
       "2019    0.23578\n",
       "2016    0.14641\n",
       "2020    0.04785\n",
       "2015    0.00068\n",
       "2014    0.00018\n",
       "2013    0.00009\n",
       "2012    0.00004\n",
       "2011    0.00003\n",
       "2007    0.00001\n",
       "2008    0.00001\n",
       "2026    0.00001\n",
       "2004    0.00000\n",
       "2010    0.00000\n",
       "2009    0.00000\n",
       "2002    0.00000\n",
       "2005    0.00000\n",
       "2001    0.00000\n",
       "1999    0.00000\n",
       "2003    0.00000\n",
       "NaN     0.00000\n",
       "2006    0.00000\n",
       "2037    0.00000\n",
       "ZNY     0.00000\n",
       "2022    0.00000\n",
       "Name: POSSIBLE_START_DATE_YEAR, dtype: object"
      ]
     },
     "execution_count": 101,
     "metadata": {},
     "output_type": "execute_result"
    }
   ],
   "source": [
    "df['POSSIBLE_START_DATE_YEAR'].value_counts(dropna=False, normalize=True).apply(lambda x: '%.5f' % x)"
   ]
  },
  {
   "cell_type": "code",
   "execution_count": 102,
   "id": "bd09cb29-0b59-49b3-96bb-d738ab4accfc",
   "metadata": {},
   "outputs": [
    {
     "data": {
      "image/png": "[encoded data removed]",
      "text/plain": [
       "<Figure size 720x360 with 1 Axes>"
      ]
     },
     "metadata": {
      "needs_background": "light"
     },
     "output_type": "display_data"
    }
   ],
   "source": [
    "df['POSSIBLE_START_DATE_YEAR'].value_counts(dropna=False).plot(kind='bar',               \n",
    "                                                               title='POSSIBLE_START_DATE_YEAR Proportion of Data',\n",
    "                                                               figsize=(10, 5));"
   ]
  },
  {
   "cell_type": "markdown",
   "id": "55a1365e-0dc3-40a3-b8da-83ea52069745",
   "metadata": {
    "tags": []
   },
   "source": [
    "#### POSSIBLE_END_DATE\n",
    "* Did not get parsed as dates. \n",
    "    * Parsed through custom fuction\n",
    "* Most entries from 2016-2019\n",
    "* Includes chart"
   ]
  },
  {
   "cell_type": "code",
   "execution_count": 103,
   "id": "b5edad6c-53d4-4519-be9f-9c5b97b9edbf",
   "metadata": {},
   "outputs": [
    {
     "data": {
      "text/plain": [
       "NaN                    22156\n",
       "2018-01-31 23:59:00      959\n",
       "2017-06-30 23:59:00      735\n",
       "2019-12-31 23:59:00      728\n",
       "2017-10-31 23:59:00      724\n",
       "                       ...  \n",
       "2017-04-02 03:02:00        1\n",
       "2018-05-26 12:49:00        1\n",
       "2017-03-31 02:57:00        1\n",
       "2018-05-26 12:52:00        1\n",
       "2020-06-03 19:48:00        1\n",
       "Name: POSSIBLE_END_DATE, Length: 341714, dtype: int64"
      ]
     },
     "execution_count": 103,
     "metadata": {},
     "output_type": "execute_result"
    }
   ],
   "source": [
    "df['POSSIBLE_END_DATE'].value_counts(dropna=False)"
   ]
  },
  {
   "cell_type": "code",
   "execution_count": 104,
   "id": "8d40119c-0fe0-4920-9550-b81c8f4e3e03",
   "metadata": {},
   "outputs": [
    {
     "data": {
      "text/plain": [
       "NaN                    0.01344\n",
       "2018-01-31 23:59:00    0.00058\n",
       "2017-06-30 23:59:00    0.00045\n",
       "2019-12-31 23:59:00    0.00044\n",
       "2017-10-31 23:59:00    0.00044\n",
       "                        ...   \n",
       "2017-04-02 03:02:00    0.00000\n",
       "2018-05-26 12:49:00    0.00000\n",
       "2017-03-31 02:57:00    0.00000\n",
       "2018-05-26 12:52:00    0.00000\n",
       "2020-06-03 19:48:00    0.00000\n",
       "Name: POSSIBLE_END_DATE, Length: 341714, dtype: object"
      ]
     },
     "execution_count": 104,
     "metadata": {},
     "output_type": "execute_result"
    }
   ],
   "source": [
    "df['POSSIBLE_END_DATE'].value_counts(dropna=False, normalize=True).apply(lambda x: '%.5f' % x)"
   ]
  },
  {
   "cell_type": "code",
   "execution_count": 105,
   "id": "76bc70a9-06a3-483f-bba1-ee401a74526a",
   "metadata": {},
   "outputs": [],
   "source": [
    "# df['POSSIBLE_END_DATE_YEAR']  = df['POSSIBLE_END_DATE'].apply(get_year)\n",
    "# df['POSSIBLE_END_DATE_MONTH'] = df['POSSIBLE_END_DATE'].apply(get_month)\n",
    "# df['POSSIBLE_END_DATE_DAY']   = df['POSSIBLE_END_DATE'].apply(get_day)\n",
    "\n",
    "df['POSSIBLE_END_DATE'] = pd.to_datetime(df['POSSIBLE_END_DATE'], errors = 'coerce', format = '%Y/%m/%d %H:%M:%S')\n",
    "\n",
    "df['POSSIBLE_END_DATE_YEAR']  = df['POSSIBLE_END_DATE'].dt.year.astype('Int64')"
   ]
  },
  {
   "cell_type": "code",
   "execution_count": 106,
   "id": "ab8077d1-2b31-4abc-b5c0-db947b9c6bea",
   "metadata": {},
   "outputs": [
    {
     "data": {
      "text/plain": [
       "0          2016\n",
       "1          2016\n",
       "2          2016\n",
       "3          2016\n",
       "4          2016\n",
       "           ... \n",
       "1649073    2020\n",
       "1649074    2020\n",
       "1649075    2020\n",
       "1649076    2020\n",
       "1649077    2020\n",
       "Name: POSSIBLE_END_DATE_YEAR, Length: 1649078, dtype: Int64"
      ]
     },
     "execution_count": 106,
     "metadata": {},
     "output_type": "execute_result"
    }
   ],
   "source": [
    "df['POSSIBLE_END_DATE_YEAR'].round(decimals=0)"
   ]
  },
  {
   "cell_type": "code",
   "execution_count": 107,
   "id": "93e59733-f2a7-4731-a151-a43e129407cc",
   "metadata": {},
   "outputs": [],
   "source": [
    "df['POSSIBLE_END_DATE_YEAR'] = df['POSSIBLE_END_DATE_YEAR'].round(decimals = 0)"
   ]
  },
  {
   "cell_type": "code",
   "execution_count": 108,
   "id": "397f9d50-b461-4af2-a2eb-c25f05de3e7d",
   "metadata": {},
   "outputs": [
    {
     "data": {
      "text/plain": [
       "2017    477660\n",
       "2018    451757\n",
       "2019    385337\n",
       "2016    225951\n",
       "2020     85622\n",
       "<NA>     22156\n",
       "2021       482\n",
       "2022        45\n",
       "2015        15\n",
       "2026        14\n",
       "2023         8\n",
       "2030         8\n",
       "2014         4\n",
       "2027         3\n",
       "2028         3\n",
       "2029         2\n",
       "2031         2\n",
       "2024         2\n",
       "2008         2\n",
       "2006         1\n",
       "2012         1\n",
       "2009         1\n",
       "2002         1\n",
       "2025         1\n",
       "Name: POSSIBLE_END_DATE_YEAR, dtype: Int64"
      ]
     },
     "execution_count": 108,
     "metadata": {},
     "output_type": "execute_result"
    }
   ],
   "source": [
    "np.round(df['POSSIBLE_END_DATE_YEAR'].value_counts(dropna=False))"
   ]
  },
  {
   "cell_type": "code",
   "execution_count": 109,
   "id": "7e775005-1c45-4102-9867-97016b1244b5",
   "metadata": {},
   "outputs": [
    {
     "data": {
      "text/plain": [
       "2017    0.28965\n",
       "2018    0.27395\n",
       "2019    0.23367\n",
       "2016    0.13702\n",
       "2020    0.05192\n",
       "<NA>    0.01344\n",
       "2021    0.00029\n",
       "2022    0.00003\n",
       "2015    0.00001\n",
       "2026    0.00001\n",
       "2023    0.00000\n",
       "2030    0.00000\n",
       "2014    0.00000\n",
       "2027    0.00000\n",
       "2028    0.00000\n",
       "2029    0.00000\n",
       "2031    0.00000\n",
       "2024    0.00000\n",
       "2008    0.00000\n",
       "2006    0.00000\n",
       "2012    0.00000\n",
       "2009    0.00000\n",
       "2002    0.00000\n",
       "2025    0.00000\n",
       "Name: POSSIBLE_END_DATE_YEAR, dtype: object"
      ]
     },
     "execution_count": 109,
     "metadata": {},
     "output_type": "execute_result"
    }
   ],
   "source": [
    "df['POSSIBLE_END_DATE_YEAR'].value_counts(dropna=False, normalize=True).apply(lambda x: '%.5f' % x)"
   ]
  },
  {
   "cell_type": "code",
   "execution_count": 110,
   "id": "8189843e-fa4a-427c-a9b5-0412715a6a3b",
   "metadata": {},
   "outputs": [
    {
     "data": {
      "image/png": "[encoded data removed]",
      "text/plain": [
       "<Figure size 720x360 with 1 Axes>"
      ]
     },
     "metadata": {
      "needs_background": "light"
     },
     "output_type": "display_data"
    }
   ],
   "source": [
    "df['POSSIBLE_END_DATE_YEAR'].value_counts().plot(kind='bar',               \n",
    "                                                 title='POSSIBLE_END_DATE_YEAR Proportion of Data',\n",
    "                                                 figsize=(10, 5));"
   ]
  },
  {
   "cell_type": "markdown",
   "id": "54c16b43-70d0-4590-916c-a0863cc2333d",
   "metadata": {
    "tags": []
   },
   "source": [
    "#### ADDED: POSSIBLE_DURATION\n",
    "* Biggest category is 3 days, representing 17% of the data\n",
    "* A few other categories represent >1% of data\n",
    "    * 1 day is 2.5% of the data\n",
    "    * 2, 3, and 4 hours acount for ~2.3% of the data each\n",
    "* No other category accounts for >1% of the data\n",
    "* Includes chart"
   ]
  },
  {
   "cell_type": "code",
   "execution_count": 111,
   "id": "a4cb0354-ae17-43da-ac19-ad13c493b25c",
   "metadata": {
    "scrolled": true,
    "tags": []
   },
   "outputs": [],
   "source": [
    "poss_dur_lst = []\n",
    "for _, row in df.iterrows():\n",
    "    if (isinstance(row.POSSIBLE_END_DATE,   datetime) and \n",
    "        isinstance(row.POSSIBLE_START_DATE, datetime)):\n",
    "        poss_dur_lst.append(row.POSSIBLE_END_DATE - row.POSSIBLE_START_DATE)\n",
    "    else:\n",
    "        poss_dur_lst.append(np.nan)"
   ]
  },
  {
   "cell_type": "code",
   "execution_count": 112,
   "id": "e871e938-3b59-4268-b11c-6bbed6095697",
   "metadata": {},
   "outputs": [],
   "source": [
    "df['POSSIBLE_DURATION'] = poss_dur_lst"
   ]
  },
  {
   "cell_type": "code",
   "execution_count": 113,
   "id": "3ec8cf3f-da14-41e5-91bf-5eb38c236740",
   "metadata": {},
   "outputs": [
    {
     "data": {
      "text/plain": [
       "3 days 00:00:00     282336\n",
       "1 days 00:00:00      42590\n",
       "0 days 02:00:00      39274\n",
       "0 days 03:00:00      37833\n",
       "0 days 04:00:00      34736\n",
       "                     ...  \n",
       "27 days 07:39:00         1\n",
       "21 days 19:39:00         1\n",
       "34 days 18:32:00         1\n",
       "60 days 04:44:00         1\n",
       "64 days 01:37:00         1\n",
       "Name: POSSIBLE_DURATION, Length: 85589, dtype: int64"
      ]
     },
     "execution_count": 113,
     "metadata": {},
     "output_type": "execute_result"
    }
   ],
   "source": [
    "df['POSSIBLE_DURATION'].value_counts(dropna=False)"
   ]
  },
  {
   "cell_type": "code",
   "execution_count": 114,
   "id": "10cc5b68-6479-4a4d-9b14-c704b8483d04",
   "metadata": {},
   "outputs": [
    {
     "data": {
      "text/plain": [
       "3 days 00:00:00     0.17121\n",
       "1 days 00:00:00     0.02583\n",
       "0 days 02:00:00     0.02382\n",
       "0 days 03:00:00     0.02294\n",
       "0 days 04:00:00     0.02106\n",
       "                     ...   \n",
       "27 days 07:39:00    0.00000\n",
       "21 days 19:39:00    0.00000\n",
       "34 days 18:32:00    0.00000\n",
       "60 days 04:44:00    0.00000\n",
       "64 days 01:37:00    0.00000\n",
       "Name: POSSIBLE_DURATION, Length: 85589, dtype: object"
      ]
     },
     "execution_count": 114,
     "metadata": {},
     "output_type": "execute_result"
    }
   ],
   "source": [
    "df['POSSIBLE_DURATION'].value_counts(dropna=False, normalize=True).apply(lambda x: '%.5f' % x)"
   ]
  },
  {
   "cell_type": "code",
   "execution_count": 115,
   "id": "12b7b169-a95b-452f-a0fb-042bd738f015",
   "metadata": {},
   "outputs": [
    {
     "data": {
      "image/png": "[encoded data removed]",
      "text/plain": [
       "<Figure size 720x360 with 1 Axes>"
      ]
     },
     "metadata": {
      "needs_background": "light"
     },
     "output_type": "display_data"
    }
   ],
   "source": [
    "df['POSSIBLE_DURATION'].value_counts(dropna=False, normalize=True).nlargest(5).plot(kind='bar', \n",
    "                                                                                    title='POSSIBLE_DURATION Top 5 Types Proportion of Data',\n",
    "                                                                                    figsize=(10, 5));"
   ]
  },
  {
   "cell_type": "markdown",
   "id": "91c2a37e-fd8e-4d76-8a62-b456034ba478",
   "metadata": {
    "jp-MarkdownHeadingCollapsed": true,
    "tags": []
   },
   "source": [
    "#### ISSUE_DATE\n",
    "* Did not get parsed as dates. \n",
    "    * Parsed through custom fuction\n",
    "* Non-dates suggest data entry issues.\n",
    "* Most entries from 2016-2019.\n",
    "* Includes chart"
   ]
  },
  {
   "cell_type": "code",
   "execution_count": 116,
   "id": "a9cebcd5-809e-4ff9-849a-cf9cfe16af46",
   "metadata": {},
   "outputs": [],
   "source": [
    "df['ISSUE_DATE'] = df['ISSUE_DATE'].apply(convert_to_date)"
   ]
  },
  {
   "cell_type": "code",
   "execution_count": 117,
   "id": "f377a57f-fb39-455e-a719-d30b77028052",
   "metadata": {},
   "outputs": [
    {
     "data": {
      "text/plain": [
       "2018-09-15 21:01:00    245\n",
       "ZNY                    212\n",
       "2018-06-28 06:18:00    163\n",
       "2018-09-10 21:04:00    153\n",
       "2019-04-23 01:44:00    137\n",
       "                      ... \n",
       "2017-06-25 08:50:00      1\n",
       "2017-06-25 08:52:00      1\n",
       "2018-09-15 09:30:00      1\n",
       "2017-06-25 08:53:00      1\n",
       "2020-05-31 12:50:00      1\n",
       "Name: ISSUE_DATE, Length: 631306, dtype: int64"
      ]
     },
     "execution_count": 117,
     "metadata": {},
     "output_type": "execute_result"
    }
   ],
   "source": [
    "df['ISSUE_DATE'].value_counts(dropna=False)"
   ]
  },
  {
   "cell_type": "code",
   "execution_count": 118,
   "id": "42fadf23-da52-41a7-82b2-c90ec4cabb90",
   "metadata": {},
   "outputs": [
    {
     "data": {
      "text/plain": [
       "2018-09-15 21:01:00    0.00015\n",
       "ZNY                    0.00013\n",
       "2018-06-28 06:18:00    0.00010\n",
       "2018-09-10 21:04:00    0.00009\n",
       "2019-04-23 01:44:00    0.00008\n",
       "                        ...   \n",
       "2017-06-25 08:50:00    0.00000\n",
       "2017-06-25 08:52:00    0.00000\n",
       "2018-09-15 09:30:00    0.00000\n",
       "2017-06-25 08:53:00    0.00000\n",
       "2020-05-31 12:50:00    0.00000\n",
       "Name: ISSUE_DATE, Length: 631306, dtype: object"
      ]
     },
     "execution_count": 118,
     "metadata": {},
     "output_type": "execute_result"
    }
   ],
   "source": [
    "df['ISSUE_DATE'].value_counts(dropna=False, normalize=True).apply(lambda x: '%.5f' % x)"
   ]
  },
  {
   "cell_type": "code",
   "execution_count": 119,
   "id": "092ecb91-9a63-4356-9d56-63eeb1588947",
   "metadata": {},
   "outputs": [],
   "source": [
    "df['ISSUE_DATE_YEAR']  = df['ISSUE_DATE'].apply(get_year)\n",
    "df['ISSUE_DATE_MONTH'] = df['ISSUE_DATE'].apply(get_month)\n",
    "df['ISSUE_DATE_DAY']   = df['ISSUE_DATE'].apply(get_day)"
   ]
  },
  {
   "cell_type": "code",
   "execution_count": 120,
   "id": "9ece63df-c1a7-47f3-acdd-e3e6e41cab7b",
   "metadata": {},
   "outputs": [
    {
     "data": {
      "text/plain": [
       "2017    485451\n",
       "2018    452638\n",
       "2019    389229\n",
       "2016    242339\n",
       "2020     77783\n",
       "2015       871\n",
       "2014       274\n",
       "ZNY        212\n",
       "2013       101\n",
       "2012        47\n",
       "NaN         31\n",
       "2011        25\n",
       "2008        10\n",
       "2004         8\n",
       "2010         7\n",
       "ZTL          7\n",
       "ZJX          6\n",
       "RKRR         6\n",
       "2009         5\n",
       "2002         5\n",
       "ZBW          4\n",
       "2003         3\n",
       "2005         3\n",
       "ZHU          2\n",
       "2007         2\n",
       "1999         2\n",
       "ZDC          1\n",
       "ZME          1\n",
       "ZAN          1\n",
       "ZHN          1\n",
       "2006         1\n",
       "ZUA          1\n",
       "OJAC         1\n",
       "Name: ISSUE_DATE_YEAR, dtype: int64"
      ]
     },
     "execution_count": 120,
     "metadata": {},
     "output_type": "execute_result"
    }
   ],
   "source": [
    "df['ISSUE_DATE_YEAR'].value_counts(dropna=False)"
   ]
  },
  {
   "cell_type": "code",
   "execution_count": 121,
   "id": "c59a1e03-c6e7-4af5-9d59-99e1a80ae722",
   "metadata": {},
   "outputs": [
    {
     "data": {
      "text/plain": [
       "2017    0.29438\n",
       "2018    0.27448\n",
       "2019    0.23603\n",
       "2016    0.14695\n",
       "2020    0.04717\n",
       "2015    0.00053\n",
       "2014    0.00017\n",
       "ZNY     0.00013\n",
       "2013    0.00006\n",
       "2012    0.00003\n",
       "NaN     0.00002\n",
       "2011    0.00002\n",
       "2008    0.00001\n",
       "2004    0.00000\n",
       "2010    0.00000\n",
       "ZTL     0.00000\n",
       "ZJX     0.00000\n",
       "RKRR    0.00000\n",
       "2009    0.00000\n",
       "2002    0.00000\n",
       "ZBW     0.00000\n",
       "2003    0.00000\n",
       "2005    0.00000\n",
       "ZHU     0.00000\n",
       "2007    0.00000\n",
       "1999    0.00000\n",
       "ZDC     0.00000\n",
       "ZME     0.00000\n",
       "ZAN     0.00000\n",
       "ZHN     0.00000\n",
       "2006    0.00000\n",
       "ZUA     0.00000\n",
       "OJAC    0.00000\n",
       "Name: ISSUE_DATE_YEAR, dtype: object"
      ]
     },
     "execution_count": 121,
     "metadata": {},
     "output_type": "execute_result"
    }
   ],
   "source": [
    "df['ISSUE_DATE_YEAR'].value_counts(dropna=False, normalize=True).apply(lambda x: '%.5f' % x)"
   ]
  },
  {
   "cell_type": "code",
   "execution_count": 122,
   "id": "b3551ac0-8e47-4da7-935e-78449b78a6d8",
   "metadata": {},
   "outputs": [
    {
     "data": {
      "image/png": "[encoded data removed]",
      "text/plain": [
       "<Figure size 720x360 with 1 Axes>"
      ]
     },
     "metadata": {
      "needs_background": "light"
     },
     "output_type": "display_data"
    }
   ],
   "source": [
    "df['ISSUE_DATE_YEAR'].value_counts(dropna=False).plot(kind='bar',               \n",
    "                                                      title='ISSUE_DATE_YEAR Proportion of Data',\n",
    "                                                      figsize=(10, 5));"
   ]
  },
  {
   "cell_type": "markdown",
   "id": "5a19b6f7-0b9f-436e-90db-fd929038c183",
   "metadata": {
    "jp-MarkdownHeadingCollapsed": true,
    "tags": []
   },
   "source": [
    "#### CANCELED_DATE\n",
    "* Did not get parsed as dates. \n",
    "    * Parsed through custom fuction\n",
    "* Non-dates suggest data entry issues.\n",
    "* Majority are NaN, covering 81% of the data.\n",
    "* A few other categories represent >1% of data.\n",
    "* Most entries from 2016-2019\n",
    "* Includes chart"
   ]
  },
  {
   "cell_type": "code",
   "execution_count": 123,
   "id": "1f96dfe1-ebe6-4b70-a22b-eff0768fbfbf",
   "metadata": {},
   "outputs": [],
   "source": [
    "df['CANCELED_DATE'] = df['CANCELED_DATE'].apply(convert_to_date)"
   ]
  },
  {
   "cell_type": "code",
   "execution_count": 124,
   "id": "629b1689-4d1e-400f-8e5e-65d543b9a502",
   "metadata": {},
   "outputs": [
    {
     "data": {
      "text/plain": [
       "NaT                    1391600\n",
       "2016-05-31 18:59:00        189\n",
       "2019-09-30 19:29:00        164\n",
       "2016-11-30 23:46:00        154\n",
       "2019-04-30 09:22:00        142\n",
       "                        ...   \n",
       "2017-11-10 04:51:00          1\n",
       "2017-11-10 04:54:00          1\n",
       "2017-11-10 04:53:00          1\n",
       "2017-11-10 04:49:00          1\n",
       "2020-05-31 12:47:00          1\n",
       "Name: CANCELED_DATE, Length: 152707, dtype: int64"
      ]
     },
     "execution_count": 124,
     "metadata": {},
     "output_type": "execute_result"
    }
   ],
   "source": [
    "df['CANCELED_DATE'].value_counts(dropna=False)"
   ]
  },
  {
   "cell_type": "code",
   "execution_count": 125,
   "id": "92be83c9-fb49-426d-a1bd-e685461cfd9a",
   "metadata": {},
   "outputs": [
    {
     "data": {
      "text/plain": [
       "NaT                    0.84387\n",
       "2016-05-31 18:59:00    0.00011\n",
       "2019-09-30 19:29:00    0.00010\n",
       "2016-11-30 23:46:00    0.00009\n",
       "2019-04-30 09:22:00    0.00009\n",
       "                        ...   \n",
       "2017-11-10 04:51:00    0.00000\n",
       "2017-11-10 04:54:00    0.00000\n",
       "2017-11-10 04:53:00    0.00000\n",
       "2017-11-10 04:49:00    0.00000\n",
       "2020-05-31 12:47:00    0.00000\n",
       "Name: CANCELED_DATE, Length: 152707, dtype: object"
      ]
     },
     "execution_count": 125,
     "metadata": {},
     "output_type": "execute_result"
    }
   ],
   "source": [
    "df['CANCELED_DATE'].value_counts(dropna=False, normalize=True).apply(lambda x: '%.5f' % x)"
   ]
  },
  {
   "cell_type": "code",
   "execution_count": 126,
   "id": "a8a912d4-4aac-423b-9a8f-b794a96a113d",
   "metadata": {},
   "outputs": [],
   "source": [
    "df['CANCEL_DATE_YEAR']  = df['CANCELED_DATE'].apply(get_year)\n",
    "df['CANCEL_DATE_MONTH'] = df['CANCELED_DATE'].apply(get_month)\n",
    "df['CANCEL_DATE_DAY']   = df['CANCELED_DATE'].apply(get_day)"
   ]
  },
  {
   "cell_type": "code",
   "execution_count": 127,
   "id": "61556970-97a2-4ac1-91a2-75377a40feb8",
   "metadata": {},
   "outputs": [
    {
     "data": {
      "text/plain": [
       "NaN                       1391600\n",
       "2017                        71465\n",
       "2019                        67853\n",
       "2018                        65511\n",
       "2016                        39384\n",
       "2020                        13156\n",
       "KZNY                           98\n",
       "KZJX                            3\n",
       "ZNY                             3\n",
       "KZTL                            1\n",
       "KZHU                            1\n",
       "LAKEHURST MAXFIELD FLD          1\n",
       "KZBW                            1\n",
       "ZLA                             1\n",
       "Name: CANCEL_DATE_YEAR, dtype: int64"
      ]
     },
     "execution_count": 127,
     "metadata": {},
     "output_type": "execute_result"
    }
   ],
   "source": [
    "df['CANCEL_DATE_YEAR'].value_counts(dropna=False)"
   ]
  },
  {
   "cell_type": "code",
   "execution_count": 128,
   "id": "3f242f70-01ff-4065-9c64-44b558338d60",
   "metadata": {},
   "outputs": [
    {
     "data": {
      "text/plain": [
       "NaN                       0.84387\n",
       "2017                      0.04334\n",
       "2019                      0.04115\n",
       "2018                      0.03973\n",
       "2016                      0.02388\n",
       "2020                      0.00798\n",
       "KZNY                      0.00006\n",
       "KZJX                      0.00000\n",
       "ZNY                       0.00000\n",
       "KZTL                      0.00000\n",
       "KZHU                      0.00000\n",
       "LAKEHURST MAXFIELD FLD    0.00000\n",
       "KZBW                      0.00000\n",
       "ZLA                       0.00000\n",
       "Name: CANCEL_DATE_YEAR, dtype: object"
      ]
     },
     "execution_count": 128,
     "metadata": {},
     "output_type": "execute_result"
    }
   ],
   "source": [
    "df['CANCEL_DATE_YEAR'].value_counts(dropna=False, normalize=True).apply(lambda x: '%.5f' % x)"
   ]
  },
  {
   "cell_type": "code",
   "execution_count": 129,
   "id": "af169150-78bf-427b-8f36-44ada37f24a9",
   "metadata": {},
   "outputs": [
    {
     "data": {
      "image/png": "[encoded data removed]",
      "text/plain": [
       "<Figure size 720x360 with 1 Axes>"
      ]
     },
     "metadata": {
      "needs_background": "light"
     },
     "output_type": "display_data"
    }
   ],
   "source": [
    "df['CANCEL_DATE_YEAR'].value_counts(dropna=False).plot(kind='bar',               \n",
    "                                                       title='CANCEL_DATE_YEAR Proportion of Data',\n",
    "                                                       figsize=(10, 5)); "
   ]
  },
  {
   "cell_type": "markdown",
   "id": "269c8109-ac7e-47b7-9b59-a459827a8a87",
   "metadata": {
    "jp-MarkdownHeadingCollapsed": true,
    "tags": []
   },
   "source": [
    "#### AFFECTED_FIR\n",
    "* NaN as biggest category, covering 40% of the data. \n",
    "* A couple of other entries have a material proportion of the data.\n",
    "* A few repeats\n",
    "* Includes chart"
   ]
  },
  {
   "cell_type": "code",
   "execution_count": 130,
   "id": "ff94818e-fbc2-43fb-bad5-b9ed6062c9cb",
   "metadata": {},
   "outputs": [
    {
     "data": {
      "text/plain": [
       "0           NaN\n",
       "1           NaN\n",
       "2           NaN\n",
       "3           NaN\n",
       "4           NaN\n",
       "           ... \n",
       "1649073    KZTL\n",
       "1649074    KZSE\n",
       "1649075     ZAU\n",
       "1649076     NaN\n",
       "1649077    YBBB\n",
       "Name: AFFECTED_FIR, Length: 1649078, dtype: object"
      ]
     },
     "execution_count": 130,
     "metadata": {},
     "output_type": "execute_result"
    }
   ],
   "source": [
    "df['AFFECTED_FIR']"
   ]
  },
  {
   "cell_type": "code",
   "execution_count": 131,
   "id": "7eabd48d-9ead-4b55-a90f-054b7f8bc529",
   "metadata": {},
   "outputs": [
    {
     "data": {
      "text/plain": [
       "NaN     643137\n",
       "LRBB     30173\n",
       "EPWW     27001\n",
       "UUWV     26494\n",
       "EGTT     22858\n",
       "         ...  \n",
       "XX           1\n",
       "OAAH         1\n",
       "SCT          1\n",
       "MKJM         1\n",
       "SBWM         1\n",
       "Name: AFFECTED_FIR, Length: 421, dtype: int64"
      ]
     },
     "execution_count": 131,
     "metadata": {},
     "output_type": "execute_result"
    }
   ],
   "source": [
    "df['AFFECTED_FIR'].value_counts(dropna=False)"
   ]
  },
  {
   "cell_type": "code",
   "execution_count": 132,
   "id": "4cb5d163-7e74-480d-af5e-93b38a287fd8",
   "metadata": {},
   "outputs": [
    {
     "data": {
      "text/plain": [
       "NaN     0.39000\n",
       "LRBB    0.01830\n",
       "EPWW    0.01637\n",
       "UUWV    0.01607\n",
       "EGTT    0.01386\n",
       "         ...   \n",
       "XX      0.00000\n",
       "OAAH    0.00000\n",
       "SCT     0.00000\n",
       "MKJM    0.00000\n",
       "SBWM    0.00000\n",
       "Name: AFFECTED_FIR, Length: 421, dtype: object"
      ]
     },
     "execution_count": 132,
     "metadata": {},
     "output_type": "execute_result"
    }
   ],
   "source": [
    "df['AFFECTED_FIR'].value_counts(dropna=False, normalize=True).apply(lambda x: '%.5f' % x)"
   ]
  },
  {
   "cell_type": "code",
   "execution_count": 133,
   "id": "fea4e64e-98af-42f4-83c8-7aa46cf79df3",
   "metadata": {},
   "outputs": [
    {
     "data": {
      "image/png": "[encoded data removed]",
      "text/plain": [
       "<Figure size 720x360 with 1 Axes>"
      ]
     },
     "metadata": {
      "needs_background": "light"
     },
     "output_type": "display_data"
    }
   ],
   "source": [
    "df['AFFECTED_FIR'].value_counts(dropna=False, normalize=True).nlargest(5).plot(kind='bar', \n",
    "                                                                               title='AFFECTED_FIR Top 5 Types Proportion of Data',\n",
    "                                                                               figsize=(10, 5));"
   ]
  },
  {
   "cell_type": "markdown",
   "id": "a404e32a-2ad6-4589-b528-183b6290837c",
   "metadata": {
    "jp-MarkdownHeadingCollapsed": true,
    "tags": []
   },
   "source": [
    "#### DESIGNATOR\n",
    "* Majority are NaNs, covering 75% of the data.\n",
    "* No other entry has a material proportion of the data.\n",
    "* A few repeats"
   ]
  },
  {
   "cell_type": "code",
   "execution_count": 134,
   "id": "b2fa6f23-6b97-4cfa-b964-ba5b1d019a1b",
   "metadata": {},
   "outputs": [
    {
     "data": {
      "text/plain": [
       "0          NaN\n",
       "1          NaN\n",
       "2          NaN\n",
       "3          NaN\n",
       "4          NaN\n",
       "          ... \n",
       "1649073    NaN\n",
       "1649074    NaN\n",
       "1649075    BTL\n",
       "1649076    HCR\n",
       "1649077    NaN\n",
       "Name: DESIGNATOR, Length: 1649078, dtype: object"
      ]
     },
     "execution_count": 134,
     "metadata": {},
     "output_type": "execute_result"
    }
   ],
   "source": [
    "df['DESIGNATOR']"
   ]
  },
  {
   "cell_type": "code",
   "execution_count": 135,
   "id": "9b1bd777-086b-49ab-b2a2-dac994fb25a0",
   "metadata": {},
   "outputs": [
    {
     "data": {
      "text/plain": [
       "NaN                1249292\n",
       "DFW                   2609\n",
       "MEM                   2531\n",
       "DTW                   1910\n",
       "PHL                   1688\n",
       "                    ...   \n",
       "UACC                     1\n",
       "YPA                      1\n",
       "LSAS                     1\n",
       "LITTLE ROCK AFB          1\n",
       "MI8                      1\n",
       "Name: DESIGNATOR, Length: 6232, dtype: int64"
      ]
     },
     "execution_count": 135,
     "metadata": {},
     "output_type": "execute_result"
    }
   ],
   "source": [
    "df['DESIGNATOR'].value_counts(dropna=False)"
   ]
  },
  {
   "cell_type": "code",
   "execution_count": 136,
   "id": "91929502-bd8b-44a0-b728-8da8165792bb",
   "metadata": {},
   "outputs": [
    {
     "data": {
      "text/plain": [
       "NaN                0.75757\n",
       "DFW                0.00158\n",
       "MEM                0.00153\n",
       "DTW                0.00116\n",
       "PHL                0.00102\n",
       "                    ...   \n",
       "UACC               0.00000\n",
       "YPA                0.00000\n",
       "LSAS               0.00000\n",
       "LITTLE ROCK AFB    0.00000\n",
       "MI8                0.00000\n",
       "Name: DESIGNATOR, Length: 6232, dtype: object"
      ]
     },
     "execution_count": 136,
     "metadata": {},
     "output_type": "execute_result"
    }
   ],
   "source": [
    "df['DESIGNATOR'].value_counts(dropna=False, normalize=True).apply(lambda x: '%.5f' % x)"
   ]
  },
  {
   "cell_type": "markdown",
   "id": "c7800d80-18c3-4552-a3b5-7ea72d9f3685",
   "metadata": {
    "jp-MarkdownHeadingCollapsed": true,
    "tags": []
   },
   "source": [
    "#### DESIGNATOR_NAME\n",
    "* Majority are NaNs, covering 77% of the data.\n",
    "    * Proportions do not match DESIGNATOR > What does this mean?\n",
    "* No other entry has a material proportion of the data.\n",
    "* A few repeats"
   ]
  },
  {
   "cell_type": "code",
   "execution_count": 137,
   "id": "5c1dac56-8580-4420-9176-4a0a4125560b",
   "metadata": {},
   "outputs": [
    {
     "data": {
      "text/plain": [
       "0                   NaN\n",
       "1                   NaN\n",
       "2                   NaN\n",
       "3                   NaN\n",
       "4                   NaN\n",
       "               ...     \n",
       "1649073             NaN\n",
       "1649074             NaN\n",
       "1649075     W K KELLOGG\n",
       "1649076    HEBER VALLEY\n",
       "1649077             NaN\n",
       "Name: DESIGNATOR_NAME, Length: 1649078, dtype: object"
      ]
     },
     "execution_count": 137,
     "metadata": {},
     "output_type": "execute_result"
    }
   ],
   "source": [
    "df['DESIGNATOR_NAME']"
   ]
  },
  {
   "cell_type": "code",
   "execution_count": 138,
   "id": "456a534f-cdfc-49d1-a28e-4f475d8719f8",
   "metadata": {},
   "outputs": [
    {
     "data": {
      "text/plain": [
       "NaN                                  1284474\n",
       "DALLAS-FORT WORTH INTL                  2484\n",
       "MEMPHIS INTL                            2468\n",
       "DETROIT METROPOLITAN WAYNE COUNTY       1856\n",
       "PHILADELPHIA INTL                       1658\n",
       "                                      ...   \n",
       "YAKATAGA                                   1\n",
       "SABRE AHP (FORT CAMPBELL)                  1\n",
       "VAN PAK                                    1\n",
       "Elkton                                     1\n",
       "HEBER VALLEY                               1\n",
       "Name: DESIGNATOR_NAME, Length: 7867, dtype: int64"
      ]
     },
     "execution_count": 138,
     "metadata": {},
     "output_type": "execute_result"
    }
   ],
   "source": [
    "df['DESIGNATOR_NAME'].value_counts(dropna=False)"
   ]
  },
  {
   "cell_type": "code",
   "execution_count": 139,
   "id": "86bfdd9f-8a38-4b33-ad44-345b5b8c8c6a",
   "metadata": {},
   "outputs": [
    {
     "data": {
      "text/plain": [
       "NaN                                  0.77890\n",
       "DALLAS-FORT WORTH INTL               0.00151\n",
       "MEMPHIS INTL                         0.00150\n",
       "DETROIT METROPOLITAN WAYNE COUNTY    0.00113\n",
       "PHILADELPHIA INTL                    0.00101\n",
       "                                      ...   \n",
       "YAKATAGA                             0.00000\n",
       "SABRE AHP (FORT CAMPBELL)            0.00000\n",
       "VAN PAK                              0.00000\n",
       "Elkton                               0.00000\n",
       "HEBER VALLEY                         0.00000\n",
       "Name: DESIGNATOR_NAME, Length: 7867, dtype: object"
      ]
     },
     "execution_count": 139,
     "metadata": {},
     "output_type": "execute_result"
    }
   ],
   "source": [
    "df['DESIGNATOR_NAME'].value_counts(dropna=False, normalize=True).apply(lambda x: '%.5f' % x)"
   ]
  },
  {
   "cell_type": "markdown",
   "id": "da0402ae-f331-45c2-80f6-6bfd183d0a76",
   "metadata": {
    "jp-MarkdownHeadingCollapsed": true,
    "tags": []
   },
   "source": [
    "#### LOCATION_NAME\n",
    "* No entry accounts for more than 8% of the data\n",
    "* A couple of other entries have a material proportion of the data.\n",
    "* Includes chart"
   ]
  },
  {
   "cell_type": "code",
   "execution_count": 140,
   "id": "c6c6d398-d58d-416e-b9f9-3ec842afd701",
   "metadata": {},
   "outputs": [
    {
     "data": {
      "text/plain": [
       "0                                  ZAU ARTCC\n",
       "1                                  ZAU ARTCC\n",
       "2                                  ZMP ARTCC\n",
       "3                                  ZMP ARTCC\n",
       "4                                  ZMP ARTCC\n",
       "                         ...                \n",
       "1649073    HARTSFIELD - JACKSON ATLANTA INTL\n",
       "1649074          ROGUE VALLEY INTL - MEDFORD\n",
       "1649075                          W K KELLOGG\n",
       "1649076                         HEBER VALLEY\n",
       "1649077                        COFFS HARBOUR\n",
       "Name: LOCATION_NAME, Length: 1649078, dtype: object"
      ]
     },
     "execution_count": 140,
     "metadata": {},
     "output_type": "execute_result"
    }
   ],
   "source": [
    "df['LOCATION_NAME']"
   ]
  },
  {
   "cell_type": "code",
   "execution_count": 141,
   "id": "69506dbf-8c89-4816-b76d-f4e11d1423ea",
   "metadata": {},
   "outputs": [
    {
     "data": {
      "text/plain": [
       "FDC                             109543\n",
       "ZSE ARTCC                        31846\n",
       "CIVIL AERONAUTICAL AUTHORITY     28898\n",
       "MOSKVA FIR                       26576\n",
       "NaN                              20317\n",
       "                                 ...  \n",
       "IWAMI                                1\n",
       "TAJIMA                               1\n",
       "STAPLEFORD                           1\n",
       "CAMP BONDSTEEL AHP                   1\n",
       "SAULT STE MARIE INTL                 1\n",
       "Name: LOCATION_NAME, Length: 11549, dtype: int64"
      ]
     },
     "execution_count": 141,
     "metadata": {},
     "output_type": "execute_result"
    }
   ],
   "source": [
    "df['LOCATION_NAME'].value_counts(dropna=False)"
   ]
  },
  {
   "cell_type": "code",
   "execution_count": 142,
   "id": "30e69be7-4310-4588-8308-1ce5a9ba52d4",
   "metadata": {},
   "outputs": [
    {
     "data": {
      "text/plain": [
       "FDC                             0.06643\n",
       "ZSE ARTCC                       0.01931\n",
       "CIVIL AERONAUTICAL AUTHORITY    0.01752\n",
       "MOSKVA FIR                      0.01612\n",
       "NaN                             0.01232\n",
       "                                 ...   \n",
       "IWAMI                           0.00000\n",
       "TAJIMA                          0.00000\n",
       "STAPLEFORD                      0.00000\n",
       "CAMP BONDSTEEL AHP              0.00000\n",
       "SAULT STE MARIE INTL            0.00000\n",
       "Name: LOCATION_NAME, Length: 11549, dtype: object"
      ]
     },
     "execution_count": 142,
     "metadata": {},
     "output_type": "execute_result"
    }
   ],
   "source": [
    "df['LOCATION_NAME'].value_counts(dropna=False, normalize=True).apply(lambda x: '%.5f' % x)"
   ]
  },
  {
   "cell_type": "code",
   "execution_count": 143,
   "id": "f1eaa644-6739-4f40-8c8c-63c133d8f441",
   "metadata": {},
   "outputs": [
    {
     "data": {
      "image/png": "[encoded data removed]",
      "text/plain": [
       "<Figure size 720x360 with 1 Axes>"
      ]
     },
     "metadata": {
      "needs_background": "light"
     },
     "output_type": "display_data"
    }
   ],
   "source": [
    "df['LOCATION_NAME'].value_counts(dropna=False, normalize=True).nlargest(5).plot(kind='bar', \n",
    "                                                                                title='LOCATION_NAME Top 5 Types Proportion of Data',\n",
    "                                                                                figsize=(10, 5));"
   ]
  },
  {
   "cell_type": "markdown",
   "id": "ca7ad66b-d387-4588-9a54-baa464a45c6e",
   "metadata": {
    "jp-MarkdownHeadingCollapsed": true,
    "tags": []
   },
   "source": [
    "#### ACCOUNT_ID\n",
    "* No entry accounts for more than 11% of the data\n",
    "* A couple of other entries have a material proportion of the data.\n",
    "* Includes chart"
   ]
  },
  {
   "cell_type": "code",
   "execution_count": 144,
   "id": "f0a91af9-d383-4cbd-9d56-d04c08ad5d53",
   "metadata": {},
   "outputs": [
    {
     "data": {
      "text/plain": [
       "0              SUAC\n",
       "1              SUAC\n",
       "2              SUAC\n",
       "3              SUAC\n",
       "4              SUAC\n",
       "             ...   \n",
       "1649073         ATL\n",
       "1649074        KMFR\n",
       "1649075         BTL\n",
       "1649076         CDC\n",
       "1649077    YBBBZEZX\n",
       "Name: ACCOUNT_ID, Length: 1649078, dtype: object"
      ]
     },
     "execution_count": 144,
     "metadata": {},
     "output_type": "execute_result"
    }
   ],
   "source": [
    "df['ACCOUNT_ID']"
   ]
  },
  {
   "cell_type": "code",
   "execution_count": 145,
   "id": "0102c103-6318-4e98-9246-ec9a4543e8fb",
   "metadata": {},
   "outputs": [
    {
     "data": {
      "text/plain": [
       "FDC         145466\n",
       "UUUUYNYX     98887\n",
       "SUAW         64710\n",
       "SUAC         43768\n",
       "YBBBZEZX     40594\n",
       "             ...  \n",
       "BPC              1\n",
       "ZMHGYNYX         1\n",
       "HKMP             1\n",
       "KCVC             1\n",
       "UGTBYNYX         1\n",
       "Name: ACCOUNT_ID, Length: 2803, dtype: int64"
      ]
     },
     "execution_count": 145,
     "metadata": {},
     "output_type": "execute_result"
    }
   ],
   "source": [
    "df['ACCOUNT_ID'].value_counts(dropna=False)"
   ]
  },
  {
   "cell_type": "code",
   "execution_count": 146,
   "id": "310bf7ac-d922-40fb-843a-0630e6f6427c",
   "metadata": {},
   "outputs": [
    {
     "data": {
      "text/plain": [
       "FDC         0.08821\n",
       "UUUUYNYX    0.05997\n",
       "SUAW        0.03924\n",
       "SUAC        0.02654\n",
       "YBBBZEZX    0.02462\n",
       "             ...   \n",
       "BPC         0.00000\n",
       "ZMHGYNYX    0.00000\n",
       "HKMP        0.00000\n",
       "KCVC        0.00000\n",
       "UGTBYNYX    0.00000\n",
       "Name: ACCOUNT_ID, Length: 2803, dtype: object"
      ]
     },
     "execution_count": 146,
     "metadata": {},
     "output_type": "execute_result"
    }
   ],
   "source": [
    "df['ACCOUNT_ID'].value_counts(dropna=False, normalize=True).apply(lambda x: '%.5f' % x)"
   ]
  },
  {
   "cell_type": "code",
   "execution_count": 147,
   "id": "e818bc4d-39b1-4a27-948e-807dfeb1a5c3",
   "metadata": {},
   "outputs": [
    {
     "data": {
      "image/png": "[encoded data removed]",
      "text/plain": [
       "<Figure size 720x360 with 1 Axes>"
      ]
     },
     "metadata": {
      "needs_background": "light"
     },
     "output_type": "display_data"
    }
   ],
   "source": [
    "df['ACCOUNT_ID'].value_counts(dropna=False, normalize=True).nlargest(5).plot(kind='bar', \n",
    "                                                                             title='ACCOUNT_ID Top 5 Types Proportion of Data',\n",
    "                                                                             figsize=(10, 5));"
   ]
  },
  {
   "cell_type": "markdown",
   "id": "4373df0c-d5dc-4040-9480-caba21a0f681",
   "metadata": {
    "jp-MarkdownHeadingCollapsed": true,
    "tags": []
   },
   "source": [
    "#### LOCATION_CODE\n",
    "* Seems to match (though not perfectly) LOCATION_NAME\n",
    "* No entry accounts for more than 8% of the data\n",
    "* A couple of other entries have a material proportion of the data.\n",
    "* Includes chart"
   ]
  },
  {
   "cell_type": "code",
   "execution_count": 148,
   "id": "94bb6025-b1d0-41ef-9ba5-9980f3c2c4a5",
   "metadata": {},
   "outputs": [
    {
     "data": {
      "text/plain": [
       "0           ZAU\n",
       "1           ZAU\n",
       "2           ZMP\n",
       "3           ZMP\n",
       "4           ZMP\n",
       "           ... \n",
       "1649073     ATL\n",
       "1649074     MFR\n",
       "1649075    KBTL\n",
       "1649076    KHCR\n",
       "1649077    YCFS\n",
       "Name: LOCATION_CODE, Length: 1649078, dtype: object"
      ]
     },
     "execution_count": 148,
     "metadata": {},
     "output_type": "execute_result"
    }
   ],
   "source": [
    "df['LOCATION_CODE']"
   ]
  },
  {
   "cell_type": "code",
   "execution_count": 149,
   "id": "79dd1073-6397-4f09-b2d9-58851df75c07",
   "metadata": {},
   "outputs": [
    {
     "data": {
      "text/plain": [
       "FDC     109541\n",
       "ZSE      31842\n",
       "LRBB     28899\n",
       "UUWV     26578\n",
       "ZLA      18507\n",
       "         ...  \n",
       "KI50         1\n",
       "K05C         1\n",
       "K5A9         1\n",
       "KP91         1\n",
       "HECP         1\n",
       "Name: LOCATION_CODE, Length: 14400, dtype: int64"
      ]
     },
     "execution_count": 149,
     "metadata": {},
     "output_type": "execute_result"
    }
   ],
   "source": [
    "df['LOCATION_CODE'].value_counts(dropna=False)"
   ]
  },
  {
   "cell_type": "code",
   "execution_count": 150,
   "id": "766bc6cd-50eb-4326-9eab-94a1d8dedf5e",
   "metadata": {},
   "outputs": [
    {
     "data": {
      "text/plain": [
       "FDC     0.06643\n",
       "ZSE     0.01931\n",
       "LRBB    0.01752\n",
       "UUWV    0.01612\n",
       "ZLA     0.01122\n",
       "         ...   \n",
       "KI50    0.00000\n",
       "K05C    0.00000\n",
       "K5A9    0.00000\n",
       "KP91    0.00000\n",
       "HECP    0.00000\n",
       "Name: LOCATION_CODE, Length: 14400, dtype: object"
      ]
     },
     "execution_count": 150,
     "metadata": {},
     "output_type": "execute_result"
    }
   ],
   "source": [
    "df['LOCATION_CODE'].value_counts(dropna=False, normalize=True).apply(lambda x: '%.5f' % x)"
   ]
  },
  {
   "cell_type": "code",
   "execution_count": 151,
   "id": "69934aee-9ab0-4331-9b61-e0502afeebf3",
   "metadata": {},
   "outputs": [
    {
     "data": {
      "image/png": "[encoded data removed]",
      "text/plain": [
       "<Figure size 720x360 with 1 Axes>"
      ]
     },
     "metadata": {
      "needs_background": "light"
     },
     "output_type": "display_data"
    }
   ],
   "source": [
    "df['LOCATION_CODE'].value_counts(dropna=False, normalize=True).nlargest(5).plot(kind='bar', \n",
    "                                                                               title='LOCATION_CODE Top 5 Types Proportion of Data',\n",
    "                                                                               figsize=(10, 5));"
   ]
  },
  {
   "cell_type": "markdown",
   "id": "243e99d5-70df-44cb-821c-a57486308459",
   "metadata": {
    "jp-MarkdownHeadingCollapsed": true,
    "tags": []
   },
   "source": [
    "#### LAUNCHES_REC_ID\n",
    "* All values are NaN"
   ]
  },
  {
   "cell_type": "code",
   "execution_count": 152,
   "id": "a2691f3d-f5e7-41bc-85b7-43820f12c043",
   "metadata": {},
   "outputs": [
    {
     "data": {
      "text/plain": [
       "0         NaN\n",
       "1         NaN\n",
       "2         NaN\n",
       "3         NaN\n",
       "4         NaN\n",
       "           ..\n",
       "1649073   NaN\n",
       "1649074   NaN\n",
       "1649075   NaN\n",
       "1649076   NaN\n",
       "1649077   NaN\n",
       "Name: LAUNCHES_REC_ID, Length: 1649078, dtype: float64"
      ]
     },
     "execution_count": 152,
     "metadata": {},
     "output_type": "execute_result"
    }
   ],
   "source": [
    "df['LAUNCHES_REC_ID']"
   ]
  },
  {
   "cell_type": "code",
   "execution_count": 153,
   "id": "6837ffc2-5135-4120-a361-56be0eafe143",
   "metadata": {},
   "outputs": [
    {
     "data": {
      "text/plain": [
       "NaN    1649078\n",
       "Name: LAUNCHES_REC_ID, dtype: int64"
      ]
     },
     "execution_count": 153,
     "metadata": {},
     "output_type": "execute_result"
    }
   ],
   "source": [
    "df['LAUNCHES_REC_ID'].value_counts(dropna=False)"
   ]
  },
  {
   "attachments": {
    "41685c79-6914-498a-a85a-2c0e2a80379f.png": {
     "image/png": "[encoded data removed]"
    }
   },
   "cell_type": "markdown",
   "id": "7ebc6c89-e8ac-4c5d-80bb-074cf51a6dca",
   "metadata": {},
   "source": [
    "## Keywords Analysis\n",
    "\n",
    "* text file split into `inclusionwords` and `exclusionwords`\n",
    "![image.png](attachment:41685c79-6914-498a-a85a-2c0e2a80379f.png)"
   ]
  },
  {
   "cell_type": "code",
   "execution_count": 154,
   "id": "dc676231-4c46-4706-9c78-fe475c0332bd",
   "metadata": {},
   "outputs": [],
   "source": [
    "# Create lists with keywords\n",
    "words_include = [\"launch\", \"space\", \"91\\\\.143\", \"ATTENTION AIRLINE DISPATCHERS\", \"HAZARD AREA\",\n",
    "                 \"STNR ALT\", \"STNR ALTITUDE\", \"STATIONARY ALT\", \"TEMPORARY FLIGHT RESTRICTION\"]\n",
    "\n",
    "words_exclude  = [\"obst\", \"fire\", \"unmanned\", \"crane\", \"uas\", \"aerial\", \"drill\", \"installed\",\n",
    "                  \"terminal\", \"parking\", \"rwy\", \"taxi\", \"twy\", \"hangar\", \"chemical\", \"pavement\",\n",
    "                  \"firing\", \"out of service\", \"volcan\",\"turbine\", \"flare\", \"wx\", \"weather\",\n",
    "                  \"aerodrome\", \"apron\", \"tower\", \"hospital\", \"covid\", \"medical\", \"copter\",\n",
    "                  \"disabled\", \"passenger\", \"passanger\", \"arctic\", \"artic\", \"defense\", \"defence\",\n",
    "                  \"helipad\", \"bird\", \"laser \", \"heliport\", \"ordnance\", \"decommisioned\", \n",
    "                  \"decomissioned\", \"dropzone\", \"runway\", \"wind\", \"aerobatic\", \"airfield\", \"model\",\n",
    "                  \"para\", \"parachute\", \"jumpers\", \"paradrops\", \"glide\", \"tcas\", \"accident\",\n",
    "                  \"investigation\", \"training\", \"approach\", \"explosion\", \"explosive\", \"demolitions\"]"
   ]
  },
  {
   "cell_type": "code",
   "execution_count": 155,
   "id": "74a53c1f-8de7-4384-9fa4-b12d7a7cb630",
   "metadata": {},
   "outputs": [],
   "source": [
    "# helper functions to get words\n",
    "def has_include_word(row):\n",
    "    if isinstance(row, str):\n",
    "        return_words = []\n",
    "        for w in words_include:\n",
    "            if w.lower() in row.lower():\n",
    "                return_words.append(w)        \n",
    "        return return_words if return_words else np.nan\n",
    "    else:\n",
    "        return np.nan\n",
    "\n",
    "def has_exclude_word(row):\n",
    "    if isinstance(row, str):\n",
    "        return_words = []\n",
    "        for w in words_exclude:\n",
    "            if w.lower() in row.lower():\n",
    "                return_words.append(w)     \n",
    "        return return_words if return_words else np.nan\n",
    "    else:\n",
    "        return np.nan"
   ]
  },
  {
   "cell_type": "code",
   "execution_count": 156,
   "id": "c9ba0f1b-1556-4a95-8038-5479f1cafb56",
   "metadata": {},
   "outputs": [],
   "source": [
    "df['Inclusion_Words'] = df['TEXT'].apply(has_include_word)\n",
    "df['Exclusion_Words'] = df['TEXT'].apply(has_exclude_word)"
   ]
  },
  {
   "cell_type": "code",
   "execution_count": 157,
   "id": "a628c43d-f5d9-477b-8c50-059681f3355f",
   "metadata": {},
   "outputs": [
    {
     "data": {
      "text/plain": [
       "NaN                                                            1374533\n",
       "[space]                                                         257353\n",
       "[space, TEMPORARY FLIGHT RESTRICTION]                             4300\n",
       "[STNR ALT]                                                        4185\n",
       "[space, STNR ALT]                                                 2954\n",
       "[launch]                                                          2657\n",
       "[launch, space]                                                    845\n",
       "[STATIONARY ALT]                                                   767\n",
       "[space, STATIONARY ALT]                                            413\n",
       "[launch, space, TEMPORARY FLIGHT RESTRICTION]                      407\n",
       "[TEMPORARY FLIGHT RESTRICTION]                                     152\n",
       "[launch, space, ATTENTION AIRLINE DISPATCHERS, HAZARD AREA]        150\n",
       "[launch, space, STNR ALT]                                           91\n",
       "[ATTENTION AIRLINE DISPATCHERS]                                     81\n",
       "[launch, STNR ALT]                                                  44\n",
       "[launch, space, HAZARD AREA]                                        29\n",
       "[launch, TEMPORARY FLIGHT RESTRICTION]                              21\n",
       "[HAZARD AREA]                                                       20\n",
       "[launch, HAZARD AREA]                                               16\n",
       "[launch, STATIONARY ALT]                                            15\n",
       "[HAZARD AREA, STNR ALT]                                             14\n",
       "[launch, HAZARD AREA, STNR ALT]                                      9\n",
       "[space, HAZARD AREA]                                                 8\n",
       "[launch, ATTENTION AIRLINE DISPATCHERS, HAZARD AREA]                 4\n",
       "[launch, space, STATIONARY ALT]                                      4\n",
       "[HAZARD AREA, STATIONARY ALT]                                        2\n",
       "[space, STNR ALT, STNR ALTITUDE]                                     2\n",
       "[STNR ALT, STNR ALTITUDE]                                            1\n",
       "[space, HAZARD AREA, STNR ALT]                                       1\n",
       "Name: Inclusion_Words, dtype: int64"
      ]
     },
     "execution_count": 157,
     "metadata": {},
     "output_type": "execute_result"
    }
   ],
   "source": [
    "df['Inclusion_Words'].value_counts(dropna=False)"
   ]
  },
  {
   "cell_type": "code",
   "execution_count": 158,
   "id": "553af746-c072-4c53-baf3-ece6b495cc50",
   "metadata": {},
   "outputs": [
    {
     "data": {
      "text/plain": [
       "NaN                                             945792\n",
       "[rwy]                                           123097\n",
       "[obst, out of service, tower]                   100872\n",
       "[rwy, out of service]                            74091\n",
       "[out of service]                                 38513\n",
       "                                                 ...  \n",
       "[aerodrome, artic, airfield, approach]               1\n",
       "[obst, runway, wind, approach]                       1\n",
       "[flare, approach]                                    1\n",
       "[terminal, rwy, para]                                1\n",
       "[obst, crane, installed, aerodrome, helipad]         1\n",
       "Name: Exclusion_Words, Length: 3524, dtype: int64"
      ]
     },
     "execution_count": 158,
     "metadata": {},
     "output_type": "execute_result"
    }
   ],
   "source": [
    "df['Exclusion_Words'].value_counts(dropna=False)"
   ]
  }
 ],
 "metadata": {
  "kernelspec": {
   "display_name": "Python 3 (ipykernel)",
   "language": "python",
   "name": "python3"
  },
  "language_info": {
   "codemirror_mode": {
    "name": "ipython",
    "version": 3
   },
   "file_extension": ".py",
   "mimetype": "text/x-python",
   "name": "python",
   "nbconvert_exporter": "python",
   "pygments_lexer": "ipython3",
   "version": "3.8.13"
  }
 },
 "nbformat": 4,
 "nbformat_minor": 5
}
