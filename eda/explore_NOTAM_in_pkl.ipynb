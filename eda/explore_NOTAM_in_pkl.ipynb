{
 "cells": [
  {
   "cell_type": "code",
   "execution_count": 1,
   "id": "4a14a3ea-58bb-49a6-8f19-0a88b7d96b65",
   "metadata": {},
   "outputs": [],
   "source": [
    "import time\n",
    "import pandas as pd\n",
    "import re\n",
    "# Imports\n",
    "import csv\n",
    "import pandas as pd\n",
    "import numpy as np\n",
    "from datetime import datetime\n",
    "pd.options.display.max_colwidth = 100000\n",
    "\n",
    "import seaborn as sns\n",
    "import matplotlib.pyplot as plt\n",
    "import plotly as px\n"
   ]
  },
  {
   "cell_type": "code",
   "execution_count": 2,
   "id": "da61645a-c0b3-4608-b24e-541312eec0c4",
   "metadata": {},
   "outputs": [
    {
     "name": "stdout",
     "output_type": "stream",
     "text": [
      "Read NOTAM with pandas:  3.4389476776123047 sec\n",
      "(1649753, 38)\n"
     ]
    }
   ],
   "source": [
    "start = time.time()\n",
    "# Read pickle file with topics and augmented text\n",
    "df_notam = pd.read_pickle(\"data/allData_out_2.pkl\")\n",
    "# polygon = pd.read_csv('polygons.csv')\n",
    "# spaceports = pd.read_csv('spaceports.csv')\n",
    "# vertices = pd.read_csv('vertices.csv')\n",
    "end = time.time()\n",
    "print(\"Read NOTAM with pandas: \", (end-start),\"sec\")\n",
    "\n",
    "print(df_notam.shape)"
   ]
  },
  {
   "cell_type": "code",
   "execution_count": 3,
   "id": "26cf0d69-1b12-45ac-8274-c1afd44393d7",
   "metadata": {},
   "outputs": [
    {
     "name": "stdout",
     "output_type": "stream",
     "text": [
      "(1649753, 38)\n"
     ]
    }
   ],
   "source": [
    "# print(notam.info())\n",
    "\n",
    "# print(notam.head(5))\n",
    "# Make POSSIBLE_START_DATE, POSSIBLE_END_DATE, ISSUE_DATE, and CANCELED_DATE datetime format\n",
    "df_notam['POSSIBLE_START_DATE'] = pd.to_datetime(df_notam['POSSIBLE_START_DATE'], errors = 'coerce', format = '%Y/%m/%d %H:%M:%S')\n",
    "df_notam['POSSIBLE_END_DATE'] = pd.to_datetime(df_notam['POSSIBLE_END_DATE'], errors = 'coerce', format = '%Y/%m/%d %H:%M:%S')\n",
    "df_notam['ISSUE_DATE'] = pd.to_datetime(df_notam['ISSUE_DATE'], errors = 'coerce', format = '%Y/%m/%d %H:%M:%S')\n",
    "df_notam['CANCELED_DATE'] = pd.to_datetime(df_notam['CANCELED_DATE'], errors = 'coerce', format = '%Y/%m/%d %H:%M:%S')\n",
    "\n",
    "# Replace missing POSSIBLE_START_DATE with CANCELED_DATE and vise versa\n",
    "df_notam.loc[df_notam['CANCELED_DATE'].isna(), 'CANCELED_DATE'] = df_notam.loc[df_notam['CANCELED_DATE'].isna(), 'POSSIBLE_END_DATE']\n",
    "df_notam.loc[df_notam['POSSIBLE_END_DATE'].isna(), 'POSSIBLE_END_DATE'] = df_notam.loc[df_notam['POSSIBLE_END_DATE'].isna(), 'CANCELED_DATE']\n",
    "\n",
    "# Drop NOTAMs without POSSIBLE_END_DATE and POSSIBLE_START_DATE\n",
    "df_notam = df_notam.dropna( how='all', subset=['POSSIBLE_END_DATE', 'POSSIBLE_START_DATE'])\n",
    "\n",
    "print(df_notam.shape)\n"
   ]
  },
  {
   "cell_type": "code",
   "execution_count": 4,
   "id": "98187c3e-3a07-46e9-9dd8-979c415df830",
   "metadata": {},
   "outputs": [
    {
     "data": {
      "text/plain": [
       "<seaborn.axisgrid.FacetGrid at 0x2a2147e7ee0>"
      ]
     },
     "execution_count": 4,
     "metadata": {},
     "output_type": "execute_result"
    },
    {
     "data": {
      "image/png": "[encoded data removed]",
      "text/plain": [
       "<Figure size 360x360 with 1 Axes>"
      ]
     },
     "metadata": {
      "needs_background": "light"
     },
     "output_type": "display_data"
    }
   ],
   "source": [
    "## NOTAM by year\n",
    "sns.displot(df_notam['POSSIBLE_START_DATE'], bins=8)\n"
   ]
  },
  {
   "cell_type": "code",
   "execution_count": 5,
   "id": "907a1755-b688-4d42-a9fc-f8270eafa594",
   "metadata": {},
   "outputs": [
    {
     "name": "stdout",
     "output_type": "stream",
     "text": [
      "<bound method NDFrame._add_numeric_operations.<locals>.min of 0         2016-05-24 17:30:00\n",
      "1         2016-05-24 17:30:00\n",
      "2         2016-05-24 17:30:00\n",
      "3         2016-05-24 17:30:00\n",
      "4         2016-05-24 17:30:00\n",
      "                  ...        \n",
      "1649751   2020-06-01 11:00:00\n",
      "1649752   2020-05-31 19:48:00\n",
      "1649753   2020-06-01 15:00:00\n",
      "1649754   2020-05-31 19:52:00\n",
      "1649755   2020-05-31 20:00:00\n",
      "Name: POSSIBLE_START_DATE, Length: 1649753, dtype: datetime64[ns]>\n"
     ]
    }
   ],
   "source": [
    "print(df_notam['POSSIBLE_START_DATE'].min)"
   ]
  },
  {
   "cell_type": "code",
   "execution_count": 6,
   "id": "f7e5ce8b-941c-46cd-9989-852249c47d78",
   "metadata": {},
   "outputs": [
    {
     "name": "stdout",
     "output_type": "stream",
     "text": [
      "<bound method NDFrame._add_numeric_operations.<locals>.min of 0         2016-05-24 19:45:00\n",
      "1         2016-05-24 19:45:00\n",
      "2         2016-05-24 19:45:00\n",
      "3         2016-05-24 19:45:00\n",
      "4         2016-05-24 19:45:00\n",
      "                  ...        \n",
      "1649751   2020-06-02 03:00:00\n",
      "1649752   2020-06-03 19:48:00\n",
      "1649753   2020-06-01 17:00:00\n",
      "1649754   2020-06-01 01:00:00\n",
      "1649755   2020-06-01 05:00:00\n",
      "Name: POSSIBLE_END_DATE, Length: 1649753, dtype: datetime64[ns]>\n"
     ]
    }
   ],
   "source": [
    "print(df_notam['POSSIBLE_END_DATE'].min)"
   ]
  },
  {
   "cell_type": "code",
   "execution_count": 7,
   "id": "5c474d31-ca47-4654-8d80-a813bcadc849",
   "metadata": {},
   "outputs": [
    {
     "name": "stdout",
     "output_type": "stream",
     "text": [
      "<bound method NDFrame._add_numeric_operations.<locals>.min of 0         2016-05-24 04:35:00\n",
      "1         2016-05-24 04:35:00\n",
      "2         2016-05-24 04:35:00\n",
      "3         2016-05-24 04:35:00\n",
      "4         2016-05-24 04:35:00\n",
      "                  ...        \n",
      "1649751   2020-05-31 12:47:00\n",
      "1649752   2020-05-31 12:48:00\n",
      "1649753   2020-05-31 12:51:00\n",
      "1649754   2020-05-31 12:52:00\n",
      "1649755   2020-05-31 12:50:00\n",
      "Name: ISSUE_DATE, Length: 1649753, dtype: datetime64[ns]>\n"
     ]
    }
   ],
   "source": [
    "print(df_notam['ISSUE_DATE'].min)"
   ]
  },
  {
   "cell_type": "code",
   "execution_count": 8,
   "id": "c5c86dda-8bb8-4366-a929-3229c58dc25b",
   "metadata": {},
   "outputs": [
    {
     "name": "stdout",
     "output_type": "stream",
     "text": [
      "<bound method NDFrame._add_numeric_operations.<locals>.min of 0         2016-05-24 12:10:00\n",
      "1         2016-05-24 12:10:00\n",
      "2         2016-05-24 12:10:00\n",
      "3         2016-05-24 12:10:00\n",
      "4         2016-05-24 12:10:00\n",
      "                  ...        \n",
      "1649751   2020-06-02 03:00:00\n",
      "1649752   2020-06-03 19:48:00\n",
      "1649753   2020-06-01 17:00:00\n",
      "1649754   2020-06-01 01:00:00\n",
      "1649755   2020-06-01 05:00:00\n",
      "Name: CANCELED_DATE, Length: 1649753, dtype: datetime64[ns]>\n"
     ]
    }
   ],
   "source": [
    "print(df_notam['CANCELED_DATE'].min)"
   ]
  },
  {
   "cell_type": "code",
   "execution_count": null,
   "id": "ed98f535-ca6e-439c-8f60-00c55a80d128",
   "metadata": {},
   "outputs": [],
   "source": []
  }
 ],
 "metadata": {
  "kernelspec": {
   "display_name": "Python 3 (ipykernel)",
   "language": "python",
   "name": "python3"
  },
  "language_info": {
   "codemirror_mode": {
    "name": "ipython",
    "version": 3
   },
   "file_extension": ".py",
   "mimetype": "text/x-python",
   "name": "python",
   "nbconvert_exporter": "python",
   "pygments_lexer": "ipython3",
   "version": "3.8.13"
  }
 },
 "nbformat": 4,
 "nbformat_minor": 5
}
