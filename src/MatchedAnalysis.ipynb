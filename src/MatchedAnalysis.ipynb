{
 "cells": [
  {
   "cell_type": "code",
   "execution_count": 1,
   "id": "2706277e-35fc-479e-8451-a4ff01c1b066",
   "metadata": {},
   "outputs": [],
   "source": [
    "import pandas as pd\n",
    "import numpy as np\n",
    "pd.options.display.max_colwidth = 100000\n",
    "import matplotlib.pyplot as plt\n",
    "\n",
    "df4 = pd.read_pickle(\"data/allData.pkl\")\n",
    "\n",
    "df = pd.read_csv('data/HumanAnnotatedMatches_SVO_DB_20200127_pipes_noquotes.csv', encoding='UTF-8', on_bad_lines='skip', engine=\"python\", delimiter='|' )"
   ]
  },
  {
   "cell_type": "code",
   "execution_count": 2,
   "id": "80e7975c-dee4-4c1e-9bae-88c943be46e6",
   "metadata": {},
   "outputs": [],
   "source": [
    "df4 = df4.merge(df , left_on='NOTAM_REC_ID', right_on='NOTAM_REC_ID', how='left')"
   ]
  },
  {
   "cell_type": "code",
   "execution_count": 19,
   "id": "178483d9-264e-4a67-ac2b-ec521a9875bf",
   "metadata": {},
   "outputs": [
    {
     "data": {
      "text/plain": [
       "7    230\n",
       "0    186\n",
       "2     11\n",
       "6      9\n",
       "3      6\n",
       "4      1\n",
       "Name: TOPIC, dtype: int64"
      ]
     },
     "execution_count": 19,
     "metadata": {},
     "output_type": "execute_result"
    }
   ],
   "source": [
    "df4[(~df4['LAUNCHES_REC_ID_y'].isna())]['TOPIC'].value_counts()"
   ]
  },
  {
   "cell_type": "code",
   "execution_count": 5,
   "id": "a0e0a51c-b5f2-4aa0-b9a8-287c8f591504",
   "metadata": {},
   "outputs": [
    {
     "data": {
      "text/plain": [
       "Text(0.5, 1.0, 'Number of Labelled NOTAMs by Topic')"
      ]
     },
     "execution_count": 5,
     "metadata": {},
     "output_type": "execute_result"
    },
    {
     "data": {
      "image/png": "[encoded data removed]",
      "text/plain": [
       "<Figure size 432x288 with 1 Axes>"
      ]
     },
     "metadata": {
      "needs_background": "light"
     },
     "output_type": "display_data"
    }
   ],
   "source": [
    "df4[~df4['LAUNCHES_REC_ID_y'].isna()]['CLASSIFICATION'].hist()\n",
    "plt.xlabel('Classification Type')\n",
    "plt.ylabel('Labelled NOTAMs Num.')\n",
    "plt.title('Number of Labelled NOTAMs by Topic')"
   ]
  },
  {
   "cell_type": "code",
   "execution_count": 4,
   "id": "5aaf9a30-d702-4fcf-af39-3eeaa220297c",
   "metadata": {},
   "outputs": [
    {
     "data": {
      "text/plain": [
       "array(['DOM', 'INTL', 'MIL', 'FDC', 'LMIL', nan], dtype=object)"
      ]
     },
     "execution_count": 4,
     "metadata": {},
     "output_type": "execute_result"
    }
   ],
   "source": [
    "df4['CLASSIFICATION'].unique()"
   ]
  },
  {
   "cell_type": "code",
   "execution_count": 29,
   "id": "d6114233-4a5e-4042-bc17-fca1f046e978",
   "metadata": {},
   "outputs": [
    {
     "data": {
      "text/plain": [
       "25030      flight level airspace kennedy space center flight level temporary flight restrictions kennedy space center space operations area pursuant to section of the code of federal regulations code of federal regulations flight operations conducted blowing spray (weather reports only) for an approach to certificated pilots or conducted inch aircraft of intensity unknown (weather reports only) south or southern latitude registry are prohibited at any altitude from the surface flight level within an area defined altostratus north or northern latitude west or western longitude to north or northern latitude west or western longitude thence clockwise by way of absolute (temperature) nautical mile area chart centered at north or northern latitude west or western longitude to north or northern latitude west or western longitude to north or northern latitude west or western longitude to north or northern latitude west or western longitude to north or northern latitude west or western longitude to north or northern latitude west or western longitude to north or northern latitude west or western longitude to north or northern latitude west or western longitude to north or northern latitude west or western longitude to north or northern latitude west or western longitude miami center telephone island the coordinating for an approach to facility and may be contacted for the current status of any airspace associated with launch operations this area encompasses restricted area (followed by identification) restricted area (followed by identification) restricted area (followed by identification) and portions of west or western longitude absolute (temperature) west or western longitude f west or western longitude f and west or western longitude gusts reaching (knots) (weather reports only) west or western longitude f and west or western longitude gusts reaching (knots) (weather reports only) are excluded when they are active additional warning and restricted areas will be active inch conjunction with the operations pilots shall consult all notams regarding this operation\n",
       "25031      flight level airspace kennedy space center flight level temporary flight restrictions kennedy space center space operations area pursuant to section of the code of federal regulations code of federal regulations flight operations conducted blowing spray (weather reports only) for an approach to certificated pilots or conducted inch aircraft of intensity unknown (weather reports only) south or southern latitude registry are prohibited at any altitude from the surface flight level within an area defined altostratus north or northern latitude west or western longitude to north or northern latitude west or western longitude thence clockwise by way of absolute (temperature) nautical mile area chart centered at north or northern latitude west or western longitude to north or northern latitude west or western longitude to north or northern latitude west or western longitude to north or northern latitude west or western longitude to north or northern latitude west or western longitude to north or northern latitude west or western longitude to north or northern latitude west or western longitude to north or northern latitude west or western longitude to north or northern latitude west or western longitude to north or northern latitude west or western longitude miami center telephone island the coordinating for an approach to facility and may be contacted for the current status of any airspace associated with launch operations this area encompasses restricted area (followed by identification) restricted area (followed by identification) restricted area (followed by identification) and portions of west or western longitude absolute (temperature) west or western longitude f west or western longitude f and west or western longitude gusts reaching (knots) (weather reports only) west or western longitude f and west or western longitude gusts reaching (knots) (weather reports only) are excluded when they are active additional warning and restricted areas will be active inch conjunction with the operations pilots shall consult all notams regarding this operation\n",
       "30089                                                              temporary flight restrictions kennedy space center space operations area pursuant to section of the code of federal regulations code of federal regulations flight operations conducted blowing spray (weather reports only) for an approach to certificated pilots or conducted inch aircraft of intensity unknown (weather reports only) south or southern latitude registry are prohibited at any altitude from the surface flight level within an area defined altostratus north or northern latitude west or western longitude to north or northern latitude west or western longitude thence clockwise by way of absolute (temperature) nautical mile area chart centered at north or northern latitude west or western longitude to north or northern latitude west or western longitude to north or northern latitude west or western longitude to north or northern latitude west or western longitude to north or northern latitude west or western longitude to north or northern latitude west or western longitude to north or northern latitude west or western longitude to north or northern latitude west or western longitude to north or northern latitude west or western longitude to north or northern latitude west or western longitude miami center telephone island the coordinating for an approach to facility and may be contacted for the current status of any airspace associated with launch operations this area encompasses restricted area (followed by identification) restricted area (followed by identification) restricted area (followed by identification) and portions of west or western longitude absolute (temperature) west or western longitude f west or western longitude f and west or western longitude gusts reaching (knots) (weather reports only) west or western longitude f and west or western longitude gusts reaching (knots) (weather reports only) are excluded when they are active additional warning and restricted areas will be active inch conjunction with the operations pilots shall consult all notams regarding this operation\n",
       "30091                            kennedy space center flight level temporary flight restrictions kennedy space center space operations area pursuant to section of the code of federal regulations code of federal regulations flight operations conducted blowing spray (weather reports only) for an approach to certificated pilots or conducted inch aircraft of intensity unknown (weather reports only) south or southern latitude registry are prohibited at any altitude from the surface flight level within an area defined altostratus north or northern latitude west or western longitude to north or northern latitude west or western longitude thence clockwise by way of absolute (temperature) nautical mile area chart centered at north or northern latitude west or western longitude to north or northern latitude west or western longitude to north or northern latitude west or western longitude to north or northern latitude west or western longitude to north or northern latitude west or western longitude to north or northern latitude west or western longitude to north or northern latitude west or western longitude to north or northern latitude west or western longitude to north or northern latitude west or western longitude to north or northern latitude west or western longitude miami center telephone island the coordinating for an approach to facility and may be contacted for the current status of any airspace associated with launch operations this area encompasses restricted area (followed by identification) restricted area (followed by identification) restricted area (followed by identification) and portions of west or western longitude absolute (temperature) west or western longitude f west or western longitude f and west or western longitude gusts reaching (knots) (weather reports only) west or western longitude f and west or western longitude gusts reaching (knots) (weather reports only) are excluded when they are active additional warning and restricted areas will be active inch conjunction with the operations pilots shall consult all notams regarding this operation\n",
       "63619                                                                                                                          flight level airspace kennedy space center flight level temporary flight restrictions kennedy space center space operations area pursuant to section of the code of federal regulations code of federal regulations flight operations conducted blowing spray (weather reports only) for an approach to certificated pilots or conducted inch aircraft of intensity unknown (weather reports only) south or southern latitude registry are prohibited at any altitude from the surface flight level within an area defined altostratus north or northern latitude west or western longitude to north or northern latitude west or western longitude thence clockwise by way of absolute (temperature) nautical mile area chart centered at north or northern latitude west or western longitude to north or northern latitude west or western longitude to north or northern latitude west or western longitude to north or northern latitude west or western longitude to north or northern latitude west or western longitude to north or northern latitude west or western longitude to north or northern latitude west or western longitude to north or northern latitude west or western longitude to north or northern latitude west or western longitude to north or northern latitude west or western longitude miami air route traffic control center phone island the for an approach to coordinating facility and may be contacted for the current status of any airspace associated with launch operations this area encompasses restricted area (followed by identification) restricted area (followed by identification) restricted area (followed by identification) and portions of west or western longitude absolute (temperature) west or western longitude f west or western longitude f and west or western longitude gusts reaching (knots) (weather reports only) additional warning and restricted areas will be active inch conjunction with the operations pilots shall consult all notams regarding this operation\n",
       "                                                                                                                                                                                                                                                                                                                                                                                                                                                                                                                                                                                                                                                                                                                                                                                                                                                                                                                                                                                                                                                                                         ...                                                                                                                                                                                                                                                                                                                                                                                                                                                                                                                                                                                                                                                                                                                                                                                                                                                                                                                                                                                                                                                                                \n",
       "1658078                                                                                                                                                                                                                                                                                                                                                                                                                                                                                                                                                                                                                                                                                                                                                                                                                                                                                                                                                                                                                                                                                                                                                                                                                                                                                                                                                                                                                                                                                                                                                                                                                                                                                                              airspace falcon crew stationary altitude reservation within an area defined altostratus north or northern latitude west or western longitude to north or northern latitude west or western longitude to north or northern latitude west or western longitude to north or northern latitude west or western longitude to north or northern latitude west or western longitude to north or northern latitude west or western longitude to point of origin\n",
       "1658079                                                                                                                                                                                                                                                                                                                                                                                                                                                                                                                                                                                                                                                                                                                                                                                                                                                                                                                                                                                                                                                                                                                                                                                                                                                                                                       airspace falcon crew stationary altitude reservation within an area defined altostratus north or northern latitude west or western longitude to north or northern latitude west or western longitude to north or northern latitude west or western longitude to north or northern latitude west or western longitude to north or northern latitude west or western longitude to north or northern latitude west or western longitude to point of origin and within an area defined altostratus north or northern latitude west or western longitude to north or northern latitude west or western longitude to north or northern latitude west or western longitude to north or northern latitude west or western longitude to north or northern latitude west or western longitude to north or northern latitude west or western longitude to point of origin\n",
       "1658080                                                                                                                                                                                                                                                                                                                                                                                                                                                                                                                                                                                                                                                                                                                                                                                                                                                                                                                                                                                                                                                                                                                                                                                                                                                                                                                                                                                                                                                                                                                                                                                                                                                                                                              airspace falcon crew stationary altitude reservation within an area defined altostratus north or northern latitude west or western longitude to north or northern latitude west or western longitude to north or northern latitude west or western longitude to north or northern latitude west or western longitude to north or northern latitude west or western longitude to north or northern latitude west or western longitude to point of origin\n",
       "1658083                                                                                                                                                                                                                                                                                                                                     temporary flight restriction pursuant to code of federal regulations section flight limitation inch the proximity of space flight operations operations blowing spray (weather reports only) for an approach to certificate pilots or intensity unknown (weather reports only) south or southern latitude registration aircraft are prohibited within an area bounded blowing spray (weather reports only) north or northern latitude west or western longitude omn to north or northern latitude west or western longitude omn then clockwise by way of absolute (temperature) nautical mile area chart centered at north or northern latitude west or western longitude omn to north or northern latitude west or western longitude omn to north or northern latitude west or western longitude omn to north or northern latitude west or western longitude omn to north or northern latitude west or western longitude omn to north or northern latitude west or western longitude omn to north or northern latitude west or western longitude omn to north or northern latitude west or western longitude omn to north or northern latitude west or western longitude omn to point of origin surface flight level miami zma air route traffic control center telephone island the for an approach to coordination facility this area encompasses restricted area (followed by identification) restricted area (followed by identification) restricted area (followed by identification) and portions of west or western longitude f west or western longitude gusts reaching (knots) (weather reports only) west or western longitude absolute (temperature) additional warning and restricted areas will be active pilots must consult all notams regarding this operations and may contact zma for current airspace status\n",
       "1658084                                                                                                                                                                                                                                                                                                                                     temporary flight restriction pursuant to code of federal regulations section flight limitation inch the proximity of space flight operations operations blowing spray (weather reports only) for an approach to certificate pilots or intensity unknown (weather reports only) south or southern latitude registration aircraft are prohibited within an area bounded blowing spray (weather reports only) north or northern latitude west or western longitude omn to north or northern latitude west or western longitude omn then clockwise by way of absolute (temperature) nautical mile area chart centered at north or northern latitude west or western longitude omn to north or northern latitude west or western longitude omn to north or northern latitude west or western longitude omn to north or northern latitude west or western longitude omn to north or northern latitude west or western longitude omn to north or northern latitude west or western longitude omn to north or northern latitude west or western longitude omn to north or northern latitude west or western longitude omn to north or northern latitude west or western longitude omn to point of origin surface flight level miami zma air route traffic control center telephone island the for an approach to coordination facility this area encompasses restricted area (followed by identification) restricted area (followed by identification) restricted area (followed by identification) and portions of west or western longitude f west or western longitude gusts reaching (knots) (weather reports only) west or western longitude absolute (temperature) additional warning and restricted areas will be active pilots must consult all notams regarding this operations and may contact zma for current airspace status\n",
       "Name: TEXT, Length: 240, dtype: object"
      ]
     },
     "execution_count": 29,
     "metadata": {},
     "output_type": "execute_result"
    }
   ],
   "source": [
    "df4[(~df4['LAUNCHES_REC_ID_y'].isna()) & (df4['TOPIC'] == 7)]['TEXT']"
   ]
  },
  {
   "cell_type": "code",
   "execution_count": 30,
   "id": "3cea2800-56f6-40cf-a3d8-b5797a434810",
   "metadata": {},
   "outputs": [
    {
     "data": {
      "text/plain": [
       "<AxesSubplot:>"
      ]
     },
     "execution_count": 30,
     "metadata": {},
     "output_type": "execute_result"
    },
    {
     "data": {
      "image/png": "[encoded data removed]",
      "text/plain": [
       "<Figure size 432x288 with 1 Axes>"
      ]
     },
     "metadata": {
      "needs_background": "light"
     },
     "output_type": "display_data"
    }
   ],
   "source": [
    "df4['TOPIC'].hist()"
   ]
  },
  {
   "cell_type": "code",
   "execution_count": 31,
   "id": "34169773-17a8-4b32-b91e-516ededaf145",
   "metadata": {},
   "outputs": [
    {
     "data": {
      "text/html": [
       "<div>\n",
       "<style scoped>\n",
       "    .dataframe tbody tr th:only-of-type {\n",
       "        vertical-align: middle;\n",
       "    }\n",
       "\n",
       "    .dataframe tbody tr th {\n",
       "        vertical-align: top;\n",
       "    }\n",
       "\n",
       "    .dataframe thead th {\n",
       "        text-align: right;\n",
       "    }\n",
       "</style>\n",
       "<table border=\"1\" class=\"dataframe\">\n",
       "  <thead>\n",
       "    <tr style=\"text-align: right;\">\n",
       "      <th></th>\n",
       "      <th>LAUNCHES_REC_ID</th>\n",
       "      <th>NOTAM_REC_ID</th>\n",
       "      <th>LowerAltitude</th>\n",
       "      <th>UpperAltitude</th>\n",
       "      <th>IssueTime</th>\n",
       "      <th>StartTime</th>\n",
       "      <th>StopTime</th>\n",
       "      <th>E_CODE,,,,,,,,,,,,,,,</th>\n",
       "    </tr>\n",
       "  </thead>\n",
       "  <tbody>\n",
       "    <tr>\n",
       "      <th>0</th>\n",
       "      <td>391</td>\n",
       "      <td>848687</td>\n",
       "      <td>0.0</td>\n",
       "      <td>50000.0</td>\n",
       "      <td>2018-04-01 11:24:00</td>\n",
       "      <td>2018-04-02 18:22:00</td>\n",
       "      <td>2018-04-02 21:08:00</td>\n",
       "      <td>WARNING AREA W497A ACT,,,,,,,,,,,,,,,</td>\n",
       "    </tr>\n",
       "    <tr>\n",
       "      <th>1</th>\n",
       "      <td>391</td>\n",
       "      <td>835580</td>\n",
       "      <td>0.0</td>\n",
       "      <td>180000.0</td>\n",
       "      <td>2018-03-28 09:47:00</td>\n",
       "      <td>2018-04-02 19:52:00</td>\n",
       "      <td>2018-04-02 21:08:00</td>\n",
       "      <td>FL..AIRSPACE CAPE CANAVERAL FL..TEMPORARY FLT  RESTRICTION. PURSUANT TO 14 CFR SECTION 91.143, FLT LIMITATION IN  THE PROXIMITY OF SPACE FLT OPS, OPS BY FAA CERT PILOTS OR U.S.REG ACFT ARE PROHIBITED WI AN AREA DEFINED AS 285116N0804219W (OMN141034.4) TO 290730N0803000W (OMN108033.9) THEN CLOCKWISE VIA A  30 NM ARC CENTERED AT 283703N0803647W (OMN147048.7) TO 281330N0801600W (OMN145078.4) TO 282501N0803029W (OMN149061.9) TO 282501N0803759W (OMN155058.8) TO 282501N0804144W (OMN157057.4) TO 283121N0804349W (OMN157050.9) TO 283801N0804701W (OMN157043.7) TO 284910N0805044W (OMN154032.2) TO 285116N0804714W (OMN148031.8) TO POINT OF ORIGIN. SFC-FL180. MIAMI / ZMA / ARTCC, PHONE 305-716-1589, IS THE FAA COORDINATION FACILITY. THIS AREA ENCOMPASSES R2932, R2933, R2934, AND PORTIONS OF W137F, W137G, W497A. ADDITIONAL WARNING AND RESTRICTED AREAS WILL BE ACT. PILOTS MUST CONSULT ALL NOTAMS REGARDING THIS OP AND MAY CONTACT ZMA FOR CURRENT AIRSPACE STATUS.,,,,,,</td>\n",
       "    </tr>\n",
       "    <tr>\n",
       "      <th>2</th>\n",
       "      <td>391</td>\n",
       "      <td>835582</td>\n",
       "      <td>0.0</td>\n",
       "      <td>180000.0</td>\n",
       "      <td>2018-03-28 09:48:00</td>\n",
       "      <td>2018-04-02 19:52:00</td>\n",
       "      <td>2018-04-02 21:08:00</td>\n",
       "      <td>FL..AIRSPACE CAPE CANAVERAL FL..TEMPORARY FLT  RESTRICTION. PURSUANT TO 14 CFR SECTION 91.143, FLT LIMITATION IN  THE PROXIMITY OF SPACE FLT OPS, OPS BY FAA CERT PILOTS OR U.S.REG ACFT ARE PROHIBITED WI AN AREA DEFINED AS 285116N0804219W (OMN141034.4) TO 290730N0803000W (OMN108033.9) THEN CLOCKWISE VIA A  30 NM ARC CENTERED AT 283703N0803647W (OMN147048.7) TO 281330N0801600W (OMN145078.4) TO 282501N0803029W (OMN149061.9) TO 282501N0803759W (OMN155058.8) TO 282501N0804144W (OMN157057.4) TO 283121N0804349W (OMN157050.9) TO 283801N0804701W (OMN157043.7) TO 284910N0805044W (OMN154032.2) TO 285116N0804714W (OMN148031.8) TO POINT OF ORIGIN. SFC-FL180. MIAMI / ZMA / ARTCC, PHONE 305-716-1589, IS THE FAA COORDINATION FACILITY. THIS AREA ENCOMPASSES R2932, R2933, R2934, AND PORTIONS OF W137F, W137G, W497A. ADDITIONAL WARNING AND RESTRICTED AREAS WILL BE ACT. PILOTS MUST CONSULT ALL NOTAMS REGARDING THIS OP AND MAY CONTACT ZMA FOR CURRENT AIRSPACE STATUS.,,,,,,</td>\n",
       "    </tr>\n",
       "    <tr>\n",
       "      <th>3</th>\n",
       "      <td>391</td>\n",
       "      <td>848685</td>\n",
       "      <td>0.0</td>\n",
       "      <td>180000.0</td>\n",
       "      <td>2018-03-28 09:48:00</td>\n",
       "      <td>2018-04-02 19:52:00</td>\n",
       "      <td>2018-04-02 21:08:00</td>\n",
       "      <td>CAPE CANAVERAL FL..TEMPORARY FLT  RESTRICTION. PURSUANT TO 14 CFR SECTION 91.143, FLT LIMITATION IN  THE PROXIMITY OF SPACE FLT OPS, OPS BY FAA CERT PILOTS OR U.S.REG ACFT ARE PROHIBITED WI AN AREA DEFINED AS 285116N0804219W (OMN141034.4) TO 290730N0803000W (OMN108033.9) THEN CLOCKWISE VIA A  30 NM ARC CENTERED AT 283703N0803647W (OMN147048.7) TO 281330N0801600W (OMN145078.4) TO 282501N0803029W (OMN149061.9) TO 282501N0803759W (OMN155058.8) TO 282501N0804144W (OMN157057.4) TO 283121N0804349W (OMN157050.9) TO 283801N0804701W (OMN157043.7) TO 284910N0805044W (OMN154032.2) TO 285116N0804714W (OMN148031.8) TO POINT OF ORIGIN. SFC-FL180. MIAMI / ZMA / ARTCC, PHONE 305-716-1589, IS THE FAA COORDINATION FACILITY. THIS AREA ENCOMPASSES R2932, R2933, R2934, AND PORTIONS OF W137F, W137G, W497A. ADDITIONAL WARNING AND RESTRICTED AREAS WILL BE ACT. PILOTS MUST CONSULT ALL NOTAMS REGARDING THIS OP AND MAY CONTACT ZMA FOR CURRENT AIRSPACE STATUS.,,,,,,</td>\n",
       "    </tr>\n",
       "    <tr>\n",
       "      <th>4</th>\n",
       "      <td>391</td>\n",
       "      <td>848684</td>\n",
       "      <td>0.0</td>\n",
       "      <td>180000.0</td>\n",
       "      <td>2018-03-28 09:50:00</td>\n",
       "      <td>2018-04-02 19:52:00</td>\n",
       "      <td>2018-04-02 21:08:00</td>\n",
       "      <td>TEMPORARY FLT RESTRICTION.  PURSUANT TO 14 CFR SECTION 91.143, FLT LIMITATION IN  THE PROXIMITY OF SPACE FLT OPS, OPS BY FAA CERT PILOTS OR U.S.REG ACFT ARE PROHIBITED WI AN AREA DEFINED AS 285116N0804219W (OMN141034.4) TO 290730N0803000W (OMN108033.9) THEN CLOCKWISE VIA A  30 NM ARC CENTERED AT 283703N0803647W (OMN147048.7) TO 281330N0801600W (OMN145078.4) TO 282501N0803029W (OMN149061.9) TO 282501N0803759W (OMN155058.8) TO 282501N0804144W (OMN157057.4) TO 283121N0804349W (OMN157050.9) TO 283801N0804701W (OMN157043.7) TO 284910N0805044W (OMN154032.2) TO 285116N0804714W (OMN148031.8) TO POINT OF ORIGIN. SFC-FL180. MIAMI / ZMA / ARTCC, PHONE 305-716-1589, IS THE FAA COORDINATION FACILITY. THIS AREA ENCOMPASSES R2932, R2933, R2934, AND PORTIONS OF W137F, W137G, W497A. ADDITIONAL WARNING AND RESTRICTED AREAS WILL BE ACT. PILOTS MUST CONSULT ALL NOTAMS REGARDING THIS OP AND MAY CONTACT ZMA FOR CURRENT AIRSPACE STATUS.,,,,,,</td>\n",
       "    </tr>\n",
       "    <tr>\n",
       "      <th>...</th>\n",
       "      <td>...</td>\n",
       "      <td>...</td>\n",
       "      <td>...</td>\n",
       "      <td>...</td>\n",
       "      <td>...</td>\n",
       "      <td>...</td>\n",
       "      <td>...</td>\n",
       "      <td>...</td>\n",
       "    </tr>\n",
       "    <tr>\n",
       "      <th>438</th>\n",
       "      <td>300</td>\n",
       "      <td>317605</td>\n",
       "      <td>50000.0</td>\n",
       "      <td>510000.0</td>\n",
       "      <td>2017-02-28 14:27:00</td>\n",
       "      <td>2017-03-01 16:30:00</td>\n",
       "      <td>2017-03-01 23:15:00</td>\n",
       "      <td>STNR ALT RESERVATION BASS WI AN AREA DEFINED AS  4517N12622W TO 4620N12446W TO 4620N12420W TO 4610N12420W TO  4454N12420W TO 4451N12421W TO 4438N12428W TO 4411N12530W TO  4404N12548W TO POINT OF ORIGIN,,,,,,,,,,,,,,,</td>\n",
       "    </tr>\n",
       "    <tr>\n",
       "      <th>439</th>\n",
       "      <td>300</td>\n",
       "      <td>329275</td>\n",
       "      <td>0.0</td>\n",
       "      <td>20000.0</td>\n",
       "      <td>2017-02-28 04:58:00</td>\n",
       "      <td>2017-03-01 16:30:00</td>\n",
       "      <td>2017-03-01 23:30:00</td>\n",
       "      <td>LGR58 (KOTRONI 2) AIP GREECE ENR 5.1-5 REF. PERIOD OF ACTIVITY EXTENDED DUE TO HEL FLIGHTS.,,,,,,,,,,,,,,,</td>\n",
       "    </tr>\n",
       "    <tr>\n",
       "      <th>440</th>\n",
       "      <td>300</td>\n",
       "      <td>329277</td>\n",
       "      <td>0.0</td>\n",
       "      <td>10000.0</td>\n",
       "      <td>2017-02-28 04:58:00</td>\n",
       "      <td>2017-03-01 16:30:00</td>\n",
       "      <td>2017-03-01 23:30:00</td>\n",
       "      <td>LGR58 (KOTRONI 1) AIP GREECE ENR 5.1-5 REF. PERIOD OF ACTIVITY EXTENDED DUE TO HEL FLIGHTS.,,,,,,,,,,,,,,,</td>\n",
       "    </tr>\n",
       "    <tr>\n",
       "      <th>441</th>\n",
       "      <td>300</td>\n",
       "      <td>329276</td>\n",
       "      <td>0.0</td>\n",
       "      <td>10000.0</td>\n",
       "      <td>2017-02-28 04:59:00</td>\n",
       "      <td>2017-03-01 16:30:00</td>\n",
       "      <td>2017-03-01 23:30:00</td>\n",
       "      <td>LGR59 (MANTILI) AIP GREECE ENR 5.1-5 REF. PERIOD OF ACTIVITY EXTENDED DUE TO HEL FLIGHTS.,,,,,,,,,,,,,,,</td>\n",
       "    </tr>\n",
       "    <tr>\n",
       "      <th>442</th>\n",
       "      <td>300</td>\n",
       "      <td>323210</td>\n",
       "      <td>0.0</td>\n",
       "      <td>999000.0</td>\n",
       "      <td>2017-03-01 08:31:00</td>\n",
       "      <td>2017-03-01 16:30:00</td>\n",
       "      <td>2017-06-06 23:00:00</td>\n",
       "      <td>VOR BDT 114.9MHZ U/S ,,,,,,,,,,,,,,,</td>\n",
       "    </tr>\n",
       "  </tbody>\n",
       "</table>\n",
       "<p>443 rows × 8 columns</p>\n",
       "</div>"
      ],
      "text/plain": [
       "     LAUNCHES_REC_ID  NOTAM_REC_ID  LowerAltitude  UpperAltitude  \\\n",
       "0                391        848687            0.0        50000.0   \n",
       "1                391        835580            0.0       180000.0   \n",
       "2                391        835582            0.0       180000.0   \n",
       "3                391        848685            0.0       180000.0   \n",
       "4                391        848684            0.0       180000.0   \n",
       "..               ...           ...            ...            ...   \n",
       "438              300        317605        50000.0       510000.0   \n",
       "439              300        329275            0.0        20000.0   \n",
       "440              300        329277            0.0        10000.0   \n",
       "441              300        329276            0.0        10000.0   \n",
       "442              300        323210            0.0       999000.0   \n",
       "\n",
       "               IssueTime            StartTime             StopTime  \\\n",
       "0    2018-04-01 11:24:00  2018-04-02 18:22:00  2018-04-02 21:08:00   \n",
       "1    2018-03-28 09:47:00  2018-04-02 19:52:00  2018-04-02 21:08:00   \n",
       "2    2018-03-28 09:48:00  2018-04-02 19:52:00  2018-04-02 21:08:00   \n",
       "3    2018-03-28 09:48:00  2018-04-02 19:52:00  2018-04-02 21:08:00   \n",
       "4    2018-03-28 09:50:00  2018-04-02 19:52:00  2018-04-02 21:08:00   \n",
       "..                   ...                  ...                  ...   \n",
       "438  2017-02-28 14:27:00  2017-03-01 16:30:00  2017-03-01 23:15:00   \n",
       "439  2017-02-28 04:58:00  2017-03-01 16:30:00  2017-03-01 23:30:00   \n",
       "440  2017-02-28 04:58:00  2017-03-01 16:30:00  2017-03-01 23:30:00   \n",
       "441  2017-02-28 04:59:00  2017-03-01 16:30:00  2017-03-01 23:30:00   \n",
       "442  2017-03-01 08:31:00  2017-03-01 16:30:00  2017-06-06 23:00:00   \n",
       "\n",
       "                                                                                                                                                                                                                                                                                                                                                                                                                                                                                                                                                                                                                                                                                                                                                                                                                                                                                                                                                                                     E_CODE,,,,,,,,,,,,,,,  \n",
       "0                                                                                                                                                                                                                                                                                                                                                                                                                                                                                                                                                                                                                                                                                                                                                                                                                                                                                                                                                                    WARNING AREA W497A ACT,,,,,,,,,,,,,,,  \n",
       "1    FL..AIRSPACE CAPE CANAVERAL FL..TEMPORARY FLT  RESTRICTION. PURSUANT TO 14 CFR SECTION 91.143, FLT LIMITATION IN  THE PROXIMITY OF SPACE FLT OPS, OPS BY FAA CERT PILOTS OR U.S.REG ACFT ARE PROHIBITED WI AN AREA DEFINED AS 285116N0804219W (OMN141034.4) TO 290730N0803000W (OMN108033.9) THEN CLOCKWISE VIA A  30 NM ARC CENTERED AT 283703N0803647W (OMN147048.7) TO 281330N0801600W (OMN145078.4) TO 282501N0803029W (OMN149061.9) TO 282501N0803759W (OMN155058.8) TO 282501N0804144W (OMN157057.4) TO 283121N0804349W (OMN157050.9) TO 283801N0804701W (OMN157043.7) TO 284910N0805044W (OMN154032.2) TO 285116N0804714W (OMN148031.8) TO POINT OF ORIGIN. SFC-FL180. MIAMI / ZMA / ARTCC, PHONE 305-716-1589, IS THE FAA COORDINATION FACILITY. THIS AREA ENCOMPASSES R2932, R2933, R2934, AND PORTIONS OF W137F, W137G, W497A. ADDITIONAL WARNING AND RESTRICTED AREAS WILL BE ACT. PILOTS MUST CONSULT ALL NOTAMS REGARDING THIS OP AND MAY CONTACT ZMA FOR CURRENT AIRSPACE STATUS.,,,,,,  \n",
       "2    FL..AIRSPACE CAPE CANAVERAL FL..TEMPORARY FLT  RESTRICTION. PURSUANT TO 14 CFR SECTION 91.143, FLT LIMITATION IN  THE PROXIMITY OF SPACE FLT OPS, OPS BY FAA CERT PILOTS OR U.S.REG ACFT ARE PROHIBITED WI AN AREA DEFINED AS 285116N0804219W (OMN141034.4) TO 290730N0803000W (OMN108033.9) THEN CLOCKWISE VIA A  30 NM ARC CENTERED AT 283703N0803647W (OMN147048.7) TO 281330N0801600W (OMN145078.4) TO 282501N0803029W (OMN149061.9) TO 282501N0803759W (OMN155058.8) TO 282501N0804144W (OMN157057.4) TO 283121N0804349W (OMN157050.9) TO 283801N0804701W (OMN157043.7) TO 284910N0805044W (OMN154032.2) TO 285116N0804714W (OMN148031.8) TO POINT OF ORIGIN. SFC-FL180. MIAMI / ZMA / ARTCC, PHONE 305-716-1589, IS THE FAA COORDINATION FACILITY. THIS AREA ENCOMPASSES R2932, R2933, R2934, AND PORTIONS OF W137F, W137G, W497A. ADDITIONAL WARNING AND RESTRICTED AREAS WILL BE ACT. PILOTS MUST CONSULT ALL NOTAMS REGARDING THIS OP AND MAY CONTACT ZMA FOR CURRENT AIRSPACE STATUS.,,,,,,  \n",
       "3                 CAPE CANAVERAL FL..TEMPORARY FLT  RESTRICTION. PURSUANT TO 14 CFR SECTION 91.143, FLT LIMITATION IN  THE PROXIMITY OF SPACE FLT OPS, OPS BY FAA CERT PILOTS OR U.S.REG ACFT ARE PROHIBITED WI AN AREA DEFINED AS 285116N0804219W (OMN141034.4) TO 290730N0803000W (OMN108033.9) THEN CLOCKWISE VIA A  30 NM ARC CENTERED AT 283703N0803647W (OMN147048.7) TO 281330N0801600W (OMN145078.4) TO 282501N0803029W (OMN149061.9) TO 282501N0803759W (OMN155058.8) TO 282501N0804144W (OMN157057.4) TO 283121N0804349W (OMN157050.9) TO 283801N0804701W (OMN157043.7) TO 284910N0805044W (OMN154032.2) TO 285116N0804714W (OMN148031.8) TO POINT OF ORIGIN. SFC-FL180. MIAMI / ZMA / ARTCC, PHONE 305-716-1589, IS THE FAA COORDINATION FACILITY. THIS AREA ENCOMPASSES R2932, R2933, R2934, AND PORTIONS OF W137F, W137G, W497A. ADDITIONAL WARNING AND RESTRICTED AREAS WILL BE ACT. PILOTS MUST CONSULT ALL NOTAMS REGARDING THIS OP AND MAY CONTACT ZMA FOR CURRENT AIRSPACE STATUS.,,,,,,  \n",
       "4                                    TEMPORARY FLT RESTRICTION.  PURSUANT TO 14 CFR SECTION 91.143, FLT LIMITATION IN  THE PROXIMITY OF SPACE FLT OPS, OPS BY FAA CERT PILOTS OR U.S.REG ACFT ARE PROHIBITED WI AN AREA DEFINED AS 285116N0804219W (OMN141034.4) TO 290730N0803000W (OMN108033.9) THEN CLOCKWISE VIA A  30 NM ARC CENTERED AT 283703N0803647W (OMN147048.7) TO 281330N0801600W (OMN145078.4) TO 282501N0803029W (OMN149061.9) TO 282501N0803759W (OMN155058.8) TO 282501N0804144W (OMN157057.4) TO 283121N0804349W (OMN157050.9) TO 283801N0804701W (OMN157043.7) TO 284910N0805044W (OMN154032.2) TO 285116N0804714W (OMN148031.8) TO POINT OF ORIGIN. SFC-FL180. MIAMI / ZMA / ARTCC, PHONE 305-716-1589, IS THE FAA COORDINATION FACILITY. THIS AREA ENCOMPASSES R2932, R2933, R2934, AND PORTIONS OF W137F, W137G, W497A. ADDITIONAL WARNING AND RESTRICTED AREAS WILL BE ACT. PILOTS MUST CONSULT ALL NOTAMS REGARDING THIS OP AND MAY CONTACT ZMA FOR CURRENT AIRSPACE STATUS.,,,,,,  \n",
       "..                                                                                                                                                                                                                                                                                                                                                                                                                                                                                                                                                                                                                                                                                                                                                                                                                                                                                                                                                                                                     ...  \n",
       "438                                                                                                                                                                                                                                                                                                                                                                                                                                                                                                                                                                                                                                                                                                                                                                               STNR ALT RESERVATION BASS WI AN AREA DEFINED AS  4517N12622W TO 4620N12446W TO 4620N12420W TO 4610N12420W TO  4454N12420W TO 4451N12421W TO 4438N12428W TO 4411N12530W TO  4404N12548W TO POINT OF ORIGIN,,,,,,,,,,,,,,,  \n",
       "439                                                                                                                                                                                                                                                                                                                                                                                                                                                                                                                                                                                                                                                                                                                                                                                                                                                                                             LGR58 (KOTRONI 2) AIP GREECE ENR 5.1-5 REF. PERIOD OF ACTIVITY EXTENDED DUE TO HEL FLIGHTS.,,,,,,,,,,,,,,,  \n",
       "440                                                                                                                                                                                                                                                                                                                                                                                                                                                                                                                                                                                                                                                                                                                                                                                                                                                                                             LGR58 (KOTRONI 1) AIP GREECE ENR 5.1-5 REF. PERIOD OF ACTIVITY EXTENDED DUE TO HEL FLIGHTS.,,,,,,,,,,,,,,,  \n",
       "441                                                                                                                                                                                                                                                                                                                                                                                                                                                                                                                                                                                                                                                                                                                                                                                                                                                                                               LGR59 (MANTILI) AIP GREECE ENR 5.1-5 REF. PERIOD OF ACTIVITY EXTENDED DUE TO HEL FLIGHTS.,,,,,,,,,,,,,,,  \n",
       "442                                                                                                                                                                                                                                                                                                                                                                                                                                                                                                                                                                                                                                                                                                                                                                                                                                                                                                                                                                   VOR BDT 114.9MHZ U/S ,,,,,,,,,,,,,,,  \n",
       "\n",
       "[443 rows x 8 columns]"
      ]
     },
     "execution_count": 31,
     "metadata": {},
     "output_type": "execute_result"
    }
   ],
   "source": [
    "df"
   ]
  },
  {
   "cell_type": "code",
   "execution_count": null,
   "id": "54e130ad-f10c-4b1d-8e90-565fe0656354",
   "metadata": {},
   "outputs": [],
   "source": []
  }
 ],
 "metadata": {
  "kernelspec": {
   "display_name": "Python 3 (ipykernel)",
   "language": "python",
   "name": "python3"
  },
  "language_info": {
   "codemirror_mode": {
    "name": "ipython",
    "version": 3
   },
   "file_extension": ".py",
   "mimetype": "text/x-python",
   "name": "python",
   "nbconvert_exporter": "python",
   "pygments_lexer": "ipython3",
   "version": "3.8.2"
  }
 },
 "nbformat": 4,
 "nbformat_minor": 5
}
