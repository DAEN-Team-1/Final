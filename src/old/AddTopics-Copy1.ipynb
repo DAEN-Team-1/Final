{
 "cells": [
  {
   "cell_type": "code",
   "execution_count": null,
   "id": "07443f6d-86d7-4246-b16e-a693f9e5aa1d",
   "metadata": {},
   "outputs": [],
   "source": [
    "from sklearn.feature_extraction.text import CountVectorizer\n",
    "from sklearn.feature_extraction.text import TfidfTransformer\n",
    "from sklearn.decomposition import LatentDirichletAllocation as LDA\n",
    "from nltk.corpus import stopwords\n",
    "import numpy as np\n",
    "import pandas as pd\n",
    "import csv\n",
    "import re"
   ]
  },
  {
   "cell_type": "code",
   "execution_count": null,
   "id": "a38638e7-5b70-497e-927d-d7a87c1f770b",
   "metadata": {},
   "outputs": [],
   "source": [
    "msg = 'NAV ILS RWY 27 LOC/GP OUT OF SERVICE'"
   ]
  },
  {
   "cell_type": "code",
   "execution_count": null,
   "id": "0b456dba-9c2d-4c12-927a-d05ea4bc20d0",
   "metadata": {},
   "outputs": [],
   "source": [
    "abbrev_dict = {}\n",
    "\n",
    "with open('data/Contractions (Clean).csv', mode='r') as infile:\n",
    "    reader = csv.reader(infile)\n",
    "    next(reader)\n",
    "    abbrev_dict = {rows[0]:rows[1] for rows in reader}\n",
    "    \n",
    "def expandNotam(msg):\n",
    "    new_string = re.sub(r'[^a-zA-Z]',' ',str(msg))\n",
    "    new_msg = ''\n",
    "    for wrd in new_string.split():        \n",
    "        try:\n",
    "            new_msg = new_msg + ' ' + abbrev_dict[wrd]\n",
    "        except:\n",
    "            new_msg = new_msg + ' ' + wrd\n",
    "    return new_msg.lower().strip()"
   ]
  },
  {
   "cell_type": "code",
   "execution_count": null,
   "id": "e59bccb1-7911-45d5-b1ef-f20f81c66b5d",
   "metadata": {},
   "outputs": [],
   "source": [
    "expandNotam(msg)"
   ]
  },
  {
   "cell_type": "code",
   "execution_count": null,
   "id": "57d29838-4507-441e-a729-a372b5865494",
   "metadata": {},
   "outputs": [],
   "source": [
    "df4 = pd.read_csv('data/notam_20201027_pipes_noquotes.csv', \n",
    "                  on_bad_lines='skip', \n",
    "                  encoding='utf-16', \n",
    "                  parse_dates=['POSSIBLE_START_DATE', 'POSSIBLE_END_DATE', 'ISSUE_DATE', 'CANCELED_DATE'],\n",
    "                  quoting=csv.QUOTE_NONE, \n",
    "                  engine=\"python\", \n",
    "                  delimiter=\"|\")\n",
    "\n",
    "df4['MIN_ALT'] = df4['MIN_ALT'].replace('MSL', 0)\n",
    "df4['MAX_ALT'] = df4['MAX_ALT'].replace('MSL', 0)\n",
    "df4['MIN_ALT'] = pd.to_numeric(df4['MIN_ALT'], errors='coerce')\n",
    "df4['MAX_ALT'] = pd.to_numeric(df4['MAX_ALT'], errors='coerce')"
   ]
  },
  {
   "cell_type": "code",
   "execution_count": null,
   "id": "499a8f98-d256-49d8-921d-a4689982b9fe",
   "metadata": {},
   "outputs": [],
   "source": [
    "for x in df4['TEXT'].head(20):\n",
    "    print(x)"
   ]
  },
  {
   "cell_type": "code",
   "execution_count": null,
   "id": "0bae1197-8b23-455e-8f88-8caaeef4e66a",
   "metadata": {},
   "outputs": [],
   "source": [
    "df4['TEXT'] = df4['TEXT'].apply(expandNotam)"
   ]
  },
  {
   "cell_type": "code",
   "execution_count": null,
   "id": "b0423e44-2b70-4af1-83fa-c4b59a4629d1",
   "metadata": {},
   "outputs": [],
   "source": [
    "for x in df4['TEXT'].head(20):\n",
    "    print(x)"
   ]
  },
  {
   "cell_type": "code",
   "execution_count": null,
   "id": "dd68c8ad-ca34-4399-a6b9-99d0c87f28d5",
   "metadata": {},
   "outputs": [],
   "source": [
    "corpus = df4['TEXT'].values\n",
    "\n",
    "count_vect = CountVectorizer(stop_words=stopwords.words('english'), lowercase=True)\n",
    "x_counts = count_vect.fit_transform(corpus)\n",
    "x_counts.todense()"
   ]
  },
  {
   "cell_type": "code",
   "execution_count": null,
   "id": "93065dd5-9078-42ee-8ef9-319b86c45248",
   "metadata": {},
   "outputs": [],
   "source": [
    "tfidf_transformer = TfidfTransformer()\n",
    "x_tfidf = tfidf_transformer.fit_transform(x_counts)"
   ]
  },
  {
   "cell_type": "code",
   "execution_count": null,
   "id": "d24a3fa5-f170-4a08-aa91-28e4996dbe08",
   "metadata": {},
   "outputs": [],
   "source": [
    "dimension = 8\n",
    "sample_size = 100000\n",
    "\n",
    "np.random.seed(232323)\n",
    "sample = x_tfidf[np.random.choice(x_tfidf.shape[0], sample_size, replace=False), :]\n",
    "\n",
    "lda = LDA(n_components = dimension)\n",
    "lda_array = lda.fit_transform(sample)"
   ]
  },
  {
   "cell_type": "code",
   "execution_count": null,
   "id": "2e2c738a-3cac-44b6-86a1-8bc9743a1035",
   "metadata": {},
   "outputs": [],
   "source": [
    "topic_vec = lda.transform(x_tfidf)\n",
    "\n",
    "df4['TOPIC'] = np.argmax(topic_vec, axis = 1)"
   ]
  },
  {
   "cell_type": "code",
   "execution_count": null,
   "id": "cb838e5d-b528-4f78-800a-73f10200eafd",
   "metadata": {},
   "outputs": [],
   "source": [
    "import pickle\n",
    "\n",
    "df4.to_pickle(\"data/allData.pkl\")"
   ]
  },
  {
   "cell_type": "code",
   "execution_count": null,
   "id": "67d16bd6-dabf-4cd8-bb6b-6374dddd70f9",
   "metadata": {},
   "outputs": [],
   "source": [
    "import pyLDAvis\n",
    "import pyLDAvis.sklearn\n",
    "import warnings\n",
    "\n",
    "warnings.filterwarnings('ignore')\n",
    "pyLDAvis.enable_notebook()"
   ]
  },
  {
   "cell_type": "code",
   "execution_count": null,
   "id": "047dd334-5ce6-4850-b2e8-189c6a63bc11",
   "metadata": {},
   "outputs": [],
   "source": [
    "pyLDAvis.sklearn.prepare(lda, x_tfidf, count_vect)"
   ]
  },
  {
   "cell_type": "code",
   "execution_count": null,
   "id": "5a2b7c8c-8037-44f5-a999-be585a493d86",
   "metadata": {},
   "outputs": [],
   "source": [
    "pyLDAvis.sklearn.prepare(lda, x_tfidf, count_vect, mds='mmds')"
   ]
  },
  {
   "cell_type": "code",
   "execution_count": null,
   "id": "59756536-eefd-4537-8994-8a3a163ec140",
   "metadata": {},
   "outputs": [],
   "source": [
    "pyLDAvis.sklearn.prepare(lda, x_tfidf, count_vect, mds='tsne')"
   ]
  }
 ],
 "metadata": {
  "kernelspec": {
   "display_name": "Python 3 (ipykernel)",
   "language": "python",
   "name": "python3"
  },
  "language_info": {
   "codemirror_mode": {
    "name": "ipython",
    "version": 3
   },
   "file_extension": ".py",
   "mimetype": "text/x-python",
   "name": "python",
   "nbconvert_exporter": "python",
   "pygments_lexer": "ipython3",
   "version": "3.8.2"
  }
 },
 "nbformat": 4,
 "nbformat_minor": 5
}
