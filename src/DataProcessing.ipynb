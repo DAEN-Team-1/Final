{
 "cells": [
  {
   "cell_type": "code",
   "execution_count": 1,
   "id": "4d09b6e2-3b23-4bd9-987e-9a362d001e62",
   "metadata": {},
   "outputs": [],
   "source": [
    "import pandas as pd\n",
    "import csv\n",
    "import re\n",
    "import pickle"
   ]
  },
  {
   "cell_type": "code",
   "execution_count": 2,
   "id": "ae49c029-7d96-4f59-82ad-e7422f5a7b65",
   "metadata": {},
   "outputs": [],
   "source": [
    "abbrev_dict = {}\n",
    "\n",
    "with open('data/Contractions (Clean).csv', mode='r', encoding='utf-8') as infile:\n",
    "    reader = csv.reader(infile)\n",
    "    next(reader)\n",
    "    abbrev_dict = {rows[0]:rows[1] for rows in reader}\n",
    "    \n",
    "def expandNotam(msg):\n",
    "    new_string = re.sub(r'[^a-zA-Z]',' ',str(msg))\n",
    "    new_msg = ''\n",
    "    for wrd in new_string.split():        \n",
    "        try:\n",
    "            new_msg = new_msg + ' ' + abbrev_dict[wrd]\n",
    "        except:\n",
    "            new_msg = new_msg + ' ' + wrd\n",
    "    return new_msg.lower().strip()"
   ]
  },
  {
   "cell_type": "code",
   "execution_count": 3,
   "id": "f7a5aed3-b1db-4450-b1ae-2db8819f577f",
   "metadata": {},
   "outputs": [],
   "source": [
    "# Read NOTAM Data\n",
    "df4 = pd.read_csv('data/notam_20201027_pipes_noquotes.csv', \n",
    "                  on_bad_lines='skip', \n",
    "                  encoding='utf-16', \n",
    "                  parse_dates=['POSSIBLE_START_DATE', 'POSSIBLE_END_DATE', 'ISSUE_DATE', 'CANCELED_DATE'],\n",
    "                  quoting=csv.QUOTE_NONE, \n",
    "                  engine=\"python\", \n",
    "                  delimiter=\"|\")\n",
    "\n",
    "# Make MIN_ALT and MAX_ALT numeric\n",
    "df4['MIN_ALT'] = df4['MIN_ALT'].replace('MSL', 0)\n",
    "df4['MAX_ALT'] = df4['MAX_ALT'].replace('MSL', 0)\n",
    "df4['MIN_ALT'] = pd.to_numeric(df4['MIN_ALT'], errors='coerce')\n",
    "df4['MAX_ALT'] = pd.to_numeric(df4['MAX_ALT'], errors='coerce')\n",
    "\n",
    "# Make POSSIBLE_START_DATE, POSSIBLE_END_DATE, ISSUE_DATE, and CANCELED_DATE datetime format\n",
    "df4['POSSIBLE_START_DATE'] = pd.to_datetime(df4['POSSIBLE_START_DATE'], errors = 'coerce', format = '%Y/%m/%d %H:%M:%S')\n",
    "df4['POSSIBLE_END_DATE'] = pd.to_datetime(df4['POSSIBLE_END_DATE'], errors = 'coerce', format = '%Y/%m/%d %H:%M:%S')\n",
    "df4['ISSUE_DATE'] = pd.to_datetime(df4['ISSUE_DATE'], errors = 'coerce', format = '%Y/%m/%d %H:%M:%S')\n",
    "df4['CANCELED_DATE'] = pd.to_datetime(df4['CANCELED_DATE'], errors = 'coerce', format = '%Y/%m/%d %H:%M:%S')\n",
    "\n",
    "# Replace missing POSSIBLE_START_DATE with CANCELED_DATE and vise versa\n",
    "df4.loc[df4['CANCELED_DATE'].isna(), 'CANCELED_DATE'] = df4.loc[df4['CANCELED_DATE'].isna(), 'POSSIBLE_END_DATE']\n",
    "df4.loc[df4['POSSIBLE_END_DATE'].isna(), 'POSSIBLE_END_DATE'] = df4.loc[df4['POSSIBLE_END_DATE'].isna(), 'CANCELED_DATE']\n",
    "\n",
    "# Get mode of all NOTAM durations\n",
    "est_days = (df4['POSSIBLE_END_DATE'] - df4['POSSIBLE_START_DATE']).mode()\n",
    "\n",
    "# Fix remaining missing values of CANCELED_DATE and POSSIBLE_END_DATE by adding the mode to the POSSIBLE_START_DATE\n",
    "df4.loc[df4['CANCELED_DATE'].isna(), 'CANCELED_DATE'] = df4.loc[df4['CANCELED_DATE'].isna(), 'POSSIBLE_START_DATE'] + pd.to_timedelta(est_days.dt.days[0], unit='D')\n",
    "df4.loc[df4['POSSIBLE_END_DATE'].isna(), 'POSSIBLE_END_DATE'] = df4.loc[df4['POSSIBLE_END_DATE'].isna(), 'POSSIBLE_START_DATE'] + pd.to_timedelta(est_days.dt.days[0], unit='D')\n",
    "\n",
    "# Drop NOTAMs without POSSIBLE_END_DATE and POSSIBLE_START_DATE\n",
    "df4 = df4.dropna( how='all', subset=['POSSIBLE_END_DATE', 'POSSIBLE_START_DATE'])\n",
    "\n",
    "# Process Msg Text\n",
    "df4['TEXT'] = df4['TEXT'].apply(expandNotam)"
   ]
  },
  {
   "cell_type": "code",
   "execution_count": 4,
   "id": "5a60586a-167d-4a59-a8b3-b35d27afae0c",
   "metadata": {},
   "outputs": [
    {
     "data": {
      "text/plain": [
       "NOTAM_REC_ID                    0\n",
       "FNS_ID                          0\n",
       "FILENAME                        0\n",
       "NOTAM_ID                       26\n",
       "NOTAM_TYPE                 221168\n",
       "RELATED_NOTAM_ID          1281589\n",
       "SIMPLE_TEXT                821736\n",
       "LOC_ID_ACCOUNTABLE_ORG     864049\n",
       "NOTAM_NUMBER               867227\n",
       "RELATED_NOTAM_NUMBER      1524160\n",
       "TEXT                            0\n",
       "Q_CODE                     639786\n",
       "Q_CODE_INTERPRETATION      909240\n",
       "A_CODE                     508084\n",
       "B_CODE                     666838\n",
       "C_CODE                     820329\n",
       "D_CODE                    1480096\n",
       "E_CODE                        445\n",
       "F_CODE                     629754\n",
       "G_CODE                     629952\n",
       "CLASSIFICATION                 31\n",
       "POSSIBLE_NOTAM_ID              26\n",
       "MIN_ALT                    461512\n",
       "MAX_ALT                    514142\n",
       "MIN_ALT_REF_TYPE           597577\n",
       "MAX_ALT_REF_TYPE           665715\n",
       "POSSIBLE_START_DATE             0\n",
       "POSSIBLE_END_DATE               0\n",
       "ISSUE_DATE                     26\n",
       "CANCELED_DATE                   0\n",
       "AFFECTED_FIR               642831\n",
       "DESIGNATOR                1250192\n",
       "DESIGNATOR_NAME           1285477\n",
       "LOCATION_NAME               20317\n",
       "ACCOUNT_ID                     32\n",
       "LOCATION_CODE                  26\n",
       "LAUNCHES_REC_ID           1649753\n",
       "dtype: int64"
      ]
     },
     "execution_count": 4,
     "metadata": {},
     "output_type": "execute_result"
    }
   ],
   "source": [
    "# Check missing values\n",
    "df4.isna().sum()"
   ]
  },
  {
   "cell_type": "code",
   "execution_count": 5,
   "id": "b5b8204f-4ee9-4e83-960b-9a1db9017a27",
   "metadata": {},
   "outputs": [],
   "source": [
    "df4.to_pickle(\"data/allData.pkl\")"
   ]
  }
 ],
 "metadata": {
  "kernelspec": {
   "display_name": "Python 3 (ipykernel)",
   "language": "python",
   "name": "python3"
  },
  "language_info": {
   "codemirror_mode": {
    "name": "ipython",
    "version": 3
   },
   "file_extension": ".py",
   "mimetype": "text/x-python",
   "name": "python",
   "nbconvert_exporter": "python",
   "pygments_lexer": "ipython3",
   "version": "3.8.2"
  }
 },
 "nbformat": 4,
 "nbformat_minor": 5
}
