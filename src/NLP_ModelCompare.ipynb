{
 "cells": [
  {
   "cell_type": "markdown",
   "id": "ac2a988d-841c-427b-89b6-61570e1d22e1",
   "metadata": {},
   "source": [
    "## Imports"
   ]
  },
  {
   "cell_type": "code",
   "execution_count": 1,
   "id": "698728e3-8b99-4191-b4c0-ea562a78182a",
   "metadata": {},
   "outputs": [],
   "source": [
    "import numpy as np\n",
    "import pickle\n",
    "import pandas as pd\n",
    "import seaborn as sns\n",
    "\n",
    "from sklearn import preprocessing\n",
    "from sklearn.feature_extraction.text import TfidfVectorizer\n",
    "from sklearn.model_selection import StratifiedShuffleSplit\n",
    "from sklearn.metrics import roc_curve, roc_auc_score, accuracy_score\n",
    "from scipy.sparse import hstack, vstack\n",
    "from xgboost import XGBClassifier\n",
    "from sklearn import svm\n",
    "from sklearn.linear_model import LogisticRegression\n",
    "from matplotlib import pyplot"
   ]
  },
  {
   "cell_type": "markdown",
   "id": "96ac448f-281e-4000-8380-f22bb39ec6f8",
   "metadata": {},
   "source": [
    "## Plot Helper Function"
   ]
  },
  {
   "cell_type": "code",
   "execution_count": 2,
   "id": "d44ecde6-17c7-4980-9c06-e64066ef70a8",
   "metadata": {},
   "outputs": [],
   "source": [
    "def plotROC(model, X_test, y_test, labelA, labelB):\n",
    "    ns_probs = [0 for _ in range(len(y_test))]\n",
    "    \n",
    "    # predict probabilities\n",
    "    lr_probs = model.predict_proba(X_test)\n",
    "    \n",
    "    # keep probabilities for the positive outcome only\n",
    "    lr_probs = lr_probs[:, 1]\n",
    "    \n",
    "    # calculate scores\n",
    "    ns_auc = roc_auc_score(y_test, ns_probs)\n",
    "    lr_auc = roc_auc_score(y_test, lr_probs)\n",
    "    \n",
    "    # summarize scores\n",
    "    print('No Skill: ROC AUC=%.3f' % (ns_auc))\n",
    "    print('Logistic: ROC AUC=%.3f' % (lr_auc))\n",
    "    \n",
    "    # calculate roc curves\n",
    "    ns_fpr, ns_tpr, _ = roc_curve(y_test, ns_probs)\n",
    "    lr_fpr, lr_tpr, _ = roc_curve(y_test, lr_probs)\n",
    "    \n",
    "    # plot the roc curve for the model\n",
    "    pyplot.plot(ns_fpr, ns_tpr, linestyle='--', label='No Skill')\n",
    "    pyplot.plot(lr_fpr, lr_tpr, marker='.', label='Logistic')\n",
    "    \n",
    "    # axis labels\n",
    "    pyplot.title('ROC Curve - ' + labelA + ', ' + labelB)\n",
    "    pyplot.xlabel('False Positive Rate')\n",
    "    pyplot.ylabel('True Positive Rate')\n",
    "    \n",
    "    # show the legend\n",
    "    pyplot.legend()\n",
    "    \n",
    "    # show the plot\n",
    "    pyplot.show()"
   ]
  },
  {
   "cell_type": "markdown",
   "id": "66bb1fa5-8d98-41db-aab1-904e80ab3fbb",
   "metadata": {},
   "source": [
    "## Load and Process Data"
   ]
  },
  {
   "cell_type": "markdown",
   "id": "d8341778-170c-473c-a359-3c093ebb8ccd",
   "metadata": {},
   "source": [
    "### FAA Labelled Data"
   ]
  },
  {
   "cell_type": "code",
   "execution_count": 3,
   "id": "e49bd991-46d0-47b4-adee-5387f7e1a345",
   "metadata": {},
   "outputs": [],
   "source": [
    "# Load Matched Data (Positive)\n",
    "matches = pd.read_csv('data/HumanAnnotatedMatches_SVO_DB_20200127_pipes_noquotes.csv', encoding='UTF-8', on_bad_lines='skip', engine=\"python\", delimiter='|' )\n",
    "good_ids_og = matches['NOTAM_REC_ID']\n",
    "\n",
    "# Load Matched Data (Negative)\n",
    "non_matches = pd.read_csv('data/HumanAnnotatedMatches_poormatches_SVO_DB_20201027.csv', encoding='windows-1252')\n",
    "bad_ids_og = non_matches['NOTAM_REC_ID']\n",
    "\n",
    "# Load All Data\n",
    "all_notams = pd.read_pickle(\"data/allData.pkl\")"
   ]
  },
  {
   "cell_type": "markdown",
   "id": "1f3c2e81-ee04-4aa0-a4e0-bfc9809357d0",
   "metadata": {},
   "source": [
    "### Handmade Labelled Data"
   ]
  },
  {
   "cell_type": "code",
   "execution_count": 4,
   "id": "919bf72b-7c0b-498a-b24b-e500ec45fbdf",
   "metadata": {},
   "outputs": [],
   "source": [
    "good_ids = np.ravel(pd.read_csv('data/handmade_good_matches.csv', header=None))\n",
    "bad_ids = np.ravel(pd.read_csv('data/handmade_bad_matches.csv', header=None))"
   ]
  },
  {
   "cell_type": "markdown",
   "id": "51da511a-3c6a-458a-8699-fc0ea001e62d",
   "metadata": {},
   "source": [
    "### Subsample Poor Matches"
   ]
  },
  {
   "cell_type": "code",
   "execution_count": 5,
   "id": "3b171e23-a763-46e6-a88b-fbf9893851b4",
   "metadata": {},
   "outputs": [],
   "source": [
    "sub_bad_ids = np.random.choice(bad_ids, 8 * len(good_ids))"
   ]
  },
  {
   "cell_type": "markdown",
   "id": "2050ea48-26bb-40c5-a107-735c1f4043bd",
   "metadata": {},
   "source": [
    "### Encode Categorical Variables"
   ]
  },
  {
   "cell_type": "code",
   "execution_count": 6,
   "id": "6ddf3a70-d08e-463a-b843-682f0e113923",
   "metadata": {},
   "outputs": [],
   "source": [
    "# Initialize Label Encoders\n",
    "le = preprocessing.LabelEncoder()\n",
    "le2 = preprocessing.LabelEncoder()\n",
    "le3 = preprocessing.LabelEncoder()\n",
    "\n",
    "# Type Encoder\n",
    "all_notams['NOTAM_TYPE_ENCODE'] = le.fit_transform(all_notams['NOTAM_TYPE'])\n",
    "\n",
    "# Classification Encoder\n",
    "all_notams['CLASSIFICATION_ENCODE'] = le2.fit_transform(all_notams['CLASSIFICATION'])\n",
    "\n",
    "# Location Code\n",
    "all_notams['LOCATION_CODE_ENCODE'] = le3.fit_transform(all_notams['LOCATION_CODE'])"
   ]
  },
  {
   "cell_type": "code",
   "execution_count": 7,
   "id": "a0e1f8d5-d1f1-4d1b-af36-8d3397c67c91",
   "metadata": {},
   "outputs": [],
   "source": [
    "# Set Features\n",
    "features = ['NOTAM_TYPE_ENCODE', 'TEXT', 'CLASSIFICATION_ENCODE', 'MIN_ALT', 'MAX_ALT', 'LOCATION_CODE_ENCODE']"
   ]
  },
  {
   "cell_type": "code",
   "execution_count": 8,
   "id": "4f232e42-b4c8-4136-b435-c7b5d7684733",
   "metadata": {},
   "outputs": [],
   "source": [
    "# Get Positive NOTAM Data\n",
    "good_notams = all_notams[all_notams['NOTAM_REC_ID'].isin(good_ids)][features]\n",
    "\n",
    "# Get Negaitve NOTAM Data\n",
    "bad_notams = all_notams[all_notams['NOTAM_REC_ID'].isin(sub_bad_ids)][features]\n",
    "\n",
    "# Get Positive NOTAM Data\n",
    "good_notams_og = all_notams[all_notams['NOTAM_REC_ID'].isin(good_ids_og)][features]\n",
    "\n",
    "# Get Negaitve NOTAM Data\n",
    "bad_notams_og = all_notams[all_notams['NOTAM_REC_ID'].isin(bad_ids_og)][features]"
   ]
  },
  {
   "cell_type": "markdown",
   "id": "90adb6dd-d07e-4f19-ba94-b7bbf658dfa5",
   "metadata": {},
   "source": [
    "### Encode NOTAM Message"
   ]
  },
  {
   "cell_type": "code",
   "execution_count": 9,
   "id": "fbc7730d-10f9-4d28-9f71-710d59e72173",
   "metadata": {},
   "outputs": [],
   "source": [
    "# Message Embedding\n",
    "tfidf = TfidfVectorizer(sublinear_tf=True, min_df=5, norm='l2', encoding='latin-1', ngram_range=(1, 2), stop_words='english', max_features=10000)\n",
    "\n",
    "# Fit and Transform All Data\n",
    "all_encodes = tfidf.fit_transform(all_notams['TEXT'])\n",
    "\n",
    "# Transform Positive Data\n",
    "good_encodes = tfidf.transform(good_notams['TEXT'])\n",
    "\n",
    "# Transform Negative Data\n",
    "bad_encodes = tfidf.transform(bad_notams['TEXT'])\n",
    "\n",
    "# Transform Positive Data\n",
    "good_encodes_og = tfidf.transform(good_notams_og['TEXT'])\n",
    "\n",
    "# Transform Negative Data\n",
    "bad_encodes_og = tfidf.transform(bad_notams_og['TEXT'])"
   ]
  },
  {
   "cell_type": "code",
   "execution_count": 10,
   "id": "610aa45b-1289-42b5-8d15-122cef5d2019",
   "metadata": {
    "tags": []
   },
   "outputs": [
    {
     "data": {
      "text/plain": [
       "Index(['NOTAM_TYPE_ENCODE', 'TEXT', 'CLASSIFICATION_ENCODE', 'MIN_ALT',\n",
       "       'MAX_ALT', 'LOCATION_CODE_ENCODE'],\n",
       "      dtype='object')"
      ]
     },
     "execution_count": 10,
     "metadata": {},
     "output_type": "execute_result"
    }
   ],
   "source": [
    "# Check Cols\n",
    "bad_notams.columns"
   ]
  },
  {
   "cell_type": "code",
   "execution_count": 11,
   "id": "dea1dbb7-7787-4cfb-bb64-3b9b4d445853",
   "metadata": {},
   "outputs": [
    {
     "data": {
      "text/html": [
       "<div>\n",
       "<style scoped>\n",
       "    .dataframe tbody tr th:only-of-type {\n",
       "        vertical-align: middle;\n",
       "    }\n",
       "\n",
       "    .dataframe tbody tr th {\n",
       "        vertical-align: top;\n",
       "    }\n",
       "\n",
       "    .dataframe thead th {\n",
       "        text-align: right;\n",
       "    }\n",
       "</style>\n",
       "<table border=\"1\" class=\"dataframe\">\n",
       "  <thead>\n",
       "    <tr style=\"text-align: right;\">\n",
       "      <th></th>\n",
       "      <th>NOTAM_TYPE_ENCODE</th>\n",
       "      <th>TEXT</th>\n",
       "      <th>CLASSIFICATION_ENCODE</th>\n",
       "      <th>MIN_ALT</th>\n",
       "      <th>MAX_ALT</th>\n",
       "      <th>LOCATION_CODE_ENCODE</th>\n",
       "    </tr>\n",
       "  </thead>\n",
       "  <tbody>\n",
       "    <tr>\n",
       "      <th>31</th>\n",
       "      <td>1</td>\n",
       "      <td>runway island wet</td>\n",
       "      <td>4</td>\n",
       "      <td>0.0</td>\n",
       "      <td>999.0</td>\n",
       "      <td>4163</td>\n",
       "    </tr>\n",
       "    <tr>\n",
       "      <th>43</th>\n",
       "      <td>2</td>\n",
       "      <td>navigation instrument landing system runway gl...</td>\n",
       "      <td>0</td>\n",
       "      <td>0.0</td>\n",
       "      <td>999.0</td>\n",
       "      <td>6306</td>\n",
       "    </tr>\n",
       "    <tr>\n",
       "      <th>149</th>\n",
       "      <td>1</td>\n",
       "      <td>navigation vor and tacan (collocated) out of s...</td>\n",
       "      <td>0</td>\n",
       "      <td>0.0</td>\n",
       "      <td>999.0</td>\n",
       "      <td>4897</td>\n",
       "    </tr>\n",
       "    <tr>\n",
       "      <th>179</th>\n",
       "      <td>1</td>\n",
       "      <td>iap yampa valley hayden county instrument land...</td>\n",
       "      <td>1</td>\n",
       "      <td>0.0</td>\n",
       "      <td>999.0</td>\n",
       "      <td>7062</td>\n",
       "    </tr>\n",
       "    <tr>\n",
       "      <th>369</th>\n",
       "      <td>1</td>\n",
       "      <td>rate of climb distance measuring equipment int...</td>\n",
       "      <td>2</td>\n",
       "      <td>0.0</td>\n",
       "      <td>999.0</td>\n",
       "      <td>11691</td>\n",
       "    </tr>\n",
       "  </tbody>\n",
       "</table>\n",
       "</div>"
      ],
      "text/plain": [
       "     NOTAM_TYPE_ENCODE                                               TEXT  \\\n",
       "31                   1                                  runway island wet   \n",
       "43                   2  navigation instrument landing system runway gl...   \n",
       "149                  1  navigation vor and tacan (collocated) out of s...   \n",
       "179                  1  iap yampa valley hayden county instrument land...   \n",
       "369                  1  rate of climb distance measuring equipment int...   \n",
       "\n",
       "     CLASSIFICATION_ENCODE  MIN_ALT  MAX_ALT  LOCATION_CODE_ENCODE  \n",
       "31                       4      0.0    999.0                  4163  \n",
       "43                       0      0.0    999.0                  6306  \n",
       "149                      0      0.0    999.0                  4897  \n",
       "179                      1      0.0    999.0                  7062  \n",
       "369                      2      0.0    999.0                 11691  "
      ]
     },
     "execution_count": 11,
     "metadata": {},
     "output_type": "execute_result"
    }
   ],
   "source": [
    "# Check Data\n",
    "bad_notams.head()"
   ]
  },
  {
   "cell_type": "markdown",
   "id": "41cf8b9a-03ac-4e0a-b049-a8a7d19384df",
   "metadata": {},
   "source": [
    "### Create Labels"
   ]
  },
  {
   "cell_type": "code",
   "execution_count": 12,
   "id": "d6e71d22-9bbf-4899-8791-23ce4fd9fccb",
   "metadata": {},
   "outputs": [],
   "source": [
    "# Set Classification Labels\n",
    "good_notams['LABEL'] = 1\n",
    "bad_notams['LABEL'] = 0\n",
    "\n",
    "# Set Classification Labels\n",
    "good_notams_og['LABEL'] = 1\n",
    "bad_notams_og['LABEL'] = 0"
   ]
  },
  {
   "cell_type": "markdown",
   "id": "34b4b372-388f-40ae-ae03-ad9c9c2a09d0",
   "metadata": {},
   "source": [
    "### Prepare Data for Models"
   ]
  },
  {
   "cell_type": "code",
   "execution_count": 13,
   "id": "dca193be-ef68-4f6f-bf92-b021e37accde",
   "metadata": {},
   "outputs": [],
   "source": [
    "# Combine Features (Positive)\n",
    "positive = hstack((good_notams['NOTAM_TYPE_ENCODE'].array[:,None], \n",
    "                   good_encodes,\n",
    "                   good_notams['CLASSIFICATION_ENCODE'].array[:,None],\n",
    "                   good_notams['MIN_ALT'].array[:,None],\n",
    "                   good_notams['MAX_ALT'].array[:,None],\n",
    "                   good_notams['LOCATION_CODE_ENCODE'].array[:,None])).A\n",
    "\n",
    "# Combine Features (Negative)\n",
    "negative = hstack((bad_notams['NOTAM_TYPE_ENCODE'].array[:,None], \n",
    "                   bad_encodes,\n",
    "                   bad_notams['CLASSIFICATION_ENCODE'].array[:,None],\n",
    "                   bad_notams['MIN_ALT'].array[:,None],\n",
    "                   bad_notams['MAX_ALT'].array[:,None],\n",
    "                   bad_notams['LOCATION_CODE_ENCODE'].array[:,None])).A\n",
    "\n",
    "# Combine Features (Positive)\n",
    "positive_og = hstack((good_notams_og['NOTAM_TYPE_ENCODE'].array[:,None], \n",
    "                   good_encodes_og,\n",
    "                   good_notams_og['CLASSIFICATION_ENCODE'].array[:,None],\n",
    "                   good_notams_og['MIN_ALT'].array[:,None],\n",
    "                   good_notams_og['MAX_ALT'].array[:,None],\n",
    "                   good_notams_og['LOCATION_CODE_ENCODE'].array[:,None])).A\n",
    "\n",
    "# Combine Features (Negative)\n",
    "negative_og = hstack((bad_notams_og['NOTAM_TYPE_ENCODE'].array[:,None], \n",
    "                   bad_encodes_og,\n",
    "                   bad_notams_og['CLASSIFICATION_ENCODE'].array[:,None],\n",
    "                   bad_notams_og['MIN_ALT'].array[:,None],\n",
    "                   bad_notams_og['MAX_ALT'].array[:,None],\n",
    "                   bad_notams_og['LOCATION_CODE_ENCODE'].array[:,None])).A"
   ]
  },
  {
   "cell_type": "markdown",
   "id": "430b0a07-e44c-44a3-a667-ad523b222066",
   "metadata": {},
   "source": [
    "### Init Stratified Shuffle Splits"
   ]
  },
  {
   "cell_type": "code",
   "execution_count": 14,
   "id": "930db9f4-68dc-49f4-8211-5a7ffe434d8f",
   "metadata": {},
   "outputs": [],
   "source": [
    "# Intitialize K-Fold Split for Cross Validation\n",
    "sss = StratifiedShuffleSplit(n_splits=5, test_size=0.30, train_size=0.70, random_state=232323)\n",
    "\n",
    "# Combine Postive and Negative Data\n",
    "X = vstack((positive, negative))\n",
    "y = vstack((good_notams['LABEL'].array[:,None], bad_notams['LABEL'].array[:,None]))\n",
    "\n",
    "# Intitialize K-Fold Split for Cross Validation\n",
    "sss_og = StratifiedShuffleSplit(n_splits=5, test_size=0.30, random_state=232323)\n",
    "\n",
    "# Combine Postive and Negative Data\n",
    "X_og = vstack((positive_og, negative_og))\n",
    "y_og = vstack((good_notams_og['LABEL'].array[:,None], bad_notams_og['LABEL'].array[:,None]))"
   ]
  },
  {
   "cell_type": "markdown",
   "id": "aa4e427d-2629-4b69-8854-a630631edc38",
   "metadata": {},
   "source": [
    "## Visualizations"
   ]
  },
  {
   "cell_type": "markdown",
   "id": "5af20e7f-052c-4e6f-9ce1-7e08e177c81e",
   "metadata": {},
   "source": [
    "### 5-Fold Cross Validation and ROC Curves"
   ]
  },
  {
   "cell_type": "code",
   "execution_count": 15,
   "id": "ede4f3b4-5b7b-4dec-b91f-3efbe8f2e8b5",
   "metadata": {},
   "outputs": [
    {
     "name": "stdout",
     "output_type": "stream",
     "text": [
      "Handmade Dataset\n",
      "\n",
      "Fold 1\n",
      "XGB Accuracy: 0.998546511627907\n",
      "LogReg Accuracy: 0.999031007751938\n",
      "SVM Accuracy: 0.9762596899224806\n",
      "\n",
      "Fold 2\n",
      "XGB Accuracy: 0.999515503875969\n",
      "LogReg Accuracy: 0.998546511627907\n",
      "SVM Accuracy: 0.9752906976744186\n",
      "\n",
      "Fold 3\n",
      "XGB Accuracy: 0.997093023255814\n",
      "LogReg Accuracy: 0.999515503875969\n",
      "SVM Accuracy: 0.9801356589147286\n",
      "\n",
      "Fold 4\n",
      "XGB Accuracy: 1.0\n",
      "LogReg Accuracy: 0.999515503875969\n",
      "SVM Accuracy: 0.9796511627906976\n",
      "\n",
      "Fold 5\n",
      "XGB Accuracy: 0.997577519379845\n",
      "LogReg Accuracy: 0.999031007751938\n",
      "SVM Accuracy: 0.9777131782945736\n",
      "\n",
      "Receiver Operating Curves (ROC)\n",
      "No Skill: ROC AUC=0.500\n",
      "Logistic: ROC AUC=1.000\n"
     ]
    },
    {
     "data": {
      "image/png": "[encoded data removed]",
      "text/plain": [
       "<Figure size 432x288 with 1 Axes>"
      ]
     },
     "metadata": {
      "needs_background": "light"
     },
     "output_type": "display_data"
    },
    {
     "name": "stdout",
     "output_type": "stream",
     "text": [
      "No Skill: ROC AUC=0.500\n",
      "Logistic: ROC AUC=1.000\n"
     ]
    },
    {
     "data": {
      "image/png": "[encoded data removed]",
      "text/plain": [
       "<Figure size 432x288 with 1 Axes>"
      ]
     },
     "metadata": {
      "needs_background": "light"
     },
     "output_type": "display_data"
    },
    {
     "name": "stdout",
     "output_type": "stream",
     "text": [
      "No Skill: ROC AUC=0.500\n",
      "Logistic: ROC AUC=0.994\n"
     ]
    },
    {
     "data": {
      "image/png": "[encoded data removed]",
      "text/plain": [
       "<Figure size 432x288 with 1 Axes>"
      ]
     },
     "metadata": {
      "needs_background": "light"
     },
     "output_type": "display_data"
    },
    {
     "name": "stdout",
     "output_type": "stream",
     "text": [
      "\n",
      "FAA Dataset\n",
      "\n",
      "Fold 1\n",
      "XGB Accuracy: 0.9156171284634761\n",
      "LogReg Accuracy: 0.8677581863979849\n",
      "SVM Accuracy: 0.8337531486146096\n",
      "\n",
      "Fold 2\n",
      "XGB Accuracy: 0.9055415617128464\n",
      "LogReg Accuracy: 0.8879093198992444\n",
      "SVM Accuracy: 0.8337531486146096\n",
      "\n",
      "Fold 3\n",
      "XGB Accuracy: 0.9118387909319899\n",
      "LogReg Accuracy: 0.8652392947103275\n",
      "SVM Accuracy: 0.8337531486146096\n",
      "\n",
      "Fold 4\n",
      "XGB Accuracy: 0.9055415617128464\n",
      "LogReg Accuracy: 0.8614609571788413\n",
      "SVM Accuracy: 0.8337531486146096\n",
      "\n",
      "Fold 5\n",
      "XGB Accuracy: 0.9030226700251889\n",
      "LogReg Accuracy: 0.8652392947103275\n",
      "SVM Accuracy: 0.8337531486146096\n",
      "\n",
      "Receiver Operating Curves (ROC)\n",
      "No Skill: ROC AUC=0.500\n",
      "Logistic: ROC AUC=0.940\n"
     ]
    },
    {
     "data": {
      "image/png": "[encoded data removed]",
      "text/plain": [
       "<Figure size 432x288 with 1 Axes>"
      ]
     },
     "metadata": {
      "needs_background": "light"
     },
     "output_type": "display_data"
    },
    {
     "name": "stdout",
     "output_type": "stream",
     "text": [
      "No Skill: ROC AUC=0.500\n",
      "Logistic: ROC AUC=0.907\n"
     ]
    },
    {
     "data": {
      "image/png": "[encoded data removed]",
      "text/plain": [
       "<Figure size 432x288 with 1 Axes>"
      ]
     },
     "metadata": {
      "needs_background": "light"
     },
     "output_type": "display_data"
    },
    {
     "name": "stdout",
     "output_type": "stream",
     "text": [
      "No Skill: ROC AUC=0.500\n",
      "Logistic: ROC AUC=0.380\n"
     ]
    },
    {
     "data": {
      "image/png": "[encoded data removed]",
      "text/plain": [
       "<Figure size 432x288 with 1 Axes>"
      ]
     },
     "metadata": {
      "needs_background": "light"
     },
     "output_type": "display_data"
    }
   ],
   "source": [
    "xgb_new = []\n",
    "xgb_og = []\n",
    "lr_new = []\n",
    "lr_og = []\n",
    "svm_new = []\n",
    "svm_og = []\n",
    "\n",
    "print('Handmade Dataset')\n",
    "count = 1\n",
    "# Cross Validation XGBoost\n",
    "for train_index, test_index in sss.split(X.toarray(), y.toarray()): \n",
    "    print('\\nFold', count)\n",
    "    count += 1\n",
    "    X_train, X_test = X.tocsr()[train_index], X.tocsr()[test_index]\n",
    "    y_train, y_test = y.tocsr()[train_index].toarray(), y.tocsr()[test_index].toarray()\n",
    "   \n",
    "    xgb_model = XGBClassifier()\n",
    "    xgb_model.fit(X_train, y_train)\n",
    "    xgb_yhat = xgb_model.predict(X_test)\n",
    "\n",
    "    xgb_new.append(accuracy_score(y_test, xgb_yhat))\n",
    "    \n",
    "    print('XGB Accuracy:', accuracy_score(y_test, xgb_yhat))\n",
    "    \n",
    "    X_train.data[np.isnan(X_train.data)] = 0\n",
    "    X_test.data[np.isnan(X_test.data)] = 0\n",
    "   \n",
    "    lg_model = LogisticRegression(random_state=0, max_iter=1000, penalty='none')\n",
    "    lg_model.fit(X_train, np.ravel(y_train))\n",
    "    lg_yhat = lg_model.predict(X_test)\n",
    "    \n",
    "    lr_new.append(accuracy_score(np.ravel(y_test), lg_yhat))\n",
    "    \n",
    "    print('LogReg Accuracy:', accuracy_score(np.ravel(y_test), lg_yhat))\n",
    "    \n",
    "    svm_model = svm.SVC(random_state=0, C=0.3, probability=True)\n",
    "    svm_model.fit(X_train, np.ravel(y_train))\n",
    "    svm_yhat = svm_model.predict(X_test)\n",
    "\n",
    "    svm_new.append(accuracy_score(y_test, svm_yhat))\n",
    "    \n",
    "    print('SVM Accuracy:', accuracy_score(y_test, svm_yhat))\n",
    "    if count == 6:\n",
    "        print('\\nReceiver Operating Curves (ROC)')\n",
    "        plotROC(xgb_model, X_test, y_test, 'XG Boost', 'Handmade Data')\n",
    "        plotROC(lg_model, X_test, y_test, 'Log Regression', 'Handmade Data')\n",
    "        plotROC(svm_model, X_test, y_test, 'SVM', 'Handmade Data')\n",
    "\n",
    "print('\\nFAA Dataset')\n",
    "count = 1\n",
    "# Cross Validation XGBoost\n",
    "for train_index, test_index in sss_og.split(X_og.toarray(), y_og.toarray()):\n",
    "    print('\\nFold', count)\n",
    "    count += 1\n",
    "    X_train, X_test = X_og.tocsr()[train_index], X_og.tocsr()[test_index]\n",
    "    y_train, y_test = y_og.tocsr()[train_index].toarray(), y_og.tocsr()[test_index].toarray()\n",
    "   \n",
    "    xgb_og_model = XGBClassifier()\n",
    "    xgb_og_model.fit(X_train, y_train)\n",
    "    xgb_yhat = xgb_og_model.predict(X_test)\n",
    "\n",
    "    xgb_og.append(accuracy_score(y_test, xgb_yhat))\n",
    "    \n",
    "    print('XGB Accuracy:', accuracy_score(y_test, xgb_yhat))\n",
    "    \n",
    "    X_train.data[np.isnan(X_train.data)] = 0\n",
    "    X_test.data[np.isnan(X_test.data)] = 0\n",
    "   \n",
    "    lg_og_model = LogisticRegression(random_state=0, max_iter=1000, penalty='none')\n",
    "    lg_og_model.fit(X_train, np.ravel(y_train))\n",
    "    lg_yhat = lg_og_model.predict(X_test)\n",
    "    \n",
    "    lr_og.append(accuracy_score(np.ravel(y_test), lg_yhat))\n",
    "    \n",
    "    print('LogReg Accuracy:', accuracy_score(np.ravel(y_test), lg_yhat))\n",
    "    \n",
    "    svm_og_model = svm.SVC(random_state=0, C=0.3, probability=True)\n",
    "    svm_og_model.fit(X_train, np.ravel(y_train))\n",
    "    svm_yhat = svm_og_model.predict(X_test)\n",
    "\n",
    "    svm_og.append(accuracy_score(y_test, svm_yhat))\n",
    "    \n",
    "    print('SVM Accuracy:', accuracy_score(y_test, svm_yhat))\n",
    "    if count == 6:\n",
    "        print('\\nReceiver Operating Curves (ROC)')\n",
    "        plotROC(xgb_og_model, X_test, y_test, 'XG Boost', 'FAA Data')\n",
    "        plotROC(lg_og_model, X_test, y_test, 'Log Regression', 'FAA Data')\n",
    "        plotROC(svm_og_model, X_test, y_test, 'SVM', 'FAA Data')"
   ]
  },
  {
   "cell_type": "markdown",
   "id": "76ea6638-7f38-48cf-b2ac-c938cf9c3be8",
   "metadata": {},
   "source": [
    "### Cross Val Barcharts"
   ]
  },
  {
   "cell_type": "code",
   "execution_count": 16,
   "id": "2169157d-0c0a-4bc9-9c61-1656712d900a",
   "metadata": {},
   "outputs": [],
   "source": [
    "data = {'XGB':xgb_new,\n",
    "       'LR':lr_new,\n",
    "        'SVM':svm_new,\n",
    "        'XGB*':xgb_og,\n",
    "        'LR*':lr_og,\n",
    "        'SVM*':svm_og}\n",
    "\n",
    "# Creating the Datafame from dict:\n",
    "df = pd.DataFrame(data).T\n",
    "df = df.reset_index()\n",
    "df.columns = ['Model', 'Fold_1', 'Fold_2', 'Fold_3', 'Fold_4', 'Fold_5']"
   ]
  },
  {
   "cell_type": "code",
   "execution_count": 17,
   "id": "775f7663-6e64-4231-b724-552da910e36a",
   "metadata": {},
   "outputs": [],
   "source": [
    "data = {'Model':np.repeat(df['Model'].values, 5).tolist(),\n",
    "       'Fold':np.tile(range(1,6), 6).tolist(),\n",
    "       'Accuracy':df.loc[:, df.columns!='Model'].values.reshape(1, -1)[0].tolist()}\n",
    "\n",
    "df2 = pd.DataFrame(data)"
   ]
  },
  {
   "cell_type": "code",
   "execution_count": 18,
   "id": "92ebe691-9ff9-4fb5-819b-6c0b08163947",
   "metadata": {},
   "outputs": [
    {
     "data": {
      "image/png": "[encoded data removed]",
      "text/plain": [
       "<Figure size 2016x576 with 5 Axes>"
      ]
     },
     "metadata": {},
     "output_type": "display_data"
    }
   ],
   "source": [
    "sns.set_theme(style=\"whitegrid\", palette=\"crest\")\n",
    "\n",
    "p = sns.catplot(x= 'Model', y='Accuracy', col=\"Fold\", data=df2, kind=\"bar\", height=8, aspect=0.7);"
   ]
  },
  {
   "cell_type": "markdown",
   "id": "0219fa35-fe80-4fcc-a6ef-841e39f4fd65",
   "metadata": {},
   "source": [
    "## Create Classification Facets"
   ]
  },
  {
   "cell_type": "code",
   "execution_count": 19,
   "id": "7745d319-21d7-4a87-b001-ed9bdf888829",
   "metadata": {},
   "outputs": [],
   "source": [
    "# Combine Features (All Data)\n",
    "pred = hstack((all_notams['NOTAM_TYPE_ENCODE'].array[:,None], \n",
    "                   all_encodes,\n",
    "                   all_notams['CLASSIFICATION_ENCODE'].array[:,None],\n",
    "                   all_notams['MIN_ALT'].array[:,None],\n",
    "                   all_notams['MAX_ALT'].array[:,None],\n",
    "                   all_notams['LOCATION_CODE_ENCODE'].array[:,None])).A"
   ]
  },
  {
   "cell_type": "code",
   "execution_count": 20,
   "id": "0adb949c-9036-409e-ad3e-3b3ec4a4e6c8",
   "metadata": {},
   "outputs": [],
   "source": [
    "# Final Model Training\n",
    "model1a = XGBClassifier()\n",
    "model1a.fit(X, y.toarray())\n",
    "\n",
    "# Predict All NOTAMs\n",
    "all_notams['XGB_NEW'] = model1a.predict(pred)"
   ]
  },
  {
   "cell_type": "code",
   "execution_count": 21,
   "id": "590e40db-5113-48b4-aaeb-022a59c00c3e",
   "metadata": {},
   "outputs": [],
   "source": [
    "# Final Model Training\n",
    "model1b = XGBClassifier()\n",
    "model1b.fit(X_og, y_og.toarray())\n",
    "\n",
    "# Predict All NOTAMs\n",
    "all_notams['XGB'] = model1b.predict(pred)"
   ]
  },
  {
   "cell_type": "code",
   "execution_count": 22,
   "id": "f7242c0a-818e-40ab-be87-b53294c63616",
   "metadata": {},
   "outputs": [],
   "source": [
    "# Set NAN to 0 for models that cannot deal with NULL\n",
    "pred[np.isnan(pred)] = 0\n",
    "X.data[np.isnan(X.data)] = 0\n",
    "X_og.data[np.isnan(X_og.data)] = 0"
   ]
  },
  {
   "cell_type": "code",
   "execution_count": 23,
   "id": "cf47e435-bf77-4364-a721-2b9c407d01bd",
   "metadata": {},
   "outputs": [],
   "source": [
    "# Final Model Training\n",
    "model2a = LogisticRegression(random_state=0, max_iter=1000, penalty='none')\n",
    "model2a.fit(X, np.ravel(y.toarray()))\n",
    "\n",
    "# Predict All NOTAMs\n",
    "all_notams['LogReg_NEW'] = model2a.predict(pred)"
   ]
  },
  {
   "cell_type": "code",
   "execution_count": 24,
   "id": "1ef9696b-bf0f-40bf-93f7-1591188e500b",
   "metadata": {},
   "outputs": [],
   "source": [
    "# Final Model Training\n",
    "model2b = LogisticRegression(random_state=0, max_iter=1000, penalty='none')\n",
    "model2b.fit(X_og, np.ravel(y_og.toarray()))\n",
    "\n",
    "# Predict All NOTAMs\n",
    "all_notams['LogReg'] = model2b.predict(pred)"
   ]
  },
  {
   "cell_type": "code",
   "execution_count": 25,
   "id": "9ca5241e-c58c-43ef-a35a-b94f5bdca842",
   "metadata": {},
   "outputs": [],
   "source": [
    "# Final Model Training\n",
    "model3a = svm.SVC(random_state=0, C=0.3)\n",
    "model3a.fit(X, np.ravel(y.toarray()))\n",
    "\n",
    "# Predict All NOTAMs\n",
    "all_notams['SVM_NEW'] = model3a.predict(pred)"
   ]
  },
  {
   "cell_type": "code",
   "execution_count": 26,
   "id": "6f514246-9eaf-478c-ad8c-1ccf7d71f707",
   "metadata": {},
   "outputs": [],
   "source": [
    "# Final Model Training\n",
    "model3b = svm.SVC(random_state=0, C=0.3)\n",
    "model3b.fit(X_og, np.ravel(y_og.toarray()))\n",
    "\n",
    "# Predict All NOTAMs\n",
    "all_notams['SVM'] = model3b.predict(pred)"
   ]
  },
  {
   "cell_type": "markdown",
   "id": "41d11d2f-66d9-467e-be90-d5614d6a7eab",
   "metadata": {},
   "source": [
    "## Save Pickle File"
   ]
  },
  {
   "cell_type": "code",
   "execution_count": 27,
   "id": "72916781-7de7-4929-9b81-0fc032a303b8",
   "metadata": {},
   "outputs": [],
   "source": [
    "# Save Results\n",
    "all_notams.to_pickle(\"data/allData.pkl\")"
   ]
  }
 ],
 "metadata": {
  "kernelspec": {
   "display_name": "Python 3",
   "language": "python",
   "name": "python3"
  },
  "language_info": {
   "codemirror_mode": {
    "name": "ipython",
    "version": 3
   },
   "file_extension": ".py",
   "mimetype": "text/x-python",
   "name": "python",
   "nbconvert_exporter": "python",
   "pygments_lexer": "ipython3",
   "version": "3.8.8"
  }
 },
 "nbformat": 4,
 "nbformat_minor": 5
}
