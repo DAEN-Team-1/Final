{
 "cells": [
  {
   "cell_type": "code",
   "execution_count": 1,
   "id": "e97c11c8-4883-4875-980f-83f79d855c5c",
   "metadata": {},
   "outputs": [
    {
     "ename": "SyntaxError",
     "evalue": "invalid syntax (1355468949.py, line 1)",
     "output_type": "error",
     "traceback": [
      "\u001b[0;36m  Input \u001b[0;32mIn [1]\u001b[0;36m\u001b[0m\n\u001b[0;31m    notam rec id and launch\u001b[0m\n\u001b[0m          ^\u001b[0m\n\u001b[0;31mSyntaxError\u001b[0m\u001b[0;31m:\u001b[0m invalid syntax\n"
     ]
    }
   ],
   "source": [
    "notam rec id and launch\n",
    "merge all past col e to one message column\n",
    "show how many notams by ear and color code\n",
    "\n",
    "take topic vecs and create clusters "
   ]
  },
  {
   "cell_type": "markdown",
   "id": "ddf3a303-2db2-44a2-ae0d-beeaf7885aa9",
   "metadata": {
    "tags": []
   },
   "source": [
    "# Human Annotated NOTAM Analysis\n",
    "\n",
    "Please note that the data for this analysis is saved locally in a `MatchingLaunchNOTAM_GMUCapstone_20220603` folder that is one level above (a parent folder) to where the [GitHub](https://github.com/DAEN-Team-1/Final \"GitHub\") files have been saved. This was done because a lot of the data files are too large to be included in the GitHub repoo."
   ]
  },
  {
   "cell_type": "code",
   "execution_count": null,
   "id": "4a2f8dce-fc83-4c88-a53c-eb88dad88747",
   "metadata": {},
   "outputs": [],
   "source": [
    "# imports\n",
    "import pandas as pd\n",
    "import numpy  as np\n",
    "# import bamboolib as bam"
   ]
  },
  {
   "cell_type": "markdown",
   "id": "87f808e1-b393-4da7-b4ae-1c252a49ab21",
   "metadata": {},
   "source": [
    "Read in data"
   ]
  },
  {
   "cell_type": "code",
   "execution_count": null,
   "id": "e4af64bb-cd26-4263-9e62-807bce7ace97",
   "metadata": {},
   "outputs": [],
   "source": [
    "# Read in csv (not enough headers for data, so using custom one)\n",
    "names = ['LAUNCHES_REC_ID', 'NOTAM_REC_ID', 'LowerAltitude', 'UpperAltitude', 'IssueTime', 'StartTime', 'StopTime', 'E_CODE',\n",
    "         '0_no_header', '1_no_header', '2_no_header', '3_no_header', '4_no_header', '5_no_header', '6_no_header', '7_no_header',\n",
    "         '8_no_header', '9_no_header', '10_no_header', '11_no_header', '12_no_header', '13_no_header', '14_no_header']\n",
    "\n",
    "df = pd.read_csv('../MatchingLaunchNOTAM_GMUCapstone_20220603/HumanAnnotatedMatches_SVO_DB_20200127.csv',\n",
    "                 encoding='UTF-8', on_bad_lines='skip', engine=\"python\", delimiter=',',\n",
    "                 names=names)               "
   ]
  },
  {
   "cell_type": "code",
   "execution_count": null,
   "id": "41eb8217-42e9-4979-9e81-60af310cdbe8",
   "metadata": {},
   "outputs": [],
   "source": [
    "# Merge unlabeled columns\n",
    "cmnt_names = ['0_no_header', '1_no_header', '2_no_header', '3_no_header', '4_no_header', '5_no_header', '6_no_header', '7_no_header',\n",
    "              '8_no_header', '9_no_header', '10_no_header', '11_no_header', '12_no_header', '13_no_header', '14_no_header']\n",
    "\n",
    "df['Comment'] = df[cmnt_names].apply(lambda x: ','.join(x.dropna().astype(str)), axis=1)\n",
    "\n",
    "# Replace empyty strings with NaNs\n",
    "df['Comment'].replace(r'^\\s*$', np.nan, regex=True, inplace=True)\n",
    "\n",
    "df.drop(cmnt_names, axis=1, inplace=True)"
   ]
  },
  {
   "cell_type": "code",
   "execution_count": null,
   "id": "a8a54f8c-4f63-4345-86ee-26d160f3eaaf",
   "metadata": {},
   "outputs": [],
   "source": [
    "# Drop previous headers\n",
    "df = df.drop(0)\n",
    "df.reset_index(inplace=True, drop=True)"
   ]
  },
  {
   "cell_type": "code",
   "execution_count": null,
   "id": "bb3452b2-4dd8-478f-bf13-8b87f3151ed4",
   "metadata": {},
   "outputs": [],
   "source": [
    "df.head()"
   ]
  },
  {
   "cell_type": "markdown",
   "id": "d20687ba-c110-4636-8c79-061628958cab",
   "metadata": {},
   "source": [
    "Look at df info\n",
    "* Out of 23 columns, only 8 had headers in the spreadsheet. Need to analyze this to see why. "
   ]
  },
  {
   "cell_type": "code",
   "execution_count": null,
   "id": "4201d992-165a-41c7-8f0f-d9751df07690",
   "metadata": {},
   "outputs": [],
   "source": [
    "df.info()"
   ]
  },
  {
   "cell_type": "markdown",
   "id": "9b5087b0-154e-4028-b732-9fab2013554f",
   "metadata": {},
   "source": [
    "Descirbe the df\n",
    "* Columsn with headers seem to be mostly filled (only `UpperAltitude` and `UpperAltitude` seem to be missing some values). \n",
    "* Columns that did not have headers are missing much more data. "
   ]
  },
  {
   "cell_type": "code",
   "execution_count": null,
   "id": "5b90fedb-cc15-4045-868e-451f6174a9d8",
   "metadata": {},
   "outputs": [],
   "source": [
    "df.describe()"
   ]
  },
  {
   "cell_type": "markdown",
   "id": "993740a8-5362-4165-a684-edb21bb2054a",
   "metadata": {},
   "source": [
    "## Column Analysis"
   ]
  },
  {
   "cell_type": "markdown",
   "id": "adeec600-ccb1-4933-b1e9-ddc19152e0cf",
   "metadata": {
    "jp-MarkdownHeadingCollapsed": true,
    "tags": []
   },
   "source": [
    "#### LAUNCHES_REC_ID\n",
    "* Included in NOTAM Analysis CSV, but all values were NaN. \n",
    "* Repeats, but none cover more than 4% of the data. "
   ]
  },
  {
   "cell_type": "code",
   "execution_count": null,
   "id": "cd0d8566-bb38-4b58-8853-ed0f5638023a",
   "metadata": {},
   "outputs": [],
   "source": [
    "df['LAUNCHES_REC_ID']"
   ]
  },
  {
   "cell_type": "code",
   "execution_count": null,
   "id": "65a8341b-3d72-4398-b48c-5325054f793c",
   "metadata": {},
   "outputs": [],
   "source": [
    "df['LAUNCHES_REC_ID'].value_counts()"
   ]
  },
  {
   "cell_type": "code",
   "execution_count": null,
   "id": "e9787ec7-fa43-4807-9ad3-070bd3c2ab18",
   "metadata": {},
   "outputs": [],
   "source": [
    "df['LAUNCHES_REC_ID'].value_counts(dropna=False, normalize=True).apply(lambda x: '%.5f' % x)"
   ]
  },
  {
   "cell_type": "markdown",
   "id": "344eb3c6-383b-4589-a5e0-d4e621712738",
   "metadata": {
    "jp-MarkdownHeadingCollapsed": true,
    "tags": []
   },
   "source": [
    "#### NOTAM_REC_ID\n",
    "* Included in NOTAM Analysis CSV\n",
    "* Not all entries have some number of characters\n",
    "* `388267` repeats 3x, while `83024` repeats 2x, all other values occur only once\n",
    "* No NaNs"
   ]
  },
  {
   "cell_type": "code",
   "execution_count": null,
   "id": "f3d46fa6-fe1a-4c58-a2fc-2a544f4bf937",
   "metadata": {},
   "outputs": [],
   "source": [
    "df['NOTAM_REC_ID']"
   ]
  },
  {
   "cell_type": "code",
   "execution_count": null,
   "id": "549d5c5f-053a-4c45-9eb5-709b6bcc6683",
   "metadata": {},
   "outputs": [],
   "source": [
    "df['NOTAM_REC_ID'].value_counts(dropna=False)"
   ]
  },
  {
   "cell_type": "markdown",
   "id": "6ae4b5e0-01c2-4575-ba94-582925913967",
   "metadata": {
    "jp-MarkdownHeadingCollapsed": true,
    "tags": []
   },
   "source": [
    "#### LowerAltitude\n",
    "* NOTAM Analysis CSV equivalent seems to be `MIN_ALT`\n",
    "* Convert to floats\n",
    "* Majority are 0.0, at 75%\n",
    "    * Could this suggest ground based issues?\n",
    "* Next 5 categories cover at least 1% of the data\n",
    "* A couple of NaNs\n",
    "* Repeats\n",
    "* Includes chart"
   ]
  },
  {
   "cell_type": "code",
   "execution_count": null,
   "id": "c4a83c8d-4b00-4bd6-9029-e767bb28726e",
   "metadata": {},
   "outputs": [],
   "source": [
    "df['LowerAltitude'] = pd.to_numeric(df['LowerAltitude'])"
   ]
  },
  {
   "cell_type": "code",
   "execution_count": null,
   "id": "5bd7d384-6bd7-4319-958a-0e0e9ed3be1b",
   "metadata": {},
   "outputs": [],
   "source": [
    "df['LowerAltitude']"
   ]
  },
  {
   "cell_type": "code",
   "execution_count": null,
   "id": "68f1b2b2-709e-4b14-8e80-c4e077aa5d2f",
   "metadata": {},
   "outputs": [],
   "source": [
    "df['LowerAltitude'].value_counts(dropna=False)"
   ]
  },
  {
   "cell_type": "code",
   "execution_count": null,
   "id": "ccab1031-2b8e-42b4-87bd-154fe771ba70",
   "metadata": {},
   "outputs": [],
   "source": [
    "df['LowerAltitude'].value_counts(dropna=False, normalize=True).apply(lambda x: '%.5f' % x)"
   ]
  },
  {
   "cell_type": "code",
   "execution_count": null,
   "id": "61859629-e614-49bb-a055-9237fccb1c46",
   "metadata": {},
   "outputs": [],
   "source": [
    "df['LowerAltitude'].value_counts(dropna=False, normalize=True).plot(kind='bar', \n",
    "                                                                    title='LowerAltitude Proportion of Data',\n",
    "                                                                    figsize=(10, 5));"
   ]
  },
  {
   "cell_type": "markdown",
   "id": "4b743b3e-6159-43ba-8f25-a3c75855c4a0",
   "metadata": {
    "jp-MarkdownHeadingCollapsed": true,
    "tags": []
   },
   "source": [
    "#### UpperAltitude\n",
    "* NOTAM Analysis CSV equivalent seems to be `MAX_ALT`\n",
    "* Convert to floats\n",
    "* Majority are `180000.0`, `999000.0`, `50000.0`, and `NaN`, covering 41%, 33%, 17%, and 6% of the data, respectively.\n",
    "* No other category covers at least 1% of the data\n",
    "* Repeats\n",
    "* Includes chart"
   ]
  },
  {
   "cell_type": "code",
   "execution_count": null,
   "id": "8802593f-cfb7-48cc-a49f-12b51e8d28fc",
   "metadata": {},
   "outputs": [],
   "source": [
    "df['UpperAltitude'] = pd.to_numeric(df['UpperAltitude'])"
   ]
  },
  {
   "cell_type": "code",
   "execution_count": null,
   "id": "fcab55c5-7da1-4319-9a14-e1bac2ceb88f",
   "metadata": {},
   "outputs": [],
   "source": [
    "df['UpperAltitude']"
   ]
  },
  {
   "cell_type": "code",
   "execution_count": null,
   "id": "1dadf5dd-5022-45f2-b2bc-81ae8c4ac405",
   "metadata": {},
   "outputs": [],
   "source": [
    "df['UpperAltitude'].value_counts(dropna=False)"
   ]
  },
  {
   "cell_type": "code",
   "execution_count": null,
   "id": "ad9b7c3c-502d-49c7-8279-0581870ddffa",
   "metadata": {},
   "outputs": [],
   "source": [
    "df['UpperAltitude'].value_counts(dropna=False, normalize=True).apply(lambda x: '%.5f' % x)"
   ]
  },
  {
   "cell_type": "code",
   "execution_count": null,
   "id": "8a14c796-0385-41a5-b9b7-137bb2a75257",
   "metadata": {},
   "outputs": [],
   "source": [
    "df['UpperAltitude'].value_counts(dropna=False, normalize=True).plot(kind='bar', \n",
    "                                                                    title='UpperAltitude Proportion of Data',\n",
    "                                                                    figsize=(10, 5));"
   ]
  },
  {
   "cell_type": "markdown",
   "id": "3863a040-f22d-4230-80ac-aa7c3016b69e",
   "metadata": {
    "jp-MarkdownHeadingCollapsed": true,
    "tags": []
   },
   "source": [
    "#### IssueTime\n",
    "* NOTAM Analysis CSV equivalent seems to be `ISSUE_DATE`\n",
    "* Did not get parsed as dates.\n",
    "    * Parsed through custom fuction\n",
    "* All entries from 2016-2020\n",
    "* Includes chart"
   ]
  },
  {
   "cell_type": "code",
   "execution_count": null,
   "id": "cddc761e-12bf-471b-aa71-b102ed203a2d",
   "metadata": {},
   "outputs": [],
   "source": [
    "from datetime import datetime\n",
    "def convert_to_date(row):\n",
    "    try:\n",
    "        return datetime.strptime(row, '%Y-%m-%d %H:%M:%S')\n",
    "    except:\n",
    "        return row\n",
    "    \n",
    "def get_year(row):\n",
    "    try:\n",
    "        return row.year\n",
    "    except:\n",
    "        return row\n",
    "\n",
    "def get_month(row):\n",
    "    try:\n",
    "        return row.month\n",
    "    except:\n",
    "        return row\n",
    "    \n",
    "def get_day(row):\n",
    "    try:\n",
    "        return row.day\n",
    "    except:\n",
    "        return row"
   ]
  },
  {
   "cell_type": "code",
   "execution_count": null,
   "id": "66b54429-d9c5-4aa6-8378-dfdd6485eeb4",
   "metadata": {},
   "outputs": [],
   "source": [
    "df['IssueTime'] = df['IssueTime'].apply(convert_to_date)"
   ]
  },
  {
   "cell_type": "code",
   "execution_count": null,
   "id": "fdbe6569-7e55-410d-8941-84648ccb726c",
   "metadata": {},
   "outputs": [],
   "source": [
    "df['IssueTime'].value_counts(dropna=False)"
   ]
  },
  {
   "cell_type": "code",
   "execution_count": null,
   "id": "6df1ddac-b4f3-4c74-a852-e892a715285b",
   "metadata": {},
   "outputs": [],
   "source": [
    "df['IssueTime'].value_counts(dropna=False, normalize=True).apply(lambda x: '%.5f' % x)"
   ]
  },
  {
   "cell_type": "code",
   "execution_count": null,
   "id": "3e290a2f-de94-45de-b52a-bdce687d0cfc",
   "metadata": {},
   "outputs": [],
   "source": [
    "df['IssueTime_YEAR']  = df['IssueTime'].apply(get_year)\n",
    "df['IssueTime_MONTH'] = df['IssueTime'].apply(get_month)\n",
    "df['IssueTime_DAY']   = df['IssueTime'].apply(get_day)"
   ]
  },
  {
   "cell_type": "code",
   "execution_count": null,
   "id": "4c57b62e-9af8-4c07-8547-3b68c9969ee3",
   "metadata": {},
   "outputs": [],
   "source": [
    "df['IssueTime_YEAR'] "
   ]
  },
  {
   "cell_type": "code",
   "execution_count": null,
   "id": "162689a4-e160-4114-bc5d-a7daaf478392",
   "metadata": {},
   "outputs": [],
   "source": [
    "df['IssueTime_YEAR'].value_counts(dropna=False)"
   ]
  },
  {
   "cell_type": "code",
   "execution_count": null,
   "id": "eb710bf0-adff-44a2-b2f4-1cfbb2894dc3",
   "metadata": {},
   "outputs": [],
   "source": [
    "df['IssueTime_YEAR'].value_counts(dropna=False, normalize=True).apply(lambda x: '%.5f' % x)"
   ]
  },
  {
   "cell_type": "code",
   "execution_count": null,
   "id": "425c2d85-e779-495d-bc74-111eda3419ac",
   "metadata": {},
   "outputs": [],
   "source": [
    "df['IssueTime_YEAR'].value_counts(dropna=False).plot(kind='bar',               \n",
    "                                                     title='IssueTime_YEAR Proportion of Data',\n",
    "                                                     figsize=(10, 5));"
   ]
  },
  {
   "cell_type": "markdown",
   "id": "990aac0b-266e-4e1c-ad1d-dfed249ebf4d",
   "metadata": {
    "jp-MarkdownHeadingCollapsed": true,
    "tags": []
   },
   "source": [
    "#### StartTime\n",
    "* NOTAM Analysis CSV equivalent seems to be `POSSIBLE_START_DATE`\n",
    "* Did not get parsed as dates.\n",
    "    * Parsed through custom fuction\n",
    "* All entries from 2016-2020\n",
    "* Includes chart"
   ]
  },
  {
   "cell_type": "code",
   "execution_count": null,
   "id": "086018db-01fe-467d-a4b6-f039107c70b0",
   "metadata": {},
   "outputs": [],
   "source": [
    "df['StartTime'] = df['StartTime'].apply(convert_to_date)"
   ]
  },
  {
   "cell_type": "code",
   "execution_count": null,
   "id": "3395a818-7fcd-4a75-b921-cd4a4799c982",
   "metadata": {},
   "outputs": [],
   "source": [
    "df['StartTime'].value_counts(dropna=False)"
   ]
  },
  {
   "cell_type": "code",
   "execution_count": null,
   "id": "4ac6e767-370d-436e-850b-6e857faf9c90",
   "metadata": {},
   "outputs": [],
   "source": [
    "df['StartTime'].value_counts(dropna=False, normalize=True).apply(lambda x: '%.5f' % x)"
   ]
  },
  {
   "cell_type": "code",
   "execution_count": null,
   "id": "8c680cdb-3f41-4a73-8b10-4776353d0458",
   "metadata": {},
   "outputs": [],
   "source": [
    "df['StartTime_YEAR']  = df['StartTime'].apply(get_year)\n",
    "df['StartTime_MONTH'] = df['StartTime'].apply(get_month)\n",
    "df['StartTime_DAY']   = df['StartTime'].apply(get_day)"
   ]
  },
  {
   "cell_type": "code",
   "execution_count": null,
   "id": "86fd002c-c378-4cdb-9427-2399e9a30878",
   "metadata": {},
   "outputs": [],
   "source": [
    "df['StartTime_YEAR'] "
   ]
  },
  {
   "cell_type": "code",
   "execution_count": null,
   "id": "ca4198d2-cee5-4a89-a9a3-2dda42177b71",
   "metadata": {},
   "outputs": [],
   "source": [
    "df['StartTime_YEAR'].value_counts(dropna=False)"
   ]
  },
  {
   "cell_type": "code",
   "execution_count": null,
   "id": "a672cda6-f45e-4ca3-acd0-3983018e26c3",
   "metadata": {},
   "outputs": [],
   "source": [
    "df['StartTime_YEAR'].value_counts(dropna=False, normalize=True).apply(lambda x: '%.5f' % x)"
   ]
  },
  {
   "cell_type": "code",
   "execution_count": null,
   "id": "e3a4a50e-0f90-4bac-963b-2d1e0c8d622e",
   "metadata": {},
   "outputs": [],
   "source": [
    "df['StartTime_YEAR'].value_counts(dropna=False).plot(kind='bar',               \n",
    "                                                     title='StartTime_YEAR Proportion of Data',\n",
    "                                                     figsize=(10, 5));"
   ]
  },
  {
   "cell_type": "markdown",
   "id": "0dcf988d-cc0b-4aa9-843c-11023a9d4288",
   "metadata": {
    "jp-MarkdownHeadingCollapsed": true,
    "tags": []
   },
   "source": [
    "#### StopTime\n",
    "* NOTAM Analysis CSV equivalent seems to be `POSSIBLE_END_DATE`\n",
    "* Did not get parsed as dates.\n",
    "    * Parsed through custom fuction\n",
    "* All entries from 2016-2020\n",
    "* Includes chart"
   ]
  },
  {
   "cell_type": "code",
   "execution_count": null,
   "id": "0b658c4f-6d33-4c94-9c87-bd13cebc1722",
   "metadata": {},
   "outputs": [],
   "source": [
    "df['StopTime'] = df['StopTime'].apply(convert_to_date)"
   ]
  },
  {
   "cell_type": "code",
   "execution_count": null,
   "id": "aaf7b197-873a-44c6-af9c-ff50a6cf08cd",
   "metadata": {},
   "outputs": [],
   "source": [
    "df['StopTime'].value_counts(dropna=False)"
   ]
  },
  {
   "cell_type": "code",
   "execution_count": null,
   "id": "d2c62be5-6339-4918-a43b-373200e27de2",
   "metadata": {},
   "outputs": [],
   "source": [
    "df['StopTime'].value_counts(dropna=False, normalize=True).apply(lambda x: '%.5f' % x)"
   ]
  },
  {
   "cell_type": "code",
   "execution_count": null,
   "id": "c6829d90-1371-4d5d-b308-53322681893f",
   "metadata": {},
   "outputs": [],
   "source": [
    "df['StopTime_YEAR']  = df['StopTime'].apply(get_year)\n",
    "df['StopTime_MONTH'] = df['StopTime'].apply(get_month)\n",
    "df['StopTime_DAY']   = df['StopTime'].apply(get_day)"
   ]
  },
  {
   "cell_type": "code",
   "execution_count": null,
   "id": "ebd2940f-2672-4665-bb51-97326dd1e720",
   "metadata": {},
   "outputs": [],
   "source": [
    "df['StopTime_YEAR'] "
   ]
  },
  {
   "cell_type": "code",
   "execution_count": null,
   "id": "22aa9aa3-e7a0-466f-a36a-369a7d410a86",
   "metadata": {},
   "outputs": [],
   "source": [
    "df['StopTime_YEAR'].value_counts(dropna=False)"
   ]
  },
  {
   "cell_type": "code",
   "execution_count": null,
   "id": "3d4e7445-71dc-499e-b208-d94f6db2bb95",
   "metadata": {},
   "outputs": [],
   "source": [
    "df['StopTime_YEAR'].value_counts(dropna=False, normalize=True).apply(lambda x: '%.5f' % x)"
   ]
  },
  {
   "cell_type": "code",
   "execution_count": null,
   "id": "849a7c6c-0887-4652-bcba-930be3323293",
   "metadata": {},
   "outputs": [],
   "source": [
    "df['StopTime_YEAR'].value_counts(dropna=False).plot(kind='bar',               \n",
    "                                                    title='StopTime_YEAR Proportion of Data',\n",
    "                                                    figsize=(10, 5));"
   ]
  },
  {
   "cell_type": "markdown",
   "id": "ea87cf56-9e33-4a18-8346-c2319b80213d",
   "metadata": {
    "jp-MarkdownHeadingCollapsed": true,
    "tags": []
   },
   "source": [
    "#### ADDED: POSSIBLE_DURATION\n",
    "* All but one duration are in minutes\n",
    "* One duratoin lasted for over 97 days\n",
    "    * Could be an anomally?\n",
    "* Some repeats\n",
    "* No entry accounts for more than 4% of the data"
   ]
  },
  {
   "cell_type": "code",
   "execution_count": null,
   "id": "39383ad0-7c67-4c01-9e04-42004e490c99",
   "metadata": {},
   "outputs": [],
   "source": [
    "df['POSSIBLE_DURATION'] = df['StopTime'] - df['StartTime']"
   ]
  },
  {
   "cell_type": "code",
   "execution_count": null,
   "id": "022c112d-672c-4230-be20-93bf8fea55e2",
   "metadata": {},
   "outputs": [],
   "source": [
    "df['POSSIBLE_DURATION'] "
   ]
  },
  {
   "cell_type": "code",
   "execution_count": null,
   "id": "1016eb41-e477-47e5-bebb-aef33e7768ff",
   "metadata": {},
   "outputs": [],
   "source": [
    "df['POSSIBLE_DURATION'].value_counts(dropna=False)"
   ]
  },
  {
   "cell_type": "code",
   "execution_count": null,
   "id": "ff6d0017-8d7d-4b9e-96cf-fbe64439ab26",
   "metadata": {},
   "outputs": [],
   "source": [
    "df['POSSIBLE_DURATION'].value_counts(dropna=False, normalize=True).apply(lambda x: '%.5f' % x)"
   ]
  },
  {
   "cell_type": "markdown",
   "id": "82885153-1e74-449e-a193-4ab3d651203b",
   "metadata": {
    "jp-MarkdownHeadingCollapsed": true,
    "tags": []
   },
   "source": [
    "#### E_CODE\n",
    "* NOTAM Analysis CSV equivalent is to be `E_CODE`\n",
    "* `W497A ACT` represents 16% of the data\n",
    "* A few other categories represent >1% of the data\n",
    "* Includes chart"
   ]
  },
  {
   "cell_type": "code",
   "execution_count": null,
   "id": "594287c1-b9ef-46c3-b4d9-3aafb7c8b970",
   "metadata": {},
   "outputs": [],
   "source": [
    "df['E_CODE']"
   ]
  },
  {
   "cell_type": "code",
   "execution_count": null,
   "id": "17aeb00d-ae3d-4496-8075-1bd548da26ec",
   "metadata": {},
   "outputs": [],
   "source": [
    "df['E_CODE'].value_counts(dropna=False)"
   ]
  },
  {
   "cell_type": "code",
   "execution_count": null,
   "id": "bb7c5157-d0b7-45e7-81b2-648d265d5af1",
   "metadata": {},
   "outputs": [],
   "source": [
    "df['E_CODE'].value_counts(dropna=False, normalize=True).apply(lambda x: '%.5f' % x)"
   ]
  },
  {
   "cell_type": "code",
   "execution_count": null,
   "id": "b25901e3-2dc2-4cf2-b268-7a78117abe0b",
   "metadata": {},
   "outputs": [],
   "source": [
    "df['E_CODE'].value_counts(dropna=False, normalize=True).nlargest(5).plot(kind='bar',            \n",
    "                                                                         title='E_CODE Top 5 Types Proportion of Data',           \n",
    "                                                                         figsize=(10, 5));"
   ]
  },
  {
   "cell_type": "markdown",
   "id": "689c01d6-6cd8-4a86-bfb2-986f5079daa9",
   "metadata": {
    "tags": []
   },
   "source": [
    "#### Comment\n",
    "* None as biggest category, with 58% of the data\n",
    "* Second biggest category covers 8% of the data, and the third cover 5%\n",
    "* No other category covers >1% of the data\n",
    "* Long strings, codes\n",
    "* Repeats\n",
    "* Includes chart"
   ]
  },
  {
   "cell_type": "code",
   "execution_count": null,
   "id": "e2e3f397-b22d-4409-aeee-c7992f9249e9",
   "metadata": {},
   "outputs": [],
   "source": [
    "df['Comment']"
   ]
  },
  {
   "cell_type": "code",
   "execution_count": null,
   "id": "181379b9-dbf9-479b-966f-bbe4dd82b33f",
   "metadata": {
    "scrolled": true,
    "tags": []
   },
   "outputs": [],
   "source": [
    "df['Comment'].unique()"
   ]
  },
  {
   "cell_type": "code",
   "execution_count": null,
   "id": "499d6010-a6cb-441c-a49b-faefbfc73ef5",
   "metadata": {
    "scrolled": true,
    "tags": []
   },
   "outputs": [],
   "source": [
    "df['Comment'].value_counts(dropna=False)"
   ]
  },
  {
   "cell_type": "code",
   "execution_count": null,
   "id": "bb6b53af-8303-4d87-82c6-aaefed82dfbf",
   "metadata": {
    "scrolled": true,
    "tags": []
   },
   "outputs": [],
   "source": [
    "df['Comment'].value_counts(dropna=False, normalize=True).apply(lambda x: '%.5f' % x)"
   ]
  },
  {
   "cell_type": "code",
   "execution_count": null,
   "id": "bc005dc8-35c6-4057-bb98-0de8f7e54d49",
   "metadata": {},
   "outputs": [],
   "source": [
    "df['Comment'].value_counts(dropna=False, normalize=True).nlargest(5).plot(kind='bar',            \n",
    "                                                                          title='Comment Top 5 Types Proportion of Data',           \n",
    "                                                                          figsize=(10, 5));"
   ]
  }
 ],
 "metadata": {
  "kernelspec": {
   "display_name": "Python 3 (ipykernel)",
   "language": "python",
   "name": "python3"
  },
  "language_info": {
   "codemirror_mode": {
    "name": "ipython",
    "version": 3
   },
   "file_extension": ".py",
   "mimetype": "text/x-python",
   "name": "python",
   "nbconvert_exporter": "python",
   "pygments_lexer": "ipython3",
   "version": "3.9.12"
  }
 },
 "nbformat": 4,
 "nbformat_minor": 5
}
