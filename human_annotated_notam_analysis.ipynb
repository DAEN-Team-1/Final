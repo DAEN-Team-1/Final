{
 "cells": [
  {
   "cell_type": "markdown",
   "id": "ddf3a303-2db2-44a2-ae0d-beeaf7885aa9",
   "metadata": {
    "tags": []
   },
   "source": [
    "# Human Annotated NOTAM Analysis\n",
    "\n",
    "Please note that the data for this analysis is saved locally in a `MatchingLaunchNOTAM_GMUCapstone_20220603` folder that is one level above (a parent folder) to where the [GitHub](https://github.com/DAEN-Team-1/Final \"GitHub\") files have been saved. This was done because a lot of the data files are too large to be included in the GitHub repoo."
   ]
  },
  {
   "cell_type": "code",
   "execution_count": 1,
   "id": "4a2f8dce-fc83-4c88-a53c-eb88dad88747",
   "metadata": {},
   "outputs": [],
   "source": [
    "# imports\n",
    "import pandas as pd\n",
    "# import bamboolib as bam"
   ]
  },
  {
   "cell_type": "markdown",
   "id": "87f808e1-b393-4da7-b4ae-1c252a49ab21",
   "metadata": {},
   "source": [
    "Read in data"
   ]
  },
  {
   "cell_type": "code",
   "execution_count": 55,
   "id": "e4af64bb-cd26-4263-9e62-807bce7ace97",
   "metadata": {},
   "outputs": [],
   "source": [
    "# Read in csv (not enough headers for data, so using custom one)\n",
    "names = ['LAUNCHES_REC_ID', 'NOTAM_REC_ID', 'LowerAltitude', 'UpperAltitude', 'IssueTime', 'StartTime', 'StopTime', 'E_CODE',\n",
    "         '0_no_header', '1_no_header', '2_no_header', '3_no_header', '4_no_header', '5_no_header', '6_no_header', '7_no_header',\n",
    "         '8_no_header', '9_no_header', '10_no_header', '11_no_header', '12_no_header', '13_no_header', '14_no_header']\n",
    "\n",
    "date_cols = ['IssueTime', 'StartTime', 'StopTime']\n",
    "\n",
    "df = pd.read_csv('../MatchingLaunchNOTAM_GMUCapstone_20220603/HumanAnnotatedMatches_SVO_DB_20200127.csv',\n",
    "                 encoding='UTF-8', on_bad_lines='skip', engine=\"python\", delimiter=',',\n",
    "                 names=names) #, parse_dates=date_cols, infer_datetime_format=True)                "
   ]
  },
  {
   "cell_type": "code",
   "execution_count": 56,
   "id": "a8a54f8c-4f63-4345-86ee-26d160f3eaaf",
   "metadata": {},
   "outputs": [],
   "source": [
    "# Drop previous headers\n",
    "df = df.drop(0)\n",
    "df.reset_index(inplace=True, drop=True)"
   ]
  },
  {
   "cell_type": "code",
   "execution_count": 6,
   "id": "bb3452b2-4dd8-478f-bf13-8b87f3151ed4",
   "metadata": {},
   "outputs": [
    {
     "data": {
      "text/html": [
       "<div>\n",
       "<style scoped>\n",
       "    .dataframe tbody tr th:only-of-type {\n",
       "        vertical-align: middle;\n",
       "    }\n",
       "\n",
       "    .dataframe tbody tr th {\n",
       "        vertical-align: top;\n",
       "    }\n",
       "\n",
       "    .dataframe thead th {\n",
       "        text-align: right;\n",
       "    }\n",
       "</style>\n",
       "<table border=\"1\" class=\"dataframe\">\n",
       "  <thead>\n",
       "    <tr style=\"text-align: right;\">\n",
       "      <th></th>\n",
       "      <th>LAUNCHES_REC_ID</th>\n",
       "      <th>NOTAM_REC_ID</th>\n",
       "      <th>LowerAltitude</th>\n",
       "      <th>UpperAltitude</th>\n",
       "      <th>IssueTime</th>\n",
       "      <th>StartTime</th>\n",
       "      <th>StopTime</th>\n",
       "      <th>E_CODE</th>\n",
       "      <th>0_no_header</th>\n",
       "      <th>1_no_header</th>\n",
       "      <th>...</th>\n",
       "      <th>5_no_header</th>\n",
       "      <th>6_no_header</th>\n",
       "      <th>7_no_header</th>\n",
       "      <th>8_no_header</th>\n",
       "      <th>9_no_header</th>\n",
       "      <th>10_no_header</th>\n",
       "      <th>11_no_header</th>\n",
       "      <th>12_no_header</th>\n",
       "      <th>13_no_header</th>\n",
       "      <th>14_no_header</th>\n",
       "    </tr>\n",
       "  </thead>\n",
       "  <tbody>\n",
       "    <tr>\n",
       "      <th>0</th>\n",
       "      <td>391</td>\n",
       "      <td>848687</td>\n",
       "      <td>0</td>\n",
       "      <td>50000</td>\n",
       "      <td>2018-04-01 11:24:00</td>\n",
       "      <td>2018-04-02 18:22:00</td>\n",
       "      <td>2018-04-02 21:08:00</td>\n",
       "      <td>WARNING AREA W497A ACT</td>\n",
       "      <td>None</td>\n",
       "      <td>None</td>\n",
       "      <td>...</td>\n",
       "      <td>None</td>\n",
       "      <td>None</td>\n",
       "      <td>None</td>\n",
       "      <td>None</td>\n",
       "      <td>None</td>\n",
       "      <td>None</td>\n",
       "      <td>None</td>\n",
       "      <td>None</td>\n",
       "      <td>None</td>\n",
       "      <td>None</td>\n",
       "    </tr>\n",
       "    <tr>\n",
       "      <th>1</th>\n",
       "      <td>391</td>\n",
       "      <td>835580</td>\n",
       "      <td>0</td>\n",
       "      <td>180000</td>\n",
       "      <td>2018-03-28 09:47:00</td>\n",
       "      <td>2018-04-02 19:52:00</td>\n",
       "      <td>2018-04-02 21:08:00</td>\n",
       "      <td>FL..AIRSPACE CAPE CANAVERAL FL..TEMPORARY FLT ...</td>\n",
       "      <td>FLT LIMITATION IN  THE PROXIMITY OF SPACE FLT...</td>\n",
       "      <td>OPS BY FAA CERT PILOTS OR U.S.REG ACFT ARE PR...</td>\n",
       "      <td>...</td>\n",
       "      <td>R2934</td>\n",
       "      <td>AND PORTIONS OF W137F</td>\n",
       "      <td>W137G</td>\n",
       "      <td>W497A. ADDITIONAL WARNING AND RESTRICTED AREA...</td>\n",
       "      <td>None</td>\n",
       "      <td>None</td>\n",
       "      <td>None</td>\n",
       "      <td>None</td>\n",
       "      <td>None</td>\n",
       "      <td>None</td>\n",
       "    </tr>\n",
       "    <tr>\n",
       "      <th>2</th>\n",
       "      <td>391</td>\n",
       "      <td>835582</td>\n",
       "      <td>0</td>\n",
       "      <td>180000</td>\n",
       "      <td>2018-03-28 09:48:00</td>\n",
       "      <td>2018-04-02 19:52:00</td>\n",
       "      <td>2018-04-02 21:08:00</td>\n",
       "      <td>FL..AIRSPACE CAPE CANAVERAL FL..TEMPORARY FLT ...</td>\n",
       "      <td>FLT LIMITATION IN  THE PROXIMITY OF SPACE FLT...</td>\n",
       "      <td>OPS BY FAA CERT PILOTS OR U.S.REG ACFT ARE PR...</td>\n",
       "      <td>...</td>\n",
       "      <td>R2934</td>\n",
       "      <td>AND PORTIONS OF W137F</td>\n",
       "      <td>W137G</td>\n",
       "      <td>W497A. ADDITIONAL WARNING AND RESTRICTED AREA...</td>\n",
       "      <td>None</td>\n",
       "      <td>None</td>\n",
       "      <td>None</td>\n",
       "      <td>None</td>\n",
       "      <td>None</td>\n",
       "      <td>None</td>\n",
       "    </tr>\n",
       "    <tr>\n",
       "      <th>3</th>\n",
       "      <td>391</td>\n",
       "      <td>848685</td>\n",
       "      <td>0</td>\n",
       "      <td>180000</td>\n",
       "      <td>2018-03-28 09:48:00</td>\n",
       "      <td>2018-04-02 19:52:00</td>\n",
       "      <td>2018-04-02 21:08:00</td>\n",
       "      <td>CAPE CANAVERAL FL..TEMPORARY FLT  RESTRICTION....</td>\n",
       "      <td>FLT LIMITATION IN  THE PROXIMITY OF SPACE FLT...</td>\n",
       "      <td>OPS BY FAA CERT PILOTS OR U.S.REG ACFT ARE PR...</td>\n",
       "      <td>...</td>\n",
       "      <td>R2934</td>\n",
       "      <td>AND PORTIONS OF W137F</td>\n",
       "      <td>W137G</td>\n",
       "      <td>W497A. ADDITIONAL WARNING AND RESTRICTED AREA...</td>\n",
       "      <td>None</td>\n",
       "      <td>None</td>\n",
       "      <td>None</td>\n",
       "      <td>None</td>\n",
       "      <td>None</td>\n",
       "      <td>None</td>\n",
       "    </tr>\n",
       "    <tr>\n",
       "      <th>4</th>\n",
       "      <td>391</td>\n",
       "      <td>848684</td>\n",
       "      <td>0</td>\n",
       "      <td>180000</td>\n",
       "      <td>2018-03-28 09:50:00</td>\n",
       "      <td>2018-04-02 19:52:00</td>\n",
       "      <td>2018-04-02 21:08:00</td>\n",
       "      <td>TEMPORARY FLT RESTRICTION.  PURSUANT TO 14 CFR...</td>\n",
       "      <td>FLT LIMITATION IN  THE PROXIMITY OF SPACE FLT...</td>\n",
       "      <td>OPS BY FAA CERT PILOTS OR U.S.REG ACFT ARE PR...</td>\n",
       "      <td>...</td>\n",
       "      <td>R2934</td>\n",
       "      <td>AND PORTIONS OF W137F</td>\n",
       "      <td>W137G</td>\n",
       "      <td>W497A. ADDITIONAL WARNING AND RESTRICTED AREA...</td>\n",
       "      <td>None</td>\n",
       "      <td>None</td>\n",
       "      <td>None</td>\n",
       "      <td>None</td>\n",
       "      <td>None</td>\n",
       "      <td>None</td>\n",
       "    </tr>\n",
       "  </tbody>\n",
       "</table>\n",
       "<p>5 rows × 23 columns</p>\n",
       "</div>"
      ],
      "text/plain": [
       "  LAUNCHES_REC_ID NOTAM_REC_ID LowerAltitude UpperAltitude  \\\n",
       "0             391       848687             0         50000   \n",
       "1             391       835580             0        180000   \n",
       "2             391       835582             0        180000   \n",
       "3             391       848685             0        180000   \n",
       "4             391       848684             0        180000   \n",
       "\n",
       "             IssueTime            StartTime             StopTime  \\\n",
       "0  2018-04-01 11:24:00  2018-04-02 18:22:00  2018-04-02 21:08:00   \n",
       "1  2018-03-28 09:47:00  2018-04-02 19:52:00  2018-04-02 21:08:00   \n",
       "2  2018-03-28 09:48:00  2018-04-02 19:52:00  2018-04-02 21:08:00   \n",
       "3  2018-03-28 09:48:00  2018-04-02 19:52:00  2018-04-02 21:08:00   \n",
       "4  2018-03-28 09:50:00  2018-04-02 19:52:00  2018-04-02 21:08:00   \n",
       "\n",
       "                                              E_CODE  \\\n",
       "0                             WARNING AREA W497A ACT   \n",
       "1  FL..AIRSPACE CAPE CANAVERAL FL..TEMPORARY FLT ...   \n",
       "2  FL..AIRSPACE CAPE CANAVERAL FL..TEMPORARY FLT ...   \n",
       "3  CAPE CANAVERAL FL..TEMPORARY FLT  RESTRICTION....   \n",
       "4  TEMPORARY FLT RESTRICTION.  PURSUANT TO 14 CFR...   \n",
       "\n",
       "                                         0_no_header  \\\n",
       "0                                               None   \n",
       "1   FLT LIMITATION IN  THE PROXIMITY OF SPACE FLT...   \n",
       "2   FLT LIMITATION IN  THE PROXIMITY OF SPACE FLT...   \n",
       "3   FLT LIMITATION IN  THE PROXIMITY OF SPACE FLT...   \n",
       "4   FLT LIMITATION IN  THE PROXIMITY OF SPACE FLT...   \n",
       "\n",
       "                                         1_no_header  ... 5_no_header  \\\n",
       "0                                               None  ...        None   \n",
       "1   OPS BY FAA CERT PILOTS OR U.S.REG ACFT ARE PR...  ...       R2934   \n",
       "2   OPS BY FAA CERT PILOTS OR U.S.REG ACFT ARE PR...  ...       R2934   \n",
       "3   OPS BY FAA CERT PILOTS OR U.S.REG ACFT ARE PR...  ...       R2934   \n",
       "4   OPS BY FAA CERT PILOTS OR U.S.REG ACFT ARE PR...  ...       R2934   \n",
       "\n",
       "              6_no_header 7_no_header  \\\n",
       "0                    None        None   \n",
       "1   AND PORTIONS OF W137F       W137G   \n",
       "2   AND PORTIONS OF W137F       W137G   \n",
       "3   AND PORTIONS OF W137F       W137G   \n",
       "4   AND PORTIONS OF W137F       W137G   \n",
       "\n",
       "                                         8_no_header 9_no_header 10_no_header  \\\n",
       "0                                               None        None         None   \n",
       "1   W497A. ADDITIONAL WARNING AND RESTRICTED AREA...        None         None   \n",
       "2   W497A. ADDITIONAL WARNING AND RESTRICTED AREA...        None         None   \n",
       "3   W497A. ADDITIONAL WARNING AND RESTRICTED AREA...        None         None   \n",
       "4   W497A. ADDITIONAL WARNING AND RESTRICTED AREA...        None         None   \n",
       "\n",
       "  11_no_header 12_no_header 13_no_header 14_no_header  \n",
       "0         None         None         None         None  \n",
       "1         None         None         None         None  \n",
       "2         None         None         None         None  \n",
       "3         None         None         None         None  \n",
       "4         None         None         None         None  \n",
       "\n",
       "[5 rows x 23 columns]"
      ]
     },
     "execution_count": 6,
     "metadata": {},
     "output_type": "execute_result"
    }
   ],
   "source": [
    "df.head()"
   ]
  },
  {
   "cell_type": "markdown",
   "id": "d20687ba-c110-4636-8c79-061628958cab",
   "metadata": {},
   "source": [
    "Look at df info\n",
    "* Out of 23 columns, only 8 had headers in the spreadsheet. Need to analyze this to see why. "
   ]
  },
  {
   "cell_type": "code",
   "execution_count": 44,
   "id": "4201d992-165a-41c7-8f0f-d9751df07690",
   "metadata": {},
   "outputs": [
    {
     "name": "stdout",
     "output_type": "stream",
     "text": [
      "<class 'pandas.core.frame.DataFrame'>\n",
      "RangeIndex: 453 entries, 0 to 452\n",
      "Data columns (total 23 columns):\n",
      " #   Column           Non-Null Count  Dtype \n",
      "---  ------           --------------  ----- \n",
      " 0   LAUNCHES_REC_ID  453 non-null    object\n",
      " 1   NOTAM_REC_ID     453 non-null    object\n",
      " 2   LowerAltitude    451 non-null    object\n",
      " 3   UpperAltitude    428 non-null    object\n",
      " 4   IssueTime        453 non-null    object\n",
      " 5   StartTime        453 non-null    object\n",
      " 6   StopTime         453 non-null    object\n",
      " 7   E_CODE           453 non-null    object\n",
      " 8   0_no_header      192 non-null    object\n",
      " 9   1_no_header      189 non-null    object\n",
      " 10  2_no_header      163 non-null    object\n",
      " 11  3_no_header      161 non-null    object\n",
      " 12  4_no_header      159 non-null    object\n",
      " 13  5_no_header      158 non-null    object\n",
      " 14  6_no_header      158 non-null    object\n",
      " 15  7_no_header      155 non-null    object\n",
      " 16  8_no_header      152 non-null    object\n",
      " 17  9_no_header      41 non-null     object\n",
      " 18  10_no_header     2 non-null      object\n",
      " 19  11_no_header     1 non-null      object\n",
      " 20  12_no_header     1 non-null      object\n",
      " 21  13_no_header     1 non-null      object\n",
      " 22  14_no_header     1 non-null      object\n",
      "dtypes: object(23)\n",
      "memory usage: 81.5+ KB\n"
     ]
    }
   ],
   "source": [
    "df.info()"
   ]
  },
  {
   "cell_type": "markdown",
   "id": "f26b1134-b635-4ea8-ba38-4a1f8b66d3d1",
   "metadata": {},
   "source": [
    "Look at longest row"
   ]
  },
  {
   "cell_type": "code",
   "execution_count": 12,
   "id": "242d9b98-dc8c-4786-b81e-96042c7082ff",
   "metadata": {},
   "outputs": [
    {
     "data": {
      "text/plain": [
       "LAUNCHES_REC_ID                                                  263\n",
       "NOTAM_REC_ID                                                   82263\n",
       "LowerAltitude                                                      0\n",
       "UpperAltitude                                                 180000\n",
       "IssueTime                                        2016-08-16 09:15:00\n",
       "StartTime                                        2016-08-19 02:47:00\n",
       "StopTime                                         2016-08-19 06:23:00\n",
       "E_CODE                      EROP D6556 ATTENTION AIRLINE DISPATCHERS\n",
       "0_no_header         SOME OPERATORS APPEAR TO BE USING THE NOTAM B...\n",
       "1_no_header         KZNY ARTCC/OAC &amp; TJZS ARTCC /OAC WILL NOT...\n",
       "2_no_header                             50NM BETWEEN 6000W AND 5500W\n",
       "3_no_header         AND 60NM EAST OF 5500W OR WITHIN AFFECTED WAR...\n",
       "4_no_header        R2934 AND CFR 91.143 SFC-UNL. EFF: 1608190447 ...\n",
       "5_no_header                                                     AR15\n",
       "6_no_header                                                     AR19\n",
       "7_no_header                                                     AR21\n",
       "8_no_header                                                AR22 L435\n",
       "9_no_header         AND Y585. FOR FLIGHTS FILED OVER OMN ON THE F...\n",
       "10_no_header                                                   GISSH\n",
       "11_no_header                                                   FRWAY\n",
       "12_no_header                                                   TUXXI\n",
       "13_no_header        CAYSL EXPECT OMN J79 TRV AND TRV TRANSITION T...\n",
       "14_no_header        SOME AIRLINE OPERATIONS ARE REROUTING FLIGHTS...\n",
       "Name: 141, dtype: object"
      ]
     },
     "execution_count": 12,
     "metadata": {},
     "output_type": "execute_result"
    }
   ],
   "source": [
    "df.iloc[141]"
   ]
  },
  {
   "cell_type": "markdown",
   "id": "9b5087b0-154e-4028-b732-9fab2013554f",
   "metadata": {},
   "source": [
    "Descirbe the df\n",
    "* Columsn with headers seem to be mostly filled (only `UpperAltitude` and `UpperAltitude` seem to be missing some values). \n",
    "* Columns that did not have headers are missing much more data. "
   ]
  },
  {
   "cell_type": "code",
   "execution_count": 16,
   "id": "5b90fedb-cc15-4045-868e-451f6174a9d8",
   "metadata": {},
   "outputs": [
    {
     "data": {
      "text/html": [
       "<div>\n",
       "<style scoped>\n",
       "    .dataframe tbody tr th:only-of-type {\n",
       "        vertical-align: middle;\n",
       "    }\n",
       "\n",
       "    .dataframe tbody tr th {\n",
       "        vertical-align: top;\n",
       "    }\n",
       "\n",
       "    .dataframe thead th {\n",
       "        text-align: right;\n",
       "    }\n",
       "</style>\n",
       "<table border=\"1\" class=\"dataframe\">\n",
       "  <thead>\n",
       "    <tr style=\"text-align: right;\">\n",
       "      <th></th>\n",
       "      <th>LAUNCHES_REC_ID</th>\n",
       "      <th>NOTAM_REC_ID</th>\n",
       "      <th>LowerAltitude</th>\n",
       "      <th>UpperAltitude</th>\n",
       "      <th>IssueTime</th>\n",
       "      <th>StartTime</th>\n",
       "      <th>StopTime</th>\n",
       "      <th>E_CODE</th>\n",
       "      <th>0_no_header</th>\n",
       "      <th>1_no_header</th>\n",
       "      <th>...</th>\n",
       "      <th>5_no_header</th>\n",
       "      <th>6_no_header</th>\n",
       "      <th>7_no_header</th>\n",
       "      <th>8_no_header</th>\n",
       "      <th>9_no_header</th>\n",
       "      <th>10_no_header</th>\n",
       "      <th>11_no_header</th>\n",
       "      <th>12_no_header</th>\n",
       "      <th>13_no_header</th>\n",
       "      <th>14_no_header</th>\n",
       "    </tr>\n",
       "  </thead>\n",
       "  <tbody>\n",
       "    <tr>\n",
       "      <th>count</th>\n",
       "      <td>452</td>\n",
       "      <td>452</td>\n",
       "      <td>450</td>\n",
       "      <td>427</td>\n",
       "      <td>452</td>\n",
       "      <td>452</td>\n",
       "      <td>452</td>\n",
       "      <td>452</td>\n",
       "      <td>192</td>\n",
       "      <td>189</td>\n",
       "      <td>...</td>\n",
       "      <td>158</td>\n",
       "      <td>158</td>\n",
       "      <td>155</td>\n",
       "      <td>152</td>\n",
       "      <td>41</td>\n",
       "      <td>2</td>\n",
       "      <td>1</td>\n",
       "      <td>1</td>\n",
       "      <td>1</td>\n",
       "      <td>1</td>\n",
       "    </tr>\n",
       "    <tr>\n",
       "      <th>unique</th>\n",
       "      <td>62</td>\n",
       "      <td>449</td>\n",
       "      <td>12</td>\n",
       "      <td>15</td>\n",
       "      <td>338</td>\n",
       "      <td>132</td>\n",
       "      <td>80</td>\n",
       "      <td>152</td>\n",
       "      <td>38</td>\n",
       "      <td>52</td>\n",
       "      <td>...</td>\n",
       "      <td>11</td>\n",
       "      <td>14</td>\n",
       "      <td>15</td>\n",
       "      <td>27</td>\n",
       "      <td>20</td>\n",
       "      <td>2</td>\n",
       "      <td>1</td>\n",
       "      <td>1</td>\n",
       "      <td>1</td>\n",
       "      <td>1</td>\n",
       "    </tr>\n",
       "    <tr>\n",
       "      <th>top</th>\n",
       "      <td>262</td>\n",
       "      <td>388267</td>\n",
       "      <td>0</td>\n",
       "      <td>180000</td>\n",
       "      <td>2016-08-16 12:03:00</td>\n",
       "      <td>2019-04-11 22:01:00</td>\n",
       "      <td>2016-08-17 01:30:00</td>\n",
       "      <td>W497A ACT</td>\n",
       "      <td>FLT LIMITATION IN  THE PROXIMITY OF SPACE FLT...</td>\n",
       "      <td>OPS BY FAA CERT PILOTS OR U.S.REG ACFT ARE PR...</td>\n",
       "      <td>...</td>\n",
       "      <td>R2934</td>\n",
       "      <td>AND PORTIONS OF W137F</td>\n",
       "      <td>W137G</td>\n",
       "      <td>W497A. ADDITIONAL WARNING AND RESTRICTED AREA...</td>\n",
       "      <td>W137F AND W137G. ADDITIONAL WARNING AND RESTR...</td>\n",
       "      <td>GISSH</td>\n",
       "      <td>FRWAY</td>\n",
       "      <td>TUXXI</td>\n",
       "      <td>CAYSL EXPECT OMN J79 TRV AND TRV TRANSITION T...</td>\n",
       "      <td>SOME AIRLINE OPERATIONS ARE REROUTING FLIGHTS...</td>\n",
       "    </tr>\n",
       "    <tr>\n",
       "      <th>freq</th>\n",
       "      <td>18</td>\n",
       "      <td>3</td>\n",
       "      <td>341</td>\n",
       "      <td>184</td>\n",
       "      <td>7</td>\n",
       "      <td>11</td>\n",
       "      <td>18</td>\n",
       "      <td>74</td>\n",
       "      <td>69</td>\n",
       "      <td>43</td>\n",
       "      <td>...</td>\n",
       "      <td>99</td>\n",
       "      <td>66</td>\n",
       "      <td>68</td>\n",
       "      <td>57</td>\n",
       "      <td>7</td>\n",
       "      <td>1</td>\n",
       "      <td>1</td>\n",
       "      <td>1</td>\n",
       "      <td>1</td>\n",
       "      <td>1</td>\n",
       "    </tr>\n",
       "  </tbody>\n",
       "</table>\n",
       "<p>4 rows × 23 columns</p>\n",
       "</div>"
      ],
      "text/plain": [
       "       LAUNCHES_REC_ID NOTAM_REC_ID LowerAltitude UpperAltitude  \\\n",
       "count              452          452           450           427   \n",
       "unique              62          449            12            15   \n",
       "top                262       388267             0        180000   \n",
       "freq                18            3           341           184   \n",
       "\n",
       "                  IssueTime            StartTime             StopTime  \\\n",
       "count                   452                  452                  452   \n",
       "unique                  338                  132                   80   \n",
       "top     2016-08-16 12:03:00  2019-04-11 22:01:00  2016-08-17 01:30:00   \n",
       "freq                      7                   11                   18   \n",
       "\n",
       "           E_CODE                                        0_no_header  \\\n",
       "count         452                                                192   \n",
       "unique        152                                                 38   \n",
       "top     W497A ACT   FLT LIMITATION IN  THE PROXIMITY OF SPACE FLT...   \n",
       "freq           74                                                 69   \n",
       "\n",
       "                                              1_no_header  ... 5_no_header  \\\n",
       "count                                                 189  ...         158   \n",
       "unique                                                 52  ...          11   \n",
       "top      OPS BY FAA CERT PILOTS OR U.S.REG ACFT ARE PR...  ...       R2934   \n",
       "freq                                                   43  ...          99   \n",
       "\n",
       "                   6_no_header 7_no_header  \\\n",
       "count                      158         155   \n",
       "unique                      14          15   \n",
       "top      AND PORTIONS OF W137F       W137G   \n",
       "freq                        66          68   \n",
       "\n",
       "                                              8_no_header  \\\n",
       "count                                                 152   \n",
       "unique                                                 27   \n",
       "top      W497A. ADDITIONAL WARNING AND RESTRICTED AREA...   \n",
       "freq                                                   57   \n",
       "\n",
       "                                              9_no_header 10_no_header  \\\n",
       "count                                                  41            2   \n",
       "unique                                                 20            2   \n",
       "top      W137F AND W137G. ADDITIONAL WARNING AND RESTR...        GISSH   \n",
       "freq                                                    7            1   \n",
       "\n",
       "       11_no_header 12_no_header  \\\n",
       "count             1            1   \n",
       "unique            1            1   \n",
       "top           FRWAY        TUXXI   \n",
       "freq              1            1   \n",
       "\n",
       "                                             13_no_header  \\\n",
       "count                                                   1   \n",
       "unique                                                  1   \n",
       "top      CAYSL EXPECT OMN J79 TRV AND TRV TRANSITION T...   \n",
       "freq                                                    1   \n",
       "\n",
       "                                             14_no_header  \n",
       "count                                                   1  \n",
       "unique                                                  1  \n",
       "top      SOME AIRLINE OPERATIONS ARE REROUTING FLIGHTS...  \n",
       "freq                                                    1  \n",
       "\n",
       "[4 rows x 23 columns]"
      ]
     },
     "execution_count": 16,
     "metadata": {},
     "output_type": "execute_result"
    }
   ],
   "source": [
    "df.describe()"
   ]
  },
  {
   "cell_type": "markdown",
   "id": "993740a8-5362-4165-a684-edb21bb2054a",
   "metadata": {},
   "source": [
    "## Column Analysis"
   ]
  },
  {
   "cell_type": "markdown",
   "id": "adeec600-ccb1-4933-b1e9-ddc19152e0cf",
   "metadata": {
    "jp-MarkdownHeadingCollapsed": true,
    "tags": []
   },
   "source": [
    "#### LAUNCHES_REC_ID\n",
    "* Included in NOTAM Analysis CSV, but all values were NaN. \n",
    "* Repeats, but none cover more than 4% of the data. "
   ]
  },
  {
   "cell_type": "code",
   "execution_count": 13,
   "id": "cd0d8566-bb38-4b58-8853-ed0f5638023a",
   "metadata": {},
   "outputs": [
    {
     "data": {
      "text/plain": [
       "0      391\n",
       "1      391\n",
       "2      391\n",
       "3      391\n",
       "4      391\n",
       "      ... \n",
       "447    300\n",
       "448    300\n",
       "449    300\n",
       "450    300\n",
       "451    300\n",
       "Name: LAUNCHES_REC_ID, Length: 452, dtype: object"
      ]
     },
     "execution_count": 13,
     "metadata": {},
     "output_type": "execute_result"
    }
   ],
   "source": [
    "df['LAUNCHES_REC_ID']"
   ]
  },
  {
   "cell_type": "code",
   "execution_count": 14,
   "id": "65a8341b-3d72-4398-b48c-5325054f793c",
   "metadata": {},
   "outputs": [
    {
     "data": {
      "text/plain": [
       "262    18\n",
       "456    13\n",
       "400    13\n",
       "355    12\n",
       "312    12\n",
       "       ..\n",
       "510     3\n",
       "359     3\n",
       "301     2\n",
       "514     2\n",
       "511     2\n",
       "Name: LAUNCHES_REC_ID, Length: 62, dtype: int64"
      ]
     },
     "execution_count": 14,
     "metadata": {},
     "output_type": "execute_result"
    }
   ],
   "source": [
    "df['LAUNCHES_REC_ID'].value_counts()"
   ]
  },
  {
   "cell_type": "code",
   "execution_count": 15,
   "id": "e9787ec7-fa43-4807-9ad3-070bd3c2ab18",
   "metadata": {},
   "outputs": [
    {
     "data": {
      "text/plain": [
       "262    0.03982\n",
       "456    0.02876\n",
       "400    0.02876\n",
       "355    0.02655\n",
       "312    0.02655\n",
       "        ...   \n",
       "510    0.00664\n",
       "359    0.00664\n",
       "301    0.00442\n",
       "514    0.00442\n",
       "511    0.00442\n",
       "Name: LAUNCHES_REC_ID, Length: 62, dtype: object"
      ]
     },
     "execution_count": 15,
     "metadata": {},
     "output_type": "execute_result"
    }
   ],
   "source": [
    "df['LAUNCHES_REC_ID'].value_counts(dropna=False, normalize=True).apply(lambda x: '%.5f' % x)"
   ]
  },
  {
   "cell_type": "markdown",
   "id": "344eb3c6-383b-4589-a5e0-d4e621712738",
   "metadata": {
    "jp-MarkdownHeadingCollapsed": true,
    "tags": []
   },
   "source": [
    "#### NOTAM_REC_ID\n",
    "* Included in NOTAM Analysis CSV\n",
    "* Not all entries have some number of characters\n",
    "* `388267` repeats 3x, while `83024` repeats 2x, all other values occur only once\n",
    "* No NaNs"
   ]
  },
  {
   "cell_type": "code",
   "execution_count": 17,
   "id": "f3d46fa6-fe1a-4c58-a2fc-2a544f4bf937",
   "metadata": {},
   "outputs": [
    {
     "data": {
      "text/plain": [
       "0      848687\n",
       "1      835580\n",
       "2      835582\n",
       "3      848685\n",
       "4      848684\n",
       "        ...  \n",
       "447    317605\n",
       "448    329275\n",
       "449    329277\n",
       "450    329276\n",
       "451    323210\n",
       "Name: NOTAM_REC_ID, Length: 452, dtype: object"
      ]
     },
     "execution_count": 17,
     "metadata": {},
     "output_type": "execute_result"
    }
   ],
   "source": [
    "df['NOTAM_REC_ID']"
   ]
  },
  {
   "cell_type": "code",
   "execution_count": 20,
   "id": "549d5c5f-053a-4c45-9eb5-709b6bcc6683",
   "metadata": {},
   "outputs": [
    {
     "data": {
      "text/plain": [
       "388267     3\n",
       "83024      2\n",
       "848687     1\n",
       "84241      1\n",
       "1036028    1\n",
       "          ..\n",
       "82303      1\n",
       "82275      1\n",
       "93347      1\n",
       "93346      1\n",
       "323210     1\n",
       "Name: NOTAM_REC_ID, Length: 449, dtype: int64"
      ]
     },
     "execution_count": 20,
     "metadata": {},
     "output_type": "execute_result"
    }
   ],
   "source": [
    "df['NOTAM_REC_ID'].value_counts(dropna=False)"
   ]
  },
  {
   "cell_type": "markdown",
   "id": "6ae4b5e0-01c2-4575-ba94-582925913967",
   "metadata": {
    "jp-MarkdownHeadingCollapsed": true,
    "tags": []
   },
   "source": [
    "#### LowerAltitude\n",
    "* NOTAM Analysis CSV equivalent seems to be `MIN_ALT`\n",
    "* Convert to floats\n",
    "* Majority are 0.0, at 75%\n",
    "    * Could this suggest ground based issues?\n",
    "* Next 5 categories cover at least 1% of the data\n",
    "* A couple of NaNs\n",
    "* Repeats\n",
    "* Includes chart"
   ]
  },
  {
   "cell_type": "code",
   "execution_count": 28,
   "id": "c4a83c8d-4b00-4bd6-9029-e767bb28726e",
   "metadata": {},
   "outputs": [],
   "source": [
    "df['LowerAltitude'] = pd.to_numeric(df['LowerAltitude'])"
   ]
  },
  {
   "cell_type": "code",
   "execution_count": 29,
   "id": "5bd7d384-6bd7-4319-958a-0e0e9ed3be1b",
   "metadata": {},
   "outputs": [
    {
     "data": {
      "text/plain": [
       "0          0.0\n",
       "1          0.0\n",
       "2          0.0\n",
       "3          0.0\n",
       "4          0.0\n",
       "        ...   \n",
       "447    50000.0\n",
       "448        0.0\n",
       "449        0.0\n",
       "450        0.0\n",
       "451        0.0\n",
       "Name: LowerAltitude, Length: 452, dtype: float64"
      ]
     },
     "execution_count": 29,
     "metadata": {},
     "output_type": "execute_result"
    }
   ],
   "source": [
    "df['LowerAltitude']"
   ]
  },
  {
   "cell_type": "code",
   "execution_count": 30,
   "id": "68f1b2b2-709e-4b14-8e80-c4e077aa5d2f",
   "metadata": {},
   "outputs": [
    {
     "data": {
      "text/plain": [
       "0.0         341\n",
       "50000.0      33\n",
       "180000.0     31\n",
       "5000.0       29\n",
       "60000.0       5\n",
       "2000.0        3\n",
       "1000.0        3\n",
       "NaN           2\n",
       "90000.0       1\n",
       "110000.0      1\n",
       "80000.0       1\n",
       "150000.0      1\n",
       "70000.0       1\n",
       "Name: LowerAltitude, dtype: int64"
      ]
     },
     "execution_count": 30,
     "metadata": {},
     "output_type": "execute_result"
    }
   ],
   "source": [
    "df['LowerAltitude'].value_counts(dropna=False)"
   ]
  },
  {
   "cell_type": "code",
   "execution_count": 31,
   "id": "ccab1031-2b8e-42b4-87bd-154fe771ba70",
   "metadata": {},
   "outputs": [
    {
     "data": {
      "text/plain": [
       "0.0         0.75442\n",
       "50000.0     0.07301\n",
       "180000.0    0.06858\n",
       "5000.0      0.06416\n",
       "60000.0     0.01106\n",
       "2000.0      0.00664\n",
       "1000.0      0.00664\n",
       "NaN         0.00442\n",
       "90000.0     0.00221\n",
       "110000.0    0.00221\n",
       "80000.0     0.00221\n",
       "150000.0    0.00221\n",
       "70000.0     0.00221\n",
       "Name: LowerAltitude, dtype: object"
      ]
     },
     "execution_count": 31,
     "metadata": {},
     "output_type": "execute_result"
    }
   ],
   "source": [
    "df['LowerAltitude'].value_counts(dropna=False, normalize=True).apply(lambda x: '%.5f' % x)"
   ]
  },
  {
   "cell_type": "code",
   "execution_count": 32,
   "id": "61859629-e614-49bb-a055-9237fccb1c46",
   "metadata": {},
   "outputs": [
    {
     "data": {
      "image/png": "[encoded data removed]",
      "text/plain": [
       "<Figure size 720x360 with 1 Axes>"
      ]
     },
     "metadata": {
      "needs_background": "light"
     },
     "output_type": "display_data"
    }
   ],
   "source": [
    "df['LowerAltitude'].value_counts(dropna=False, normalize=True).plot(kind='bar', \n",
    "                                                                    title='LowerAltitude Proportion of Data',\n",
    "                                                                    figsize=(10, 5));"
   ]
  },
  {
   "cell_type": "markdown",
   "id": "4b743b3e-6159-43ba-8f25-a3c75855c4a0",
   "metadata": {
    "jp-MarkdownHeadingCollapsed": true,
    "tags": []
   },
   "source": [
    "#### UpperAltitude\n",
    "* NOTAM Analysis CSV equivalent seems to be `MAX_ALT`\n",
    "* Convert to floats\n",
    "* Majority are `180000.0`, `999000.0`, `50000.0`, and `NaN`, covering 41%, 33%, 17%, and 6% of the data, respectively.\n",
    "* No other category covers at least 1% of the data\n",
    "* Repeats\n",
    "* Includes chart"
   ]
  },
  {
   "cell_type": "code",
   "execution_count": 34,
   "id": "8802593f-cfb7-48cc-a49f-12b51e8d28fc",
   "metadata": {},
   "outputs": [],
   "source": [
    "df['UpperAltitude'] = pd.to_numeric(df['UpperAltitude'])"
   ]
  },
  {
   "cell_type": "code",
   "execution_count": 35,
   "id": "fcab55c5-7da1-4319-9a14-e1bac2ceb88f",
   "metadata": {},
   "outputs": [
    {
     "data": {
      "text/plain": [
       "0       50000.0\n",
       "1      180000.0\n",
       "2      180000.0\n",
       "3      180000.0\n",
       "4      180000.0\n",
       "         ...   \n",
       "447    510000.0\n",
       "448     20000.0\n",
       "449     10000.0\n",
       "450     10000.0\n",
       "451    999000.0\n",
       "Name: UpperAltitude, Length: 452, dtype: float64"
      ]
     },
     "execution_count": 35,
     "metadata": {},
     "output_type": "execute_result"
    }
   ],
   "source": [
    "df['UpperAltitude']"
   ]
  },
  {
   "cell_type": "code",
   "execution_count": 36,
   "id": "1dadf5dd-5022-45f2-b2bc-81ae8c4ac405",
   "metadata": {},
   "outputs": [
    {
     "data": {
      "text/plain": [
       "180000.0    184\n",
       "999000.0    149\n",
       "50000.0      75\n",
       "NaN          25\n",
       "500000.0      3\n",
       "69990.0       2\n",
       "109990.0      2\n",
       "35000.0       2\n",
       "79000.0       2\n",
       "10000.0       2\n",
       "800000.0      1\n",
       "149990.0      1\n",
       "90000.0       1\n",
       "70000.0       1\n",
       "510000.0      1\n",
       "20000.0       1\n",
       "Name: UpperAltitude, dtype: int64"
      ]
     },
     "execution_count": 36,
     "metadata": {},
     "output_type": "execute_result"
    }
   ],
   "source": [
    "df['UpperAltitude'].value_counts(dropna=False)"
   ]
  },
  {
   "cell_type": "code",
   "execution_count": 37,
   "id": "ad9b7c3c-502d-49c7-8279-0581870ddffa",
   "metadata": {},
   "outputs": [
    {
     "data": {
      "text/plain": [
       "180000.0    0.40708\n",
       "999000.0    0.32965\n",
       "50000.0     0.16593\n",
       "NaN         0.05531\n",
       "500000.0    0.00664\n",
       "69990.0     0.00442\n",
       "109990.0    0.00442\n",
       "35000.0     0.00442\n",
       "79000.0     0.00442\n",
       "10000.0     0.00442\n",
       "800000.0    0.00221\n",
       "149990.0    0.00221\n",
       "90000.0     0.00221\n",
       "70000.0     0.00221\n",
       "510000.0    0.00221\n",
       "20000.0     0.00221\n",
       "Name: UpperAltitude, dtype: object"
      ]
     },
     "execution_count": 37,
     "metadata": {},
     "output_type": "execute_result"
    }
   ],
   "source": [
    "df['UpperAltitude'].value_counts(dropna=False, normalize=True).apply(lambda x: '%.5f' % x)"
   ]
  },
  {
   "cell_type": "code",
   "execution_count": 38,
   "id": "8a14c796-0385-41a5-b9b7-137bb2a75257",
   "metadata": {},
   "outputs": [
    {
     "data": {
      "image/png": "[encoded data removed]",
      "text/plain": [
       "<Figure size 720x360 with 1 Axes>"
      ]
     },
     "metadata": {
      "needs_background": "light"
     },
     "output_type": "display_data"
    }
   ],
   "source": [
    "df['UpperAltitude'].value_counts(dropna=False, normalize=True).plot(kind='bar', \n",
    "                                                                    title='UpperAltitude Proportion of Data',\n",
    "                                                                    figsize=(10, 5));"
   ]
  },
  {
   "cell_type": "markdown",
   "id": "3863a040-f22d-4230-80ac-aa7c3016b69e",
   "metadata": {
    "jp-MarkdownHeadingCollapsed": true,
    "tags": []
   },
   "source": [
    "#### IssueTime\n",
    "* NOTAM Analysis CSV equivalent seems to be `ISSUE_DATE`\n",
    "* Did not get parsed as dates.\n",
    "    * Parsed through custom fuction\n",
    "* All entries from 2016-2020\n",
    "* Includes chart"
   ]
  },
  {
   "cell_type": "code",
   "execution_count": 64,
   "id": "cddc761e-12bf-471b-aa71-b102ed203a2d",
   "metadata": {},
   "outputs": [],
   "source": [
    "from datetime import datetime\n",
    "def convert_to_date(row):\n",
    "    try:\n",
    "        return datetime.strptime(row, '%Y-%m-%d %H:%M:%S')\n",
    "    except:\n",
    "        return row\n",
    "    \n",
    "def get_year(row):\n",
    "    try:\n",
    "        return row.year\n",
    "    except:\n",
    "        return row\n",
    "\n",
    "def get_month(row):\n",
    "    try:\n",
    "        return row.month\n",
    "    except:\n",
    "        return row\n",
    "    \n",
    "def get_day(row):\n",
    "    try:\n",
    "        return row.day\n",
    "    except:\n",
    "        return row"
   ]
  },
  {
   "cell_type": "code",
   "execution_count": 70,
   "id": "66b54429-d9c5-4aa6-8378-dfdd6485eeb4",
   "metadata": {},
   "outputs": [],
   "source": [
    "df['IssueTime'] = df['IssueTime'].apply(convert_to_date)"
   ]
  },
  {
   "cell_type": "code",
   "execution_count": 71,
   "id": "fdbe6569-7e55-410d-8941-84648ccb726c",
   "metadata": {},
   "outputs": [
    {
     "data": {
      "text/plain": [
       "2016-08-16 12:03:00    7\n",
       "2019-04-11 09:02:00    5\n",
       "2019-04-10 15:02:00    4\n",
       "2017-10-10 15:51:00    3\n",
       "2019-07-24 12:54:00    3\n",
       "                      ..\n",
       "2019-06-09 03:29:00    1\n",
       "2019-02-19 10:28:00    1\n",
       "2019-02-19 10:29:00    1\n",
       "2019-07-24 08:12:00    1\n",
       "2017-03-01 08:31:00    1\n",
       "Name: IssueTime, Length: 338, dtype: int64"
      ]
     },
     "execution_count": 71,
     "metadata": {},
     "output_type": "execute_result"
    }
   ],
   "source": [
    "df['IssueTime'].value_counts(dropna=False)"
   ]
  },
  {
   "cell_type": "code",
   "execution_count": 63,
   "id": "6df1ddac-b4f3-4c74-a852-e892a715285b",
   "metadata": {},
   "outputs": [
    {
     "data": {
      "text/plain": [
       "2016-08-16 12:03:00    0.01549\n",
       "2019-04-11 09:02:00    0.01106\n",
       "2019-04-10 15:02:00    0.00885\n",
       "2017-10-10 15:51:00    0.00664\n",
       "2019-07-24 12:54:00    0.00664\n",
       "                        ...   \n",
       "2019-06-09 03:29:00    0.00221\n",
       "2019-02-19 10:28:00    0.00221\n",
       "2019-02-19 10:29:00    0.00221\n",
       "2019-07-24 08:12:00    0.00221\n",
       "2017-03-01 08:31:00    0.00221\n",
       "Name: IssueTime, Length: 338, dtype: object"
      ]
     },
     "execution_count": 63,
     "metadata": {},
     "output_type": "execute_result"
    }
   ],
   "source": [
    "df['IssueTime'].value_counts(dropna=False, normalize=True).apply(lambda x: '%.5f' % x)"
   ]
  },
  {
   "cell_type": "code",
   "execution_count": 73,
   "id": "3e290a2f-de94-45de-b52a-bdce687d0cfc",
   "metadata": {},
   "outputs": [],
   "source": [
    "df['IssueTime_YEAR']  = df['IssueTime'].apply(get_year)\n",
    "df['IssueTime_MONTH'] = df['IssueTime'].apply(get_month)\n",
    "df['IssueTime_DAY']   = df['IssueTime'].apply(get_day)"
   ]
  },
  {
   "cell_type": "code",
   "execution_count": 74,
   "id": "4c57b62e-9af8-4c07-8547-3b68c9969ee3",
   "metadata": {},
   "outputs": [
    {
     "data": {
      "text/plain": [
       "0      2018\n",
       "1      2018\n",
       "2      2018\n",
       "3      2018\n",
       "4      2018\n",
       "       ... \n",
       "447    2017\n",
       "448    2017\n",
       "449    2017\n",
       "450    2017\n",
       "451    2017\n",
       "Name: IssueTime_YEAR, Length: 452, dtype: int64"
      ]
     },
     "execution_count": 74,
     "metadata": {},
     "output_type": "execute_result"
    }
   ],
   "source": [
    "df['IssueTime_YEAR'] "
   ]
  },
  {
   "cell_type": "code",
   "execution_count": 75,
   "id": "162689a4-e160-4114-bc5d-a7daaf478392",
   "metadata": {},
   "outputs": [
    {
     "data": {
      "text/plain": [
       "2018    160\n",
       "2017    127\n",
       "2016     74\n",
       "2019     72\n",
       "2020     19\n",
       "Name: IssueTime_YEAR, dtype: int64"
      ]
     },
     "execution_count": 75,
     "metadata": {},
     "output_type": "execute_result"
    }
   ],
   "source": [
    "df['IssueTime_YEAR'].value_counts(dropna=False)"
   ]
  },
  {
   "cell_type": "code",
   "execution_count": 76,
   "id": "eb710bf0-adff-44a2-b2f4-1cfbb2894dc3",
   "metadata": {},
   "outputs": [
    {
     "data": {
      "text/plain": [
       "2018    0.35398\n",
       "2017    0.28097\n",
       "2016    0.16372\n",
       "2019    0.15929\n",
       "2020    0.04204\n",
       "Name: IssueTime_YEAR, dtype: object"
      ]
     },
     "execution_count": 76,
     "metadata": {},
     "output_type": "execute_result"
    }
   ],
   "source": [
    "df['IssueTime_YEAR'].value_counts(dropna=False, normalize=True).apply(lambda x: '%.5f' % x)"
   ]
  },
  {
   "cell_type": "code",
   "execution_count": 77,
   "id": "425c2d85-e779-495d-bc74-111eda3419ac",
   "metadata": {},
   "outputs": [
    {
     "data": {
      "image/png": "[encoded data removed]",
      "text/plain": [
       "<Figure size 720x360 with 1 Axes>"
      ]
     },
     "metadata": {
      "needs_background": "light"
     },
     "output_type": "display_data"
    }
   ],
   "source": [
    "df['IssueTime_YEAR'].value_counts(dropna=False).plot(kind='bar',               \n",
    "                                                     title='IssueTime_YEAR Proportion of Data',\n",
    "                                                     figsize=(10, 5));"
   ]
  },
  {
   "cell_type": "markdown",
   "id": "990aac0b-266e-4e1c-ad1d-dfed249ebf4d",
   "metadata": {
    "jp-MarkdownHeadingCollapsed": true,
    "tags": []
   },
   "source": [
    "#### StartTime\n",
    "* NOTAM Analysis CSV equivalent seems to be `POSSIBLE_START_DATE`\n",
    "* Did not get parsed as dates.\n",
    "    * Parsed through custom fuction\n",
    "* All entries from 2016-2020\n",
    "* Includes chart"
   ]
  },
  {
   "cell_type": "code",
   "execution_count": 79,
   "id": "086018db-01fe-467d-a4b6-f039107c70b0",
   "metadata": {},
   "outputs": [],
   "source": [
    "df['StartTime'] = df['StartTime'].apply(convert_to_date)"
   ]
  },
  {
   "cell_type": "code",
   "execution_count": 80,
   "id": "3395a818-7fcd-4a75-b921-cd4a4799c982",
   "metadata": {},
   "outputs": [
    {
     "data": {
      "text/plain": [
       "2019-04-11 22:01:00    11\n",
       "2018-06-29 09:03:00     8\n",
       "2017-03-01 16:30:00     7\n",
       "2018-05-11 18:09:00     7\n",
       "2016-08-17 01:01:00     7\n",
       "                       ..\n",
       "2020-03-07 02:45:00     1\n",
       "2018-10-08 02:06:00     1\n",
       "2020-05-30 17:11:00     1\n",
       "2016-05-06 03:16:00     1\n",
       "2018-04-02 18:22:00     1\n",
       "Name: StartTime, Length: 132, dtype: int64"
      ]
     },
     "execution_count": 80,
     "metadata": {},
     "output_type": "execute_result"
    }
   ],
   "source": [
    "df['StartTime'].value_counts(dropna=False)"
   ]
  },
  {
   "cell_type": "code",
   "execution_count": 81,
   "id": "4ac6e767-370d-436e-850b-6e857faf9c90",
   "metadata": {},
   "outputs": [
    {
     "data": {
      "text/plain": [
       "2019-04-11 22:01:00    0.02434\n",
       "2018-06-29 09:03:00    0.01770\n",
       "2017-03-01 16:30:00    0.01549\n",
       "2018-05-11 18:09:00    0.01549\n",
       "2016-08-17 01:01:00    0.01549\n",
       "                        ...   \n",
       "2020-03-07 02:45:00    0.00221\n",
       "2018-10-08 02:06:00    0.00221\n",
       "2020-05-30 17:11:00    0.00221\n",
       "2016-05-06 03:16:00    0.00221\n",
       "2018-04-02 18:22:00    0.00221\n",
       "Name: StartTime, Length: 132, dtype: object"
      ]
     },
     "execution_count": 81,
     "metadata": {},
     "output_type": "execute_result"
    }
   ],
   "source": [
    "df['StartTime'].value_counts(dropna=False, normalize=True).apply(lambda x: '%.5f' % x)"
   ]
  },
  {
   "cell_type": "code",
   "execution_count": 82,
   "id": "8c680cdb-3f41-4a73-8b10-4776353d0458",
   "metadata": {},
   "outputs": [],
   "source": [
    "df['StartTime_YEAR']  = df['StartTime'].apply(get_year)\n",
    "df['StartTime_MONTH'] = df['StartTime'].apply(get_month)\n",
    "df['StartTime_DAY']   = df['StartTime'].apply(get_day)"
   ]
  },
  {
   "cell_type": "code",
   "execution_count": 83,
   "id": "86fd002c-c378-4cdb-9427-2399e9a30878",
   "metadata": {},
   "outputs": [
    {
     "data": {
      "text/plain": [
       "0      2018\n",
       "1      2018\n",
       "2      2018\n",
       "3      2018\n",
       "4      2018\n",
       "       ... \n",
       "447    2017\n",
       "448    2017\n",
       "449    2017\n",
       "450    2017\n",
       "451    2017\n",
       "Name: StartTime_YEAR, Length: 452, dtype: int64"
      ]
     },
     "execution_count": 83,
     "metadata": {},
     "output_type": "execute_result"
    }
   ],
   "source": [
    "df['StartTime_YEAR'] "
   ]
  },
  {
   "cell_type": "code",
   "execution_count": 84,
   "id": "ca4198d2-cee5-4a89-a9a3-2dda42177b71",
   "metadata": {},
   "outputs": [
    {
     "data": {
      "text/plain": [
       "2018    160\n",
       "2017    127\n",
       "2016     74\n",
       "2019     72\n",
       "2020     19\n",
       "Name: StartTime_YEAR, dtype: int64"
      ]
     },
     "execution_count": 84,
     "metadata": {},
     "output_type": "execute_result"
    }
   ],
   "source": [
    "df['StartTime_YEAR'].value_counts(dropna=False)"
   ]
  },
  {
   "cell_type": "code",
   "execution_count": 85,
   "id": "a672cda6-f45e-4ca3-acd0-3983018e26c3",
   "metadata": {},
   "outputs": [
    {
     "data": {
      "text/plain": [
       "2018    0.35398\n",
       "2017    0.28097\n",
       "2016    0.16372\n",
       "2019    0.15929\n",
       "2020    0.04204\n",
       "Name: StartTime_YEAR, dtype: object"
      ]
     },
     "execution_count": 85,
     "metadata": {},
     "output_type": "execute_result"
    }
   ],
   "source": [
    "df['StartTime_YEAR'].value_counts(dropna=False, normalize=True).apply(lambda x: '%.5f' % x)"
   ]
  },
  {
   "cell_type": "code",
   "execution_count": 97,
   "id": "e3a4a50e-0f90-4bac-963b-2d1e0c8d622e",
   "metadata": {},
   "outputs": [
    {
     "data": {
      "image/png": "[encoded data removed]",
      "text/plain": [
       "<Figure size 720x360 with 1 Axes>"
      ]
     },
     "metadata": {
      "needs_background": "light"
     },
     "output_type": "display_data"
    }
   ],
   "source": [
    "df['StartTime_YEAR'].value_counts(dropna=False).plot(kind='bar',               \n",
    "                                                     title='StartTime_YEAR Proportion of Data',\n",
    "                                                     figsize=(10, 5));"
   ]
  },
  {
   "cell_type": "markdown",
   "id": "0dcf988d-cc0b-4aa9-843c-11023a9d4288",
   "metadata": {
    "jp-MarkdownHeadingCollapsed": true,
    "tags": []
   },
   "source": [
    "#### StopTime\n",
    "* NOTAM Analysis CSV equivalent seems to be `POSSIBLE_END_DATE`\n",
    "* Did not get parsed as dates.\n",
    "    * Parsed through custom fuction\n",
    "* All entries from 2016-2020\n",
    "* Includes chart"
   ]
  },
  {
   "cell_type": "code",
   "execution_count": 88,
   "id": "0b658c4f-6d33-4c94-9c87-bd13cebc1722",
   "metadata": {},
   "outputs": [],
   "source": [
    "df['StopTime'] = df['StopTime'].apply(convert_to_date)"
   ]
  },
  {
   "cell_type": "code",
   "execution_count": 89,
   "id": "aaf7b197-873a-44c6-af9c-ff50a6cf08cd",
   "metadata": {},
   "outputs": [
    {
     "data": {
      "text/plain": [
       "2016-08-17 01:30:00    18\n",
       "2017-05-01 13:54:00    12\n",
       "2016-08-19 06:23:00    11\n",
       "2019-07-25 22:33:00    10\n",
       "2017-10-12 01:46:00    10\n",
       "                       ..\n",
       "2018-05-12 01:09:00     1\n",
       "2019-04-11 23:30:00     1\n",
       "2017-03-01 19:30:00     1\n",
       "2017-03-01 21:00:00     1\n",
       "2017-06-06 23:00:00     1\n",
       "Name: StopTime, Length: 80, dtype: int64"
      ]
     },
     "execution_count": 89,
     "metadata": {},
     "output_type": "execute_result"
    }
   ],
   "source": [
    "df['StopTime'].value_counts(dropna=False)"
   ]
  },
  {
   "cell_type": "code",
   "execution_count": 91,
   "id": "d2c62be5-6339-4918-a43b-373200e27de2",
   "metadata": {},
   "outputs": [
    {
     "data": {
      "text/plain": [
       "2016-08-17 01:30:00    0.03982\n",
       "2017-05-01 13:54:00    0.02655\n",
       "2016-08-19 06:23:00    0.02434\n",
       "2019-07-25 22:33:00    0.02212\n",
       "2017-10-12 01:46:00    0.02212\n",
       "                        ...   \n",
       "2018-05-12 01:09:00    0.00221\n",
       "2019-04-11 23:30:00    0.00221\n",
       "2017-03-01 19:30:00    0.00221\n",
       "2017-03-01 21:00:00    0.00221\n",
       "2017-06-06 23:00:00    0.00221\n",
       "Name: StopTime, Length: 80, dtype: object"
      ]
     },
     "execution_count": 91,
     "metadata": {},
     "output_type": "execute_result"
    }
   ],
   "source": [
    "df['StopTime'].value_counts(dropna=False, normalize=True).apply(lambda x: '%.5f' % x)"
   ]
  },
  {
   "cell_type": "code",
   "execution_count": 92,
   "id": "c6829d90-1371-4d5d-b308-53322681893f",
   "metadata": {},
   "outputs": [],
   "source": [
    "df['StopTime_YEAR']  = df['StopTime'].apply(get_year)\n",
    "df['StopTime_MONTH'] = df['StopTime'].apply(get_month)\n",
    "df['StopTime_DAY']   = df['StopTime'].apply(get_day)"
   ]
  },
  {
   "cell_type": "code",
   "execution_count": 93,
   "id": "ebd2940f-2672-4665-bb51-97326dd1e720",
   "metadata": {},
   "outputs": [
    {
     "data": {
      "text/plain": [
       "0      2018\n",
       "1      2018\n",
       "2      2018\n",
       "3      2018\n",
       "4      2018\n",
       "       ... \n",
       "447    2017\n",
       "448    2017\n",
       "449    2017\n",
       "450    2017\n",
       "451    2017\n",
       "Name: StopTime_YEAR, Length: 452, dtype: int64"
      ]
     },
     "execution_count": 93,
     "metadata": {},
     "output_type": "execute_result"
    }
   ],
   "source": [
    "df['StopTime_YEAR'] "
   ]
  },
  {
   "cell_type": "code",
   "execution_count": 94,
   "id": "22aa9aa3-e7a0-466f-a36a-369a7d410a86",
   "metadata": {},
   "outputs": [
    {
     "data": {
      "text/plain": [
       "2018    160\n",
       "2017    127\n",
       "2016     74\n",
       "2019     72\n",
       "2020     19\n",
       "Name: StopTime_YEAR, dtype: int64"
      ]
     },
     "execution_count": 94,
     "metadata": {},
     "output_type": "execute_result"
    }
   ],
   "source": [
    "df['StopTime_YEAR'].value_counts(dropna=False)"
   ]
  },
  {
   "cell_type": "code",
   "execution_count": 95,
   "id": "3d4e7445-71dc-499e-b208-d94f6db2bb95",
   "metadata": {},
   "outputs": [
    {
     "data": {
      "text/plain": [
       "2018    0.35398\n",
       "2017    0.28097\n",
       "2016    0.16372\n",
       "2019    0.15929\n",
       "2020    0.04204\n",
       "Name: StopTime_YEAR, dtype: object"
      ]
     },
     "execution_count": 95,
     "metadata": {},
     "output_type": "execute_result"
    }
   ],
   "source": [
    "df['StopTime_YEAR'].value_counts(dropna=False, normalize=True).apply(lambda x: '%.5f' % x)"
   ]
  },
  {
   "cell_type": "code",
   "execution_count": 98,
   "id": "849a7c6c-0887-4652-bcba-930be3323293",
   "metadata": {},
   "outputs": [
    {
     "data": {
      "image/png": "[encoded data removed]",
      "text/plain": [
       "<Figure size 720x360 with 1 Axes>"
      ]
     },
     "metadata": {
      "needs_background": "light"
     },
     "output_type": "display_data"
    }
   ],
   "source": [
    "df['StopTime_YEAR'].value_counts(dropna=False).plot(kind='bar',               \n",
    "                                                    title='StopTime_YEAR Proportion of Data',\n",
    "                                                    figsize=(10, 5));"
   ]
  },
  {
   "cell_type": "markdown",
   "id": "ea87cf56-9e33-4a18-8346-c2319b80213d",
   "metadata": {
    "jp-MarkdownHeadingCollapsed": true,
    "tags": []
   },
   "source": [
    "#### ADDED: POSSIBLE_DURATION\n",
    "* All but one duration are in minutes\n",
    "* One duratoin lasted for over 97 days\n",
    "    * Could be an anomally?\n",
    "* Some repeats\n",
    "* No entry accounts for more than 4% of the data"
   ]
  },
  {
   "cell_type": "code",
   "execution_count": 99,
   "id": "39383ad0-7c67-4c01-9e04-42004e490c99",
   "metadata": {},
   "outputs": [],
   "source": [
    "df['POSSIBLE_DURATION'] = df['StopTime'] - df['StartTime']"
   ]
  },
  {
   "cell_type": "code",
   "execution_count": 100,
   "id": "022c112d-672c-4230-be20-93bf8fea55e2",
   "metadata": {},
   "outputs": [
    {
     "data": {
      "text/plain": [
       "0      0 days 02:46:00\n",
       "1      0 days 01:16:00\n",
       "2      0 days 01:16:00\n",
       "3      0 days 01:16:00\n",
       "4      0 days 01:16:00\n",
       "            ...       \n",
       "447    0 days 06:45:00\n",
       "448    0 days 07:00:00\n",
       "449    0 days 07:00:00\n",
       "450    0 days 07:00:00\n",
       "451   97 days 06:30:00\n",
       "Name: POSSIBLE_DURATION, Length: 452, dtype: timedelta64[ns]"
      ]
     },
     "execution_count": 100,
     "metadata": {},
     "output_type": "execute_result"
    }
   ],
   "source": [
    "df['POSSIBLE_DURATION'] "
   ]
  },
  {
   "cell_type": "code",
   "execution_count": 101,
   "id": "1016eb41-e477-47e5-bebb-aef33e7768ff",
   "metadata": {},
   "outputs": [
    {
     "data": {
      "text/plain": [
       "0 days 01:10:00     17\n",
       "0 days 03:02:00     16\n",
       "0 days 05:27:00     14\n",
       "0 days 01:45:00     13\n",
       "0 days 02:40:00     12\n",
       "                    ..\n",
       "0 days 02:41:00      1\n",
       "0 days 01:29:00      1\n",
       "0 days 04:01:00      1\n",
       "0 days 03:14:00      1\n",
       "97 days 06:30:00     1\n",
       "Name: POSSIBLE_DURATION, Length: 115, dtype: int64"
      ]
     },
     "execution_count": 101,
     "metadata": {},
     "output_type": "execute_result"
    }
   ],
   "source": [
    "df['POSSIBLE_DURATION'].value_counts(dropna=False)"
   ]
  },
  {
   "cell_type": "code",
   "execution_count": 102,
   "id": "ff6d0017-8d7d-4b9e-96cf-fbe64439ab26",
   "metadata": {},
   "outputs": [
    {
     "data": {
      "text/plain": [
       "0 days 01:10:00     0.03761\n",
       "0 days 03:02:00     0.03540\n",
       "0 days 05:27:00     0.03097\n",
       "0 days 01:45:00     0.02876\n",
       "0 days 02:40:00     0.02655\n",
       "                     ...   \n",
       "0 days 02:41:00     0.00221\n",
       "0 days 01:29:00     0.00221\n",
       "0 days 04:01:00     0.00221\n",
       "0 days 03:14:00     0.00221\n",
       "97 days 06:30:00    0.00221\n",
       "Name: POSSIBLE_DURATION, Length: 115, dtype: object"
      ]
     },
     "execution_count": 102,
     "metadata": {},
     "output_type": "execute_result"
    }
   ],
   "source": [
    "df['POSSIBLE_DURATION'].value_counts(dropna=False, normalize=True).apply(lambda x: '%.5f' % x)"
   ]
  },
  {
   "cell_type": "markdown",
   "id": "82885153-1e74-449e-a193-4ab3d651203b",
   "metadata": {},
   "source": [
    "#### E_CODE\n",
    "* NOTAM Analysis CSV equivalent is to be `E_CODE`\n",
    "* `W497A ACT` represents 16% of the data\n",
    "* A few other categories represent >1% of the data\n",
    "* Includes chart"
   ]
  },
  {
   "cell_type": "code",
   "execution_count": 103,
   "id": "594287c1-b9ef-46c3-b4d9-3aafb7c8b970",
   "metadata": {},
   "outputs": [
    {
     "data": {
      "text/plain": [
       "0                                 WARNING AREA W497A ACT\n",
       "1      FL..AIRSPACE CAPE CANAVERAL FL..TEMPORARY FLT ...\n",
       "2      FL..AIRSPACE CAPE CANAVERAL FL..TEMPORARY FLT ...\n",
       "3      CAPE CANAVERAL FL..TEMPORARY FLT  RESTRICTION....\n",
       "4      TEMPORARY FLT RESTRICTION.  PURSUANT TO 14 CFR...\n",
       "                             ...                        \n",
       "447    STNR ALT RESERVATION BASS WI AN AREA DEFINED A...\n",
       "448    LGR58 (KOTRONI 2) AIP GREECE ENR 5.1-5 REF. PE...\n",
       "449    LGR58 (KOTRONI 1) AIP GREECE ENR 5.1-5 REF. PE...\n",
       "450    LGR59 (MANTILI) AIP GREECE ENR 5.1-5 REF. PERI...\n",
       "451                                VOR BDT 114.9MHZ U/S \n",
       "Name: E_CODE, Length: 452, dtype: object"
      ]
     },
     "execution_count": 103,
     "metadata": {},
     "output_type": "execute_result"
    }
   ],
   "source": [
    "df['E_CODE']"
   ]
  },
  {
   "cell_type": "code",
   "execution_count": 104,
   "id": "17aeb00d-ae3d-4496-8075-1bd548da26ec",
   "metadata": {},
   "outputs": [
    {
     "data": {
      "text/plain": [
       "W497A ACT                                                                                        74\n",
       "AIRSPACE R2934 ACT SFC-UNL                                                                       31\n",
       "AIRSPACE R2933 ACT 5000FT-UNL                                                                    29\n",
       "FL..AIRSPACE CAPE CANAVERAL FL..TEMPORARY FLT  RESTRICTION. PURSUANT TO 14 CFR SECTION 91.143    23\n",
       "FL..AIRSPACE KENNEDY SPACE CENTER                                                                21\n",
       "                                                                                                 ..\n",
       "KENNEDY SPACE CENTER SPACE OPERATIONS  AREA                                                       1\n",
       "KENNEDY SPACE CENTER SPACE OPERATIONS AREA                                                        1\n",
       "FL..AIRSPACE KENNEDY SPACE CENTER SPACE OPERATIONS AREA                                           1\n",
       "F..AIRSPACE KENNEDY SPACE CENTER SPACE OPERATIONS AREA                                            1\n",
       "VOR BDT 114.9MHZ U/S                                                                              1\n",
       "Name: E_CODE, Length: 152, dtype: int64"
      ]
     },
     "execution_count": 104,
     "metadata": {},
     "output_type": "execute_result"
    }
   ],
   "source": [
    "df['E_CODE'].value_counts(dropna=False)"
   ]
  },
  {
   "cell_type": "code",
   "execution_count": 105,
   "id": "bb7c5157-d0b7-45e7-81b2-648d265d5af1",
   "metadata": {},
   "outputs": [
    {
     "data": {
      "text/plain": [
       "W497A ACT                                                                                        0.16372\n",
       "AIRSPACE R2934 ACT SFC-UNL                                                                       0.06858\n",
       "AIRSPACE R2933 ACT 5000FT-UNL                                                                    0.06416\n",
       "FL..AIRSPACE CAPE CANAVERAL FL..TEMPORARY FLT  RESTRICTION. PURSUANT TO 14 CFR SECTION 91.143    0.05088\n",
       "FL..AIRSPACE KENNEDY SPACE CENTER                                                                0.04646\n",
       "                                                                                                  ...   \n",
       "KENNEDY SPACE CENTER SPACE OPERATIONS  AREA                                                      0.00221\n",
       "KENNEDY SPACE CENTER SPACE OPERATIONS AREA                                                       0.00221\n",
       "FL..AIRSPACE KENNEDY SPACE CENTER SPACE OPERATIONS AREA                                          0.00221\n",
       "F..AIRSPACE KENNEDY SPACE CENTER SPACE OPERATIONS AREA                                           0.00221\n",
       "VOR BDT 114.9MHZ U/S                                                                             0.00221\n",
       "Name: E_CODE, Length: 152, dtype: object"
      ]
     },
     "execution_count": 105,
     "metadata": {},
     "output_type": "execute_result"
    }
   ],
   "source": [
    "df['E_CODE'].value_counts(dropna=False, normalize=True).apply(lambda x: '%.5f' % x)"
   ]
  },
  {
   "cell_type": "code",
   "execution_count": 106,
   "id": "b25901e3-2dc2-4cf2-b268-7a78117abe0b",
   "metadata": {},
   "outputs": [
    {
     "data": {
      "image/png": "[encoded data removed]",
      "text/plain": [
       "<Figure size 720x360 with 1 Axes>"
      ]
     },
     "metadata": {
      "needs_background": "light"
     },
     "output_type": "display_data"
    }
   ],
   "source": [
    "df['E_CODE'].value_counts(dropna=False, normalize=True).nlargest(5).plot(kind='bar',            \n",
    "                                                                         title='E_CODE Top 5 Types Proportion of Data',           \n",
    "                                                                         figsize=(10, 5));"
   ]
  }
 ],
 "metadata": {
  "kernelspec": {
   "display_name": "Python 3 (ipykernel)",
   "language": "python",
   "name": "python3"
  },
  "language_info": {
   "codemirror_mode": {
    "name": "ipython",
    "version": 3
   },
   "file_extension": ".py",
   "mimetype": "text/x-python",
   "name": "python",
   "nbconvert_exporter": "python",
   "pygments_lexer": "ipython3",
   "version": "3.9.12"
  }
 },
 "nbformat": 4,
 "nbformat_minor": 5
}
